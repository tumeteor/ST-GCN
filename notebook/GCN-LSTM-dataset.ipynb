{
 "cells": [
  {
   "cell_type": "code",
   "execution_count": 170,
   "metadata": {},
   "outputs": [],
   "source": [
    "%reload_ext autoreload\n",
    "%autoreload 2"
   ]
  },
  {
   "cell_type": "code",
   "execution_count": 171,
   "metadata": {},
   "outputs": [],
   "source": [
    "import sys\n",
    "sys.path.append('../')"
   ]
  },
  {
   "cell_type": "code",
   "execution_count": 172,
   "metadata": {},
   "outputs": [],
   "source": [
    "TOTAL_T_STEPS = 144"
   ]
  },
  {
   "cell_type": "markdown",
   "metadata": {},
   "source": [
    "## Get Jurbey Sub-Graph"
   ]
  },
  {
   "cell_type": "code",
   "execution_count": 173,
   "metadata": {},
   "outputs": [],
   "source": [
    "from src.graph_utils import partition_graph_by_lonlat\n",
    "from jurbey.jurbey import JURBEY\n",
    "\n",
    "with open(\"../data/1556798416403.jurbey\", 'rb') as tempf:\n",
    "    g = JURBEY.load(tempf.read())\n",
    "g_partition = partition_graph_by_lonlat(g)"
   ]
  },
  {
   "cell_type": "markdown",
   "metadata": {},
   "source": [
    "## Build a dataframe with all time and static features"
   ]
  },
  {
   "cell_type": "code",
   "execution_count": 174,
   "metadata": {},
   "outputs": [],
   "source": [
    "import pandas"
   ]
  },
  {
   "cell_type": "code",
   "execution_count": 175,
   "metadata": {},
   "outputs": [],
   "source": [
    "df = pandas.read_csv(\"../data/timeseries_speed_april_first_week.csv\")\n",
    "df = df.drop(columns=[\"Unnamed: 0\"])"
   ]
  },
  {
   "cell_type": "code",
   "execution_count": 176,
   "metadata": {},
   "outputs": [
    {
     "data": {
      "text/html": [
       "<div>\n",
       "<style scoped>\n",
       "    .dataframe tbody tr th:only-of-type {\n",
       "        vertical-align: middle;\n",
       "    }\n",
       "\n",
       "    .dataframe tbody tr th {\n",
       "        vertical-align: top;\n",
       "    }\n",
       "\n",
       "    .dataframe thead th {\n",
       "        text-align: right;\n",
       "    }\n",
       "</style>\n",
       "<table border=\"1\" class=\"dataframe\">\n",
       "  <thead>\n",
       "    <tr style=\"text-align: right;\">\n",
       "      <th></th>\n",
       "      <th>0</th>\n",
       "      <th>1</th>\n",
       "      <th>2</th>\n",
       "      <th>3</th>\n",
       "      <th>4</th>\n",
       "      <th>5</th>\n",
       "      <th>6</th>\n",
       "      <th>7</th>\n",
       "      <th>8</th>\n",
       "      <th>9</th>\n",
       "      <th>...</th>\n",
       "      <th>136</th>\n",
       "      <th>137</th>\n",
       "      <th>138</th>\n",
       "      <th>139</th>\n",
       "      <th>140</th>\n",
       "      <th>141</th>\n",
       "      <th>142</th>\n",
       "      <th>143</th>\n",
       "      <th>from_node</th>\n",
       "      <th>to_node</th>\n",
       "    </tr>\n",
       "  </thead>\n",
       "  <tbody>\n",
       "    <tr>\n",
       "      <th>0</th>\n",
       "      <td>NaN</td>\n",
       "      <td>NaN</td>\n",
       "      <td>NaN</td>\n",
       "      <td>10.854457</td>\n",
       "      <td>NaN</td>\n",
       "      <td>5.680978</td>\n",
       "      <td>7.036838</td>\n",
       "      <td>1.499997</td>\n",
       "      <td>10.088634</td>\n",
       "      <td>10.587459</td>\n",
       "      <td>...</td>\n",
       "      <td>10.581123</td>\n",
       "      <td>NaN</td>\n",
       "      <td>NaN</td>\n",
       "      <td>NaN</td>\n",
       "      <td>NaN</td>\n",
       "      <td>NaN</td>\n",
       "      <td>10.850843</td>\n",
       "      <td>10.036408</td>\n",
       "      <td>628154368</td>\n",
       "      <td>1023689595</td>\n",
       "    </tr>\n",
       "    <tr>\n",
       "      <th>1</th>\n",
       "      <td>NaN</td>\n",
       "      <td>NaN</td>\n",
       "      <td>NaN</td>\n",
       "      <td>10.854457</td>\n",
       "      <td>NaN</td>\n",
       "      <td>5.680978</td>\n",
       "      <td>7.036838</td>\n",
       "      <td>1.499997</td>\n",
       "      <td>10.088634</td>\n",
       "      <td>10.587459</td>\n",
       "      <td>...</td>\n",
       "      <td>10.581123</td>\n",
       "      <td>NaN</td>\n",
       "      <td>NaN</td>\n",
       "      <td>NaN</td>\n",
       "      <td>NaN</td>\n",
       "      <td>NaN</td>\n",
       "      <td>10.850843</td>\n",
       "      <td>10.036408</td>\n",
       "      <td>628154368</td>\n",
       "      <td>1023689595</td>\n",
       "    </tr>\n",
       "    <tr>\n",
       "      <th>2</th>\n",
       "      <td>NaN</td>\n",
       "      <td>NaN</td>\n",
       "      <td>NaN</td>\n",
       "      <td>NaN</td>\n",
       "      <td>NaN</td>\n",
       "      <td>10.486210</td>\n",
       "      <td>NaN</td>\n",
       "      <td>NaN</td>\n",
       "      <td>10.937218</td>\n",
       "      <td>NaN</td>\n",
       "      <td>...</td>\n",
       "      <td>NaN</td>\n",
       "      <td>NaN</td>\n",
       "      <td>NaN</td>\n",
       "      <td>NaN</td>\n",
       "      <td>NaN</td>\n",
       "      <td>NaN</td>\n",
       "      <td>NaN</td>\n",
       "      <td>NaN</td>\n",
       "      <td>527147009</td>\n",
       "      <td>27537239</td>\n",
       "    </tr>\n",
       "    <tr>\n",
       "      <th>3</th>\n",
       "      <td>NaN</td>\n",
       "      <td>NaN</td>\n",
       "      <td>NaN</td>\n",
       "      <td>NaN</td>\n",
       "      <td>NaN</td>\n",
       "      <td>NaN</td>\n",
       "      <td>NaN</td>\n",
       "      <td>NaN</td>\n",
       "      <td>NaN</td>\n",
       "      <td>NaN</td>\n",
       "      <td>...</td>\n",
       "      <td>NaN</td>\n",
       "      <td>NaN</td>\n",
       "      <td>NaN</td>\n",
       "      <td>NaN</td>\n",
       "      <td>NaN</td>\n",
       "      <td>NaN</td>\n",
       "      <td>NaN</td>\n",
       "      <td>NaN</td>\n",
       "      <td>527147009</td>\n",
       "      <td>26908815</td>\n",
       "    </tr>\n",
       "    <tr>\n",
       "      <th>4</th>\n",
       "      <td>NaN</td>\n",
       "      <td>NaN</td>\n",
       "      <td>NaN</td>\n",
       "      <td>10.468811</td>\n",
       "      <td>10.636621</td>\n",
       "      <td>10.288534</td>\n",
       "      <td>10.617513</td>\n",
       "      <td>1.758539</td>\n",
       "      <td>3.404401</td>\n",
       "      <td>10.224568</td>\n",
       "      <td>...</td>\n",
       "      <td>6.098767</td>\n",
       "      <td>10.257657</td>\n",
       "      <td>10.586166</td>\n",
       "      <td>NaN</td>\n",
       "      <td>10.669476</td>\n",
       "      <td>4.313417</td>\n",
       "      <td>10.392901</td>\n",
       "      <td>10.518310</td>\n",
       "      <td>628154370</td>\n",
       "      <td>3804638178</td>\n",
       "    </tr>\n",
       "  </tbody>\n",
       "</table>\n",
       "<p>5 rows × 146 columns</p>\n",
       "</div>"
      ],
      "text/plain": [
       "    0   1   2          3          4          5          6         7  \\\n",
       "0 NaN NaN NaN  10.854457        NaN   5.680978   7.036838  1.499997   \n",
       "1 NaN NaN NaN  10.854457        NaN   5.680978   7.036838  1.499997   \n",
       "2 NaN NaN NaN        NaN        NaN  10.486210        NaN       NaN   \n",
       "3 NaN NaN NaN        NaN        NaN        NaN        NaN       NaN   \n",
       "4 NaN NaN NaN  10.468811  10.636621  10.288534  10.617513  1.758539   \n",
       "\n",
       "           8          9  ...        136        137        138  139        140  \\\n",
       "0  10.088634  10.587459  ...  10.581123        NaN        NaN  NaN        NaN   \n",
       "1  10.088634  10.587459  ...  10.581123        NaN        NaN  NaN        NaN   \n",
       "2  10.937218        NaN  ...        NaN        NaN        NaN  NaN        NaN   \n",
       "3        NaN        NaN  ...        NaN        NaN        NaN  NaN        NaN   \n",
       "4   3.404401  10.224568  ...   6.098767  10.257657  10.586166  NaN  10.669476   \n",
       "\n",
       "        141        142        143  from_node     to_node  \n",
       "0       NaN  10.850843  10.036408  628154368  1023689595  \n",
       "1       NaN  10.850843  10.036408  628154368  1023689595  \n",
       "2       NaN        NaN        NaN  527147009    27537239  \n",
       "3       NaN        NaN        NaN  527147009    26908815  \n",
       "4  4.313417  10.392901  10.518310  628154370  3804638178  \n",
       "\n",
       "[5 rows x 146 columns]"
      ]
     },
     "execution_count": 176,
     "metadata": {},
     "output_type": "execute_result"
    }
   ],
   "source": [
    "df.head()"
   ]
  },
  {
   "cell_type": "markdown",
   "metadata": {},
   "source": [
    "### Let's add more columns for static features"
   ]
  },
  {
   "cell_type": "code",
   "execution_count": 177,
   "metadata": {},
   "outputs": [],
   "source": [
    "import math\n",
    "def get_static_features(row):\n",
    "    arc = g_partition[row['from_node']][row['to_node']]\n",
    "    return (\n",
    "        arc['data'].metadata['highway'],\n",
    "        arc['data'].metadata.get('surface', None),\n",
    "        arc['data'].roadClass.name,\n",
    "        arc['data'].metadata.get('maxspeed', math.nan),\n",
    "        arc['data'].metadata.get('lanes', '1')\n",
    "    )"
   ]
  },
  {
   "cell_type": "code",
   "execution_count": 178,
   "metadata": {},
   "outputs": [],
   "source": [
    "df[\"highway\"], df[\"surface\"], df[\"roadClass\"], df[\"maxspeed\"], df[\"lines\"] = zip(*df.apply(get_static_features, axis=1))"
   ]
  },
  {
   "cell_type": "code",
   "execution_count": 179,
   "metadata": {},
   "outputs": [
    {
     "data": {
      "text/html": [
       "<div>\n",
       "<style scoped>\n",
       "    .dataframe tbody tr th:only-of-type {\n",
       "        vertical-align: middle;\n",
       "    }\n",
       "\n",
       "    .dataframe tbody tr th {\n",
       "        vertical-align: top;\n",
       "    }\n",
       "\n",
       "    .dataframe thead th {\n",
       "        text-align: right;\n",
       "    }\n",
       "</style>\n",
       "<table border=\"1\" class=\"dataframe\">\n",
       "  <thead>\n",
       "    <tr style=\"text-align: right;\">\n",
       "      <th></th>\n",
       "      <th>0</th>\n",
       "      <th>1</th>\n",
       "      <th>2</th>\n",
       "      <th>3</th>\n",
       "      <th>4</th>\n",
       "      <th>5</th>\n",
       "      <th>6</th>\n",
       "      <th>7</th>\n",
       "      <th>8</th>\n",
       "      <th>9</th>\n",
       "      <th>...</th>\n",
       "      <th>141</th>\n",
       "      <th>142</th>\n",
       "      <th>143</th>\n",
       "      <th>from_node</th>\n",
       "      <th>to_node</th>\n",
       "      <th>highway</th>\n",
       "      <th>surface</th>\n",
       "      <th>roadClass</th>\n",
       "      <th>maxspeed</th>\n",
       "      <th>lines</th>\n",
       "    </tr>\n",
       "  </thead>\n",
       "  <tbody>\n",
       "    <tr>\n",
       "      <th>0</th>\n",
       "      <td>NaN</td>\n",
       "      <td>NaN</td>\n",
       "      <td>NaN</td>\n",
       "      <td>10.854457</td>\n",
       "      <td>NaN</td>\n",
       "      <td>5.680978</td>\n",
       "      <td>7.036838</td>\n",
       "      <td>1.499997</td>\n",
       "      <td>10.088634</td>\n",
       "      <td>10.587459</td>\n",
       "      <td>...</td>\n",
       "      <td>NaN</td>\n",
       "      <td>10.850843</td>\n",
       "      <td>10.036408</td>\n",
       "      <td>628154368</td>\n",
       "      <td>1023689595</td>\n",
       "      <td>primary</td>\n",
       "      <td>asphalt</td>\n",
       "      <td>MajorRoad</td>\n",
       "      <td>50</td>\n",
       "      <td>4</td>\n",
       "    </tr>\n",
       "    <tr>\n",
       "      <th>1</th>\n",
       "      <td>NaN</td>\n",
       "      <td>NaN</td>\n",
       "      <td>NaN</td>\n",
       "      <td>10.854457</td>\n",
       "      <td>NaN</td>\n",
       "      <td>5.680978</td>\n",
       "      <td>7.036838</td>\n",
       "      <td>1.499997</td>\n",
       "      <td>10.088634</td>\n",
       "      <td>10.587459</td>\n",
       "      <td>...</td>\n",
       "      <td>NaN</td>\n",
       "      <td>10.850843</td>\n",
       "      <td>10.036408</td>\n",
       "      <td>628154368</td>\n",
       "      <td>1023689595</td>\n",
       "      <td>primary</td>\n",
       "      <td>asphalt</td>\n",
       "      <td>MajorRoad</td>\n",
       "      <td>50</td>\n",
       "      <td>4</td>\n",
       "    </tr>\n",
       "    <tr>\n",
       "      <th>2</th>\n",
       "      <td>NaN</td>\n",
       "      <td>NaN</td>\n",
       "      <td>NaN</td>\n",
       "      <td>NaN</td>\n",
       "      <td>NaN</td>\n",
       "      <td>10.486210</td>\n",
       "      <td>NaN</td>\n",
       "      <td>NaN</td>\n",
       "      <td>10.937218</td>\n",
       "      <td>NaN</td>\n",
       "      <td>...</td>\n",
       "      <td>NaN</td>\n",
       "      <td>NaN</td>\n",
       "      <td>NaN</td>\n",
       "      <td>527147009</td>\n",
       "      <td>27537239</td>\n",
       "      <td>tertiary</td>\n",
       "      <td>asphalt</td>\n",
       "      <td>LocalRoad</td>\n",
       "      <td>50</td>\n",
       "      <td>1</td>\n",
       "    </tr>\n",
       "    <tr>\n",
       "      <th>3</th>\n",
       "      <td>NaN</td>\n",
       "      <td>NaN</td>\n",
       "      <td>NaN</td>\n",
       "      <td>NaN</td>\n",
       "      <td>NaN</td>\n",
       "      <td>NaN</td>\n",
       "      <td>NaN</td>\n",
       "      <td>NaN</td>\n",
       "      <td>NaN</td>\n",
       "      <td>NaN</td>\n",
       "      <td>...</td>\n",
       "      <td>NaN</td>\n",
       "      <td>NaN</td>\n",
       "      <td>NaN</td>\n",
       "      <td>527147009</td>\n",
       "      <td>26908815</td>\n",
       "      <td>tertiary</td>\n",
       "      <td>asphalt</td>\n",
       "      <td>LocalRoad</td>\n",
       "      <td>50</td>\n",
       "      <td>1</td>\n",
       "    </tr>\n",
       "    <tr>\n",
       "      <th>4</th>\n",
       "      <td>NaN</td>\n",
       "      <td>NaN</td>\n",
       "      <td>NaN</td>\n",
       "      <td>10.468811</td>\n",
       "      <td>10.636621</td>\n",
       "      <td>10.288534</td>\n",
       "      <td>10.617513</td>\n",
       "      <td>1.758539</td>\n",
       "      <td>3.404401</td>\n",
       "      <td>10.224568</td>\n",
       "      <td>...</td>\n",
       "      <td>4.313417</td>\n",
       "      <td>10.392901</td>\n",
       "      <td>10.518310</td>\n",
       "      <td>628154370</td>\n",
       "      <td>3804638178</td>\n",
       "      <td>primary</td>\n",
       "      <td>asphalt</td>\n",
       "      <td>MajorRoad</td>\n",
       "      <td>50</td>\n",
       "      <td>4</td>\n",
       "    </tr>\n",
       "  </tbody>\n",
       "</table>\n",
       "<p>5 rows × 151 columns</p>\n",
       "</div>"
      ],
      "text/plain": [
       "    0   1   2          3          4          5          6         7  \\\n",
       "0 NaN NaN NaN  10.854457        NaN   5.680978   7.036838  1.499997   \n",
       "1 NaN NaN NaN  10.854457        NaN   5.680978   7.036838  1.499997   \n",
       "2 NaN NaN NaN        NaN        NaN  10.486210        NaN       NaN   \n",
       "3 NaN NaN NaN        NaN        NaN        NaN        NaN       NaN   \n",
       "4 NaN NaN NaN  10.468811  10.636621  10.288534  10.617513  1.758539   \n",
       "\n",
       "           8          9  ...       141        142        143  from_node  \\\n",
       "0  10.088634  10.587459  ...       NaN  10.850843  10.036408  628154368   \n",
       "1  10.088634  10.587459  ...       NaN  10.850843  10.036408  628154368   \n",
       "2  10.937218        NaN  ...       NaN        NaN        NaN  527147009   \n",
       "3        NaN        NaN  ...       NaN        NaN        NaN  527147009   \n",
       "4   3.404401  10.224568  ...  4.313417  10.392901  10.518310  628154370   \n",
       "\n",
       "      to_node   highway  surface  roadClass  maxspeed  lines  \n",
       "0  1023689595   primary  asphalt  MajorRoad        50      4  \n",
       "1  1023689595   primary  asphalt  MajorRoad        50      4  \n",
       "2    27537239  tertiary  asphalt  LocalRoad        50      1  \n",
       "3    26908815  tertiary  asphalt  LocalRoad        50      1  \n",
       "4  3804638178   primary  asphalt  MajorRoad        50      4  \n",
       "\n",
       "[5 rows x 151 columns]"
      ]
     },
     "execution_count": 179,
     "metadata": {},
     "output_type": "execute_result"
    }
   ],
   "source": [
    "df.head()"
   ]
  },
  {
   "cell_type": "code",
   "execution_count": 180,
   "metadata": {},
   "outputs": [],
   "source": [
    "df_dummies = pandas.get_dummies(df, columns=[\"surface\", \"maxspeed\"], dummy_na=True)\n",
    "df_dummies = pandas.get_dummies(df_dummies, columns=[\"highway\", \"roadClass\", \"lines\"], dummy_na=False)"
   ]
  },
  {
   "cell_type": "code",
   "execution_count": 181,
   "metadata": {},
   "outputs": [
    {
     "data": {
      "text/html": [
       "<div>\n",
       "<style scoped>\n",
       "    .dataframe tbody tr th:only-of-type {\n",
       "        vertical-align: middle;\n",
       "    }\n",
       "\n",
       "    .dataframe tbody tr th {\n",
       "        vertical-align: top;\n",
       "    }\n",
       "\n",
       "    .dataframe thead th {\n",
       "        text-align: right;\n",
       "    }\n",
       "</style>\n",
       "<table border=\"1\" class=\"dataframe\">\n",
       "  <thead>\n",
       "    <tr style=\"text-align: right;\">\n",
       "      <th></th>\n",
       "      <th>0</th>\n",
       "      <th>1</th>\n",
       "      <th>2</th>\n",
       "      <th>3</th>\n",
       "      <th>4</th>\n",
       "      <th>5</th>\n",
       "      <th>6</th>\n",
       "      <th>7</th>\n",
       "      <th>8</th>\n",
       "      <th>9</th>\n",
       "      <th>...</th>\n",
       "      <th>highway_tertiary_link</th>\n",
       "      <th>highway_unclassified</th>\n",
       "      <th>roadClass_DirtRoad</th>\n",
       "      <th>roadClass_LocalRoad</th>\n",
       "      <th>roadClass_MajorRoad</th>\n",
       "      <th>lines_1</th>\n",
       "      <th>lines_2</th>\n",
       "      <th>lines_3</th>\n",
       "      <th>lines_4</th>\n",
       "      <th>lines_5</th>\n",
       "    </tr>\n",
       "  </thead>\n",
       "  <tbody>\n",
       "    <tr>\n",
       "      <th>0</th>\n",
       "      <td>NaN</td>\n",
       "      <td>NaN</td>\n",
       "      <td>NaN</td>\n",
       "      <td>10.854457</td>\n",
       "      <td>NaN</td>\n",
       "      <td>5.680978</td>\n",
       "      <td>7.036838</td>\n",
       "      <td>1.499997</td>\n",
       "      <td>10.088634</td>\n",
       "      <td>10.587459</td>\n",
       "      <td>...</td>\n",
       "      <td>0</td>\n",
       "      <td>0</td>\n",
       "      <td>0</td>\n",
       "      <td>0</td>\n",
       "      <td>1</td>\n",
       "      <td>0</td>\n",
       "      <td>0</td>\n",
       "      <td>0</td>\n",
       "      <td>1</td>\n",
       "      <td>0</td>\n",
       "    </tr>\n",
       "    <tr>\n",
       "      <th>1</th>\n",
       "      <td>NaN</td>\n",
       "      <td>NaN</td>\n",
       "      <td>NaN</td>\n",
       "      <td>10.854457</td>\n",
       "      <td>NaN</td>\n",
       "      <td>5.680978</td>\n",
       "      <td>7.036838</td>\n",
       "      <td>1.499997</td>\n",
       "      <td>10.088634</td>\n",
       "      <td>10.587459</td>\n",
       "      <td>...</td>\n",
       "      <td>0</td>\n",
       "      <td>0</td>\n",
       "      <td>0</td>\n",
       "      <td>0</td>\n",
       "      <td>1</td>\n",
       "      <td>0</td>\n",
       "      <td>0</td>\n",
       "      <td>0</td>\n",
       "      <td>1</td>\n",
       "      <td>0</td>\n",
       "    </tr>\n",
       "    <tr>\n",
       "      <th>2</th>\n",
       "      <td>NaN</td>\n",
       "      <td>NaN</td>\n",
       "      <td>NaN</td>\n",
       "      <td>NaN</td>\n",
       "      <td>NaN</td>\n",
       "      <td>10.486210</td>\n",
       "      <td>NaN</td>\n",
       "      <td>NaN</td>\n",
       "      <td>10.937218</td>\n",
       "      <td>NaN</td>\n",
       "      <td>...</td>\n",
       "      <td>0</td>\n",
       "      <td>0</td>\n",
       "      <td>0</td>\n",
       "      <td>1</td>\n",
       "      <td>0</td>\n",
       "      <td>1</td>\n",
       "      <td>0</td>\n",
       "      <td>0</td>\n",
       "      <td>0</td>\n",
       "      <td>0</td>\n",
       "    </tr>\n",
       "    <tr>\n",
       "      <th>3</th>\n",
       "      <td>NaN</td>\n",
       "      <td>NaN</td>\n",
       "      <td>NaN</td>\n",
       "      <td>NaN</td>\n",
       "      <td>NaN</td>\n",
       "      <td>NaN</td>\n",
       "      <td>NaN</td>\n",
       "      <td>NaN</td>\n",
       "      <td>NaN</td>\n",
       "      <td>NaN</td>\n",
       "      <td>...</td>\n",
       "      <td>0</td>\n",
       "      <td>0</td>\n",
       "      <td>0</td>\n",
       "      <td>1</td>\n",
       "      <td>0</td>\n",
       "      <td>1</td>\n",
       "      <td>0</td>\n",
       "      <td>0</td>\n",
       "      <td>0</td>\n",
       "      <td>0</td>\n",
       "    </tr>\n",
       "    <tr>\n",
       "      <th>4</th>\n",
       "      <td>NaN</td>\n",
       "      <td>NaN</td>\n",
       "      <td>NaN</td>\n",
       "      <td>10.468811</td>\n",
       "      <td>10.636621</td>\n",
       "      <td>10.288534</td>\n",
       "      <td>10.617513</td>\n",
       "      <td>1.758539</td>\n",
       "      <td>3.404401</td>\n",
       "      <td>10.224568</td>\n",
       "      <td>...</td>\n",
       "      <td>0</td>\n",
       "      <td>0</td>\n",
       "      <td>0</td>\n",
       "      <td>0</td>\n",
       "      <td>1</td>\n",
       "      <td>0</td>\n",
       "      <td>0</td>\n",
       "      <td>0</td>\n",
       "      <td>1</td>\n",
       "      <td>0</td>\n",
       "    </tr>\n",
       "  </tbody>\n",
       "</table>\n",
       "<p>5 rows × 182 columns</p>\n",
       "</div>"
      ],
      "text/plain": [
       "    0   1   2          3          4          5          6         7  \\\n",
       "0 NaN NaN NaN  10.854457        NaN   5.680978   7.036838  1.499997   \n",
       "1 NaN NaN NaN  10.854457        NaN   5.680978   7.036838  1.499997   \n",
       "2 NaN NaN NaN        NaN        NaN  10.486210        NaN       NaN   \n",
       "3 NaN NaN NaN        NaN        NaN        NaN        NaN       NaN   \n",
       "4 NaN NaN NaN  10.468811  10.636621  10.288534  10.617513  1.758539   \n",
       "\n",
       "           8          9  ...  highway_tertiary_link  highway_unclassified  \\\n",
       "0  10.088634  10.587459  ...                      0                     0   \n",
       "1  10.088634  10.587459  ...                      0                     0   \n",
       "2  10.937218        NaN  ...                      0                     0   \n",
       "3        NaN        NaN  ...                      0                     0   \n",
       "4   3.404401  10.224568  ...                      0                     0   \n",
       "\n",
       "   roadClass_DirtRoad  roadClass_LocalRoad  roadClass_MajorRoad  lines_1  \\\n",
       "0                   0                    0                    1        0   \n",
       "1                   0                    0                    1        0   \n",
       "2                   0                    1                    0        1   \n",
       "3                   0                    1                    0        1   \n",
       "4                   0                    0                    1        0   \n",
       "\n",
       "   lines_2  lines_3  lines_4  lines_5  \n",
       "0        0        0        1        0  \n",
       "1        0        0        1        0  \n",
       "2        0        0        0        0  \n",
       "3        0        0        0        0  \n",
       "4        0        0        1        0  \n",
       "\n",
       "[5 rows x 182 columns]"
      ]
     },
     "execution_count": 181,
     "metadata": {},
     "output_type": "execute_result"
    }
   ],
   "source": [
    "df_dummies.head()"
   ]
  },
  {
   "cell_type": "code",
   "execution_count": 182,
   "metadata": {},
   "outputs": [],
   "source": [
    "df_unique = df_dummies.drop_duplicates()"
   ]
  },
  {
   "cell_type": "code",
   "execution_count": 183,
   "metadata": {},
   "outputs": [
    {
     "data": {
      "text/html": [
       "<div>\n",
       "<style scoped>\n",
       "    .dataframe tbody tr th:only-of-type {\n",
       "        vertical-align: middle;\n",
       "    }\n",
       "\n",
       "    .dataframe tbody tr th {\n",
       "        vertical-align: top;\n",
       "    }\n",
       "\n",
       "    .dataframe thead th {\n",
       "        text-align: right;\n",
       "    }\n",
       "</style>\n",
       "<table border=\"1\" class=\"dataframe\">\n",
       "  <thead>\n",
       "    <tr style=\"text-align: right;\">\n",
       "      <th></th>\n",
       "      <th>0</th>\n",
       "      <th>1</th>\n",
       "      <th>2</th>\n",
       "      <th>3</th>\n",
       "      <th>4</th>\n",
       "      <th>5</th>\n",
       "      <th>6</th>\n",
       "      <th>7</th>\n",
       "      <th>8</th>\n",
       "      <th>9</th>\n",
       "      <th>...</th>\n",
       "      <th>highway_tertiary_link</th>\n",
       "      <th>highway_unclassified</th>\n",
       "      <th>roadClass_DirtRoad</th>\n",
       "      <th>roadClass_LocalRoad</th>\n",
       "      <th>roadClass_MajorRoad</th>\n",
       "      <th>lines_1</th>\n",
       "      <th>lines_2</th>\n",
       "      <th>lines_3</th>\n",
       "      <th>lines_4</th>\n",
       "      <th>lines_5</th>\n",
       "    </tr>\n",
       "  </thead>\n",
       "  <tbody>\n",
       "    <tr>\n",
       "      <th>0</th>\n",
       "      <td>NaN</td>\n",
       "      <td>NaN</td>\n",
       "      <td>NaN</td>\n",
       "      <td>10.854457</td>\n",
       "      <td>NaN</td>\n",
       "      <td>5.680978</td>\n",
       "      <td>7.036838</td>\n",
       "      <td>1.499997</td>\n",
       "      <td>10.088634</td>\n",
       "      <td>10.587459</td>\n",
       "      <td>...</td>\n",
       "      <td>0</td>\n",
       "      <td>0</td>\n",
       "      <td>0</td>\n",
       "      <td>0</td>\n",
       "      <td>1</td>\n",
       "      <td>0</td>\n",
       "      <td>0</td>\n",
       "      <td>0</td>\n",
       "      <td>1</td>\n",
       "      <td>0</td>\n",
       "    </tr>\n",
       "    <tr>\n",
       "      <th>2</th>\n",
       "      <td>NaN</td>\n",
       "      <td>NaN</td>\n",
       "      <td>NaN</td>\n",
       "      <td>NaN</td>\n",
       "      <td>NaN</td>\n",
       "      <td>10.486210</td>\n",
       "      <td>NaN</td>\n",
       "      <td>NaN</td>\n",
       "      <td>10.937218</td>\n",
       "      <td>NaN</td>\n",
       "      <td>...</td>\n",
       "      <td>0</td>\n",
       "      <td>0</td>\n",
       "      <td>0</td>\n",
       "      <td>1</td>\n",
       "      <td>0</td>\n",
       "      <td>1</td>\n",
       "      <td>0</td>\n",
       "      <td>0</td>\n",
       "      <td>0</td>\n",
       "      <td>0</td>\n",
       "    </tr>\n",
       "    <tr>\n",
       "      <th>3</th>\n",
       "      <td>NaN</td>\n",
       "      <td>NaN</td>\n",
       "      <td>NaN</td>\n",
       "      <td>NaN</td>\n",
       "      <td>NaN</td>\n",
       "      <td>NaN</td>\n",
       "      <td>NaN</td>\n",
       "      <td>NaN</td>\n",
       "      <td>NaN</td>\n",
       "      <td>NaN</td>\n",
       "      <td>...</td>\n",
       "      <td>0</td>\n",
       "      <td>0</td>\n",
       "      <td>0</td>\n",
       "      <td>1</td>\n",
       "      <td>0</td>\n",
       "      <td>1</td>\n",
       "      <td>0</td>\n",
       "      <td>0</td>\n",
       "      <td>0</td>\n",
       "      <td>0</td>\n",
       "    </tr>\n",
       "    <tr>\n",
       "      <th>4</th>\n",
       "      <td>NaN</td>\n",
       "      <td>NaN</td>\n",
       "      <td>NaN</td>\n",
       "      <td>10.468811</td>\n",
       "      <td>10.636621</td>\n",
       "      <td>10.288534</td>\n",
       "      <td>10.617513</td>\n",
       "      <td>1.758539</td>\n",
       "      <td>3.404401</td>\n",
       "      <td>10.224568</td>\n",
       "      <td>...</td>\n",
       "      <td>0</td>\n",
       "      <td>0</td>\n",
       "      <td>0</td>\n",
       "      <td>0</td>\n",
       "      <td>1</td>\n",
       "      <td>0</td>\n",
       "      <td>0</td>\n",
       "      <td>0</td>\n",
       "      <td>1</td>\n",
       "      <td>0</td>\n",
       "    </tr>\n",
       "    <tr>\n",
       "      <th>5</th>\n",
       "      <td>NaN</td>\n",
       "      <td>NaN</td>\n",
       "      <td>NaN</td>\n",
       "      <td>NaN</td>\n",
       "      <td>NaN</td>\n",
       "      <td>NaN</td>\n",
       "      <td>10.286999</td>\n",
       "      <td>NaN</td>\n",
       "      <td>NaN</td>\n",
       "      <td>10.833570</td>\n",
       "      <td>...</td>\n",
       "      <td>0</td>\n",
       "      <td>0</td>\n",
       "      <td>0</td>\n",
       "      <td>0</td>\n",
       "      <td>1</td>\n",
       "      <td>0</td>\n",
       "      <td>0</td>\n",
       "      <td>1</td>\n",
       "      <td>0</td>\n",
       "      <td>0</td>\n",
       "    </tr>\n",
       "  </tbody>\n",
       "</table>\n",
       "<p>5 rows × 182 columns</p>\n",
       "</div>"
      ],
      "text/plain": [
       "    0   1   2          3          4          5          6         7  \\\n",
       "0 NaN NaN NaN  10.854457        NaN   5.680978   7.036838  1.499997   \n",
       "2 NaN NaN NaN        NaN        NaN  10.486210        NaN       NaN   \n",
       "3 NaN NaN NaN        NaN        NaN        NaN        NaN       NaN   \n",
       "4 NaN NaN NaN  10.468811  10.636621  10.288534  10.617513  1.758539   \n",
       "5 NaN NaN NaN        NaN        NaN        NaN  10.286999       NaN   \n",
       "\n",
       "           8          9  ...  highway_tertiary_link  highway_unclassified  \\\n",
       "0  10.088634  10.587459  ...                      0                     0   \n",
       "2  10.937218        NaN  ...                      0                     0   \n",
       "3        NaN        NaN  ...                      0                     0   \n",
       "4   3.404401  10.224568  ...                      0                     0   \n",
       "5        NaN  10.833570  ...                      0                     0   \n",
       "\n",
       "   roadClass_DirtRoad  roadClass_LocalRoad  roadClass_MajorRoad  lines_1  \\\n",
       "0                   0                    0                    1        0   \n",
       "2                   0                    1                    0        1   \n",
       "3                   0                    1                    0        1   \n",
       "4                   0                    0                    1        0   \n",
       "5                   0                    0                    1        0   \n",
       "\n",
       "   lines_2  lines_3  lines_4  lines_5  \n",
       "0        0        0        1        0  \n",
       "2        0        0        0        0  \n",
       "3        0        0        0        0  \n",
       "4        0        0        1        0  \n",
       "5        0        1        0        0  \n",
       "\n",
       "[5 rows x 182 columns]"
      ]
     },
     "execution_count": 183,
     "metadata": {},
     "output_type": "execute_result"
    }
   ],
   "source": [
    "df_unique.head()"
   ]
  },
  {
   "cell_type": "code",
   "execution_count": 184,
   "metadata": {},
   "outputs": [],
   "source": [
    "df_preprocessed = df_unique"
   ]
  },
  {
   "cell_type": "markdown",
   "metadata": {},
   "source": [
    "## Let's now make an adjecancy matrix, that matches the order in our dataframe"
   ]
  },
  {
   "cell_type": "code",
   "execution_count": 185,
   "metadata": {},
   "outputs": [],
   "source": [
    "import networkx as nx\n",
    "import scipy.sparse as sp\n",
    "import numpy as np\n",
    "import torch\n",
    "\n",
    "def sparse_mx_to_torch_sparse_tensor(sparse_mx):\n",
    "    \"\"\"Convert a scipy sparse matrix to a torch sparse tensor.\"\"\"\n",
    "    sparse_mx = sparse_mx.tocoo().astype(np.float32)\n",
    "    indices = torch.from_numpy(\n",
    "        np.vstack((sparse_mx.row, sparse_mx.col)).astype(np.int64))\n",
    "    values = torch.from_numpy(sparse_mx.data)\n",
    "    shape = torch.Size(sparse_mx.shape)\n",
    "    return torch.sparse.FloatTensor(indices, values, shape)\n",
    "                                    \n",
    "def normalize(mx):\n",
    "    \"\"\"Row-normalize sparse matrix\"\"\"\n",
    "    rowsum = np.array(mx.sum(1))\n",
    "    r_inv = np.power(rowsum, -1).flatten()\n",
    "    r_inv[np.isinf(r_inv)] = 0.\n",
    "    r_mat_inv = sp.diags(r_inv)\n",
    "    mx = r_mat_inv.dot(mx)\n",
    "    return mx"
   ]
  },
  {
   "cell_type": "code",
   "execution_count": 186,
   "metadata": {},
   "outputs": [],
   "source": [
    "L = nx.line_graph(nx.DiGraph(g_partition))\n",
    "\n",
    "nodelist = [tuple(x) for x in df_preprocessed[['from_node','to_node']].values]"
   ]
  },
  {
   "cell_type": "code",
   "execution_count": 187,
   "metadata": {},
   "outputs": [],
   "source": [
    "adj = nx.to_scipy_sparse_matrix(L, format=\"coo\", nodelist=nodelist)\n",
    "# build symmetric adjacency matrix\n",
    "adj = adj + adj.T.multiply(adj.T > adj) - adj.multiply(adj.T > adj)\n",
    "\n",
    "adj = normalize(adj + sp.eye(adj.shape[0]))\n",
    "adj = sparse_mx_to_torch_sparse_tensor(adj)"
   ]
  },
  {
   "cell_type": "markdown",
   "metadata": {},
   "source": [
    "### Now let's build time-series dataset"
   ]
  },
  {
   "cell_type": "code",
   "execution_count": 188,
   "metadata": {},
   "outputs": [],
   "source": [
    "static_features = ['highway_access_ramp',\n",
    " 'highway_corridor',\n",
    " 'highway_living_street',\n",
    " 'highway_platform',\n",
    " 'highway_primary',\n",
    " 'highway_residential',\n",
    " 'highway_secondary',\n",
    " 'highway_secondary_link',\n",
    " 'highway_service',\n",
    " 'highway_tertiary',\n",
    " 'highway_tertiary_link',\n",
    " 'highway_unclassified',\n",
    " 'surface_asphalt',\n",
    " 'surface_cobblestone',\n",
    " 'surface_cobblestone:flattened',\n",
    " 'surface_concrete',\n",
    " 'surface_concrete:plates',\n",
    " 'surface_grass_paver',\n",
    " 'surface_paved',\n",
    " 'surface_paving_stones',\n",
    " 'surface_sett',\n",
    " 'surface_nan',\n",
    " 'roadClass_DirtRoad',\n",
    " 'roadClass_LocalRoad',\n",
    " 'roadClass_MajorRoad',\n",
    " 'maxspeed_10',\n",
    " 'maxspeed_20',\n",
    " 'maxspeed_30',\n",
    " 'maxspeed_5',\n",
    " 'maxspeed_50',\n",
    " 'maxspeed_nan',\n",
    " 'lines_1',\n",
    " 'lines_2',\n",
    " 'lines_3',\n",
    " 'lines_4',\n",
    " 'lines_5'\n",
    "]"
   ]
  },
  {
   "cell_type": "code",
   "execution_count": 189,
   "metadata": {},
   "outputs": [
    {
     "data": {
      "text/plain": [
       "36"
      ]
     },
     "execution_count": 189,
     "metadata": {},
     "output_type": "execute_result"
    }
   ],
   "source": [
    "len(static_features)"
   ]
  },
  {
   "cell_type": "code",
   "execution_count": 190,
   "metadata": {},
   "outputs": [],
   "source": [
    "SPEED_COLUMNS = list(map(str, range(TOTAL_T_STEPS)))"
   ]
  },
  {
   "cell_type": "code",
   "execution_count": 191,
   "metadata": {},
   "outputs": [],
   "source": [
    "mask_df = df_preprocessed.notna()\n",
    "static_df = df_preprocessed[static_features]"
   ]
  },
  {
   "cell_type": "code",
   "execution_count": 192,
   "metadata": {},
   "outputs": [],
   "source": [
    "# Speed preprocessing\n",
    "from sklearn.preprocessing import FunctionTransformer, RobustScaler\n",
    "from sklearn.pipeline import Pipeline\n",
    "import pandas as pd\n",
    "\n",
    "speed_df = df_preprocessed[SPEED_COLUMNS]\n",
    "speed_df = speed_df.fillna(speed_df.mean())\n",
    "speed_pipeline = Pipeline([\n",
    "    #('log', FunctionTransformer(func=np.expm1, inverse_func=np.expm1, validate=True))\n",
    "    ('scaler', RobustScaler())\n",
    "])\n",
    "speed_pipeline.fit(speed_df.values.flatten().reshape(-1, 1))\n",
    "speed_df = pd.DataFrame(speed_pipeline.transform(speed_df.values), index=speed_df.index, columns=speed_df.columns)"
   ]
  },
  {
   "cell_type": "code",
   "execution_count": 193,
   "metadata": {
    "lines_to_next_cell": 2
   },
   "outputs": [
    {
     "data": {
      "text/html": [
       "<div>\n",
       "<style scoped>\n",
       "    .dataframe tbody tr th:only-of-type {\n",
       "        vertical-align: middle;\n",
       "    }\n",
       "\n",
       "    .dataframe tbody tr th {\n",
       "        vertical-align: top;\n",
       "    }\n",
       "\n",
       "    .dataframe thead th {\n",
       "        text-align: right;\n",
       "    }\n",
       "</style>\n",
       "<table border=\"1\" class=\"dataframe\">\n",
       "  <thead>\n",
       "    <tr style=\"text-align: right;\">\n",
       "      <th></th>\n",
       "      <th>0</th>\n",
       "      <th>1</th>\n",
       "      <th>2</th>\n",
       "      <th>3</th>\n",
       "      <th>4</th>\n",
       "      <th>5</th>\n",
       "      <th>6</th>\n",
       "      <th>7</th>\n",
       "      <th>8</th>\n",
       "      <th>9</th>\n",
       "      <th>...</th>\n",
       "      <th>highway_tertiary_link</th>\n",
       "      <th>highway_unclassified</th>\n",
       "      <th>roadClass_DirtRoad</th>\n",
       "      <th>roadClass_LocalRoad</th>\n",
       "      <th>roadClass_MajorRoad</th>\n",
       "      <th>lines_1</th>\n",
       "      <th>lines_2</th>\n",
       "      <th>lines_3</th>\n",
       "      <th>lines_4</th>\n",
       "      <th>lines_5</th>\n",
       "    </tr>\n",
       "  </thead>\n",
       "  <tbody>\n",
       "    <tr>\n",
       "      <th>0</th>\n",
       "      <td>False</td>\n",
       "      <td>False</td>\n",
       "      <td>False</td>\n",
       "      <td>True</td>\n",
       "      <td>False</td>\n",
       "      <td>True</td>\n",
       "      <td>True</td>\n",
       "      <td>True</td>\n",
       "      <td>True</td>\n",
       "      <td>True</td>\n",
       "      <td>...</td>\n",
       "      <td>True</td>\n",
       "      <td>True</td>\n",
       "      <td>True</td>\n",
       "      <td>True</td>\n",
       "      <td>True</td>\n",
       "      <td>True</td>\n",
       "      <td>True</td>\n",
       "      <td>True</td>\n",
       "      <td>True</td>\n",
       "      <td>True</td>\n",
       "    </tr>\n",
       "    <tr>\n",
       "      <th>2</th>\n",
       "      <td>False</td>\n",
       "      <td>False</td>\n",
       "      <td>False</td>\n",
       "      <td>False</td>\n",
       "      <td>False</td>\n",
       "      <td>True</td>\n",
       "      <td>False</td>\n",
       "      <td>False</td>\n",
       "      <td>True</td>\n",
       "      <td>False</td>\n",
       "      <td>...</td>\n",
       "      <td>True</td>\n",
       "      <td>True</td>\n",
       "      <td>True</td>\n",
       "      <td>True</td>\n",
       "      <td>True</td>\n",
       "      <td>True</td>\n",
       "      <td>True</td>\n",
       "      <td>True</td>\n",
       "      <td>True</td>\n",
       "      <td>True</td>\n",
       "    </tr>\n",
       "    <tr>\n",
       "      <th>3</th>\n",
       "      <td>False</td>\n",
       "      <td>False</td>\n",
       "      <td>False</td>\n",
       "      <td>False</td>\n",
       "      <td>False</td>\n",
       "      <td>False</td>\n",
       "      <td>False</td>\n",
       "      <td>False</td>\n",
       "      <td>False</td>\n",
       "      <td>False</td>\n",
       "      <td>...</td>\n",
       "      <td>True</td>\n",
       "      <td>True</td>\n",
       "      <td>True</td>\n",
       "      <td>True</td>\n",
       "      <td>True</td>\n",
       "      <td>True</td>\n",
       "      <td>True</td>\n",
       "      <td>True</td>\n",
       "      <td>True</td>\n",
       "      <td>True</td>\n",
       "    </tr>\n",
       "    <tr>\n",
       "      <th>4</th>\n",
       "      <td>False</td>\n",
       "      <td>False</td>\n",
       "      <td>False</td>\n",
       "      <td>True</td>\n",
       "      <td>True</td>\n",
       "      <td>True</td>\n",
       "      <td>True</td>\n",
       "      <td>True</td>\n",
       "      <td>True</td>\n",
       "      <td>True</td>\n",
       "      <td>...</td>\n",
       "      <td>True</td>\n",
       "      <td>True</td>\n",
       "      <td>True</td>\n",
       "      <td>True</td>\n",
       "      <td>True</td>\n",
       "      <td>True</td>\n",
       "      <td>True</td>\n",
       "      <td>True</td>\n",
       "      <td>True</td>\n",
       "      <td>True</td>\n",
       "    </tr>\n",
       "    <tr>\n",
       "      <th>5</th>\n",
       "      <td>False</td>\n",
       "      <td>False</td>\n",
       "      <td>False</td>\n",
       "      <td>False</td>\n",
       "      <td>False</td>\n",
       "      <td>False</td>\n",
       "      <td>True</td>\n",
       "      <td>False</td>\n",
       "      <td>False</td>\n",
       "      <td>True</td>\n",
       "      <td>...</td>\n",
       "      <td>True</td>\n",
       "      <td>True</td>\n",
       "      <td>True</td>\n",
       "      <td>True</td>\n",
       "      <td>True</td>\n",
       "      <td>True</td>\n",
       "      <td>True</td>\n",
       "      <td>True</td>\n",
       "      <td>True</td>\n",
       "      <td>True</td>\n",
       "    </tr>\n",
       "  </tbody>\n",
       "</table>\n",
       "<p>5 rows × 182 columns</p>\n",
       "</div>"
      ],
      "text/plain": [
       "       0      1      2      3      4      5      6      7      8      9  ...  \\\n",
       "0  False  False  False   True  False   True   True   True   True   True  ...   \n",
       "2  False  False  False  False  False   True  False  False   True  False  ...   \n",
       "3  False  False  False  False  False  False  False  False  False  False  ...   \n",
       "4  False  False  False   True   True   True   True   True   True   True  ...   \n",
       "5  False  False  False  False  False  False   True  False  False   True  ...   \n",
       "\n",
       "   highway_tertiary_link  highway_unclassified  roadClass_DirtRoad  \\\n",
       "0                   True                  True                True   \n",
       "2                   True                  True                True   \n",
       "3                   True                  True                True   \n",
       "4                   True                  True                True   \n",
       "5                   True                  True                True   \n",
       "\n",
       "   roadClass_LocalRoad  roadClass_MajorRoad  lines_1  lines_2  lines_3  \\\n",
       "0                 True                 True     True     True     True   \n",
       "2                 True                 True     True     True     True   \n",
       "3                 True                 True     True     True     True   \n",
       "4                 True                 True     True     True     True   \n",
       "5                 True                 True     True     True     True   \n",
       "\n",
       "   lines_4  lines_5  \n",
       "0     True     True  \n",
       "2     True     True  \n",
       "3     True     True  \n",
       "4     True     True  \n",
       "5     True     True  \n",
       "\n",
       "[5 rows x 182 columns]"
      ]
     },
     "execution_count": 193,
     "metadata": {},
     "output_type": "execute_result"
    }
   ],
   "source": [
    "mask_df.head()"
   ]
  },
  {
   "cell_type": "code",
   "execution_count": 194,
   "metadata": {},
   "outputs": [],
   "source": [
    "import torch\n",
    "WINDOW = 10\n",
    "\n",
    "def build_sliding_speed_dataset(speed_df, mask_df, window=WINDOW):\n",
    "    speed = []\n",
    "    mask = []\n",
    "    for i in range(window, TOTAL_T_STEPS + 1):\n",
    "        columns = list(map(str, range(i - window, i)))\n",
    "        speed.append(torch.Tensor(speed_df[columns].values))\n",
    "        mask.append(torch.Tensor(mask_df[columns].values))\n",
    "        \n",
    "    return torch.stack(speed), torch.stack(mask)"
   ]
  },
  {
   "cell_type": "code",
   "execution_count": 195,
   "metadata": {},
   "outputs": [
    {
     "name": "stdout",
     "output_type": "stream",
     "text": [
      "torch.Size([135, 6157, 10, 1])\n",
      "torch.Size([135, 6157, 10, 1])\n"
     ]
    }
   ],
   "source": [
    "speed, mask = build_sliding_speed_dataset(speed_df, mask_df)\n",
    "speed_seq = speed.unsqueeze(3)\n",
    "mask_seq = mask.unsqueeze(3)\n",
    "print(mask_seq.shape)\n",
    "print(speed_seq.shape)"
   ]
  },
  {
   "cell_type": "code",
   "execution_count": 196,
   "metadata": {},
   "outputs": [
    {
     "name": "stdout",
     "output_type": "stream",
     "text": [
      "torch.Size([135, 6157, 10, 36])\n"
     ]
    }
   ],
   "source": [
    "static = torch.Tensor(static_df.values) - 0.5\n",
    "static_seq = static.unsqueeze(0)\n",
    "static_seq = static_seq.unsqueeze(2)\n",
    "static_seq = static_seq.expand([speed_seq.shape[0], -1, speed_seq.shape[2], -1])\n",
    "print(static_seq.shape)"
   ]
  },
  {
   "cell_type": "code",
   "execution_count": 197,
   "metadata": {},
   "outputs": [],
   "source": [
    "ts_dataset = torch.utils.data.TensorDataset(speed_seq, mask_seq, static_seq)"
   ]
  },
  {
   "cell_type": "code",
   "execution_count": 198,
   "metadata": {},
   "outputs": [],
   "source": [
    "adj_dense = adj.to_dense()"
   ]
  },
  {
   "cell_type": "code",
   "execution_count": null,
   "metadata": {},
   "outputs": [
    {
     "name": "stderr",
     "output_type": "stream",
     "text": [
      "[autoreload of src.gcn_lstm.gcn_lstm_model failed: Traceback (most recent call last):\n",
      "  File \"/Users/dscsade/.local/share/virtualenvs/speed-imputation-duMcSXZy/lib/python3.6/site-packages/IPython/extensions/autoreload.py\", line 245, in check\n",
      "    superreload(m, reload, self.old_objects)\n",
      "  File \"/Users/dscsade/.local/share/virtualenvs/speed-imputation-duMcSXZy/lib/python3.6/site-packages/IPython/extensions/autoreload.py\", line 450, in superreload\n",
      "    update_generic(old_obj, new_obj)\n",
      "  File \"/Users/dscsade/.local/share/virtualenvs/speed-imputation-duMcSXZy/lib/python3.6/site-packages/IPython/extensions/autoreload.py\", line 387, in update_generic\n",
      "    update(a, b)\n",
      "  File \"/Users/dscsade/.local/share/virtualenvs/speed-imputation-duMcSXZy/lib/python3.6/site-packages/IPython/extensions/autoreload.py\", line 357, in update_class\n",
      "    update_instances(old, new)\n",
      "  File \"/Users/dscsade/.local/share/virtualenvs/speed-imputation-duMcSXZy/lib/python3.6/site-packages/IPython/extensions/autoreload.py\", line 317, in update_instances\n",
      "    update_instances(old, new, obj, visited)\n",
      "  File \"/Users/dscsade/.local/share/virtualenvs/speed-imputation-duMcSXZy/lib/python3.6/site-packages/IPython/extensions/autoreload.py\", line 300, in update_instances\n",
      "    for obj in (obj for obj in objects if id(obj) not in visited):\n",
      "  File \"/Users/dscsade/.local/share/virtualenvs/speed-imputation-duMcSXZy/lib/python3.6/site-packages/IPython/extensions/autoreload.py\", line 300, in <genexpr>\n",
      "    for obj in (obj for obj in objects if id(obj) not in visited):\n",
      "  File \"/Users/dscsade/.local/share/virtualenvs/speed-imputation-duMcSXZy/lib/python3.6/site-packages/torch/tensor.py\", line 390, in <lambda>\n",
      "    return iter(imap(lambda i: self[i], range(self.size(0))))\n",
      "RuntimeError: sparse tensors do not have strides\n",
      "]\n",
      "[autoreload of src.gcn_lstm.gcn_lstm_model failed: Traceback (most recent call last):\n",
      "  File \"/Users/dscsade/.local/share/virtualenvs/speed-imputation-duMcSXZy/lib/python3.6/site-packages/IPython/extensions/autoreload.py\", line 245, in check\n",
      "    superreload(m, reload, self.old_objects)\n",
      "  File \"/Users/dscsade/.local/share/virtualenvs/speed-imputation-duMcSXZy/lib/python3.6/site-packages/IPython/extensions/autoreload.py\", line 450, in superreload\n",
      "    update_generic(old_obj, new_obj)\n",
      "  File \"/Users/dscsade/.local/share/virtualenvs/speed-imputation-duMcSXZy/lib/python3.6/site-packages/IPython/extensions/autoreload.py\", line 387, in update_generic\n",
      "    update(a, b)\n",
      "  File \"/Users/dscsade/.local/share/virtualenvs/speed-imputation-duMcSXZy/lib/python3.6/site-packages/IPython/extensions/autoreload.py\", line 357, in update_class\n",
      "    update_instances(old, new)\n",
      "  File \"/Users/dscsade/.local/share/virtualenvs/speed-imputation-duMcSXZy/lib/python3.6/site-packages/IPython/extensions/autoreload.py\", line 317, in update_instances\n",
      "    update_instances(old, new, obj, visited)\n",
      "  File \"/Users/dscsade/.local/share/virtualenvs/speed-imputation-duMcSXZy/lib/python3.6/site-packages/IPython/extensions/autoreload.py\", line 300, in update_instances\n",
      "    for obj in (obj for obj in objects if id(obj) not in visited):\n",
      "  File \"/Users/dscsade/.local/share/virtualenvs/speed-imputation-duMcSXZy/lib/python3.6/site-packages/IPython/extensions/autoreload.py\", line 300, in <genexpr>\n",
      "    for obj in (obj for obj in objects if id(obj) not in visited):\n",
      "  File \"/Users/dscsade/.local/share/virtualenvs/speed-imputation-duMcSXZy/lib/python3.6/site-packages/torch/tensor.py\", line 390, in <lambda>\n",
      "    return iter(imap(lambda i: self[i], range(self.size(0))))\n",
      "RuntimeError: sparse tensors do not have strides\n",
      "]\n",
      "[autoreload of src.gcn_lstm.gcn_lstm_model failed: Traceback (most recent call last):\n",
      "  File \"/Users/dscsade/.local/share/virtualenvs/speed-imputation-duMcSXZy/lib/python3.6/site-packages/IPython/extensions/autoreload.py\", line 245, in check\n",
      "    superreload(m, reload, self.old_objects)\n",
      "  File \"/Users/dscsade/.local/share/virtualenvs/speed-imputation-duMcSXZy/lib/python3.6/site-packages/IPython/extensions/autoreload.py\", line 450, in superreload\n",
      "    update_generic(old_obj, new_obj)\n",
      "  File \"/Users/dscsade/.local/share/virtualenvs/speed-imputation-duMcSXZy/lib/python3.6/site-packages/IPython/extensions/autoreload.py\", line 387, in update_generic\n",
      "    update(a, b)\n",
      "  File \"/Users/dscsade/.local/share/virtualenvs/speed-imputation-duMcSXZy/lib/python3.6/site-packages/IPython/extensions/autoreload.py\", line 357, in update_class\n",
      "    update_instances(old, new)\n",
      "  File \"/Users/dscsade/.local/share/virtualenvs/speed-imputation-duMcSXZy/lib/python3.6/site-packages/IPython/extensions/autoreload.py\", line 317, in update_instances\n",
      "    update_instances(old, new, obj, visited)\n",
      "  File \"/Users/dscsade/.local/share/virtualenvs/speed-imputation-duMcSXZy/lib/python3.6/site-packages/IPython/extensions/autoreload.py\", line 300, in update_instances\n",
      "    for obj in (obj for obj in objects if id(obj) not in visited):\n",
      "  File \"/Users/dscsade/.local/share/virtualenvs/speed-imputation-duMcSXZy/lib/python3.6/site-packages/IPython/extensions/autoreload.py\", line 300, in <genexpr>\n",
      "    for obj in (obj for obj in objects if id(obj) not in visited):\n",
      "  File \"/Users/dscsade/.local/share/virtualenvs/speed-imputation-duMcSXZy/lib/python3.6/site-packages/torch/tensor.py\", line 390, in <lambda>\n",
      "    return iter(imap(lambda i: self[i], range(self.size(0))))\n",
      "RuntimeError: sparse tensors do not have strides\n",
      "]\n"
     ]
    },
    {
     "name": "stdout",
     "output_type": "stream",
     "text": [
      "gpu available: False, used: False\n",
      "                  Name          Type  Params\n",
      "0                 lstm      GCN_LSTM    1704\n",
      "1           lstm.cell0  GCN_LSTMCell    1080\n",
      "2   lstm.cell0.conv_xf     GraphConv     234\n",
      "3   lstm.cell0.conv_hf     GraphConv      36\n",
      "4   lstm.cell0.conv_xi     GraphConv     234\n",
      "5   lstm.cell0.conv_hi     GraphConv      36\n",
      "6   lstm.cell0.conv_xo     GraphConv     234\n",
      "7   lstm.cell0.conv_ho     GraphConv      36\n",
      "8   lstm.cell0.conv_xc     GraphConv     234\n",
      "9   lstm.cell0.conv_hc     GraphConv      36\n",
      "10          lstm.cell1  GCN_LSTMCell     312\n",
      "11  lstm.cell1.conv_xf     GraphConv      42\n",
      "12  lstm.cell1.conv_hf     GraphConv      36\n",
      "13  lstm.cell1.conv_xi     GraphConv      42\n",
      "14  lstm.cell1.conv_hi     GraphConv      36\n",
      "15  lstm.cell1.conv_xo     GraphConv      42\n",
      "16  lstm.cell1.conv_ho     GraphConv      36\n",
      "17  lstm.cell1.conv_xc     GraphConv      42\n",
      "18  lstm.cell1.conv_hc     GraphConv      36\n",
      "19          lstm.cell2  GCN_LSTMCell     312\n",
      "20  lstm.cell2.conv_xf     GraphConv      42\n",
      "21  lstm.cell2.conv_hf     GraphConv      36\n",
      "22  lstm.cell2.conv_xi     GraphConv      42\n",
      "23  lstm.cell2.conv_hi     GraphConv      36\n",
      "24  lstm.cell2.conv_xo     GraphConv      42\n",
      "25  lstm.cell2.conv_ho     GraphConv      36\n",
      "26  lstm.cell2.conv_xc     GraphConv      42\n",
      "27  lstm.cell2.conv_hc     GraphConv      36\n",
      "28             decoder    Sequential      55\n",
      "29           decoder.0        Conv2d      55\n"
     ]
    },
    {
     "name": "stderr",
     "output_type": "stream",
     "text": [
      " 75%|███████▌  | 3/4 [01:33<00:24, 24.14s/it, avg_val_loss=2.53, avg_val_mae=4.23, batch_nb=1, epoch=0, tng_loss=2.588, v_nb=5]"
     ]
    },
    {
     "name": "stdout",
     "output_type": "stream",
     "text": [
      "save callback...\n",
      "\n",
      "Epoch 00001: avg_val_mae improved from inf to 4.23110, saving model to gcnlstm.ckpt/_ckpt_epoch_1.ckpt\n"
     ]
    },
    {
     "name": "stderr",
     "output_type": "stream",
     "text": [
      "100%|██████████| 4/4 [01:06<00:00, 12.19s/it, avg_val_loss=2.44, avg_val_mae=4.08, batch_nb=1, epoch=1, tng_loss=2.548, v_nb=5]"
     ]
    },
    {
     "name": "stdout",
     "output_type": "stream",
     "text": [
      "save callback...\n",
      "\n",
      "Epoch 00002: avg_val_mae improved from 4.23110 to 4.07632, saving model to gcnlstm.ckpt/_ckpt_epoch_2.ckpt\n"
     ]
    },
    {
     "name": "stderr",
     "output_type": "stream",
     "text": [
      " 75%|███████▌  | 3/4 [01:47<00:28, 28.64s/it, avg_val_loss=2.33, avg_val_mae=3.9, batch_nb=1, epoch=2, tng_loss=2.536, v_nb=5] "
     ]
    },
    {
     "name": "stdout",
     "output_type": "stream",
     "text": [
      "save callback...\n",
      "\n",
      "Epoch 00003: avg_val_mae improved from 4.07632 to 3.89733, saving model to gcnlstm.ckpt/_ckpt_epoch_3.ckpt\n"
     ]
    },
    {
     "name": "stderr",
     "output_type": "stream",
     "text": [
      " 75%|███████▌  | 3/4 [01:21<00:22, 22.24s/it, avg_val_loss=2.18, avg_val_mae=3.65, batch_nb=1, epoch=3, tng_loss=2.502, v_nb=5]"
     ]
    },
    {
     "name": "stdout",
     "output_type": "stream",
     "text": [
      "save callback...\n",
      "\n",
      "Epoch 00004: avg_val_mae improved from 3.89733 to 3.64591, saving model to gcnlstm.ckpt/_ckpt_epoch_4.ckpt\n"
     ]
    },
    {
     "name": "stderr",
     "output_type": "stream",
     "text": [
      "100%|██████████| 4/4 [01:16<00:00, 13.90s/it, avg_val_loss=2.15, avg_val_mae=3.59, batch_nb=1, epoch=4, tng_loss=2.475, v_nb=5]"
     ]
    },
    {
     "name": "stdout",
     "output_type": "stream",
     "text": [
      "save callback...\n",
      "\n",
      "Epoch 00005: avg_val_mae improved from 3.64591 to 3.58532, saving model to gcnlstm.ckpt/_ckpt_epoch_5.ckpt\n"
     ]
    },
    {
     "name": "stderr",
     "output_type": "stream",
     "text": [
      "100%|██████████| 4/4 [01:05<00:00, 12.13s/it, avg_val_loss=2.11, avg_val_mae=3.53, batch_nb=1, epoch=5, tng_loss=2.452, v_nb=5]"
     ]
    },
    {
     "name": "stdout",
     "output_type": "stream",
     "text": [
      "save callback...\n",
      "\n",
      "Epoch 00006: avg_val_mae improved from 3.58532 to 3.52958, saving model to gcnlstm.ckpt/_ckpt_epoch_6.ckpt\n"
     ]
    },
    {
     "name": "stderr",
     "output_type": "stream",
     "text": [
      " 75%|███████▌  | 3/4 [01:12<00:19, 19.11s/it, avg_val_loss=2.07, avg_val_mae=3.45, batch_nb=1, epoch=6, tng_loss=2.424, v_nb=5]"
     ]
    },
    {
     "name": "stdout",
     "output_type": "stream",
     "text": [
      "save callback...\n",
      "\n",
      "Epoch 00007: avg_val_mae improved from 3.52958 to 3.45078, saving model to gcnlstm.ckpt/_ckpt_epoch_7.ckpt\n"
     ]
    },
    {
     "name": "stderr",
     "output_type": "stream",
     "text": [
      " 75%|███████▌  | 3/4 [01:17<00:19, 19.90s/it, avg_val_loss=2.05, avg_val_mae=3.42, batch_nb=1, epoch=7, tng_loss=2.409, v_nb=5]"
     ]
    },
    {
     "name": "stdout",
     "output_type": "stream",
     "text": [
      "save callback...\n",
      "\n",
      "Epoch 00008: avg_val_mae improved from 3.45078 to 3.42374, saving model to gcnlstm.ckpt/_ckpt_epoch_8.ckpt\n"
     ]
    },
    {
     "name": "stderr",
     "output_type": "stream",
     "text": [
      " 75%|███████▌  | 3/4 [01:11<00:18, 18.87s/it, avg_val_loss=2.02, avg_val_mae=3.38, batch_nb=1, epoch=8, tng_loss=2.384, v_nb=5]"
     ]
    },
    {
     "name": "stdout",
     "output_type": "stream",
     "text": [
      "save callback...\n",
      "\n",
      "Epoch 00009: avg_val_mae improved from 3.42374 to 3.37776, saving model to gcnlstm.ckpt/_ckpt_epoch_9.ckpt\n"
     ]
    },
    {
     "name": "stderr",
     "output_type": "stream",
     "text": [
      " 75%|███████▌  | 3/4 [01:11<00:19, 19.03s/it, avg_val_loss=2.01, avg_val_mae=3.36, batch_nb=1, epoch=9, tng_loss=2.366, v_nb=5]"
     ]
    },
    {
     "name": "stdout",
     "output_type": "stream",
     "text": [
      "save callback...\n",
      "\n",
      "Epoch 00010: avg_val_mae improved from 3.37776 to 3.35859, saving model to gcnlstm.ckpt/_ckpt_epoch_10.ckpt\n"
     ]
    },
    {
     "name": "stderr",
     "output_type": "stream",
     "text": [
      " 75%|███████▌  | 3/4 [01:14<00:19, 19.68s/it, avg_val_loss=2, avg_val_mae=3.34, batch_nb=1, epoch=10, tng_loss=2.342, v_nb=5]   "
     ]
    },
    {
     "name": "stdout",
     "output_type": "stream",
     "text": [
      "save callback...\n",
      "\n",
      "Epoch 00011: avg_val_mae improved from 3.35859 to 3.33766, saving model to gcnlstm.ckpt/_ckpt_epoch_11.ckpt\n"
     ]
    },
    {
     "name": "stderr",
     "output_type": "stream",
     "text": [
      " 75%|███████▌  | 3/4 [01:25<00:22, 22.04s/it, avg_val_loss=1.98, avg_val_mae=3.32, batch_nb=1, epoch=11, tng_loss=2.326, v_nb=5]"
     ]
    },
    {
     "name": "stdout",
     "output_type": "stream",
     "text": [
      "save callback...\n",
      "\n",
      "Epoch 00012: avg_val_mae improved from 3.33766 to 3.31547, saving model to gcnlstm.ckpt/_ckpt_epoch_12.ckpt\n"
     ]
    },
    {
     "name": "stderr",
     "output_type": "stream",
     "text": [
      " 75%|███████▌  | 3/4 [01:22<00:21, 21.68s/it, avg_val_loss=2.1, avg_val_mae=3.52, batch_nb=1, epoch=12, tng_loss=2.311, v_nb=5] "
     ]
    },
    {
     "name": "stdout",
     "output_type": "stream",
     "text": [
      "save callback...\n",
      "\n",
      "Epoch 00013: avg_val_mae did not improve\n"
     ]
    },
    {
     "name": "stderr",
     "output_type": "stream",
     "text": [
      " 75%|███████▌  | 3/4 [01:12<00:19, 19.16s/it, avg_val_loss=1.96, avg_val_mae=3.27, batch_nb=1, epoch=13, tng_loss=2.292, v_nb=5]"
     ]
    },
    {
     "name": "stdout",
     "output_type": "stream",
     "text": [
      "save callback...\n",
      "\n",
      "Epoch 00014: avg_val_mae improved from 3.31547 to 3.27120, saving model to gcnlstm.ckpt/_ckpt_epoch_14.ckpt\n"
     ]
    },
    {
     "name": "stderr",
     "output_type": "stream",
     "text": [
      " 75%|███████▌  | 3/4 [01:16<00:20, 20.15s/it, avg_val_loss=1.98, avg_val_mae=3.31, batch_nb=1, epoch=14, tng_loss=2.278, v_nb=5]"
     ]
    },
    {
     "name": "stdout",
     "output_type": "stream",
     "text": [
      "save callback...\n",
      "\n",
      "Epoch 00015: avg_val_mae did not improve\n"
     ]
    },
    {
     "name": "stderr",
     "output_type": "stream",
     "text": [
      " 75%|███████▌  | 3/4 [01:10<00:18, 18.65s/it, avg_val_loss=1.94, avg_val_mae=3.25, batch_nb=1, epoch=15, tng_loss=2.263, v_nb=5]"
     ]
    },
    {
     "name": "stdout",
     "output_type": "stream",
     "text": [
      "save callback...\n",
      "\n",
      "Epoch 00016: avg_val_mae improved from 3.27120 to 3.24727, saving model to gcnlstm.ckpt/_ckpt_epoch_16.ckpt\n"
     ]
    },
    {
     "name": "stderr",
     "output_type": "stream",
     "text": [
      " 75%|███████▌  | 3/4 [01:17<00:20, 20.28s/it, avg_val_loss=1.95, avg_val_mae=3.27, batch_nb=1, epoch=16, tng_loss=2.250, v_nb=5]"
     ]
    },
    {
     "name": "stdout",
     "output_type": "stream",
     "text": [
      "save callback...\n",
      "\n",
      "Epoch 00017: avg_val_mae did not improve\n"
     ]
    },
    {
     "name": "stderr",
     "output_type": "stream",
     "text": [
      " 75%|███████▌  | 3/4 [01:11<00:18, 18.66s/it, avg_val_loss=1.95, avg_val_mae=3.25, batch_nb=1, epoch=17, tng_loss=2.237, v_nb=5]"
     ]
    },
    {
     "name": "stdout",
     "output_type": "stream",
     "text": [
      "save callback...\n",
      "\n",
      "Epoch 00018: avg_val_mae did not improve\n"
     ]
    },
    {
     "name": "stderr",
     "output_type": "stream",
     "text": [
      " 75%|███████▌  | 3/4 [01:14<00:19, 19.37s/it, avg_val_loss=1.94, avg_val_mae=3.24, batch_nb=1, epoch=18, tng_loss=2.224, v_nb=5]"
     ]
    },
    {
     "name": "stdout",
     "output_type": "stream",
     "text": [
      "save callback...\n",
      "\n",
      "Epoch 00019: avg_val_mae improved from 3.24727 to 3.23691, saving model to gcnlstm.ckpt/_ckpt_epoch_19.ckpt\n"
     ]
    },
    {
     "name": "stderr",
     "output_type": "stream",
     "text": [
      " 75%|███████▌  | 3/4 [01:26<00:22, 22.45s/it, avg_val_loss=1.93, avg_val_mae=3.22, batch_nb=1, epoch=19, tng_loss=2.212, v_nb=5]"
     ]
    },
    {
     "name": "stdout",
     "output_type": "stream",
     "text": [
      "save callback...\n",
      "\n",
      "Epoch 00020: avg_val_mae improved from 3.23691 to 3.21988, saving model to gcnlstm.ckpt/_ckpt_epoch_20.ckpt\n"
     ]
    },
    {
     "name": "stderr",
     "output_type": "stream",
     "text": [
      " 75%|███████▌  | 3/4 [01:15<00:19, 19.75s/it, avg_val_loss=1.95, avg_val_mae=3.25, batch_nb=1, epoch=20, tng_loss=2.202, v_nb=5]"
     ]
    },
    {
     "name": "stdout",
     "output_type": "stream",
     "text": [
      "save callback...\n",
      "\n",
      "Epoch 00021: avg_val_mae did not improve\n"
     ]
    },
    {
     "name": "stderr",
     "output_type": "stream",
     "text": [
      " 75%|███████▌  | 3/4 [01:11<00:18, 18.71s/it, avg_val_loss=1.9, avg_val_mae=3.17, batch_nb=1, epoch=21, tng_loss=2.193, v_nb=5] "
     ]
    },
    {
     "name": "stdout",
     "output_type": "stream",
     "text": [
      "save callback...\n",
      "\n",
      "Epoch 00022: avg_val_mae improved from 3.21988 to 3.17357, saving model to gcnlstm.ckpt/_ckpt_epoch_22.ckpt\n"
     ]
    },
    {
     "name": "stderr",
     "output_type": "stream",
     "text": [
      " 75%|███████▌  | 3/4 [01:29<00:23, 23.23s/it, avg_val_loss=1.93, avg_val_mae=3.23, batch_nb=1, epoch=22, tng_loss=2.182, v_nb=5]"
     ]
    },
    {
     "name": "stdout",
     "output_type": "stream",
     "text": [
      "save callback...\n",
      "\n",
      "Epoch 00023: avg_val_mae did not improve\n"
     ]
    },
    {
     "name": "stderr",
     "output_type": "stream",
     "text": [
      " 75%|███████▌  | 3/4 [01:07<00:17, 17.73s/it, avg_val_loss=1.9, avg_val_mae=3.17, batch_nb=1, epoch=23, tng_loss=2.173, v_nb=5] "
     ]
    },
    {
     "name": "stdout",
     "output_type": "stream",
     "text": [
      "save callback...\n",
      "\n",
      "Epoch 00024: avg_val_mae improved from 3.17357 to 3.17214, saving model to gcnlstm.ckpt/_ckpt_epoch_24.ckpt\n"
     ]
    },
    {
     "name": "stderr",
     "output_type": "stream",
     "text": [
      " 75%|███████▌  | 3/4 [01:05<00:17, 17.20s/it, avg_val_loss=1.89, avg_val_mae=3.16, batch_nb=1, epoch=24, tng_loss=2.164, v_nb=5]"
     ]
    },
    {
     "name": "stdout",
     "output_type": "stream",
     "text": [
      "save callback...\n",
      "\n",
      "Epoch 00025: avg_val_mae improved from 3.17214 to 3.15840, saving model to gcnlstm.ckpt/_ckpt_epoch_25.ckpt\n"
     ]
    },
    {
     "name": "stderr",
     "output_type": "stream",
     "text": [
      " 75%|███████▌  | 3/4 [01:13<00:19, 19.68s/it, avg_val_loss=1.88, avg_val_mae=3.13, batch_nb=1, epoch=25, tng_loss=2.155, v_nb=5]"
     ]
    },
    {
     "name": "stdout",
     "output_type": "stream",
     "text": [
      "save callback...\n",
      "\n",
      "Epoch 00026: avg_val_mae improved from 3.15840 to 3.13434, saving model to gcnlstm.ckpt/_ckpt_epoch_26.ckpt\n"
     ]
    },
    {
     "name": "stderr",
     "output_type": "stream",
     "text": [
      " 75%|███████▌  | 3/4 [01:08<00:18, 18.19s/it, avg_val_loss=2.08, avg_val_mae=3.47, batch_nb=1, epoch=26, tng_loss=2.148, v_nb=5]"
     ]
    },
    {
     "name": "stdout",
     "output_type": "stream",
     "text": [
      "save callback...\n",
      "\n",
      "Epoch 00027: avg_val_mae did not improve\n"
     ]
    },
    {
     "name": "stderr",
     "output_type": "stream",
     "text": [
      " 75%|███████▌  | 3/4 [01:20<00:21, 21.62s/it, avg_val_loss=1.88, avg_val_mae=3.14, batch_nb=1, epoch=27, tng_loss=2.143, v_nb=5]"
     ]
    },
    {
     "name": "stdout",
     "output_type": "stream",
     "text": [
      "save callback...\n",
      "\n",
      "Epoch 00028: avg_val_mae did not improve\n"
     ]
    },
    {
     "name": "stderr",
     "output_type": "stream",
     "text": [
      " 75%|███████▌  | 3/4 [01:49<00:28, 28.55s/it, avg_val_loss=1.89, avg_val_mae=3.16, batch_nb=1, epoch=28, tng_loss=2.137, v_nb=5]"
     ]
    },
    {
     "name": "stdout",
     "output_type": "stream",
     "text": [
      "save callback...\n",
      "\n",
      "Epoch 00029: avg_val_mae did not improve\n"
     ]
    },
    {
     "name": "stderr",
     "output_type": "stream",
     "text": [
      " 75%|███████▌  | 3/4 [01:10<00:18, 18.61s/it, avg_val_loss=1.89, avg_val_mae=3.16, batch_nb=1, epoch=29, tng_loss=2.132, v_nb=5]"
     ]
    },
    {
     "name": "stdout",
     "output_type": "stream",
     "text": [
      "Epoch    30: reducing learning rate of group 0 to 1.0000e-03.\n",
      "save callback...\n",
      "\n",
      "Epoch 00030: avg_val_mae did not improve\n"
     ]
    },
    {
     "name": "stderr",
     "output_type": "stream",
     "text": [
      " 75%|███████▌  | 3/4 [01:14<00:19, 19.52s/it, avg_val_loss=1.88, avg_val_mae=3.15, batch_nb=1, epoch=30, tng_loss=2.126, v_nb=5]"
     ]
    },
    {
     "name": "stdout",
     "output_type": "stream",
     "text": [
      "save callback...\n",
      "\n",
      "Epoch 00031: avg_val_mae did not improve\n"
     ]
    },
    {
     "name": "stderr",
     "output_type": "stream",
     "text": [
      " 75%|███████▌  | 3/4 [01:13<00:19, 19.45s/it, avg_val_loss=1.88, avg_val_mae=3.14, batch_nb=1, epoch=31, tng_loss=2.121, v_nb=5]"
     ]
    },
    {
     "name": "stdout",
     "output_type": "stream",
     "text": [
      "save callback...\n",
      "\n",
      "Epoch 00032: avg_val_mae did not improve\n"
     ]
    },
    {
     "name": "stderr",
     "output_type": "stream",
     "text": [
      " 75%|███████▌  | 3/4 [01:17<00:20, 20.64s/it, avg_val_loss=1.87, avg_val_mae=3.12, batch_nb=1, epoch=32, tng_loss=2.117, v_nb=5]"
     ]
    },
    {
     "name": "stdout",
     "output_type": "stream",
     "text": [
      "save callback...\n",
      "\n",
      "Epoch 00033: avg_val_mae improved from 3.13434 to 3.12392, saving model to gcnlstm.ckpt/_ckpt_epoch_33.ckpt\n"
     ]
    },
    {
     "name": "stderr",
     "output_type": "stream",
     "text": [
      " 75%|███████▌  | 3/4 [01:12<00:18, 18.93s/it, avg_val_loss=1.86, avg_val_mae=3.11, batch_nb=1, epoch=33, tng_loss=2.106, v_nb=5]"
     ]
    },
    {
     "name": "stdout",
     "output_type": "stream",
     "text": [
      "save callback...\n",
      "\n",
      "Epoch 00034: avg_val_mae improved from 3.12392 to 3.11101, saving model to gcnlstm.ckpt/_ckpt_epoch_34.ckpt\n"
     ]
    },
    {
     "name": "stderr",
     "output_type": "stream",
     "text": [
      " 75%|███████▌  | 3/4 [01:24<00:22, 22.48s/it, avg_val_loss=1.86, avg_val_mae=3.1, batch_nb=1, epoch=34, tng_loss=2.088, v_nb=5] "
     ]
    },
    {
     "name": "stdout",
     "output_type": "stream",
     "text": [
      "save callback...\n",
      "\n",
      "Epoch 00035: avg_val_mae improved from 3.11101 to 3.10242, saving model to gcnlstm.ckpt/_ckpt_epoch_35.ckpt\n"
     ]
    },
    {
     "name": "stderr",
     "output_type": "stream",
     "text": [
      " 75%|███████▌  | 3/4 [01:12<00:19, 19.01s/it, avg_val_loss=1.86, avg_val_mae=3.1, batch_nb=1, epoch=35, tng_loss=2.071, v_nb=5]"
     ]
    },
    {
     "name": "stdout",
     "output_type": "stream",
     "text": [
      "save callback...\n",
      "\n",
      "Epoch 00036: avg_val_mae improved from 3.10242 to 3.09937, saving model to gcnlstm.ckpt/_ckpt_epoch_36.ckpt\n"
     ]
    },
    {
     "name": "stderr",
     "output_type": "stream",
     "text": [
      " 75%|███████▌  | 3/4 [01:11<00:18, 18.76s/it, avg_val_loss=1.85, avg_val_mae=3.1, batch_nb=1, epoch=36, tng_loss=2.056, v_nb=5]"
     ]
    },
    {
     "name": "stdout",
     "output_type": "stream",
     "text": [
      "save callback...\n",
      "\n",
      "Epoch 00037: avg_val_mae improved from 3.09937 to 3.09626, saving model to gcnlstm.ckpt/_ckpt_epoch_37.ckpt\n"
     ]
    },
    {
     "name": "stderr",
     "output_type": "stream",
     "text": [
      " 75%|███████▌  | 3/4 [01:13<00:19, 19.30s/it, avg_val_loss=1.85, avg_val_mae=3.09, batch_nb=1, epoch=37, tng_loss=2.041, v_nb=5]"
     ]
    },
    {
     "name": "stdout",
     "output_type": "stream",
     "text": [
      "save callback...\n",
      "\n",
      "Epoch 00038: avg_val_mae improved from 3.09626 to 3.09094, saving model to gcnlstm.ckpt/_ckpt_epoch_38.ckpt\n"
     ]
    },
    {
     "name": "stderr",
     "output_type": "stream",
     "text": [
      " 75%|███████▌  | 3/4 [01:15<00:19, 19.61s/it, avg_val_loss=1.85, avg_val_mae=3.09, batch_nb=1, epoch=38, tng_loss=2.026, v_nb=5]"
     ]
    },
    {
     "name": "stdout",
     "output_type": "stream",
     "text": [
      "save callback...\n",
      "\n",
      "Epoch 00039: avg_val_mae improved from 3.09094 to 3.08814, saving model to gcnlstm.ckpt/_ckpt_epoch_39.ckpt\n"
     ]
    },
    {
     "name": "stderr",
     "output_type": "stream",
     "text": [
      " 75%|███████▌  | 3/4 [01:17<00:20, 20.45s/it, avg_val_loss=1.85, avg_val_mae=3.09, batch_nb=1, epoch=39, tng_loss=2.016, v_nb=5]"
     ]
    },
    {
     "name": "stdout",
     "output_type": "stream",
     "text": [
      "save callback...\n",
      "\n",
      "Epoch 00040: avg_val_mae did not improve\n"
     ]
    },
    {
     "name": "stderr",
     "output_type": "stream",
     "text": [
      " 75%|███████▌  | 3/4 [01:14<00:19, 19.59s/it, avg_val_loss=1.85, avg_val_mae=3.09, batch_nb=1, epoch=40, tng_loss=2.006, v_nb=5]"
     ]
    },
    {
     "name": "stdout",
     "output_type": "stream",
     "text": [
      "save callback...\n",
      "\n",
      "Epoch 00041: avg_val_mae did not improve\n"
     ]
    },
    {
     "name": "stderr",
     "output_type": "stream",
     "text": [
      " 75%|███████▌  | 3/4 [01:11<00:18, 18.80s/it, avg_val_loss=1.85, avg_val_mae=3.09, batch_nb=1, epoch=41, tng_loss=1.997, v_nb=5]"
     ]
    },
    {
     "name": "stdout",
     "output_type": "stream",
     "text": [
      "save callback...\n",
      "\n",
      "Epoch 00042: avg_val_mae did not improve\n"
     ]
    },
    {
     "name": "stderr",
     "output_type": "stream",
     "text": [
      " 75%|███████▌  | 3/4 [01:23<00:21, 21.59s/it, avg_val_loss=1.85, avg_val_mae=3.08, batch_nb=1, epoch=42, tng_loss=1.988, v_nb=5]"
     ]
    },
    {
     "name": "stdout",
     "output_type": "stream",
     "text": [
      "save callback...\n",
      "\n",
      "Epoch 00043: avg_val_mae improved from 3.08814 to 3.08432, saving model to gcnlstm.ckpt/_ckpt_epoch_43.ckpt\n"
     ]
    },
    {
     "name": "stderr",
     "output_type": "stream",
     "text": [
      " 75%|███████▌  | 3/4 [01:31<00:23, 23.97s/it, avg_val_loss=1.85, avg_val_mae=3.09, batch_nb=1, epoch=43, tng_loss=1.982, v_nb=5]"
     ]
    },
    {
     "name": "stdout",
     "output_type": "stream",
     "text": [
      "save callback...\n",
      "\n",
      "Epoch 00044: avg_val_mae did not improve\n"
     ]
    },
    {
     "name": "stderr",
     "output_type": "stream",
     "text": [
      " 50%|█████     | 2/4 [01:01<00:18,  9.38s/it, avg_val_loss=1.85, avg_val_mae=3.09, batch_nb=1, epoch=44, tng_loss=1.973, v_nb=5]"
     ]
    }
   ],
   "source": [
    "from src.nmf.lsm_rn import LSM_RN\n",
    "from pytorch_lightning import Trainer\n",
    "from pytorch_lightning.callbacks import ModelCheckpoint\n",
    "from test_tube import Experiment\n",
    "from src.gcn_lstm.gcn_lstm_model import GCNLSTMModel \n",
    "\n",
    "model = GCNLSTMModel(38, 6, 3, adj_dense, ts_dataset, speed_transform=speed_pipeline, timesteps=WINDOW - 1, batch_size=32)\n",
    "exp = Experiment(save_dir='gcnlstm_logs')\n",
    "checkpoint_callback = ModelCheckpoint(\n",
    "    filepath='gcnlstm.ckpt',\n",
    "    save_best_only=True,\n",
    "    verbose=True,\n",
    "    monitor='avg_val_mae',\n",
    "    mode='min'\n",
    ")\n",
    "\n",
    "# most basic trainer, uses good defaults\n",
    "trainer = Trainer(experiment=exp, checkpoint_callback=checkpoint_callback)  \n",
    "#trainer = Trainer(experiment=exp)    \n",
    "trainer.fit(model)\n",
    "#TODO lr decay"
   ]
  },
  {
   "cell_type": "code",
   "execution_count": null,
   "metadata": {},
   "outputs": [],
   "source": []
  }
 ],
 "metadata": {
  "jupytext": {
   "encoding": "# -*- coding: utf-8 -*-",
   "text_representation": {
    "extension": ".py",
    "format_name": "light",
    "format_version": "1.4",
    "jupytext_version": "1.2.1"
   }
  },
  "kernelspec": {
   "display_name": "Python 3",
   "language": "python",
   "name": "python3"
  },
  "language_info": {
   "codemirror_mode": {
    "name": "ipython",
    "version": 3
   },
   "file_extension": ".py",
   "mimetype": "text/x-python",
   "name": "python",
   "nbconvert_exporter": "python",
   "pygments_lexer": "ipython3",
   "version": "3.6.8"
  }
 },
 "nbformat": 4,
 "nbformat_minor": 4
}
