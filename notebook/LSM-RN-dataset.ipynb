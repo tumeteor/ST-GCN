{
 "cells": [
  {
   "cell_type": "code",
   "execution_count": 1,
   "metadata": {},
   "outputs": [],
   "source": [
    "%reload_ext autoreload\n",
    "%autoreload 2"
   ]
  },
  {
   "cell_type": "code",
   "execution_count": 2,
   "metadata": {},
   "outputs": [],
   "source": [
    "import sys\n",
    "sys.path.append('../')"
   ]
  },
  {
   "cell_type": "code",
   "execution_count": 3,
   "metadata": {},
   "outputs": [],
   "source": [
    "TOTAL_T_STEPS = 144"
   ]
  },
  {
   "cell_type": "markdown",
   "metadata": {},
   "source": [
    "# Get adjacency matrix for our partitions of Jurbey map"
   ]
  },
  {
   "cell_type": "code",
   "execution_count": 4,
   "metadata": {},
   "outputs": [],
   "source": [
    "from src.graph_utils import partition_graph_by_lonlat\n",
    "import networkx as nx\n",
    "from jurbey.jurbey import JURBEY\n",
    "\n",
    "with open(\"../data/1558537930325.jurbey\", 'rb') as tempf:\n",
    "    g = JURBEY.load(tempf.read())\n",
    "    \n",
    "g_partition = partition_graph_by_lonlat(g)\n",
    "\n",
    "A = nx.adjacency_matrix(g_partition)"
   ]
  },
  {
   "cell_type": "markdown",
   "metadata": {},
   "source": [
    "# Convert timeseries raw data into sparse tensor\n",
    "Tensor size: 144 timestamps by adjacency matrix of speeds"
   ]
  },
  {
   "cell_type": "code",
   "execution_count": 5,
   "metadata": {},
   "outputs": [],
   "source": [
    "import pandas"
   ]
  },
  {
   "cell_type": "code",
   "execution_count": 6,
   "metadata": {},
   "outputs": [],
   "source": [
    "df = pandas.read_csv(\"../data/timeseries_speed_april_first_week.csv\")"
   ]
  },
  {
   "cell_type": "code",
   "execution_count": 7,
   "metadata": {},
   "outputs": [
    {
     "data": {
      "text/html": [
       "<div>\n",
       "<style scoped>\n",
       "    .dataframe tbody tr th:only-of-type {\n",
       "        vertical-align: middle;\n",
       "    }\n",
       "\n",
       "    .dataframe tbody tr th {\n",
       "        vertical-align: top;\n",
       "    }\n",
       "\n",
       "    .dataframe thead th {\n",
       "        text-align: right;\n",
       "    }\n",
       "</style>\n",
       "<table border=\"1\" class=\"dataframe\">\n",
       "  <thead>\n",
       "    <tr style=\"text-align: right;\">\n",
       "      <th></th>\n",
       "      <th>Unnamed: 0</th>\n",
       "      <th>0</th>\n",
       "      <th>1</th>\n",
       "      <th>2</th>\n",
       "      <th>3</th>\n",
       "      <th>4</th>\n",
       "      <th>5</th>\n",
       "      <th>6</th>\n",
       "      <th>7</th>\n",
       "      <th>8</th>\n",
       "      <th>...</th>\n",
       "      <th>136</th>\n",
       "      <th>137</th>\n",
       "      <th>138</th>\n",
       "      <th>139</th>\n",
       "      <th>140</th>\n",
       "      <th>141</th>\n",
       "      <th>142</th>\n",
       "      <th>143</th>\n",
       "      <th>from_node</th>\n",
       "      <th>to_node</th>\n",
       "    </tr>\n",
       "  </thead>\n",
       "  <tbody>\n",
       "    <tr>\n",
       "      <th>0</th>\n",
       "      <td>result.average</td>\n",
       "      <td>NaN</td>\n",
       "      <td>NaN</td>\n",
       "      <td>NaN</td>\n",
       "      <td>10.854457</td>\n",
       "      <td>NaN</td>\n",
       "      <td>5.680978</td>\n",
       "      <td>7.036838</td>\n",
       "      <td>1.499997</td>\n",
       "      <td>10.088634</td>\n",
       "      <td>...</td>\n",
       "      <td>10.581123</td>\n",
       "      <td>NaN</td>\n",
       "      <td>NaN</td>\n",
       "      <td>NaN</td>\n",
       "      <td>NaN</td>\n",
       "      <td>NaN</td>\n",
       "      <td>10.850843</td>\n",
       "      <td>10.036408</td>\n",
       "      <td>628154368</td>\n",
       "      <td>1023689595</td>\n",
       "    </tr>\n",
       "    <tr>\n",
       "      <th>1</th>\n",
       "      <td>result.average</td>\n",
       "      <td>NaN</td>\n",
       "      <td>NaN</td>\n",
       "      <td>NaN</td>\n",
       "      <td>10.854457</td>\n",
       "      <td>NaN</td>\n",
       "      <td>5.680978</td>\n",
       "      <td>7.036838</td>\n",
       "      <td>1.499997</td>\n",
       "      <td>10.088634</td>\n",
       "      <td>...</td>\n",
       "      <td>10.581123</td>\n",
       "      <td>NaN</td>\n",
       "      <td>NaN</td>\n",
       "      <td>NaN</td>\n",
       "      <td>NaN</td>\n",
       "      <td>NaN</td>\n",
       "      <td>10.850843</td>\n",
       "      <td>10.036408</td>\n",
       "      <td>628154368</td>\n",
       "      <td>1023689595</td>\n",
       "    </tr>\n",
       "    <tr>\n",
       "      <th>2</th>\n",
       "      <td>result.average</td>\n",
       "      <td>NaN</td>\n",
       "      <td>NaN</td>\n",
       "      <td>NaN</td>\n",
       "      <td>NaN</td>\n",
       "      <td>NaN</td>\n",
       "      <td>10.486210</td>\n",
       "      <td>NaN</td>\n",
       "      <td>NaN</td>\n",
       "      <td>10.937218</td>\n",
       "      <td>...</td>\n",
       "      <td>NaN</td>\n",
       "      <td>NaN</td>\n",
       "      <td>NaN</td>\n",
       "      <td>NaN</td>\n",
       "      <td>NaN</td>\n",
       "      <td>NaN</td>\n",
       "      <td>NaN</td>\n",
       "      <td>NaN</td>\n",
       "      <td>527147009</td>\n",
       "      <td>27537239</td>\n",
       "    </tr>\n",
       "    <tr>\n",
       "      <th>3</th>\n",
       "      <td>result.average</td>\n",
       "      <td>NaN</td>\n",
       "      <td>NaN</td>\n",
       "      <td>NaN</td>\n",
       "      <td>NaN</td>\n",
       "      <td>NaN</td>\n",
       "      <td>NaN</td>\n",
       "      <td>NaN</td>\n",
       "      <td>NaN</td>\n",
       "      <td>NaN</td>\n",
       "      <td>...</td>\n",
       "      <td>NaN</td>\n",
       "      <td>NaN</td>\n",
       "      <td>NaN</td>\n",
       "      <td>NaN</td>\n",
       "      <td>NaN</td>\n",
       "      <td>NaN</td>\n",
       "      <td>NaN</td>\n",
       "      <td>NaN</td>\n",
       "      <td>527147009</td>\n",
       "      <td>26908815</td>\n",
       "    </tr>\n",
       "    <tr>\n",
       "      <th>4</th>\n",
       "      <td>result.average</td>\n",
       "      <td>NaN</td>\n",
       "      <td>NaN</td>\n",
       "      <td>NaN</td>\n",
       "      <td>10.468811</td>\n",
       "      <td>10.636621</td>\n",
       "      <td>10.288534</td>\n",
       "      <td>10.617513</td>\n",
       "      <td>1.758539</td>\n",
       "      <td>3.404401</td>\n",
       "      <td>...</td>\n",
       "      <td>6.098767</td>\n",
       "      <td>10.257657</td>\n",
       "      <td>10.586166</td>\n",
       "      <td>NaN</td>\n",
       "      <td>10.669476</td>\n",
       "      <td>4.313417</td>\n",
       "      <td>10.392901</td>\n",
       "      <td>10.518310</td>\n",
       "      <td>628154370</td>\n",
       "      <td>3804638178</td>\n",
       "    </tr>\n",
       "  </tbody>\n",
       "</table>\n",
       "<p>5 rows × 147 columns</p>\n",
       "</div>"
      ],
      "text/plain": [
       "       Unnamed: 0   0   1   2          3          4          5          6  \\\n",
       "0  result.average NaN NaN NaN  10.854457        NaN   5.680978   7.036838   \n",
       "1  result.average NaN NaN NaN  10.854457        NaN   5.680978   7.036838   \n",
       "2  result.average NaN NaN NaN        NaN        NaN  10.486210        NaN   \n",
       "3  result.average NaN NaN NaN        NaN        NaN        NaN        NaN   \n",
       "4  result.average NaN NaN NaN  10.468811  10.636621  10.288534  10.617513   \n",
       "\n",
       "          7          8  ...        136        137        138  139        140  \\\n",
       "0  1.499997  10.088634  ...  10.581123        NaN        NaN  NaN        NaN   \n",
       "1  1.499997  10.088634  ...  10.581123        NaN        NaN  NaN        NaN   \n",
       "2       NaN  10.937218  ...        NaN        NaN        NaN  NaN        NaN   \n",
       "3       NaN        NaN  ...        NaN        NaN        NaN  NaN        NaN   \n",
       "4  1.758539   3.404401  ...   6.098767  10.257657  10.586166  NaN  10.669476   \n",
       "\n",
       "        141        142        143  from_node     to_node  \n",
       "0       NaN  10.850843  10.036408  628154368  1023689595  \n",
       "1       NaN  10.850843  10.036408  628154368  1023689595  \n",
       "2       NaN        NaN        NaN  527147009    27537239  \n",
       "3       NaN        NaN        NaN  527147009    26908815  \n",
       "4  4.313417  10.392901  10.518310  628154370  3804638178  \n",
       "\n",
       "[5 rows x 147 columns]"
      ]
     },
     "execution_count": 7,
     "metadata": {},
     "output_type": "execute_result"
    }
   ],
   "source": [
    "df.head()"
   ]
  },
  {
   "cell_type": "code",
   "execution_count": 8,
   "metadata": {},
   "outputs": [],
   "source": [
    "#Our speed data uses segment ids, but the model uses sequential indexes, based on `.nodes()`\n",
    "import math\n",
    "id_to_idx = {}\n",
    "# defaultdict won't do what you expect in Pandas\n",
    "\n",
    "for id_ in df[\"from_node\"].unique():\n",
    "    id_to_idx[id_] = math.nan\n",
    "for id_ in df[\"to_node\"].unique():\n",
    "    id_to_idx[id_] = math.nan\n",
    "    \n",
    "for idx, id_ in enumerate(g_partition.nodes()):\n",
    "    id_to_idx[id_] = idx"
   ]
  },
  {
   "cell_type": "code",
   "execution_count": 9,
   "metadata": {},
   "outputs": [],
   "source": [
    "# Let's transform ids to indeces\n",
    "df[\"from_node_idx\"] = df.replace({\"from_node\": id_to_idx})[\"from_node\"]\n",
    "df[\"to_node_idx\"] = df.replace({\"to_node\": id_to_idx})[\"to_node\"]\n"
   ]
  },
  {
   "cell_type": "code",
   "execution_count": 10,
   "metadata": {},
   "outputs": [
    {
     "data": {
      "text/plain": [
       "['result.average',\n",
       " nan,\n",
       " nan,\n",
       " nan,\n",
       " 10.854456901550293,\n",
       " nan,\n",
       " 5.680978015065192,\n",
       " 7.036837716897327,\n",
       " 1.499997317790985,\n",
       " 10.088634490966797,\n",
       " 10.587458610534668,\n",
       " 5.728897273540497,\n",
       " nan,\n",
       " 10.424983978271484,\n",
       " 10.695239067077637,\n",
       " 10.860746383666992,\n",
       " 10.227892875671387,\n",
       " 6.5158751845359815,\n",
       " 7.626661856969196,\n",
       " nan,\n",
       " 10.888219833374023,\n",
       " 0.09290917962789537,\n",
       " 10.04336166381836,\n",
       " nan,\n",
       " nan,\n",
       " nan,\n",
       " nan,\n",
       " nan,\n",
       " nan,\n",
       " nan,\n",
       " nan,\n",
       " nan,\n",
       " 5.990433931350707,\n",
       " 10.685218811035156,\n",
       " nan,\n",
       " nan,\n",
       " nan,\n",
       " 0.12788043916225433,\n",
       " 10.66620922088623,\n",
       " nan,\n",
       " 10.906200408935547,\n",
       " 10.888219833374023,\n",
       " nan,\n",
       " nan,\n",
       " nan,\n",
       " 10.180190086364746,\n",
       " nan,\n",
       " nan,\n",
       " nan,\n",
       " nan,\n",
       " nan,\n",
       " nan,\n",
       " nan,\n",
       " nan,\n",
       " 0.032882336527109146,\n",
       " 10.688431739807127,\n",
       " nan,\n",
       " 10.213324069976807,\n",
       " nan,\n",
       " nan,\n",
       " nan,\n",
       " nan,\n",
       " nan,\n",
       " nan,\n",
       " nan,\n",
       " 10.584891319274902,\n",
       " 10.4745512008667,\n",
       " nan,\n",
       " nan,\n",
       " 10.502264976501463,\n",
       " nan,\n",
       " nan,\n",
       " nan,\n",
       " nan,\n",
       " nan,\n",
       " nan,\n",
       " nan,\n",
       " nan,\n",
       " nan,\n",
       " 0.03561574593186378,\n",
       " nan,\n",
       " 10.99352741241455,\n",
       " 0.15259762108325958,\n",
       " 10.398566722869873,\n",
       " nan,\n",
       " 0.2671375870704651,\n",
       " nan,\n",
       " nan,\n",
       " 10.231729507446287,\n",
       " 10.055193901062012,\n",
       " 7.26131574312846,\n",
       " 10.30036735534668,\n",
       " 10.399898529052734,\n",
       " nan,\n",
       " 10.10429573059082,\n",
       " 10.425081253051758,\n",
       " 10.493433952331543,\n",
       " nan,\n",
       " nan,\n",
       " 10.77075481414795,\n",
       " nan,\n",
       " nan,\n",
       " nan,\n",
       " nan,\n",
       " nan,\n",
       " nan,\n",
       " nan,\n",
       " nan,\n",
       " nan,\n",
       " nan,\n",
       " nan,\n",
       " nan,\n",
       " nan,\n",
       " nan,\n",
       " 10.097456932067873,\n",
       " nan,\n",
       " nan,\n",
       " 10.10558032989502,\n",
       " nan,\n",
       " 10.415284156799316,\n",
       " 10.031886100769043,\n",
       " nan,\n",
       " nan,\n",
       " nan,\n",
       " nan,\n",
       " nan,\n",
       " nan,\n",
       " nan,\n",
       " nan,\n",
       " nan,\n",
       " 1.708004593849182,\n",
       " nan,\n",
       " 10.626665115356444,\n",
       " nan,\n",
       " nan,\n",
       " nan,\n",
       " 0.0382477268576622,\n",
       " 10.58112335205078,\n",
       " nan,\n",
       " nan,\n",
       " nan,\n",
       " nan,\n",
       " nan,\n",
       " 10.85084342956543,\n",
       " 10.03640842437744]"
      ]
     },
     "execution_count": 10,
     "metadata": {},
     "output_type": "execute_result"
    }
   ],
   "source": [
    "df.loc[0][0:-4].values.tolist()"
   ]
  },
  {
   "cell_type": "code",
   "execution_count": 11,
   "metadata": {},
   "outputs": [],
   "source": [
    "from_nodes = df.from_node.values\n",
    "to_nodes = df.to_node.values\n",
    "import numpy as np\n",
    "for edge in g_partition.edges():\n",
    "    if edge[0] not in from_nodes or edge[1] not in to_nodes:\n",
    "        a = df.loc[0][0:-4].values\n",
    "        b = df.loc[0][-4:].values\n",
    "        df.loc[len(df)] = np.concatenate((a,[edge[0], edge[1]], b[-2:]))\n"
   ]
  },
  {
   "cell_type": "code",
   "execution_count": 12,
   "metadata": {},
   "outputs": [
    {
     "data": {
      "text/plain": [
       "6163"
      ]
     },
     "execution_count": 12,
     "metadata": {},
     "output_type": "execute_result"
    }
   ],
   "source": [
    "len(df)"
   ]
  },
  {
   "cell_type": "markdown",
   "metadata": {},
   "source": [
    "## First let's build sparse 3D data tensor"
   ]
  },
  {
   "cell_type": "code",
   "execution_count": 13,
   "metadata": {},
   "outputs": [],
   "source": [
    "import torch\n",
    "\n",
    "def snapshot(t, df=df, g_partition=g_partition):\n",
    "    df_t = df[[t, \"from_node_idx\", \"to_node_idx\"]]\n",
    "    df_t = df_t.dropna()\n",
    "    row = df_t[\"from_node_idx\"].tolist()\n",
    "    col = df_t[\"to_node_idx\"].tolist()\n",
    "    data = df_t[t].tolist()\n",
    "    size = len(g_partition.nodes()) \n",
    "\n",
    "    return {\"indices\": (row, col), \"values\": data, \"shape\": (size, size)}"
   ]
  },
  {
   "cell_type": "code",
   "execution_count": 14,
   "metadata": {},
   "outputs": [],
   "source": [
    "from scipy.sparse import hstack\n",
    "\n",
    "def build_sparse_dataset(from_=0, to=TOTAL_T_STEPS):\n",
    "    dataset = {\"indices\": ([], [], []), \"values\": []}\n",
    "    for t in range(from_, to):\n",
    "\n",
    "        snap = snapshot(str(t))\n",
    "        dataset[\"indices\"][0].extend([t] * len(snap[\"indices\"][0]))\n",
    "        dataset[\"indices\"][1].extend(snap[\"indices\"][0])\n",
    "        dataset[\"indices\"][2].extend(snap[\"indices\"][1])\n",
    "        dataset[\"values\"].extend(snap[\"values\"])\n",
    "\n",
    "    i = torch.LongTensor(dataset[\"indices\"])\n",
    "    v = torch.FloatTensor(dataset[\"values\"])\n",
    "    return torch.sparse.FloatTensor(i, v, torch.Size((to, *snap[\"shape\"])))\n",
    "\n",
    "dataset = build_sparse_dataset()"
   ]
  },
  {
   "cell_type": "markdown",
   "metadata": {},
   "source": [
    "## Now let's split sparse TxKxK Tensor into 3 TxKxK tensors for training, validation and testing"
   ]
  },
  {
   "cell_type": "code",
   "execution_count": 15,
   "metadata": {
    "lines_to_next_cell": 0
   },
   "outputs": [],
   "source": [
    "nonzero_values_cnt = len(dataset._values())\n",
    "# what percent goes into training/validation/testing\n",
    "tng_pct = 0.7\n",
    "val_pct = 0.1\n",
    "tst_pct = 1 - tng_pct - val_pct\n",
    "# now we want to split list of all non-zeros promortionally:\n",
    "# [0, split1_idx], [split1_idx, split2_idx] and [split2_idx:]\n",
    "split1_idx = int(nonzero_values_cnt * tng_pct)\n",
    "split2_idx = -int(nonzero_values_cnt * tst_pct)"
   ]
  },
  {
   "cell_type": "code",
   "execution_count": 16,
   "metadata": {
    "lines_to_next_cell": 0
   },
   "outputs": [],
   "source": [
    "from random import shuffle\n",
    "\n",
    "# but we select indexes randomly\n",
    "idxs = list(range(nonzero_values_cnt))\n",
    "shuffle(idxs)\n",
    "# these are non-zero indexes\n",
    "tng_idxs = idxs[:split1_idx]\n",
    "val_idxs = idxs[split1_idx:split2_idx]\n",
    "tst_inxs = idxs[split2_idx:]"
   ]
  },
  {
   "cell_type": "code",
   "execution_count": 17,
   "metadata": {},
   "outputs": [
    {
     "data": {
      "text/plain": [
       "100.8"
      ]
     },
     "execution_count": 17,
     "metadata": {},
     "output_type": "execute_result"
    }
   ],
   "source": [
    "144 * 0.7"
   ]
  },
  {
   "cell_type": "code",
   "execution_count": 18,
   "metadata": {},
   "outputs": [],
   "source": [
    "dataset_split = {}\n",
    "for name, idxs in [('tng', tng_idxs), ('val', val_idxs), ('tst', tst_inxs)]:\n",
    "    i = torch.LongTensor([\n",
    "        dataset._indices()[0][idxs].tolist(),\n",
    "        dataset._indices()[1][idxs].tolist(),\n",
    "        dataset._indices()[2][idxs].tolist()\n",
    "    ])\n",
    "    v = torch.FloatTensor(dataset._values()[idxs])\n",
    "    # NOTE sparse tensor is not supported yet by the model\n",
    "    dataset_split[name] = torch.sparse.FloatTensor(i, v, dataset.shape).to_dense()\n",
    "\n"
   ]
  },
  {
   "cell_type": "code",
   "execution_count": 22,
   "metadata": {},
   "outputs": [
    {
     "name": "stdout",
     "output_type": "stream",
     "text": [
      "144\n"
     ]
    }
   ],
   "source": [
    "print(len(dataset_split['tng']))"
   ]
  },
  {
   "cell_type": "markdown",
   "metadata": {},
   "source": [
    "# Let's train model"
   ]
  },
  {
   "cell_type": "code",
   "execution_count": 20,
   "metadata": {
    "lines_to_next_cell": 0
   },
   "outputs": [
    {
     "name": "stderr",
     "output_type": "stream",
     "text": [
      "WARNING:root:This caffe2 python run does not have GPU support. Will run in CPU only mode.\n"
     ]
    },
    {
     "name": "stdout",
     "output_type": "stream",
     "text": [
      "gpu available: False, used: False\n",
      "Empty DataFrame\n",
      "Columns: [Name, Type, Params]\n",
      "Index: []\n",
      "G shape: torch.Size([8, 3476, 3476])\n",
      "t: tensor([52, 79, 96, 80, 83, 26, 20, 16]), batch_nb: 0\n",
      "G shape: torch.Size([8, 3476, 3476])\n",
      "t: tensor([ 86, 143,  66,  38,  21,   1,  70,  82]), batch_nb: 1\n",
      "G shape: torch.Size([8, 3476, 3476])\n",
      "t: tensor([  5,  47, 101, 141,  10,  12,  88,  81]), batch_nb: 2\n",
      "G shape: torch.Size([8, 3476, 3476])\n",
      "t: tensor([ 53,  49,  61,  30, 129,  48,  72, 103]), batch_nb: 3\n",
      "G shape: torch.Size([8, 3476, 3476])\n",
      "t: tensor([116,  57,   0, 112,  15,  77,  84,  22]), batch_nb: 4\n"
     ]
    },
    {
     "name": "stderr",
     "output_type": "stream",
     "text": [
      "  3%|▎         | 1/36 [00:00<00:14,  2.41it/s]"
     ]
    },
    {
     "name": "stdout",
     "output_type": "stream",
     "text": [
      "G shape: torch.Size([8, 3476, 3476])\n",
      "t: tensor([16, 27, 64,  7, 66,  5, 88, 23]), batch_nb: 0\n"
     ]
    },
    {
     "name": "stderr",
     "output_type": "stream",
     "text": [
      "  6%|▌         | 2/36 [00:04<00:55,  1.63s/it, batch_nb=0, epoch=0, tng_loss=227.121, v_nb=1]"
     ]
    },
    {
     "name": "stdout",
     "output_type": "stream",
     "text": [
      "G shape: torch.Size([8, 3476, 3476])\n",
      "t: tensor([ 35,  33, 106,  49,  22,   1,  55,  36]), batch_nb: 1\n"
     ]
    },
    {
     "name": "stderr",
     "output_type": "stream",
     "text": [
      "  8%|▊         | 3/36 [00:08<01:17,  2.35s/it, batch_nb=1, epoch=0, tng_loss=212.203, v_nb=1]"
     ]
    },
    {
     "name": "stdout",
     "output_type": "stream",
     "text": [
      "G shape: torch.Size([8, 3476, 3476])\n",
      "t: tensor([ 46, 110,  42,  28,  20,  50,  53, 142]), batch_nb: 2\n"
     ]
    },
    {
     "name": "stderr",
     "output_type": "stream",
     "text": [
      " 11%|█         | 4/36 [00:13<01:35,  2.99s/it, batch_nb=2, epoch=0, tng_loss=210.876, v_nb=1]"
     ]
    },
    {
     "name": "stdout",
     "output_type": "stream",
     "text": [
      "G shape: torch.Size([8, 3476, 3476])\n",
      "t: tensor([  2, 116,   0,  73,  97,   3,  31,  10]), batch_nb: 3\n"
     ]
    },
    {
     "name": "stderr",
     "output_type": "stream",
     "text": [
      " 14%|█▍        | 5/36 [00:17<01:41,  3.28s/it, batch_nb=3, epoch=0, tng_loss=207.677, v_nb=1]"
     ]
    },
    {
     "name": "stdout",
     "output_type": "stream",
     "text": [
      "G shape: torch.Size([8, 3476, 3476])\n",
      "t: tensor([ 93,  90,  54,  57,  24, 105,  79, 104]), batch_nb: 4\n"
     ]
    },
    {
     "name": "stderr",
     "output_type": "stream",
     "text": [
      " 17%|█▋        | 6/36 [00:21<01:43,  3.43s/it, batch_nb=4, epoch=0, tng_loss=207.714, v_nb=1]"
     ]
    },
    {
     "name": "stdout",
     "output_type": "stream",
     "text": [
      "G shape: torch.Size([8, 3476, 3476])\n",
      "t: tensor([ 77,  75, 112,  25, 120, 138,  72, 134]), batch_nb: 5\n"
     ]
    },
    {
     "name": "stderr",
     "output_type": "stream",
     "text": [
      " 19%|█▉        | 7/36 [00:25<01:49,  3.77s/it, batch_nb=5, epoch=0, tng_loss=206.478, v_nb=1]"
     ]
    },
    {
     "name": "stdout",
     "output_type": "stream",
     "text": [
      "G shape: torch.Size([8, 3476, 3476])\n",
      "t: tensor([102,  59,  86, 119,  12,  38,  87,   9]), batch_nb: 6\n"
     ]
    },
    {
     "name": "stderr",
     "output_type": "stream",
     "text": [
      " 22%|██▏       | 8/36 [00:29<01:46,  3.79s/it, batch_nb=6, epoch=0, tng_loss=209.380, v_nb=1]"
     ]
    },
    {
     "name": "stdout",
     "output_type": "stream",
     "text": [
      "G shape: torch.Size([8, 3476, 3476])\n",
      "t: tensor([118,  80,  58, 141, 100, 133, 123,  62]), batch_nb: 7\n"
     ]
    },
    {
     "name": "stderr",
     "output_type": "stream",
     "text": [
      " 25%|██▌       | 9/36 [00:33<01:42,  3.81s/it, batch_nb=7, epoch=0, tng_loss=210.036, v_nb=1]"
     ]
    },
    {
     "name": "stdout",
     "output_type": "stream",
     "text": [
      "G shape: torch.Size([8, 3476, 3476])\n",
      "t: tensor([ 83, 124, 128,   4,  69,  40, 136, 139]), batch_nb: 8\n"
     ]
    },
    {
     "name": "stderr",
     "output_type": "stream",
     "text": [
      " 28%|██▊       | 10/36 [00:37<01:39,  3.83s/it, batch_nb=8, epoch=0, tng_loss=210.864, v_nb=1]"
     ]
    },
    {
     "name": "stdout",
     "output_type": "stream",
     "text": [
      "G shape: torch.Size([8, 3476, 3476])\n",
      "t: tensor([125,  30,  15,  29,  81,  11,  78,  91]), batch_nb: 9\n"
     ]
    },
    {
     "name": "stderr",
     "output_type": "stream",
     "text": [
      " 31%|███       | 11/36 [00:41<01:36,  3.88s/it, batch_nb=9, epoch=0, tng_loss=212.081, v_nb=1]"
     ]
    },
    {
     "name": "stdout",
     "output_type": "stream",
     "text": [
      "G shape: torch.Size([8, 3476, 3476])\n",
      "t: tensor([103, 143,  39,  71,  94,  96, 126,  74]), batch_nb: 10\n"
     ]
    },
    {
     "name": "stderr",
     "output_type": "stream",
     "text": [
      " 33%|███▎      | 12/36 [00:45<01:37,  4.04s/it, batch_nb=10, epoch=0, tng_loss=210.846, v_nb=1]"
     ]
    },
    {
     "name": "stdout",
     "output_type": "stream",
     "text": [
      "G shape: torch.Size([8, 3476, 3476])\n",
      "t: tensor([ 52, 114, 135,  82,  76,  18,  13,  67]), batch_nb: 11\n"
     ]
    },
    {
     "name": "stderr",
     "output_type": "stream",
     "text": [
      " 36%|███▌      | 13/36 [00:49<01:31,  3.97s/it, batch_nb=11, epoch=0, tng_loss=210.622, v_nb=1]"
     ]
    },
    {
     "name": "stdout",
     "output_type": "stream",
     "text": [
      "G shape: torch.Size([8, 3476, 3476])\n",
      "t: tensor([ 34, 129,  99, 107,  32, 113, 140,  45]), batch_nb: 12\n"
     ]
    },
    {
     "name": "stderr",
     "output_type": "stream",
     "text": [
      " 39%|███▉      | 14/36 [00:53<01:26,  3.95s/it, batch_nb=12, epoch=0, tng_loss=210.671, v_nb=1]"
     ]
    },
    {
     "name": "stdout",
     "output_type": "stream",
     "text": [
      "G shape: torch.Size([8, 3476, 3476])\n",
      "t: tensor([ 14, 127,  44,  21, 137,  48,   6,  60]), batch_nb: 13\n"
     ]
    },
    {
     "name": "stderr",
     "output_type": "stream",
     "text": [
      " 42%|████▏     | 15/36 [00:58<01:29,  4.25s/it, batch_nb=13, epoch=0, tng_loss=211.564, v_nb=1]"
     ]
    },
    {
     "name": "stdout",
     "output_type": "stream",
     "text": [
      "G shape: torch.Size([8, 3476, 3476])\n",
      "t: tensor([ 56,  63,  95,  98, 121,  41,  61,  47]), batch_nb: 14\n"
     ]
    },
    {
     "name": "stderr",
     "output_type": "stream",
     "text": [
      " 44%|████▍     | 16/36 [01:01<01:21,  4.05s/it, batch_nb=14, epoch=0, tng_loss=211.549, v_nb=1]"
     ]
    },
    {
     "name": "stdout",
     "output_type": "stream",
     "text": [
      "G shape: torch.Size([8, 3476, 3476])\n",
      "t: tensor([ 26, 117, 115,  43,  89, 130,  65,  68]), batch_nb: 15\n"
     ]
    },
    {
     "name": "stderr",
     "output_type": "stream",
     "text": [
      " 47%|████▋     | 17/36 [01:05<01:15,  3.95s/it, batch_nb=15, epoch=0, tng_loss=211.331, v_nb=1]"
     ]
    },
    {
     "name": "stdout",
     "output_type": "stream",
     "text": [
      "G shape: torch.Size([8, 3476, 3476])\n",
      "t: tensor([ 17, 101,  70, 111,  19,  84,  51,  92]), batch_nb: 16\n"
     ]
    },
    {
     "name": "stderr",
     "output_type": "stream",
     "text": [
      "\r",
      " 47%|████▋     | 17/36 [01:09<01:15,  3.95s/it, batch_nb=16, epoch=0, tng_loss=211.854, v_nb=1]"
     ]
    },
    {
     "name": "stdout",
     "output_type": "stream",
     "text": [
      "G shape: torch.Size([8, 3476, 3476])\n",
      "t: tensor([ 53,  47, 136,  35,   2,  32, 107,  96]), batch_nb: 0\n"
     ]
    },
    {
     "name": "stderr",
     "output_type": "stream",
     "text": [
      "\r",
      " 50%|█████     | 18/36 [01:13<01:33,  5.22s/it, batch_nb=16, epoch=0, tng_loss=211.854, v_nb=1]"
     ]
    },
    {
     "name": "stdout",
     "output_type": "stream",
     "text": [
      "G shape: torch.Size([8, 3476, 3476])\n",
      "t: tensor([125,  60,  36,  20, 106,  43, 143, 134]), batch_nb: 1\n"
     ]
    },
    {
     "name": "stderr",
     "output_type": "stream",
     "text": [
      "\r",
      " 53%|█████▎    | 19/36 [01:17<01:21,  4.79s/it, batch_nb=16, epoch=0, tng_loss=211.854, v_nb=1]"
     ]
    },
    {
     "name": "stdout",
     "output_type": "stream",
     "text": [
      "G shape: torch.Size([8, 3476, 3476])\n",
      "t: tensor([ 15,  65,  16,  76,  52, 137, 135,  12]), batch_nb: 2\n"
     ]
    },
    {
     "name": "stderr",
     "output_type": "stream",
     "text": [
      "\r",
      " 56%|█████▌    | 20/36 [01:21<01:11,  4.48s/it, batch_nb=16, epoch=0, tng_loss=211.854, v_nb=1]"
     ]
    },
    {
     "name": "stdout",
     "output_type": "stream",
     "text": [
      "G shape: torch.Size([8, 3476, 3476])\n",
      "t: tensor([ 58,  92, 113, 124,   1, 121,  50,  94]), batch_nb: 3\n"
     ]
    },
    {
     "name": "stderr",
     "output_type": "stream",
     "text": [
      "\r",
      " 58%|█████▊    | 21/36 [01:25<01:05,  4.38s/it, batch_nb=16, epoch=0, tng_loss=211.854, v_nb=1]"
     ]
    },
    {
     "name": "stdout",
     "output_type": "stream",
     "text": [
      "G shape: torch.Size([8, 3476, 3476])\n",
      "t: tensor([49, 51, 44, 62, 46, 87, 98, 17]), batch_nb: 4\n"
     ]
    },
    {
     "name": "stderr",
     "output_type": "stream",
     "text": [
      "\r",
      " 61%|██████    | 22/36 [01:29<00:58,  4.20s/it, batch_nb=16, epoch=0, tng_loss=211.854, v_nb=1]"
     ]
    },
    {
     "name": "stdout",
     "output_type": "stream",
     "text": [
      "G shape: torch.Size([8, 3476, 3476])\n",
      "t: tensor([ 19,  14, 133, 100, 111,   0,  88, 104]), batch_nb: 5\n"
     ]
    },
    {
     "name": "stderr",
     "output_type": "stream",
     "text": [
      "\r",
      " 64%|██████▍   | 23/36 [01:33<00:53,  4.10s/it, batch_nb=16, epoch=0, tng_loss=211.854, v_nb=1]"
     ]
    },
    {
     "name": "stdout",
     "output_type": "stream",
     "text": [
      "G shape: torch.Size([8, 3476, 3476])\n",
      "t: tensor([ 80,  33, 141, 105,  75,  99,  85,  25]), batch_nb: 6\n"
     ]
    },
    {
     "name": "stderr",
     "output_type": "stream",
     "text": [
      "\r",
      " 67%|██████▋   | 24/36 [01:36<00:47,  3.99s/it, batch_nb=16, epoch=0, tng_loss=211.854, v_nb=1]"
     ]
    },
    {
     "name": "stdout",
     "output_type": "stream",
     "text": [
      "G shape: torch.Size([8, 3476, 3476])\n",
      "t: tensor([101, 117,  11,  84,  77,  31, 139,   7]), batch_nb: 7\n"
     ]
    },
    {
     "name": "stderr",
     "output_type": "stream",
     "text": [
      "\r",
      " 69%|██████▉   | 25/36 [01:41<00:44,  4.08s/it, batch_nb=16, epoch=0, tng_loss=211.854, v_nb=1]"
     ]
    },
    {
     "name": "stdout",
     "output_type": "stream",
     "text": [
      "G shape: torch.Size([8, 3476, 3476])\n",
      "t: tensor([ 66,  38,  39,  28, 127, 109,  79,   6]), batch_nb: 8\n"
     ]
    },
    {
     "name": "stderr",
     "output_type": "stream",
     "text": [
      "\r",
      " 72%|███████▏  | 26/36 [01:44<00:39,  3.96s/it, batch_nb=16, epoch=0, tng_loss=211.854, v_nb=1]"
     ]
    },
    {
     "name": "stdout",
     "output_type": "stream",
     "text": [
      "G shape: torch.Size([8, 3476, 3476])\n",
      "t: tensor([ 54,  89, 140,  34,  23,  83,  55,  30]), batch_nb: 9\n"
     ]
    },
    {
     "name": "stderr",
     "output_type": "stream",
     "text": [
      "\r",
      " 75%|███████▌  | 27/36 [01:48<00:35,  3.94s/it, batch_nb=16, epoch=0, tng_loss=211.854, v_nb=1]"
     ]
    },
    {
     "name": "stdout",
     "output_type": "stream",
     "text": [
      "G shape: torch.Size([8, 3476, 3476])\n",
      "t: tensor([ 91,  68, 119,  86, 128,  48, 108,  97]), batch_nb: 10\n"
     ]
    },
    {
     "name": "stderr",
     "output_type": "stream",
     "text": [
      "\r",
      " 78%|███████▊  | 28/36 [01:52<00:31,  3.94s/it, batch_nb=16, epoch=0, tng_loss=211.854, v_nb=1]"
     ]
    },
    {
     "name": "stdout",
     "output_type": "stream",
     "text": [
      "G shape: torch.Size([8, 3476, 3476])\n",
      "t: tensor([ 18, 126,  59, 138,  78,  63, 129,   8]), batch_nb: 11\n"
     ]
    },
    {
     "name": "stderr",
     "output_type": "stream",
     "text": [
      "\r",
      " 81%|████████  | 29/36 [01:56<00:26,  3.79s/it, batch_nb=16, epoch=0, tng_loss=211.854, v_nb=1]"
     ]
    },
    {
     "name": "stdout",
     "output_type": "stream",
     "text": [
      "G shape: torch.Size([8, 3476, 3476])\n",
      "t: tensor([67, 61, 71, 45, 37, 41, 24, 73]), batch_nb: 12\n"
     ]
    },
    {
     "name": "stderr",
     "output_type": "stream",
     "text": [
      "\r",
      " 83%|████████▎ | 30/36 [01:59<00:22,  3.81s/it, batch_nb=16, epoch=0, tng_loss=211.854, v_nb=1]"
     ]
    },
    {
     "name": "stdout",
     "output_type": "stream",
     "text": [
      "G shape: torch.Size([8, 3476, 3476])\n",
      "t: tensor([  5,  81,  72,  69, 123,  95, 103, 110]), batch_nb: 13\n"
     ]
    },
    {
     "name": "stderr",
     "output_type": "stream",
     "text": [
      "\r",
      " 86%|████████▌ | 31/36 [02:04<00:20,  4.04s/it, batch_nb=16, epoch=0, tng_loss=211.854, v_nb=1]"
     ]
    },
    {
     "name": "stdout",
     "output_type": "stream",
     "text": [
      "G shape: torch.Size([8, 3476, 3476])\n",
      "t: tensor([  3, 112,  10, 131, 116,  64,  90,  13]), batch_nb: 14\n"
     ]
    },
    {
     "name": "stderr",
     "output_type": "stream",
     "text": [
      "\r",
      " 89%|████████▉ | 32/36 [02:08<00:15,  3.99s/it, batch_nb=16, epoch=0, tng_loss=211.854, v_nb=1]"
     ]
    },
    {
     "name": "stdout",
     "output_type": "stream",
     "text": [
      "G shape: torch.Size([8, 3476, 3476])\n",
      "t: tensor([ 21,  27,   9, 115, 130, 120,  42,  56]), batch_nb: 15\n"
     ]
    },
    {
     "name": "stderr",
     "output_type": "stream",
     "text": [
      "\r",
      " 92%|█████████▏| 33/36 [02:12<00:11,  3.97s/it, batch_nb=16, epoch=0, tng_loss=211.854, v_nb=1]"
     ]
    },
    {
     "name": "stdout",
     "output_type": "stream",
     "text": [
      "G shape: torch.Size([8, 3476, 3476])\n",
      "t: tensor([ 74,  40, 142,  57, 118,  22, 122,  26]), batch_nb: 16\n"
     ]
    },
    {
     "name": "stderr",
     "output_type": "stream",
     "text": [
      "\r",
      " 94%|█████████▍| 34/36 [02:16<00:07,  3.91s/it, batch_nb=16, epoch=0, tng_loss=211.854, v_nb=1]"
     ]
    },
    {
     "name": "stdout",
     "output_type": "stream",
     "text": [
      "G shape: torch.Size([8, 3476, 3476])\n",
      "t: tensor([132, 114,  82,  29,  70,   4, 102,  93]), batch_nb: 17\n"
     ]
    },
    {
     "name": "stderr",
     "output_type": "stream",
     "text": [
      "100%|██████████| 36/36 [02:20<00:00,  2.90s/it, avg_laplacian_term=102, avg_val_fro=40.7, avg_val_loss=143, avg_val_mae=5.41, batch_nb=16, epoch=0, tng_loss=211.854, v_nb=1]"
     ]
    },
    {
     "name": "stdout",
     "output_type": "stream",
     "text": [
      "G shape: torch.Size([8, 3476, 3476])\n",
      "t: tensor([ 85,  37, 131, 122, 109, 108,   8, 132]), batch_nb: 17\n"
     ]
    },
    {
     "name": "stderr",
     "output_type": "stream",
     "text": [
      "  3%|▎         | 1/36 [00:00<00:14,  2.38it/s], avg_laplacian_term=102, avg_val_fro=40.7, avg_val_loss=143, avg_val_mae=5.41, batch_nb=17, epoch=0, tng_loss=211.632, v_nb=1]"
     ]
    },
    {
     "name": "stdout",
     "output_type": "stream",
     "text": [
      "G shape: torch.Size([8, 3476, 3476])\n",
      "t: tensor([116,  64,   8,  41, 107, 127,  36,   4]), batch_nb: 0\n"
     ]
    },
    {
     "name": "stderr",
     "output_type": "stream",
     "text": [
      "  6%|▌         | 2/36 [00:04<00:56,  1.66s/it, avg_laplacian_term=102, avg_val_fro=40.7, avg_val_loss=143, avg_val_mae=5.41, batch_nb=0, epoch=1, tng_loss=212.373, v_nb=1]"
     ]
    },
    {
     "name": "stdout",
     "output_type": "stream",
     "text": [
      "G shape: torch.Size([8, 3476, 3476])\n",
      "t: tensor([ 98, 104,  18,  78,  54, 139,  85,  31]), batch_nb: 1\n"
     ]
    },
    {
     "name": "stderr",
     "output_type": "stream",
     "text": [
      "  8%|▊         | 3/36 [00:08<01:15,  2.28s/it, avg_laplacian_term=102, avg_val_fro=40.7, avg_val_loss=143, avg_val_mae=5.41, batch_nb=1, epoch=1, tng_loss=212.538, v_nb=1]"
     ]
    },
    {
     "name": "stdout",
     "output_type": "stream",
     "text": [
      "G shape: torch.Size([8, 3476, 3476])\n",
      "t: tensor([108, 118,  17,  77, 117, 131,  44, 133]), batch_nb: 2\n"
     ]
    },
    {
     "name": "stderr",
     "output_type": "stream",
     "text": [
      " 11%|█         | 4/36 [00:12<01:28,  2.77s/it, avg_laplacian_term=102, avg_val_fro=40.7, avg_val_loss=143, avg_val_mae=5.41, batch_nb=2, epoch=1, tng_loss=213.127, v_nb=1]"
     ]
    },
    {
     "name": "stdout",
     "output_type": "stream",
     "text": [
      "G shape: torch.Size([8, 3476, 3476])\n",
      "t: tensor([123,  46, 105,  39,  53,  91,   7,  10]), batch_nb: 3\n"
     ]
    },
    {
     "name": "stderr",
     "output_type": "stream",
     "text": [
      " 14%|█▍        | 5/36 [00:16<01:36,  3.12s/it, avg_laplacian_term=102, avg_val_fro=40.7, avg_val_loss=143, avg_val_mae=5.41, batch_nb=3, epoch=1, tng_loss=213.141, v_nb=1]"
     ]
    },
    {
     "name": "stdout",
     "output_type": "stream",
     "text": [
      "G shape: torch.Size([8, 3476, 3476])\n",
      "t: tensor([102,  80, 136,  22,  11,  89,  87,  13]), batch_nb: 4\n"
     ]
    },
    {
     "name": "stderr",
     "output_type": "stream",
     "text": [
      " 17%|█▋        | 6/36 [00:21<01:47,  3.59s/it, avg_laplacian_term=102, avg_val_fro=40.7, avg_val_loss=143, avg_val_mae=5.41, batch_nb=4, epoch=1, tng_loss=213.747, v_nb=1]"
     ]
    },
    {
     "name": "stdout",
     "output_type": "stream",
     "text": [
      "G shape: torch.Size([8, 3476, 3476])\n",
      "t: tensor([ 65, 103, 109,  56, 111,   3,  20,   0]), batch_nb: 5\n"
     ]
    },
    {
     "name": "stderr",
     "output_type": "stream",
     "text": [
      " 19%|█▉        | 7/36 [00:25<01:45,  3.64s/it, avg_laplacian_term=102, avg_val_fro=40.7, avg_val_loss=143, avg_val_mae=5.41, batch_nb=5, epoch=1, tng_loss=214.092, v_nb=1]"
     ]
    },
    {
     "name": "stdout",
     "output_type": "stream",
     "text": [
      "G shape: torch.Size([8, 3476, 3476])\n",
      "t: tensor([47, 71, 68, 66, 48, 51, 61, 37]), batch_nb: 6\n"
     ]
    },
    {
     "name": "stderr",
     "output_type": "stream",
     "text": [
      " 22%|██▏       | 8/36 [00:29<01:45,  3.77s/it, avg_laplacian_term=102, avg_val_fro=40.7, avg_val_loss=143, avg_val_mae=5.41, batch_nb=6, epoch=1, tng_loss=213.419, v_nb=1]"
     ]
    },
    {
     "name": "stdout",
     "output_type": "stream",
     "text": [
      "G shape: torch.Size([8, 3476, 3476])\n",
      "t: tensor([43,  6, 95, 75, 59, 14, 24, 90]), batch_nb: 7\n"
     ]
    },
    {
     "name": "stderr",
     "output_type": "stream",
     "text": [
      " 25%|██▌       | 9/36 [00:33<01:49,  4.07s/it, avg_laplacian_term=102, avg_val_fro=40.7, avg_val_loss=143, avg_val_mae=5.41, batch_nb=7, epoch=1, tng_loss=213.063, v_nb=1]"
     ]
    },
    {
     "name": "stdout",
     "output_type": "stream",
     "text": [
      "G shape: torch.Size([8, 3476, 3476])\n",
      "t: tensor([ 82,  74,   5, 110,  99,  94,  63, 137]), batch_nb: 8\n"
     ]
    },
    {
     "name": "stderr",
     "output_type": "stream",
     "text": [
      " 28%|██▊       | 10/36 [00:37<01:45,  4.05s/it, avg_laplacian_term=102, avg_val_fro=40.7, avg_val_loss=143, avg_val_mae=5.41, batch_nb=8, epoch=1, tng_loss=213.144, v_nb=1]"
     ]
    },
    {
     "name": "stdout",
     "output_type": "stream",
     "text": [
      "G shape: torch.Size([8, 3476, 3476])\n",
      "t: tensor([ 58,  45, 125, 114,  33, 106,  35, 124]), batch_nb: 9\n"
     ]
    },
    {
     "name": "stderr",
     "output_type": "stream",
     "text": [
      " 31%|███       | 11/36 [00:41<01:39,  3.99s/it, avg_laplacian_term=102, avg_val_fro=40.7, avg_val_loss=143, avg_val_mae=5.41, batch_nb=9, epoch=1, tng_loss=212.474, v_nb=1]"
     ]
    },
    {
     "name": "stdout",
     "output_type": "stream",
     "text": [
      "G shape: torch.Size([8, 3476, 3476])\n",
      "t: tensor([ 32,  88, 121, 135,  67, 122,  96,  42]), batch_nb: 10\n"
     ]
    },
    {
     "name": "stderr",
     "output_type": "stream",
     "text": [
      " 33%|███▎      | 12/36 [00:45<01:34,  3.95s/it, avg_laplacian_term=102, avg_val_fro=40.7, avg_val_loss=143, avg_val_mae=5.41, batch_nb=10, epoch=1, tng_loss=212.311, v_nb=1]"
     ]
    },
    {
     "name": "stdout",
     "output_type": "stream",
     "text": [
      "G shape: torch.Size([8, 3476, 3476])\n",
      "t: tensor([ 70,  28,  69, 113, 120,  26, 112,  34]), batch_nb: 11\n"
     ]
    },
    {
     "name": "stderr",
     "output_type": "stream",
     "text": [
      " 36%|███▌      | 13/36 [00:49<01:29,  3.88s/it, avg_laplacian_term=102, avg_val_fro=40.7, avg_val_loss=143, avg_val_mae=5.41, batch_nb=11, epoch=1, tng_loss=211.802, v_nb=1]"
     ]
    },
    {
     "name": "stdout",
     "output_type": "stream",
     "text": [
      "G shape: torch.Size([8, 3476, 3476])\n",
      "t: tensor([  9,  12,  86,  27,  52,  49, 138,  57]), batch_nb: 12\n"
     ]
    },
    {
     "name": "stderr",
     "output_type": "stream",
     "text": [
      " 39%|███▉      | 14/36 [00:53<01:25,  3.88s/it, avg_laplacian_term=102, avg_val_fro=40.7, avg_val_loss=143, avg_val_mae=5.41, batch_nb=12, epoch=1, tng_loss=211.568, v_nb=1]"
     ]
    },
    {
     "name": "stdout",
     "output_type": "stream",
     "text": [
      "G shape: torch.Size([8, 3476, 3476])\n",
      "t: tensor([ 72,  62, 140,  83,  93,  40, 141,  60]), batch_nb: 13\n"
     ]
    },
    {
     "name": "stderr",
     "output_type": "stream",
     "text": [
      " 42%|████▏     | 15/36 [00:59<01:36,  4.61s/it, avg_laplacian_term=102, avg_val_fro=40.7, avg_val_loss=143, avg_val_mae=5.41, batch_nb=13, epoch=1, tng_loss=211.429, v_nb=1]"
     ]
    },
    {
     "name": "stdout",
     "output_type": "stream",
     "text": [
      "G shape: torch.Size([8, 3476, 3476])\n",
      "t: tensor([115,  29,   2, 129,  19,  79,  21, 134]), batch_nb: 14\n"
     ]
    },
    {
     "name": "stderr",
     "output_type": "stream",
     "text": [
      " 44%|████▍     | 16/36 [01:04<01:32,  4.63s/it, avg_laplacian_term=102, avg_val_fro=40.7, avg_val_loss=143, avg_val_mae=5.41, batch_nb=14, epoch=1, tng_loss=211.346, v_nb=1]"
     ]
    },
    {
     "name": "stdout",
     "output_type": "stream",
     "text": [
      "G shape: torch.Size([8, 3476, 3476])\n",
      "t: tensor([130, 126, 142, 132,   1, 128,  73,  38]), batch_nb: 15\n"
     ]
    },
    {
     "name": "stderr",
     "output_type": "stream",
     "text": [
      " 47%|████▋     | 17/36 [01:08<01:26,  4.53s/it, avg_laplacian_term=102, avg_val_fro=40.7, avg_val_loss=143, avg_val_mae=5.41, batch_nb=15, epoch=1, tng_loss=210.641, v_nb=1]"
     ]
    },
    {
     "name": "stdout",
     "output_type": "stream",
     "text": [
      "G shape: torch.Size([8, 3476, 3476])\n",
      "t: tensor([ 81, 101,  92,  50,  76,  30,  16, 119]), batch_nb: 16\n"
     ]
    },
    {
     "name": "stderr",
     "output_type": "stream",
     "text": [
      "\r",
      " 47%|████▋     | 17/36 [01:11<01:26,  4.53s/it, avg_laplacian_term=102, avg_val_fro=40.7, avg_val_loss=143, avg_val_mae=5.41, batch_nb=16, epoch=1, tng_loss=210.660, v_nb=1]"
     ]
    },
    {
     "name": "stdout",
     "output_type": "stream",
     "text": [
      "G shape: torch.Size([8, 3476, 3476])\n",
      "t: tensor([ 71,  45,  46, 138,  38,  83,  80,  96]), batch_nb: 0\n"
     ]
    },
    {
     "name": "stderr",
     "output_type": "stream",
     "text": [
      "\r",
      " 50%|█████     | 18/36 [01:17<01:43,  5.77s/it, avg_laplacian_term=102, avg_val_fro=40.7, avg_val_loss=143, avg_val_mae=5.41, batch_nb=16, epoch=1, tng_loss=210.660, v_nb=1]"
     ]
    },
    {
     "name": "stdout",
     "output_type": "stream",
     "text": [
      "G shape: torch.Size([8, 3476, 3476])\n",
      "t: tensor([125,   2,  31,  42,  61, 128,  25,  14]), batch_nb: 1\n"
     ]
    },
    {
     "name": "stderr",
     "output_type": "stream",
     "text": [
      "\r",
      " 53%|█████▎    | 19/36 [01:23<01:41,  5.96s/it, avg_laplacian_term=102, avg_val_fro=40.7, avg_val_loss=143, avg_val_mae=5.41, batch_nb=16, epoch=1, tng_loss=210.660, v_nb=1]"
     ]
    },
    {
     "name": "stdout",
     "output_type": "stream",
     "text": [
      "G shape: torch.Size([8, 3476, 3476])\n",
      "t: tensor([ 47, 134,  57,  93,  90,   8,   7,  34]), batch_nb: 2\n"
     ]
    },
    {
     "name": "stderr",
     "output_type": "stream",
     "text": [
      "\r",
      " 56%|█████▌    | 20/36 [01:27<01:24,  5.31s/it, avg_laplacian_term=102, avg_val_fro=40.7, avg_val_loss=143, avg_val_mae=5.41, batch_nb=16, epoch=1, tng_loss=210.660, v_nb=1]"
     ]
    },
    {
     "name": "stdout",
     "output_type": "stream",
     "text": [
      "G shape: torch.Size([8, 3476, 3476])\n",
      "t: tensor([ 70,  18,  64,  20,   5,  85, 121, 132]), batch_nb: 3\n"
     ]
    },
    {
     "name": "stderr",
     "output_type": "stream",
     "text": [
      "\r",
      " 58%|█████▊    | 21/36 [01:30<01:12,  4.81s/it, avg_laplacian_term=102, avg_val_fro=40.7, avg_val_loss=143, avg_val_mae=5.41, batch_nb=16, epoch=1, tng_loss=210.660, v_nb=1]"
     ]
    },
    {
     "name": "stdout",
     "output_type": "stream",
     "text": [
      "G shape: torch.Size([8, 3476, 3476])\n",
      "t: tensor([ 43, 137, 123, 127, 110,  50,  73,  53]), batch_nb: 4\n"
     ]
    },
    {
     "name": "stderr",
     "output_type": "stream",
     "text": [
      "\r",
      " 61%|██████    | 22/36 [01:34<01:02,  4.43s/it, avg_laplacian_term=102, avg_val_fro=40.7, avg_val_loss=143, avg_val_mae=5.41, batch_nb=16, epoch=1, tng_loss=210.660, v_nb=1]"
     ]
    },
    {
     "name": "stdout",
     "output_type": "stream",
     "text": [
      "G shape: torch.Size([8, 3476, 3476])\n",
      "t: tensor([ 95, 118, 107,  28, 103, 114,  79, 141]), batch_nb: 5\n"
     ]
    },
    {
     "name": "stderr",
     "output_type": "stream",
     "text": [
      "\r",
      " 64%|██████▍   | 23/36 [01:38<00:55,  4.26s/it, avg_laplacian_term=102, avg_val_fro=40.7, avg_val_loss=143, avg_val_mae=5.41, batch_nb=16, epoch=1, tng_loss=210.660, v_nb=1]"
     ]
    },
    {
     "name": "stdout",
     "output_type": "stream",
     "text": [
      "G shape: torch.Size([8, 3476, 3476])\n",
      "t: tensor([101,  97, 117, 140,  19,  58,  48,  99]), batch_nb: 6\n"
     ]
    },
    {
     "name": "stderr",
     "output_type": "stream",
     "text": [
      "\r",
      " 67%|██████▋   | 24/36 [01:42<00:50,  4.22s/it, avg_laplacian_term=102, avg_val_fro=40.7, avg_val_loss=143, avg_val_mae=5.41, batch_nb=16, epoch=1, tng_loss=210.660, v_nb=1]"
     ]
    },
    {
     "name": "stdout",
     "output_type": "stream",
     "text": [
      "G shape: torch.Size([8, 3476, 3476])\n",
      "t: tensor([ 41, 109,  89,  76,  40,  75,  51,  44]), batch_nb: 7\n"
     ]
    },
    {
     "name": "stderr",
     "output_type": "stream",
     "text": [
      "\r",
      " 69%|██████▉   | 25/36 [01:46<00:45,  4.11s/it, avg_laplacian_term=102, avg_val_fro=40.7, avg_val_loss=143, avg_val_mae=5.41, batch_nb=16, epoch=1, tng_loss=210.660, v_nb=1]"
     ]
    },
    {
     "name": "stdout",
     "output_type": "stream",
     "text": [
      "G shape: torch.Size([8, 3476, 3476])\n",
      "t: tensor([  1, 136, 108,  35, 129, 122,  23,  55]), batch_nb: 8\n"
     ]
    },
    {
     "name": "stderr",
     "output_type": "stream",
     "text": [
      "\r",
      " 72%|███████▏  | 26/36 [01:50<00:40,  4.10s/it, avg_laplacian_term=102, avg_val_fro=40.7, avg_val_loss=143, avg_val_mae=5.41, batch_nb=16, epoch=1, tng_loss=210.660, v_nb=1]"
     ]
    },
    {
     "name": "stdout",
     "output_type": "stream",
     "text": [
      "G shape: torch.Size([8, 3476, 3476])\n",
      "t: tensor([ 22, 119,  65,  87, 112,  63,  39, 131]), batch_nb: 9\n"
     ]
    },
    {
     "name": "stderr",
     "output_type": "stream",
     "text": [
      "\r",
      " 75%|███████▌  | 27/36 [01:53<00:35,  3.91s/it, avg_laplacian_term=102, avg_val_fro=40.7, avg_val_loss=143, avg_val_mae=5.41, batch_nb=16, epoch=1, tng_loss=210.660, v_nb=1]"
     ]
    },
    {
     "name": "stdout",
     "output_type": "stream",
     "text": [
      "G shape: torch.Size([8, 3476, 3476])\n",
      "t: tensor([ 11, 100,  74,   6,   4, 102,  29,  60]), batch_nb: 10\n"
     ]
    },
    {
     "name": "stderr",
     "output_type": "stream",
     "text": [
      "\r",
      " 78%|███████▊  | 28/36 [01:57<00:30,  3.75s/it, avg_laplacian_term=102, avg_val_fro=40.7, avg_val_loss=143, avg_val_mae=5.41, batch_nb=16, epoch=1, tng_loss=210.660, v_nb=1]"
     ]
    },
    {
     "name": "stdout",
     "output_type": "stream",
     "text": [
      "G shape: torch.Size([8, 3476, 3476])\n",
      "t: tensor([ 91,  66,  33,  81, 120,  13,  32,  94]), batch_nb: 11\n"
     ]
    },
    {
     "name": "stderr",
     "output_type": "stream",
     "text": [
      "\r",
      " 81%|████████  | 29/36 [02:01<00:26,  3.83s/it, avg_laplacian_term=102, avg_val_fro=40.7, avg_val_loss=143, avg_val_mae=5.41, batch_nb=16, epoch=1, tng_loss=210.660, v_nb=1]"
     ]
    },
    {
     "name": "stdout",
     "output_type": "stream",
     "text": [
      "G shape: torch.Size([8, 3476, 3476])\n",
      "t: tensor([ 10,  21,   0,  17, 116,  98,  67, 124]), batch_nb: 12\n"
     ]
    },
    {
     "name": "stderr",
     "output_type": "stream",
     "text": [
      "\r",
      " 83%|████████▎ | 30/36 [02:05<00:22,  3.83s/it, avg_laplacian_term=102, avg_val_fro=40.7, avg_val_loss=143, avg_val_mae=5.41, batch_nb=16, epoch=1, tng_loss=210.660, v_nb=1]"
     ]
    },
    {
     "name": "stdout",
     "output_type": "stream",
     "text": [
      "G shape: torch.Size([8, 3476, 3476])\n",
      "t: tensor([ 72,  15,  88,  37,  16, 130,  68, 105]), batch_nb: 13\n"
     ]
    },
    {
     "name": "stderr",
     "output_type": "stream",
     "text": [
      "\r",
      " 86%|████████▌ | 31/36 [02:09<00:19,  3.90s/it, avg_laplacian_term=102, avg_val_fro=40.7, avg_val_loss=143, avg_val_mae=5.41, batch_nb=16, epoch=1, tng_loss=210.660, v_nb=1]"
     ]
    },
    {
     "name": "stdout",
     "output_type": "stream",
     "text": [
      "G shape: torch.Size([8, 3476, 3476])\n",
      "t: tensor([ 86, 133,  84, 106, 135,  27, 115, 142]), batch_nb: 14\n"
     ]
    },
    {
     "name": "stderr",
     "output_type": "stream",
     "text": [
      "\r",
      " 89%|████████▉ | 32/36 [02:13<00:15,  3.94s/it, avg_laplacian_term=102, avg_val_fro=40.7, avg_val_loss=143, avg_val_mae=5.41, batch_nb=16, epoch=1, tng_loss=210.660, v_nb=1]"
     ]
    },
    {
     "name": "stdout",
     "output_type": "stream",
     "text": [
      "G shape: torch.Size([8, 3476, 3476])\n",
      "t: tensor([ 54,  77, 104,  56,  12, 143,  36,   9]), batch_nb: 15\n"
     ]
    },
    {
     "name": "stderr",
     "output_type": "stream",
     "text": [
      "\r",
      " 92%|█████████▏| 33/36 [02:16<00:11,  3.90s/it, avg_laplacian_term=102, avg_val_fro=40.7, avg_val_loss=143, avg_val_mae=5.41, batch_nb=16, epoch=1, tng_loss=210.660, v_nb=1]"
     ]
    },
    {
     "name": "stdout",
     "output_type": "stream",
     "text": [
      "G shape: torch.Size([8, 3476, 3476])\n",
      "t: tensor([ 82,  49,  92,  62,  69,  52,   3, 126]), batch_nb: 16\n"
     ]
    },
    {
     "name": "stderr",
     "output_type": "stream",
     "text": [
      "\r",
      " 94%|█████████▍| 34/36 [02:20<00:07,  3.83s/it, avg_laplacian_term=102, avg_val_fro=40.7, avg_val_loss=143, avg_val_mae=5.41, batch_nb=16, epoch=1, tng_loss=210.660, v_nb=1]"
     ]
    },
    {
     "name": "stdout",
     "output_type": "stream",
     "text": [
      "G shape: torch.Size([8, 3476, 3476])\n",
      "t: tensor([ 30,  26,  78, 111,  59, 113,  24, 139]), batch_nb: 17\n"
     ]
    },
    {
     "name": "stderr",
     "output_type": "stream",
     "text": [
      "100%|██████████| 36/36 [02:25<00:00,  2.87s/it, avg_laplacian_term=100, avg_val_fro=40.5, avg_val_loss=141, avg_val_mae=5.35, batch_nb=16, epoch=1, tng_loss=210.660, v_nb=1]"
     ]
    },
    {
     "name": "stdout",
     "output_type": "stream",
     "text": [
      "G shape: torch.Size([8, 3476, 3476])\n",
      "t: tensor([ 25,  55,  84,  97, 100,  23,  15, 143]), batch_nb: 17\n"
     ]
    },
    {
     "name": "stderr",
     "output_type": "stream",
     "text": [
      "  3%|▎         | 1/36 [00:00<00:15,  2.30it/s], avg_laplacian_term=100, avg_val_fro=40.5, avg_val_loss=141, avg_val_mae=5.35, batch_nb=17, epoch=1, tng_loss=210.543, v_nb=1]"
     ]
    },
    {
     "name": "stdout",
     "output_type": "stream",
     "text": [
      "G shape: torch.Size([8, 3476, 3476])\n",
      "t: tensor([40, 91, 87, 48, 97,  9, 38, 98]), batch_nb: 0\n"
     ]
    },
    {
     "name": "stderr",
     "output_type": "stream",
     "text": [
      "  6%|▌         | 2/36 [00:04<00:50,  1.48s/it, avg_laplacian_term=100, avg_val_fro=40.5, avg_val_loss=141, avg_val_mae=5.35, batch_nb=0, epoch=2, tng_loss=210.345, v_nb=1]"
     ]
    },
    {
     "name": "stdout",
     "output_type": "stream",
     "text": [
      "G shape: torch.Size([8, 3476, 3476])\n",
      "t: tensor([ 10,  59,  80, 118, 122,  33,  35,  57]), batch_nb: 1\n"
     ]
    },
    {
     "name": "stderr",
     "output_type": "stream",
     "text": [
      "  8%|▊         | 3/36 [00:08<01:15,  2.30s/it, avg_laplacian_term=100, avg_val_fro=40.5, avg_val_loss=141, avg_val_mae=5.35, batch_nb=1, epoch=2, tng_loss=210.284, v_nb=1]"
     ]
    },
    {
     "name": "stdout",
     "output_type": "stream",
     "text": [
      "G shape: torch.Size([8, 3476, 3476])\n",
      "t: tensor([ 51,  66,  23,   2, 114,  22,  76,  20]), batch_nb: 2\n"
     ]
    },
    {
     "name": "stderr",
     "output_type": "stream",
     "text": [
      " 11%|█         | 4/36 [00:12<01:29,  2.80s/it, avg_laplacian_term=100, avg_val_fro=40.5, avg_val_loss=141, avg_val_mae=5.35, batch_nb=2, epoch=2, tng_loss=209.773, v_nb=1]"
     ]
    },
    {
     "name": "stdout",
     "output_type": "stream",
     "text": [
      "G shape: torch.Size([8, 3476, 3476])\n",
      "t: tensor([101, 106, 126,  56, 133,  17,  37,  26]), batch_nb: 3\n"
     ]
    },
    {
     "name": "stderr",
     "output_type": "stream",
     "text": [
      " 14%|█▍        | 5/36 [00:16<01:37,  3.14s/it, avg_laplacian_term=100, avg_val_fro=40.5, avg_val_loss=141, avg_val_mae=5.35, batch_nb=3, epoch=2, tng_loss=209.650, v_nb=1]"
     ]
    },
    {
     "name": "stdout",
     "output_type": "stream",
     "text": [
      "G shape: torch.Size([8, 3476, 3476])\n",
      "t: tensor([ 81,  25, 132,  46,  55,  77,  43,  12]), batch_nb: 4\n"
     ]
    },
    {
     "name": "stderr",
     "output_type": "stream",
     "text": [
      " 17%|█▋        | 6/36 [00:20<01:41,  3.38s/it, avg_laplacian_term=100, avg_val_fro=40.5, avg_val_loss=141, avg_val_mae=5.35, batch_nb=4, epoch=2, tng_loss=209.608, v_nb=1]"
     ]
    },
    {
     "name": "stdout",
     "output_type": "stream",
     "text": [
      "G shape: torch.Size([8, 3476, 3476])\n",
      "t: tensor([  6,  93,  45,  27, 138,  31,   7, 137]), batch_nb: 5\n"
     ]
    },
    {
     "name": "stderr",
     "output_type": "stream",
     "text": [
      " 19%|█▉        | 7/36 [00:24<01:45,  3.63s/it, avg_laplacian_term=100, avg_val_fro=40.5, avg_val_loss=141, avg_val_mae=5.35, batch_nb=5, epoch=2, tng_loss=209.834, v_nb=1]"
     ]
    },
    {
     "name": "stdout",
     "output_type": "stream",
     "text": [
      "G shape: torch.Size([8, 3476, 3476])\n",
      "t: tensor([ 95,  32, 134,  61,  82,  16, 128,  70]), batch_nb: 6\n"
     ]
    },
    {
     "name": "stderr",
     "output_type": "stream",
     "text": [
      " 22%|██▏       | 8/36 [00:28<01:44,  3.72s/it, avg_laplacian_term=100, avg_val_fro=40.5, avg_val_loss=141, avg_val_mae=5.35, batch_nb=6, epoch=2, tng_loss=209.829, v_nb=1]"
     ]
    },
    {
     "name": "stdout",
     "output_type": "stream",
     "text": [
      "G shape: torch.Size([8, 3476, 3476])\n",
      "t: tensor([ 71,  34, 111, 105,   0,  60, 100,  50]), batch_nb: 7\n"
     ]
    },
    {
     "name": "stderr",
     "output_type": "stream",
     "text": [
      " 25%|██▌       | 9/36 [00:32<01:41,  3.76s/it, avg_laplacian_term=100, avg_val_fro=40.5, avg_val_loss=141, avg_val_mae=5.35, batch_nb=7, epoch=2, tng_loss=209.382, v_nb=1]"
     ]
    },
    {
     "name": "stdout",
     "output_type": "stream",
     "text": [
      "G shape: torch.Size([8, 3476, 3476])\n",
      "t: tensor([113, 103, 110, 119,  11, 123,  54,  94]), batch_nb: 8\n"
     ]
    },
    {
     "name": "stderr",
     "output_type": "stream",
     "text": [
      " 28%|██▊       | 10/36 [00:36<01:38,  3.81s/it, avg_laplacian_term=100, avg_val_fro=40.5, avg_val_loss=141, avg_val_mae=5.35, batch_nb=8, epoch=2, tng_loss=209.550, v_nb=1]"
     ]
    },
    {
     "name": "stdout",
     "output_type": "stream",
     "text": [
      "G shape: torch.Size([8, 3476, 3476])\n",
      "t: tensor([104,  44,  74,  92, 116, 109,  24, 107]), batch_nb: 9\n"
     ]
    },
    {
     "name": "stderr",
     "output_type": "stream",
     "text": [
      " 31%|███       | 11/36 [00:40<01:35,  3.82s/it, avg_laplacian_term=100, avg_val_fro=40.5, avg_val_loss=141, avg_val_mae=5.35, batch_nb=9, epoch=2, tng_loss=209.446, v_nb=1]"
     ]
    },
    {
     "name": "stdout",
     "output_type": "stream",
     "text": [
      "G shape: torch.Size([8, 3476, 3476])\n",
      "t: tensor([  4,  75,  58,  30,  68, 121,  29, 108]), batch_nb: 10\n"
     ]
    },
    {
     "name": "stderr",
     "output_type": "stream",
     "text": [
      " 33%|███▎      | 12/36 [00:44<01:32,  3.87s/it, avg_laplacian_term=100, avg_val_fro=40.5, avg_val_loss=141, avg_val_mae=5.35, batch_nb=10, epoch=2, tng_loss=209.394, v_nb=1]"
     ]
    },
    {
     "name": "stdout",
     "output_type": "stream",
     "text": [
      "G shape: torch.Size([8, 3476, 3476])\n",
      "t: tensor([ 13,   5,  72,  15, 136, 115,  62, 102]), batch_nb: 11\n"
     ]
    },
    {
     "name": "stderr",
     "output_type": "stream",
     "text": [
      " 36%|███▌      | 13/36 [00:48<01:30,  3.92s/it, avg_laplacian_term=100, avg_val_fro=40.5, avg_val_loss=141, avg_val_mae=5.35, batch_nb=11, epoch=2, tng_loss=209.685, v_nb=1]"
     ]
    },
    {
     "name": "stdout",
     "output_type": "stream",
     "text": [
      "G shape: torch.Size([8, 3476, 3476])\n",
      "t: tensor([ 96,  65,  99,  63,  83, 135,  28, 130]), batch_nb: 12\n"
     ]
    },
    {
     "name": "stderr",
     "output_type": "stream",
     "text": [
      " 39%|███▉      | 14/36 [00:52<01:25,  3.90s/it, avg_laplacian_term=100, avg_val_fro=40.5, avg_val_loss=141, avg_val_mae=5.35, batch_nb=12, epoch=2, tng_loss=209.466, v_nb=1]"
     ]
    },
    {
     "name": "stdout",
     "output_type": "stream",
     "text": [
      "G shape: torch.Size([8, 3476, 3476])\n",
      "t: tensor([142,  53, 143,  86,  64,   1,  14,  42]), batch_nb: 13\n"
     ]
    },
    {
     "name": "stderr",
     "output_type": "stream",
     "text": [
      " 42%|████▏     | 15/36 [00:55<01:22,  3.91s/it, avg_laplacian_term=100, avg_val_fro=40.5, avg_val_loss=141, avg_val_mae=5.35, batch_nb=13, epoch=2, tng_loss=209.486, v_nb=1]"
     ]
    },
    {
     "name": "stdout",
     "output_type": "stream",
     "text": [
      "G shape: torch.Size([8, 3476, 3476])\n",
      "t: tensor([  8,  67,  52, 124,  88, 127, 131,  18]), batch_nb: 14\n"
     ]
    },
    {
     "name": "stderr",
     "output_type": "stream",
     "text": [
      " 44%|████▍     | 16/36 [01:00<01:21,  4.09s/it, avg_laplacian_term=100, avg_val_fro=40.5, avg_val_loss=141, avg_val_mae=5.35, batch_nb=14, epoch=2, tng_loss=209.494, v_nb=1]"
     ]
    },
    {
     "name": "stdout",
     "output_type": "stream",
     "text": [
      "G shape: torch.Size([8, 3476, 3476])\n",
      "t: tensor([ 19,  78,  73, 112,  84, 140, 141,  41]), batch_nb: 15\n"
     ]
    },
    {
     "name": "stderr",
     "output_type": "stream",
     "text": [
      " 47%|████▋     | 17/36 [01:04<01:16,  4.03s/it, avg_laplacian_term=100, avg_val_fro=40.5, avg_val_loss=141, avg_val_mae=5.35, batch_nb=15, epoch=2, tng_loss=209.559, v_nb=1]"
     ]
    },
    {
     "name": "stdout",
     "output_type": "stream",
     "text": [
      "G shape: torch.Size([8, 3476, 3476])\n",
      "t: tensor([ 69, 120, 117,  79,   3,  36,  39,  90]), batch_nb: 16\n"
     ]
    },
    {
     "name": "stderr",
     "output_type": "stream",
     "text": [
      "\r",
      " 47%|████▋     | 17/36 [01:07<01:16,  4.03s/it, avg_laplacian_term=100, avg_val_fro=40.5, avg_val_loss=141, avg_val_mae=5.35, batch_nb=16, epoch=2, tng_loss=209.633, v_nb=1]"
     ]
    },
    {
     "name": "stdout",
     "output_type": "stream",
     "text": [
      "G shape: torch.Size([8, 3476, 3476])\n",
      "t: tensor([  8, 143, 134, 127,  34,  90, 119,  83]), batch_nb: 0\n"
     ]
    },
    {
     "name": "stderr",
     "output_type": "stream",
     "text": [
      "\r",
      " 50%|█████     | 18/36 [01:12<01:32,  5.13s/it, avg_laplacian_term=100, avg_val_fro=40.5, avg_val_loss=141, avg_val_mae=5.35, batch_nb=16, epoch=2, tng_loss=209.633, v_nb=1]"
     ]
    },
    {
     "name": "stdout",
     "output_type": "stream",
     "text": [
      "G shape: torch.Size([8, 3476, 3476])\n",
      "t: tensor([ 62,  32,  37, 126,  67, 109,  87, 139]), batch_nb: 1\n"
     ]
    },
    {
     "name": "stderr",
     "output_type": "stream",
     "text": [
      "\r",
      " 53%|█████▎    | 19/36 [01:16<01:21,  4.77s/it, avg_laplacian_term=100, avg_val_fro=40.5, avg_val_loss=141, avg_val_mae=5.35, batch_nb=16, epoch=2, tng_loss=209.633, v_nb=1]"
     ]
    },
    {
     "name": "stdout",
     "output_type": "stream",
     "text": [
      "G shape: torch.Size([8, 3476, 3476])\n",
      "t: tensor([108, 130, 118,  56, 106,  72,  91,   3]), batch_nb: 2\n"
     ]
    },
    {
     "name": "stderr",
     "output_type": "stream",
     "text": [
      "\r",
      " 56%|█████▌    | 20/36 [01:19<01:11,  4.47s/it, avg_laplacian_term=100, avg_val_fro=40.5, avg_val_loss=141, avg_val_mae=5.35, batch_nb=16, epoch=2, tng_loss=209.633, v_nb=1]"
     ]
    },
    {
     "name": "stdout",
     "output_type": "stream",
     "text": [
      "G shape: torch.Size([8, 3476, 3476])\n",
      "t: tensor([ 18,  35,   5, 113,  69,  78,  82, 100]), batch_nb: 3\n"
     ]
    },
    {
     "name": "stderr",
     "output_type": "stream",
     "text": [
      "\r",
      " 58%|█████▊    | 21/36 [01:23<01:04,  4.31s/it, avg_laplacian_term=100, avg_val_fro=40.5, avg_val_loss=141, avg_val_mae=5.35, batch_nb=16, epoch=2, tng_loss=209.633, v_nb=1]"
     ]
    },
    {
     "name": "stdout",
     "output_type": "stream",
     "text": [
      "G shape: torch.Size([8, 3476, 3476])\n",
      "t: tensor([  9, 142,  81,  27, 136,  85, 117, 112]), batch_nb: 4\n"
     ]
    },
    {
     "name": "stderr",
     "output_type": "stream",
     "text": [
      "\r",
      " 61%|██████    | 22/36 [01:27<00:57,  4.14s/it, avg_laplacian_term=100, avg_val_fro=40.5, avg_val_loss=141, avg_val_mae=5.35, batch_nb=16, epoch=2, tng_loss=209.633, v_nb=1]"
     ]
    },
    {
     "name": "stdout",
     "output_type": "stream",
     "text": [
      "G shape: torch.Size([8, 3476, 3476])\n",
      "t: tensor([ 74, 138,  57, 137,  33,   4,  75, 132]), batch_nb: 5\n"
     ]
    },
    {
     "name": "stderr",
     "output_type": "stream",
     "text": [
      "\r",
      " 64%|██████▍   | 23/36 [01:31<00:53,  4.08s/it, avg_laplacian_term=100, avg_val_fro=40.5, avg_val_loss=141, avg_val_mae=5.35, batch_nb=16, epoch=2, tng_loss=209.633, v_nb=1]"
     ]
    },
    {
     "name": "stdout",
     "output_type": "stream",
     "text": [
      "G shape: torch.Size([8, 3476, 3476])\n",
      "t: tensor([120,  61,  84,  58,  36,  11,  52,  68]), batch_nb: 6\n"
     ]
    },
    {
     "name": "stderr",
     "output_type": "stream",
     "text": [
      "\r",
      " 67%|██████▋   | 24/36 [01:34<00:46,  3.88s/it, avg_laplacian_term=100, avg_val_fro=40.5, avg_val_loss=141, avg_val_mae=5.35, batch_nb=16, epoch=2, tng_loss=209.633, v_nb=1]"
     ]
    },
    {
     "name": "stdout",
     "output_type": "stream",
     "text": [
      "G shape: torch.Size([8, 3476, 3476])\n",
      "t: tensor([ 28,  15, 121,  79,   7, 104,  66,  45]), batch_nb: 7\n"
     ]
    },
    {
     "name": "stderr",
     "output_type": "stream",
     "text": [
      "\r",
      " 69%|██████▉   | 25/36 [01:39<00:43,  3.99s/it, avg_laplacian_term=100, avg_val_fro=40.5, avg_val_loss=141, avg_val_mae=5.35, batch_nb=16, epoch=2, tng_loss=209.633, v_nb=1]"
     ]
    },
    {
     "name": "stdout",
     "output_type": "stream",
     "text": [
      "G shape: torch.Size([8, 3476, 3476])\n",
      "t: tensor([102, 114,  77, 107,   2,  40,  42,  86]), batch_nb: 8\n"
     ]
    },
    {
     "name": "stderr",
     "output_type": "stream",
     "text": [
      "\r",
      " 72%|███████▏  | 26/36 [01:42<00:39,  3.95s/it, avg_laplacian_term=100, avg_val_fro=40.5, avg_val_loss=141, avg_val_mae=5.35, batch_nb=16, epoch=2, tng_loss=209.633, v_nb=1]"
     ]
    },
    {
     "name": "stdout",
     "output_type": "stream",
     "text": [
      "G shape: torch.Size([8, 3476, 3476])\n",
      "t: tensor([ 22,   1, 111,  39,  59, 103, 135,  16]), batch_nb: 9\n"
     ]
    },
    {
     "name": "stderr",
     "output_type": "stream",
     "text": [
      "\r",
      " 75%|███████▌  | 27/36 [01:46<00:35,  3.92s/it, avg_laplacian_term=100, avg_val_fro=40.5, avg_val_loss=141, avg_val_mae=5.35, batch_nb=16, epoch=2, tng_loss=209.633, v_nb=1]"
     ]
    },
    {
     "name": "stdout",
     "output_type": "stream",
     "text": [
      "G shape: torch.Size([8, 3476, 3476])\n",
      "t: tensor([ 26,  10,  47,  24,   0,  64,  14, 140]), batch_nb: 10\n"
     ]
    },
    {
     "name": "stderr",
     "output_type": "stream",
     "text": [
      "\r",
      " 78%|███████▊  | 28/36 [01:50<00:31,  3.98s/it, avg_laplacian_term=100, avg_val_fro=40.5, avg_val_loss=141, avg_val_mae=5.35, batch_nb=16, epoch=2, tng_loss=209.633, v_nb=1]"
     ]
    },
    {
     "name": "stdout",
     "output_type": "stream",
     "text": [
      "G shape: torch.Size([8, 3476, 3476])\n",
      "t: tensor([76, 19, 38, 55, 17, 65, 98, 43]), batch_nb: 11\n"
     ]
    },
    {
     "name": "stderr",
     "output_type": "stream",
     "text": [
      "\r",
      " 81%|████████  | 29/36 [01:54<00:27,  3.95s/it, avg_laplacian_term=100, avg_val_fro=40.5, avg_val_loss=141, avg_val_mae=5.35, batch_nb=16, epoch=2, tng_loss=209.633, v_nb=1]"
     ]
    },
    {
     "name": "stdout",
     "output_type": "stream",
     "text": [
      "G shape: torch.Size([8, 3476, 3476])\n",
      "t: tensor([20, 50, 54, 93, 95, 60, 44, 88]), batch_nb: 12\n"
     ]
    },
    {
     "name": "stderr",
     "output_type": "stream",
     "text": [
      "\r",
      " 83%|████████▎ | 30/36 [01:58<00:23,  3.93s/it, avg_laplacian_term=100, avg_val_fro=40.5, avg_val_loss=141, avg_val_mae=5.35, batch_nb=16, epoch=2, tng_loss=209.633, v_nb=1]"
     ]
    },
    {
     "name": "stdout",
     "output_type": "stream",
     "text": [
      "G shape: torch.Size([8, 3476, 3476])\n",
      "t: tensor([ 51,  21, 122, 129, 124,  49,  99,  29]), batch_nb: 13\n"
     ]
    },
    {
     "name": "stderr",
     "output_type": "stream",
     "text": [
      "\r",
      " 86%|████████▌ | 31/36 [02:03<00:20,  4.11s/it, avg_laplacian_term=100, avg_val_fro=40.5, avg_val_loss=141, avg_val_mae=5.35, batch_nb=16, epoch=2, tng_loss=209.633, v_nb=1]"
     ]
    },
    {
     "name": "stdout",
     "output_type": "stream",
     "text": [
      "G shape: torch.Size([8, 3476, 3476])\n",
      "t: tensor([ 80, 105,  97,  31,  25,  96, 110,  73]), batch_nb: 14\n"
     ]
    },
    {
     "name": "stderr",
     "output_type": "stream",
     "text": [
      "\r",
      " 89%|████████▉ | 32/36 [02:07<00:16,  4.10s/it, avg_laplacian_term=100, avg_val_fro=40.5, avg_val_loss=141, avg_val_mae=5.35, batch_nb=16, epoch=2, tng_loss=209.633, v_nb=1]"
     ]
    },
    {
     "name": "stdout",
     "output_type": "stream",
     "text": [
      "G shape: torch.Size([8, 3476, 3476])\n",
      "t: tensor([131,  41, 133,  63,  70,  94, 141,  46]), batch_nb: 15\n"
     ]
    },
    {
     "name": "stderr",
     "output_type": "stream",
     "text": [
      "\r",
      " 92%|█████████▏| 33/36 [02:11<00:12,  4.07s/it, avg_laplacian_term=100, avg_val_fro=40.5, avg_val_loss=141, avg_val_mae=5.35, batch_nb=16, epoch=2, tng_loss=209.633, v_nb=1]"
     ]
    },
    {
     "name": "stdout",
     "output_type": "stream",
     "text": [
      "G shape: torch.Size([8, 3476, 3476])\n",
      "t: tensor([ 53, 128,  30,  92,  48,  89, 101, 115]), batch_nb: 16\n"
     ]
    },
    {
     "name": "stderr",
     "output_type": "stream",
     "text": [
      "\r",
      " 94%|█████████▍| 34/36 [02:15<00:08,  4.05s/it, avg_laplacian_term=100, avg_val_fro=40.5, avg_val_loss=141, avg_val_mae=5.35, batch_nb=16, epoch=2, tng_loss=209.633, v_nb=1]"
     ]
    },
    {
     "name": "stdout",
     "output_type": "stream",
     "text": [
      "G shape: torch.Size([8, 3476, 3476])\n",
      "t: tensor([116,  23,   6,  71,  12, 123, 125,  13]), batch_nb: 17\n"
     ]
    },
    {
     "name": "stderr",
     "output_type": "stream",
     "text": [
      "100%|██████████| 36/36 [02:20<00:00,  3.04s/it, avg_laplacian_term=99.1, avg_val_fro=40.2, avg_val_loss=139, avg_val_mae=5.34, batch_nb=16, epoch=2, tng_loss=209.633, v_nb=1]"
     ]
    },
    {
     "name": "stdout",
     "output_type": "stream",
     "text": [
      "G shape: torch.Size([8, 3476, 3476])\n",
      "t: tensor([129, 139,  49, 125,  89,  85,  21,  47]), batch_nb: 17\n"
     ]
    },
    {
     "name": "stderr",
     "output_type": "stream",
     "text": [
      "  3%|▎         | 1/36 [00:00<00:16,  2.14it/s], avg_laplacian_term=99.1, avg_val_fro=40.2, avg_val_loss=139, avg_val_mae=5.34, batch_nb=17, epoch=2, tng_loss=209.456, v_nb=1]"
     ]
    },
    {
     "name": "stdout",
     "output_type": "stream",
     "text": [
      "G shape: torch.Size([8, 3476, 3476])\n",
      "t: tensor([140,  37, 101, 138,  31, 128,  41,  22]), batch_nb: 0\n"
     ]
    },
    {
     "name": "stderr",
     "output_type": "stream",
     "text": [
      "  6%|▌         | 2/36 [00:04<00:53,  1.59s/it, avg_laplacian_term=99.1, avg_val_fro=40.2, avg_val_loss=139, avg_val_mae=5.34, batch_nb=0, epoch=3, tng_loss=209.494, v_nb=1]"
     ]
    },
    {
     "name": "stdout",
     "output_type": "stream",
     "text": [
      "G shape: torch.Size([8, 3476, 3476])\n",
      "t: tensor([ 71, 135,  14, 137, 112,  98, 106,  80]), batch_nb: 1\n"
     ]
    },
    {
     "name": "stderr",
     "output_type": "stream",
     "text": [
      "  8%|▊         | 3/36 [00:09<01:22,  2.49s/it, avg_laplacian_term=99.1, avg_val_fro=40.2, avg_val_loss=139, avg_val_mae=5.34, batch_nb=1, epoch=3, tng_loss=209.438, v_nb=1]"
     ]
    },
    {
     "name": "stdout",
     "output_type": "stream",
     "text": [
      "G shape: torch.Size([8, 3476, 3476])\n",
      "t: tensor([ 45,  69, 130,  44, 120,  58,  43,  20]), batch_nb: 2\n"
     ]
    },
    {
     "name": "stderr",
     "output_type": "stream",
     "text": [
      " 11%|█         | 4/36 [00:13<01:38,  3.07s/it, avg_laplacian_term=99.1, avg_val_fro=40.2, avg_val_loss=139, avg_val_mae=5.34, batch_nb=2, epoch=3, tng_loss=209.303, v_nb=1]"
     ]
    },
    {
     "name": "stdout",
     "output_type": "stream",
     "text": [
      "G shape: torch.Size([8, 3476, 3476])\n",
      "t: tensor([141,  17,  51, 124,  91, 104,  60,   6]), batch_nb: 3\n"
     ]
    },
    {
     "name": "stderr",
     "output_type": "stream",
     "text": [
      " 14%|█▍        | 5/36 [00:17<01:43,  3.33s/it, avg_laplacian_term=99.1, avg_val_fro=40.2, avg_val_loss=139, avg_val_mae=5.34, batch_nb=3, epoch=3, tng_loss=209.387, v_nb=1]"
     ]
    },
    {
     "name": "stdout",
     "output_type": "stream",
     "text": [
      "G shape: torch.Size([8, 3476, 3476])\n",
      "t: tensor([ 65, 115,  38, 105, 123,  10, 122,  33]), batch_nb: 4\n"
     ]
    },
    {
     "name": "stderr",
     "output_type": "stream",
     "text": [
      " 17%|█▋        | 6/36 [00:21<01:48,  3.61s/it, avg_laplacian_term=99.1, avg_val_fro=40.2, avg_val_loss=139, avg_val_mae=5.34, batch_nb=4, epoch=3, tng_loss=209.262, v_nb=1]"
     ]
    },
    {
     "name": "stdout",
     "output_type": "stream",
     "text": [
      "G shape: torch.Size([8, 3476, 3476])\n",
      "t: tensor([ 21,  66,  55,  26,  49,  78,  52, 127]), batch_nb: 5\n"
     ]
    },
    {
     "name": "stderr",
     "output_type": "stream",
     "text": [
      " 19%|█▉        | 7/36 [00:25<01:46,  3.67s/it, avg_laplacian_term=99.1, avg_val_fro=40.2, avg_val_loss=139, avg_val_mae=5.34, batch_nb=5, epoch=3, tng_loss=208.966, v_nb=1]"
     ]
    },
    {
     "name": "stdout",
     "output_type": "stream",
     "text": [
      "G shape: torch.Size([8, 3476, 3476])\n",
      "t: tensor([110,  15,  70,  73,   5,  76, 134,  84]), batch_nb: 6\n"
     ]
    },
    {
     "name": "stderr",
     "output_type": "stream",
     "text": [
      " 22%|██▏       | 8/36 [00:29<01:44,  3.74s/it, avg_laplacian_term=99.1, avg_val_fro=40.2, avg_val_loss=139, avg_val_mae=5.34, batch_nb=6, epoch=3, tng_loss=208.814, v_nb=1]"
     ]
    },
    {
     "name": "stdout",
     "output_type": "stream",
     "text": [
      "G shape: torch.Size([8, 3476, 3476])\n",
      "t: tensor([ 16, 100,  68,  19,  99,  30, 118,  64]), batch_nb: 7\n"
     ]
    },
    {
     "name": "stderr",
     "output_type": "stream",
     "text": [
      " 25%|██▌       | 9/36 [00:33<01:42,  3.78s/it, avg_laplacian_term=99.1, avg_val_fro=40.2, avg_val_loss=139, avg_val_mae=5.34, batch_nb=7, epoch=3, tng_loss=208.942, v_nb=1]"
     ]
    },
    {
     "name": "stdout",
     "output_type": "stream",
     "text": [
      "G shape: torch.Size([8, 3476, 3476])\n",
      "t: tensor([ 27,  47, 133,  83,  35,   0,  54,  25]), batch_nb: 8\n"
     ]
    },
    {
     "name": "stderr",
     "output_type": "stream",
     "text": [
      " 28%|██▊       | 10/36 [00:36<01:35,  3.69s/it, avg_laplacian_term=99.1, avg_val_fro=40.2, avg_val_loss=139, avg_val_mae=5.34, batch_nb=8, epoch=3, tng_loss=208.749, v_nb=1]"
     ]
    },
    {
     "name": "stdout",
     "output_type": "stream",
     "text": [
      "G shape: torch.Size([8, 3476, 3476])\n",
      "t: tensor([59, 34, 39,  3, 86, 89, 82,  8]), batch_nb: 9\n"
     ]
    },
    {
     "name": "stderr",
     "output_type": "stream",
     "text": [
      " 31%|███       | 11/36 [00:40<01:34,  3.77s/it, avg_laplacian_term=99.1, avg_val_fro=40.2, avg_val_loss=139, avg_val_mae=5.34, batch_nb=9, epoch=3, tng_loss=208.822, v_nb=1]"
     ]
    },
    {
     "name": "stdout",
     "output_type": "stream",
     "text": [
      "G shape: torch.Size([8, 3476, 3476])\n",
      "t: tensor([ 88, 108,  77,  12,  96,  28,  57, 125]), batch_nb: 10\n"
     ]
    },
    {
     "name": "stderr",
     "output_type": "stream",
     "text": [
      " 33%|███▎      | 12/36 [00:44<01:31,  3.81s/it, avg_laplacian_term=99.1, avg_val_fro=40.2, avg_val_loss=139, avg_val_mae=5.34, batch_nb=10, epoch=3, tng_loss=208.715, v_nb=1]"
     ]
    },
    {
     "name": "stdout",
     "output_type": "stream",
     "text": [
      "G shape: torch.Size([8, 3476, 3476])\n",
      "t: tensor([11, 74, 92,  4, 32, 75, 93,  9]), batch_nb: 11\n"
     ]
    },
    {
     "name": "stderr",
     "output_type": "stream",
     "text": [
      " 36%|███▌      | 13/36 [00:48<01:29,  3.88s/it, avg_laplacian_term=99.1, avg_val_fro=40.2, avg_val_loss=139, avg_val_mae=5.34, batch_nb=11, epoch=3, tng_loss=208.719, v_nb=1]"
     ]
    },
    {
     "name": "stdout",
     "output_type": "stream",
     "text": [
      "G shape: torch.Size([8, 3476, 3476])\n",
      "t: tensor([ 23,  67,   7,  87, 121,  48,  40,   1]), batch_nb: 12\n"
     ]
    },
    {
     "name": "stderr",
     "output_type": "stream",
     "text": [
      " 39%|███▉      | 14/36 [00:52<01:26,  3.93s/it, avg_laplacian_term=99.1, avg_val_fro=40.2, avg_val_loss=139, avg_val_mae=5.34, batch_nb=12, epoch=3, tng_loss=208.557, v_nb=1]"
     ]
    },
    {
     "name": "stdout",
     "output_type": "stream",
     "text": [
      "G shape: torch.Size([8, 3476, 3476])\n",
      "t: tensor([ 61,  97, 139, 103,  72, 117, 119,  29]), batch_nb: 13\n"
     ]
    },
    {
     "name": "stderr",
     "output_type": "stream",
     "text": [
      " 42%|████▏     | 15/36 [00:57<01:24,  4.00s/it, avg_laplacian_term=99.1, avg_val_fro=40.2, avg_val_loss=139, avg_val_mae=5.34, batch_nb=13, epoch=3, tng_loss=208.470, v_nb=1]"
     ]
    },
    {
     "name": "stdout",
     "output_type": "stream",
     "text": [
      "G shape: torch.Size([8, 3476, 3476])\n",
      "t: tensor([ 50, 126, 143,  36,  63,  18, 107,  24]), batch_nb: 14\n"
     ]
    },
    {
     "name": "stderr",
     "output_type": "stream",
     "text": [
      " 44%|████▍     | 16/36 [01:00<01:19,  3.97s/it, avg_laplacian_term=99.1, avg_val_fro=40.2, avg_val_loss=139, avg_val_mae=5.34, batch_nb=14, epoch=3, tng_loss=208.332, v_nb=1]"
     ]
    },
    {
     "name": "stdout",
     "output_type": "stream",
     "text": [
      "G shape: torch.Size([8, 3476, 3476])\n",
      "t: tensor([ 85, 109, 136,  13,  90, 111,  42,  81]), batch_nb: 15\n"
     ]
    },
    {
     "name": "stderr",
     "output_type": "stream",
     "text": [
      " 47%|████▋     | 17/36 [01:05<01:16,  4.02s/it, avg_laplacian_term=99.1, avg_val_fro=40.2, avg_val_loss=139, avg_val_mae=5.34, batch_nb=15, epoch=3, tng_loss=208.418, v_nb=1]"
     ]
    },
    {
     "name": "stdout",
     "output_type": "stream",
     "text": [
      "G shape: torch.Size([8, 3476, 3476])\n",
      "t: tensor([ 95,  46,  79, 113, 116,  56,  62,  94]), batch_nb: 16\n"
     ]
    },
    {
     "name": "stderr",
     "output_type": "stream",
     "text": [
      "\r",
      " 47%|████▋     | 17/36 [01:08<01:16,  4.02s/it, avg_laplacian_term=99.1, avg_val_fro=40.2, avg_val_loss=139, avg_val_mae=5.34, batch_nb=16, epoch=3, tng_loss=208.442, v_nb=1]"
     ]
    },
    {
     "name": "stdout",
     "output_type": "stream",
     "text": [
      "G shape: torch.Size([8, 3476, 3476])\n",
      "t: tensor([65, 41, 13, 96, 53, 26, 56, 36]), batch_nb: 0\n"
     ]
    },
    {
     "name": "stderr",
     "output_type": "stream",
     "text": [
      "\r",
      " 50%|█████     | 18/36 [01:12<01:28,  4.92s/it, avg_laplacian_term=99.1, avg_val_fro=40.2, avg_val_loss=139, avg_val_mae=5.34, batch_nb=16, epoch=3, tng_loss=208.442, v_nb=1]"
     ]
    },
    {
     "name": "stdout",
     "output_type": "stream",
     "text": [
      "G shape: torch.Size([8, 3476, 3476])\n",
      "t: tensor([134, 122, 126,  61,  59,  94,  47,  92]), batch_nb: 1\n"
     ]
    },
    {
     "name": "stderr",
     "output_type": "stream",
     "text": [
      "\r",
      " 53%|█████▎    | 19/36 [01:16<01:18,  4.62s/it, avg_laplacian_term=99.1, avg_val_fro=40.2, avg_val_loss=139, avg_val_mae=5.34, batch_nb=16, epoch=3, tng_loss=208.442, v_nb=1]"
     ]
    },
    {
     "name": "stdout",
     "output_type": "stream",
     "text": [
      "G shape: torch.Size([8, 3476, 3476])\n",
      "t: tensor([ 72,  45,  99,  35,  63, 129,   4,  69]), batch_nb: 2\n"
     ]
    },
    {
     "name": "stderr",
     "output_type": "stream",
     "text": [
      "\r",
      " 56%|█████▌    | 20/36 [01:19<01:10,  4.40s/it, avg_laplacian_term=99.1, avg_val_fro=40.2, avg_val_loss=139, avg_val_mae=5.34, batch_nb=16, epoch=3, tng_loss=208.442, v_nb=1]"
     ]
    },
    {
     "name": "stdout",
     "output_type": "stream",
     "text": [
      "G shape: torch.Size([8, 3476, 3476])\n",
      "t: tensor([ 52, 136,  28, 107,  93,  14, 133,  68]), batch_nb: 3\n"
     ]
    },
    {
     "name": "stderr",
     "output_type": "stream",
     "text": [
      "\r",
      " 58%|█████▊    | 21/36 [01:23<01:03,  4.22s/it, avg_laplacian_term=99.1, avg_val_fro=40.2, avg_val_loss=139, avg_val_mae=5.34, batch_nb=16, epoch=3, tng_loss=208.442, v_nb=1]"
     ]
    },
    {
     "name": "stdout",
     "output_type": "stream",
     "text": [
      "G shape: torch.Size([8, 3476, 3476])\n",
      "t: tensor([112,  48,  80,  21,  73, 139,  79,  84]), batch_nb: 4\n"
     ]
    },
    {
     "name": "stderr",
     "output_type": "stream",
     "text": [
      "\r",
      " 61%|██████    | 22/36 [01:27<00:58,  4.15s/it, avg_laplacian_term=99.1, avg_val_fro=40.2, avg_val_loss=139, avg_val_mae=5.34, batch_nb=16, epoch=3, tng_loss=208.442, v_nb=1]"
     ]
    },
    {
     "name": "stdout",
     "output_type": "stream",
     "text": [
      "G shape: torch.Size([8, 3476, 3476])\n",
      "t: tensor([137, 131, 130,   1,  34,  32,  60,  62]), batch_nb: 5\n"
     ]
    },
    {
     "name": "stderr",
     "output_type": "stream",
     "text": [
      "\r",
      " 64%|██████▍   | 23/36 [01:31<00:52,  4.08s/it, avg_laplacian_term=99.1, avg_val_fro=40.2, avg_val_loss=139, avg_val_mae=5.34, batch_nb=16, epoch=3, tng_loss=208.442, v_nb=1]"
     ]
    },
    {
     "name": "stdout",
     "output_type": "stream",
     "text": [
      "G shape: torch.Size([8, 3476, 3476])\n",
      "t: tensor([ 20,  58, 104, 100,  88,  50, 120,  17]), batch_nb: 6\n"
     ]
    },
    {
     "name": "stderr",
     "output_type": "stream",
     "text": [
      "\r",
      " 67%|██████▋   | 24/36 [01:36<00:50,  4.22s/it, avg_laplacian_term=99.1, avg_val_fro=40.2, avg_val_loss=139, avg_val_mae=5.34, batch_nb=16, epoch=3, tng_loss=208.442, v_nb=1]"
     ]
    },
    {
     "name": "stdout",
     "output_type": "stream",
     "text": [
      "G shape: torch.Size([8, 3476, 3476])\n",
      "t: tensor([101, 132, 125,  46,  44, 128, 142,  31]), batch_nb: 7\n"
     ]
    },
    {
     "name": "stderr",
     "output_type": "stream",
     "text": [
      "\r",
      " 69%|██████▉   | 25/36 [01:40<00:47,  4.29s/it, avg_laplacian_term=99.1, avg_val_fro=40.2, avg_val_loss=139, avg_val_mae=5.34, batch_nb=16, epoch=3, tng_loss=208.442, v_nb=1]"
     ]
    },
    {
     "name": "stdout",
     "output_type": "stream",
     "text": [
      "G shape: torch.Size([8, 3476, 3476])\n",
      "t: tensor([141,  40,  30,  38,  23,  43, 102,  85]), batch_nb: 8\n"
     ]
    },
    {
     "name": "stderr",
     "output_type": "stream",
     "text": [
      "\r",
      " 72%|███████▏  | 26/36 [01:44<00:41,  4.13s/it, avg_laplacian_term=99.1, avg_val_fro=40.2, avg_val_loss=139, avg_val_mae=5.34, batch_nb=16, epoch=3, tng_loss=208.442, v_nb=1]"
     ]
    },
    {
     "name": "stdout",
     "output_type": "stream",
     "text": [
      "G shape: torch.Size([8, 3476, 3476])\n",
      "t: tensor([ 86,  97, 110,   3,  15,  42,  55,  76]), batch_nb: 9\n"
     ]
    },
    {
     "name": "stderr",
     "output_type": "stream",
     "text": [
      "\r",
      " 75%|███████▌  | 27/36 [01:48<00:36,  4.01s/it, avg_laplacian_term=99.1, avg_val_fro=40.2, avg_val_loss=139, avg_val_mae=5.34, batch_nb=16, epoch=3, tng_loss=208.442, v_nb=1]"
     ]
    },
    {
     "name": "stdout",
     "output_type": "stream",
     "text": [
      "G shape: torch.Size([8, 3476, 3476])\n",
      "t: tensor([ 82, 117,   9, 123,  66,   5,  25,  39]), batch_nb: 10\n"
     ]
    },
    {
     "name": "stderr",
     "output_type": "stream",
     "text": [
      "\r",
      " 78%|███████▊  | 28/36 [01:51<00:30,  3.83s/it, avg_laplacian_term=99.1, avg_val_fro=40.2, avg_val_loss=139, avg_val_mae=5.34, batch_nb=16, epoch=3, tng_loss=208.442, v_nb=1]"
     ]
    },
    {
     "name": "stdout",
     "output_type": "stream",
     "text": [
      "G shape: torch.Size([8, 3476, 3476])\n",
      "t: tensor([111,  90,  24,  77,  33,  81, 143,   6]), batch_nb: 11\n"
     ]
    },
    {
     "name": "stderr",
     "output_type": "stream",
     "text": [
      "\r",
      " 81%|████████  | 29/36 [01:54<00:25,  3.68s/it, avg_laplacian_term=99.1, avg_val_fro=40.2, avg_val_loss=139, avg_val_mae=5.34, batch_nb=16, epoch=3, tng_loss=208.442, v_nb=1]"
     ]
    },
    {
     "name": "stdout",
     "output_type": "stream",
     "text": [
      "G shape: torch.Size([8, 3476, 3476])\n",
      "t: tensor([ 51,  27, 116, 114,  10, 109,  71,  22]), batch_nb: 12\n"
     ]
    },
    {
     "name": "stderr",
     "output_type": "stream",
     "text": [
      "\r",
      " 83%|████████▎ | 30/36 [01:58<00:22,  3.69s/it, avg_laplacian_term=99.1, avg_val_fro=40.2, avg_val_loss=139, avg_val_mae=5.34, batch_nb=16, epoch=3, tng_loss=208.442, v_nb=1]"
     ]
    },
    {
     "name": "stdout",
     "output_type": "stream",
     "text": [
      "G shape: torch.Size([8, 3476, 3476])\n",
      "t: tensor([ 49,  12, 119,  75, 121,   0,  37,  19]), batch_nb: 13\n"
     ]
    },
    {
     "name": "stderr",
     "output_type": "stream",
     "text": [
      "\r",
      " 86%|████████▌ | 31/36 [02:02<00:19,  3.83s/it, avg_laplacian_term=99.1, avg_val_fro=40.2, avg_val_loss=139, avg_val_mae=5.34, batch_nb=16, epoch=3, tng_loss=208.442, v_nb=1]"
     ]
    },
    {
     "name": "stdout",
     "output_type": "stream",
     "text": [
      "G shape: torch.Size([8, 3476, 3476])\n",
      "t: tensor([ 54,  78,   2, 118,  87, 138,  98, 106]), batch_nb: 14\n"
     ]
    },
    {
     "name": "stderr",
     "output_type": "stream",
     "text": [
      "\r",
      " 89%|████████▉ | 32/36 [02:06<00:15,  3.80s/it, avg_laplacian_term=99.1, avg_val_fro=40.2, avg_val_loss=139, avg_val_mae=5.34, batch_nb=16, epoch=3, tng_loss=208.442, v_nb=1]"
     ]
    },
    {
     "name": "stdout",
     "output_type": "stream",
     "text": [
      "G shape: torch.Size([8, 3476, 3476])\n",
      "t: tensor([124,  74,  95,  70, 140,  67,  57,  83]), batch_nb: 15\n"
     ]
    },
    {
     "name": "stderr",
     "output_type": "stream",
     "text": [
      "\r",
      " 92%|█████████▏| 33/36 [02:10<00:11,  3.79s/it, avg_laplacian_term=99.1, avg_val_fro=40.2, avg_val_loss=139, avg_val_mae=5.34, batch_nb=16, epoch=3, tng_loss=208.442, v_nb=1]"
     ]
    },
    {
     "name": "stdout",
     "output_type": "stream",
     "text": [
      "G shape: torch.Size([8, 3476, 3476])\n",
      "t: tensor([  7,  16,  64, 105, 103, 135,  18, 115]), batch_nb: 16\n"
     ]
    },
    {
     "name": "stderr",
     "output_type": "stream",
     "text": [
      "\r",
      " 94%|█████████▍| 34/36 [02:14<00:07,  3.85s/it, avg_laplacian_term=99.1, avg_val_fro=40.2, avg_val_loss=139, avg_val_mae=5.34, batch_nb=16, epoch=3, tng_loss=208.442, v_nb=1]"
     ]
    },
    {
     "name": "stdout",
     "output_type": "stream",
     "text": [
      "G shape: torch.Size([8, 3476, 3476])\n",
      "t: tensor([  8, 113, 127,  29, 108,  11,  89,  91]), batch_nb: 17\n"
     ]
    },
    {
     "name": "stderr",
     "output_type": "stream",
     "text": [
      "100%|██████████| 36/36 [02:18<00:00,  2.82s/it, avg_laplacian_term=97.8, avg_val_fro=40, avg_val_loss=138, avg_val_mae=5.32, batch_nb=16, epoch=3, tng_loss=208.442, v_nb=1]  "
     ]
    },
    {
     "name": "stdout",
     "output_type": "stream",
     "text": [
      "G shape: torch.Size([8, 3476, 3476])\n",
      "t: tensor([ 53, 142, 129, 102, 114, 132,   2, 131]), batch_nb: 17\n"
     ]
    },
    {
     "name": "stderr",
     "output_type": "stream",
     "text": [
      "  3%|▎         | 1/36 [00:00<00:15,  2.25it/s], avg_laplacian_term=97.8, avg_val_fro=40, avg_val_loss=138, avg_val_mae=5.32, batch_nb=17, epoch=3, tng_loss=208.367, v_nb=1]"
     ]
    },
    {
     "name": "stdout",
     "output_type": "stream",
     "text": [
      "G shape: torch.Size([8, 3476, 3476])\n",
      "t: tensor([104,   7,  17,  88,  51,  79,  93,  91]), batch_nb: 0\n"
     ]
    },
    {
     "name": "stderr",
     "output_type": "stream",
     "text": [
      "  6%|▌         | 2/36 [00:04<00:52,  1.55s/it, avg_laplacian_term=97.8, avg_val_fro=40, avg_val_loss=138, avg_val_mae=5.32, batch_nb=0, epoch=4, tng_loss=208.490, v_nb=1]"
     ]
    },
    {
     "name": "stdout",
     "output_type": "stream",
     "text": [
      "G shape: torch.Size([8, 3476, 3476])\n",
      "t: tensor([114,  45, 115, 113,  36,  60,  69, 133]), batch_nb: 1\n"
     ]
    },
    {
     "name": "stderr",
     "output_type": "stream",
     "text": [
      "  8%|▊         | 3/36 [00:08<01:15,  2.30s/it, avg_laplacian_term=97.8, avg_val_fro=40, avg_val_loss=138, avg_val_mae=5.32, batch_nb=1, epoch=4, tng_loss=208.408, v_nb=1]"
     ]
    },
    {
     "name": "stdout",
     "output_type": "stream",
     "text": [
      "G shape: torch.Size([8, 3476, 3476])\n",
      "t: tensor([ 53,  27,   1,  61,  76,  74,  21, 141]), batch_nb: 2\n"
     ]
    },
    {
     "name": "stderr",
     "output_type": "stream",
     "text": [
      " 11%|█         | 4/36 [00:12<01:29,  2.79s/it, avg_laplacian_term=97.8, avg_val_fro=40, avg_val_loss=138, avg_val_mae=5.32, batch_nb=2, epoch=4, tng_loss=208.188, v_nb=1]"
     ]
    },
    {
     "name": "stdout",
     "output_type": "stream",
     "text": [
      "G shape: torch.Size([8, 3476, 3476])\n",
      "t: tensor([ 86,  55,  41,  83, 123, 140,  39,   4]), batch_nb: 3\n"
     ]
    },
    {
     "name": "stderr",
     "output_type": "stream",
     "text": [
      " 14%|█▍        | 5/36 [00:16<01:37,  3.13s/it, avg_laplacian_term=97.8, avg_val_fro=40, avg_val_loss=138, avg_val_mae=5.32, batch_nb=3, epoch=4, tng_loss=208.287, v_nb=1]"
     ]
    },
    {
     "name": "stdout",
     "output_type": "stream",
     "text": [
      "G shape: torch.Size([8, 3476, 3476])\n",
      "t: tensor([ 97, 121, 143,  77,  28,  13,   8, 103]), batch_nb: 4\n"
     ]
    },
    {
     "name": "stderr",
     "output_type": "stream",
     "text": [
      " 17%|█▋        | 6/36 [00:20<01:40,  3.34s/it, avg_laplacian_term=97.8, avg_val_fro=40, avg_val_loss=138, avg_val_mae=5.32, batch_nb=4, epoch=4, tng_loss=208.276, v_nb=1]"
     ]
    },
    {
     "name": "stdout",
     "output_type": "stream",
     "text": [
      "G shape: torch.Size([8, 3476, 3476])\n",
      "t: tensor([108,  34,  82,  35, 102, 134,  95,  26]), batch_nb: 5\n"
     ]
    },
    {
     "name": "stderr",
     "output_type": "stream",
     "text": [
      " 19%|█▉        | 7/36 [00:24<01:42,  3.52s/it, avg_laplacian_term=97.8, avg_val_fro=40, avg_val_loss=138, avg_val_mae=5.32, batch_nb=5, epoch=4, tng_loss=208.034, v_nb=1]"
     ]
    },
    {
     "name": "stdout",
     "output_type": "stream",
     "text": [
      "G shape: torch.Size([8, 3476, 3476])\n",
      "t: tensor([ 15, 119,  11,  67,   2, 132, 138,  29]), batch_nb: 6\n"
     ]
    },
    {
     "name": "stderr",
     "output_type": "stream",
     "text": [
      " 22%|██▏       | 8/36 [00:28<01:40,  3.61s/it, avg_laplacian_term=97.8, avg_val_fro=40, avg_val_loss=138, avg_val_mae=5.32, batch_nb=6, epoch=4, tng_loss=207.996, v_nb=1]"
     ]
    },
    {
     "name": "stdout",
     "output_type": "stream",
     "text": [
      "G shape: torch.Size([8, 3476, 3476])\n",
      "t: tensor([127,  38,  33,   9, 129,  62,  52,  99]), batch_nb: 7\n"
     ]
    },
    {
     "name": "stderr",
     "output_type": "stream",
     "text": [
      " 25%|██▌       | 9/36 [00:31<01:39,  3.68s/it, avg_laplacian_term=97.8, avg_val_fro=40, avg_val_loss=138, avg_val_mae=5.32, batch_nb=7, epoch=4, tng_loss=207.769, v_nb=1]"
     ]
    },
    {
     "name": "stdout",
     "output_type": "stream",
     "text": [
      "G shape: torch.Size([8, 3476, 3476])\n",
      "t: tensor([117,  16,  92,  78,  68,  96, 106,  37]), batch_nb: 8\n"
     ]
    },
    {
     "name": "stderr",
     "output_type": "stream",
     "text": [
      " 28%|██▊       | 10/36 [00:35<01:37,  3.77s/it, avg_laplacian_term=97.8, avg_val_fro=40, avg_val_loss=138, avg_val_mae=5.32, batch_nb=8, epoch=4, tng_loss=207.757, v_nb=1]"
     ]
    },
    {
     "name": "stdout",
     "output_type": "stream",
     "text": [
      "G shape: torch.Size([8, 3476, 3476])\n",
      "t: tensor([124, 111,  59,  14, 101,  43,  46, 122]), batch_nb: 9\n"
     ]
    },
    {
     "name": "stderr",
     "output_type": "stream",
     "text": [
      " 31%|███       | 11/36 [00:39<01:35,  3.83s/it, avg_laplacian_term=97.8, avg_val_fro=40, avg_val_loss=138, avg_val_mae=5.32, batch_nb=9, epoch=4, tng_loss=207.670, v_nb=1]"
     ]
    },
    {
     "name": "stdout",
     "output_type": "stream",
     "text": [
      "G shape: torch.Size([8, 3476, 3476])\n",
      "t: tensor([ 65, 135,   0,   3, 100,  48, 136,  98]), batch_nb: 10\n"
     ]
    },
    {
     "name": "stderr",
     "output_type": "stream",
     "text": [
      " 33%|███▎      | 12/36 [00:43<01:32,  3.87s/it, avg_laplacian_term=97.8, avg_val_fro=40, avg_val_loss=138, avg_val_mae=5.32, batch_nb=10, epoch=4, tng_loss=207.592, v_nb=1]"
     ]
    },
    {
     "name": "stdout",
     "output_type": "stream",
     "text": [
      "G shape: torch.Size([8, 3476, 3476])\n",
      "t: tensor([ 70,  81,  10, 107, 131,  85,  87,  56]), batch_nb: 11\n"
     ]
    },
    {
     "name": "stderr",
     "output_type": "stream",
     "text": [
      " 36%|███▌      | 13/36 [00:47<01:29,  3.87s/it, avg_laplacian_term=97.8, avg_val_fro=40, avg_val_loss=138, avg_val_mae=5.32, batch_nb=11, epoch=4, tng_loss=207.634, v_nb=1]"
     ]
    },
    {
     "name": "stdout",
     "output_type": "stream",
     "text": [
      "G shape: torch.Size([8, 3476, 3476])\n",
      "t: tensor([ 94,   5,  72,  75,  66,  25,   6, 142]), batch_nb: 12\n"
     ]
    },
    {
     "name": "stderr",
     "output_type": "stream",
     "text": [
      " 39%|███▉      | 14/36 [00:51<01:26,  3.91s/it, avg_laplacian_term=97.8, avg_val_fro=40, avg_val_loss=138, avg_val_mae=5.32, batch_nb=12, epoch=4, tng_loss=207.570, v_nb=1]"
     ]
    },
    {
     "name": "stdout",
     "output_type": "stream",
     "text": [
      "G shape: torch.Size([8, 3476, 3476])\n",
      "t: tensor([ 64, 137,  80, 128, 126,  20,  89,  49]), batch_nb: 13\n"
     ]
    },
    {
     "name": "stderr",
     "output_type": "stream",
     "text": [
      " 42%|████▏     | 15/36 [00:55<01:21,  3.89s/it, avg_laplacian_term=97.8, avg_val_fro=40, avg_val_loss=138, avg_val_mae=5.32, batch_nb=13, epoch=4, tng_loss=207.578, v_nb=1]"
     ]
    },
    {
     "name": "stdout",
     "output_type": "stream",
     "text": [
      "G shape: torch.Size([8, 3476, 3476])\n",
      "t: tensor([31, 54, 30, 50, 73, 18, 63, 24]), batch_nb: 14\n"
     ]
    },
    {
     "name": "stderr",
     "output_type": "stream",
     "text": [
      " 44%|████▍     | 16/36 [00:59<01:20,  4.05s/it, avg_laplacian_term=97.8, avg_val_fro=40, avg_val_loss=138, avg_val_mae=5.32, batch_nb=14, epoch=4, tng_loss=207.443, v_nb=1]"
     ]
    },
    {
     "name": "stdout",
     "output_type": "stream",
     "text": [
      "G shape: torch.Size([8, 3476, 3476])\n",
      "t: tensor([112,  90,  40,  71,  44,  23,  22,  57]), batch_nb: 15\n"
     ]
    },
    {
     "name": "stderr",
     "output_type": "stream",
     "text": [
      " 47%|████▋     | 17/36 [01:03<01:16,  4.03s/it, avg_laplacian_term=97.8, avg_val_fro=40, avg_val_loss=138, avg_val_mae=5.32, batch_nb=15, epoch=4, tng_loss=207.322, v_nb=1]"
     ]
    },
    {
     "name": "stdout",
     "output_type": "stream",
     "text": [
      "G shape: torch.Size([8, 3476, 3476])\n",
      "t: tensor([110, 105, 109,  12,  84,  42,  19,  58]), batch_nb: 16\n"
     ]
    },
    {
     "name": "stderr",
     "output_type": "stream",
     "text": [
      "\r",
      " 47%|████▋     | 17/36 [01:07<01:16,  4.03s/it, avg_laplacian_term=97.8, avg_val_fro=40, avg_val_loss=138, avg_val_mae=5.32, batch_nb=16, epoch=4, tng_loss=207.308, v_nb=1]"
     ]
    },
    {
     "name": "stdout",
     "output_type": "stream",
     "text": [
      "G shape: torch.Size([8, 3476, 3476])\n",
      "t: tensor([109,  81,  25,  11,  80, 101, 114,  60]), batch_nb: 0\n"
     ]
    },
    {
     "name": "stderr",
     "output_type": "stream",
     "text": [
      "\r",
      " 50%|█████     | 18/36 [01:11<01:29,  4.99s/it, avg_laplacian_term=97.8, avg_val_fro=40, avg_val_loss=138, avg_val_mae=5.32, batch_nb=16, epoch=4, tng_loss=207.308, v_nb=1]"
     ]
    },
    {
     "name": "stdout",
     "output_type": "stream",
     "text": [
      "G shape: torch.Size([8, 3476, 3476])\n",
      "t: tensor([135,  66,  14,  48, 126, 117, 128,  84]), batch_nb: 1\n"
     ]
    },
    {
     "name": "stderr",
     "output_type": "stream",
     "text": [
      "\r",
      " 53%|█████▎    | 19/36 [01:15<01:19,  4.66s/it, avg_laplacian_term=97.8, avg_val_fro=40, avg_val_loss=138, avg_val_mae=5.32, batch_nb=16, epoch=4, tng_loss=207.308, v_nb=1]"
     ]
    },
    {
     "name": "stdout",
     "output_type": "stream",
     "text": [
      "G shape: torch.Size([8, 3476, 3476])\n",
      "t: tensor([ 96,  56,  72, 131,  21,  15,  73, 121]), batch_nb: 2\n"
     ]
    },
    {
     "name": "stderr",
     "output_type": "stream",
     "text": [
      "\r",
      " 56%|█████▌    | 20/36 [01:19<01:11,  4.46s/it, avg_laplacian_term=97.8, avg_val_fro=40, avg_val_loss=138, avg_val_mae=5.32, batch_nb=16, epoch=4, tng_loss=207.308, v_nb=1]"
     ]
    },
    {
     "name": "stdout",
     "output_type": "stream",
     "text": [
      "G shape: torch.Size([8, 3476, 3476])\n",
      "t: tensor([ 30,  16,   4,  98, 137,  37, 122,  23]), batch_nb: 3\n"
     ]
    },
    {
     "name": "stderr",
     "output_type": "stream",
     "text": [
      "\r",
      " 58%|█████▊    | 21/36 [01:23<01:04,  4.33s/it, avg_laplacian_term=97.8, avg_val_fro=40, avg_val_loss=138, avg_val_mae=5.32, batch_nb=16, epoch=4, tng_loss=207.308, v_nb=1]"
     ]
    },
    {
     "name": "stdout",
     "output_type": "stream",
     "text": [
      "G shape: torch.Size([8, 3476, 3476])\n",
      "t: tensor([120,  93,  40,  34,  28, 118,  69,  68]), batch_nb: 4\n"
     ]
    },
    {
     "name": "stderr",
     "output_type": "stream",
     "text": [
      "\r",
      " 61%|██████    | 22/36 [01:26<00:58,  4.18s/it, avg_laplacian_term=97.8, avg_val_fro=40, avg_val_loss=138, avg_val_mae=5.32, batch_nb=16, epoch=4, tng_loss=207.308, v_nb=1]"
     ]
    },
    {
     "name": "stdout",
     "output_type": "stream",
     "text": [
      "G shape: torch.Size([8, 3476, 3476])\n",
      "t: tensor([134,  74, 105,  24,  18,  77, 136, 116]), batch_nb: 5\n"
     ]
    },
    {
     "name": "stderr",
     "output_type": "stream",
     "text": [
      "\r",
      " 64%|██████▍   | 23/36 [01:30<00:52,  4.06s/it, avg_laplacian_term=97.8, avg_val_fro=40, avg_val_loss=138, avg_val_mae=5.32, batch_nb=16, epoch=4, tng_loss=207.308, v_nb=1]"
     ]
    },
    {
     "name": "stdout",
     "output_type": "stream",
     "text": [
      "G shape: torch.Size([8, 3476, 3476])\n",
      "t: tensor([138,  41,  53, 141,   3,  62, 130,  55]), batch_nb: 6\n"
     ]
    },
    {
     "name": "stderr",
     "output_type": "stream",
     "text": [
      "\r",
      " 67%|██████▋   | 24/36 [01:34<00:47,  3.97s/it, avg_laplacian_term=97.8, avg_val_fro=40, avg_val_loss=138, avg_val_mae=5.32, batch_nb=16, epoch=4, tng_loss=207.308, v_nb=1]"
     ]
    },
    {
     "name": "stdout",
     "output_type": "stream",
     "text": [
      "G shape: torch.Size([8, 3476, 3476])\n",
      "t: tensor([112,   9,  90,  99, 113,  43,  59,  54]), batch_nb: 7\n"
     ]
    },
    {
     "name": "stderr",
     "output_type": "stream",
     "text": [
      "\r",
      " 69%|██████▉   | 25/36 [01:38<00:45,  4.12s/it, avg_laplacian_term=97.8, avg_val_fro=40, avg_val_loss=138, avg_val_mae=5.32, batch_nb=16, epoch=4, tng_loss=207.308, v_nb=1]"
     ]
    },
    {
     "name": "stdout",
     "output_type": "stream",
     "text": [
      "G shape: torch.Size([8, 3476, 3476])\n",
      "t: tensor([ 71,  61,  17,  67, 106, 102, 110, 119]), batch_nb: 8\n"
     ]
    },
    {
     "name": "stderr",
     "output_type": "stream",
     "text": [
      "\r",
      " 72%|███████▏  | 26/36 [01:42<00:40,  4.04s/it, avg_laplacian_term=97.8, avg_val_fro=40, avg_val_loss=138, avg_val_mae=5.32, batch_nb=16, epoch=4, tng_loss=207.308, v_nb=1]"
     ]
    },
    {
     "name": "stdout",
     "output_type": "stream",
     "text": [
      "G shape: torch.Size([8, 3476, 3476])\n",
      "t: tensor([  7,  75,  94,  78, 107,  35, 125, 104]), batch_nb: 9\n"
     ]
    },
    {
     "name": "stderr",
     "output_type": "stream",
     "text": [
      "\r",
      " 75%|███████▌  | 27/36 [01:46<00:35,  3.90s/it, avg_laplacian_term=97.8, avg_val_fro=40, avg_val_loss=138, avg_val_mae=5.32, batch_nb=16, epoch=4, tng_loss=207.308, v_nb=1]"
     ]
    },
    {
     "name": "stdout",
     "output_type": "stream",
     "text": [
      "G shape: torch.Size([8, 3476, 3476])\n",
      "t: tensor([13, 27,  5, 46, 97, 82, 79, 57]), batch_nb: 10\n"
     ]
    },
    {
     "name": "stderr",
     "output_type": "stream",
     "text": [
      "\r",
      " 78%|███████▊  | 28/36 [01:49<00:30,  3.82s/it, avg_laplacian_term=97.8, avg_val_fro=40, avg_val_loss=138, avg_val_mae=5.32, batch_nb=16, epoch=4, tng_loss=207.308, v_nb=1]"
     ]
    },
    {
     "name": "stdout",
     "output_type": "stream",
     "text": [
      "G shape: torch.Size([8, 3476, 3476])\n",
      "t: tensor([111,  12,  33, 115,  38, 132,  91, 133]), batch_nb: 11\n"
     ]
    },
    {
     "name": "stderr",
     "output_type": "stream",
     "text": [
      "\r",
      " 81%|████████  | 29/36 [01:53<00:26,  3.82s/it, avg_laplacian_term=97.8, avg_val_fro=40, avg_val_loss=138, avg_val_mae=5.32, batch_nb=16, epoch=4, tng_loss=207.308, v_nb=1]"
     ]
    },
    {
     "name": "stdout",
     "output_type": "stream",
     "text": [
      "G shape: torch.Size([8, 3476, 3476])\n",
      "t: tensor([ 39,  20, 124,  88,   2,  47,   8,  87]), batch_nb: 12\n"
     ]
    },
    {
     "name": "stderr",
     "output_type": "stream",
     "text": [
      "\r",
      " 83%|████████▎ | 30/36 [01:57<00:22,  3.80s/it, avg_laplacian_term=97.8, avg_val_fro=40, avg_val_loss=138, avg_val_mae=5.32, batch_nb=16, epoch=4, tng_loss=207.308, v_nb=1]"
     ]
    },
    {
     "name": "stdout",
     "output_type": "stream",
     "text": [
      "G shape: torch.Size([8, 3476, 3476])\n",
      "t: tensor([29, 45, 10, 42, 83, 86,  6, 85]), batch_nb: 13\n"
     ]
    },
    {
     "name": "stderr",
     "output_type": "stream",
     "text": [
      "\r",
      " 86%|████████▌ | 31/36 [02:01<00:19,  3.86s/it, avg_laplacian_term=97.8, avg_val_fro=40, avg_val_loss=138, avg_val_mae=5.32, batch_nb=16, epoch=4, tng_loss=207.308, v_nb=1]"
     ]
    },
    {
     "name": "stdout",
     "output_type": "stream",
     "text": [
      "G shape: torch.Size([8, 3476, 3476])\n",
      "t: tensor([127,  22, 140,   0,  44,  50, 100,  52]), batch_nb: 14\n"
     ]
    },
    {
     "name": "stderr",
     "output_type": "stream",
     "text": [
      "\r",
      " 89%|████████▉ | 32/36 [02:05<00:15,  3.85s/it, avg_laplacian_term=97.8, avg_val_fro=40, avg_val_loss=138, avg_val_mae=5.32, batch_nb=16, epoch=4, tng_loss=207.308, v_nb=1]"
     ]
    },
    {
     "name": "stdout",
     "output_type": "stream",
     "text": [
      "G shape: torch.Size([8, 3476, 3476])\n",
      "t: tensor([ 49,  32, 143, 103,  31,  89, 142,  92]), batch_nb: 15\n"
     ]
    },
    {
     "name": "stderr",
     "output_type": "stream",
     "text": [
      "\r",
      " 92%|█████████▏| 33/36 [02:09<00:11,  3.84s/it, avg_laplacian_term=97.8, avg_val_fro=40, avg_val_loss=138, avg_val_mae=5.32, batch_nb=16, epoch=4, tng_loss=207.308, v_nb=1]"
     ]
    },
    {
     "name": "stdout",
     "output_type": "stream",
     "text": [
      "G shape: torch.Size([8, 3476, 3476])\n",
      "t: tensor([ 63,  95,  70,   1, 123,  76, 139,  64]), batch_nb: 16\n"
     ]
    },
    {
     "name": "stderr",
     "output_type": "stream",
     "text": [
      "\r",
      " 94%|█████████▍| 34/36 [02:12<00:07,  3.82s/it, avg_laplacian_term=97.8, avg_val_fro=40, avg_val_loss=138, avg_val_mae=5.32, batch_nb=16, epoch=4, tng_loss=207.308, v_nb=1]"
     ]
    },
    {
     "name": "stdout",
     "output_type": "stream",
     "text": [
      "G shape: torch.Size([8, 3476, 3476])\n",
      "t: tensor([108,  65,  19,  51, 129,  58,  36,  26]), batch_nb: 17\n"
     ]
    },
    {
     "name": "stderr",
     "output_type": "stream",
     "text": [
      "100%|██████████| 36/36 [02:17<00:00,  2.88s/it, avg_laplacian_term=96.5, avg_val_fro=39.7, avg_val_loss=136, avg_val_mae=5.29, batch_nb=16, epoch=4, tng_loss=207.308, v_nb=1]"
     ]
    },
    {
     "name": "stdout",
     "output_type": "stream",
     "text": [
      "G shape: torch.Size([8, 3476, 3476])\n",
      "t: tensor([ 32, 120,  47, 139, 116, 125, 130, 118]), batch_nb: 17\n"
     ]
    },
    {
     "name": "stderr",
     "output_type": "stream",
     "text": [
      "  3%|▎         | 1/36 [00:00<00:15,  2.26it/s], avg_laplacian_term=96.5, avg_val_fro=39.7, avg_val_loss=136, avg_val_mae=5.29, batch_nb=17, epoch=4, tng_loss=207.281, v_nb=1]"
     ]
    },
    {
     "name": "stdout",
     "output_type": "stream",
     "text": [
      "G shape: torch.Size([8, 3476, 3476])\n",
      "t: tensor([ 27,  12, 104,   9,  10, 143, 134,  39]), batch_nb: 0\n"
     ]
    },
    {
     "name": "stderr",
     "output_type": "stream",
     "text": [
      "  6%|▌         | 2/36 [00:04<00:51,  1.50s/it, avg_laplacian_term=96.5, avg_val_fro=39.7, avg_val_loss=136, avg_val_mae=5.29, batch_nb=0, epoch=5, tng_loss=207.310, v_nb=1]"
     ]
    },
    {
     "name": "stdout",
     "output_type": "stream",
     "text": [
      "G shape: torch.Size([8, 3476, 3476])\n",
      "t: tensor([ 92, 115,  58,  47,  13, 124,  15,  93]), batch_nb: 1\n"
     ]
    },
    {
     "name": "stderr",
     "output_type": "stream",
     "text": [
      "  8%|▊         | 3/36 [00:08<01:13,  2.23s/it, avg_laplacian_term=96.5, avg_val_fro=39.7, avg_val_loss=136, avg_val_mae=5.29, batch_nb=1, epoch=5, tng_loss=207.296, v_nb=1]"
     ]
    },
    {
     "name": "stdout",
     "output_type": "stream",
     "text": [
      "G shape: torch.Size([8, 3476, 3476])\n",
      "t: tensor([97, 79, 73, 28, 90, 56, 44, 61]), batch_nb: 2\n"
     ]
    },
    {
     "name": "stderr",
     "output_type": "stream",
     "text": [
      " 11%|█         | 4/36 [00:12<01:27,  2.74s/it, avg_laplacian_term=96.5, avg_val_fro=39.7, avg_val_loss=136, avg_val_mae=5.29, batch_nb=2, epoch=5, tng_loss=207.162, v_nb=1]"
     ]
    },
    {
     "name": "stdout",
     "output_type": "stream",
     "text": [
      "G shape: torch.Size([8, 3476, 3476])\n",
      "t: tensor([ 19, 117,  70,  57, 137, 142,  53,  64]), batch_nb: 3\n"
     ]
    },
    {
     "name": "stderr",
     "output_type": "stream",
     "text": [
      " 14%|█▍        | 5/36 [00:16<01:35,  3.09s/it, avg_laplacian_term=96.5, avg_val_fro=39.7, avg_val_loss=136, avg_val_mae=5.29, batch_nb=3, epoch=5, tng_loss=207.209, v_nb=1]"
     ]
    },
    {
     "name": "stdout",
     "output_type": "stream",
     "text": [
      "G shape: torch.Size([8, 3476, 3476])\n",
      "t: tensor([ 75,   6, 102, 135,  29, 112, 111, 108]), batch_nb: 4\n"
     ]
    },
    {
     "name": "stderr",
     "output_type": "stream",
     "text": [
      " 17%|█▋        | 6/36 [00:20<01:40,  3.35s/it, avg_laplacian_term=96.5, avg_val_fro=39.7, avg_val_loss=136, avg_val_mae=5.29, batch_nb=4, epoch=5, tng_loss=207.249, v_nb=1]"
     ]
    },
    {
     "name": "stdout",
     "output_type": "stream",
     "text": [
      "G shape: torch.Size([8, 3476, 3476])\n",
      "t: tensor([ 66,  87, 100, 114, 113, 122, 138, 133]), batch_nb: 5\n"
     ]
    },
    {
     "name": "stderr",
     "output_type": "stream",
     "text": [
      " 19%|█▉        | 7/36 [00:24<01:43,  3.59s/it, avg_laplacian_term=96.5, avg_val_fro=39.7, avg_val_loss=136, avg_val_mae=5.29, batch_nb=5, epoch=5, tng_loss=207.196, v_nb=1]"
     ]
    },
    {
     "name": "stdout",
     "output_type": "stream",
     "text": [
      "G shape: torch.Size([8, 3476, 3476])\n",
      "t: tensor([ 89, 140,  50,  38, 120,  30, 128,  91]), batch_nb: 6\n"
     ]
    },
    {
     "name": "stderr",
     "output_type": "stream",
     "text": [
      " 22%|██▏       | 8/36 [00:28<01:41,  3.63s/it, avg_laplacian_term=96.5, avg_val_fro=39.7, avg_val_loss=136, avg_val_mae=5.29, batch_nb=6, epoch=5, tng_loss=207.179, v_nb=1]"
     ]
    },
    {
     "name": "stdout",
     "output_type": "stream",
     "text": [
      "G shape: torch.Size([8, 3476, 3476])\n",
      "t: tensor([ 35,  23,  20,   7,   5, 118, 130,   2]), batch_nb: 7\n"
     ]
    },
    {
     "name": "stderr",
     "output_type": "stream",
     "text": [
      " 25%|██▌       | 9/36 [00:31<01:39,  3.69s/it, avg_laplacian_term=96.5, avg_val_fro=39.7, avg_val_loss=136, avg_val_mae=5.29, batch_nb=7, epoch=5, tng_loss=207.099, v_nb=1]"
     ]
    },
    {
     "name": "stdout",
     "output_type": "stream",
     "text": [
      "G shape: torch.Size([8, 3476, 3476])\n",
      "t: tensor([129, 101,  24,  86,  98,  25,  85,  81]), batch_nb: 8\n"
     ]
    },
    {
     "name": "stderr",
     "output_type": "stream",
     "text": [
      " 28%|██▊       | 10/36 [00:35<01:37,  3.76s/it, avg_laplacian_term=96.5, avg_val_fro=39.7, avg_val_loss=136, avg_val_mae=5.29, batch_nb=8, epoch=5, tng_loss=206.856, v_nb=1]"
     ]
    },
    {
     "name": "stdout",
     "output_type": "stream",
     "text": [
      "G shape: torch.Size([8, 3476, 3476])\n",
      "t: tensor([ 3, 26, 33, 37, 34, 60, 63,  8]), batch_nb: 9\n"
     ]
    },
    {
     "name": "stderr",
     "output_type": "stream",
     "text": [
      " 31%|███       | 11/36 [00:39<01:35,  3.81s/it, avg_laplacian_term=96.5, avg_val_fro=39.7, avg_val_loss=136, avg_val_mae=5.29, batch_nb=9, epoch=5, tng_loss=206.666, v_nb=1]"
     ]
    },
    {
     "name": "stdout",
     "output_type": "stream",
     "text": [
      "G shape: torch.Size([8, 3476, 3476])\n",
      "t: tensor([ 49,  22,  46,  42,  59,  83, 123,  72]), batch_nb: 10\n"
     ]
    },
    {
     "name": "stderr",
     "output_type": "stream",
     "text": [
      " 33%|███▎      | 12/36 [00:43<01:32,  3.86s/it, avg_laplacian_term=96.5, avg_val_fro=39.7, avg_val_loss=136, avg_val_mae=5.29, batch_nb=10, epoch=5, tng_loss=206.233, v_nb=1]"
     ]
    },
    {
     "name": "stdout",
     "output_type": "stream",
     "text": [
      "G shape: torch.Size([8, 3476, 3476])\n",
      "t: tensor([ 71,  95,  17,  36, 110, 103,  62,  78]), batch_nb: 11\n"
     ]
    },
    {
     "name": "stderr",
     "output_type": "stream",
     "text": [
      " 36%|███▌      | 13/36 [00:47<01:29,  3.90s/it, avg_laplacian_term=96.5, avg_val_fro=39.7, avg_val_loss=136, avg_val_mae=5.29, batch_nb=11, epoch=5, tng_loss=206.240, v_nb=1]"
     ]
    },
    {
     "name": "stdout",
     "output_type": "stream",
     "text": [
      "G shape: torch.Size([8, 3476, 3476])\n",
      "t: tensor([ 31, 139,  14,  94, 132,  16, 106,  55]), batch_nb: 12\n"
     ]
    },
    {
     "name": "stderr",
     "output_type": "stream",
     "text": [
      " 39%|███▉      | 14/36 [00:51<01:27,  3.99s/it, avg_laplacian_term=96.5, avg_val_fro=39.7, avg_val_loss=136, avg_val_mae=5.29, batch_nb=12, epoch=5, tng_loss=206.303, v_nb=1]"
     ]
    },
    {
     "name": "stdout",
     "output_type": "stream",
     "text": [
      "G shape: torch.Size([8, 3476, 3476])\n",
      "t: tensor([ 68,  82,  43,  48, 141,  21, 121,   4]), batch_nb: 13\n"
     ]
    },
    {
     "name": "stderr",
     "output_type": "stream",
     "text": [
      " 42%|████▏     | 15/36 [00:56<01:26,  4.13s/it, avg_laplacian_term=96.5, avg_val_fro=39.7, avg_val_loss=136, avg_val_mae=5.29, batch_nb=13, epoch=5, tng_loss=206.391, v_nb=1]"
     ]
    },
    {
     "name": "stdout",
     "output_type": "stream",
     "text": [
      "G shape: torch.Size([8, 3476, 3476])\n",
      "t: tensor([ 84,  74,  77, 126,  76,  96,  51,  65]), batch_nb: 14\n"
     ]
    },
    {
     "name": "stderr",
     "output_type": "stream",
     "text": [
      " 44%|████▍     | 16/36 [01:00<01:20,  4.03s/it, avg_laplacian_term=96.5, avg_val_fro=39.7, avg_val_loss=136, avg_val_mae=5.29, batch_nb=14, epoch=5, tng_loss=206.194, v_nb=1]"
     ]
    },
    {
     "name": "stdout",
     "output_type": "stream",
     "text": [
      "G shape: torch.Size([8, 3476, 3476])\n",
      "t: tensor([109,  69,  52,  67, 116,  18,  54,  99]), batch_nb: 15\n"
     ]
    },
    {
     "name": "stderr",
     "output_type": "stream",
     "text": [
      " 47%|████▋     | 17/36 [01:04<01:18,  4.12s/it, avg_laplacian_term=96.5, avg_val_fro=39.7, avg_val_loss=136, avg_val_mae=5.29, batch_nb=15, epoch=5, tng_loss=206.219, v_nb=1]"
     ]
    },
    {
     "name": "stdout",
     "output_type": "stream",
     "text": [
      "G shape: torch.Size([8, 3476, 3476])\n",
      "t: tensor([  1,   0, 131,  32, 127, 136,  41, 119]), batch_nb: 16\n"
     ]
    },
    {
     "name": "stderr",
     "output_type": "stream",
     "text": [
      "\r",
      " 47%|████▋     | 17/36 [01:07<01:18,  4.12s/it, avg_laplacian_term=96.5, avg_val_fro=39.7, avg_val_loss=136, avg_val_mae=5.29, batch_nb=16, epoch=5, tng_loss=205.976, v_nb=1]"
     ]
    },
    {
     "name": "stdout",
     "output_type": "stream",
     "text": [
      "G shape: torch.Size([8, 3476, 3476])\n",
      "t: tensor([ 33, 140,  17,  32,  43,  84,  37,   3]), batch_nb: 0\n"
     ]
    },
    {
     "name": "stderr",
     "output_type": "stream",
     "text": [
      "\r",
      " 50%|█████     | 18/36 [01:12<01:35,  5.33s/it, avg_laplacian_term=96.5, avg_val_fro=39.7, avg_val_loss=136, avg_val_mae=5.29, batch_nb=16, epoch=5, tng_loss=205.976, v_nb=1]"
     ]
    },
    {
     "name": "stdout",
     "output_type": "stream",
     "text": [
      "G shape: torch.Size([8, 3476, 3476])\n",
      "t: tensor([ 85,  27,  72, 133, 135, 132,  58, 136]), batch_nb: 1\n"
     ]
    },
    {
     "name": "stderr",
     "output_type": "stream",
     "text": [
      "\r",
      " 53%|█████▎    | 19/36 [01:16<01:24,  5.00s/it, avg_laplacian_term=96.5, avg_val_fro=39.7, avg_val_loss=136, avg_val_mae=5.29, batch_nb=16, epoch=5, tng_loss=205.976, v_nb=1]"
     ]
    },
    {
     "name": "stdout",
     "output_type": "stream",
     "text": [
      "G shape: torch.Size([8, 3476, 3476])\n",
      "t: tensor([119,  54, 118,  92,  28,  97, 142,  24]), batch_nb: 2\n"
     ]
    },
    {
     "name": "stderr",
     "output_type": "stream",
     "text": [
      "\r",
      " 56%|█████▌    | 20/36 [01:21<01:16,  4.79s/it, avg_laplacian_term=96.5, avg_val_fro=39.7, avg_val_loss=136, avg_val_mae=5.29, batch_nb=16, epoch=5, tng_loss=205.976, v_nb=1]"
     ]
    },
    {
     "name": "stdout",
     "output_type": "stream",
     "text": [
      "G shape: torch.Size([8, 3476, 3476])\n",
      "t: tensor([ 45, 129,  53, 138,   4,  21,  61,   7]), batch_nb: 3\n"
     ]
    },
    {
     "name": "stderr",
     "output_type": "stream",
     "text": [
      "\r",
      " 58%|█████▊    | 21/36 [01:24<01:07,  4.48s/it, avg_laplacian_term=96.5, avg_val_fro=39.7, avg_val_loss=136, avg_val_mae=5.29, batch_nb=16, epoch=5, tng_loss=205.976, v_nb=1]"
     ]
    },
    {
     "name": "stdout",
     "output_type": "stream",
     "text": [
      "G shape: torch.Size([8, 3476, 3476])\n",
      "t: tensor([106,  71, 126, 102,  91,  26,  15, 108]), batch_nb: 4\n"
     ]
    },
    {
     "name": "stderr",
     "output_type": "stream",
     "text": [
      "\r",
      " 61%|██████    | 22/36 [01:28<01:00,  4.29s/it, avg_laplacian_term=96.5, avg_val_fro=39.7, avg_val_loss=136, avg_val_mae=5.29, batch_nb=16, epoch=5, tng_loss=205.976, v_nb=1]"
     ]
    },
    {
     "name": "stdout",
     "output_type": "stream",
     "text": [
      "G shape: torch.Size([8, 3476, 3476])\n",
      "t: tensor([  5, 130,  65,  59,  67,  50, 111,   8]), batch_nb: 5\n"
     ]
    },
    {
     "name": "stderr",
     "output_type": "stream",
     "text": [
      "\r",
      " 64%|██████▍   | 23/36 [01:32<00:54,  4.17s/it, avg_laplacian_term=96.5, avg_val_fro=39.7, avg_val_loss=136, avg_val_mae=5.29, batch_nb=16, epoch=5, tng_loss=205.976, v_nb=1]"
     ]
    },
    {
     "name": "stdout",
     "output_type": "stream",
     "text": [
      "G shape: torch.Size([8, 3476, 3476])\n",
      "t: tensor([ 35,  62,  82,  51, 115,  25,  77,  12]), batch_nb: 6\n"
     ]
    },
    {
     "name": "stderr",
     "output_type": "stream",
     "text": [
      "\r",
      " 67%|██████▋   | 24/36 [01:36<00:47,  4.00s/it, avg_laplacian_term=96.5, avg_val_fro=39.7, avg_val_loss=136, avg_val_mae=5.29, batch_nb=16, epoch=5, tng_loss=205.976, v_nb=1]"
     ]
    },
    {
     "name": "stdout",
     "output_type": "stream",
     "text": [
      "G shape: torch.Size([8, 3476, 3476])\n",
      "t: tensor([117, 113,  64,  18,  60, 114,  49,  42]), batch_nb: 7\n"
     ]
    },
    {
     "name": "stderr",
     "output_type": "stream",
     "text": [
      "\r",
      " 69%|██████▉   | 25/36 [01:39<00:42,  3.82s/it, avg_laplacian_term=96.5, avg_val_fro=39.7, avg_val_loss=136, avg_val_mae=5.29, batch_nb=16, epoch=5, tng_loss=205.976, v_nb=1]"
     ]
    },
    {
     "name": "stdout",
     "output_type": "stream",
     "text": [
      "G shape: torch.Size([8, 3476, 3476])\n",
      "t: tensor([141,  79,  74, 125,  68,  22,  23,  44]), batch_nb: 8\n"
     ]
    },
    {
     "name": "stderr",
     "output_type": "stream",
     "text": [
      "\r",
      " 72%|███████▏  | 26/36 [01:43<00:37,  3.78s/it, avg_laplacian_term=96.5, avg_val_fro=39.7, avg_val_loss=136, avg_val_mae=5.29, batch_nb=16, epoch=5, tng_loss=205.976, v_nb=1]"
     ]
    },
    {
     "name": "stdout",
     "output_type": "stream",
     "text": [
      "G shape: torch.Size([8, 3476, 3476])\n",
      "t: tensor([ 87,  46,  63, 127, 124,  69, 105,  78]), batch_nb: 9\n"
     ]
    },
    {
     "name": "stderr",
     "output_type": "stream",
     "text": [
      "\r",
      " 75%|███████▌  | 27/36 [01:47<00:35,  3.91s/it, avg_laplacian_term=96.5, avg_val_fro=39.7, avg_val_loss=136, avg_val_mae=5.29, batch_nb=16, epoch=5, tng_loss=205.976, v_nb=1]"
     ]
    },
    {
     "name": "stdout",
     "output_type": "stream",
     "text": [
      "G shape: torch.Size([8, 3476, 3476])\n",
      "t: tensor([ 56,  41,  19, 103,  96,  20,  95,  70]), batch_nb: 10\n"
     ]
    },
    {
     "name": "stderr",
     "output_type": "stream",
     "text": [
      "\r",
      " 78%|███████▊  | 28/36 [01:51<00:31,  3.90s/it, avg_laplacian_term=96.5, avg_val_fro=39.7, avg_val_loss=136, avg_val_mae=5.29, batch_nb=16, epoch=5, tng_loss=205.976, v_nb=1]"
     ]
    },
    {
     "name": "stdout",
     "output_type": "stream",
     "text": [
      "G shape: torch.Size([8, 3476, 3476])\n",
      "t: tensor([110,  88,  83,  11,  34,  81,  30,   9]), batch_nb: 11\n"
     ]
    },
    {
     "name": "stderr",
     "output_type": "stream",
     "text": [
      "\r",
      " 81%|████████  | 29/36 [01:55<00:27,  3.86s/it, avg_laplacian_term=96.5, avg_val_fro=39.7, avg_val_loss=136, avg_val_mae=5.29, batch_nb=16, epoch=5, tng_loss=205.976, v_nb=1]"
     ]
    },
    {
     "name": "stdout",
     "output_type": "stream",
     "text": [
      "G shape: torch.Size([8, 3476, 3476])\n",
      "t: tensor([ 94,  29,  55,   0,  76, 100,  90,  14]), batch_nb: 12\n"
     ]
    },
    {
     "name": "stderr",
     "output_type": "stream",
     "text": [
      "\r",
      " 83%|████████▎ | 30/36 [01:59<00:23,  3.97s/it, avg_laplacian_term=96.5, avg_val_fro=39.7, avg_val_loss=136, avg_val_mae=5.29, batch_nb=16, epoch=5, tng_loss=205.976, v_nb=1]"
     ]
    },
    {
     "name": "stdout",
     "output_type": "stream",
     "text": [
      "G shape: torch.Size([8, 3476, 3476])\n",
      "t: tensor([137, 120, 101,   6, 128, 104,   2,  89]), batch_nb: 13\n"
     ]
    },
    {
     "name": "stderr",
     "output_type": "stream",
     "text": [
      "\r",
      " 86%|████████▌ | 31/36 [02:03<00:19,  3.90s/it, avg_laplacian_term=96.5, avg_val_fro=39.7, avg_val_loss=136, avg_val_mae=5.29, batch_nb=16, epoch=5, tng_loss=205.976, v_nb=1]"
     ]
    },
    {
     "name": "stdout",
     "output_type": "stream",
     "text": [
      "G shape: torch.Size([8, 3476, 3476])\n",
      "t: tensor([116,  40,  48,  38,  36, 123, 139, 112]), batch_nb: 14\n"
     ]
    },
    {
     "name": "stderr",
     "output_type": "stream",
     "text": [
      "\r",
      " 89%|████████▉ | 32/36 [02:06<00:15,  3.85s/it, avg_laplacian_term=96.5, avg_val_fro=39.7, avg_val_loss=136, avg_val_mae=5.29, batch_nb=16, epoch=5, tng_loss=205.976, v_nb=1]"
     ]
    },
    {
     "name": "stdout",
     "output_type": "stream",
     "text": [
      "G shape: torch.Size([8, 3476, 3476])\n",
      "t: tensor([ 1, 31, 66, 47, 86, 93, 75, 16]), batch_nb: 15\n"
     ]
    },
    {
     "name": "stderr",
     "output_type": "stream",
     "text": [
      "\r",
      " 92%|█████████▏| 33/36 [02:10<00:11,  3.87s/it, avg_laplacian_term=96.5, avg_val_fro=39.7, avg_val_loss=136, avg_val_mae=5.29, batch_nb=16, epoch=5, tng_loss=205.976, v_nb=1]"
     ]
    },
    {
     "name": "stdout",
     "output_type": "stream",
     "text": [
      "G shape: torch.Size([8, 3476, 3476])\n",
      "t: tensor([122, 134,  73,  57,  13, 109, 121,  98]), batch_nb: 16\n"
     ]
    },
    {
     "name": "stderr",
     "output_type": "stream",
     "text": [
      "\r",
      " 94%|█████████▍| 34/36 [02:14<00:07,  3.81s/it, avg_laplacian_term=96.5, avg_val_fro=39.7, avg_val_loss=136, avg_val_mae=5.29, batch_nb=16, epoch=5, tng_loss=205.976, v_nb=1]"
     ]
    },
    {
     "name": "stdout",
     "output_type": "stream",
     "text": [
      "G shape: torch.Size([8, 3476, 3476])\n",
      "t: tensor([ 10,  99, 107,  39,  52, 143, 131,  80]), batch_nb: 17\n"
     ]
    },
    {
     "name": "stderr",
     "output_type": "stream",
     "text": [
      "100%|██████████| 36/36 [02:19<00:00,  2.87s/it, avg_laplacian_term=95.2, avg_val_fro=39.4, avg_val_loss=135, avg_val_mae=5.25, batch_nb=16, epoch=5, tng_loss=205.976, v_nb=1]"
     ]
    },
    {
     "name": "stdout",
     "output_type": "stream",
     "text": [
      "G shape: torch.Size([8, 3476, 3476])\n",
      "t: tensor([ 40,  45, 125,  80,  88, 105,  11, 107]), batch_nb: 17\n"
     ]
    },
    {
     "name": "stderr",
     "output_type": "stream",
     "text": [
      "  3%|▎         | 1/36 [00:00<00:14,  2.42it/s], avg_laplacian_term=95.2, avg_val_fro=39.4, avg_val_loss=135, avg_val_mae=5.25, batch_nb=17, epoch=5, tng_loss=205.885, v_nb=1]"
     ]
    },
    {
     "name": "stdout",
     "output_type": "stream",
     "text": [
      "G shape: torch.Size([8, 3476, 3476])\n",
      "t: tensor([ 72,   9, 100, 105, 123,  51, 127,  39]), batch_nb: 0\n"
     ]
    },
    {
     "name": "stderr",
     "output_type": "stream",
     "text": [
      "  6%|▌         | 2/36 [00:04<00:49,  1.46s/it, avg_laplacian_term=95.2, avg_val_fro=39.4, avg_val_loss=135, avg_val_mae=5.25, batch_nb=0, epoch=6, tng_loss=205.623, v_nb=1]"
     ]
    },
    {
     "name": "stdout",
     "output_type": "stream",
     "text": [
      "G shape: torch.Size([8, 3476, 3476])\n",
      "t: tensor([30, 61, 19, 33, 15,  2, 52,  8]), batch_nb: 1\n"
     ]
    },
    {
     "name": "stderr",
     "output_type": "stream",
     "text": [
      "  8%|▊         | 3/36 [00:08<01:10,  2.14s/it, avg_laplacian_term=95.2, avg_val_fro=39.4, avg_val_loss=135, avg_val_mae=5.25, batch_nb=1, epoch=6, tng_loss=205.385, v_nb=1]"
     ]
    },
    {
     "name": "stdout",
     "output_type": "stream",
     "text": [
      "G shape: torch.Size([8, 3476, 3476])\n",
      "t: tensor([126,  84, 116,  10,  97, 128,  71, 143]), batch_nb: 2\n"
     ]
    },
    {
     "name": "stderr",
     "output_type": "stream",
     "text": [
      " 11%|█         | 4/36 [00:11<01:25,  2.68s/it, avg_laplacian_term=95.2, avg_val_fro=39.4, avg_val_loss=135, avg_val_mae=5.25, batch_nb=2, epoch=6, tng_loss=205.321, v_nb=1]"
     ]
    },
    {
     "name": "stdout",
     "output_type": "stream",
     "text": [
      "G shape: torch.Size([8, 3476, 3476])\n",
      "t: tensor([ 77, 114, 104,  41, 133,  90,   7,  54]), batch_nb: 3\n"
     ]
    },
    {
     "name": "stderr",
     "output_type": "stream",
     "text": [
      " 14%|█▍        | 5/36 [00:15<01:35,  3.07s/it, avg_laplacian_term=95.2, avg_val_fro=39.4, avg_val_loss=135, avg_val_mae=5.25, batch_nb=3, epoch=6, tng_loss=205.350, v_nb=1]"
     ]
    },
    {
     "name": "stdout",
     "output_type": "stream",
     "text": [
      "G shape: torch.Size([8, 3476, 3476])\n",
      "t: tensor([25, 78, 62, 32, 53, 28, 74, 34]), batch_nb: 4\n"
     ]
    },
    {
     "name": "stderr",
     "output_type": "stream",
     "text": [
      " 17%|█▋        | 6/36 [00:19<01:39,  3.31s/it, avg_laplacian_term=95.2, avg_val_fro=39.4, avg_val_loss=135, avg_val_mae=5.25, batch_nb=4, epoch=6, tng_loss=205.092, v_nb=1]"
     ]
    },
    {
     "name": "stdout",
     "output_type": "stream",
     "text": [
      "G shape: torch.Size([8, 3476, 3476])\n",
      "t: tensor([137,  65,  11,  92, 110,  75, 109,  40]), batch_nb: 5\n"
     ]
    },
    {
     "name": "stderr",
     "output_type": "stream",
     "text": [
      " 19%|█▉        | 7/36 [00:23<01:41,  3.51s/it, avg_laplacian_term=95.2, avg_val_fro=39.4, avg_val_loss=135, avg_val_mae=5.25, batch_nb=5, epoch=6, tng_loss=204.965, v_nb=1]"
     ]
    },
    {
     "name": "stdout",
     "output_type": "stream",
     "text": [
      "G shape: torch.Size([8, 3476, 3476])\n",
      "t: tensor([ 16,  13, 111,  89, 106,  57,  85,  47]), batch_nb: 6\n"
     ]
    },
    {
     "name": "stderr",
     "output_type": "stream",
     "text": [
      " 22%|██▏       | 8/36 [00:27<01:41,  3.63s/it, avg_laplacian_term=95.2, avg_val_fro=39.4, avg_val_loss=135, avg_val_mae=5.25, batch_nb=6, epoch=6, tng_loss=204.905, v_nb=1]"
     ]
    },
    {
     "name": "stdout",
     "output_type": "stream",
     "text": [
      "G shape: torch.Size([8, 3476, 3476])\n",
      "t: tensor([ 42, 134,  35,  83,  18,  68,  58,  96]), batch_nb: 7\n"
     ]
    },
    {
     "name": "stderr",
     "output_type": "stream",
     "text": [
      " 25%|██▌       | 9/36 [00:31<01:42,  3.81s/it, avg_laplacian_term=95.2, avg_val_fro=39.4, avg_val_loss=135, avg_val_mae=5.25, batch_nb=7, epoch=6, tng_loss=204.788, v_nb=1]"
     ]
    },
    {
     "name": "stdout",
     "output_type": "stream",
     "text": [
      "G shape: torch.Size([8, 3476, 3476])\n",
      "t: tensor([ 36,  37,  23,  67, 136,  17,  82, 142]), batch_nb: 8\n"
     ]
    },
    {
     "name": "stderr",
     "output_type": "stream",
     "text": [
      " 28%|██▊       | 10/36 [00:35<01:39,  3.83s/it, avg_laplacian_term=95.2, avg_val_fro=39.4, avg_val_loss=135, avg_val_mae=5.25, batch_nb=8, epoch=6, tng_loss=204.655, v_nb=1]"
     ]
    },
    {
     "name": "stdout",
     "output_type": "stream",
     "text": [
      "G shape: torch.Size([8, 3476, 3476])\n",
      "t: tensor([ 95, 121, 117,  60, 132,  43,  24,  31]), batch_nb: 9\n"
     ]
    },
    {
     "name": "stderr",
     "output_type": "stream",
     "text": [
      " 31%|███       | 11/36 [00:39<01:36,  3.87s/it, avg_laplacian_term=95.2, avg_val_fro=39.4, avg_val_loss=135, avg_val_mae=5.25, batch_nb=9, epoch=6, tng_loss=204.484, v_nb=1]"
     ]
    },
    {
     "name": "stdout",
     "output_type": "stream",
     "text": [
      "G shape: torch.Size([8, 3476, 3476])\n",
      "t: tensor([ 20,  91,  48, 102,  44, 138, 122,  93]), batch_nb: 10\n"
     ]
    },
    {
     "name": "stderr",
     "output_type": "stream",
     "text": [
      " 33%|███▎      | 12/36 [00:43<01:33,  3.88s/it, avg_laplacian_term=95.2, avg_val_fro=39.4, avg_val_loss=135, avg_val_mae=5.25, batch_nb=10, epoch=6, tng_loss=204.232, v_nb=1]"
     ]
    },
    {
     "name": "stdout",
     "output_type": "stream",
     "text": [
      "G shape: torch.Size([8, 3476, 3476])\n",
      "t: tensor([118,  21, 108,  22, 129, 120,  12,  98]), batch_nb: 11\n"
     ]
    },
    {
     "name": "stderr",
     "output_type": "stream",
     "text": [
      " 36%|███▌      | 13/36 [00:47<01:29,  3.90s/it, avg_laplacian_term=95.2, avg_val_fro=39.4, avg_val_loss=135, avg_val_mae=5.25, batch_nb=11, epoch=6, tng_loss=204.055, v_nb=1]"
     ]
    },
    {
     "name": "stdout",
     "output_type": "stream",
     "text": [
      "G shape: torch.Size([8, 3476, 3476])\n",
      "t: tensor([ 99, 135,  27,  86,   4,   0, 119, 112]), batch_nb: 12\n"
     ]
    },
    {
     "name": "stderr",
     "output_type": "stream",
     "text": [
      " 39%|███▉      | 14/36 [00:51<01:26,  3.92s/it, avg_laplacian_term=95.2, avg_val_fro=39.4, avg_val_loss=135, avg_val_mae=5.25, batch_nb=12, epoch=6, tng_loss=203.815, v_nb=1]"
     ]
    },
    {
     "name": "stdout",
     "output_type": "stream",
     "text": [
      "G shape: torch.Size([8, 3476, 3476])\n",
      "t: tensor([ 55, 130,  69,  81,  46, 103,  45, 131]), batch_nb: 13\n"
     ]
    },
    {
     "name": "stderr",
     "output_type": "stream",
     "text": [
      " 42%|████▏     | 15/36 [00:55<01:23,  3.97s/it, avg_laplacian_term=95.2, avg_val_fro=39.4, avg_val_loss=135, avg_val_mae=5.25, batch_nb=13, epoch=6, tng_loss=203.673, v_nb=1]"
     ]
    },
    {
     "name": "stdout",
     "output_type": "stream",
     "text": [
      "G shape: torch.Size([8, 3476, 3476])\n",
      "t: tensor([ 29, 107,  70,   5,  14,  38,  76,   1]), batch_nb: 14\n"
     ]
    },
    {
     "name": "stderr",
     "output_type": "stream",
     "text": [
      " 44%|████▍     | 16/36 [00:59<01:18,  3.94s/it, avg_laplacian_term=95.2, avg_val_fro=39.4, avg_val_loss=135, avg_val_mae=5.25, batch_nb=14, epoch=6, tng_loss=203.300, v_nb=1]"
     ]
    },
    {
     "name": "stdout",
     "output_type": "stream",
     "text": [
      "G shape: torch.Size([8, 3476, 3476])\n",
      "t: tensor([ 59,  88,  66,  94, 113,  79, 124,   3]), batch_nb: 15\n"
     ]
    },
    {
     "name": "stderr",
     "output_type": "stream",
     "text": [
      " 47%|████▋     | 17/36 [01:03<01:14,  3.94s/it, avg_laplacian_term=95.2, avg_val_fro=39.4, avg_val_loss=135, avg_val_mae=5.25, batch_nb=15, epoch=6, tng_loss=203.127, v_nb=1]"
     ]
    },
    {
     "name": "stdout",
     "output_type": "stream",
     "text": [
      "G shape: torch.Size([8, 3476, 3476])\n",
      "t: tensor([ 87, 115,  56, 101, 125,  50, 139,  80]), batch_nb: 16\n"
     ]
    },
    {
     "name": "stderr",
     "output_type": "stream",
     "text": [
      "\r",
      " 47%|████▋     | 17/36 [01:06<01:14,  3.94s/it, avg_laplacian_term=95.2, avg_val_fro=39.4, avg_val_loss=135, avg_val_mae=5.25, batch_nb=16, epoch=6, tng_loss=203.200, v_nb=1]"
     ]
    },
    {
     "name": "stdout",
     "output_type": "stream",
     "text": [
      "G shape: torch.Size([8, 3476, 3476])\n",
      "t: tensor([116, 141,  19, 132,  40,  78, 113, 134]), batch_nb: 0\n"
     ]
    },
    {
     "name": "stderr",
     "output_type": "stream",
     "text": [
      "\r",
      " 50%|█████     | 18/36 [01:10<01:29,  4.97s/it, avg_laplacian_term=95.2, avg_val_fro=39.4, avg_val_loss=135, avg_val_mae=5.25, batch_nb=16, epoch=6, tng_loss=203.200, v_nb=1]"
     ]
    },
    {
     "name": "stdout",
     "output_type": "stream",
     "text": [
      "G shape: torch.Size([8, 3476, 3476])\n",
      "t: tensor([ 55, 100, 108, 139, 119,  73,   2, 102]), batch_nb: 1\n"
     ]
    },
    {
     "name": "stderr",
     "output_type": "stream",
     "text": [
      "\r",
      " 53%|█████▎    | 19/36 [01:14<01:18,  4.61s/it, avg_laplacian_term=95.2, avg_val_fro=39.4, avg_val_loss=135, avg_val_mae=5.25, batch_nb=16, epoch=6, tng_loss=203.200, v_nb=1]"
     ]
    },
    {
     "name": "stdout",
     "output_type": "stream",
     "text": [
      "G shape: torch.Size([8, 3476, 3476])\n",
      "t: tensor([  1, 129,  81,  46,  38, 125, 136,  71]), batch_nb: 2\n"
     ]
    },
    {
     "name": "stderr",
     "output_type": "stream",
     "text": [
      "\r",
      " 56%|█████▌    | 20/36 [01:18<01:11,  4.49s/it, avg_laplacian_term=95.2, avg_val_fro=39.4, avg_val_loss=135, avg_val_mae=5.25, batch_nb=16, epoch=6, tng_loss=203.200, v_nb=1]"
     ]
    },
    {
     "name": "stdout",
     "output_type": "stream",
     "text": [
      "G shape: torch.Size([8, 3476, 3476])\n",
      "t: tensor([ 56,  29,  97, 123,  22,   4, 133,  92]), batch_nb: 3\n"
     ]
    },
    {
     "name": "stderr",
     "output_type": "stream",
     "text": [
      "\r",
      " 58%|█████▊    | 21/36 [01:22<01:04,  4.30s/it, avg_laplacian_term=95.2, avg_val_fro=39.4, avg_val_loss=135, avg_val_mae=5.25, batch_nb=16, epoch=6, tng_loss=203.200, v_nb=1]"
     ]
    },
    {
     "name": "stdout",
     "output_type": "stream",
     "text": [
      "G shape: torch.Size([8, 3476, 3476])\n",
      "t: tensor([ 70, 121,  72,  94,  50,  15,  18,  87]), batch_nb: 4\n"
     ]
    },
    {
     "name": "stderr",
     "output_type": "stream",
     "text": [
      "\r",
      " 61%|██████    | 22/36 [01:26<00:58,  4.21s/it, avg_laplacian_term=95.2, avg_val_fro=39.4, avg_val_loss=135, avg_val_mae=5.25, batch_nb=16, epoch=6, tng_loss=203.200, v_nb=1]"
     ]
    },
    {
     "name": "stdout",
     "output_type": "stream",
     "text": [
      "G shape: torch.Size([8, 3476, 3476])\n",
      "t: tensor([112, 118,  47,  96,  84,  80,  13,  24]), batch_nb: 5\n"
     ]
    },
    {
     "name": "stderr",
     "output_type": "stream",
     "text": [
      "\r",
      " 64%|██████▍   | 23/36 [01:30<00:53,  4.10s/it, avg_laplacian_term=95.2, avg_val_fro=39.4, avg_val_loss=135, avg_val_mae=5.25, batch_nb=16, epoch=6, tng_loss=203.200, v_nb=1]"
     ]
    },
    {
     "name": "stdout",
     "output_type": "stream",
     "text": [
      "G shape: torch.Size([8, 3476, 3476])\n",
      "t: tensor([ 35,  49,  23, 111, 109,  25,  10, 107]), batch_nb: 6\n"
     ]
    },
    {
     "name": "stderr",
     "output_type": "stream",
     "text": [
      "\r",
      " 67%|██████▋   | 24/36 [01:34<00:49,  4.10s/it, avg_laplacian_term=95.2, avg_val_fro=39.4, avg_val_loss=135, avg_val_mae=5.25, batch_nb=16, epoch=6, tng_loss=203.200, v_nb=1]"
     ]
    },
    {
     "name": "stdout",
     "output_type": "stream",
     "text": [
      "G shape: torch.Size([8, 3476, 3476])\n",
      "t: tensor([ 16,  20, 104,  95,  26, 135,  34,  12]), batch_nb: 7\n"
     ]
    },
    {
     "name": "stderr",
     "output_type": "stream",
     "text": [
      "\r",
      " 69%|██████▉   | 25/36 [01:38<00:44,  4.09s/it, avg_laplacian_term=95.2, avg_val_fro=39.4, avg_val_loss=135, avg_val_mae=5.25, batch_nb=16, epoch=6, tng_loss=203.200, v_nb=1]"
     ]
    },
    {
     "name": "stdout",
     "output_type": "stream",
     "text": [
      "G shape: torch.Size([8, 3476, 3476])\n",
      "t: tensor([ 93,  76,  52, 127,  32,  91,  59,  58]), batch_nb: 8\n"
     ]
    },
    {
     "name": "stderr",
     "output_type": "stream",
     "text": [
      "\r",
      " 72%|███████▏  | 26/36 [01:42<00:40,  4.02s/it, avg_laplacian_term=95.2, avg_val_fro=39.4, avg_val_loss=135, avg_val_mae=5.25, batch_nb=16, epoch=6, tng_loss=203.200, v_nb=1]"
     ]
    },
    {
     "name": "stdout",
     "output_type": "stream",
     "text": [
      "G shape: torch.Size([8, 3476, 3476])\n",
      "t: tensor([ 90,  64,  11, 110,  86,  28, 105,  53]), batch_nb: 9\n"
     ]
    },
    {
     "name": "stderr",
     "output_type": "stream",
     "text": [
      "\r",
      " 75%|███████▌  | 27/36 [01:46<00:36,  4.10s/it, avg_laplacian_term=95.2, avg_val_fro=39.4, avg_val_loss=135, avg_val_mae=5.25, batch_nb=16, epoch=6, tng_loss=203.200, v_nb=1]"
     ]
    },
    {
     "name": "stdout",
     "output_type": "stream",
     "text": [
      "G shape: torch.Size([8, 3476, 3476])\n",
      "t: tensor([ 61,  48, 117,  60, 126, 101,  17,   9]), batch_nb: 10\n"
     ]
    },
    {
     "name": "stderr",
     "output_type": "stream",
     "text": [
      "\r",
      " 78%|███████▊  | 28/36 [01:50<00:32,  4.04s/it, avg_laplacian_term=95.2, avg_val_fro=39.4, avg_val_loss=135, avg_val_mae=5.25, batch_nb=16, epoch=6, tng_loss=203.200, v_nb=1]"
     ]
    },
    {
     "name": "stdout",
     "output_type": "stream",
     "text": [
      "G shape: torch.Size([8, 3476, 3476])\n",
      "t: tensor([ 43,  74,  69, 122,  77,  89,  45,  85]), batch_nb: 11\n"
     ]
    },
    {
     "name": "stderr",
     "output_type": "stream",
     "text": [
      "\r",
      " 81%|████████  | 29/36 [01:54<00:28,  4.00s/it, avg_laplacian_term=95.2, avg_val_fro=39.4, avg_val_loss=135, avg_val_mae=5.25, batch_nb=16, epoch=6, tng_loss=203.200, v_nb=1]"
     ]
    },
    {
     "name": "stdout",
     "output_type": "stream",
     "text": [
      "G shape: torch.Size([8, 3476, 3476])\n",
      "t: tensor([140,  36,   5,   3,  33, 143,  88,  99]), batch_nb: 12\n"
     ]
    },
    {
     "name": "stderr",
     "output_type": "stream",
     "text": [
      "\r",
      " 83%|████████▎ | 30/36 [01:58<00:24,  4.02s/it, avg_laplacian_term=95.2, avg_val_fro=39.4, avg_val_loss=135, avg_val_mae=5.25, batch_nb=16, epoch=6, tng_loss=203.200, v_nb=1]"
     ]
    },
    {
     "name": "stdout",
     "output_type": "stream",
     "text": [
      "G shape: torch.Size([8, 3476, 3476])\n",
      "t: tensor([ 75,  21, 115,  54,  62,  27,  79, 137]), batch_nb: 13\n"
     ]
    },
    {
     "name": "stderr",
     "output_type": "stream",
     "text": [
      "\r",
      " 86%|████████▌ | 31/36 [02:02<00:20,  4.06s/it, avg_laplacian_term=95.2, avg_val_fro=39.4, avg_val_loss=135, avg_val_mae=5.25, batch_nb=16, epoch=6, tng_loss=203.200, v_nb=1]"
     ]
    },
    {
     "name": "stdout",
     "output_type": "stream",
     "text": [
      "G shape: torch.Size([8, 3476, 3476])\n",
      "t: tensor([ 57, 106,  63,  44, 138,  41,  42,  67]), batch_nb: 14\n"
     ]
    },
    {
     "name": "stderr",
     "output_type": "stream",
     "text": [
      "\r",
      " 89%|████████▉ | 32/36 [02:06<00:16,  4.05s/it, avg_laplacian_term=95.2, avg_val_fro=39.4, avg_val_loss=135, avg_val_mae=5.25, batch_nb=16, epoch=6, tng_loss=203.200, v_nb=1]"
     ]
    },
    {
     "name": "stdout",
     "output_type": "stream",
     "text": [
      "G shape: torch.Size([8, 3476, 3476])\n",
      "t: tensor([120,  82,  98,  51,  14,  83, 130,   0]), batch_nb: 15\n"
     ]
    },
    {
     "name": "stderr",
     "output_type": "stream",
     "text": [
      "\r",
      " 92%|█████████▏| 33/36 [02:11<00:12,  4.09s/it, avg_laplacian_term=95.2, avg_val_fro=39.4, avg_val_loss=135, avg_val_mae=5.25, batch_nb=16, epoch=6, tng_loss=203.200, v_nb=1]"
     ]
    },
    {
     "name": "stdout",
     "output_type": "stream",
     "text": [
      "G shape: torch.Size([8, 3476, 3476])\n",
      "t: tensor([142, 114,   6,  30,  66,   7,  39,  37]), batch_nb: 16\n"
     ]
    },
    {
     "name": "stderr",
     "output_type": "stream",
     "text": [
      "\r",
      " 94%|█████████▍| 34/36 [02:15<00:08,  4.09s/it, avg_laplacian_term=95.2, avg_val_fro=39.4, avg_val_loss=135, avg_val_mae=5.25, batch_nb=16, epoch=6, tng_loss=203.200, v_nb=1]"
     ]
    },
    {
     "name": "stdout",
     "output_type": "stream",
     "text": [
      "G shape: torch.Size([8, 3476, 3476])\n",
      "t: tensor([124, 128,  65, 103,   8,  31,  68, 131]), batch_nb: 17\n"
     ]
    },
    {
     "name": "stderr",
     "output_type": "stream",
     "text": [
      "100%|██████████| 36/36 [02:19<00:00,  2.98s/it, avg_laplacian_term=93.9, avg_val_fro=39.2, avg_val_loss=133, avg_val_mae=5.22, batch_nb=16, epoch=6, tng_loss=203.200, v_nb=1]"
     ]
    },
    {
     "name": "stdout",
     "output_type": "stream",
     "text": [
      "G shape: torch.Size([8, 3476, 3476])\n",
      "t: tensor([ 26,   6,  73,  49,  64,  63, 141, 140]), batch_nb: 17\n"
     ]
    },
    {
     "name": "stderr",
     "output_type": "stream",
     "text": [
      "  3%|▎         | 1/36 [00:00<00:16,  2.18it/s], avg_laplacian_term=93.9, avg_val_fro=39.2, avg_val_loss=133, avg_val_mae=5.22, batch_nb=17, epoch=6, tng_loss=203.035, v_nb=1]"
     ]
    },
    {
     "name": "stdout",
     "output_type": "stream",
     "text": [
      "G shape: torch.Size([8, 3476, 3476])\n",
      "t: tensor([116,  58,  55,  74, 130, 110,   4, 139]), batch_nb: 0\n"
     ]
    },
    {
     "name": "stderr",
     "output_type": "stream",
     "text": [
      "  6%|▌         | 2/36 [00:04<00:51,  1.53s/it, avg_laplacian_term=93.9, avg_val_fro=39.2, avg_val_loss=133, avg_val_mae=5.22, batch_nb=0, epoch=7, tng_loss=202.881, v_nb=1]"
     ]
    },
    {
     "name": "stdout",
     "output_type": "stream",
     "text": [
      "G shape: torch.Size([8, 3476, 3476])\n",
      "t: tensor([ 73,   6,  47,  28, 137,  31,  34,  60]), batch_nb: 1\n"
     ]
    },
    {
     "name": "stderr",
     "output_type": "stream",
     "text": [
      "  8%|▊         | 3/36 [00:08<01:13,  2.24s/it, avg_laplacian_term=93.9, avg_val_fro=39.2, avg_val_loss=133, avg_val_mae=5.22, batch_nb=1, epoch=7, tng_loss=202.894, v_nb=1]"
     ]
    },
    {
     "name": "stdout",
     "output_type": "stream",
     "text": [
      "G shape: torch.Size([8, 3476, 3476])\n",
      "t: tensor([ 48,  51,  36,  96,  88,   2, 128, 133]), batch_nb: 2\n"
     ]
    },
    {
     "name": "stderr",
     "output_type": "stream",
     "text": [
      " 11%|█         | 4/36 [00:12<01:28,  2.75s/it, avg_laplacian_term=93.9, avg_val_fro=39.2, avg_val_loss=133, avg_val_mae=5.22, batch_nb=2, epoch=7, tng_loss=202.671, v_nb=1]"
     ]
    },
    {
     "name": "stdout",
     "output_type": "stream",
     "text": [
      "G shape: torch.Size([8, 3476, 3476])\n",
      "t: tensor([ 49,  40,  63,  45,  71, 114,  14, 138]), batch_nb: 3\n"
     ]
    },
    {
     "name": "stderr",
     "output_type": "stream",
     "text": [
      " 14%|█▍        | 5/36 [00:16<01:35,  3.08s/it, avg_laplacian_term=93.9, avg_val_fro=39.2, avg_val_loss=133, avg_val_mae=5.22, batch_nb=3, epoch=7, tng_loss=202.545, v_nb=1]"
     ]
    },
    {
     "name": "stdout",
     "output_type": "stream",
     "text": [
      "G shape: torch.Size([8, 3476, 3476])\n",
      "t: tensor([ 19, 117, 105, 115,  92,   0,  11,  23]), batch_nb: 4\n"
     ]
    },
    {
     "name": "stderr",
     "output_type": "stream",
     "text": [
      " 17%|█▋        | 6/36 [00:20<01:46,  3.56s/it, avg_laplacian_term=93.9, avg_val_fro=39.2, avg_val_loss=133, avg_val_mae=5.22, batch_nb=4, epoch=7, tng_loss=202.464, v_nb=1]"
     ]
    },
    {
     "name": "stdout",
     "output_type": "stream",
     "text": [
      "G shape: torch.Size([8, 3476, 3476])\n",
      "t: tensor([ 79, 109,   7,  85,  98,  20,  78,  80]), batch_nb: 5\n"
     ]
    },
    {
     "name": "stderr",
     "output_type": "stream",
     "text": [
      " 19%|█▉        | 7/36 [00:25<01:51,  3.83s/it, avg_laplacian_term=93.9, avg_val_fro=39.2, avg_val_loss=133, avg_val_mae=5.22, batch_nb=5, epoch=7, tng_loss=202.440, v_nb=1]"
     ]
    },
    {
     "name": "stdout",
     "output_type": "stream",
     "text": [
      "G shape: torch.Size([8, 3476, 3476])\n",
      "t: tensor([125, 118, 129,  53,  39,  43,   1,  93]), batch_nb: 6\n"
     ]
    },
    {
     "name": "stderr",
     "output_type": "stream",
     "text": [
      " 22%|██▏       | 8/36 [00:29<01:49,  3.91s/it, avg_laplacian_term=93.9, avg_val_fro=39.2, avg_val_loss=133, avg_val_mae=5.22, batch_nb=6, epoch=7, tng_loss=202.235, v_nb=1]"
     ]
    },
    {
     "name": "stdout",
     "output_type": "stream",
     "text": [
      "G shape: torch.Size([8, 3476, 3476])\n",
      "t: tensor([ 66,  25,  13, 101,  82,  69,  38,  56]), batch_nb: 7\n"
     ]
    },
    {
     "name": "stderr",
     "output_type": "stream",
     "text": [
      " 25%|██▌       | 9/36 [00:33<01:48,  4.02s/it, avg_laplacian_term=93.9, avg_val_fro=39.2, avg_val_loss=133, avg_val_mae=5.22, batch_nb=7, epoch=7, tng_loss=202.335, v_nb=1]"
     ]
    },
    {
     "name": "stdout",
     "output_type": "stream",
     "text": [
      "G shape: torch.Size([8, 3476, 3476])\n",
      "t: tensor([ 50,  61,  57, 102, 132,  72,  84, 119]), batch_nb: 8\n"
     ]
    },
    {
     "name": "stderr",
     "output_type": "stream",
     "text": [
      " 28%|██▊       | 10/36 [00:37<01:41,  3.91s/it, avg_laplacian_term=93.9, avg_val_fro=39.2, avg_val_loss=133, avg_val_mae=5.22, batch_nb=8, epoch=7, tng_loss=202.175, v_nb=1]"
     ]
    },
    {
     "name": "stdout",
     "output_type": "stream",
     "text": [
      "G shape: torch.Size([8, 3476, 3476])\n",
      "t: tensor([ 76,  54, 107, 111,  15,  68,  83, 141]), batch_nb: 9\n"
     ]
    },
    {
     "name": "stderr",
     "output_type": "stream",
     "text": [
      " 31%|███       | 11/36 [00:41<01:35,  3.84s/it, avg_laplacian_term=93.9, avg_val_fro=39.2, avg_val_loss=133, avg_val_mae=5.22, batch_nb=9, epoch=7, tng_loss=202.193, v_nb=1]"
     ]
    },
    {
     "name": "stdout",
     "output_type": "stream",
     "text": [
      "G shape: torch.Size([8, 3476, 3476])\n",
      "t: tensor([  3,  10,  90,  67,  75,  52,  87, 103]), batch_nb: 10\n"
     ]
    },
    {
     "name": "stderr",
     "output_type": "stream",
     "text": [
      " 33%|███▎      | 12/36 [00:45<01:34,  3.95s/it, avg_laplacian_term=93.9, avg_val_fro=39.2, avg_val_loss=133, avg_val_mae=5.22, batch_nb=10, epoch=7, tng_loss=202.120, v_nb=1]"
     ]
    },
    {
     "name": "stdout",
     "output_type": "stream",
     "text": [
      "G shape: torch.Size([8, 3476, 3476])\n",
      "t: tensor([ 41,  21,  44,  95, 131, 124,  81,  42]), batch_nb: 11\n"
     ]
    },
    {
     "name": "stderr",
     "output_type": "stream",
     "text": [
      " 36%|███▌      | 13/36 [00:49<01:31,  3.98s/it, avg_laplacian_term=93.9, avg_val_fro=39.2, avg_val_loss=133, avg_val_mae=5.22, batch_nb=11, epoch=7, tng_loss=202.070, v_nb=1]"
     ]
    },
    {
     "name": "stdout",
     "output_type": "stream",
     "text": [
      "G shape: torch.Size([8, 3476, 3476])\n",
      "t: tensor([ 12,  91,  99,  37, 123,   5, 140,  62]), batch_nb: 12\n"
     ]
    },
    {
     "name": "stderr",
     "output_type": "stream",
     "text": [
      " 39%|███▉      | 14/36 [00:53<01:29,  4.05s/it, avg_laplacian_term=93.9, avg_val_fro=39.2, avg_val_loss=133, avg_val_mae=5.22, batch_nb=12, epoch=7, tng_loss=202.152, v_nb=1]"
     ]
    },
    {
     "name": "stdout",
     "output_type": "stream",
     "text": [
      "G shape: torch.Size([8, 3476, 3476])\n",
      "t: tensor([ 24, 122, 113,  59, 126,  35,  77,  17]), batch_nb: 13\n"
     ]
    },
    {
     "name": "stderr",
     "output_type": "stream",
     "text": [
      " 42%|████▏     | 15/36 [00:58<01:28,  4.23s/it, avg_laplacian_term=93.9, avg_val_fro=39.2, avg_val_loss=133, avg_val_mae=5.22, batch_nb=13, epoch=7, tng_loss=202.020, v_nb=1]"
     ]
    },
    {
     "name": "stdout",
     "output_type": "stream",
     "text": [
      "G shape: torch.Size([8, 3476, 3476])\n",
      "t: tensor([108, 134, 127,  27,  65,  32, 112, 135]), batch_nb: 14\n"
     ]
    },
    {
     "name": "stderr",
     "output_type": "stream",
     "text": [
      " 44%|████▍     | 16/36 [01:02<01:24,  4.23s/it, avg_laplacian_term=93.9, avg_val_fro=39.2, avg_val_loss=133, avg_val_mae=5.22, batch_nb=14, epoch=7, tng_loss=201.926, v_nb=1]"
     ]
    },
    {
     "name": "stdout",
     "output_type": "stream",
     "text": [
      "G shape: torch.Size([8, 3476, 3476])\n",
      "t: tensor([121,  70,   8,  18,  46,  26, 143,   9]), batch_nb: 15\n"
     ]
    },
    {
     "name": "stderr",
     "output_type": "stream",
     "text": [
      " 47%|████▋     | 17/36 [01:06<01:19,  4.16s/it, avg_laplacian_term=93.9, avg_val_fro=39.2, avg_val_loss=133, avg_val_mae=5.22, batch_nb=15, epoch=7, tng_loss=201.694, v_nb=1]"
     ]
    },
    {
     "name": "stdout",
     "output_type": "stream",
     "text": [
      "G shape: torch.Size([8, 3476, 3476])\n",
      "t: tensor([142, 120, 100, 104,  94,  22,  64,  29]), batch_nb: 16\n"
     ]
    },
    {
     "name": "stderr",
     "output_type": "stream",
     "text": [
      "\r",
      " 47%|████▋     | 17/36 [01:10<01:19,  4.16s/it, avg_laplacian_term=93.9, avg_val_fro=39.2, avg_val_loss=133, avg_val_mae=5.22, batch_nb=16, epoch=7, tng_loss=201.583, v_nb=1]"
     ]
    },
    {
     "name": "stdout",
     "output_type": "stream",
     "text": [
      "G shape: torch.Size([8, 3476, 3476])\n",
      "t: tensor([ 52,  10,  42,  30, 143,  41,  38,  87]), batch_nb: 0\n"
     ]
    },
    {
     "name": "stderr",
     "output_type": "stream",
     "text": [
      "\r",
      " 50%|█████     | 18/36 [01:14<01:38,  5.49s/it, avg_laplacian_term=93.9, avg_val_fro=39.2, avg_val_loss=133, avg_val_mae=5.22, batch_nb=16, epoch=7, tng_loss=201.583, v_nb=1]"
     ]
    },
    {
     "name": "stdout",
     "output_type": "stream",
     "text": [
      "G shape: torch.Size([8, 3476, 3476])\n",
      "t: tensor([ 34,  61, 135,   3,  65, 100, 111,  53]), batch_nb: 1\n"
     ]
    },
    {
     "name": "stderr",
     "output_type": "stream",
     "text": [
      "\r",
      " 53%|█████▎    | 19/36 [01:18<01:25,  5.03s/it, avg_laplacian_term=93.9, avg_val_fro=39.2, avg_val_loss=133, avg_val_mae=5.22, batch_nb=16, epoch=7, tng_loss=201.583, v_nb=1]"
     ]
    },
    {
     "name": "stdout",
     "output_type": "stream",
     "text": [
      "G shape: torch.Size([8, 3476, 3476])\n",
      "t: tensor([ 18,   9,  86, 108,  77,   4,  55, 130]), batch_nb: 2\n"
     ]
    },
    {
     "name": "stderr",
     "output_type": "stream",
     "text": [
      "\r",
      " 56%|█████▌    | 20/36 [01:22<01:15,  4.75s/it, avg_laplacian_term=93.9, avg_val_fro=39.2, avg_val_loss=133, avg_val_mae=5.22, batch_nb=16, epoch=7, tng_loss=201.583, v_nb=1]"
     ]
    },
    {
     "name": "stdout",
     "output_type": "stream",
     "text": [
      "G shape: torch.Size([8, 3476, 3476])\n",
      "t: tensor([ 58,  36, 112,  59, 105, 106, 119,  80]), batch_nb: 3\n"
     ]
    },
    {
     "name": "stderr",
     "output_type": "stream",
     "text": [
      "\r",
      " 58%|█████▊    | 21/36 [01:29<01:17,  5.14s/it, avg_laplacian_term=93.9, avg_val_fro=39.2, avg_val_loss=133, avg_val_mae=5.22, batch_nb=16, epoch=7, tng_loss=201.583, v_nb=1]"
     ]
    },
    {
     "name": "stdout",
     "output_type": "stream",
     "text": [
      "G shape: torch.Size([8, 3476, 3476])\n",
      "t: tensor([138,  68, 129, 104,  56, 128, 110,  90]), batch_nb: 4\n"
     ]
    },
    {
     "name": "stderr",
     "output_type": "stream",
     "text": [
      "\r",
      " 61%|██████    | 22/36 [01:34<01:14,  5.35s/it, avg_laplacian_term=93.9, avg_val_fro=39.2, avg_val_loss=133, avg_val_mae=5.22, batch_nb=16, epoch=7, tng_loss=201.583, v_nb=1]"
     ]
    },
    {
     "name": "stdout",
     "output_type": "stream",
     "text": [
      "G shape: torch.Size([8, 3476, 3476])\n",
      "t: tensor([101,  67,  45,  84,  82,  32,  33,  11]), batch_nb: 5\n"
     ]
    },
    {
     "name": "stderr",
     "output_type": "stream",
     "text": [
      "\r",
      " 64%|██████▍   | 23/36 [01:38<01:03,  4.90s/it, avg_laplacian_term=93.9, avg_val_fro=39.2, avg_val_loss=133, avg_val_mae=5.22, batch_nb=16, epoch=7, tng_loss=201.583, v_nb=1]"
     ]
    },
    {
     "name": "stdout",
     "output_type": "stream",
     "text": [
      "G shape: torch.Size([8, 3476, 3476])\n",
      "t: tensor([ 47,  92,  89,  81,  76,  85, 137, 113]), batch_nb: 6\n"
     ]
    },
    {
     "name": "stderr",
     "output_type": "stream",
     "text": [
      "\r",
      " 67%|██████▋   | 24/36 [01:42<00:54,  4.56s/it, avg_laplacian_term=93.9, avg_val_fro=39.2, avg_val_loss=133, avg_val_mae=5.22, batch_nb=16, epoch=7, tng_loss=201.583, v_nb=1]"
     ]
    },
    {
     "name": "stdout",
     "output_type": "stream",
     "text": [
      "G shape: torch.Size([8, 3476, 3476])\n",
      "t: tensor([ 79,  73,  64,  51,  28, 139,  49,  23]), batch_nb: 7\n"
     ]
    },
    {
     "name": "stderr",
     "output_type": "stream",
     "text": [
      "\r",
      " 69%|██████▉   | 25/36 [01:46<00:47,  4.31s/it, avg_laplacian_term=93.9, avg_val_fro=39.2, avg_val_loss=133, avg_val_mae=5.22, batch_nb=16, epoch=7, tng_loss=201.583, v_nb=1]"
     ]
    },
    {
     "name": "stdout",
     "output_type": "stream",
     "text": [
      "G shape: torch.Size([8, 3476, 3476])\n",
      "t: tensor([103, 114, 115,  63, 142,  20,  62, 118]), batch_nb: 8\n"
     ]
    },
    {
     "name": "stderr",
     "output_type": "stream",
     "text": [
      "\r",
      " 72%|███████▏  | 26/36 [01:50<00:42,  4.29s/it, avg_laplacian_term=93.9, avg_val_fro=39.2, avg_val_loss=133, avg_val_mae=5.22, batch_nb=16, epoch=7, tng_loss=201.583, v_nb=1]"
     ]
    },
    {
     "name": "stdout",
     "output_type": "stream",
     "text": [
      "G shape: torch.Size([8, 3476, 3476])\n",
      "t: tensor([ 39, 141,  29, 140,  69,  66, 136,  57]), batch_nb: 9\n"
     ]
    },
    {
     "name": "stderr",
     "output_type": "stream",
     "text": [
      "\r",
      " 75%|███████▌  | 27/36 [01:54<00:37,  4.19s/it, avg_laplacian_term=93.9, avg_val_fro=39.2, avg_val_loss=133, avg_val_mae=5.22, batch_nb=16, epoch=7, tng_loss=201.583, v_nb=1]"
     ]
    },
    {
     "name": "stdout",
     "output_type": "stream",
     "text": [
      "G shape: torch.Size([8, 3476, 3476])\n",
      "t: tensor([120,   1,  74, 132,  60,  25, 122,  99]), batch_nb: 10\n"
     ]
    },
    {
     "name": "stderr",
     "output_type": "stream",
     "text": [
      "\r",
      " 78%|███████▊  | 28/36 [01:58<00:32,  4.10s/it, avg_laplacian_term=93.9, avg_val_fro=39.2, avg_val_loss=133, avg_val_mae=5.22, batch_nb=16, epoch=7, tng_loss=201.583, v_nb=1]"
     ]
    },
    {
     "name": "stdout",
     "output_type": "stream",
     "text": [
      "G shape: torch.Size([8, 3476, 3476])\n",
      "t: tensor([124,  75,  27,   8, 117,  93,  43,  31]), batch_nb: 11\n"
     ]
    },
    {
     "name": "stderr",
     "output_type": "stream",
     "text": [
      "\r",
      " 81%|████████  | 29/36 [02:01<00:27,  3.94s/it, avg_laplacian_term=93.9, avg_val_fro=39.2, avg_val_loss=133, avg_val_mae=5.22, batch_nb=16, epoch=7, tng_loss=201.583, v_nb=1]"
     ]
    },
    {
     "name": "stdout",
     "output_type": "stream",
     "text": [
      "G shape: torch.Size([8, 3476, 3476])\n",
      "t: tensor([127, 107,  37, 116,  40,  97,  16,   6]), batch_nb: 12\n"
     ]
    },
    {
     "name": "stderr",
     "output_type": "stream",
     "text": [
      "\r",
      " 83%|████████▎ | 30/36 [02:05<00:22,  3.80s/it, avg_laplacian_term=93.9, avg_val_fro=39.2, avg_val_loss=133, avg_val_mae=5.22, batch_nb=16, epoch=7, tng_loss=201.583, v_nb=1]"
     ]
    },
    {
     "name": "stdout",
     "output_type": "stream",
     "text": [
      "G shape: torch.Size([8, 3476, 3476])\n",
      "t: tensor([95, 71,  0, 91, 13, 50, 24, 78]), batch_nb: 13\n"
     ]
    },
    {
     "name": "stderr",
     "output_type": "stream",
     "text": [
      "\r",
      " 86%|████████▌ | 31/36 [02:12<00:24,  4.83s/it, avg_laplacian_term=93.9, avg_val_fro=39.2, avg_val_loss=133, avg_val_mae=5.22, batch_nb=16, epoch=7, tng_loss=201.583, v_nb=1]"
     ]
    },
    {
     "name": "stdout",
     "output_type": "stream",
     "text": [
      "G shape: torch.Size([8, 3476, 3476])\n",
      "t: tensor([126,  44,  48,  46,  83,  72, 102, 131]), batch_nb: 14\n"
     ]
    },
    {
     "name": "stderr",
     "output_type": "stream",
     "text": [
      "\r",
      " 89%|████████▉ | 32/36 [02:16<00:18,  4.60s/it, avg_laplacian_term=93.9, avg_val_fro=39.2, avg_val_loss=133, avg_val_mae=5.22, batch_nb=16, epoch=7, tng_loss=201.583, v_nb=1]"
     ]
    },
    {
     "name": "stdout",
     "output_type": "stream",
     "text": [
      "G shape: torch.Size([8, 3476, 3476])\n",
      "t: tensor([ 12, 133,  88,  94,   5,  14, 134,  98]), batch_nb: 15\n"
     ]
    },
    {
     "name": "stderr",
     "output_type": "stream",
     "text": [
      "\r",
      " 92%|█████████▏| 33/36 [02:20<00:13,  4.42s/it, avg_laplacian_term=93.9, avg_val_fro=39.2, avg_val_loss=133, avg_val_mae=5.22, batch_nb=16, epoch=7, tng_loss=201.583, v_nb=1]"
     ]
    },
    {
     "name": "stdout",
     "output_type": "stream",
     "text": [
      "G shape: torch.Size([8, 3476, 3476])\n",
      "t: tensor([  7, 121,  15,  54,   2, 123, 109,  35]), batch_nb: 16\n"
     ]
    },
    {
     "name": "stderr",
     "output_type": "stream",
     "text": [
      "\r",
      " 94%|█████████▍| 34/36 [02:24<00:08,  4.26s/it, avg_laplacian_term=93.9, avg_val_fro=39.2, avg_val_loss=133, avg_val_mae=5.22, batch_nb=16, epoch=7, tng_loss=201.583, v_nb=1]"
     ]
    },
    {
     "name": "stdout",
     "output_type": "stream",
     "text": [
      "G shape: torch.Size([8, 3476, 3476])\n",
      "t: tensor([ 19,  22,  21,  26,  17,  96, 125,  70]), batch_nb: 17\n"
     ]
    },
    {
     "name": "stderr",
     "output_type": "stream",
     "text": [
      "100%|██████████| 36/36 [02:29<00:00,  3.11s/it, avg_laplacian_term=92.6, avg_val_fro=38.9, avg_val_loss=132, avg_val_mae=5.24, batch_nb=16, epoch=7, tng_loss=201.583, v_nb=1]"
     ]
    },
    {
     "name": "stdout",
     "output_type": "stream",
     "text": [
      "G shape: torch.Size([8, 3476, 3476])\n",
      "t: tensor([ 89,  86,  16, 136,  97, 106,  33,  30]), batch_nb: 17\n"
     ]
    },
    {
     "name": "stderr",
     "output_type": "stream",
     "text": [
      "  3%|▎         | 1/36 [00:00<00:14,  2.43it/s], avg_laplacian_term=92.6, avg_val_fro=38.9, avg_val_loss=132, avg_val_mae=5.24, batch_nb=17, epoch=7, tng_loss=201.655, v_nb=1]"
     ]
    },
    {
     "name": "stdout",
     "output_type": "stream",
     "text": [
      "G shape: torch.Size([8, 3476, 3476])\n",
      "t: tensor([ 33,  89, 116,  93, 135,  11,  69,  80]), batch_nb: 0\n"
     ]
    },
    {
     "name": "stderr",
     "output_type": "stream",
     "text": [
      "  6%|▌         | 2/36 [00:04<00:50,  1.48s/it, avg_laplacian_term=92.6, avg_val_fro=38.9, avg_val_loss=132, avg_val_mae=5.24, batch_nb=0, epoch=8, tng_loss=201.471, v_nb=1]"
     ]
    },
    {
     "name": "stdout",
     "output_type": "stream",
     "text": [
      "G shape: torch.Size([8, 3476, 3476])\n",
      "t: tensor([ 73, 133,  45, 102,   2,  94,  49,  31]), batch_nb: 1\n"
     ]
    },
    {
     "name": "stderr",
     "output_type": "stream",
     "text": [
      "  8%|▊         | 3/36 [00:08<01:12,  2.20s/it, avg_laplacian_term=92.6, avg_val_fro=38.9, avg_val_loss=132, avg_val_mae=5.24, batch_nb=1, epoch=8, tng_loss=201.224, v_nb=1]"
     ]
    },
    {
     "name": "stdout",
     "output_type": "stream",
     "text": [
      "G shape: torch.Size([8, 3476, 3476])\n",
      "t: tensor([120,  29, 121, 110,  76, 131,  14,  30]), batch_nb: 2\n"
     ]
    },
    {
     "name": "stderr",
     "output_type": "stream",
     "text": [
      " 11%|█         | 4/36 [00:12<01:30,  2.83s/it, avg_laplacian_term=92.6, avg_val_fro=38.9, avg_val_loss=132, avg_val_mae=5.24, batch_nb=2, epoch=8, tng_loss=201.098, v_nb=1]"
     ]
    },
    {
     "name": "stdout",
     "output_type": "stream",
     "text": [
      "G shape: torch.Size([8, 3476, 3476])\n",
      "t: tensor([ 20, 127, 106,  26,  37,  88, 125, 142]), batch_nb: 3\n"
     ]
    },
    {
     "name": "stderr",
     "output_type": "stream",
     "text": [
      " 14%|█▍        | 5/36 [00:16<01:34,  3.06s/it, avg_laplacian_term=92.6, avg_val_fro=38.9, avg_val_loss=132, avg_val_mae=5.24, batch_nb=3, epoch=8, tng_loss=200.703, v_nb=1]"
     ]
    },
    {
     "name": "stdout",
     "output_type": "stream",
     "text": [
      "G shape: torch.Size([8, 3476, 3476])\n",
      "t: tensor([113,  50,  40,  95, 124,  51,  55,  97]), batch_nb: 4\n"
     ]
    },
    {
     "name": "stderr",
     "output_type": "stream",
     "text": [
      " 17%|█▋        | 6/36 [00:19<01:37,  3.23s/it, avg_laplacian_term=92.6, avg_val_fro=38.9, avg_val_loss=132, avg_val_mae=5.24, batch_nb=4, epoch=8, tng_loss=200.547, v_nb=1]"
     ]
    },
    {
     "name": "stdout",
     "output_type": "stream",
     "text": [
      "G shape: torch.Size([8, 3476, 3476])\n",
      "t: tensor([ 54, 126, 115,  90,  68,  27,  41,  78]), batch_nb: 5\n"
     ]
    },
    {
     "name": "stderr",
     "output_type": "stream",
     "text": [
      " 19%|█▉        | 7/36 [00:23<01:36,  3.34s/it, avg_laplacian_term=92.6, avg_val_fro=38.9, avg_val_loss=132, avg_val_mae=5.24, batch_nb=5, epoch=8, tng_loss=200.475, v_nb=1]"
     ]
    },
    {
     "name": "stdout",
     "output_type": "stream",
     "text": [
      "G shape: torch.Size([8, 3476, 3476])\n",
      "t: tensor([ 13, 139, 109,  12, 143,  82, 117,  43]), batch_nb: 6\n"
     ]
    },
    {
     "name": "stderr",
     "output_type": "stream",
     "text": [
      " 22%|██▏       | 8/36 [00:27<01:39,  3.55s/it, avg_laplacian_term=92.6, avg_val_fro=38.9, avg_val_loss=132, avg_val_mae=5.24, batch_nb=6, epoch=8, tng_loss=200.446, v_nb=1]"
     ]
    },
    {
     "name": "stdout",
     "output_type": "stream",
     "text": [
      "G shape: torch.Size([8, 3476, 3476])\n",
      "t: tensor([ 92, 105,  10,   5, 140,  16,  75,  91]), batch_nb: 7\n"
     ]
    },
    {
     "name": "stderr",
     "output_type": "stream",
     "text": [
      " 25%|██▌       | 9/36 [00:31<01:39,  3.70s/it, avg_laplacian_term=92.6, avg_val_fro=38.9, avg_val_loss=132, avg_val_mae=5.24, batch_nb=7, epoch=8, tng_loss=200.382, v_nb=1]"
     ]
    },
    {
     "name": "stdout",
     "output_type": "stream",
     "text": [
      "G shape: torch.Size([8, 3476, 3476])\n",
      "t: tensor([ 65,  59, 134, 128, 101, 119,  71,  99]), batch_nb: 8\n"
     ]
    },
    {
     "name": "stderr",
     "output_type": "stream",
     "text": [
      " 28%|██▊       | 10/36 [00:35<01:38,  3.80s/it, avg_laplacian_term=92.6, avg_val_fro=38.9, avg_val_loss=132, avg_val_mae=5.24, batch_nb=8, epoch=8, tng_loss=200.125, v_nb=1]"
     ]
    },
    {
     "name": "stdout",
     "output_type": "stream",
     "text": [
      "G shape: torch.Size([8, 3476, 3476])\n",
      "t: tensor([ 60,  66,  48,  28, 108,   3,  72, 138]), batch_nb: 9\n"
     ]
    },
    {
     "name": "stderr",
     "output_type": "stream",
     "text": [
      " 31%|███       | 11/36 [00:39<01:37,  3.89s/it, avg_laplacian_term=92.6, avg_val_fro=38.9, avg_val_loss=132, avg_val_mae=5.24, batch_nb=9, epoch=8, tng_loss=199.963, v_nb=1]"
     ]
    },
    {
     "name": "stdout",
     "output_type": "stream",
     "text": [
      "G shape: torch.Size([8, 3476, 3476])\n",
      "t: tensor([  7, 141,  19,  96,  74, 130, 122,  35]), batch_nb: 10\n"
     ]
    },
    {
     "name": "stderr",
     "output_type": "stream",
     "text": [
      " 33%|███▎      | 12/36 [00:43<01:34,  3.95s/it, avg_laplacian_term=92.6, avg_val_fro=38.9, avg_val_loss=132, avg_val_mae=5.24, batch_nb=10, epoch=8, tng_loss=199.725, v_nb=1]"
     ]
    },
    {
     "name": "stdout",
     "output_type": "stream",
     "text": [
      "G shape: torch.Size([8, 3476, 3476])\n",
      "t: tensor([ 57,   6,  70, 118,  15,  83, 123,  56]), batch_nb: 11\n"
     ]
    },
    {
     "name": "stderr",
     "output_type": "stream",
     "text": [
      " 36%|███▌      | 13/36 [00:47<01:30,  3.96s/it, avg_laplacian_term=92.6, avg_val_fro=38.9, avg_val_loss=132, avg_val_mae=5.24, batch_nb=11, epoch=8, tng_loss=199.736, v_nb=1]"
     ]
    },
    {
     "name": "stdout",
     "output_type": "stream",
     "text": [
      "G shape: torch.Size([8, 3476, 3476])\n",
      "t: tensor([107,  46,  52,  44, 103,  63,   8, 114]), batch_nb: 12\n"
     ]
    },
    {
     "name": "stderr",
     "output_type": "stream",
     "text": [
      " 39%|███▉      | 14/36 [00:51<01:27,  3.96s/it, avg_laplacian_term=92.6, avg_val_fro=38.9, avg_val_loss=132, avg_val_mae=5.24, batch_nb=12, epoch=8, tng_loss=199.705, v_nb=1]"
     ]
    },
    {
     "name": "stdout",
     "output_type": "stream",
     "text": [
      "G shape: torch.Size([8, 3476, 3476])\n",
      "t: tensor([ 58, 132,   0,  21, 111,  53,  85,   4]), batch_nb: 13\n"
     ]
    },
    {
     "name": "stderr",
     "output_type": "stream",
     "text": [
      " 42%|████▏     | 15/36 [00:55<01:24,  4.04s/it, avg_laplacian_term=92.6, avg_val_fro=38.9, avg_val_loss=132, avg_val_mae=5.24, batch_nb=13, epoch=8, tng_loss=199.505, v_nb=1]"
     ]
    },
    {
     "name": "stdout",
     "output_type": "stream",
     "text": [
      "G shape: torch.Size([8, 3476, 3476])\n",
      "t: tensor([129,  98,  32, 112,  39,  25,   9,  24]), batch_nb: 14\n"
     ]
    },
    {
     "name": "stderr",
     "output_type": "stream",
     "text": [
      " 44%|████▍     | 16/36 [00:59<01:18,  3.91s/it, avg_laplacian_term=92.6, avg_val_fro=38.9, avg_val_loss=132, avg_val_mae=5.24, batch_nb=14, epoch=8, tng_loss=199.320, v_nb=1]"
     ]
    },
    {
     "name": "stdout",
     "output_type": "stream",
     "text": [
      "G shape: torch.Size([8, 3476, 3476])\n",
      "t: tensor([104, 100,  87,  64,   1,  61,  17, 136]), batch_nb: 15\n"
     ]
    },
    {
     "name": "stderr",
     "output_type": "stream",
     "text": [
      " 47%|████▋     | 17/36 [01:03<01:14,  3.93s/it, avg_laplacian_term=92.6, avg_val_fro=38.9, avg_val_loss=132, avg_val_mae=5.24, batch_nb=15, epoch=8, tng_loss=199.427, v_nb=1]"
     ]
    },
    {
     "name": "stdout",
     "output_type": "stream",
     "text": [
      "G shape: torch.Size([8, 3476, 3476])\n",
      "t: tensor([77, 84, 22, 42, 34, 36, 62, 23]), batch_nb: 16\n"
     ]
    },
    {
     "name": "stderr",
     "output_type": "stream",
     "text": [
      "\r",
      " 47%|████▋     | 17/36 [01:07<01:14,  3.93s/it, avg_laplacian_term=92.6, avg_val_fro=38.9, avg_val_loss=132, avg_val_mae=5.24, batch_nb=16, epoch=8, tng_loss=199.311, v_nb=1]"
     ]
    },
    {
     "name": "stdout",
     "output_type": "stream",
     "text": [
      "G shape: torch.Size([8, 3476, 3476])\n",
      "t: tensor([  3,  25,  51, 132, 108,  33,  13,  27]), batch_nb: 0\n"
     ]
    },
    {
     "name": "stderr",
     "output_type": "stream",
     "text": [
      "\r",
      " 50%|█████     | 18/36 [01:11<01:31,  5.07s/it, avg_laplacian_term=92.6, avg_val_fro=38.9, avg_val_loss=132, avg_val_mae=5.24, batch_nb=16, epoch=8, tng_loss=199.311, v_nb=1]"
     ]
    },
    {
     "name": "stdout",
     "output_type": "stream",
     "text": [
      "G shape: torch.Size([8, 3476, 3476])\n",
      "t: tensor([43, 62, 37, 97, 91, 52, 71, 83]), batch_nb: 1\n"
     ]
    },
    {
     "name": "stderr",
     "output_type": "stream",
     "text": [
      "\r",
      " 53%|█████▎    | 19/36 [01:14<01:19,  4.68s/it, avg_laplacian_term=92.6, avg_val_fro=38.9, avg_val_loss=132, avg_val_mae=5.24, batch_nb=16, epoch=8, tng_loss=199.311, v_nb=1]"
     ]
    },
    {
     "name": "stdout",
     "output_type": "stream",
     "text": [
      "G shape: torch.Size([8, 3476, 3476])\n",
      "t: tensor([136,  34,  49,  46,  76,  26, 103, 115]), batch_nb: 2\n"
     ]
    },
    {
     "name": "stderr",
     "output_type": "stream",
     "text": [
      "\r",
      " 56%|█████▌    | 20/36 [01:18<01:11,  4.46s/it, avg_laplacian_term=92.6, avg_val_fro=38.9, avg_val_loss=132, avg_val_mae=5.24, batch_nb=16, epoch=8, tng_loss=199.311, v_nb=1]"
     ]
    },
    {
     "name": "stdout",
     "output_type": "stream",
     "text": [
      "G shape: torch.Size([8, 3476, 3476])\n",
      "t: tensor([ 94,  41,   5,  75,  90,  84, 111, 128]), batch_nb: 3\n"
     ]
    },
    {
     "name": "stderr",
     "output_type": "stream",
     "text": [
      "\r",
      " 58%|█████▊    | 21/36 [01:22<01:03,  4.23s/it, avg_laplacian_term=92.6, avg_val_fro=38.9, avg_val_loss=132, avg_val_mae=5.24, batch_nb=16, epoch=8, tng_loss=199.311, v_nb=1]"
     ]
    },
    {
     "name": "stdout",
     "output_type": "stream",
     "text": [
      "G shape: torch.Size([8, 3476, 3476])\n",
      "t: tensor([ 50,   2,  86,  32,  99,  60, 113,  20]), batch_nb: 4\n"
     ]
    },
    {
     "name": "stderr",
     "output_type": "stream",
     "text": [
      "\r",
      " 61%|██████    | 22/36 [01:26<00:58,  4.19s/it, avg_laplacian_term=92.6, avg_val_fro=38.9, avg_val_loss=132, avg_val_mae=5.24, batch_nb=16, epoch=8, tng_loss=199.311, v_nb=1]"
     ]
    },
    {
     "name": "stdout",
     "output_type": "stream",
     "text": [
      "G shape: torch.Size([8, 3476, 3476])\n",
      "t: tensor([ 67, 130, 131, 110, 127, 123,  88,   0]), batch_nb: 5\n"
     ]
    },
    {
     "name": "stderr",
     "output_type": "stream",
     "text": [
      "\r",
      " 64%|██████▍   | 23/36 [01:30<00:53,  4.12s/it, avg_laplacian_term=92.6, avg_val_fro=38.9, avg_val_loss=132, avg_val_mae=5.24, batch_nb=16, epoch=8, tng_loss=199.311, v_nb=1]"
     ]
    },
    {
     "name": "stdout",
     "output_type": "stream",
     "text": [
      "G shape: torch.Size([8, 3476, 3476])\n",
      "t: tensor([104,   9,  82, 102, 120,  16,  96,  38]), batch_nb: 6\n"
     ]
    },
    {
     "name": "stderr",
     "output_type": "stream",
     "text": [
      "\r",
      " 67%|██████▋   | 24/36 [01:34<00:48,  4.06s/it, avg_laplacian_term=92.6, avg_val_fro=38.9, avg_val_loss=132, avg_val_mae=5.24, batch_nb=16, epoch=8, tng_loss=199.311, v_nb=1]"
     ]
    },
    {
     "name": "stdout",
     "output_type": "stream",
     "text": [
      "G shape: torch.Size([8, 3476, 3476])\n",
      "t: tensor([ 79,   4,  81,  74,  19,  17, 101,  24]), batch_nb: 7\n"
     ]
    },
    {
     "name": "stderr",
     "output_type": "stream",
     "text": [
      "\r",
      " 69%|██████▉   | 25/36 [01:38<00:44,  4.05s/it, avg_laplacian_term=92.6, avg_val_fro=38.9, avg_val_loss=132, avg_val_mae=5.24, batch_nb=16, epoch=8, tng_loss=199.311, v_nb=1]"
     ]
    },
    {
     "name": "stdout",
     "output_type": "stream",
     "text": [
      "G shape: torch.Size([8, 3476, 3476])\n",
      "t: tensor([143, 122,  29,  95, 141,  57,  47,  70]), batch_nb: 8\n"
     ]
    },
    {
     "name": "stderr",
     "output_type": "stream",
     "text": [
      "\r",
      " 72%|███████▏  | 26/36 [01:42<00:40,  4.05s/it, avg_laplacian_term=92.6, avg_val_fro=38.9, avg_val_loss=132, avg_val_mae=5.24, batch_nb=16, epoch=8, tng_loss=199.311, v_nb=1]"
     ]
    },
    {
     "name": "stdout",
     "output_type": "stream",
     "text": [
      "G shape: torch.Size([8, 3476, 3476])\n",
      "t: tensor([ 12, 112, 129, 119, 125,  31, 118,  61]), batch_nb: 9\n"
     ]
    },
    {
     "name": "stderr",
     "output_type": "stream",
     "text": [
      "\r",
      " 75%|███████▌  | 27/36 [01:46<00:35,  3.96s/it, avg_laplacian_term=92.6, avg_val_fro=38.9, avg_val_loss=132, avg_val_mae=5.24, batch_nb=16, epoch=8, tng_loss=199.311, v_nb=1]"
     ]
    },
    {
     "name": "stdout",
     "output_type": "stream",
     "text": [
      "G shape: torch.Size([8, 3476, 3476])\n",
      "t: tensor([ 14, 117,  53,  28,  22,  58,  64,  36]), batch_nb: 10\n"
     ]
    },
    {
     "name": "stderr",
     "output_type": "stream",
     "text": [
      "\r",
      " 78%|███████▊  | 28/36 [01:50<00:31,  3.96s/it, avg_laplacian_term=92.6, avg_val_fro=38.9, avg_val_loss=132, avg_val_mae=5.24, batch_nb=16, epoch=8, tng_loss=199.311, v_nb=1]"
     ]
    },
    {
     "name": "stdout",
     "output_type": "stream",
     "text": [
      "G shape: torch.Size([8, 3476, 3476])\n",
      "t: tensor([ 30,  55,  15,   7,  56,  80,  77, 140]), batch_nb: 11\n"
     ]
    },
    {
     "name": "stderr",
     "output_type": "stream",
     "text": [
      "\r",
      " 81%|████████  | 29/36 [01:54<00:27,  3.99s/it, avg_laplacian_term=92.6, avg_val_fro=38.9, avg_val_loss=132, avg_val_mae=5.24, batch_nb=16, epoch=8, tng_loss=199.311, v_nb=1]"
     ]
    },
    {
     "name": "stdout",
     "output_type": "stream",
     "text": [
      "G shape: torch.Size([8, 3476, 3476])\n",
      "t: tensor([ 40,  39,  85,  65, 138,  35,  73,  72]), batch_nb: 12\n"
     ]
    },
    {
     "name": "stderr",
     "output_type": "stream",
     "text": [
      "\r",
      " 83%|████████▎ | 30/36 [01:58<00:24,  4.07s/it, avg_laplacian_term=92.6, avg_val_fro=38.9, avg_val_loss=132, avg_val_mae=5.24, batch_nb=16, epoch=8, tng_loss=199.311, v_nb=1]"
     ]
    },
    {
     "name": "stdout",
     "output_type": "stream",
     "text": [
      "G shape: torch.Size([8, 3476, 3476])\n",
      "t: tensor([ 78,  68,  66, 134, 139, 124,   6,  23]), batch_nb: 13\n"
     ]
    },
    {
     "name": "stderr",
     "output_type": "stream",
     "text": [
      "\r",
      " 86%|████████▌ | 31/36 [02:02<00:20,  4.13s/it, avg_laplacian_term=92.6, avg_val_fro=38.9, avg_val_loss=132, avg_val_mae=5.24, batch_nb=16, epoch=8, tng_loss=199.311, v_nb=1]"
     ]
    },
    {
     "name": "stdout",
     "output_type": "stream",
     "text": [
      "G shape: torch.Size([8, 3476, 3476])\n",
      "t: tensor([ 42,   1, 106, 114,  92,  59,  98, 109]), batch_nb: 14\n"
     ]
    },
    {
     "name": "stderr",
     "output_type": "stream",
     "text": [
      "\r",
      " 89%|████████▉ | 32/36 [02:06<00:16,  4.02s/it, avg_laplacian_term=92.6, avg_val_fro=38.9, avg_val_loss=132, avg_val_mae=5.24, batch_nb=16, epoch=8, tng_loss=199.311, v_nb=1]"
     ]
    },
    {
     "name": "stdout",
     "output_type": "stream",
     "text": [
      "G shape: torch.Size([8, 3476, 3476])\n",
      "t: tensor([ 44,  63, 100,  48,  87,  11,  89,  21]), batch_nb: 15\n"
     ]
    },
    {
     "name": "stderr",
     "output_type": "stream",
     "text": [
      "\r",
      " 92%|█████████▏| 33/36 [02:10<00:11,  3.99s/it, avg_laplacian_term=92.6, avg_val_fro=38.9, avg_val_loss=132, avg_val_mae=5.24, batch_nb=16, epoch=8, tng_loss=199.311, v_nb=1]"
     ]
    },
    {
     "name": "stdout",
     "output_type": "stream",
     "text": [
      "G shape: torch.Size([8, 3476, 3476])\n",
      "t: tensor([ 10, 133, 137,  93,  54, 121,  18, 105]), batch_nb: 16\n"
     ]
    },
    {
     "name": "stderr",
     "output_type": "stream",
     "text": [
      "\r",
      " 94%|█████████▍| 34/36 [02:14<00:07,  3.99s/it, avg_laplacian_term=92.6, avg_val_fro=38.9, avg_val_loss=132, avg_val_mae=5.24, batch_nb=16, epoch=8, tng_loss=199.311, v_nb=1]"
     ]
    },
    {
     "name": "stdout",
     "output_type": "stream",
     "text": [
      "G shape: torch.Size([8, 3476, 3476])\n",
      "t: tensor([135, 126,   8, 116, 142,  45,  69, 107]), batch_nb: 17\n"
     ]
    },
    {
     "name": "stderr",
     "output_type": "stream",
     "text": [
      "100%|██████████| 36/36 [02:19<00:00,  2.93s/it, avg_laplacian_term=91.4, avg_val_fro=38.6, avg_val_loss=130, avg_val_mae=5.18, batch_nb=16, epoch=8, tng_loss=199.311, v_nb=1]"
     ]
    },
    {
     "name": "stdout",
     "output_type": "stream",
     "text": [
      "G shape: torch.Size([8, 3476, 3476])\n",
      "t: tensor([ 38,  86,  67,  81, 137,  18,  47,  79]), batch_nb: 17\n"
     ]
    },
    {
     "name": "stderr",
     "output_type": "stream",
     "text": [
      "  3%|▎         | 1/36 [00:00<00:13,  2.55it/s], avg_laplacian_term=91.4, avg_val_fro=38.6, avg_val_loss=130, avg_val_mae=5.18, batch_nb=17, epoch=8, tng_loss=199.200, v_nb=1]"
     ]
    },
    {
     "name": "stdout",
     "output_type": "stream",
     "text": [
      "G shape: torch.Size([8, 3476, 3476])\n",
      "t: tensor([ 97,  84,  67,  81, 108, 134, 140,  62]), batch_nb: 0\n"
     ]
    },
    {
     "name": "stderr",
     "output_type": "stream",
     "text": [
      "  6%|▌         | 2/36 [00:04<00:50,  1.47s/it, avg_laplacian_term=91.4, avg_val_fro=38.6, avg_val_loss=130, avg_val_mae=5.18, batch_nb=0, epoch=9, tng_loss=199.107, v_nb=1]"
     ]
    },
    {
     "name": "stdout",
     "output_type": "stream",
     "text": [
      "G shape: torch.Size([8, 3476, 3476])\n",
      "t: tensor([ 94,  77,  58, 136,  14,  24, 106,  41]), batch_nb: 1\n"
     ]
    },
    {
     "name": "stderr",
     "output_type": "stream",
     "text": [
      "  8%|▊         | 3/36 [00:08<01:15,  2.29s/it, avg_laplacian_term=91.4, avg_val_fro=38.6, avg_val_loss=130, avg_val_mae=5.18, batch_nb=1, epoch=9, tng_loss=198.927, v_nb=1]"
     ]
    },
    {
     "name": "stdout",
     "output_type": "stream",
     "text": [
      "G shape: torch.Size([8, 3476, 3476])\n",
      "t: tensor([ 52,  72,  80, 125,  25, 131,  12,  92]), batch_nb: 2\n"
     ]
    },
    {
     "name": "stderr",
     "output_type": "stream",
     "text": [
      " 11%|█         | 4/36 [00:12<01:30,  2.82s/it, avg_laplacian_term=91.4, avg_val_fro=38.6, avg_val_loss=130, avg_val_mae=5.18, batch_nb=2, epoch=9, tng_loss=198.731, v_nb=1]"
     ]
    },
    {
     "name": "stdout",
     "output_type": "stream",
     "text": [
      "G shape: torch.Size([8, 3476, 3476])\n",
      "t: tensor([115, 104,  87, 120, 117, 105,  73,  49]), batch_nb: 3\n"
     ]
    },
    {
     "name": "stderr",
     "output_type": "stream",
     "text": [
      " 14%|█▍        | 5/36 [00:16<01:39,  3.20s/it, avg_laplacian_term=91.4, avg_val_fro=38.6, avg_val_loss=130, avg_val_mae=5.18, batch_nb=3, epoch=9, tng_loss=198.469, v_nb=1]"
     ]
    },
    {
     "name": "stdout",
     "output_type": "stream",
     "text": [
      "G shape: torch.Size([8, 3476, 3476])\n",
      "t: tensor([ 42,  61,  45, 109,   7,  50,  78,   0]), batch_nb: 4\n"
     ]
    },
    {
     "name": "stderr",
     "output_type": "stream",
     "text": [
      " 17%|█▋        | 6/36 [00:20<01:45,  3.52s/it, avg_laplacian_term=91.4, avg_val_fro=38.6, avg_val_loss=130, avg_val_mae=5.18, batch_nb=4, epoch=9, tng_loss=198.369, v_nb=1]"
     ]
    },
    {
     "name": "stdout",
     "output_type": "stream",
     "text": [
      "G shape: torch.Size([8, 3476, 3476])\n",
      "t: tensor([101,  79,  31,  47,  44, 122,  40, 137]), batch_nb: 5\n"
     ]
    },
    {
     "name": "stderr",
     "output_type": "stream",
     "text": [
      " 19%|█▉        | 7/36 [00:25<01:47,  3.69s/it, avg_laplacian_term=91.4, avg_val_fro=38.6, avg_val_loss=130, avg_val_mae=5.18, batch_nb=5, epoch=9, tng_loss=198.383, v_nb=1]"
     ]
    },
    {
     "name": "stdout",
     "output_type": "stream",
     "text": [
      "G shape: torch.Size([8, 3476, 3476])\n",
      "t: tensor([ 68,  26,  27, 107,  46,  21,  34,   1]), batch_nb: 6\n"
     ]
    },
    {
     "name": "stderr",
     "output_type": "stream",
     "text": [
      " 22%|██▏       | 8/36 [00:29<01:46,  3.79s/it, avg_laplacian_term=91.4, avg_val_fro=38.6, avg_val_loss=130, avg_val_mae=5.18, batch_nb=6, epoch=9, tng_loss=198.174, v_nb=1]"
     ]
    },
    {
     "name": "stdout",
     "output_type": "stream",
     "text": [
      "G shape: torch.Size([8, 3476, 3476])\n",
      "t: tensor([ 10,  51,  99,  95, 114,  74, 103,  15]), batch_nb: 7\n"
     ]
    },
    {
     "name": "stderr",
     "output_type": "stream",
     "text": [
      " 25%|██▌       | 9/36 [00:33<01:44,  3.86s/it, avg_laplacian_term=91.4, avg_val_fro=38.6, avg_val_loss=130, avg_val_mae=5.18, batch_nb=7, epoch=9, tng_loss=197.924, v_nb=1]"
     ]
    },
    {
     "name": "stdout",
     "output_type": "stream",
     "text": [
      "G shape: torch.Size([8, 3476, 3476])\n",
      "t: tensor([ 96,  36,  66,   9,  64,  83,  35, 127]), batch_nb: 8\n"
     ]
    },
    {
     "name": "stderr",
     "output_type": "stream",
     "text": [
      " 28%|██▊       | 10/36 [00:37<01:40,  3.87s/it, avg_laplacian_term=91.4, avg_val_fro=38.6, avg_val_loss=130, avg_val_mae=5.18, batch_nb=8, epoch=9, tng_loss=197.768, v_nb=1]"
     ]
    },
    {
     "name": "stdout",
     "output_type": "stream",
     "text": [
      "G shape: torch.Size([8, 3476, 3476])\n",
      "t: tensor([129,  39,  86,  33,  63,  32,  54,  38]), batch_nb: 9\n"
     ]
    },
    {
     "name": "stderr",
     "output_type": "stream",
     "text": [
      " 31%|███       | 11/36 [00:40<01:36,  3.86s/it, avg_laplacian_term=91.4, avg_val_fro=38.6, avg_val_loss=130, avg_val_mae=5.18, batch_nb=9, epoch=9, tng_loss=197.698, v_nb=1]"
     ]
    },
    {
     "name": "stdout",
     "output_type": "stream",
     "text": [
      "G shape: torch.Size([8, 3476, 3476])\n",
      "t: tensor([100, 133, 110,  88,  89,  65, 112,  30]), batch_nb: 10\n"
     ]
    },
    {
     "name": "stderr",
     "output_type": "stream",
     "text": [
      " 33%|███▎      | 12/36 [00:44<01:33,  3.90s/it, avg_laplacian_term=91.4, avg_val_fro=38.6, avg_val_loss=130, avg_val_mae=5.18, batch_nb=10, epoch=9, tng_loss=197.603, v_nb=1]"
     ]
    },
    {
     "name": "stdout",
     "output_type": "stream",
     "text": [
      "G shape: torch.Size([8, 3476, 3476])\n",
      "t: tensor([111, 138, 141,   3, 139,  93,  75, 121]), batch_nb: 11\n"
     ]
    },
    {
     "name": "stderr",
     "output_type": "stream",
     "text": [
      " 36%|███▌      | 13/36 [00:48<01:29,  3.91s/it, avg_laplacian_term=91.4, avg_val_fro=38.6, avg_val_loss=130, avg_val_mae=5.18, batch_nb=11, epoch=9, tng_loss=197.527, v_nb=1]"
     ]
    },
    {
     "name": "stdout",
     "output_type": "stream",
     "text": [
      "G shape: torch.Size([8, 3476, 3476])\n",
      "t: tensor([ 20,   6,  69, 116,  71,   8,  90,  59]), batch_nb: 12\n"
     ]
    },
    {
     "name": "stderr",
     "output_type": "stream",
     "text": [
      " 39%|███▉      | 14/36 [00:52<01:26,  3.93s/it, avg_laplacian_term=91.4, avg_val_fro=38.6, avg_val_loss=130, avg_val_mae=5.18, batch_nb=12, epoch=9, tng_loss=197.571, v_nb=1]"
     ]
    },
    {
     "name": "stdout",
     "output_type": "stream",
     "text": [
      "G shape: torch.Size([8, 3476, 3476])\n",
      "t: tensor([ 48, 124,   2, 126,  56, 143, 135,  98]), batch_nb: 13\n"
     ]
    },
    {
     "name": "stderr",
     "output_type": "stream",
     "text": [
      " 42%|████▏     | 15/36 [00:56<01:20,  3.84s/it, avg_laplacian_term=91.4, avg_val_fro=38.6, avg_val_loss=130, avg_val_mae=5.18, batch_nb=13, epoch=9, tng_loss=197.209, v_nb=1]"
     ]
    },
    {
     "name": "stdout",
     "output_type": "stream",
     "text": [
      "G shape: torch.Size([8, 3476, 3476])\n",
      "t: tensor([ 43,  76,  19, 102,  13,  53,  85, 132]), batch_nb: 14\n"
     ]
    },
    {
     "name": "stderr",
     "output_type": "stream",
     "text": [
      " 44%|████▍     | 16/36 [01:00<01:17,  3.87s/it, avg_laplacian_term=91.4, avg_val_fro=38.6, avg_val_loss=130, avg_val_mae=5.18, batch_nb=14, epoch=9, tng_loss=197.048, v_nb=1]"
     ]
    },
    {
     "name": "stdout",
     "output_type": "stream",
     "text": [
      "G shape: torch.Size([8, 3476, 3476])\n",
      "t: tensor([ 23,  57,  11,  17,  60,  16,  29, 113]), batch_nb: 15\n"
     ]
    },
    {
     "name": "stderr",
     "output_type": "stream",
     "text": [
      " 47%|████▋     | 17/36 [01:04<01:13,  3.89s/it, avg_laplacian_term=91.4, avg_val_fro=38.6, avg_val_loss=130, avg_val_mae=5.18, batch_nb=15, epoch=9, tng_loss=197.116, v_nb=1]"
     ]
    },
    {
     "name": "stdout",
     "output_type": "stream",
     "text": [
      "G shape: torch.Size([8, 3476, 3476])\n",
      "t: tensor([ 82,  28, 123,  91,  55, 118,  37,   4]), batch_nb: 16\n"
     ]
    },
    {
     "name": "stderr",
     "output_type": "stream",
     "text": [
      "\r",
      " 47%|████▋     | 17/36 [01:07<01:13,  3.89s/it, avg_laplacian_term=91.4, avg_val_fro=38.6, avg_val_loss=130, avg_val_mae=5.18, batch_nb=16, epoch=9, tng_loss=197.038, v_nb=1]"
     ]
    },
    {
     "name": "stdout",
     "output_type": "stream",
     "text": [
      "G shape: torch.Size([8, 3476, 3476])\n",
      "t: tensor([126,  28,  33,  69,  24,  34, 125,  57]), batch_nb: 0\n"
     ]
    },
    {
     "name": "stderr",
     "output_type": "stream",
     "text": [
      "\r",
      " 50%|█████     | 18/36 [01:12<01:31,  5.11s/it, avg_laplacian_term=91.4, avg_val_fro=38.6, avg_val_loss=130, avg_val_mae=5.18, batch_nb=16, epoch=9, tng_loss=197.038, v_nb=1]"
     ]
    },
    {
     "name": "stdout",
     "output_type": "stream",
     "text": [
      "G shape: torch.Size([8, 3476, 3476])\n",
      "t: tensor([118, 108,  93,  22, 131,  96, 110,  78]), batch_nb: 1\n"
     ]
    },
    {
     "name": "stderr",
     "output_type": "stream",
     "text": [
      "\r",
      " 53%|█████▎    | 19/36 [01:16<01:21,  4.77s/it, avg_laplacian_term=91.4, avg_val_fro=38.6, avg_val_loss=130, avg_val_mae=5.18, batch_nb=16, epoch=9, tng_loss=197.038, v_nb=1]"
     ]
    },
    {
     "name": "stdout",
     "output_type": "stream",
     "text": [
      "G shape: torch.Size([8, 3476, 3476])\n",
      "t: tensor([ 12,   5,  84, 123,  49, 111, 137,  10]), batch_nb: 2\n"
     ]
    },
    {
     "name": "stderr",
     "output_type": "stream",
     "text": [
      "\r",
      " 56%|█████▌    | 20/36 [01:20<01:11,  4.48s/it, avg_laplacian_term=91.4, avg_val_fro=38.6, avg_val_loss=130, avg_val_mae=5.18, batch_nb=16, epoch=9, tng_loss=197.038, v_nb=1]"
     ]
    },
    {
     "name": "stdout",
     "output_type": "stream",
     "text": [
      "G shape: torch.Size([8, 3476, 3476])\n",
      "t: tensor([ 17,  44, 105,  60,  86,  62, 139,  26]), batch_nb: 3\n"
     ]
    },
    {
     "name": "stderr",
     "output_type": "stream",
     "text": [
      "\r",
      " 58%|█████▊    | 21/36 [01:23<01:03,  4.23s/it, avg_laplacian_term=91.4, avg_val_fro=38.6, avg_val_loss=130, avg_val_mae=5.18, batch_nb=16, epoch=9, tng_loss=197.038, v_nb=1]"
     ]
    },
    {
     "name": "stdout",
     "output_type": "stream",
     "text": [
      "G shape: torch.Size([8, 3476, 3476])\n",
      "t: tensor([115,   4,  83,  13,  48, 120,  18, 132]), batch_nb: 4\n"
     ]
    },
    {
     "name": "stderr",
     "output_type": "stream",
     "text": [
      "\r",
      " 61%|██████    | 22/36 [01:27<00:56,  4.06s/it, avg_laplacian_term=91.4, avg_val_fro=38.6, avg_val_loss=130, avg_val_mae=5.18, batch_nb=16, epoch=9, tng_loss=197.038, v_nb=1]"
     ]
    },
    {
     "name": "stdout",
     "output_type": "stream",
     "text": [
      "G shape: torch.Size([8, 3476, 3476])\n",
      "t: tensor([ 50,  94,  37, 121,  47, 133, 109,  68]), batch_nb: 5\n"
     ]
    },
    {
     "name": "stderr",
     "output_type": "stream",
     "text": [
      "\r",
      " 64%|██████▍   | 23/36 [01:31<00:51,  3.95s/it, avg_laplacian_term=91.4, avg_val_fro=38.6, avg_val_loss=130, avg_val_mae=5.18, batch_nb=16, epoch=9, tng_loss=197.038, v_nb=1]"
     ]
    },
    {
     "name": "stdout",
     "output_type": "stream",
     "text": [
      "G shape: torch.Size([8, 3476, 3476])\n",
      "t: tensor([ 32,   8,  53,  65,  39, 113,  14,  99]), batch_nb: 6\n"
     ]
    },
    {
     "name": "stderr",
     "output_type": "stream",
     "text": [
      "\r",
      " 67%|██████▋   | 24/36 [01:35<00:48,  4.04s/it, avg_laplacian_term=91.4, avg_val_fro=38.6, avg_val_loss=130, avg_val_mae=5.18, batch_nb=16, epoch=9, tng_loss=197.038, v_nb=1]"
     ]
    },
    {
     "name": "stdout",
     "output_type": "stream",
     "text": [
      "G shape: torch.Size([8, 3476, 3476])\n",
      "t: tensor([ 45, 122,  67,  97, 124, 102,  42,   7]), batch_nb: 7\n"
     ]
    },
    {
     "name": "stderr",
     "output_type": "stream",
     "text": [
      "\r",
      " 69%|██████▉   | 25/36 [01:39<00:43,  4.00s/it, avg_laplacian_term=91.4, avg_val_fro=38.6, avg_val_loss=130, avg_val_mae=5.18, batch_nb=16, epoch=9, tng_loss=197.038, v_nb=1]"
     ]
    },
    {
     "name": "stdout",
     "output_type": "stream",
     "text": [
      "G shape: torch.Size([8, 3476, 3476])\n",
      "t: tensor([129,  58,  81,   2,  82,  74,  72,  30]), batch_nb: 8\n"
     ]
    },
    {
     "name": "stderr",
     "output_type": "stream",
     "text": [
      "\r",
      " 72%|███████▏  | 26/36 [01:42<00:39,  3.94s/it, avg_laplacian_term=91.4, avg_val_fro=38.6, avg_val_loss=130, avg_val_mae=5.18, batch_nb=16, epoch=9, tng_loss=197.038, v_nb=1]"
     ]
    },
    {
     "name": "stdout",
     "output_type": "stream",
     "text": [
      "G shape: torch.Size([8, 3476, 3476])\n",
      "t: tensor([ 98,   9,  75,  40, 107,  20,   1,   6]), batch_nb: 9\n"
     ]
    },
    {
     "name": "stderr",
     "output_type": "stream",
     "text": [
      "\r",
      " 75%|███████▌  | 27/36 [01:46<00:35,  3.94s/it, avg_laplacian_term=91.4, avg_val_fro=38.6, avg_val_loss=130, avg_val_mae=5.18, batch_nb=16, epoch=9, tng_loss=197.038, v_nb=1]"
     ]
    },
    {
     "name": "stdout",
     "output_type": "stream",
     "text": [
      "G shape: torch.Size([8, 3476, 3476])\n",
      "t: tensor([ 95, 101,  70,  41,  52,  55,  16,  87]), batch_nb: 10\n"
     ]
    },
    {
     "name": "stderr",
     "output_type": "stream",
     "text": [
      "\r",
      " 78%|███████▊  | 28/36 [01:51<00:31,  4.00s/it, avg_laplacian_term=91.4, avg_val_fro=38.6, avg_val_loss=130, avg_val_mae=5.18, batch_nb=16, epoch=9, tng_loss=197.038, v_nb=1]"
     ]
    },
    {
     "name": "stdout",
     "output_type": "stream",
     "text": [
      "G shape: torch.Size([8, 3476, 3476])\n",
      "t: tensor([ 73, 130, 136,  29,  80,  56, 134, 100]), batch_nb: 11\n"
     ]
    },
    {
     "name": "stderr",
     "output_type": "stream",
     "text": [
      "\r",
      " 81%|████████  | 29/36 [01:55<00:28,  4.01s/it, avg_laplacian_term=91.4, avg_val_fro=38.6, avg_val_loss=130, avg_val_mae=5.18, batch_nb=16, epoch=9, tng_loss=197.038, v_nb=1]"
     ]
    },
    {
     "name": "stdout",
     "output_type": "stream",
     "text": [
      "G shape: torch.Size([8, 3476, 3476])\n",
      "t: tensor([ 43, 103,  71, 114, 119,  92,  38,  63]), batch_nb: 12\n"
     ]
    },
    {
     "name": "stderr",
     "output_type": "stream",
     "text": [
      "\r",
      " 83%|████████▎ | 30/36 [01:59<00:24,  4.01s/it, avg_laplacian_term=91.4, avg_val_fro=38.6, avg_val_loss=130, avg_val_mae=5.18, batch_nb=16, epoch=9, tng_loss=197.038, v_nb=1]"
     ]
    },
    {
     "name": "stdout",
     "output_type": "stream",
     "text": [
      "G shape: torch.Size([8, 3476, 3476])\n",
      "t: tensor([ 15,  77,  79,   0,  76, 127,  85, 128]), batch_nb: 13\n"
     ]
    },
    {
     "name": "stderr",
     "output_type": "stream",
     "text": [
      "\r",
      " 86%|████████▌ | 31/36 [02:02<00:19,  3.95s/it, avg_laplacian_term=91.4, avg_val_fro=38.6, avg_val_loss=130, avg_val_mae=5.18, batch_nb=16, epoch=9, tng_loss=197.038, v_nb=1]"
     ]
    },
    {
     "name": "stdout",
     "output_type": "stream",
     "text": [
      "G shape: torch.Size([8, 3476, 3476])\n",
      "t: tensor([  3,  90,  36,  51,  91,  54, 112,  11]), batch_nb: 14\n"
     ]
    },
    {
     "name": "stderr",
     "output_type": "stream",
     "text": [
      "\r",
      " 89%|████████▉ | 32/36 [02:07<00:16,  4.04s/it, avg_laplacian_term=91.4, avg_val_fro=38.6, avg_val_loss=130, avg_val_mae=5.18, batch_nb=16, epoch=9, tng_loss=197.038, v_nb=1]"
     ]
    },
    {
     "name": "stdout",
     "output_type": "stream",
     "text": [
      "G shape: torch.Size([8, 3476, 3476])\n",
      "t: tensor([ 66,  88,  59, 138, 106,  89,  23,  46]), batch_nb: 15\n"
     ]
    },
    {
     "name": "stderr",
     "output_type": "stream",
     "text": [
      "\r",
      " 92%|█████████▏| 33/36 [02:11<00:11,  3.99s/it, avg_laplacian_term=91.4, avg_val_fro=38.6, avg_val_loss=130, avg_val_mae=5.18, batch_nb=16, epoch=9, tng_loss=197.038, v_nb=1]"
     ]
    },
    {
     "name": "stdout",
     "output_type": "stream",
     "text": [
      "G shape: torch.Size([8, 3476, 3476])\n",
      "t: tensor([143, 141, 104,  35, 135, 140,  19,  25]), batch_nb: 16\n"
     ]
    },
    {
     "name": "stderr",
     "output_type": "stream",
     "text": [
      "\r",
      " 94%|█████████▍| 34/36 [02:14<00:07,  3.92s/it, avg_laplacian_term=91.4, avg_val_fro=38.6, avg_val_loss=130, avg_val_mae=5.18, batch_nb=16, epoch=9, tng_loss=197.038, v_nb=1]"
     ]
    },
    {
     "name": "stdout",
     "output_type": "stream",
     "text": [
      "G shape: torch.Size([8, 3476, 3476])\n",
      "t: tensor([ 61,  31,  64,  21,  27, 142, 117, 116]), batch_nb: 17\n"
     ]
    },
    {
     "name": "stderr",
     "output_type": "stream",
     "text": [
      "100%|██████████| 36/36 [02:19<00:00,  2.93s/it, avg_laplacian_term=90.1, avg_val_fro=38.3, avg_val_loss=128, avg_val_mae=5.17, batch_nb=16, epoch=9, tng_loss=197.038, v_nb=1]"
     ]
    },
    {
     "name": "stdout",
     "output_type": "stream",
     "text": [
      "G shape: torch.Size([8, 3476, 3476])\n",
      "t: tensor([128, 142,  22, 130,   5,  70,  18, 119]), batch_nb: 17\n"
     ]
    },
    {
     "name": "stderr",
     "output_type": "stream",
     "text": [
      "  3%|▎         | 1/36 [00:00<00:15,  2.28it/s], avg_laplacian_term=90.1, avg_val_fro=38.3, avg_val_loss=128, avg_val_mae=5.17, batch_nb=17, epoch=9, tng_loss=197.099, v_nb=1]"
     ]
    },
    {
     "name": "stdout",
     "output_type": "stream",
     "text": [
      "G shape: torch.Size([8, 3476, 3476])\n",
      "t: tensor([71, 62,  8, 63, 17, 21, 72, 56]), batch_nb: 0\n"
     ]
    },
    {
     "name": "stderr",
     "output_type": "stream",
     "text": [
      "  6%|▌         | 2/36 [00:04<00:50,  1.50s/it, avg_laplacian_term=90.1, avg_val_fro=38.3, avg_val_loss=128, avg_val_mae=5.17, batch_nb=0, epoch=10, tng_loss=196.976, v_nb=1]"
     ]
    },
    {
     "name": "stdout",
     "output_type": "stream",
     "text": [
      "G shape: torch.Size([8, 3476, 3476])\n",
      "t: tensor([106,  19,  52,  61, 110, 137, 109,  82]), batch_nb: 1\n"
     ]
    },
    {
     "name": "stderr",
     "output_type": "stream",
     "text": [
      "  8%|▊         | 3/36 [00:08<01:12,  2.18s/it, avg_laplacian_term=90.1, avg_val_fro=38.3, avg_val_loss=128, avg_val_mae=5.17, batch_nb=1, epoch=10, tng_loss=196.929, v_nb=1]"
     ]
    },
    {
     "name": "stdout",
     "output_type": "stream",
     "text": [
      "G shape: torch.Size([8, 3476, 3476])\n",
      "t: tensor([130,  20,  87, 121,  47,  41,  37,  48]), batch_nb: 2\n"
     ]
    },
    {
     "name": "stderr",
     "output_type": "stream",
     "text": [
      " 11%|█         | 4/36 [00:12<01:25,  2.68s/it, avg_laplacian_term=90.1, avg_val_fro=38.3, avg_val_loss=128, avg_val_mae=5.17, batch_nb=2, epoch=10, tng_loss=196.779, v_nb=1]"
     ]
    },
    {
     "name": "stdout",
     "output_type": "stream",
     "text": [
      "G shape: torch.Size([8, 3476, 3476])\n",
      "t: tensor([ 39,   5,   4,  60,  45,  40, 103,  30]), batch_nb: 3\n"
     ]
    },
    {
     "name": "stderr",
     "output_type": "stream",
     "text": [
      " 14%|█▍        | 5/36 [00:16<01:35,  3.10s/it, avg_laplacian_term=90.1, avg_val_fro=38.3, avg_val_loss=128, avg_val_mae=5.17, batch_nb=3, epoch=10, tng_loss=196.645, v_nb=1]"
     ]
    },
    {
     "name": "stdout",
     "output_type": "stream",
     "text": [
      "G shape: torch.Size([8, 3476, 3476])\n",
      "t: tensor([100, 118,  18,  43,  46,  55,  89,  84]), batch_nb: 4\n"
     ]
    },
    {
     "name": "stderr",
     "output_type": "stream",
     "text": [
      " 17%|█▋        | 6/36 [00:20<01:41,  3.39s/it, avg_laplacian_term=90.1, avg_val_fro=38.3, avg_val_loss=128, avg_val_mae=5.17, batch_nb=4, epoch=10, tng_loss=196.619, v_nb=1]"
     ]
    },
    {
     "name": "stdout",
     "output_type": "stream",
     "text": [
      "G shape: torch.Size([8, 3476, 3476])\n",
      "t: tensor([ 22,  29,  16,  26,  88, 140,  96,  75]), batch_nb: 5\n"
     ]
    },
    {
     "name": "stderr",
     "output_type": "stream",
     "text": [
      " 19%|█▉        | 7/36 [00:24<01:44,  3.62s/it, avg_laplacian_term=90.1, avg_val_fro=38.3, avg_val_loss=128, avg_val_mae=5.17, batch_nb=5, epoch=10, tng_loss=196.350, v_nb=1]"
     ]
    },
    {
     "name": "stdout",
     "output_type": "stream",
     "text": [
      "G shape: torch.Size([8, 3476, 3476])\n",
      "t: tensor([141,  28, 120,  14,  86, 124,   7,  70]), batch_nb: 6\n"
     ]
    },
    {
     "name": "stderr",
     "output_type": "stream",
     "text": [
      " 22%|██▏       | 8/36 [00:28<01:48,  3.87s/it, avg_laplacian_term=90.1, avg_val_fro=38.3, avg_val_loss=128, avg_val_mae=5.17, batch_nb=6, epoch=10, tng_loss=196.327, v_nb=1]"
     ]
    },
    {
     "name": "stdout",
     "output_type": "stream",
     "text": [
      "G shape: torch.Size([8, 3476, 3476])\n",
      "t: tensor([ 91,  69,  79,  44, 129, 136,   6, 138]), batch_nb: 7\n"
     ]
    },
    {
     "name": "stderr",
     "output_type": "stream",
     "text": [
      " 25%|██▌       | 9/36 [00:32<01:45,  3.91s/it, avg_laplacian_term=90.1, avg_val_fro=38.3, avg_val_loss=128, avg_val_mae=5.17, batch_nb=7, epoch=10, tng_loss=196.422, v_nb=1]"
     ]
    },
    {
     "name": "stdout",
     "output_type": "stream",
     "text": [
      "G shape: torch.Size([8, 3476, 3476])\n",
      "t: tensor([ 74,  59,  76, 115, 104,   0,  90, 123]), batch_nb: 8\n"
     ]
    },
    {
     "name": "stderr",
     "output_type": "stream",
     "text": [
      " 28%|██▊       | 10/36 [00:36<01:41,  3.90s/it, avg_laplacian_term=90.1, avg_val_fro=38.3, avg_val_loss=128, avg_val_mae=5.17, batch_nb=8, epoch=10, tng_loss=196.103, v_nb=1]"
     ]
    },
    {
     "name": "stdout",
     "output_type": "stream",
     "text": [
      "G shape: torch.Size([8, 3476, 3476])\n",
      "t: tensor([101,  57,  68,   1,  35,   3,  67, 133]), batch_nb: 9\n"
     ]
    },
    {
     "name": "stderr",
     "output_type": "stream",
     "text": [
      " 31%|███       | 11/36 [00:40<01:39,  3.99s/it, avg_laplacian_term=90.1, avg_val_fro=38.3, avg_val_loss=128, avg_val_mae=5.17, batch_nb=9, epoch=10, tng_loss=195.949, v_nb=1]"
     ]
    },
    {
     "name": "stdout",
     "output_type": "stream",
     "text": [
      "G shape: torch.Size([8, 3476, 3476])\n",
      "t: tensor([ 81,  42, 134,  25, 132, 125,  85,  13]), batch_nb: 10\n"
     ]
    },
    {
     "name": "stderr",
     "output_type": "stream",
     "text": [
      " 33%|███▎      | 12/36 [00:44<01:36,  4.01s/it, avg_laplacian_term=90.1, avg_val_fro=38.3, avg_val_loss=128, avg_val_mae=5.17, batch_nb=10, epoch=10, tng_loss=195.641, v_nb=1]"
     ]
    },
    {
     "name": "stdout",
     "output_type": "stream",
     "text": [
      "G shape: torch.Size([8, 3476, 3476])\n",
      "t: tensor([ 54,  65, 122,  98,  10,  27,  99,  92]), batch_nb: 11\n"
     ]
    },
    {
     "name": "stderr",
     "output_type": "stream",
     "text": [
      " 36%|███▌      | 13/36 [00:48<01:31,  3.97s/it, avg_laplacian_term=90.1, avg_val_fro=38.3, avg_val_loss=128, avg_val_mae=5.17, batch_nb=11, epoch=10, tng_loss=195.476, v_nb=1]"
     ]
    },
    {
     "name": "stdout",
     "output_type": "stream",
     "text": [
      "G shape: torch.Size([8, 3476, 3476])\n",
      "t: tensor([131,  78,  36,  33, 113, 139,  97, 142]), batch_nb: 12\n"
     ]
    },
    {
     "name": "stderr",
     "output_type": "stream",
     "text": [
      " 39%|███▉      | 14/36 [00:52<01:27,  3.99s/it, avg_laplacian_term=90.1, avg_val_fro=38.3, avg_val_loss=128, avg_val_mae=5.17, batch_nb=12, epoch=10, tng_loss=195.368, v_nb=1]"
     ]
    },
    {
     "name": "stdout",
     "output_type": "stream",
     "text": [
      "G shape: torch.Size([8, 3476, 3476])\n",
      "t: tensor([ 24, 135,  95, 143,  53,  11, 116,  73]), batch_nb: 13\n"
     ]
    },
    {
     "name": "stderr",
     "output_type": "stream",
     "text": [
      " 42%|████▏     | 15/36 [00:56<01:24,  4.01s/it, avg_laplacian_term=90.1, avg_val_fro=38.3, avg_val_loss=128, avg_val_mae=5.17, batch_nb=13, epoch=10, tng_loss=195.045, v_nb=1]"
     ]
    },
    {
     "name": "stdout",
     "output_type": "stream",
     "text": [
      "G shape: torch.Size([8, 3476, 3476])\n",
      "t: tensor([ 49,  50,  77,  12, 126,  38,  23, 127]), batch_nb: 14\n"
     ]
    },
    {
     "name": "stderr",
     "output_type": "stream",
     "text": [
      " 44%|████▍     | 16/36 [01:01<01:21,  4.06s/it, avg_laplacian_term=90.1, avg_val_fro=38.3, avg_val_loss=128, avg_val_mae=5.17, batch_nb=14, epoch=10, tng_loss=194.705, v_nb=1]"
     ]
    },
    {
     "name": "stdout",
     "output_type": "stream",
     "text": [
      "G shape: torch.Size([8, 3476, 3476])\n",
      "t: tensor([ 58, 112,  94,  34,  32, 111, 102,  31]), batch_nb: 15\n"
     ]
    },
    {
     "name": "stderr",
     "output_type": "stream",
     "text": [
      " 47%|████▋     | 17/36 [01:05<01:16,  4.04s/it, avg_laplacian_term=90.1, avg_val_fro=38.3, avg_val_loss=128, avg_val_mae=5.17, batch_nb=15, epoch=10, tng_loss=194.693, v_nb=1]"
     ]
    },
    {
     "name": "stdout",
     "output_type": "stream",
     "text": [
      "G shape: torch.Size([8, 3476, 3476])\n",
      "t: tensor([108, 114,   9,  15, 119,  80,   2,  66]), batch_nb: 16\n"
     ]
    },
    {
     "name": "stderr",
     "output_type": "stream",
     "text": [
      "\r",
      " 47%|████▋     | 17/36 [01:08<01:16,  4.04s/it, avg_laplacian_term=90.1, avg_val_fro=38.3, avg_val_loss=128, avg_val_mae=5.17, batch_nb=16, epoch=10, tng_loss=194.640, v_nb=1]"
     ]
    },
    {
     "name": "stdout",
     "output_type": "stream",
     "text": [
      "G shape: torch.Size([8, 3476, 3476])\n",
      "t: tensor([ 87,  21, 120,  48, 121,   3, 101,  79]), batch_nb: 0\n"
     ]
    },
    {
     "name": "stderr",
     "output_type": "stream",
     "text": [
      "\r",
      " 50%|█████     | 18/36 [01:12<01:33,  5.19s/it, avg_laplacian_term=90.1, avg_val_fro=38.3, avg_val_loss=128, avg_val_mae=5.17, batch_nb=16, epoch=10, tng_loss=194.640, v_nb=1]"
     ]
    },
    {
     "name": "stdout",
     "output_type": "stream",
     "text": [
      "G shape: torch.Size([8, 3476, 3476])\n",
      "t: tensor([117,  30,  15,  65, 111, 141, 108,  38]), batch_nb: 1\n"
     ]
    },
    {
     "name": "stderr",
     "output_type": "stream",
     "text": [
      "\r",
      " 53%|█████▎    | 19/36 [01:16<01:21,  4.79s/it, avg_laplacian_term=90.1, avg_val_fro=38.3, avg_val_loss=128, avg_val_mae=5.17, batch_nb=16, epoch=10, tng_loss=194.640, v_nb=1]"
     ]
    },
    {
     "name": "stdout",
     "output_type": "stream",
     "text": [
      "G shape: torch.Size([8, 3476, 3476])\n",
      "t: tensor([ 60,  51, 140,  83,  49, 115,   2,   1]), batch_nb: 2\n"
     ]
    },
    {
     "name": "stderr",
     "output_type": "stream",
     "text": [
      "\r",
      " 56%|█████▌    | 20/36 [01:20<01:12,  4.56s/it, avg_laplacian_term=90.1, avg_val_fro=38.3, avg_val_loss=128, avg_val_mae=5.17, batch_nb=16, epoch=10, tng_loss=194.640, v_nb=1]"
     ]
    },
    {
     "name": "stdout",
     "output_type": "stream",
     "text": [
      "G shape: torch.Size([8, 3476, 3476])\n",
      "t: tensor([ 26,  98, 112,  74, 132,  23,  40,  63]), batch_nb: 3\n"
     ]
    },
    {
     "name": "stderr",
     "output_type": "stream",
     "text": [
      "\r",
      " 58%|█████▊    | 21/36 [01:24<01:05,  4.40s/it, avg_laplacian_term=90.1, avg_val_fro=38.3, avg_val_loss=128, avg_val_mae=5.17, batch_nb=16, epoch=10, tng_loss=194.640, v_nb=1]"
     ]
    },
    {
     "name": "stdout",
     "output_type": "stream",
     "text": [
      "G shape: torch.Size([8, 3476, 3476])\n",
      "t: tensor([ 11,  55, 129,  22,  82, 102,  13,  20]), batch_nb: 4\n"
     ]
    },
    {
     "name": "stderr",
     "output_type": "stream",
     "text": [
      "\r",
      " 61%|██████    | 22/36 [01:28<01:00,  4.32s/it, avg_laplacian_term=90.1, avg_val_fro=38.3, avg_val_loss=128, avg_val_mae=5.17, batch_nb=16, epoch=10, tng_loss=194.640, v_nb=1]"
     ]
    },
    {
     "name": "stdout",
     "output_type": "stream",
     "text": [
      "G shape: torch.Size([8, 3476, 3476])\n",
      "t: tensor([133,  88,  28,  24, 127,  91, 138,  58]), batch_nb: 5\n"
     ]
    },
    {
     "name": "stderr",
     "output_type": "stream",
     "text": [
      "\r",
      " 64%|██████▍   | 23/36 [01:32<00:54,  4.19s/it, avg_laplacian_term=90.1, avg_val_fro=38.3, avg_val_loss=128, avg_val_mae=5.17, batch_nb=16, epoch=10, tng_loss=194.640, v_nb=1]"
     ]
    },
    {
     "name": "stdout",
     "output_type": "stream",
     "text": [
      "G shape: torch.Size([8, 3476, 3476])\n",
      "t: tensor([ 14, 122,   0, 139,  69, 131,  90,  95]), batch_nb: 6\n"
     ]
    },
    {
     "name": "stderr",
     "output_type": "stream",
     "text": [
      "\r",
      " 67%|██████▋   | 24/36 [01:36<00:49,  4.14s/it, avg_laplacian_term=90.1, avg_val_fro=38.3, avg_val_loss=128, avg_val_mae=5.17, batch_nb=16, epoch=10, tng_loss=194.640, v_nb=1]"
     ]
    },
    {
     "name": "stdout",
     "output_type": "stream",
     "text": [
      "G shape: torch.Size([8, 3476, 3476])\n",
      "t: tensor([ 84, 137, 116, 110,  81, 142, 136,  97]), batch_nb: 7\n"
     ]
    },
    {
     "name": "stderr",
     "output_type": "stream",
     "text": [
      "\r",
      " 69%|██████▉   | 25/36 [01:40<00:45,  4.12s/it, avg_laplacian_term=90.1, avg_val_fro=38.3, avg_val_loss=128, avg_val_mae=5.17, batch_nb=16, epoch=10, tng_loss=194.640, v_nb=1]"
     ]
    },
    {
     "name": "stdout",
     "output_type": "stream",
     "text": [
      "G shape: torch.Size([8, 3476, 3476])\n",
      "t: tensor([ 77, 128,  32, 118,  25,  12, 104,   8]), batch_nb: 8\n"
     ]
    },
    {
     "name": "stderr",
     "output_type": "stream",
     "text": [
      "\r",
      " 72%|███████▏  | 26/36 [01:45<00:42,  4.23s/it, avg_laplacian_term=90.1, avg_val_fro=38.3, avg_val_loss=128, avg_val_mae=5.17, batch_nb=16, epoch=10, tng_loss=194.640, v_nb=1]"
     ]
    },
    {
     "name": "stdout",
     "output_type": "stream",
     "text": [
      "G shape: torch.Size([8, 3476, 3476])\n",
      "t: tensor([ 62, 126, 109,  57, 107,  61,   5, 135]), batch_nb: 9\n"
     ]
    },
    {
     "name": "stderr",
     "output_type": "stream",
     "text": [
      "\r",
      " 75%|███████▌  | 27/36 [01:50<00:39,  4.34s/it, avg_laplacian_term=90.1, avg_val_fro=38.3, avg_val_loss=128, avg_val_mae=5.17, batch_nb=16, epoch=10, tng_loss=194.640, v_nb=1]"
     ]
    },
    {
     "name": "stdout",
     "output_type": "stream",
     "text": [
      "G shape: torch.Size([8, 3476, 3476])\n",
      "t: tensor([114,  33,  10,  93,  99,   9,  27,  42]), batch_nb: 10\n"
     ]
    },
    {
     "name": "stderr",
     "output_type": "stream",
     "text": [
      "\r",
      " 78%|███████▊  | 28/36 [01:54<00:34,  4.28s/it, avg_laplacian_term=90.1, avg_val_fro=38.3, avg_val_loss=128, avg_val_mae=5.17, batch_nb=16, epoch=10, tng_loss=194.640, v_nb=1]"
     ]
    },
    {
     "name": "stdout",
     "output_type": "stream",
     "text": [
      "G shape: torch.Size([8, 3476, 3476])\n",
      "t: tensor([ 59,  16, 130,  47, 123,  80,  68, 103]), batch_nb: 11\n"
     ]
    },
    {
     "name": "stderr",
     "output_type": "stream",
     "text": [
      "\r",
      " 81%|████████  | 29/36 [01:59<00:32,  4.65s/it, avg_laplacian_term=90.1, avg_val_fro=38.3, avg_val_loss=128, avg_val_mae=5.17, batch_nb=16, epoch=10, tng_loss=194.640, v_nb=1]"
     ]
    },
    {
     "name": "stdout",
     "output_type": "stream",
     "text": [
      "G shape: torch.Size([8, 3476, 3476])\n",
      "t: tensor([ 76, 124,  67,  75,  41, 106,  39,  52]), batch_nb: 12\n"
     ]
    },
    {
     "name": "stderr",
     "output_type": "stream",
     "text": [
      "\r",
      " 83%|████████▎ | 30/36 [02:04<00:27,  4.59s/it, avg_laplacian_term=90.1, avg_val_fro=38.3, avg_val_loss=128, avg_val_mae=5.17, batch_nb=16, epoch=10, tng_loss=194.640, v_nb=1]"
     ]
    },
    {
     "name": "stdout",
     "output_type": "stream",
     "text": [
      "G shape: torch.Size([8, 3476, 3476])\n",
      "t: tensor([ 94,  86,  29, 119,   4,  34,  73,  64]), batch_nb: 13\n"
     ]
    },
    {
     "name": "stderr",
     "output_type": "stream",
     "text": [
      "\r",
      " 86%|████████▌ | 31/36 [02:09<00:24,  4.89s/it, avg_laplacian_term=90.1, avg_val_fro=38.3, avg_val_loss=128, avg_val_mae=5.17, batch_nb=16, epoch=10, tng_loss=194.640, v_nb=1]"
     ]
    },
    {
     "name": "stdout",
     "output_type": "stream",
     "text": [
      "G shape: torch.Size([8, 3476, 3476])\n",
      "t: tensor([ 18, 125,  17,  78,  19, 134,   6,  66]), batch_nb: 14\n"
     ]
    },
    {
     "name": "stderr",
     "output_type": "stream",
     "text": [
      "\r",
      " 89%|████████▉ | 32/36 [02:14<00:19,  4.77s/it, avg_laplacian_term=90.1, avg_val_fro=38.3, avg_val_loss=128, avg_val_mae=5.17, batch_nb=16, epoch=10, tng_loss=194.640, v_nb=1]"
     ]
    },
    {
     "name": "stdout",
     "output_type": "stream",
     "text": [
      "G shape: torch.Size([8, 3476, 3476])\n",
      "t: tensor([ 54, 100,  85,  96,  71,  46, 113, 143]), batch_nb: 15\n"
     ]
    },
    {
     "name": "stderr",
     "output_type": "stream",
     "text": [
      "\r",
      " 92%|█████████▏| 33/36 [02:18<00:13,  4.60s/it, avg_laplacian_term=90.1, avg_val_fro=38.3, avg_val_loss=128, avg_val_mae=5.17, batch_nb=16, epoch=10, tng_loss=194.640, v_nb=1]"
     ]
    },
    {
     "name": "stdout",
     "output_type": "stream",
     "text": [
      "G shape: torch.Size([8, 3476, 3476])\n",
      "t: tensor([45, 70, 37, 89, 36, 56, 43, 35]), batch_nb: 16\n"
     ]
    },
    {
     "name": "stderr",
     "output_type": "stream",
     "text": [
      "\r",
      " 94%|█████████▍| 34/36 [02:22<00:08,  4.45s/it, avg_laplacian_term=90.1, avg_val_fro=38.3, avg_val_loss=128, avg_val_mae=5.17, batch_nb=16, epoch=10, tng_loss=194.640, v_nb=1]"
     ]
    },
    {
     "name": "stdout",
     "output_type": "stream",
     "text": [
      "G shape: torch.Size([8, 3476, 3476])\n",
      "t: tensor([105,  53,   7,  92,  31,  44,  72,  50]), batch_nb: 17\n"
     ]
    },
    {
     "name": "stderr",
     "output_type": "stream",
     "text": [
      "100%|██████████| 36/36 [02:28<00:00,  3.38s/it, avg_laplacian_term=88.9, avg_val_fro=38, avg_val_loss=127, avg_val_mae=5.14, batch_nb=16, epoch=10, tng_loss=194.640, v_nb=1]  "
     ]
    },
    {
     "name": "stdout",
     "output_type": "stream",
     "text": [
      "G shape: torch.Size([8, 3476, 3476])\n",
      "t: tensor([128,  93, 105,  51,  64,  83, 117, 107]), batch_nb: 17\n"
     ]
    },
    {
     "name": "stderr",
     "output_type": "stream",
     "text": [
      "  3%|▎         | 1/36 [00:00<00:15,  2.24it/s], avg_laplacian_term=88.9, avg_val_fro=38, avg_val_loss=127, avg_val_mae=5.14, batch_nb=17, epoch=10, tng_loss=194.539, v_nb=1]"
     ]
    },
    {
     "name": "stdout",
     "output_type": "stream",
     "text": [
      "G shape: torch.Size([8, 3476, 3476])\n",
      "t: tensor([110,  79,  25,  68, 103, 139, 115,  26]), batch_nb: 0\n"
     ]
    },
    {
     "name": "stderr",
     "output_type": "stream",
     "text": [
      "  6%|▌         | 2/36 [00:04<00:50,  1.47s/it, avg_laplacian_term=88.9, avg_val_fro=38, avg_val_loss=127, avg_val_mae=5.14, batch_nb=0, epoch=11, tng_loss=194.511, v_nb=1]"
     ]
    },
    {
     "name": "stdout",
     "output_type": "stream",
     "text": [
      "G shape: torch.Size([8, 3476, 3476])\n",
      "t: tensor([ 74, 104,  39,   7, 117,  94,  33,  72]), batch_nb: 1\n"
     ]
    },
    {
     "name": "stderr",
     "output_type": "stream",
     "text": [
      "  8%|▊         | 3/36 [00:08<01:15,  2.29s/it, avg_laplacian_term=88.9, avg_val_fro=38, avg_val_loss=127, avg_val_mae=5.14, batch_nb=1, epoch=11, tng_loss=194.458, v_nb=1]"
     ]
    },
    {
     "name": "stdout",
     "output_type": "stream",
     "text": [
      "G shape: torch.Size([8, 3476, 3476])\n",
      "t: tensor([108,  69,  77, 140,  13,  41,   8, 137]), batch_nb: 2\n"
     ]
    },
    {
     "name": "stderr",
     "output_type": "stream",
     "text": [
      " 11%|█         | 4/36 [00:12<01:33,  2.93s/it, avg_laplacian_term=88.9, avg_val_fro=38, avg_val_loss=127, avg_val_mae=5.14, batch_nb=2, epoch=11, tng_loss=194.660, v_nb=1]"
     ]
    },
    {
     "name": "stdout",
     "output_type": "stream",
     "text": [
      "G shape: torch.Size([8, 3476, 3476])\n",
      "t: tensor([19, 88, 22, 60, 80, 32,  2, 83]), batch_nb: 3\n"
     ]
    },
    {
     "name": "stderr",
     "output_type": "stream",
     "text": [
      " 14%|█▍        | 5/36 [00:16<01:40,  3.24s/it, avg_laplacian_term=88.9, avg_val_fro=38, avg_val_loss=127, avg_val_mae=5.14, batch_nb=3, epoch=11, tng_loss=194.596, v_nb=1]"
     ]
    },
    {
     "name": "stdout",
     "output_type": "stream",
     "text": [
      "G shape: torch.Size([8, 3476, 3476])\n",
      "t: tensor([135,  40,  23,  81, 111,  38,  35, 102]), batch_nb: 4\n"
     ]
    },
    {
     "name": "stderr",
     "output_type": "stream",
     "text": [
      " 17%|█▋        | 6/36 [00:20<01:44,  3.48s/it, avg_laplacian_term=88.9, avg_val_fro=38, avg_val_loss=127, avg_val_mae=5.14, batch_nb=4, epoch=11, tng_loss=194.401, v_nb=1]"
     ]
    },
    {
     "name": "stdout",
     "output_type": "stream",
     "text": [
      "G shape: torch.Size([8, 3476, 3476])\n",
      "t: tensor([ 62,  17,  31,  49,  29, 136, 138,  85]), batch_nb: 5\n"
     ]
    },
    {
     "name": "stderr",
     "output_type": "stream",
     "text": [
      " 19%|█▉        | 7/36 [00:25<01:46,  3.69s/it, avg_laplacian_term=88.9, avg_val_fro=38, avg_val_loss=127, avg_val_mae=5.14, batch_nb=5, epoch=11, tng_loss=194.225, v_nb=1]"
     ]
    },
    {
     "name": "stdout",
     "output_type": "stream",
     "text": [
      "G shape: torch.Size([8, 3476, 3476])\n",
      "t: tensor([101, 107, 109,  89, 142, 141,  10,  16]), batch_nb: 6\n"
     ]
    },
    {
     "name": "stderr",
     "output_type": "stream",
     "text": [
      " 22%|██▏       | 8/36 [00:29<01:48,  3.86s/it, avg_laplacian_term=88.9, avg_val_fro=38, avg_val_loss=127, avg_val_mae=5.14, batch_nb=6, epoch=11, tng_loss=194.326, v_nb=1]"
     ]
    },
    {
     "name": "stdout",
     "output_type": "stream",
     "text": [
      "G shape: torch.Size([8, 3476, 3476])\n",
      "t: tensor([127,  12,  63, 106,  87,  96, 114, 134]), batch_nb: 7\n"
     ]
    },
    {
     "name": "stderr",
     "output_type": "stream",
     "text": [
      " 25%|██▌       | 9/36 [00:33<01:47,  3.97s/it, avg_laplacian_term=88.9, avg_val_fro=38, avg_val_loss=127, avg_val_mae=5.14, batch_nb=7, epoch=11, tng_loss=194.155, v_nb=1]"
     ]
    },
    {
     "name": "stdout",
     "output_type": "stream",
     "text": [
      "G shape: torch.Size([8, 3476, 3476])\n",
      "t: tensor([  5,  65,  99,  53, 124,  64,  97, 126]), batch_nb: 8\n"
     ]
    },
    {
     "name": "stderr",
     "output_type": "stream",
     "text": [
      " 28%|██▊       | 10/36 [00:37<01:42,  3.94s/it, avg_laplacian_term=88.9, avg_val_fro=38, avg_val_loss=127, avg_val_mae=5.14, batch_nb=8, epoch=11, tng_loss=193.991, v_nb=1]"
     ]
    },
    {
     "name": "stdout",
     "output_type": "stream",
     "text": [
      "G shape: torch.Size([8, 3476, 3476])\n",
      "t: tensor([123,   1,   9, 130,  57, 122,  43, 133]), batch_nb: 9\n"
     ]
    },
    {
     "name": "stderr",
     "output_type": "stream",
     "text": [
      " 31%|███       | 11/36 [00:41<01:41,  4.06s/it, avg_laplacian_term=88.9, avg_val_fro=38, avg_val_loss=127, avg_val_mae=5.14, batch_nb=9, epoch=11, tng_loss=193.707, v_nb=1]"
     ]
    },
    {
     "name": "stdout",
     "output_type": "stream",
     "text": [
      "G shape: torch.Size([8, 3476, 3476])\n",
      "t: tensor([18, 73,  6, 50, 67, 52, 11, 54]), batch_nb: 10\n"
     ]
    },
    {
     "name": "stderr",
     "output_type": "stream",
     "text": [
      " 33%|███▎      | 12/36 [00:45<01:33,  3.92s/it, avg_laplacian_term=88.9, avg_val_fro=38, avg_val_loss=127, avg_val_mae=5.14, batch_nb=10, epoch=11, tng_loss=193.636, v_nb=1]"
     ]
    },
    {
     "name": "stdout",
     "output_type": "stream",
     "text": [
      "G shape: torch.Size([8, 3476, 3476])\n",
      "t: tensor([84, 55, 20, 24, 47,  0, 28, 36]), batch_nb: 11\n"
     ]
    },
    {
     "name": "stderr",
     "output_type": "stream",
     "text": [
      " 36%|███▌      | 13/36 [00:49<01:30,  3.92s/it, avg_laplacian_term=88.9, avg_val_fro=38, avg_val_loss=127, avg_val_mae=5.14, batch_nb=11, epoch=11, tng_loss=193.455, v_nb=1]"
     ]
    },
    {
     "name": "stdout",
     "output_type": "stream",
     "text": [
      "G shape: torch.Size([8, 3476, 3476])\n",
      "t: tensor([116,  56,  15,  92,  48, 121,  95,  59]), batch_nb: 12\n"
     ]
    },
    {
     "name": "stderr",
     "output_type": "stream",
     "text": [
      " 39%|███▉      | 14/36 [00:53<01:26,  3.93s/it, avg_laplacian_term=88.9, avg_val_fro=38, avg_val_loss=127, avg_val_mae=5.14, batch_nb=12, epoch=11, tng_loss=193.467, v_nb=1]"
     ]
    },
    {
     "name": "stdout",
     "output_type": "stream",
     "text": [
      "G shape: torch.Size([8, 3476, 3476])\n",
      "t: tensor([ 45, 132,  76,  71,  75, 128,  30,  27]), batch_nb: 13\n"
     ]
    },
    {
     "name": "stderr",
     "output_type": "stream",
     "text": [
      " 42%|████▏     | 15/36 [00:57<01:23,  3.96s/it, avg_laplacian_term=88.9, avg_val_fro=38, avg_val_loss=127, avg_val_mae=5.14, batch_nb=13, epoch=11, tng_loss=193.064, v_nb=1]"
     ]
    },
    {
     "name": "stdout",
     "output_type": "stream",
     "text": [
      "G shape: torch.Size([8, 3476, 3476])\n",
      "t: tensor([ 91,  44, 113, 129, 143, 105,  58,  21]), batch_nb: 14\n"
     ]
    },
    {
     "name": "stderr",
     "output_type": "stream",
     "text": [
      " 44%|████▍     | 16/36 [01:01<01:21,  4.07s/it, avg_laplacian_term=88.9, avg_val_fro=38, avg_val_loss=127, avg_val_mae=5.14, batch_nb=14, epoch=11, tng_loss=193.151, v_nb=1]"
     ]
    },
    {
     "name": "stdout",
     "output_type": "stream",
     "text": [
      "G shape: torch.Size([8, 3476, 3476])\n",
      "t: tensor([ 86,  93,   4, 100, 112,  66, 131,  34]), batch_nb: 15\n"
     ]
    },
    {
     "name": "stderr",
     "output_type": "stream",
     "text": [
      " 47%|████▋     | 17/36 [01:05<01:17,  4.07s/it, avg_laplacian_term=88.9, avg_val_fro=38, avg_val_loss=127, avg_val_mae=5.14, batch_nb=15, epoch=11, tng_loss=192.976, v_nb=1]"
     ]
    },
    {
     "name": "stdout",
     "output_type": "stream",
     "text": [
      "G shape: torch.Size([8, 3476, 3476])\n",
      "t: tensor([ 82,   3,  78, 119,  98,  37,  70, 125]), batch_nb: 16\n"
     ]
    },
    {
     "name": "stderr",
     "output_type": "stream",
     "text": [
      "\r",
      " 47%|████▋     | 17/36 [01:09<01:17,  4.07s/it, avg_laplacian_term=88.9, avg_val_fro=38, avg_val_loss=127, avg_val_mae=5.14, batch_nb=16, epoch=11, tng_loss=192.774, v_nb=1]"
     ]
    },
    {
     "name": "stdout",
     "output_type": "stream",
     "text": [
      "G shape: torch.Size([8, 3476, 3476])\n",
      "t: tensor([ 80,  82, 129,  26,   5,  24,  67, 118]), batch_nb: 0\n"
     ]
    },
    {
     "name": "stderr",
     "output_type": "stream",
     "text": [
      "\r",
      " 50%|█████     | 18/36 [01:13<01:35,  5.30s/it, avg_laplacian_term=88.9, avg_val_fro=38, avg_val_loss=127, avg_val_mae=5.14, batch_nb=16, epoch=11, tng_loss=192.774, v_nb=1]"
     ]
    },
    {
     "name": "stdout",
     "output_type": "stream",
     "text": [
      "G shape: torch.Size([8, 3476, 3476])\n",
      "t: tensor([  6, 135,   1,  53,  18,  14, 114, 133]), batch_nb: 1\n"
     ]
    },
    {
     "name": "stderr",
     "output_type": "stream",
     "text": [
      "\r",
      " 53%|█████▎    | 19/36 [01:18<01:24,  4.96s/it, avg_laplacian_term=88.9, avg_val_fro=38, avg_val_loss=127, avg_val_mae=5.14, batch_nb=16, epoch=11, tng_loss=192.774, v_nb=1]"
     ]
    },
    {
     "name": "stdout",
     "output_type": "stream",
     "text": [
      "G shape: torch.Size([8, 3476, 3476])\n",
      "t: tensor([ 72,   4, 127,  73,  22, 112,  59,  87]), batch_nb: 2\n"
     ]
    },
    {
     "name": "stderr",
     "output_type": "stream",
     "text": [
      "\r",
      " 56%|█████▌    | 20/36 [01:22<01:15,  4.72s/it, avg_laplacian_term=88.9, avg_val_fro=38, avg_val_loss=127, avg_val_mae=5.14, batch_nb=16, epoch=11, tng_loss=192.774, v_nb=1]"
     ]
    },
    {
     "name": "stdout",
     "output_type": "stream",
     "text": [
      "G shape: torch.Size([8, 3476, 3476])\n",
      "t: tensor([ 88,  23,  38,  27, 139, 123,  20,  69]), batch_nb: 3\n"
     ]
    },
    {
     "name": "stderr",
     "output_type": "stream",
     "text": [
      "\r",
      " 58%|█████▊    | 21/36 [01:25<01:05,  4.39s/it, avg_laplacian_term=88.9, avg_val_fro=38, avg_val_loss=127, avg_val_mae=5.14, batch_nb=16, epoch=11, tng_loss=192.774, v_nb=1]"
     ]
    },
    {
     "name": "stdout",
     "output_type": "stream",
     "text": [
      "G shape: torch.Size([8, 3476, 3476])\n",
      "t: tensor([109,  19,  13, 110,  47,  97,  92,  65]), batch_nb: 4\n"
     ]
    },
    {
     "name": "stderr",
     "output_type": "stream",
     "text": [
      "\r",
      " 61%|██████    | 22/36 [01:29<00:59,  4.24s/it, avg_laplacian_term=88.9, avg_val_fro=38, avg_val_loss=127, avg_val_mae=5.14, batch_nb=16, epoch=11, tng_loss=192.774, v_nb=1]"
     ]
    },
    {
     "name": "stdout",
     "output_type": "stream",
     "text": [
      "G shape: torch.Size([8, 3476, 3476])\n",
      "t: tensor([ 86,  66, 111,  17,   3,  16,   7,  40]), batch_nb: 5\n"
     ]
    },
    {
     "name": "stderr",
     "output_type": "stream",
     "text": [
      "\r",
      " 64%|██████▍   | 23/36 [01:33<00:54,  4.16s/it, avg_laplacian_term=88.9, avg_val_fro=38, avg_val_loss=127, avg_val_mae=5.14, batch_nb=16, epoch=11, tng_loss=192.774, v_nb=1]"
     ]
    },
    {
     "name": "stdout",
     "output_type": "stream",
     "text": [
      "G shape: torch.Size([8, 3476, 3476])\n",
      "t: tensor([ 42,  28, 130,  58,  48,  81, 105,  90]), batch_nb: 6\n"
     ]
    },
    {
     "name": "stderr",
     "output_type": "stream",
     "text": [
      "\r",
      " 67%|██████▋   | 24/36 [01:37<00:48,  4.06s/it, avg_laplacian_term=88.9, avg_val_fro=38, avg_val_loss=127, avg_val_mae=5.14, batch_nb=16, epoch=11, tng_loss=192.774, v_nb=1]"
     ]
    },
    {
     "name": "stdout",
     "output_type": "stream",
     "text": [
      "G shape: torch.Size([8, 3476, 3476])\n",
      "t: tensor([ 45,  56,  70, 117,  60,  31,  85,  71]), batch_nb: 7\n"
     ]
    },
    {
     "name": "stderr",
     "output_type": "stream",
     "text": [
      "\r",
      " 69%|██████▉   | 25/36 [01:41<00:44,  4.08s/it, avg_laplacian_term=88.9, avg_val_fro=38, avg_val_loss=127, avg_val_mae=5.14, batch_nb=16, epoch=11, tng_loss=192.774, v_nb=1]"
     ]
    },
    {
     "name": "stdout",
     "output_type": "stream",
     "text": [
      "G shape: torch.Size([8, 3476, 3476])\n",
      "t: tensor([ 63,  96,  51, 106,  95,  49, 143,  12]), batch_nb: 8\n"
     ]
    },
    {
     "name": "stderr",
     "output_type": "stream",
     "text": [
      "\r",
      " 72%|███████▏  | 26/36 [01:45<00:40,  4.03s/it, avg_laplacian_term=88.9, avg_val_fro=38, avg_val_loss=127, avg_val_mae=5.14, batch_nb=16, epoch=11, tng_loss=192.774, v_nb=1]"
     ]
    },
    {
     "name": "stdout",
     "output_type": "stream",
     "text": [
      "G shape: torch.Size([8, 3476, 3476])\n",
      "t: tensor([  8,  32,  89, 132,  29,  43,  57, 120]), batch_nb: 9\n"
     ]
    },
    {
     "name": "stderr",
     "output_type": "stream",
     "text": [
      "\r",
      " 75%|███████▌  | 27/36 [01:49<00:36,  4.09s/it, avg_laplacian_term=88.9, avg_val_fro=38, avg_val_loss=127, avg_val_mae=5.14, batch_nb=16, epoch=11, tng_loss=192.774, v_nb=1]"
     ]
    },
    {
     "name": "stdout",
     "output_type": "stream",
     "text": [
      "G shape: torch.Size([8, 3476, 3476])\n",
      "t: tensor([121, 101,  68,  98, 103, 116,  79,  41]), batch_nb: 10\n"
     ]
    },
    {
     "name": "stderr",
     "output_type": "stream",
     "text": [
      "\r",
      " 78%|███████▊  | 28/36 [01:53<00:32,  4.00s/it, avg_laplacian_term=88.9, avg_val_fro=38, avg_val_loss=127, avg_val_mae=5.14, batch_nb=16, epoch=11, tng_loss=192.774, v_nb=1]"
     ]
    },
    {
     "name": "stdout",
     "output_type": "stream",
     "text": [
      "G shape: torch.Size([8, 3476, 3476])\n",
      "t: tensor([  0, 136, 128,  64, 124, 134, 102,  99]), batch_nb: 11\n"
     ]
    },
    {
     "name": "stderr",
     "output_type": "stream",
     "text": [
      "\r",
      " 81%|████████  | 29/36 [01:57<00:27,  3.98s/it, avg_laplacian_term=88.9, avg_val_fro=38, avg_val_loss=127, avg_val_mae=5.14, batch_nb=16, epoch=11, tng_loss=192.774, v_nb=1]"
     ]
    },
    {
     "name": "stdout",
     "output_type": "stream",
     "text": [
      "G shape: torch.Size([8, 3476, 3476])\n",
      "t: tensor([ 30, 104, 142,  83,  36,  93,  11,  52]), batch_nb: 12\n"
     ]
    },
    {
     "name": "stderr",
     "output_type": "stream",
     "text": [
      "\r",
      " 83%|████████▎ | 30/36 [02:01<00:23,  3.93s/it, avg_laplacian_term=88.9, avg_val_fro=38, avg_val_loss=127, avg_val_mae=5.14, batch_nb=16, epoch=11, tng_loss=192.774, v_nb=1]"
     ]
    },
    {
     "name": "stdout",
     "output_type": "stream",
     "text": [
      "G shape: torch.Size([8, 3476, 3476])\n",
      "t: tensor([119,  44, 100, 122,  33,  35, 138, 140]), batch_nb: 13\n"
     ]
    },
    {
     "name": "stderr",
     "output_type": "stream",
     "text": [
      "\r",
      " 86%|████████▌ | 31/36 [02:05<00:20,  4.03s/it, avg_laplacian_term=88.9, avg_val_fro=38, avg_val_loss=127, avg_val_mae=5.14, batch_nb=16, epoch=11, tng_loss=192.774, v_nb=1]"
     ]
    },
    {
     "name": "stdout",
     "output_type": "stream",
     "text": [
      "G shape: torch.Size([8, 3476, 3476])\n",
      "t: tensor([ 76,  61, 108,  91,  46, 126, 107, 137]), batch_nb: 14\n"
     ]
    },
    {
     "name": "stderr",
     "output_type": "stream",
     "text": [
      "\r",
      " 89%|████████▉ | 32/36 [02:09<00:16,  4.03s/it, avg_laplacian_term=88.9, avg_val_fro=38, avg_val_loss=127, avg_val_mae=5.14, batch_nb=16, epoch=11, tng_loss=192.774, v_nb=1]"
     ]
    },
    {
     "name": "stdout",
     "output_type": "stream",
     "text": [
      "G shape: torch.Size([8, 3476, 3476])\n",
      "t: tensor([ 50,  34, 125, 115,  75,  10,  55, 131]), batch_nb: 15\n"
     ]
    },
    {
     "name": "stderr",
     "output_type": "stream",
     "text": [
      "\r",
      " 92%|█████████▏| 33/36 [02:13<00:12,  4.00s/it, avg_laplacian_term=88.9, avg_val_fro=38, avg_val_loss=127, avg_val_mae=5.14, batch_nb=16, epoch=11, tng_loss=192.774, v_nb=1]"
     ]
    },
    {
     "name": "stdout",
     "output_type": "stream",
     "text": [
      "G shape: torch.Size([8, 3476, 3476])\n",
      "t: tensor([ 2, 39, 25, 94, 78, 62, 77, 74]), batch_nb: 16\n"
     ]
    },
    {
     "name": "stderr",
     "output_type": "stream",
     "text": [
      "\r",
      " 94%|█████████▍| 34/36 [02:17<00:07,  3.84s/it, avg_laplacian_term=88.9, avg_val_fro=38, avg_val_loss=127, avg_val_mae=5.14, batch_nb=16, epoch=11, tng_loss=192.774, v_nb=1]"
     ]
    },
    {
     "name": "stdout",
     "output_type": "stream",
     "text": [
      "G shape: torch.Size([8, 3476, 3476])\n",
      "t: tensor([113,  21,   9,  54,  15,  37,  84, 141]), batch_nb: 17\n"
     ]
    },
    {
     "name": "stderr",
     "output_type": "stream",
     "text": [
      "100%|██████████| 36/36 [02:21<00:00,  2.88s/it, avg_laplacian_term=87.8, avg_val_fro=37.8, avg_val_loss=126, avg_val_mae=5.12, batch_nb=16, epoch=11, tng_loss=192.774, v_nb=1]"
     ]
    },
    {
     "name": "stdout",
     "output_type": "stream",
     "text": [
      "G shape: torch.Size([8, 3476, 3476])\n",
      "t: tensor([ 51,  42,  46,  90, 118,  61, 120,  14]), batch_nb: 17\n"
     ]
    },
    {
     "name": "stderr",
     "output_type": "stream",
     "text": [
      "  3%|▎         | 1/36 [00:00<00:15,  2.20it/s], avg_laplacian_term=87.8, avg_val_fro=37.8, avg_val_loss=126, avg_val_mae=5.12, batch_nb=17, epoch=11, tng_loss=192.681, v_nb=1]"
     ]
    },
    {
     "name": "stdout",
     "output_type": "stream",
     "text": [
      "G shape: torch.Size([8, 3476, 3476])\n",
      "t: tensor([133,  72,  85,  24, 108,  92, 138,  97]), batch_nb: 0\n"
     ]
    },
    {
     "name": "stderr",
     "output_type": "stream",
     "text": [
      "  6%|▌         | 2/36 [00:04<00:52,  1.54s/it, avg_laplacian_term=87.8, avg_val_fro=37.8, avg_val_loss=126, avg_val_mae=5.12, batch_nb=0, epoch=12, tng_loss=192.292, v_nb=1]"
     ]
    },
    {
     "name": "stdout",
     "output_type": "stream",
     "text": [
      "G shape: torch.Size([8, 3476, 3476])\n",
      "t: tensor([ 60,  89, 105,  66,  80,  23, 116,  79]), batch_nb: 1\n"
     ]
    },
    {
     "name": "stderr",
     "output_type": "stream",
     "text": [
      "  8%|▊         | 3/36 [00:08<01:15,  2.28s/it, avg_laplacian_term=87.8, avg_val_fro=37.8, avg_val_loss=126, avg_val_mae=5.12, batch_nb=1, epoch=12, tng_loss=192.322, v_nb=1]"
     ]
    },
    {
     "name": "stdout",
     "output_type": "stream",
     "text": [
      "G shape: torch.Size([8, 3476, 3476])\n",
      "t: tensor([ 90,  41, 102,  28,  58,  11,  86, 119]), batch_nb: 2\n"
     ]
    },
    {
     "name": "stderr",
     "output_type": "stream",
     "text": [
      " 11%|█         | 4/36 [00:13<01:37,  3.05s/it, avg_laplacian_term=87.8, avg_val_fro=37.8, avg_val_loss=126, avg_val_mae=5.12, batch_nb=2, epoch=12, tng_loss=192.245, v_nb=1]"
     ]
    },
    {
     "name": "stdout",
     "output_type": "stream",
     "text": [
      "G shape: torch.Size([8, 3476, 3476])\n",
      "t: tensor([ 19,  69,  82, 140,  25, 121,  37,  44]), batch_nb: 3\n"
     ]
    },
    {
     "name": "stderr",
     "output_type": "stream",
     "text": [
      " 14%|█▍        | 5/36 [00:17<01:44,  3.36s/it, avg_laplacian_term=87.8, avg_val_fro=37.8, avg_val_loss=126, avg_val_mae=5.12, batch_nb=3, epoch=12, tng_loss=192.109, v_nb=1]"
     ]
    },
    {
     "name": "stdout",
     "output_type": "stream",
     "text": [
      "G shape: torch.Size([8, 3476, 3476])\n",
      "t: tensor([ 81,  53,  32,  54,  40, 143,  91, 136]), batch_nb: 4\n"
     ]
    },
    {
     "name": "stderr",
     "output_type": "stream",
     "text": [
      " 17%|█▋        | 6/36 [00:21<01:46,  3.54s/it, avg_laplacian_term=87.8, avg_val_fro=37.8, avg_val_loss=126, avg_val_mae=5.12, batch_nb=4, epoch=12, tng_loss=192.144, v_nb=1]"
     ]
    },
    {
     "name": "stdout",
     "output_type": "stream",
     "text": [
      "G shape: torch.Size([8, 3476, 3476])\n",
      "t: tensor([ 14, 128,  15,  46,  88,  27,  67,  55]), batch_nb: 5\n"
     ]
    },
    {
     "name": "stderr",
     "output_type": "stream",
     "text": [
      " 19%|█▉        | 7/36 [00:25<01:48,  3.74s/it, avg_laplacian_term=87.8, avg_val_fro=37.8, avg_val_loss=126, avg_val_mae=5.12, batch_nb=5, epoch=12, tng_loss=192.147, v_nb=1]"
     ]
    },
    {
     "name": "stdout",
     "output_type": "stream",
     "text": [
      "G shape: torch.Size([8, 3476, 3476])\n",
      "t: tensor([ 13,  38,  61,  12, 125, 110,   9,   1]), batch_nb: 6\n"
     ]
    },
    {
     "name": "stderr",
     "output_type": "stream",
     "text": [
      " 22%|██▏       | 8/36 [00:29<01:49,  3.90s/it, avg_laplacian_term=87.8, avg_val_fro=37.8, avg_val_loss=126, avg_val_mae=5.12, batch_nb=6, epoch=12, tng_loss=192.127, v_nb=1]"
     ]
    },
    {
     "name": "stdout",
     "output_type": "stream",
     "text": [
      "G shape: torch.Size([8, 3476, 3476])\n",
      "t: tensor([ 35,  75,  17,  18,  56,   2, 103, 112]), batch_nb: 7\n"
     ]
    },
    {
     "name": "stderr",
     "output_type": "stream",
     "text": [
      " 25%|██▌       | 9/36 [00:33<01:44,  3.89s/it, avg_laplacian_term=87.8, avg_val_fro=37.8, avg_val_loss=126, avg_val_mae=5.12, batch_nb=7, epoch=12, tng_loss=192.022, v_nb=1]"
     ]
    },
    {
     "name": "stdout",
     "output_type": "stream",
     "text": [
      "G shape: torch.Size([8, 3476, 3476])\n",
      "t: tensor([ 96,  49,   4,  57,  74, 117, 141,  16]), batch_nb: 8\n"
     ]
    },
    {
     "name": "stderr",
     "output_type": "stream",
     "text": [
      " 28%|██▊       | 10/36 [00:37<01:41,  3.90s/it, avg_laplacian_term=87.8, avg_val_fro=37.8, avg_val_loss=126, avg_val_mae=5.12, batch_nb=8, epoch=12, tng_loss=191.779, v_nb=1]"
     ]
    },
    {
     "name": "stdout",
     "output_type": "stream",
     "text": [
      "G shape: torch.Size([8, 3476, 3476])\n",
      "t: tensor([ 76, 129,   5, 123, 100, 132, 137, 109]), batch_nb: 9\n"
     ]
    },
    {
     "name": "stderr",
     "output_type": "stream",
     "text": [
      " 31%|███       | 11/36 [00:41<01:38,  3.95s/it, avg_laplacian_term=87.8, avg_val_fro=37.8, avg_val_loss=126, avg_val_mae=5.12, batch_nb=9, epoch=12, tng_loss=191.750, v_nb=1]"
     ]
    },
    {
     "name": "stdout",
     "output_type": "stream",
     "text": [
      "G shape: torch.Size([8, 3476, 3476])\n",
      "t: tensor([  6,  84,  50,  52,   8, 106,  45, 107]), batch_nb: 10\n"
     ]
    },
    {
     "name": "stderr",
     "output_type": "stream",
     "text": [
      " 33%|███▎      | 12/36 [00:45<01:32,  3.84s/it, avg_laplacian_term=87.8, avg_val_fro=37.8, avg_val_loss=126, avg_val_mae=5.12, batch_nb=10, epoch=12, tng_loss=191.614, v_nb=1]"
     ]
    },
    {
     "name": "stdout",
     "output_type": "stream",
     "text": [
      "G shape: torch.Size([8, 3476, 3476])\n",
      "t: tensor([ 71,  21,  10,  63, 118,  59,  51, 104]), batch_nb: 11\n"
     ]
    },
    {
     "name": "stderr",
     "output_type": "stream",
     "text": [
      " 36%|███▌      | 13/36 [00:48<01:26,  3.77s/it, avg_laplacian_term=87.8, avg_val_fro=37.8, avg_val_loss=126, avg_val_mae=5.12, batch_nb=11, epoch=12, tng_loss=191.467, v_nb=1]"
     ]
    },
    {
     "name": "stdout",
     "output_type": "stream",
     "text": [
      "G shape: torch.Size([8, 3476, 3476])\n",
      "t: tensor([ 64, 126, 135,  20, 120,  78,  48,  68]), batch_nb: 12\n"
     ]
    },
    {
     "name": "stderr",
     "output_type": "stream",
     "text": [
      " 39%|███▉      | 14/36 [00:52<01:23,  3.81s/it, avg_laplacian_term=87.8, avg_val_fro=37.8, avg_val_loss=126, avg_val_mae=5.12, batch_nb=12, epoch=12, tng_loss=191.499, v_nb=1]"
     ]
    },
    {
     "name": "stdout",
     "output_type": "stream",
     "text": [
      "G shape: torch.Size([8, 3476, 3476])\n",
      "t: tensor([ 77,  31, 114,  83, 115,  87,  36,  95]), batch_nb: 13\n"
     ]
    },
    {
     "name": "stderr",
     "output_type": "stream",
     "text": [
      " 42%|████▏     | 15/36 [00:56<01:21,  3.86s/it, avg_laplacian_term=87.8, avg_val_fro=37.8, avg_val_loss=126, avg_val_mae=5.12, batch_nb=13, epoch=12, tng_loss=191.562, v_nb=1]"
     ]
    },
    {
     "name": "stdout",
     "output_type": "stream",
     "text": [
      "G shape: torch.Size([8, 3476, 3476])\n",
      "t: tensor([ 99,  62, 124,  94,  73,  43,  29, 113]), batch_nb: 14\n"
     ]
    },
    {
     "name": "stderr",
     "output_type": "stream",
     "text": [
      " 44%|████▍     | 16/36 [01:00<01:18,  3.90s/it, avg_laplacian_term=87.8, avg_val_fro=37.8, avg_val_loss=126, avg_val_mae=5.12, batch_nb=14, epoch=12, tng_loss=191.290, v_nb=1]"
     ]
    },
    {
     "name": "stdout",
     "output_type": "stream",
     "text": [
      "G shape: torch.Size([8, 3476, 3476])\n",
      "t: tensor([ 26,  22,  70, 111,  39,  42,  98,   3]), batch_nb: 15\n"
     ]
    },
    {
     "name": "stderr",
     "output_type": "stream",
     "text": [
      " 47%|████▋     | 17/36 [01:04<01:14,  3.92s/it, avg_laplacian_term=87.8, avg_val_fro=37.8, avg_val_loss=126, avg_val_mae=5.12, batch_nb=15, epoch=12, tng_loss=190.965, v_nb=1]"
     ]
    },
    {
     "name": "stdout",
     "output_type": "stream",
     "text": [
      "G shape: torch.Size([8, 3476, 3476])\n",
      "t: tensor([139,  65,   7, 142,  30, 134, 101, 130]), batch_nb: 16\n"
     ]
    },
    {
     "name": "stderr",
     "output_type": "stream",
     "text": [
      "\r",
      " 47%|████▋     | 17/36 [01:08<01:14,  3.92s/it, avg_laplacian_term=87.8, avg_val_fro=37.8, avg_val_loss=126, avg_val_mae=5.12, batch_nb=16, epoch=12, tng_loss=190.997, v_nb=1]"
     ]
    },
    {
     "name": "stdout",
     "output_type": "stream",
     "text": [
      "G shape: torch.Size([8, 3476, 3476])\n",
      "t: tensor([ 42,  66, 110,  79,  29,  59,  50,  97]), batch_nb: 0\n"
     ]
    },
    {
     "name": "stderr",
     "output_type": "stream",
     "text": [
      "\r",
      " 50%|█████     | 18/36 [01:12<01:30,  5.04s/it, avg_laplacian_term=87.8, avg_val_fro=37.8, avg_val_loss=126, avg_val_mae=5.12, batch_nb=16, epoch=12, tng_loss=190.997, v_nb=1]"
     ]
    },
    {
     "name": "stdout",
     "output_type": "stream",
     "text": [
      "G shape: torch.Size([8, 3476, 3476])\n",
      "t: tensor([ 31,  60, 113,  71,  57,  44,  95, 143]), batch_nb: 1\n"
     ]
    },
    {
     "name": "stderr",
     "output_type": "stream",
     "text": [
      "\r",
      " 53%|█████▎    | 19/36 [01:16<01:20,  4.71s/it, avg_laplacian_term=87.8, avg_val_fro=37.8, avg_val_loss=126, avg_val_mae=5.12, batch_nb=16, epoch=12, tng_loss=190.997, v_nb=1]"
     ]
    },
    {
     "name": "stdout",
     "output_type": "stream",
     "text": [
      "G shape: torch.Size([8, 3476, 3476])\n",
      "t: tensor([106, 100, 104,  76,  98,  33,  24,   3]), batch_nb: 2\n"
     ]
    },
    {
     "name": "stderr",
     "output_type": "stream",
     "text": [
      "\r",
      " 56%|█████▌    | 20/36 [01:20<01:11,  4.48s/it, avg_laplacian_term=87.8, avg_val_fro=37.8, avg_val_loss=126, avg_val_mae=5.12, batch_nb=16, epoch=12, tng_loss=190.997, v_nb=1]"
     ]
    },
    {
     "name": "stdout",
     "output_type": "stream",
     "text": [
      "G shape: torch.Size([8, 3476, 3476])\n",
      "t: tensor([ 91, 141,  23, 135, 138,  54,   6,  32]), batch_nb: 3\n"
     ]
    },
    {
     "name": "stderr",
     "output_type": "stream",
     "text": [
      "\r",
      " 58%|█████▊    | 21/36 [01:24<01:06,  4.44s/it, avg_laplacian_term=87.8, avg_val_fro=37.8, avg_val_loss=126, avg_val_mae=5.12, batch_nb=16, epoch=12, tng_loss=190.997, v_nb=1]"
     ]
    },
    {
     "name": "stdout",
     "output_type": "stream",
     "text": [
      "G shape: torch.Size([8, 3476, 3476])\n",
      "t: tensor([ 90,  99,  34, 121,  69, 137,  40, 139]), batch_nb: 4\n"
     ]
    },
    {
     "name": "stderr",
     "output_type": "stream",
     "text": [
      "\r",
      " 61%|██████    | 22/36 [01:29<01:01,  4.41s/it, avg_laplacian_term=87.8, avg_val_fro=37.8, avg_val_loss=126, avg_val_mae=5.12, batch_nb=16, epoch=12, tng_loss=190.997, v_nb=1]"
     ]
    },
    {
     "name": "stdout",
     "output_type": "stream",
     "text": [
      "G shape: torch.Size([8, 3476, 3476])\n",
      "t: tensor([ 82,  93,  75,  26, 133,  17,  64, 117]), batch_nb: 5\n"
     ]
    },
    {
     "name": "stderr",
     "output_type": "stream",
     "text": [
      "\r",
      " 64%|██████▍   | 23/36 [01:32<00:55,  4.23s/it, avg_laplacian_term=87.8, avg_val_fro=37.8, avg_val_loss=126, avg_val_mae=5.12, batch_nb=16, epoch=12, tng_loss=190.997, v_nb=1]"
     ]
    },
    {
     "name": "stdout",
     "output_type": "stream",
     "text": [
      "G shape: torch.Size([8, 3476, 3476])\n",
      "t: tensor([ 22,  37, 107,  92,  19,  67,  43,   5]), batch_nb: 6\n"
     ]
    },
    {
     "name": "stderr",
     "output_type": "stream",
     "text": [
      "\r",
      " 67%|██████▋   | 24/36 [01:36<00:49,  4.10s/it, avg_laplacian_term=87.8, avg_val_fro=37.8, avg_val_loss=126, avg_val_mae=5.12, batch_nb=16, epoch=12, tng_loss=190.997, v_nb=1]"
     ]
    },
    {
     "name": "stdout",
     "output_type": "stream",
     "text": [
      "G shape: torch.Size([8, 3476, 3476])\n",
      "t: tensor([130,  20,  49,  36, 115, 132,  47,  62]), batch_nb: 7\n"
     ]
    },
    {
     "name": "stderr",
     "output_type": "stream",
     "text": [
      "\r",
      " 69%|██████▉   | 25/36 [01:40<00:44,  4.07s/it, avg_laplacian_term=87.8, avg_val_fro=37.8, avg_val_loss=126, avg_val_mae=5.12, batch_nb=16, epoch=12, tng_loss=190.997, v_nb=1]"
     ]
    },
    {
     "name": "stdout",
     "output_type": "stream",
     "text": [
      "G shape: torch.Size([8, 3476, 3476])\n",
      "t: tensor([101, 102, 125, 140,  53,   7,  12,  41]), batch_nb: 8\n"
     ]
    },
    {
     "name": "stderr",
     "output_type": "stream",
     "text": [
      "\r",
      " 72%|███████▏  | 26/36 [01:44<00:41,  4.11s/it, avg_laplacian_term=87.8, avg_val_fro=37.8, avg_val_loss=126, avg_val_mae=5.12, batch_nb=16, epoch=12, tng_loss=190.997, v_nb=1]"
     ]
    },
    {
     "name": "stdout",
     "output_type": "stream",
     "text": [
      "G shape: torch.Size([8, 3476, 3476])\n",
      "t: tensor([ 48,  56,  39,  21,   9,  55, 105,  72]), batch_nb: 9\n"
     ]
    },
    {
     "name": "stderr",
     "output_type": "stream",
     "text": [
      "\r",
      " 75%|███████▌  | 27/36 [01:48<00:36,  4.06s/it, avg_laplacian_term=87.8, avg_val_fro=37.8, avg_val_loss=126, avg_val_mae=5.12, batch_nb=16, epoch=12, tng_loss=190.997, v_nb=1]"
     ]
    },
    {
     "name": "stdout",
     "output_type": "stream",
     "text": [
      "G shape: torch.Size([8, 3476, 3476])\n",
      "t: tensor([119,  94,  73,  52, 128,  58,  30, 118]), batch_nb: 10\n"
     ]
    },
    {
     "name": "stderr",
     "output_type": "stream",
     "text": [
      "\r",
      " 78%|███████▊  | 28/36 [01:52<00:32,  4.09s/it, avg_laplacian_term=87.8, avg_val_fro=37.8, avg_val_loss=126, avg_val_mae=5.12, batch_nb=16, epoch=12, tng_loss=190.997, v_nb=1]"
     ]
    },
    {
     "name": "stdout",
     "output_type": "stream",
     "text": [
      "G shape: torch.Size([8, 3476, 3476])\n",
      "t: tensor([ 25, 122, 108,  18,  83, 103,  51,  88]), batch_nb: 11\n"
     ]
    },
    {
     "name": "stderr",
     "output_type": "stream",
     "text": [
      "\r",
      " 81%|████████  | 29/36 [01:57<00:28,  4.10s/it, avg_laplacian_term=87.8, avg_val_fro=37.8, avg_val_loss=126, avg_val_mae=5.12, batch_nb=16, epoch=12, tng_loss=190.997, v_nb=1]"
     ]
    },
    {
     "name": "stdout",
     "output_type": "stream",
     "text": [
      "G shape: torch.Size([8, 3476, 3476])\n",
      "t: tensor([129,  10,  86,  68,  11,  63, 123,  16]), batch_nb: 12\n"
     ]
    },
    {
     "name": "stderr",
     "output_type": "stream",
     "text": [
      "\r",
      " 83%|████████▎ | 30/36 [02:01<00:24,  4.07s/it, avg_laplacian_term=87.8, avg_val_fro=37.8, avg_val_loss=126, avg_val_mae=5.12, batch_nb=16, epoch=12, tng_loss=190.997, v_nb=1]"
     ]
    },
    {
     "name": "stdout",
     "output_type": "stream",
     "text": [
      "G shape: torch.Size([8, 3476, 3476])\n",
      "t: tensor([ 45,  27,  77,  38, 111,  96, 112,  35]), batch_nb: 13\n"
     ]
    },
    {
     "name": "stderr",
     "output_type": "stream",
     "text": [
      "\r",
      " 86%|████████▌ | 31/36 [02:05<00:20,  4.08s/it, avg_laplacian_term=87.8, avg_val_fro=37.8, avg_val_loss=126, avg_val_mae=5.12, batch_nb=16, epoch=12, tng_loss=190.997, v_nb=1]"
     ]
    },
    {
     "name": "stdout",
     "output_type": "stream",
     "text": [
      "G shape: torch.Size([8, 3476, 3476])\n",
      "t: tensor([120, 114, 127,   2,  78, 134, 124,  65]), batch_nb: 14\n"
     ]
    },
    {
     "name": "stderr",
     "output_type": "stream",
     "text": [
      "\r",
      " 89%|████████▉ | 32/36 [02:09<00:16,  4.02s/it, avg_laplacian_term=87.8, avg_val_fro=37.8, avg_val_loss=126, avg_val_mae=5.12, batch_nb=16, epoch=12, tng_loss=190.997, v_nb=1]"
     ]
    },
    {
     "name": "stdout",
     "output_type": "stream",
     "text": [
      "G shape: torch.Size([8, 3476, 3476])\n",
      "t: tensor([109,  28,  74,  80, 126, 136,   4,  70]), batch_nb: 15\n"
     ]
    },
    {
     "name": "stderr",
     "output_type": "stream",
     "text": [
      "\r",
      " 92%|█████████▏| 33/36 [02:13<00:12,  4.08s/it, avg_laplacian_term=87.8, avg_val_fro=37.8, avg_val_loss=126, avg_val_mae=5.12, batch_nb=16, epoch=12, tng_loss=190.997, v_nb=1]"
     ]
    },
    {
     "name": "stdout",
     "output_type": "stream",
     "text": [
      "G shape: torch.Size([8, 3476, 3476])\n",
      "t: tensor([13, 81,  0, 14,  8, 84, 46, 89]), batch_nb: 16\n"
     ]
    },
    {
     "name": "stderr",
     "output_type": "stream",
     "text": [
      "\r",
      " 94%|█████████▍| 34/36 [02:16<00:07,  3.88s/it, avg_laplacian_term=87.8, avg_val_fro=37.8, avg_val_loss=126, avg_val_mae=5.12, batch_nb=16, epoch=12, tng_loss=190.997, v_nb=1]"
     ]
    },
    {
     "name": "stdout",
     "output_type": "stream",
     "text": [
      "G shape: torch.Size([8, 3476, 3476])\n",
      "t: tensor([  1,  61,  87, 131,  15, 142, 116,  85]), batch_nb: 17\n"
     ]
    },
    {
     "name": "stderr",
     "output_type": "stream",
     "text": [
      "100%|██████████| 36/36 [02:21<00:00,  2.89s/it, avg_laplacian_term=86.6, avg_val_fro=37.5, avg_val_loss=124, avg_val_mae=5.11, batch_nb=16, epoch=12, tng_loss=190.997, v_nb=1]"
     ]
    },
    {
     "name": "stdout",
     "output_type": "stream",
     "text": [
      "G shape: torch.Size([8, 3476, 3476])\n",
      "t: tensor([131,  93, 122, 127,  33,  34,  47,   0]), batch_nb: 17\n"
     ]
    },
    {
     "name": "stderr",
     "output_type": "stream",
     "text": [
      "  3%|▎         | 1/36 [00:00<00:15,  2.29it/s], avg_laplacian_term=86.6, avg_val_fro=37.5, avg_val_loss=124, avg_val_mae=5.11, batch_nb=17, epoch=12, tng_loss=190.729, v_nb=1]"
     ]
    },
    {
     "name": "stdout",
     "output_type": "stream",
     "text": [
      "G shape: torch.Size([8, 3476, 3476])\n",
      "t: tensor([108,   3,  97, 141, 127,  29,  49, 111]), batch_nb: 0\n"
     ]
    },
    {
     "name": "stderr",
     "output_type": "stream",
     "text": [
      "  6%|▌         | 2/36 [00:04<00:50,  1.49s/it, avg_laplacian_term=86.6, avg_val_fro=37.5, avg_val_loss=124, avg_val_mae=5.11, batch_nb=0, epoch=13, tng_loss=190.517, v_nb=1]"
     ]
    },
    {
     "name": "stdout",
     "output_type": "stream",
     "text": [
      "G shape: torch.Size([8, 3476, 3476])\n",
      "t: tensor([ 42, 104,  31, 106, 132,   5,  66, 107]), batch_nb: 1\n"
     ]
    },
    {
     "name": "stderr",
     "output_type": "stream",
     "text": [
      "  8%|▊         | 3/36 [00:08<01:14,  2.25s/it, avg_laplacian_term=86.6, avg_val_fro=37.5, avg_val_loss=124, avg_val_mae=5.11, batch_nb=1, epoch=13, tng_loss=190.347, v_nb=1]"
     ]
    },
    {
     "name": "stdout",
     "output_type": "stream",
     "text": [
      "G shape: torch.Size([8, 3476, 3476])\n",
      "t: tensor([ 10, 116,  37, 112,  90,  24, 115,  53]), batch_nb: 2\n"
     ]
    },
    {
     "name": "stderr",
     "output_type": "stream",
     "text": [
      " 11%|█         | 4/36 [00:12<01:29,  2.78s/it, avg_laplacian_term=86.6, avg_val_fro=37.5, avg_val_loss=124, avg_val_mae=5.11, batch_nb=2, epoch=13, tng_loss=190.232, v_nb=1]"
     ]
    },
    {
     "name": "stdout",
     "output_type": "stream",
     "text": [
      "G shape: torch.Size([8, 3476, 3476])\n",
      "t: tensor([92, 36, 18, 95, 87, 46,  6, 17]), batch_nb: 3\n"
     ]
    },
    {
     "name": "stderr",
     "output_type": "stream",
     "text": [
      " 14%|█▍        | 5/36 [00:16<01:38,  3.18s/it, avg_laplacian_term=86.6, avg_val_fro=37.5, avg_val_loss=124, avg_val_mae=5.11, batch_nb=3, epoch=13, tng_loss=190.177, v_nb=1]"
     ]
    },
    {
     "name": "stdout",
     "output_type": "stream",
     "text": [
      "G shape: torch.Size([8, 3476, 3476])\n",
      "t: tensor([ 34,  68, 139,  56,  19,  99, 128,   1]), batch_nb: 4\n"
     ]
    },
    {
     "name": "stderr",
     "output_type": "stream",
     "text": [
      " 17%|█▋        | 6/36 [00:20<01:44,  3.49s/it, avg_laplacian_term=86.6, avg_val_fro=37.5, avg_val_loss=124, avg_val_mae=5.11, batch_nb=4, epoch=13, tng_loss=190.005, v_nb=1]"
     ]
    },
    {
     "name": "stdout",
     "output_type": "stream",
     "text": [
      "G shape: torch.Size([8, 3476, 3476])\n",
      "t: tensor([130, 103,  82,  15,  72,   2,  67,  25]), batch_nb: 5\n"
     ]
    },
    {
     "name": "stderr",
     "output_type": "stream",
     "text": [
      " 19%|█▉        | 7/36 [00:24<01:47,  3.69s/it, avg_laplacian_term=86.6, avg_val_fro=37.5, avg_val_loss=124, avg_val_mae=5.11, batch_nb=5, epoch=13, tng_loss=189.799, v_nb=1]"
     ]
    },
    {
     "name": "stdout",
     "output_type": "stream",
     "text": [
      "G shape: torch.Size([8, 3476, 3476])\n",
      "t: tensor([100, 126,  76,  63,  12, 122, 137,  50]), batch_nb: 6\n"
     ]
    },
    {
     "name": "stderr",
     "output_type": "stream",
     "text": [
      " 22%|██▏       | 8/36 [00:28<01:46,  3.79s/it, avg_laplacian_term=86.6, avg_val_fro=37.5, avg_val_loss=124, avg_val_mae=5.11, batch_nb=6, epoch=13, tng_loss=189.579, v_nb=1]"
     ]
    },
    {
     "name": "stdout",
     "output_type": "stream",
     "text": [
      "G shape: torch.Size([8, 3476, 3476])\n",
      "t: tensor([ 75,  20,  52, 119, 135, 136, 124,  48]), batch_nb: 7\n"
     ]
    },
    {
     "name": "stderr",
     "output_type": "stream",
     "text": [
      " 25%|██▌       | 9/36 [00:32<01:43,  3.84s/it, avg_laplacian_term=86.6, avg_val_fro=37.5, avg_val_loss=124, avg_val_mae=5.11, batch_nb=7, epoch=13, tng_loss=189.422, v_nb=1]"
     ]
    },
    {
     "name": "stdout",
     "output_type": "stream",
     "text": [
      "G shape: torch.Size([8, 3476, 3476])\n",
      "t: tensor([ 40, 143,  44,  65, 110, 133,  11,  62]), batch_nb: 8\n"
     ]
    },
    {
     "name": "stderr",
     "output_type": "stream",
     "text": [
      " 28%|██▊       | 10/36 [00:36<01:41,  3.90s/it, avg_laplacian_term=86.6, avg_val_fro=37.5, avg_val_loss=124, avg_val_mae=5.11, batch_nb=8, epoch=13, tng_loss=189.395, v_nb=1]"
     ]
    },
    {
     "name": "stdout",
     "output_type": "stream",
     "text": [
      "G shape: torch.Size([8, 3476, 3476])\n",
      "t: tensor([121,  35,  60,   4, 117,  74,  70,  26]), batch_nb: 9\n"
     ]
    },
    {
     "name": "stderr",
     "output_type": "stream",
     "text": [
      " 31%|███       | 11/36 [00:41<01:40,  4.00s/it, avg_laplacian_term=86.6, avg_val_fro=37.5, avg_val_loss=124, avg_val_mae=5.11, batch_nb=9, epoch=13, tng_loss=189.122, v_nb=1]"
     ]
    },
    {
     "name": "stdout",
     "output_type": "stream",
     "text": [
      "G shape: torch.Size([8, 3476, 3476])\n",
      "t: tensor([ 83, 129,  84,  88,  16,  58,  43, 134]), batch_nb: 10\n"
     ]
    },
    {
     "name": "stderr",
     "output_type": "stream",
     "text": [
      " 33%|███▎      | 12/36 [00:45<01:36,  4.00s/it, avg_laplacian_term=86.6, avg_val_fro=37.5, avg_val_loss=124, avg_val_mae=5.11, batch_nb=10, epoch=13, tng_loss=188.990, v_nb=1]"
     ]
    },
    {
     "name": "stdout",
     "output_type": "stream",
     "text": [
      "G shape: torch.Size([8, 3476, 3476])\n",
      "t: tensor([ 59,  51,  79,  21,  61,   7, 118, 109]), batch_nb: 11\n"
     ]
    },
    {
     "name": "stderr",
     "output_type": "stream",
     "text": [
      " 36%|███▌      | 13/36 [00:49<01:31,  3.99s/it, avg_laplacian_term=86.6, avg_val_fro=37.5, avg_val_loss=124, avg_val_mae=5.11, batch_nb=11, epoch=13, tng_loss=189.099, v_nb=1]"
     ]
    },
    {
     "name": "stdout",
     "output_type": "stream",
     "text": [
      "G shape: torch.Size([8, 3476, 3476])\n",
      "t: tensor([  0,  54, 138,  22,  47,  73,  55,  86]), batch_nb: 12\n"
     ]
    },
    {
     "name": "stderr",
     "output_type": "stream",
     "text": [
      " 39%|███▉      | 14/36 [00:53<01:27,  3.97s/it, avg_laplacian_term=86.6, avg_val_fro=37.5, avg_val_loss=124, avg_val_mae=5.11, batch_nb=12, epoch=13, tng_loss=188.935, v_nb=1]"
     ]
    },
    {
     "name": "stdout",
     "output_type": "stream",
     "text": [
      "G shape: torch.Size([8, 3476, 3476])\n",
      "t: tensor([80, 98, 78, 32, 96, 27, 91, 33]), batch_nb: 13\n"
     ]
    },
    {
     "name": "stderr",
     "output_type": "stream",
     "text": [
      " 42%|████▏     | 15/36 [00:56<01:21,  3.87s/it, avg_laplacian_term=86.6, avg_val_fro=37.5, avg_val_loss=124, avg_val_mae=5.11, batch_nb=13, epoch=13, tng_loss=188.899, v_nb=1]"
     ]
    },
    {
     "name": "stdout",
     "output_type": "stream",
     "text": [
      "G shape: torch.Size([8, 3476, 3476])\n",
      "t: tensor([142, 125,  93,  41,  69, 140,   8,  77]), batch_nb: 14\n"
     ]
    },
    {
     "name": "stderr",
     "output_type": "stream",
     "text": [
      " 44%|████▍     | 16/36 [01:00<01:18,  3.92s/it, avg_laplacian_term=86.6, avg_val_fro=37.5, avg_val_loss=124, avg_val_mae=5.11, batch_nb=14, epoch=13, tng_loss=188.983, v_nb=1]"
     ]
    },
    {
     "name": "stdout",
     "output_type": "stream",
     "text": [
      "G shape: torch.Size([8, 3476, 3476])\n",
      "t: tensor([ 64, 105, 113,  89,  28, 123,  14, 120]), batch_nb: 15\n"
     ]
    },
    {
     "name": "stderr",
     "output_type": "stream",
     "text": [
      " 47%|████▋     | 17/36 [01:04<01:15,  3.96s/it, avg_laplacian_term=86.6, avg_val_fro=37.5, avg_val_loss=124, avg_val_mae=5.11, batch_nb=15, epoch=13, tng_loss=188.797, v_nb=1]"
     ]
    },
    {
     "name": "stdout",
     "output_type": "stream",
     "text": [
      "G shape: torch.Size([8, 3476, 3476])\n",
      "t: tensor([131,   9,  23,  30,  13,  38,  94, 101]), batch_nb: 16\n"
     ]
    },
    {
     "name": "stderr",
     "output_type": "stream",
     "text": [
      "\r",
      " 47%|████▋     | 17/36 [01:09<01:15,  3.96s/it, avg_laplacian_term=86.6, avg_val_fro=37.5, avg_val_loss=124, avg_val_mae=5.11, batch_nb=16, epoch=13, tng_loss=188.639, v_nb=1]"
     ]
    },
    {
     "name": "stdout",
     "output_type": "stream",
     "text": [
      "G shape: torch.Size([8, 3476, 3476])\n",
      "t: tensor([ 25,   0, 142,  97, 118,  43, 143,  81]), batch_nb: 0\n"
     ]
    },
    {
     "name": "stderr",
     "output_type": "stream",
     "text": [
      "\r",
      " 50%|█████     | 18/36 [01:13<01:37,  5.41s/it, avg_laplacian_term=86.6, avg_val_fro=37.5, avg_val_loss=124, avg_val_mae=5.11, batch_nb=16, epoch=13, tng_loss=188.639, v_nb=1]"
     ]
    },
    {
     "name": "stdout",
     "output_type": "stream",
     "text": [
      "G shape: torch.Size([8, 3476, 3476])\n",
      "t: tensor([ 77,   2,  56, 108, 137,  93, 112,  91]), batch_nb: 1\n"
     ]
    },
    {
     "name": "stderr",
     "output_type": "stream",
     "text": [
      "\r",
      " 53%|█████▎    | 19/36 [01:17<01:24,  4.96s/it, avg_laplacian_term=86.6, avg_val_fro=37.5, avg_val_loss=124, avg_val_mae=5.11, batch_nb=16, epoch=13, tng_loss=188.639, v_nb=1]"
     ]
    },
    {
     "name": "stdout",
     "output_type": "stream",
     "text": [
      "G shape: torch.Size([8, 3476, 3476])\n",
      "t: tensor([ 24,  57,  72,  16, 130,  42,   8,  68]), batch_nb: 2\n"
     ]
    },
    {
     "name": "stderr",
     "output_type": "stream",
     "text": [
      "\r",
      " 56%|█████▌    | 20/36 [01:21<01:14,  4.65s/it, avg_laplacian_term=86.6, avg_val_fro=37.5, avg_val_loss=124, avg_val_mae=5.11, batch_nb=16, epoch=13, tng_loss=188.639, v_nb=1]"
     ]
    },
    {
     "name": "stdout",
     "output_type": "stream",
     "text": [
      "G shape: torch.Size([8, 3476, 3476])\n",
      "t: tensor([ 74,   5, 103,  30,  69, 105,  96,  63]), batch_nb: 3\n"
     ]
    },
    {
     "name": "stderr",
     "output_type": "stream",
     "text": [
      "\r",
      " 58%|█████▊    | 21/36 [01:25<01:08,  4.53s/it, avg_laplacian_term=86.6, avg_val_fro=37.5, avg_val_loss=124, avg_val_mae=5.11, batch_nb=16, epoch=13, tng_loss=188.639, v_nb=1]"
     ]
    },
    {
     "name": "stdout",
     "output_type": "stream",
     "text": [
      "G shape: torch.Size([8, 3476, 3476])\n",
      "t: tensor([ 11,  60, 129, 136, 102,  80, 131, 117]), batch_nb: 4\n"
     ]
    },
    {
     "name": "stderr",
     "output_type": "stream",
     "text": [
      "\r",
      " 61%|██████    | 22/36 [01:29<01:01,  4.40s/it, avg_laplacian_term=86.6, avg_val_fro=37.5, avg_val_loss=124, avg_val_mae=5.11, batch_nb=16, epoch=13, tng_loss=188.639, v_nb=1]"
     ]
    },
    {
     "name": "stdout",
     "output_type": "stream",
     "text": [
      "G shape: torch.Size([8, 3476, 3476])\n",
      "t: tensor([45, 53, 75, 20, 67,  9, 99, 86]), batch_nb: 5\n"
     ]
    },
    {
     "name": "stderr",
     "output_type": "stream",
     "text": [
      "\r",
      " 64%|██████▍   | 23/36 [01:33<00:53,  4.14s/it, avg_laplacian_term=86.6, avg_val_fro=37.5, avg_val_loss=124, avg_val_mae=5.11, batch_nb=16, epoch=13, tng_loss=188.639, v_nb=1]"
     ]
    },
    {
     "name": "stdout",
     "output_type": "stream",
     "text": [
      "G shape: torch.Size([8, 3476, 3476])\n",
      "t: tensor([ 82,  49, 134, 121, 116, 125,  64,  84]), batch_nb: 6\n"
     ]
    },
    {
     "name": "stderr",
     "output_type": "stream",
     "text": [
      "\r",
      " 67%|██████▋   | 24/36 [01:36<00:47,  3.94s/it, avg_laplacian_term=86.6, avg_val_fro=37.5, avg_val_loss=124, avg_val_mae=5.11, batch_nb=16, epoch=13, tng_loss=188.639, v_nb=1]"
     ]
    },
    {
     "name": "stdout",
     "output_type": "stream",
     "text": [
      "G shape: torch.Size([8, 3476, 3476])\n",
      "t: tensor([109,  38,  54,   7,  33,  15, 133,  17]), batch_nb: 7\n"
     ]
    },
    {
     "name": "stderr",
     "output_type": "stream",
     "text": [
      "\r",
      " 69%|██████▉   | 25/36 [01:40<00:42,  3.85s/it, avg_laplacian_term=86.6, avg_val_fro=37.5, avg_val_loss=124, avg_val_mae=5.11, batch_nb=16, epoch=13, tng_loss=188.639, v_nb=1]"
     ]
    },
    {
     "name": "stdout",
     "output_type": "stream",
     "text": [
      "G shape: torch.Size([8, 3476, 3476])\n",
      "t: tensor([27, 94, 76, 35, 41, 92, 40, 48]), batch_nb: 8\n"
     ]
    },
    {
     "name": "stderr",
     "output_type": "stream",
     "text": [
      "\r",
      " 72%|███████▏  | 26/36 [01:45<00:43,  4.36s/it, avg_laplacian_term=86.6, avg_val_fro=37.5, avg_val_loss=124, avg_val_mae=5.11, batch_nb=16, epoch=13, tng_loss=188.639, v_nb=1]"
     ]
    },
    {
     "name": "stdout",
     "output_type": "stream",
     "text": [
      "G shape: torch.Size([8, 3476, 3476])\n",
      "t: tensor([ 78, 114,  22,  66, 135,  37,  31,   4]), batch_nb: 9\n"
     ]
    },
    {
     "name": "stderr",
     "output_type": "stream",
     "text": [
      "\r",
      " 75%|███████▌  | 27/36 [01:50<00:38,  4.28s/it, avg_laplacian_term=86.6, avg_val_fro=37.5, avg_val_loss=124, avg_val_mae=5.11, batch_nb=16, epoch=13, tng_loss=188.639, v_nb=1]"
     ]
    },
    {
     "name": "stdout",
     "output_type": "stream",
     "text": [
      "G shape: torch.Size([8, 3476, 3476])\n",
      "t: tensor([ 88, 138,  28,  12,  50, 100,  87,  79]), batch_nb: 10\n"
     ]
    },
    {
     "name": "stderr",
     "output_type": "stream",
     "text": [
      "\r",
      " 78%|███████▊  | 28/36 [01:54<00:34,  4.29s/it, avg_laplacian_term=86.6, avg_val_fro=37.5, avg_val_loss=124, avg_val_mae=5.11, batch_nb=16, epoch=13, tng_loss=188.639, v_nb=1]"
     ]
    },
    {
     "name": "stdout",
     "output_type": "stream",
     "text": [
      "G shape: torch.Size([8, 3476, 3476])\n",
      "t: tensor([127,  26,  21,  10,  85,  39, 139, 115]), batch_nb: 11\n"
     ]
    },
    {
     "name": "stderr",
     "output_type": "stream",
     "text": [
      "\r",
      " 81%|████████  | 29/36 [01:58<00:29,  4.20s/it, avg_laplacian_term=86.6, avg_val_fro=37.5, avg_val_loss=124, avg_val_mae=5.11, batch_nb=16, epoch=13, tng_loss=188.639, v_nb=1]"
     ]
    },
    {
     "name": "stdout",
     "output_type": "stream",
     "text": [
      "G shape: torch.Size([8, 3476, 3476])\n",
      "t: tensor([ 32, 104,  36,  55, 123,  34, 126,  59]), batch_nb: 12\n"
     ]
    },
    {
     "name": "stderr",
     "output_type": "stream",
     "text": [
      "\r",
      " 83%|████████▎ | 30/36 [02:02<00:24,  4.07s/it, avg_laplacian_term=86.6, avg_val_fro=37.5, avg_val_loss=124, avg_val_mae=5.11, batch_nb=16, epoch=13, tng_loss=188.639, v_nb=1]"
     ]
    },
    {
     "name": "stdout",
     "output_type": "stream",
     "text": [
      "G shape: torch.Size([8, 3476, 3476])\n",
      "t: tensor([  1, 106, 120, 111, 101,  95, 141, 128]), batch_nb: 13\n"
     ]
    },
    {
     "name": "stderr",
     "output_type": "stream",
     "text": [
      "\r",
      " 86%|████████▌ | 31/36 [02:06<00:20,  4.03s/it, avg_laplacian_term=86.6, avg_val_fro=37.5, avg_val_loss=124, avg_val_mae=5.11, batch_nb=16, epoch=13, tng_loss=188.639, v_nb=1]"
     ]
    },
    {
     "name": "stdout",
     "output_type": "stream",
     "text": [
      "G shape: torch.Size([8, 3476, 3476])\n",
      "t: tensor([ 46,  90, 140,  14,  29,  51,  73,  61]), batch_nb: 14\n"
     ]
    },
    {
     "name": "stderr",
     "output_type": "stream",
     "text": [
      "\r",
      " 89%|████████▉ | 32/36 [02:09<00:15,  3.98s/it, avg_laplacian_term=86.6, avg_val_fro=37.5, avg_val_loss=124, avg_val_mae=5.11, batch_nb=16, epoch=13, tng_loss=188.639, v_nb=1]"
     ]
    },
    {
     "name": "stdout",
     "output_type": "stream",
     "text": [
      "G shape: torch.Size([8, 3476, 3476])\n",
      "t: tensor([  6,  13, 119, 124,  19,  71,  52,  47]), batch_nb: 15\n"
     ]
    },
    {
     "name": "stderr",
     "output_type": "stream",
     "text": [
      "\r",
      " 92%|█████████▏| 33/36 [02:14<00:12,  4.19s/it, avg_laplacian_term=86.6, avg_val_fro=37.5, avg_val_loss=124, avg_val_mae=5.11, batch_nb=16, epoch=13, tng_loss=188.639, v_nb=1]"
     ]
    },
    {
     "name": "stdout",
     "output_type": "stream",
     "text": [
      "G shape: torch.Size([8, 3476, 3476])\n",
      "t: tensor([ 89,  58, 113,  23, 122,  44,   3, 110]), batch_nb: 16\n"
     ]
    },
    {
     "name": "stderr",
     "output_type": "stream",
     "text": [
      "\r",
      " 94%|█████████▍| 34/36 [02:18<00:08,  4.02s/it, avg_laplacian_term=86.6, avg_val_fro=37.5, avg_val_loss=124, avg_val_mae=5.11, batch_nb=16, epoch=13, tng_loss=188.639, v_nb=1]"
     ]
    },
    {
     "name": "stdout",
     "output_type": "stream",
     "text": [
      "G shape: torch.Size([8, 3476, 3476])\n",
      "t: tensor([ 83, 132,  98,  62,  18,  65, 107,  70]), batch_nb: 17\n"
     ]
    },
    {
     "name": "stderr",
     "output_type": "stream",
     "text": [
      "100%|██████████| 36/36 [02:22<00:00,  2.87s/it, avg_laplacian_term=85.4, avg_val_fro=37.2, avg_val_loss=123, avg_val_mae=5.05, batch_nb=16, epoch=13, tng_loss=188.639, v_nb=1]"
     ]
    },
    {
     "name": "stdout",
     "output_type": "stream",
     "text": [
      "G shape: torch.Size([8, 3476, 3476])\n",
      "t: tensor([ 45,  85,  39, 102,  81,  71, 114,  57]), batch_nb: 17\n"
     ]
    },
    {
     "name": "stderr",
     "output_type": "stream",
     "text": [
      "  3%|▎         | 1/36 [00:00<00:14,  2.45it/s], avg_laplacian_term=85.4, avg_val_fro=37.2, avg_val_loss=123, avg_val_mae=5.05, batch_nb=17, epoch=13, tng_loss=188.337, v_nb=1]"
     ]
    },
    {
     "name": "stdout",
     "output_type": "stream",
     "text": [
      "G shape: torch.Size([8, 3476, 3476])\n",
      "t: tensor([115,  90, 118, 114,  68,  81,  31,  77]), batch_nb: 0\n"
     ]
    },
    {
     "name": "stderr",
     "output_type": "stream",
     "text": [
      "  6%|▌         | 2/36 [00:04<00:49,  1.44s/it, avg_laplacian_term=85.4, avg_val_fro=37.2, avg_val_loss=123, avg_val_mae=5.05, batch_nb=0, epoch=14, tng_loss=188.392, v_nb=1]"
     ]
    },
    {
     "name": "stdout",
     "output_type": "stream",
     "text": [
      "G shape: torch.Size([8, 3476, 3476])\n",
      "t: tensor([41, 66, 49, 80, 95, 39, 35, 58]), batch_nb: 1\n"
     ]
    },
    {
     "name": "stderr",
     "output_type": "stream",
     "text": [
      "  8%|▊         | 3/36 [00:08<01:11,  2.16s/it, avg_laplacian_term=85.4, avg_val_fro=37.2, avg_val_loss=123, avg_val_mae=5.05, batch_nb=1, epoch=14, tng_loss=188.364, v_nb=1]"
     ]
    },
    {
     "name": "stdout",
     "output_type": "stream",
     "text": [
      "G shape: torch.Size([8, 3476, 3476])\n",
      "t: tensor([ 99,  53,  43, 140,  51,  50,  22, 137]), batch_nb: 2\n"
     ]
    },
    {
     "name": "stderr",
     "output_type": "stream",
     "text": [
      " 11%|█         | 4/36 [00:11<01:25,  2.66s/it, avg_laplacian_term=85.4, avg_val_fro=37.2, avg_val_loss=123, avg_val_mae=5.05, batch_nb=2, epoch=14, tng_loss=188.255, v_nb=1]"
     ]
    },
    {
     "name": "stdout",
     "output_type": "stream",
     "text": [
      "G shape: torch.Size([8, 3476, 3476])\n",
      "t: tensor([ 21,  10, 136,  30,  87,  82,   3,  88]), batch_nb: 3\n"
     ]
    },
    {
     "name": "stderr",
     "output_type": "stream",
     "text": [
      " 14%|█▍        | 5/36 [00:16<01:41,  3.29s/it, avg_laplacian_term=85.4, avg_val_fro=37.2, avg_val_loss=123, avg_val_mae=5.05, batch_nb=3, epoch=14, tng_loss=188.180, v_nb=1]"
     ]
    },
    {
     "name": "stdout",
     "output_type": "stream",
     "text": [
      "G shape: torch.Size([8, 3476, 3476])\n",
      "t: tensor([ 86,  13, 127,  16,  15,  17,  55,  78]), batch_nb: 4\n"
     ]
    },
    {
     "name": "stderr",
     "output_type": "stream",
     "text": [
      " 17%|█▋        | 6/36 [00:20<01:46,  3.54s/it, avg_laplacian_term=85.4, avg_val_fro=37.2, avg_val_loss=123, avg_val_mae=5.05, batch_nb=4, epoch=14, tng_loss=188.232, v_nb=1]"
     ]
    },
    {
     "name": "stdout",
     "output_type": "stream",
     "text": [
      "G shape: torch.Size([8, 3476, 3476])\n",
      "t: tensor([76, 79, 54, 20,  9, 63, 96, 40]), batch_nb: 5\n"
     ]
    },
    {
     "name": "stderr",
     "output_type": "stream",
     "text": [
      " 19%|█▉        | 7/36 [00:25<01:51,  3.84s/it, avg_laplacian_term=85.4, avg_val_fro=37.2, avg_val_loss=123, avg_val_mae=5.05, batch_nb=5, epoch=14, tng_loss=188.152, v_nb=1]"
     ]
    },
    {
     "name": "stdout",
     "output_type": "stream",
     "text": [
      "G shape: torch.Size([8, 3476, 3476])\n",
      "t: tensor([ 23, 135,  42,  52, 101, 113,  89, 123]), batch_nb: 6\n"
     ]
    },
    {
     "name": "stderr",
     "output_type": "stream",
     "text": [
      " 22%|██▏       | 8/36 [00:29<01:48,  3.87s/it, avg_laplacian_term=85.4, avg_val_fro=37.2, avg_val_loss=123, avg_val_mae=5.05, batch_nb=6, epoch=14, tng_loss=188.053, v_nb=1]"
     ]
    },
    {
     "name": "stdout",
     "output_type": "stream",
     "text": [
      "G shape: torch.Size([8, 3476, 3476])\n",
      "t: tensor([ 74, 117,  19, 108, 119, 107, 126, 116]), batch_nb: 7\n"
     ]
    },
    {
     "name": "stderr",
     "output_type": "stream",
     "text": [
      " 25%|██▌       | 9/36 [00:33<01:43,  3.84s/it, avg_laplacian_term=85.4, avg_val_fro=37.2, avg_val_loss=123, avg_val_mae=5.05, batch_nb=7, epoch=14, tng_loss=187.872, v_nb=1]"
     ]
    },
    {
     "name": "stdout",
     "output_type": "stream",
     "text": [
      "G shape: torch.Size([8, 3476, 3476])\n",
      "t: tensor([ 62, 121,   7, 129, 130, 102, 112, 120]), batch_nb: 8\n"
     ]
    },
    {
     "name": "stderr",
     "output_type": "stream",
     "text": [
      " 28%|██▊       | 10/36 [00:37<01:41,  3.90s/it, avg_laplacian_term=85.4, avg_val_fro=37.2, avg_val_loss=123, avg_val_mae=5.05, batch_nb=8, epoch=14, tng_loss=187.838, v_nb=1]"
     ]
    },
    {
     "name": "stdout",
     "output_type": "stream",
     "text": [
      "G shape: torch.Size([8, 3476, 3476])\n",
      "t: tensor([ 98, 125,   4,  48,  84, 103,  94,  25]), batch_nb: 9\n"
     ]
    },
    {
     "name": "stderr",
     "output_type": "stream",
     "text": [
      " 31%|███       | 11/36 [00:41<01:37,  3.91s/it, avg_laplacian_term=85.4, avg_val_fro=37.2, avg_val_loss=123, avg_val_mae=5.05, batch_nb=9, epoch=14, tng_loss=187.465, v_nb=1]"
     ]
    },
    {
     "name": "stdout",
     "output_type": "stream",
     "text": [
      "G shape: torch.Size([8, 3476, 3476])\n",
      "t: tensor([ 34,  18, 139,  57,  24,   0,  47,  60]), batch_nb: 10\n"
     ]
    },
    {
     "name": "stderr",
     "output_type": "stream",
     "text": [
      " 33%|███▎      | 12/36 [00:45<01:34,  3.93s/it, avg_laplacian_term=85.4, avg_val_fro=37.2, avg_val_loss=123, avg_val_mae=5.05, batch_nb=10, epoch=14, tng_loss=187.302, v_nb=1]"
     ]
    },
    {
     "name": "stdout",
     "output_type": "stream",
     "text": [
      "G shape: torch.Size([8, 3476, 3476])\n",
      "t: tensor([131, 122,  85, 141,  65, 133,  27,   6]), batch_nb: 11\n"
     ]
    },
    {
     "name": "stderr",
     "output_type": "stream",
     "text": [
      " 36%|███▌      | 13/36 [00:48<01:29,  3.89s/it, avg_laplacian_term=85.4, avg_val_fro=37.2, avg_val_loss=123, avg_val_mae=5.05, batch_nb=11, epoch=14, tng_loss=187.239, v_nb=1]"
     ]
    },
    {
     "name": "stdout",
     "output_type": "stream",
     "text": [
      "G shape: torch.Size([8, 3476, 3476])\n",
      "t: tensor([143, 128, 105,  11, 142,  71,  45,  29]), batch_nb: 12\n"
     ]
    },
    {
     "name": "stderr",
     "output_type": "stream",
     "text": [
      " 39%|███▉      | 14/36 [00:52<01:26,  3.92s/it, avg_laplacian_term=85.4, avg_val_fro=37.2, avg_val_loss=123, avg_val_mae=5.05, batch_nb=12, epoch=14, tng_loss=187.146, v_nb=1]"
     ]
    },
    {
     "name": "stdout",
     "output_type": "stream",
     "text": [
      "G shape: torch.Size([8, 3476, 3476])\n",
      "t: tensor([ 59,  69,  28,  72, 124,   8,  37,  12]), batch_nb: 13\n"
     ]
    },
    {
     "name": "stderr",
     "output_type": "stream",
     "text": [
      " 42%|████▏     | 15/36 [00:56<01:22,  3.92s/it, avg_laplacian_term=85.4, avg_val_fro=37.2, avg_val_loss=123, avg_val_mae=5.05, batch_nb=13, epoch=14, tng_loss=187.083, v_nb=1]"
     ]
    },
    {
     "name": "stdout",
     "output_type": "stream",
     "text": [
      "G shape: torch.Size([8, 3476, 3476])\n",
      "t: tensor([ 67,  32,  14,  93,  64, 109,  73,  33]), batch_nb: 14\n"
     ]
    },
    {
     "name": "stderr",
     "output_type": "stream",
     "text": [
      " 44%|████▍     | 16/36 [01:00<01:19,  3.96s/it, avg_laplacian_term=85.4, avg_val_fro=37.2, avg_val_loss=123, avg_val_mae=5.05, batch_nb=14, epoch=14, tng_loss=186.958, v_nb=1]"
     ]
    },
    {
     "name": "stdout",
     "output_type": "stream",
     "text": [
      "G shape: torch.Size([8, 3476, 3476])\n",
      "t: tensor([100, 132,  38,  46,   2, 134, 104, 138]), batch_nb: 15\n"
     ]
    },
    {
     "name": "stderr",
     "output_type": "stream",
     "text": [
      " 47%|████▋     | 17/36 [01:04<01:16,  4.03s/it, avg_laplacian_term=85.4, avg_val_fro=37.2, avg_val_loss=123, avg_val_mae=5.05, batch_nb=15, epoch=14, tng_loss=186.621, v_nb=1]"
     ]
    },
    {
     "name": "stdout",
     "output_type": "stream",
     "text": [
      "G shape: torch.Size([8, 3476, 3476])\n",
      "t: tensor([ 61, 110,  97, 111,  83,   5,   1,  26]), batch_nb: 16\n"
     ]
    },
    {
     "name": "stderr",
     "output_type": "stream",
     "text": [
      "\r",
      " 47%|████▋     | 17/36 [01:08<01:16,  4.03s/it, avg_laplacian_term=85.4, avg_val_fro=37.2, avg_val_loss=123, avg_val_mae=5.05, batch_nb=16, epoch=14, tng_loss=186.517, v_nb=1]"
     ]
    },
    {
     "name": "stdout",
     "output_type": "stream",
     "text": [
      "G shape: torch.Size([8, 3476, 3476])\n",
      "t: tensor([  2, 138,   9,  76,  93,  99, 136,  13]), batch_nb: 0\n"
     ]
    },
    {
     "name": "stderr",
     "output_type": "stream",
     "text": [
      "\r",
      " 50%|█████     | 18/36 [01:13<01:34,  5.27s/it, avg_laplacian_term=85.4, avg_val_fro=37.2, avg_val_loss=123, avg_val_mae=5.05, batch_nb=16, epoch=14, tng_loss=186.517, v_nb=1]"
     ]
    },
    {
     "name": "stdout",
     "output_type": "stream",
     "text": [
      "G shape: torch.Size([8, 3476, 3476])\n",
      "t: tensor([ 71, 123,  27, 109,  92,  59,  25,   3]), batch_nb: 1\n"
     ]
    },
    {
     "name": "stderr",
     "output_type": "stream",
     "text": [
      "\r",
      " 53%|█████▎    | 19/36 [01:16<01:21,  4.81s/it, avg_laplacian_term=85.4, avg_val_fro=37.2, avg_val_loss=123, avg_val_mae=5.05, batch_nb=16, epoch=14, tng_loss=186.517, v_nb=1]"
     ]
    },
    {
     "name": "stdout",
     "output_type": "stream",
     "text": [
      "G shape: torch.Size([8, 3476, 3476])\n",
      "t: tensor([ 12, 120,  31,  17,  23,  95,  15,  32]), batch_nb: 2\n"
     ]
    },
    {
     "name": "stderr",
     "output_type": "stream",
     "text": [
      "\r",
      " 56%|█████▌    | 20/36 [01:21<01:14,  4.63s/it, avg_laplacian_term=85.4, avg_val_fro=37.2, avg_val_loss=123, avg_val_mae=5.05, batch_nb=16, epoch=14, tng_loss=186.517, v_nb=1]"
     ]
    },
    {
     "name": "stdout",
     "output_type": "stream",
     "text": [
      "G shape: torch.Size([8, 3476, 3476])\n",
      "t: tensor([ 43, 142,  91,  87,  79, 106,  53,  60]), batch_nb: 3\n"
     ]
    },
    {
     "name": "stderr",
     "output_type": "stream",
     "text": [
      "\r",
      " 58%|█████▊    | 21/36 [01:26<01:12,  4.83s/it, avg_laplacian_term=85.4, avg_val_fro=37.2, avg_val_loss=123, avg_val_mae=5.05, batch_nb=16, epoch=14, tng_loss=186.517, v_nb=1]"
     ]
    },
    {
     "name": "stdout",
     "output_type": "stream",
     "text": [
      "G shape: torch.Size([8, 3476, 3476])\n",
      "t: tensor([113,  10,  48, 130,  96,  90,  65,   1]), batch_nb: 4\n"
     ]
    },
    {
     "name": "stderr",
     "output_type": "stream",
     "text": [
      "\r",
      " 61%|██████    | 22/36 [01:30<01:03,  4.55s/it, avg_laplacian_term=85.4, avg_val_fro=37.2, avg_val_loss=123, avg_val_mae=5.05, batch_nb=16, epoch=14, tng_loss=186.517, v_nb=1]"
     ]
    },
    {
     "name": "stdout",
     "output_type": "stream",
     "text": [
      "G shape: torch.Size([8, 3476, 3476])\n",
      "t: tensor([ 83, 115,  70,  51,  84, 128,  75,  29]), batch_nb: 5\n"
     ]
    },
    {
     "name": "stderr",
     "output_type": "stream",
     "text": [
      "\r",
      " 64%|██████▍   | 23/36 [01:34<00:58,  4.48s/it, avg_laplacian_term=85.4, avg_val_fro=37.2, avg_val_loss=123, avg_val_mae=5.05, batch_nb=16, epoch=14, tng_loss=186.517, v_nb=1]"
     ]
    },
    {
     "name": "stdout",
     "output_type": "stream",
     "text": [
      "G shape: torch.Size([8, 3476, 3476])\n",
      "t: tensor([ 78, 104,  30,  40, 135,  11,  56,  54]), batch_nb: 6\n"
     ]
    },
    {
     "name": "stderr",
     "output_type": "stream",
     "text": [
      "\r",
      " 67%|██████▋   | 24/36 [01:38<00:51,  4.30s/it, avg_laplacian_term=85.4, avg_val_fro=37.2, avg_val_loss=123, avg_val_mae=5.05, batch_nb=16, epoch=14, tng_loss=186.517, v_nb=1]"
     ]
    },
    {
     "name": "stdout",
     "output_type": "stream",
     "text": [
      "G shape: torch.Size([8, 3476, 3476])\n",
      "t: tensor([ 34, 108, 107,  35,  33,  14, 121,  18]), batch_nb: 7\n"
     ]
    },
    {
     "name": "stderr",
     "output_type": "stream",
     "text": [
      "\r",
      " 69%|██████▉   | 25/36 [01:42<00:47,  4.33s/it, avg_laplacian_term=85.4, avg_val_fro=37.2, avg_val_loss=123, avg_val_mae=5.05, batch_nb=16, epoch=14, tng_loss=186.517, v_nb=1]"
     ]
    },
    {
     "name": "stdout",
     "output_type": "stream",
     "text": [
      "G shape: torch.Size([8, 3476, 3476])\n",
      "t: tensor([126,  57,  36,  58,  38,  73,  64,  62]), batch_nb: 8\n"
     ]
    },
    {
     "name": "stderr",
     "output_type": "stream",
     "text": [
      "\r",
      " 72%|███████▏  | 26/36 [01:46<00:41,  4.18s/it, avg_laplacian_term=85.4, avg_val_fro=37.2, avg_val_loss=123, avg_val_mae=5.05, batch_nb=16, epoch=14, tng_loss=186.517, v_nb=1]"
     ]
    },
    {
     "name": "stdout",
     "output_type": "stream",
     "text": [
      "G shape: torch.Size([8, 3476, 3476])\n",
      "t: tensor([ 26, 112,  52,  89, 114, 102,  80, 119]), batch_nb: 9\n"
     ]
    },
    {
     "name": "stderr",
     "output_type": "stream",
     "text": [
      "\r",
      " 75%|███████▌  | 27/36 [01:50<00:35,  3.98s/it, avg_laplacian_term=85.4, avg_val_fro=37.2, avg_val_loss=123, avg_val_mae=5.05, batch_nb=16, epoch=14, tng_loss=186.517, v_nb=1]"
     ]
    },
    {
     "name": "stdout",
     "output_type": "stream",
     "text": [
      "G shape: torch.Size([8, 3476, 3476])\n",
      "t: tensor([103,  24,  20,  55,   8,  94,   5, 116]), batch_nb: 10\n"
     ]
    },
    {
     "name": "stderr",
     "output_type": "stream",
     "text": [
      "\r",
      " 78%|███████▊  | 28/36 [01:54<00:31,  3.94s/it, avg_laplacian_term=85.4, avg_val_fro=37.2, avg_val_loss=123, avg_val_mae=5.05, batch_nb=16, epoch=14, tng_loss=186.517, v_nb=1]"
     ]
    },
    {
     "name": "stdout",
     "output_type": "stream",
     "text": [
      "G shape: torch.Size([8, 3476, 3476])\n",
      "t: tensor([ 67, 122, 139,   0, 124,  19,  69, 118]), batch_nb: 11\n"
     ]
    },
    {
     "name": "stderr",
     "output_type": "stream",
     "text": [
      "\r",
      " 81%|████████  | 29/36 [01:58<00:27,  3.95s/it, avg_laplacian_term=85.4, avg_val_fro=37.2, avg_val_loss=123, avg_val_mae=5.05, batch_nb=16, epoch=14, tng_loss=186.517, v_nb=1]"
     ]
    },
    {
     "name": "stdout",
     "output_type": "stream",
     "text": [
      "G shape: torch.Size([8, 3476, 3476])\n",
      "t: tensor([ 41, 111,   4,  68,  50,  98,  81,  45]), batch_nb: 12\n"
     ]
    },
    {
     "name": "stderr",
     "output_type": "stream",
     "text": [
      "\r",
      " 83%|████████▎ | 30/36 [02:02<00:23,  3.97s/it, avg_laplacian_term=85.4, avg_val_fro=37.2, avg_val_loss=123, avg_val_mae=5.05, batch_nb=16, epoch=14, tng_loss=186.517, v_nb=1]"
     ]
    },
    {
     "name": "stdout",
     "output_type": "stream",
     "text": [
      "G shape: torch.Size([8, 3476, 3476])\n",
      "t: tensor([105, 133, 132,  63, 134, 100,  47,  61]), batch_nb: 13\n"
     ]
    },
    {
     "name": "stderr",
     "output_type": "stream",
     "text": [
      "\r",
      " 86%|████████▌ | 31/36 [02:06<00:20,  4.00s/it, avg_laplacian_term=85.4, avg_val_fro=37.2, avg_val_loss=123, avg_val_mae=5.05, batch_nb=16, epoch=14, tng_loss=186.517, v_nb=1]"
     ]
    },
    {
     "name": "stdout",
     "output_type": "stream",
     "text": [
      "G shape: torch.Size([8, 3476, 3476])\n",
      "t: tensor([127, 117,  37, 125,  88, 143, 110, 140]), batch_nb: 14\n"
     ]
    },
    {
     "name": "stderr",
     "output_type": "stream",
     "text": [
      "\r",
      " 89%|████████▉ | 32/36 [02:10<00:16,  4.05s/it, avg_laplacian_term=85.4, avg_val_fro=37.2, avg_val_loss=123, avg_val_mae=5.05, batch_nb=16, epoch=14, tng_loss=186.517, v_nb=1]"
     ]
    },
    {
     "name": "stdout",
     "output_type": "stream",
     "text": [
      "G shape: torch.Size([8, 3476, 3476])\n",
      "t: tensor([ 46,  28, 131,  39,  97,  66,  44,  22]), batch_nb: 15\n"
     ]
    },
    {
     "name": "stderr",
     "output_type": "stream",
     "text": [
      "\r",
      " 92%|█████████▏| 33/36 [02:14<00:12,  4.09s/it, avg_laplacian_term=85.4, avg_val_fro=37.2, avg_val_loss=123, avg_val_mae=5.05, batch_nb=16, epoch=14, tng_loss=186.517, v_nb=1]"
     ]
    },
    {
     "name": "stdout",
     "output_type": "stream",
     "text": [
      "G shape: torch.Size([8, 3476, 3476])\n",
      "t: tensor([ 49,  72,  16,  86,  21, 129,  82,  74]), batch_nb: 16\n"
     ]
    },
    {
     "name": "stderr",
     "output_type": "stream",
     "text": [
      "\r",
      " 94%|█████████▍| 34/36 [02:18<00:07,  3.99s/it, avg_laplacian_term=85.4, avg_val_fro=37.2, avg_val_loss=123, avg_val_mae=5.05, batch_nb=16, epoch=14, tng_loss=186.517, v_nb=1]"
     ]
    },
    {
     "name": "stdout",
     "output_type": "stream",
     "text": [
      "G shape: torch.Size([8, 3476, 3476])\n",
      "t: tensor([ 42, 141,  85,  77,   7,   6, 137, 101]), batch_nb: 17\n"
     ]
    },
    {
     "name": "stderr",
     "output_type": "stream",
     "text": [
      "100%|██████████| 36/36 [02:22<00:00,  2.90s/it, avg_laplacian_term=84.3, avg_val_fro=36.9, avg_val_loss=121, avg_val_mae=5.03, batch_nb=16, epoch=14, tng_loss=186.517, v_nb=1]"
     ]
    },
    {
     "name": "stdout",
     "output_type": "stream",
     "text": [
      "G shape: torch.Size([8, 3476, 3476])\n",
      "t: tensor([106,  36,  91,  75,  92,  44,  56,  70]), batch_nb: 17\n"
     ]
    },
    {
     "name": "stderr",
     "output_type": "stream",
     "text": [
      "  3%|▎         | 1/36 [00:00<00:15,  2.30it/s], avg_laplacian_term=84.3, avg_val_fro=36.9, avg_val_loss=121, avg_val_mae=5.03, batch_nb=17, epoch=14, tng_loss=186.494, v_nb=1]"
     ]
    },
    {
     "name": "stdout",
     "output_type": "stream",
     "text": [
      "G shape: torch.Size([8, 3476, 3476])\n",
      "t: tensor([ 35,  97, 113, 101,  65,  52, 141,  93]), batch_nb: 0\n"
     ]
    },
    {
     "name": "stderr",
     "output_type": "stream",
     "text": [
      "  6%|▌         | 2/36 [00:04<00:49,  1.46s/it, avg_laplacian_term=84.3, avg_val_fro=36.9, avg_val_loss=121, avg_val_mae=5.03, batch_nb=0, epoch=15, tng_loss=186.302, v_nb=1]"
     ]
    },
    {
     "name": "stdout",
     "output_type": "stream",
     "text": [
      "G shape: torch.Size([8, 3476, 3476])\n",
      "t: tensor([85, 98, 33, 39,  3, 27, 21, 74]), batch_nb: 1\n"
     ]
    },
    {
     "name": "stderr",
     "output_type": "stream",
     "text": [
      "  8%|▊         | 3/36 [00:08<01:13,  2.22s/it, avg_laplacian_term=84.3, avg_val_fro=36.9, avg_val_loss=121, avg_val_mae=5.03, batch_nb=1, epoch=15, tng_loss=186.034, v_nb=1]"
     ]
    },
    {
     "name": "stdout",
     "output_type": "stream",
     "text": [
      "G shape: torch.Size([8, 3476, 3476])\n",
      "t: tensor([ 60, 122,   2,  20,  90,  63,  22,  19]), batch_nb: 2\n"
     ]
    },
    {
     "name": "stderr",
     "output_type": "stream",
     "text": [
      " 11%|█         | 4/36 [00:12<01:26,  2.71s/it, avg_laplacian_term=84.3, avg_val_fro=36.9, avg_val_loss=121, avg_val_mae=5.03, batch_nb=2, epoch=15, tng_loss=185.671, v_nb=1]"
     ]
    },
    {
     "name": "stdout",
     "output_type": "stream",
     "text": [
      "G shape: torch.Size([8, 3476, 3476])\n",
      "t: tensor([ 12,  76,   4, 104,  78,  14, 108,  84]), batch_nb: 3\n"
     ]
    },
    {
     "name": "stderr",
     "output_type": "stream",
     "text": [
      " 14%|█▍        | 5/36 [00:16<01:37,  3.14s/it, avg_laplacian_term=84.3, avg_val_fro=36.9, avg_val_loss=121, avg_val_mae=5.03, batch_nb=3, epoch=15, tng_loss=185.531, v_nb=1]"
     ]
    },
    {
     "name": "stdout",
     "output_type": "stream",
     "text": [
      "G shape: torch.Size([8, 3476, 3476])\n",
      "t: tensor([ 44, 134,   1,  24,  18,  49,  38,  15]), batch_nb: 4\n"
     ]
    },
    {
     "name": "stderr",
     "output_type": "stream",
     "text": [
      " 17%|█▋        | 6/36 [00:21<01:52,  3.74s/it, avg_laplacian_term=84.3, avg_val_fro=36.9, avg_val_loss=121, avg_val_mae=5.03, batch_nb=4, epoch=15, tng_loss=185.275, v_nb=1]"
     ]
    },
    {
     "name": "stdout",
     "output_type": "stream",
     "text": [
      "G shape: torch.Size([8, 3476, 3476])\n",
      "t: tensor([ 11,  79,  86, 105, 142,  94,  53, 121]), batch_nb: 5\n"
     ]
    },
    {
     "name": "stderr",
     "output_type": "stream",
     "text": [
      " 19%|█▉        | 7/36 [00:25<01:53,  3.91s/it, avg_laplacian_term=84.3, avg_val_fro=36.9, avg_val_loss=121, avg_val_mae=5.03, batch_nb=5, epoch=15, tng_loss=185.327, v_nb=1]"
     ]
    },
    {
     "name": "stdout",
     "output_type": "stream",
     "text": [
      "G shape: torch.Size([8, 3476, 3476])\n",
      "t: tensor([118,  69,  62, 115, 106,  51,  16,  89]), batch_nb: 6\n"
     ]
    },
    {
     "name": "stderr",
     "output_type": "stream",
     "text": [
      " 22%|██▏       | 8/36 [00:30<01:57,  4.19s/it, avg_laplacian_term=84.3, avg_val_fro=36.9, avg_val_loss=121, avg_val_mae=5.03, batch_nb=6, epoch=15, tng_loss=185.224, v_nb=1]"
     ]
    },
    {
     "name": "stdout",
     "output_type": "stream",
     "text": [
      "G shape: torch.Size([8, 3476, 3476])\n",
      "t: tensor([ 31,  26,  70,   7,  36,  30, 129, 112]), batch_nb: 7\n"
     ]
    },
    {
     "name": "stderr",
     "output_type": "stream",
     "text": [
      " 25%|██▌       | 9/36 [00:34<01:51,  4.14s/it, avg_laplacian_term=84.3, avg_val_fro=36.9, avg_val_loss=121, avg_val_mae=5.03, batch_nb=7, epoch=15, tng_loss=185.055, v_nb=1]"
     ]
    },
    {
     "name": "stdout",
     "output_type": "stream",
     "text": [
      "G shape: torch.Size([8, 3476, 3476])\n",
      "t: tensor([ 75,  96, 114,  48, 138,  34,  91, 132]), batch_nb: 8\n"
     ]
    },
    {
     "name": "stderr",
     "output_type": "stream",
     "text": [
      " 28%|██▊       | 10/36 [00:38<01:48,  4.19s/it, avg_laplacian_term=84.3, avg_val_fro=36.9, avg_val_loss=121, avg_val_mae=5.03, batch_nb=8, epoch=15, tng_loss=184.783, v_nb=1]"
     ]
    },
    {
     "name": "stdout",
     "output_type": "stream",
     "text": [
      "G shape: torch.Size([8, 3476, 3476])\n",
      "t: tensor([136,  67,  32,  61,  71, 139, 116, 102]), batch_nb: 9\n"
     ]
    },
    {
     "name": "stderr",
     "output_type": "stream",
     "text": [
      " 31%|███       | 11/36 [00:43<01:45,  4.22s/it, avg_laplacian_term=84.3, avg_val_fro=36.9, avg_val_loss=121, avg_val_mae=5.03, batch_nb=9, epoch=15, tng_loss=184.676, v_nb=1]"
     ]
    },
    {
     "name": "stdout",
     "output_type": "stream",
     "text": [
      "G shape: torch.Size([8, 3476, 3476])\n",
      "t: tensor([ 50,   6, 100,  82,  41,  55, 131,  88]), batch_nb: 10\n"
     ]
    },
    {
     "name": "stderr",
     "output_type": "stream",
     "text": [
      " 33%|███▎      | 12/36 [00:47<01:42,  4.26s/it, avg_laplacian_term=84.3, avg_val_fro=36.9, avg_val_loss=121, avg_val_mae=5.03, batch_nb=10, epoch=15, tng_loss=184.661, v_nb=1]"
     ]
    },
    {
     "name": "stdout",
     "output_type": "stream",
     "text": [
      "G shape: torch.Size([8, 3476, 3476])\n",
      "t: tensor([117,  87,  28, 137,  56,  72, 111, 125]), batch_nb: 11\n"
     ]
    },
    {
     "name": "stderr",
     "output_type": "stream",
     "text": [
      " 36%|███▌      | 13/36 [00:51<01:34,  4.11s/it, avg_laplacian_term=84.3, avg_val_fro=36.9, avg_val_loss=121, avg_val_mae=5.03, batch_nb=11, epoch=15, tng_loss=184.539, v_nb=1]"
     ]
    },
    {
     "name": "stdout",
     "output_type": "stream",
     "text": [
      "G shape: torch.Size([8, 3476, 3476])\n",
      "t: tensor([135, 107, 110, 133, 124,  47,  29,  25]), batch_nb: 12\n"
     ]
    },
    {
     "name": "stderr",
     "output_type": "stream",
     "text": [
      " 39%|███▉      | 14/36 [00:55<01:33,  4.26s/it, avg_laplacian_term=84.3, avg_val_fro=36.9, avg_val_loss=121, avg_val_mae=5.03, batch_nb=12, epoch=15, tng_loss=184.373, v_nb=1]"
     ]
    },
    {
     "name": "stdout",
     "output_type": "stream",
     "text": [
      "G shape: torch.Size([8, 3476, 3476])\n",
      "t: tensor([ 73,  45, 130,  83,  77,   8,  13,  40]), batch_nb: 13\n"
     ]
    },
    {
     "name": "stderr",
     "output_type": "stream",
     "text": [
      " 42%|████▏     | 15/36 [01:00<01:30,  4.32s/it, avg_laplacian_term=84.3, avg_val_fro=36.9, avg_val_loss=121, avg_val_mae=5.03, batch_nb=13, epoch=15, tng_loss=184.148, v_nb=1]"
     ]
    },
    {
     "name": "stdout",
     "output_type": "stream",
     "text": [
      "G shape: torch.Size([8, 3476, 3476])\n",
      "t: tensor([ 58,  81,  37,   0,  99,  66,  43, 119]), batch_nb: 14\n"
     ]
    },
    {
     "name": "stderr",
     "output_type": "stream",
     "text": [
      " 44%|████▍     | 16/36 [01:04<01:27,  4.35s/it, avg_laplacian_term=84.3, avg_val_fro=36.9, avg_val_loss=121, avg_val_mae=5.03, batch_nb=14, epoch=15, tng_loss=183.900, v_nb=1]"
     ]
    },
    {
     "name": "stdout",
     "output_type": "stream",
     "text": [
      "G shape: torch.Size([8, 3476, 3476])\n",
      "t: tensor([128, 120, 126,  59,  92, 127,  42, 123]), batch_nb: 15\n"
     ]
    },
    {
     "name": "stderr",
     "output_type": "stream",
     "text": [
      " 47%|████▋     | 17/36 [01:08<01:20,  4.26s/it, avg_laplacian_term=84.3, avg_val_fro=36.9, avg_val_loss=121, avg_val_mae=5.03, batch_nb=15, epoch=15, tng_loss=183.808, v_nb=1]"
     ]
    },
    {
     "name": "stdout",
     "output_type": "stream",
     "text": [
      "G shape: torch.Size([8, 3476, 3476])\n",
      "t: tensor([ 64, 103,  95,  68,  54,  80,  23,  46]), batch_nb: 16\n"
     ]
    },
    {
     "name": "stderr",
     "output_type": "stream",
     "text": [
      "\r",
      " 47%|████▋     | 17/36 [01:12<01:20,  4.26s/it, avg_laplacian_term=84.3, avg_val_fro=36.9, avg_val_loss=121, avg_val_mae=5.03, batch_nb=16, epoch=15, tng_loss=183.744, v_nb=1]"
     ]
    },
    {
     "name": "stdout",
     "output_type": "stream",
     "text": [
      "G shape: torch.Size([8, 3476, 3476])\n",
      "t: tensor([ 32,  36, 100, 128,  41, 109,   8, 125]), batch_nb: 0\n"
     ]
    },
    {
     "name": "stderr",
     "output_type": "stream",
     "text": [
      "\r",
      " 50%|█████     | 18/36 [01:16<01:36,  5.36s/it, avg_laplacian_term=84.3, avg_val_fro=36.9, avg_val_loss=121, avg_val_mae=5.03, batch_nb=16, epoch=15, tng_loss=183.744, v_nb=1]"
     ]
    },
    {
     "name": "stdout",
     "output_type": "stream",
     "text": [
      "G shape: torch.Size([8, 3476, 3476])\n",
      "t: tensor([ 83,  72, 136, 119,  68,  62,  42,  30]), batch_nb: 1\n"
     ]
    },
    {
     "name": "stderr",
     "output_type": "stream",
     "text": [
      "\r",
      " 53%|█████▎    | 19/36 [01:20<01:22,  4.86s/it, avg_laplacian_term=84.3, avg_val_fro=36.9, avg_val_loss=121, avg_val_mae=5.03, batch_nb=16, epoch=15, tng_loss=183.744, v_nb=1]"
     ]
    },
    {
     "name": "stdout",
     "output_type": "stream",
     "text": [
      "G shape: torch.Size([8, 3476, 3476])\n",
      "t: tensor([ 57, 134,  89,  16, 115, 113,   2, 124]), batch_nb: 2\n"
     ]
    },
    {
     "name": "stderr",
     "output_type": "stream",
     "text": [
      "\r",
      " 56%|█████▌    | 20/36 [01:24<01:12,  4.54s/it, avg_laplacian_term=84.3, avg_val_fro=36.9, avg_val_loss=121, avg_val_mae=5.03, batch_nb=16, epoch=15, tng_loss=183.744, v_nb=1]"
     ]
    },
    {
     "name": "stdout",
     "output_type": "stream",
     "text": [
      "G shape: torch.Size([8, 3476, 3476])\n",
      "t: tensor([ 18,  96, 141,  70,  66, 130,  87,  67]), batch_nb: 3\n"
     ]
    },
    {
     "name": "stderr",
     "output_type": "stream",
     "text": [
      "\r",
      " 58%|█████▊    | 21/36 [01:29<01:09,  4.63s/it, avg_laplacian_term=84.3, avg_val_fro=36.9, avg_val_loss=121, avg_val_mae=5.03, batch_nb=16, epoch=15, tng_loss=183.744, v_nb=1]"
     ]
    },
    {
     "name": "stdout",
     "output_type": "stream",
     "text": [
      "G shape: torch.Size([8, 3476, 3476])\n",
      "t: tensor([114,  19,  91,  77,  63,  93, 112, 122]), batch_nb: 4\n"
     ]
    },
    {
     "name": "stderr",
     "output_type": "stream",
     "text": [
      "\r",
      " 61%|██████    | 22/36 [01:32<00:59,  4.27s/it, avg_laplacian_term=84.3, avg_val_fro=36.9, avg_val_loss=121, avg_val_mae=5.03, batch_nb=16, epoch=15, tng_loss=183.744, v_nb=1]"
     ]
    },
    {
     "name": "stdout",
     "output_type": "stream",
     "text": [
      "G shape: torch.Size([8, 3476, 3476])\n",
      "t: tensor([ 80, 142,  61,   0,  97,  85,  23, 133]), batch_nb: 5\n"
     ]
    },
    {
     "name": "stderr",
     "output_type": "stream",
     "text": [
      "\r",
      " 64%|██████▍   | 23/36 [01:36<00:53,  4.08s/it, avg_laplacian_term=84.3, avg_val_fro=36.9, avg_val_loss=121, avg_val_mae=5.03, batch_nb=16, epoch=15, tng_loss=183.744, v_nb=1]"
     ]
    },
    {
     "name": "stdout",
     "output_type": "stream",
     "text": [
      "G shape: torch.Size([8, 3476, 3476])\n",
      "t: tensor([102,  47,  48, 118,  76,  14, 104, 131]), batch_nb: 6\n"
     ]
    },
    {
     "name": "stderr",
     "output_type": "stream",
     "text": [
      "\r",
      " 67%|██████▋   | 24/36 [01:40<00:49,  4.15s/it, avg_laplacian_term=84.3, avg_val_fro=36.9, avg_val_loss=121, avg_val_mae=5.03, batch_nb=16, epoch=15, tng_loss=183.744, v_nb=1]"
     ]
    },
    {
     "name": "stdout",
     "output_type": "stream",
     "text": [
      "G shape: torch.Size([8, 3476, 3476])\n",
      "t: tensor([  4,   1, 110,   6,   3,   9,  28,  94]), batch_nb: 7\n"
     ]
    },
    {
     "name": "stderr",
     "output_type": "stream",
     "text": [
      "\r",
      " 69%|██████▉   | 25/36 [01:44<00:46,  4.22s/it, avg_laplacian_term=84.3, avg_val_fro=36.9, avg_val_loss=121, avg_val_mae=5.03, batch_nb=16, epoch=15, tng_loss=183.744, v_nb=1]"
     ]
    },
    {
     "name": "stdout",
     "output_type": "stream",
     "text": [
      "G shape: torch.Size([8, 3476, 3476])\n",
      "t: tensor([ 22, 123,  53,   7, 120,  13,  17,  60]), batch_nb: 8\n"
     ]
    },
    {
     "name": "stderr",
     "output_type": "stream",
     "text": [
      "\r",
      " 72%|███████▏  | 26/36 [01:48<00:40,  4.09s/it, avg_laplacian_term=84.3, avg_val_fro=36.9, avg_val_loss=121, avg_val_mae=5.03, batch_nb=16, epoch=15, tng_loss=183.744, v_nb=1]"
     ]
    },
    {
     "name": "stdout",
     "output_type": "stream",
     "text": [
      "G shape: torch.Size([8, 3476, 3476])\n",
      "t: tensor([ 59,  90,  65, 137,  86,  54,  39,  95]), batch_nb: 9\n"
     ]
    },
    {
     "name": "stderr",
     "output_type": "stream",
     "text": [
      "\r",
      " 75%|███████▌  | 27/36 [01:52<00:36,  4.04s/it, avg_laplacian_term=84.3, avg_val_fro=36.9, avg_val_loss=121, avg_val_mae=5.03, batch_nb=16, epoch=15, tng_loss=183.744, v_nb=1]"
     ]
    },
    {
     "name": "stdout",
     "output_type": "stream",
     "text": [
      "G shape: torch.Size([8, 3476, 3476])\n",
      "t: tensor([132,  11,  64,  58,  33,  34,  20,  52]), batch_nb: 10\n"
     ]
    },
    {
     "name": "stderr",
     "output_type": "stream",
     "text": [
      "\r",
      " 78%|███████▊  | 28/36 [01:56<00:31,  3.99s/it, avg_laplacian_term=84.3, avg_val_fro=36.9, avg_val_loss=121, avg_val_mae=5.03, batch_nb=16, epoch=15, tng_loss=183.744, v_nb=1]"
     ]
    },
    {
     "name": "stdout",
     "output_type": "stream",
     "text": [
      "G shape: torch.Size([8, 3476, 3476])\n",
      "t: tensor([116,  55, 135, 126, 143,  99,  12,  73]), batch_nb: 11\n"
     ]
    },
    {
     "name": "stderr",
     "output_type": "stream",
     "text": [
      "\r",
      " 81%|████████  | 29/36 [02:01<00:29,  4.17s/it, avg_laplacian_term=84.3, avg_val_fro=36.9, avg_val_loss=121, avg_val_mae=5.03, batch_nb=16, epoch=15, tng_loss=183.744, v_nb=1]"
     ]
    },
    {
     "name": "stdout",
     "output_type": "stream",
     "text": [
      "G shape: torch.Size([8, 3476, 3476])\n",
      "t: tensor([105,  75, 138,  15,  78,  25,  29,  45]), batch_nb: 12\n"
     ]
    },
    {
     "name": "stderr",
     "output_type": "stream",
     "text": [
      "\r",
      " 83%|████████▎ | 30/36 [02:04<00:24,  4.09s/it, avg_laplacian_term=84.3, avg_val_fro=36.9, avg_val_loss=121, avg_val_mae=5.03, batch_nb=16, epoch=15, tng_loss=183.744, v_nb=1]"
     ]
    },
    {
     "name": "stdout",
     "output_type": "stream",
     "text": [
      "G shape: torch.Size([8, 3476, 3476])\n",
      "t: tensor([ 69, 111,  40,  44,  37, 107,  26, 117]), batch_nb: 13\n"
     ]
    },
    {
     "name": "stderr",
     "output_type": "stream",
     "text": [
      "\r",
      " 86%|████████▌ | 31/36 [02:08<00:20,  4.02s/it, avg_laplacian_term=84.3, avg_val_fro=36.9, avg_val_loss=121, avg_val_mae=5.03, batch_nb=16, epoch=15, tng_loss=183.744, v_nb=1]"
     ]
    },
    {
     "name": "stdout",
     "output_type": "stream",
     "text": [
      "G shape: torch.Size([8, 3476, 3476])\n",
      "t: tensor([ 84,   5,  35, 108,  79, 101,  24,  27]), batch_nb: 14\n"
     ]
    },
    {
     "name": "stderr",
     "output_type": "stream",
     "text": [
      "\r",
      " 89%|████████▉ | 32/36 [02:13<00:16,  4.09s/it, avg_laplacian_term=84.3, avg_val_fro=36.9, avg_val_loss=121, avg_val_mae=5.03, batch_nb=16, epoch=15, tng_loss=183.744, v_nb=1]"
     ]
    },
    {
     "name": "stdout",
     "output_type": "stream",
     "text": [
      "G shape: torch.Size([8, 3476, 3476])\n",
      "t: tensor([ 46, 129,  71,  56,  98,  74, 127, 139]), batch_nb: 15\n"
     ]
    },
    {
     "name": "stderr",
     "output_type": "stream",
     "text": [
      "\r",
      " 92%|█████████▏| 33/36 [02:16<00:11,  3.95s/it, avg_laplacian_term=84.3, avg_val_fro=36.9, avg_val_loss=121, avg_val_mae=5.03, batch_nb=16, epoch=15, tng_loss=183.744, v_nb=1]"
     ]
    },
    {
     "name": "stdout",
     "output_type": "stream",
     "text": [
      "G shape: torch.Size([8, 3476, 3476])\n",
      "t: tensor([ 43,  21, 106, 121,  50,  51,  92,  88]), batch_nb: 16\n"
     ]
    },
    {
     "name": "stderr",
     "output_type": "stream",
     "text": [
      "\r",
      " 94%|█████████▍| 34/36 [02:20<00:07,  3.78s/it, avg_laplacian_term=84.3, avg_val_fro=36.9, avg_val_loss=121, avg_val_mae=5.03, batch_nb=16, epoch=15, tng_loss=183.744, v_nb=1]"
     ]
    },
    {
     "name": "stdout",
     "output_type": "stream",
     "text": [
      "G shape: torch.Size([8, 3476, 3476])\n",
      "t: tensor([ 81,  82,  10,  31,  38, 140,  49, 103]), batch_nb: 17\n"
     ]
    },
    {
     "name": "stderr",
     "output_type": "stream",
     "text": [
      "100%|██████████| 36/36 [02:23<00:00,  2.71s/it, avg_laplacian_term=83.2, avg_val_fro=36.6, avg_val_loss=120, avg_val_mae=4.99, batch_nb=16, epoch=15, tng_loss=183.744, v_nb=1]"
     ]
    },
    {
     "name": "stdout",
     "output_type": "stream",
     "text": [
      "G shape: torch.Size([8, 3476, 3476])\n",
      "t: tensor([  5,  57, 140,  17,  10, 109,   9, 143]), batch_nb: 17\n"
     ]
    },
    {
     "name": "stderr",
     "output_type": "stream",
     "text": [
      "  3%|▎         | 1/36 [00:00<00:14,  2.40it/s], avg_laplacian_term=83.2, avg_val_fro=36.6, avg_val_loss=120, avg_val_mae=4.99, batch_nb=17, epoch=15, tng_loss=183.674, v_nb=1]"
     ]
    },
    {
     "name": "stdout",
     "output_type": "stream",
     "text": [
      "G shape: torch.Size([8, 3476, 3476])\n",
      "t: tensor([ 93, 143, 137,  89, 110,  29,  16,  69]), batch_nb: 0\n"
     ]
    },
    {
     "name": "stderr",
     "output_type": "stream",
     "text": [
      "  6%|▌         | 2/36 [00:05<01:00,  1.77s/it, avg_laplacian_term=83.2, avg_val_fro=36.6, avg_val_loss=120, avg_val_mae=4.99, batch_nb=0, epoch=16, tng_loss=183.789, v_nb=1]"
     ]
    },
    {
     "name": "stdout",
     "output_type": "stream",
     "text": [
      "G shape: torch.Size([8, 3476, 3476])\n",
      "t: tensor([ 79, 100, 101,  37,  31, 121,  40,  27]), batch_nb: 1\n"
     ]
    },
    {
     "name": "stderr",
     "output_type": "stream",
     "text": [
      "  8%|▊         | 3/36 [00:09<01:19,  2.42s/it, avg_laplacian_term=83.2, avg_val_fro=36.6, avg_val_loss=120, avg_val_mae=4.99, batch_nb=1, epoch=16, tng_loss=183.714, v_nb=1]"
     ]
    },
    {
     "name": "stdout",
     "output_type": "stream",
     "text": [
      "G shape: torch.Size([8, 3476, 3476])\n",
      "t: tensor([108,  12,  80,  56,   7,  53, 130,  42]), batch_nb: 2\n"
     ]
    },
    {
     "name": "stderr",
     "output_type": "stream",
     "text": [
      " 11%|█         | 4/36 [00:13<01:31,  2.85s/it, avg_laplacian_term=83.2, avg_val_fro=36.6, avg_val_loss=120, avg_val_mae=4.99, batch_nb=2, epoch=16, tng_loss=183.785, v_nb=1]"
     ]
    },
    {
     "name": "stdout",
     "output_type": "stream",
     "text": [
      "G shape: torch.Size([8, 3476, 3476])\n",
      "t: tensor([142,  82,  33,  43,  86, 141,   2, 105]), batch_nb: 3\n"
     ]
    },
    {
     "name": "stderr",
     "output_type": "stream",
     "text": [
      " 14%|█▍        | 5/36 [00:16<01:37,  3.16s/it, avg_laplacian_term=83.2, avg_val_fro=36.6, avg_val_loss=120, avg_val_mae=4.99, batch_nb=3, epoch=16, tng_loss=183.594, v_nb=1]"
     ]
    },
    {
     "name": "stdout",
     "output_type": "stream",
     "text": [
      "G shape: torch.Size([8, 3476, 3476])\n",
      "t: tensor([ 58, 131,  10, 128,  18,  75,  88,  11]), batch_nb: 4\n"
     ]
    },
    {
     "name": "stderr",
     "output_type": "stream",
     "text": [
      " 17%|█▋        | 6/36 [00:20<01:41,  3.37s/it, avg_laplacian_term=83.2, avg_val_fro=36.6, avg_val_loss=120, avg_val_mae=4.99, batch_nb=4, epoch=16, tng_loss=183.589, v_nb=1]"
     ]
    },
    {
     "name": "stdout",
     "output_type": "stream",
     "text": [
      "G shape: torch.Size([8, 3476, 3476])\n",
      "t: tensor([115,  20, 117,  62,  28,  48, 138,  46]), batch_nb: 5\n"
     ]
    },
    {
     "name": "stderr",
     "output_type": "stream",
     "text": [
      " 19%|█▉        | 7/36 [00:24<01:42,  3.53s/it, avg_laplacian_term=83.2, avg_val_fro=36.6, avg_val_loss=120, avg_val_mae=4.99, batch_nb=5, epoch=16, tng_loss=183.526, v_nb=1]"
     ]
    },
    {
     "name": "stdout",
     "output_type": "stream",
     "text": [
      "G shape: torch.Size([8, 3476, 3476])\n",
      "t: tensor([109,  38,  17, 126, 119,  83,  64, 120]), batch_nb: 6\n"
     ]
    },
    {
     "name": "stderr",
     "output_type": "stream",
     "text": [
      " 22%|██▏       | 8/36 [00:28<01:42,  3.66s/it, avg_laplacian_term=83.2, avg_val_fro=36.6, avg_val_loss=120, avg_val_mae=4.99, batch_nb=6, epoch=16, tng_loss=183.634, v_nb=1]"
     ]
    },
    {
     "name": "stdout",
     "output_type": "stream",
     "text": [
      "G shape: torch.Size([8, 3476, 3476])\n",
      "t: tensor([ 98,  47, 122,  87, 132,  72,  13, 112]), batch_nb: 7\n"
     ]
    },
    {
     "name": "stderr",
     "output_type": "stream",
     "text": [
      " 25%|██▌       | 9/36 [00:32<01:40,  3.71s/it, avg_laplacian_term=83.2, avg_val_fro=36.6, avg_val_loss=120, avg_val_mae=4.99, batch_nb=7, epoch=16, tng_loss=183.349, v_nb=1]"
     ]
    },
    {
     "name": "stdout",
     "output_type": "stream",
     "text": [
      "G shape: torch.Size([8, 3476, 3476])\n",
      "t: tensor([ 39,  63,   0,  92,  55, 106,  65,  22]), batch_nb: 8\n"
     ]
    },
    {
     "name": "stderr",
     "output_type": "stream",
     "text": [
      " 28%|██▊       | 10/36 [00:36<01:37,  3.75s/it, avg_laplacian_term=83.2, avg_val_fro=36.6, avg_val_loss=120, avg_val_mae=4.99, batch_nb=8, epoch=16, tng_loss=183.167, v_nb=1]"
     ]
    },
    {
     "name": "stdout",
     "output_type": "stream",
     "text": [
      "G shape: torch.Size([8, 3476, 3476])\n",
      "t: tensor([140,   9,  67, 135,   3,  73,  51,  91]), batch_nb: 9\n"
     ]
    },
    {
     "name": "stderr",
     "output_type": "stream",
     "text": [
      " 31%|███       | 11/36 [00:42<01:51,  4.47s/it, avg_laplacian_term=83.2, avg_val_fro=36.6, avg_val_loss=120, avg_val_mae=4.99, batch_nb=9, epoch=16, tng_loss=183.031, v_nb=1]"
     ]
    },
    {
     "name": "stdout",
     "output_type": "stream",
     "text": [
      "G shape: torch.Size([8, 3476, 3476])\n",
      "t: tensor([ 26,  66,  84, 127,  34,  94,  70, 118]), batch_nb: 10\n"
     ]
    },
    {
     "name": "stderr",
     "output_type": "stream",
     "text": [
      " 33%|███▎      | 12/36 [00:47<01:50,  4.62s/it, avg_laplacian_term=83.2, avg_val_fro=36.6, avg_val_loss=120, avg_val_mae=4.99, batch_nb=10, epoch=16, tng_loss=182.895, v_nb=1]"
     ]
    },
    {
     "name": "stdout",
     "output_type": "stream",
     "text": [
      "G shape: torch.Size([8, 3476, 3476])\n",
      "t: tensor([123,  85,  24, 104, 124,  23, 102,   8]), batch_nb: 11\n"
     ]
    },
    {
     "name": "stderr",
     "output_type": "stream",
     "text": [
      " 36%|███▌      | 13/36 [00:51<01:42,  4.45s/it, avg_laplacian_term=83.2, avg_val_fro=36.6, avg_val_loss=120, avg_val_mae=4.99, batch_nb=11, epoch=16, tng_loss=182.755, v_nb=1]"
     ]
    },
    {
     "name": "stdout",
     "output_type": "stream",
     "text": [
      "G shape: torch.Size([8, 3476, 3476])\n",
      "t: tensor([41, 14, 15, 32, 50, 76, 35, 59]), batch_nb: 12\n"
     ]
    },
    {
     "name": "stderr",
     "output_type": "stream",
     "text": [
      " 39%|███▉      | 14/36 [00:55<01:32,  4.22s/it, avg_laplacian_term=83.2, avg_val_fro=36.6, avg_val_loss=120, avg_val_mae=4.99, batch_nb=12, epoch=16, tng_loss=182.511, v_nb=1]"
     ]
    },
    {
     "name": "stdout",
     "output_type": "stream",
     "text": [
      "G shape: torch.Size([8, 3476, 3476])\n",
      "t: tensor([ 74,   4, 125,  97,  78,  68,  19,  54]), batch_nb: 13\n"
     ]
    },
    {
     "name": "stderr",
     "output_type": "stream",
     "text": [
      " 42%|████▏     | 15/36 [00:58<01:24,  4.02s/it, avg_laplacian_term=83.2, avg_val_fro=36.6, avg_val_loss=120, avg_val_mae=4.99, batch_nb=13, epoch=16, tng_loss=182.360, v_nb=1]"
     ]
    },
    {
     "name": "stdout",
     "output_type": "stream",
     "text": [
      "G shape: torch.Size([8, 3476, 3476])\n",
      "t: tensor([133,  30,   1,  81,  61, 103, 129,  77]), batch_nb: 14\n"
     ]
    },
    {
     "name": "stderr",
     "output_type": "stream",
     "text": [
      " 44%|████▍     | 16/36 [01:02<01:17,  3.87s/it, avg_laplacian_term=83.2, avg_val_fro=36.6, avg_val_loss=120, avg_val_mae=4.99, batch_nb=14, epoch=16, tng_loss=182.198, v_nb=1]"
     ]
    },
    {
     "name": "stdout",
     "output_type": "stream",
     "text": [
      "G shape: torch.Size([8, 3476, 3476])\n",
      "t: tensor([ 60,  49,  71,  57,  95,  99,  52, 113]), batch_nb: 15\n"
     ]
    },
    {
     "name": "stderr",
     "output_type": "stream",
     "text": [
      " 47%|████▋     | 17/36 [01:06<01:12,  3.84s/it, avg_laplacian_term=83.2, avg_val_fro=36.6, avg_val_loss=120, avg_val_mae=4.99, batch_nb=15, epoch=16, tng_loss=181.839, v_nb=1]"
     ]
    },
    {
     "name": "stdout",
     "output_type": "stream",
     "text": [
      "G shape: torch.Size([8, 3476, 3476])\n",
      "t: tensor([ 36,  96,  90,   6, 114,  44,  21, 107]), batch_nb: 16\n"
     ]
    },
    {
     "name": "stderr",
     "output_type": "stream",
     "text": [
      "\r",
      " 47%|████▋     | 17/36 [01:09<01:12,  3.84s/it, avg_laplacian_term=83.2, avg_val_fro=36.6, avg_val_loss=120, avg_val_mae=4.99, batch_nb=16, epoch=16, tng_loss=181.696, v_nb=1]"
     ]
    },
    {
     "name": "stdout",
     "output_type": "stream",
     "text": [
      "G shape: torch.Size([8, 3476, 3476])\n",
      "t: tensor([ 68,  29,  66,   8,  78,  45, 142,  18]), batch_nb: 0\n"
     ]
    },
    {
     "name": "stderr",
     "output_type": "stream",
     "text": [
      "\r",
      " 50%|█████     | 18/36 [01:13<01:29,  4.97s/it, avg_laplacian_term=83.2, avg_val_fro=36.6, avg_val_loss=120, avg_val_mae=4.99, batch_nb=16, epoch=16, tng_loss=181.696, v_nb=1]"
     ]
    },
    {
     "name": "stdout",
     "output_type": "stream",
     "text": [
      "G shape: torch.Size([8, 3476, 3476])\n",
      "t: tensor([101,  96, 119,  87,  84,  95,  76, 102]), batch_nb: 1\n"
     ]
    },
    {
     "name": "stderr",
     "output_type": "stream",
     "text": [
      "\r",
      " 53%|█████▎    | 19/36 [01:17<01:20,  4.76s/it, avg_laplacian_term=83.2, avg_val_fro=36.6, avg_val_loss=120, avg_val_mae=4.99, batch_nb=16, epoch=16, tng_loss=181.696, v_nb=1]"
     ]
    },
    {
     "name": "stdout",
     "output_type": "stream",
     "text": [
      "G shape: torch.Size([8, 3476, 3476])\n",
      "t: tensor([ 15,  23,   3,  62,  54, 117,   0,  30]), batch_nb: 2\n"
     ]
    },
    {
     "name": "stderr",
     "output_type": "stream",
     "text": [
      "\r",
      " 56%|█████▌    | 20/36 [01:22<01:14,  4.64s/it, avg_laplacian_term=83.2, avg_val_fro=36.6, avg_val_loss=120, avg_val_mae=4.99, batch_nb=16, epoch=16, tng_loss=181.696, v_nb=1]"
     ]
    },
    {
     "name": "stdout",
     "output_type": "stream",
     "text": [
      "G shape: torch.Size([8, 3476, 3476])\n",
      "t: tensor([134, 106, 125,  51,  65,  48, 133, 115]), batch_nb: 3\n"
     ]
    },
    {
     "name": "stderr",
     "output_type": "stream",
     "text": [
      "\r",
      " 58%|█████▊    | 21/36 [01:26<01:09,  4.61s/it, avg_laplacian_term=83.2, avg_val_fro=36.6, avg_val_loss=120, avg_val_mae=4.99, batch_nb=16, epoch=16, tng_loss=181.696, v_nb=1]"
     ]
    },
    {
     "name": "stdout",
     "output_type": "stream",
     "text": [
      "G shape: torch.Size([8, 3476, 3476])\n",
      "t: tensor([128, 107,  49,  71, 143,  77,  38,  47]), batch_nb: 4\n"
     ]
    },
    {
     "name": "stderr",
     "output_type": "stream",
     "text": [
      "\r",
      " 61%|██████    | 22/36 [01:31<01:02,  4.48s/it, avg_laplacian_term=83.2, avg_val_fro=36.6, avg_val_loss=120, avg_val_mae=4.99, batch_nb=16, epoch=16, tng_loss=181.696, v_nb=1]"
     ]
    },
    {
     "name": "stdout",
     "output_type": "stream",
     "text": [
      "G shape: torch.Size([8, 3476, 3476])\n",
      "t: tensor([ 31,   2, 109,  57,  58,  10,  41,  27]), batch_nb: 5\n"
     ]
    },
    {
     "name": "stderr",
     "output_type": "stream",
     "text": [
      "\r",
      " 64%|██████▍   | 23/36 [01:35<00:59,  4.55s/it, avg_laplacian_term=83.2, avg_val_fro=36.6, avg_val_loss=120, avg_val_mae=4.99, batch_nb=16, epoch=16, tng_loss=181.696, v_nb=1]"
     ]
    },
    {
     "name": "stdout",
     "output_type": "stream",
     "text": [
      "G shape: torch.Size([8, 3476, 3476])\n",
      "t: tensor([ 24,  26,  21,  13,  64, 105,  36,  20]), batch_nb: 6\n"
     ]
    },
    {
     "name": "stderr",
     "output_type": "stream",
     "text": [
      "\r",
      " 67%|██████▋   | 24/36 [01:39<00:52,  4.36s/it, avg_laplacian_term=83.2, avg_val_fro=36.6, avg_val_loss=120, avg_val_mae=4.99, batch_nb=16, epoch=16, tng_loss=181.696, v_nb=1]"
     ]
    },
    {
     "name": "stdout",
     "output_type": "stream",
     "text": [
      "G shape: torch.Size([8, 3476, 3476])\n",
      "t: tensor([ 86,  32,  46,  40, 118, 136,   7,  85]), batch_nb: 7\n"
     ]
    },
    {
     "name": "stderr",
     "output_type": "stream",
     "text": [
      "\r",
      " 69%|██████▉   | 25/36 [01:43<00:47,  4.33s/it, avg_laplacian_term=83.2, avg_val_fro=36.6, avg_val_loss=120, avg_val_mae=4.99, batch_nb=16, epoch=16, tng_loss=181.696, v_nb=1]"
     ]
    },
    {
     "name": "stdout",
     "output_type": "stream",
     "text": [
      "G shape: torch.Size([8, 3476, 3476])\n",
      "t: tensor([ 56,  91, 116,   9,  61,  59,  75, 139]), batch_nb: 8\n"
     ]
    },
    {
     "name": "stderr",
     "output_type": "stream",
     "text": [
      "\r",
      " 72%|███████▏  | 26/36 [01:48<00:43,  4.31s/it, avg_laplacian_term=83.2, avg_val_fro=36.6, avg_val_loss=120, avg_val_mae=4.99, batch_nb=16, epoch=16, tng_loss=181.696, v_nb=1]"
     ]
    },
    {
     "name": "stdout",
     "output_type": "stream",
     "text": [
      "G shape: torch.Size([8, 3476, 3476])\n",
      "t: tensor([  1,  22,  63,  35, 124,  67,  94,  52]), batch_nb: 9\n"
     ]
    },
    {
     "name": "stderr",
     "output_type": "stream",
     "text": [
      "\r",
      " 75%|███████▌  | 27/36 [01:52<00:39,  4.38s/it, avg_laplacian_term=83.2, avg_val_fro=36.6, avg_val_loss=120, avg_val_mae=4.99, batch_nb=16, epoch=16, tng_loss=181.696, v_nb=1]"
     ]
    },
    {
     "name": "stdout",
     "output_type": "stream",
     "text": [
      "G shape: torch.Size([8, 3476, 3476])\n",
      "t: tensor([ 69, 122, 138,   6, 110,  98,  81, 140]), batch_nb: 10\n"
     ]
    },
    {
     "name": "stderr",
     "output_type": "stream",
     "text": [
      "\r",
      " 78%|███████▊  | 28/36 [01:56<00:34,  4.29s/it, avg_laplacian_term=83.2, avg_val_fro=36.6, avg_val_loss=120, avg_val_mae=4.99, batch_nb=16, epoch=16, tng_loss=181.696, v_nb=1]"
     ]
    },
    {
     "name": "stdout",
     "output_type": "stream",
     "text": [
      "G shape: torch.Size([8, 3476, 3476])\n",
      "t: tensor([135,  44,  92, 104, 112, 127, 108,  34]), batch_nb: 11\n"
     ]
    },
    {
     "name": "stderr",
     "output_type": "stream",
     "text": [
      "\r",
      " 81%|████████  | 29/36 [02:00<00:29,  4.24s/it, avg_laplacian_term=83.2, avg_val_fro=36.6, avg_val_loss=120, avg_val_mae=4.99, batch_nb=16, epoch=16, tng_loss=181.696, v_nb=1]"
     ]
    },
    {
     "name": "stdout",
     "output_type": "stream",
     "text": [
      "G shape: torch.Size([8, 3476, 3476])\n",
      "t: tensor([111,  11,  16,  39,  99, 123,  80,  43]), batch_nb: 12\n"
     ]
    },
    {
     "name": "stderr",
     "output_type": "stream",
     "text": [
      "\r",
      " 83%|████████▎ | 30/36 [02:05<00:26,  4.39s/it, avg_laplacian_term=83.2, avg_val_fro=36.6, avg_val_loss=120, avg_val_mae=4.99, batch_nb=16, epoch=16, tng_loss=181.696, v_nb=1]"
     ]
    },
    {
     "name": "stdout",
     "output_type": "stream",
     "text": [
      "G shape: torch.Size([8, 3476, 3476])\n",
      "t: tensor([113,  14,  73,  50,  72,  88,   5,  79]), batch_nb: 13\n"
     ]
    },
    {
     "name": "stderr",
     "output_type": "stream",
     "text": [
      "\r",
      " 86%|████████▌ | 31/36 [02:09<00:21,  4.27s/it, avg_laplacian_term=83.2, avg_val_fro=36.6, avg_val_loss=120, avg_val_mae=4.99, batch_nb=16, epoch=16, tng_loss=181.696, v_nb=1]"
     ]
    },
    {
     "name": "stdout",
     "output_type": "stream",
     "text": [
      "G shape: torch.Size([8, 3476, 3476])\n",
      "t: tensor([131,  37,  55,  89, 126,  42,  70,  19]), batch_nb: 14\n"
     ]
    },
    {
     "name": "stderr",
     "output_type": "stream",
     "text": [
      "\r",
      " 89%|████████▉ | 32/36 [02:13<00:16,  4.20s/it, avg_laplacian_term=83.2, avg_val_fro=36.6, avg_val_loss=120, avg_val_mae=4.99, batch_nb=16, epoch=16, tng_loss=181.696, v_nb=1]"
     ]
    },
    {
     "name": "stdout",
     "output_type": "stream",
     "text": [
      "G shape: torch.Size([8, 3476, 3476])\n",
      "t: tensor([114,  90, 132, 129, 103,   4, 130,  17]), batch_nb: 15\n"
     ]
    },
    {
     "name": "stderr",
     "output_type": "stream",
     "text": [
      "\r",
      " 92%|█████████▏| 33/36 [02:17<00:12,  4.17s/it, avg_laplacian_term=83.2, avg_val_fro=36.6, avg_val_loss=120, avg_val_mae=4.99, batch_nb=16, epoch=16, tng_loss=181.696, v_nb=1]"
     ]
    },
    {
     "name": "stdout",
     "output_type": "stream",
     "text": [
      "G shape: torch.Size([8, 3476, 3476])\n",
      "t: tensor([121,  83,  82,  33,  93, 120, 137,  97]), batch_nb: 16\n"
     ]
    },
    {
     "name": "stderr",
     "output_type": "stream",
     "text": [
      "\r",
      " 94%|█████████▍| 34/36 [02:21<00:08,  4.17s/it, avg_laplacian_term=83.2, avg_val_fro=36.6, avg_val_loss=120, avg_val_mae=4.99, batch_nb=16, epoch=16, tng_loss=181.696, v_nb=1]"
     ]
    },
    {
     "name": "stdout",
     "output_type": "stream",
     "text": [
      "G shape: torch.Size([8, 3476, 3476])\n",
      "t: tensor([ 28,  53, 100,  74,  60,  25,  12, 141]), batch_nb: 17\n"
     ]
    },
    {
     "name": "stderr",
     "output_type": "stream",
     "text": [
      "100%|██████████| 36/36 [02:26<00:00,  3.00s/it, avg_laplacian_term=82.1, avg_val_fro=36.3, avg_val_loss=118, avg_val_mae=4.96, batch_nb=16, epoch=16, tng_loss=181.696, v_nb=1]"
     ]
    },
    {
     "name": "stdout",
     "output_type": "stream",
     "text": [
      "G shape: torch.Size([8, 3476, 3476])\n",
      "t: tensor([111, 116,  45, 136,   5, 134,  25, 139]), batch_nb: 17\n"
     ]
    },
    {
     "name": "stderr",
     "output_type": "stream",
     "text": [
      "  3%|▎         | 1/36 [00:00<00:17,  2.04it/s], avg_laplacian_term=82.1, avg_val_fro=36.3, avg_val_loss=118, avg_val_mae=4.96, batch_nb=17, epoch=16, tng_loss=181.619, v_nb=1]"
     ]
    },
    {
     "name": "stdout",
     "output_type": "stream",
     "text": [
      "G shape: torch.Size([8, 3476, 3476])\n",
      "t: tensor([81, 26, 92, 18, 86, 12, 13, 23]), batch_nb: 0\n"
     ]
    },
    {
     "name": "stderr",
     "output_type": "stream",
     "text": [
      "  6%|▌         | 2/36 [00:05<00:59,  1.74s/it, avg_laplacian_term=82.1, avg_val_fro=36.3, avg_val_loss=118, avg_val_mae=4.96, batch_nb=0, epoch=17, tng_loss=181.514, v_nb=1]"
     ]
    },
    {
     "name": "stdout",
     "output_type": "stream",
     "text": [
      "G shape: torch.Size([8, 3476, 3476])\n",
      "t: tensor([128,  37, 137,  69,  46, 118, 117, 104]), batch_nb: 1\n"
     ]
    },
    {
     "name": "stderr",
     "output_type": "stream",
     "text": [
      "  8%|▊         | 3/36 [00:09<01:18,  2.39s/it, avg_laplacian_term=82.1, avg_val_fro=36.3, avg_val_loss=118, avg_val_mae=4.96, batch_nb=1, epoch=17, tng_loss=181.523, v_nb=1]"
     ]
    },
    {
     "name": "stdout",
     "output_type": "stream",
     "text": [
      "G shape: torch.Size([8, 3476, 3476])\n",
      "t: tensor([ 73,  45, 123, 112,  39, 108,  79, 138]), batch_nb: 2\n"
     ]
    },
    {
     "name": "stderr",
     "output_type": "stream",
     "text": [
      " 11%|█         | 4/36 [00:13<01:34,  2.94s/it, avg_laplacian_term=82.1, avg_val_fro=36.3, avg_val_loss=118, avg_val_mae=4.96, batch_nb=2, epoch=17, tng_loss=181.341, v_nb=1]"
     ]
    },
    {
     "name": "stdout",
     "output_type": "stream",
     "text": [
      "G shape: torch.Size([8, 3476, 3476])\n",
      "t: tensor([ 68,  70,  29,  51,  89, 130,  53,   5]), batch_nb: 3\n"
     ]
    },
    {
     "name": "stderr",
     "output_type": "stream",
     "text": [
      " 14%|█▍        | 5/36 [00:18<01:50,  3.58s/it, avg_laplacian_term=82.1, avg_val_fro=36.3, avg_val_loss=118, avg_val_mae=4.96, batch_nb=3, epoch=17, tng_loss=181.274, v_nb=1]"
     ]
    },
    {
     "name": "stdout",
     "output_type": "stream",
     "text": [
      "G shape: torch.Size([8, 3476, 3476])\n",
      "t: tensor([ 63,  31,  54, 116, 110, 113,  47,  59]), batch_nb: 4\n"
     ]
    },
    {
     "name": "stderr",
     "output_type": "stream",
     "text": [
      " 17%|█▋        | 6/36 [00:22<01:51,  3.70s/it, avg_laplacian_term=82.1, avg_val_fro=36.3, avg_val_loss=118, avg_val_mae=4.96, batch_nb=4, epoch=17, tng_loss=181.191, v_nb=1]"
     ]
    },
    {
     "name": "stdout",
     "output_type": "stream",
     "text": [
      "G shape: torch.Size([8, 3476, 3476])\n",
      "t: tensor([ 66,  22,  32,   3,  43, 101, 136,  44]), batch_nb: 5\n"
     ]
    },
    {
     "name": "stderr",
     "output_type": "stream",
     "text": [
      " 19%|█▉        | 7/36 [00:26<01:49,  3.78s/it, avg_laplacian_term=82.1, avg_val_fro=36.3, avg_val_loss=118, avg_val_mae=4.96, batch_nb=5, epoch=17, tng_loss=181.333, v_nb=1]"
     ]
    },
    {
     "name": "stdout",
     "output_type": "stream",
     "text": [
      "G shape: torch.Size([8, 3476, 3476])\n",
      "t: tensor([125, 109,  35,  55,  50,  95,  87,  10]), batch_nb: 6\n"
     ]
    },
    {
     "name": "stderr",
     "output_type": "stream",
     "text": [
      " 22%|██▏       | 8/36 [00:30<01:49,  3.90s/it, avg_laplacian_term=82.1, avg_val_fro=36.3, avg_val_loss=118, avg_val_mae=4.96, batch_nb=6, epoch=17, tng_loss=181.143, v_nb=1]"
     ]
    },
    {
     "name": "stdout",
     "output_type": "stream",
     "text": [
      "G shape: torch.Size([8, 3476, 3476])\n",
      "t: tensor([ 72, 134,  58, 103,  25,   2,   6,  88]), batch_nb: 7\n"
     ]
    },
    {
     "name": "stderr",
     "output_type": "stream",
     "text": [
      " 25%|██▌       | 9/36 [00:34<01:45,  3.90s/it, avg_laplacian_term=82.1, avg_val_fro=36.3, avg_val_loss=118, avg_val_mae=4.96, batch_nb=7, epoch=17, tng_loss=180.857, v_nb=1]"
     ]
    },
    {
     "name": "stdout",
     "output_type": "stream",
     "text": [
      "G shape: torch.Size([8, 3476, 3476])\n",
      "t: tensor([135, 132, 102,   7, 111,   9,  96,  49]), batch_nb: 8\n"
     ]
    },
    {
     "name": "stderr",
     "output_type": "stream",
     "text": [
      " 28%|██▊       | 10/36 [00:38<01:40,  3.88s/it, avg_laplacian_term=82.1, avg_val_fro=36.3, avg_val_loss=118, avg_val_mae=4.96, batch_nb=8, epoch=17, tng_loss=180.777, v_nb=1]"
     ]
    },
    {
     "name": "stdout",
     "output_type": "stream",
     "text": [
      "G shape: torch.Size([8, 3476, 3476])\n",
      "t: tensor([ 48,  56,  94,   0, 115,  57,  14,   8]), batch_nb: 9\n"
     ]
    },
    {
     "name": "stderr",
     "output_type": "stream",
     "text": [
      " 31%|███       | 11/36 [00:42<01:42,  4.12s/it, avg_laplacian_term=82.1, avg_val_fro=36.3, avg_val_loss=118, avg_val_mae=4.96, batch_nb=9, epoch=17, tng_loss=180.706, v_nb=1]"
     ]
    },
    {
     "name": "stdout",
     "output_type": "stream",
     "text": [
      "G shape: torch.Size([8, 3476, 3476])\n",
      "t: tensor([  1, 129,  40,  75,  15,  83,  16,  74]), batch_nb: 10\n"
     ]
    },
    {
     "name": "stderr",
     "output_type": "stream",
     "text": [
      " 33%|███▎      | 12/36 [00:46<01:35,  3.96s/it, avg_laplacian_term=82.1, avg_val_fro=36.3, avg_val_loss=118, avg_val_mae=4.96, batch_nb=10, epoch=17, tng_loss=180.758, v_nb=1]"
     ]
    },
    {
     "name": "stdout",
     "output_type": "stream",
     "text": [
      "G shape: torch.Size([8, 3476, 3476])\n",
      "t: tensor([ 67, 120, 119,  34,  28,  78, 106,  36]), batch_nb: 11\n"
     ]
    },
    {
     "name": "stderr",
     "output_type": "stream",
     "text": [
      " 36%|███▌      | 13/36 [00:50<01:28,  3.84s/it, avg_laplacian_term=82.1, avg_val_fro=36.3, avg_val_loss=118, avg_val_mae=4.96, batch_nb=11, epoch=17, tng_loss=180.585, v_nb=1]"
     ]
    },
    {
     "name": "stdout",
     "output_type": "stream",
     "text": [
      "G shape: torch.Size([8, 3476, 3476])\n",
      "t: tensor([107,  77, 133,  97,  21,  41,  71,  30]), batch_nb: 12\n"
     ]
    },
    {
     "name": "stderr",
     "output_type": "stream",
     "text": [
      " 39%|███▉      | 14/36 [00:53<01:25,  3.87s/it, avg_laplacian_term=82.1, avg_val_fro=36.3, avg_val_loss=118, avg_val_mae=4.96, batch_nb=12, epoch=17, tng_loss=180.386, v_nb=1]"
     ]
    },
    {
     "name": "stdout",
     "output_type": "stream",
     "text": [
      "G shape: torch.Size([8, 3476, 3476])\n",
      "t: tensor([105, 100, 139,  90,  64,  61,  76,  82]), batch_nb: 13\n"
     ]
    },
    {
     "name": "stderr",
     "output_type": "stream",
     "text": [
      " 42%|████▏     | 15/36 [00:58<01:24,  4.01s/it, avg_laplacian_term=82.1, avg_val_fro=36.3, avg_val_loss=118, avg_val_mae=4.96, batch_nb=13, epoch=17, tng_loss=180.271, v_nb=1]"
     ]
    },
    {
     "name": "stdout",
     "output_type": "stream",
     "text": [
      "G shape: torch.Size([8, 3476, 3476])\n",
      "t: tensor([ 27,  19,  52,  33, 124,  84,  11, 127]), batch_nb: 14\n"
     ]
    },
    {
     "name": "stderr",
     "output_type": "stream",
     "text": [
      " 44%|████▍     | 16/36 [01:01<01:17,  3.85s/it, avg_laplacian_term=82.1, avg_val_fro=36.3, avg_val_loss=118, avg_val_mae=4.96, batch_nb=14, epoch=17, tng_loss=179.872, v_nb=1]"
     ]
    },
    {
     "name": "stdout",
     "output_type": "stream",
     "text": [
      "G shape: torch.Size([8, 3476, 3476])\n",
      "t: tensor([114,  99,  85,  60,  62, 121, 126,  80]), batch_nb: 15\n"
     ]
    },
    {
     "name": "stderr",
     "output_type": "stream",
     "text": [
      " 47%|████▋     | 17/36 [01:06<01:18,  4.13s/it, avg_laplacian_term=82.1, avg_val_fro=36.3, avg_val_loss=118, avg_val_mae=4.96, batch_nb=15, epoch=17, tng_loss=179.562, v_nb=1]"
     ]
    },
    {
     "name": "stdout",
     "output_type": "stream",
     "text": [
      "G shape: torch.Size([8, 3476, 3476])\n",
      "t: tensor([ 93,  91, 131,  42, 140, 122,  98,  24]), batch_nb: 16\n"
     ]
    },
    {
     "name": "stderr",
     "output_type": "stream",
     "text": [
      "\r",
      " 47%|████▋     | 17/36 [01:10<01:18,  4.13s/it, avg_laplacian_term=82.1, avg_val_fro=36.3, avg_val_loss=118, avg_val_mae=4.96, batch_nb=16, epoch=17, tng_loss=179.337, v_nb=1]"
     ]
    },
    {
     "name": "stdout",
     "output_type": "stream",
     "text": [
      "G shape: torch.Size([8, 3476, 3476])\n",
      "t: tensor([123, 143,   5,  97, 141, 118,  16,  55]), batch_nb: 0\n"
     ]
    },
    {
     "name": "stderr",
     "output_type": "stream",
     "text": [
      "\r",
      " 50%|█████     | 18/36 [01:14<01:33,  5.20s/it, avg_laplacian_term=82.1, avg_val_fro=36.3, avg_val_loss=118, avg_val_mae=4.96, batch_nb=16, epoch=17, tng_loss=179.337, v_nb=1]"
     ]
    },
    {
     "name": "stdout",
     "output_type": "stream",
     "text": [
      "G shape: torch.Size([8, 3476, 3476])\n",
      "t: tensor([ 78, 112,  87, 108,  80, 135, 111,  76]), batch_nb: 1\n"
     ]
    },
    {
     "name": "stderr",
     "output_type": "stream",
     "text": [
      "\r",
      " 53%|█████▎    | 19/36 [01:18<01:23,  4.93s/it, avg_laplacian_term=82.1, avg_val_fro=36.3, avg_val_loss=118, avg_val_mae=4.96, batch_nb=16, epoch=17, tng_loss=179.337, v_nb=1]"
     ]
    },
    {
     "name": "stdout",
     "output_type": "stream",
     "text": [
      "G shape: torch.Size([8, 3476, 3476])\n",
      "t: tensor([ 33,  49,  27,  32,  89,   8, 136, 110]), batch_nb: 2\n"
     ]
    },
    {
     "name": "stderr",
     "output_type": "stream",
     "text": [
      "\r",
      " 56%|█████▌    | 20/36 [01:22<01:14,  4.68s/it, avg_laplacian_term=82.1, avg_val_fro=36.3, avg_val_loss=118, avg_val_mae=4.96, batch_nb=16, epoch=17, tng_loss=179.337, v_nb=1]"
     ]
    },
    {
     "name": "stdout",
     "output_type": "stream",
     "text": [
      "G shape: torch.Size([8, 3476, 3476])\n",
      "t: tensor([ 82, 120,  18,  54, 131, 142, 137,   6]), batch_nb: 3\n"
     ]
    },
    {
     "name": "stderr",
     "output_type": "stream",
     "text": [
      "\r",
      " 58%|█████▊    | 21/36 [01:26<01:07,  4.50s/it, avg_laplacian_term=82.1, avg_val_fro=36.3, avg_val_loss=118, avg_val_mae=4.96, batch_nb=16, epoch=17, tng_loss=179.337, v_nb=1]"
     ]
    },
    {
     "name": "stdout",
     "output_type": "stream",
     "text": [
      "G shape: torch.Size([8, 3476, 3476])\n",
      "t: tensor([ 17,  56, 132,  93,  86,  47,  12,  95]), batch_nb: 4\n"
     ]
    },
    {
     "name": "stderr",
     "output_type": "stream",
     "text": [
      "\r",
      " 61%|██████    | 22/36 [01:31<01:02,  4.45s/it, avg_laplacian_term=82.1, avg_val_fro=36.3, avg_val_loss=118, avg_val_mae=4.96, batch_nb=16, epoch=17, tng_loss=179.337, v_nb=1]"
     ]
    },
    {
     "name": "stdout",
     "output_type": "stream",
     "text": [
      "G shape: torch.Size([8, 3476, 3476])\n",
      "t: tensor([ 83,  70, 104,  22,  41,  68,  14,  75]), batch_nb: 5\n"
     ]
    },
    {
     "name": "stderr",
     "output_type": "stream",
     "text": [
      "\r",
      " 64%|██████▍   | 23/36 [01:35<00:56,  4.35s/it, avg_laplacian_term=82.1, avg_val_fro=36.3, avg_val_loss=118, avg_val_mae=4.96, batch_nb=16, epoch=17, tng_loss=179.337, v_nb=1]"
     ]
    },
    {
     "name": "stdout",
     "output_type": "stream",
     "text": [
      "G shape: torch.Size([8, 3476, 3476])\n",
      "t: tensor([102,  26,   4,  39,   0, 124,  43,  37]), batch_nb: 6\n"
     ]
    },
    {
     "name": "stderr",
     "output_type": "stream",
     "text": [
      "\r",
      " 67%|██████▋   | 24/36 [01:38<00:50,  4.17s/it, avg_laplacian_term=82.1, avg_val_fro=36.3, avg_val_loss=118, avg_val_mae=4.96, batch_nb=16, epoch=17, tng_loss=179.337, v_nb=1]"
     ]
    },
    {
     "name": "stdout",
     "output_type": "stream",
     "text": [
      "G shape: torch.Size([8, 3476, 3476])\n",
      "t: tensor([ 50,  13,  45,  10, 116,  85,  77,  88]), batch_nb: 7\n"
     ]
    },
    {
     "name": "stderr",
     "output_type": "stream",
     "text": [
      "\r",
      " 69%|██████▉   | 25/36 [01:42<00:45,  4.14s/it, avg_laplacian_term=82.1, avg_val_fro=36.3, avg_val_loss=118, avg_val_mae=4.96, batch_nb=16, epoch=17, tng_loss=179.337, v_nb=1]"
     ]
    },
    {
     "name": "stdout",
     "output_type": "stream",
     "text": [
      "G shape: torch.Size([8, 3476, 3476])\n",
      "t: tensor([ 67,  90,  20, 125,  21,  38,  23,  99]), batch_nb: 8\n"
     ]
    },
    {
     "name": "stderr",
     "output_type": "stream",
     "text": [
      "\r",
      " 72%|███████▏  | 26/36 [01:46<00:40,  4.05s/it, avg_laplacian_term=82.1, avg_val_fro=36.3, avg_val_loss=118, avg_val_mae=4.96, batch_nb=16, epoch=17, tng_loss=179.337, v_nb=1]"
     ]
    },
    {
     "name": "stdout",
     "output_type": "stream",
     "text": [
      "G shape: torch.Size([8, 3476, 3476])\n",
      "t: tensor([ 30, 119, 139,  91, 121, 140, 114, 134]), batch_nb: 9\n"
     ]
    },
    {
     "name": "stderr",
     "output_type": "stream",
     "text": [
      "\r",
      " 75%|███████▌  | 27/36 [01:50<00:35,  3.97s/it, avg_laplacian_term=82.1, avg_val_fro=36.3, avg_val_loss=118, avg_val_mae=4.96, batch_nb=16, epoch=17, tng_loss=179.337, v_nb=1]"
     ]
    },
    {
     "name": "stdout",
     "output_type": "stream",
     "text": [
      "G shape: torch.Size([8, 3476, 3476])\n",
      "t: tensor([73,  9, 59, 60, 64, 34, 57, 61]), batch_nb: 10\n"
     ]
    },
    {
     "name": "stderr",
     "output_type": "stream",
     "text": [
      "\r",
      " 78%|███████▊  | 28/36 [01:55<00:33,  4.14s/it, avg_laplacian_term=82.1, avg_val_fro=36.3, avg_val_loss=118, avg_val_mae=4.96, batch_nb=16, epoch=17, tng_loss=179.337, v_nb=1]"
     ]
    },
    {
     "name": "stdout",
     "output_type": "stream",
     "text": [
      "G shape: torch.Size([8, 3476, 3476])\n",
      "t: tensor([  2,  15,   7,  69,  53, 127,  24, 128]), batch_nb: 11\n"
     ]
    },
    {
     "name": "stderr",
     "output_type": "stream",
     "text": [
      "\r",
      " 81%|████████  | 29/36 [01:59<00:28,  4.06s/it, avg_laplacian_term=82.1, avg_val_fro=36.3, avg_val_loss=118, avg_val_mae=4.96, batch_nb=16, epoch=17, tng_loss=179.337, v_nb=1]"
     ]
    },
    {
     "name": "stdout",
     "output_type": "stream",
     "text": [
      "G shape: torch.Size([8, 3476, 3476])\n",
      "t: tensor([ 31,  40, 130, 115, 105,  92,  46, 106]), batch_nb: 12\n"
     ]
    },
    {
     "name": "stderr",
     "output_type": "stream",
     "text": [
      "\r",
      " 83%|████████▎ | 30/36 [02:03<00:24,  4.03s/it, avg_laplacian_term=82.1, avg_val_fro=36.3, avg_val_loss=118, avg_val_mae=4.96, batch_nb=16, epoch=17, tng_loss=179.337, v_nb=1]"
     ]
    },
    {
     "name": "stdout",
     "output_type": "stream",
     "text": [
      "G shape: torch.Size([8, 3476, 3476])\n",
      "t: tensor([ 74, 133,  35,  48, 129,  25, 103,  42]), batch_nb: 13\n"
     ]
    },
    {
     "name": "stderr",
     "output_type": "stream",
     "text": [
      "\r",
      " 86%|████████▌ | 31/36 [02:06<00:19,  3.94s/it, avg_laplacian_term=82.1, avg_val_fro=36.3, avg_val_loss=118, avg_val_mae=4.96, batch_nb=16, epoch=17, tng_loss=179.337, v_nb=1]"
     ]
    },
    {
     "name": "stdout",
     "output_type": "stream",
     "text": [
      "G shape: torch.Size([8, 3476, 3476])\n",
      "t: tensor([ 36,  44, 113,  19,  65,   1, 101,  62]), batch_nb: 14\n"
     ]
    },
    {
     "name": "stderr",
     "output_type": "stream",
     "text": [
      "\r",
      " 89%|████████▉ | 32/36 [02:10<00:15,  3.95s/it, avg_laplacian_term=82.1, avg_val_fro=36.3, avg_val_loss=118, avg_val_mae=4.96, batch_nb=16, epoch=17, tng_loss=179.337, v_nb=1]"
     ]
    },
    {
     "name": "stdout",
     "output_type": "stream",
     "text": [
      "G shape: torch.Size([8, 3476, 3476])\n",
      "t: tensor([107, 138,  28,  79,  72, 117,  98, 122]), batch_nb: 15\n"
     ]
    },
    {
     "name": "stderr",
     "output_type": "stream",
     "text": [
      "\r",
      " 92%|█████████▏| 33/36 [02:15<00:12,  4.08s/it, avg_laplacian_term=82.1, avg_val_fro=36.3, avg_val_loss=118, avg_val_mae=4.96, batch_nb=16, epoch=17, tng_loss=179.337, v_nb=1]"
     ]
    },
    {
     "name": "stdout",
     "output_type": "stream",
     "text": [
      "G shape: torch.Size([8, 3476, 3476])\n",
      "t: tensor([  3,  94, 126, 109,  51,  84,  71,  63]), batch_nb: 16\n"
     ]
    },
    {
     "name": "stderr",
     "output_type": "stream",
     "text": [
      "\r",
      " 94%|█████████▍| 34/36 [02:19<00:08,  4.05s/it, avg_laplacian_term=82.1, avg_val_fro=36.3, avg_val_loss=118, avg_val_mae=4.96, batch_nb=16, epoch=17, tng_loss=179.337, v_nb=1]"
     ]
    },
    {
     "name": "stdout",
     "output_type": "stream",
     "text": [
      "G shape: torch.Size([8, 3476, 3476])\n",
      "t: tensor([ 96,  29,  11,  58,  66,  81, 100,  52]), batch_nb: 17\n"
     ]
    },
    {
     "name": "stderr",
     "output_type": "stream",
     "text": [
      "100%|██████████| 36/36 [02:23<00:00,  2.99s/it, avg_laplacian_term=81, avg_val_fro=36, avg_val_loss=117, avg_val_mae=4.92, batch_nb=16, epoch=17, tng_loss=179.337, v_nb=1]    "
     ]
    },
    {
     "name": "stdout",
     "output_type": "stream",
     "text": [
      "G shape: torch.Size([8, 3476, 3476])\n",
      "t: tensor([ 17, 143, 142,   4,  38, 141,  65,  20]), batch_nb: 17\n"
     ]
    },
    {
     "name": "stderr",
     "output_type": "stream",
     "text": [
      "  3%|▎         | 1/36 [00:00<00:16,  2.07it/s], avg_laplacian_term=81, avg_val_fro=36, avg_val_loss=117, avg_val_mae=4.92, batch_nb=17, epoch=17, tng_loss=179.302, v_nb=1]"
     ]
    },
    {
     "name": "stdout",
     "output_type": "stream",
     "text": [
      "G shape: torch.Size([8, 3476, 3476])\n",
      "t: tensor([138,  30, 123, 128,  98, 101,  57,  68]), batch_nb: 0\n"
     ]
    },
    {
     "name": "stderr",
     "output_type": "stream",
     "text": [
      "  6%|▌         | 2/36 [00:04<00:55,  1.64s/it, avg_laplacian_term=81, avg_val_fro=36, avg_val_loss=117, avg_val_mae=4.92, batch_nb=0, epoch=18, tng_loss=179.208, v_nb=1]"
     ]
    },
    {
     "name": "stdout",
     "output_type": "stream",
     "text": [
      "G shape: torch.Size([8, 3476, 3476])\n",
      "t: tensor([120,  36,  59,   7,  74,  43,  41,  45]), batch_nb: 1\n"
     ]
    },
    {
     "name": "stderr",
     "output_type": "stream",
     "text": [
      "  8%|▊         | 3/36 [00:08<01:18,  2.38s/it, avg_laplacian_term=81, avg_val_fro=36, avg_val_loss=117, avg_val_mae=4.92, batch_nb=1, epoch=18, tng_loss=179.087, v_nb=1]"
     ]
    },
    {
     "name": "stdout",
     "output_type": "stream",
     "text": [
      "G shape: torch.Size([8, 3476, 3476])\n",
      "t: tensor([132,  81, 143,  66,  16,  25,  90, 130]), batch_nb: 2\n"
     ]
    },
    {
     "name": "stderr",
     "output_type": "stream",
     "text": [
      " 11%|█         | 4/36 [00:12<01:31,  2.87s/it, avg_laplacian_term=81, avg_val_fro=36, avg_val_loss=117, avg_val_mae=4.92, batch_nb=2, epoch=18, tng_loss=178.908, v_nb=1]"
     ]
    },
    {
     "name": "stdout",
     "output_type": "stream",
     "text": [
      "G shape: torch.Size([8, 3476, 3476])\n",
      "t: tensor([108,  27,  71,  96,  76,  52, 125,  88]), batch_nb: 3\n"
     ]
    },
    {
     "name": "stderr",
     "output_type": "stream",
     "text": [
      " 14%|█▍        | 5/36 [00:16<01:35,  3.06s/it, avg_laplacian_term=81, avg_val_fro=36, avg_val_loss=117, avg_val_mae=4.92, batch_nb=3, epoch=18, tng_loss=178.611, v_nb=1]"
     ]
    },
    {
     "name": "stdout",
     "output_type": "stream",
     "text": [
      "G shape: torch.Size([8, 3476, 3476])\n",
      "t: tensor([ 26, 105,  65,  42, 121,  61, 127, 122]), batch_nb: 4\n"
     ]
    },
    {
     "name": "stderr",
     "output_type": "stream",
     "text": [
      " 17%|█▋        | 6/36 [00:20<01:39,  3.33s/it, avg_laplacian_term=81, avg_val_fro=36, avg_val_loss=117, avg_val_mae=4.92, batch_nb=4, epoch=18, tng_loss=178.339, v_nb=1]"
     ]
    },
    {
     "name": "stdout",
     "output_type": "stream",
     "text": [
      "G shape: torch.Size([8, 3476, 3476])\n",
      "t: tensor([ 79, 118,  24,  20,  14,   0, 139,  49]), batch_nb: 5\n"
     ]
    },
    {
     "name": "stderr",
     "output_type": "stream",
     "text": [
      " 19%|█▉        | 7/36 [00:24<01:42,  3.53s/it, avg_laplacian_term=81, avg_val_fro=36, avg_val_loss=117, avg_val_mae=4.92, batch_nb=5, epoch=18, tng_loss=178.095, v_nb=1]"
     ]
    },
    {
     "name": "stdout",
     "output_type": "stream",
     "text": [
      "G shape: torch.Size([8, 3476, 3476])\n",
      "t: tensor([  8, 131,  12,  54,  13,  80,  82,  51]), batch_nb: 6\n"
     ]
    },
    {
     "name": "stderr",
     "output_type": "stream",
     "text": [
      " 22%|██▏       | 8/36 [00:28<01:42,  3.65s/it, avg_laplacian_term=81, avg_val_fro=36, avg_val_loss=117, avg_val_mae=4.92, batch_nb=6, epoch=18, tng_loss=178.297, v_nb=1]"
     ]
    },
    {
     "name": "stdout",
     "output_type": "stream",
     "text": [
      "G shape: torch.Size([8, 3476, 3476])\n",
      "t: tensor([140,  31,  47,  50,  91,  46,  55, 142]), batch_nb: 7\n"
     ]
    },
    {
     "name": "stderr",
     "output_type": "stream",
     "text": [
      " 25%|██▌       | 9/36 [00:32<01:41,  3.77s/it, avg_laplacian_term=81, avg_val_fro=36, avg_val_loss=117, avg_val_mae=4.92, batch_nb=7, epoch=18, tng_loss=178.365, v_nb=1]"
     ]
    },
    {
     "name": "stdout",
     "output_type": "stream",
     "text": [
      "G shape: torch.Size([8, 3476, 3476])\n",
      "t: tensor([133, 134, 104, 110, 113,  73,  48,   9]), batch_nb: 8\n"
     ]
    },
    {
     "name": "stderr",
     "output_type": "stream",
     "text": [
      " 28%|██▊       | 10/36 [00:36<01:38,  3.79s/it, avg_laplacian_term=81, avg_val_fro=36, avg_val_loss=117, avg_val_mae=4.92, batch_nb=8, epoch=18, tng_loss=178.112, v_nb=1]"
     ]
    },
    {
     "name": "stdout",
     "output_type": "stream",
     "text": [
      "G shape: torch.Size([8, 3476, 3476])\n",
      "t: tensor([ 29, 119,  35,  83,  22, 129,  84, 116]), batch_nb: 9\n"
     ]
    },
    {
     "name": "stderr",
     "output_type": "stream",
     "text": [
      " 31%|███       | 11/36 [00:40<01:38,  3.96s/it, avg_laplacian_term=81, avg_val_fro=36, avg_val_loss=117, avg_val_mae=4.92, batch_nb=9, epoch=18, tng_loss=178.171, v_nb=1]"
     ]
    },
    {
     "name": "stdout",
     "output_type": "stream",
     "text": [
      "G shape: torch.Size([8, 3476, 3476])\n",
      "t: tensor([ 86,  60,   4,  34,  15, 103, 102, 117]), batch_nb: 10\n"
     ]
    },
    {
     "name": "stderr",
     "output_type": "stream",
     "text": [
      " 33%|███▎      | 12/36 [00:46<01:46,  4.44s/it, avg_laplacian_term=81, avg_val_fro=36, avg_val_loss=117, avg_val_mae=4.92, batch_nb=10, epoch=18, tng_loss=178.275, v_nb=1]"
     ]
    },
    {
     "name": "stdout",
     "output_type": "stream",
     "text": [
      "G shape: torch.Size([8, 3476, 3476])\n",
      "t: tensor([56, 67,  3, 62, 89, 53,  5,  2]), batch_nb: 11\n"
     ]
    },
    {
     "name": "stderr",
     "output_type": "stream",
     "text": [
      " 36%|███▌      | 13/36 [00:51<01:46,  4.63s/it, avg_laplacian_term=81, avg_val_fro=36, avg_val_loss=117, avg_val_mae=4.92, batch_nb=11, epoch=18, tng_loss=178.111, v_nb=1]"
     ]
    },
    {
     "name": "stdout",
     "output_type": "stream",
     "text": [
      "G shape: torch.Size([8, 3476, 3476])\n",
      "t: tensor([ 99,  94, 109,   6,  32, 107, 137,  85]), batch_nb: 12\n"
     ]
    },
    {
     "name": "stderr",
     "output_type": "stream",
     "text": [
      " 39%|███▉      | 14/36 [00:55<01:37,  4.42s/it, avg_laplacian_term=81, avg_val_fro=36, avg_val_loss=117, avg_val_mae=4.92, batch_nb=12, epoch=18, tng_loss=178.083, v_nb=1]"
     ]
    },
    {
     "name": "stdout",
     "output_type": "stream",
     "text": [
      "G shape: torch.Size([8, 3476, 3476])\n",
      "t: tensor([ 93,  28,  58,  69, 115,  92,  21,  33]), batch_nb: 13\n"
     ]
    },
    {
     "name": "stderr",
     "output_type": "stream",
     "text": [
      " 42%|████▏     | 15/36 [00:59<01:31,  4.36s/it, avg_laplacian_term=81, avg_val_fro=36, avg_val_loss=117, avg_val_mae=4.92, batch_nb=13, epoch=18, tng_loss=177.777, v_nb=1]"
     ]
    },
    {
     "name": "stdout",
     "output_type": "stream",
     "text": [
      "G shape: torch.Size([8, 3476, 3476])\n",
      "t: tensor([ 95,  63, 112,  87,  37,  39, 114,  78]), batch_nb: 14\n"
     ]
    },
    {
     "name": "stderr",
     "output_type": "stream",
     "text": [
      " 44%|████▍     | 16/36 [01:02<01:22,  4.10s/it, avg_laplacian_term=81, avg_val_fro=36, avg_val_loss=117, avg_val_mae=4.92, batch_nb=14, epoch=18, tng_loss=177.717, v_nb=1]"
     ]
    },
    {
     "name": "stdout",
     "output_type": "stream",
     "text": [
      "G shape: torch.Size([8, 3476, 3476])\n",
      "t: tensor([ 10, 141, 126, 124, 136,  23,  19,  64]), batch_nb: 15\n"
     ]
    },
    {
     "name": "stderr",
     "output_type": "stream",
     "text": [
      " 47%|████▋     | 17/36 [01:06<01:17,  4.10s/it, avg_laplacian_term=81, avg_val_fro=36, avg_val_loss=117, avg_val_mae=4.92, batch_nb=15, epoch=18, tng_loss=177.775, v_nb=1]"
     ]
    },
    {
     "name": "stdout",
     "output_type": "stream",
     "text": [
      "G shape: torch.Size([8, 3476, 3476])\n",
      "t: tensor([ 75, 106,  72,  38,  70,  18,  40, 100]), batch_nb: 16\n"
     ]
    },
    {
     "name": "stderr",
     "output_type": "stream",
     "text": [
      "\r",
      " 47%|████▋     | 17/36 [01:10<01:17,  4.10s/it, avg_laplacian_term=81, avg_val_fro=36, avg_val_loss=117, avg_val_mae=4.92, batch_nb=16, epoch=18, tng_loss=177.714, v_nb=1]"
     ]
    },
    {
     "name": "stdout",
     "output_type": "stream",
     "text": [
      "G shape: torch.Size([8, 3476, 3476])\n",
      "t: tensor([ 17,   9,  78,  47,  50,  14,  43, 132]), batch_nb: 0\n"
     ]
    },
    {
     "name": "stderr",
     "output_type": "stream",
     "text": [
      "\r",
      " 50%|█████     | 18/36 [01:16<01:40,  5.59s/it, avg_laplacian_term=81, avg_val_fro=36, avg_val_loss=117, avg_val_mae=4.92, batch_nb=16, epoch=18, tng_loss=177.714, v_nb=1]"
     ]
    },
    {
     "name": "stdout",
     "output_type": "stream",
     "text": [
      "G shape: torch.Size([8, 3476, 3476])\n",
      "t: tensor([ 71,  56,  55,   4,  45, 123, 121,  74]), batch_nb: 1\n"
     ]
    },
    {
     "name": "stderr",
     "output_type": "stream",
     "text": [
      "\r",
      " 53%|█████▎    | 19/36 [01:20<01:31,  5.38s/it, avg_laplacian_term=81, avg_val_fro=36, avg_val_loss=117, avg_val_mae=4.92, batch_nb=16, epoch=18, tng_loss=177.714, v_nb=1]"
     ]
    },
    {
     "name": "stdout",
     "output_type": "stream",
     "text": [
      "G shape: torch.Size([8, 3476, 3476])\n",
      "t: tensor([129, 130,   7,  41,  12,  48,  40,  32]), batch_nb: 2\n"
     ]
    },
    {
     "name": "stderr",
     "output_type": "stream",
     "text": [
      "\r",
      " 56%|█████▌    | 20/36 [01:26<01:28,  5.52s/it, avg_laplacian_term=81, avg_val_fro=36, avg_val_loss=117, avg_val_mae=4.92, batch_nb=16, epoch=18, tng_loss=177.714, v_nb=1]"
     ]
    },
    {
     "name": "stdout",
     "output_type": "stream",
     "text": [
      "G shape: torch.Size([8, 3476, 3476])\n",
      "t: tensor([ 46, 126,  77,  59,  70, 101,  63,  85]), batch_nb: 3\n"
     ]
    },
    {
     "name": "stderr",
     "output_type": "stream",
     "text": [
      "\r",
      " 58%|█████▊    | 21/36 [01:33<01:27,  5.82s/it, avg_laplacian_term=81, avg_val_fro=36, avg_val_loss=117, avg_val_mae=4.92, batch_nb=16, epoch=18, tng_loss=177.714, v_nb=1]"
     ]
    },
    {
     "name": "stdout",
     "output_type": "stream",
     "text": [
      "G shape: torch.Size([8, 3476, 3476])\n",
      "t: tensor([ 69,  91,  62,  83, 106, 127,  44,  81]), batch_nb: 4\n"
     ]
    },
    {
     "name": "stderr",
     "output_type": "stream",
     "text": [
      "\r",
      " 61%|██████    | 22/36 [01:37<01:15,  5.36s/it, avg_laplacian_term=81, avg_val_fro=36, avg_val_loss=117, avg_val_mae=4.92, batch_nb=16, epoch=18, tng_loss=177.714, v_nb=1]"
     ]
    },
    {
     "name": "stdout",
     "output_type": "stream",
     "text": [
      "G shape: torch.Size([8, 3476, 3476])\n",
      "t: tensor([ 64,  16, 113, 114,  94,  22, 140, 109]), batch_nb: 5\n"
     ]
    },
    {
     "name": "stderr",
     "output_type": "stream",
     "text": [
      "\r",
      " 64%|██████▍   | 23/36 [01:41<01:03,  4.91s/it, avg_laplacian_term=81, avg_val_fro=36, avg_val_loss=117, avg_val_mae=4.92, batch_nb=16, epoch=18, tng_loss=177.714, v_nb=1]"
     ]
    },
    {
     "name": "stdout",
     "output_type": "stream",
     "text": [
      "G shape: torch.Size([8, 3476, 3476])\n",
      "t: tensor([ 72,  27,  88,  61, 120, 116,  36, 102]), batch_nb: 6\n"
     ]
    },
    {
     "name": "stderr",
     "output_type": "stream",
     "text": [
      "\r",
      " 67%|██████▋   | 24/36 [01:45<00:55,  4.65s/it, avg_laplacian_term=81, avg_val_fro=36, avg_val_loss=117, avg_val_mae=4.92, batch_nb=16, epoch=18, tng_loss=177.714, v_nb=1]"
     ]
    },
    {
     "name": "stdout",
     "output_type": "stream",
     "text": [
      "G shape: torch.Size([8, 3476, 3476])\n",
      "t: tensor([ 68,  53,  18,  33,  24, 133,  21,  65]), batch_nb: 7\n"
     ]
    },
    {
     "name": "stderr",
     "output_type": "stream",
     "text": [
      "\r",
      " 69%|██████▉   | 25/36 [01:49<00:50,  4.58s/it, avg_laplacian_term=81, avg_val_fro=36, avg_val_loss=117, avg_val_mae=4.92, batch_nb=16, epoch=18, tng_loss=177.714, v_nb=1]"
     ]
    },
    {
     "name": "stdout",
     "output_type": "stream",
     "text": [
      "G shape: torch.Size([8, 3476, 3476])\n",
      "t: tensor([138,  60,  67,   8, 103, 105, 104,  39]), batch_nb: 8\n"
     ]
    },
    {
     "name": "stderr",
     "output_type": "stream",
     "text": [
      "\r",
      " 72%|███████▏  | 26/36 [01:53<00:43,  4.37s/it, avg_laplacian_term=81, avg_val_fro=36, avg_val_loss=117, avg_val_mae=4.92, batch_nb=16, epoch=18, tng_loss=177.714, v_nb=1]"
     ]
    },
    {
     "name": "stdout",
     "output_type": "stream",
     "text": [
      "G shape: torch.Size([8, 3476, 3476])\n",
      "t: tensor([ 25,  66,  30,  20,  49, 142,  11, 119]), batch_nb: 9\n"
     ]
    },
    {
     "name": "stderr",
     "output_type": "stream",
     "text": [
      "\r",
      " 75%|███████▌  | 27/36 [01:57<00:38,  4.28s/it, avg_laplacian_term=81, avg_val_fro=36, avg_val_loss=117, avg_val_mae=4.92, batch_nb=16, epoch=18, tng_loss=177.714, v_nb=1]"
     ]
    },
    {
     "name": "stdout",
     "output_type": "stream",
     "text": [
      "G shape: torch.Size([8, 3476, 3476])\n",
      "t: tensor([ 98,  95, 141,  82,  31,  57, 125,   6]), batch_nb: 10\n"
     ]
    },
    {
     "name": "stderr",
     "output_type": "stream",
     "text": [
      "\r",
      " 78%|███████▊  | 28/36 [02:01<00:33,  4.13s/it, avg_laplacian_term=81, avg_val_fro=36, avg_val_loss=117, avg_val_mae=4.92, batch_nb=16, epoch=18, tng_loss=177.714, v_nb=1]"
     ]
    },
    {
     "name": "stdout",
     "output_type": "stream",
     "text": [
      "G shape: torch.Size([8, 3476, 3476])\n",
      "t: tensor([ 37,   2, 131,  54,  10, 122,  96,  93]), batch_nb: 11\n"
     ]
    },
    {
     "name": "stderr",
     "output_type": "stream",
     "text": [
      "\r",
      " 81%|████████  | 29/36 [02:05<00:29,  4.20s/it, avg_laplacian_term=81, avg_val_fro=36, avg_val_loss=117, avg_val_mae=4.92, batch_nb=16, epoch=18, tng_loss=177.714, v_nb=1]"
     ]
    },
    {
     "name": "stdout",
     "output_type": "stream",
     "text": [
      "G shape: torch.Size([8, 3476, 3476])\n",
      "t: tensor([ 89, 143,  52,  58,  97, 110,  29,  76]), batch_nb: 12\n"
     ]
    },
    {
     "name": "stderr",
     "output_type": "stream",
     "text": [
      "\r",
      " 83%|████████▎ | 30/36 [02:09<00:24,  4.09s/it, avg_laplacian_term=81, avg_val_fro=36, avg_val_loss=117, avg_val_mae=4.92, batch_nb=16, epoch=18, tng_loss=177.714, v_nb=1]"
     ]
    },
    {
     "name": "stdout",
     "output_type": "stream",
     "text": [
      "G shape: torch.Size([8, 3476, 3476])\n",
      "t: tensor([124, 107,  73,  26,  84,  35, 111, 139]), batch_nb: 13\n"
     ]
    },
    {
     "name": "stderr",
     "output_type": "stream",
     "text": [
      "\r",
      " 86%|████████▌ | 31/36 [02:13<00:20,  4.04s/it, avg_laplacian_term=81, avg_val_fro=36, avg_val_loss=117, avg_val_mae=4.92, batch_nb=16, epoch=18, tng_loss=177.714, v_nb=1]"
     ]
    },
    {
     "name": "stdout",
     "output_type": "stream",
     "text": [
      "G shape: torch.Size([8, 3476, 3476])\n",
      "t: tensor([117,  51,  34,   0, 135,  90, 112,  86]), batch_nb: 14\n"
     ]
    },
    {
     "name": "stderr",
     "output_type": "stream",
     "text": [
      "\r",
      " 89%|████████▉ | 32/36 [02:18<00:16,  4.11s/it, avg_laplacian_term=81, avg_val_fro=36, avg_val_loss=117, avg_val_mae=4.92, batch_nb=16, epoch=18, tng_loss=177.714, v_nb=1]"
     ]
    },
    {
     "name": "stdout",
     "output_type": "stream",
     "text": [
      "G shape: torch.Size([8, 3476, 3476])\n",
      "t: tensor([  3,  28, 115,  80, 108, 128, 136,  42]), batch_nb: 15\n"
     ]
    },
    {
     "name": "stderr",
     "output_type": "stream",
     "text": [
      "\r",
      " 92%|█████████▏| 33/36 [02:21<00:12,  4.01s/it, avg_laplacian_term=81, avg_val_fro=36, avg_val_loss=117, avg_val_mae=4.92, batch_nb=16, epoch=18, tng_loss=177.714, v_nb=1]"
     ]
    },
    {
     "name": "stdout",
     "output_type": "stream",
     "text": [
      "G shape: torch.Size([8, 3476, 3476])\n",
      "t: tensor([ 38,  92,  79, 100,  23,  75, 137, 118]), batch_nb: 16\n"
     ]
    },
    {
     "name": "stderr",
     "output_type": "stream",
     "text": [
      "\r",
      " 94%|█████████▍| 34/36 [02:25<00:07,  3.93s/it, avg_laplacian_term=81, avg_val_fro=36, avg_val_loss=117, avg_val_mae=4.92, batch_nb=16, epoch=18, tng_loss=177.714, v_nb=1]"
     ]
    },
    {
     "name": "stdout",
     "output_type": "stream",
     "text": [
      "G shape: torch.Size([8, 3476, 3476])\n",
      "t: tensor([  5,  87,  99,  13,  19, 134,  15,   1]), batch_nb: 17\n"
     ]
    },
    {
     "name": "stderr",
     "output_type": "stream",
     "text": [
      "100%|██████████| 36/36 [02:31<00:00,  3.16s/it, avg_laplacian_term=79.9, avg_val_fro=35.7, avg_val_loss=116, avg_val_mae=4.89, batch_nb=16, epoch=18, tng_loss=177.714, v_nb=1]"
     ]
    },
    {
     "name": "stdout",
     "output_type": "stream",
     "text": [
      "G shape: torch.Size([8, 3476, 3476])\n",
      "t: tensor([ 97, 135,  44,  17,   1,  77,  11, 111]), batch_nb: 17\n"
     ]
    },
    {
     "name": "stderr",
     "output_type": "stream",
     "text": [
      "  3%|▎         | 1/36 [00:00<00:15,  2.21it/s], avg_laplacian_term=79.9, avg_val_fro=35.7, avg_val_loss=116, avg_val_mae=4.89, batch_nb=17, epoch=18, tng_loss=177.651, v_nb=1]"
     ]
    },
    {
     "name": "stdout",
     "output_type": "stream",
     "text": [
      "G shape: torch.Size([8, 3476, 3476])\n",
      "t: tensor([ 10,  58,  56,  70,  90, 132,  28, 107]), batch_nb: 0\n"
     ]
    },
    {
     "name": "stderr",
     "output_type": "stream",
     "text": [
      "  6%|▌         | 2/36 [00:05<00:57,  1.69s/it, avg_laplacian_term=79.9, avg_val_fro=35.7, avg_val_loss=116, avg_val_mae=4.89, batch_nb=0, epoch=19, tng_loss=177.398, v_nb=1]"
     ]
    },
    {
     "name": "stdout",
     "output_type": "stream",
     "text": [
      "G shape: torch.Size([8, 3476, 3476])\n",
      "t: tensor([27, 68, 60, 69, 89, 80, 43, 78]), batch_nb: 1\n"
     ]
    },
    {
     "name": "stderr",
     "output_type": "stream",
     "text": [
      "  8%|▊         | 3/36 [00:08<01:17,  2.34s/it, avg_laplacian_term=79.9, avg_val_fro=35.7, avg_val_loss=116, avg_val_mae=4.89, batch_nb=1, epoch=19, tng_loss=177.468, v_nb=1]"
     ]
    },
    {
     "name": "stdout",
     "output_type": "stream",
     "text": [
      "G shape: torch.Size([8, 3476, 3476])\n",
      "t: tensor([ 66, 108,   6, 105,  33,  47, 131, 135]), batch_nb: 2\n"
     ]
    },
    {
     "name": "stderr",
     "output_type": "stream",
     "text": [
      " 11%|█         | 4/36 [00:13<01:38,  3.07s/it, avg_laplacian_term=79.9, avg_val_fro=35.7, avg_val_loss=116, avg_val_mae=4.89, batch_nb=2, epoch=19, tng_loss=177.313, v_nb=1]"
     ]
    },
    {
     "name": "stdout",
     "output_type": "stream",
     "text": [
      "G shape: torch.Size([8, 3476, 3476])\n",
      "t: tensor([ 77,  38, 125, 116,  98,  51,  72, 130]), batch_nb: 3\n"
     ]
    },
    {
     "name": "stderr",
     "output_type": "stream",
     "text": [
      " 14%|█▍        | 5/36 [00:17<01:42,  3.32s/it, avg_laplacian_term=79.9, avg_val_fro=35.7, avg_val_loss=116, avg_val_mae=4.89, batch_nb=3, epoch=19, tng_loss=176.997, v_nb=1]"
     ]
    },
    {
     "name": "stdout",
     "output_type": "stream",
     "text": [
      "G shape: torch.Size([8, 3476, 3476])\n",
      "t: tensor([84, 49, 94,  1,  3, 13, 81, 18]), batch_nb: 4\n"
     ]
    },
    {
     "name": "stderr",
     "output_type": "stream",
     "text": [
      " 17%|█▋        | 6/36 [00:21<01:48,  3.61s/it, avg_laplacian_term=79.9, avg_val_fro=35.7, avg_val_loss=116, avg_val_mae=4.89, batch_nb=4, epoch=19, tng_loss=176.915, v_nb=1]"
     ]
    },
    {
     "name": "stdout",
     "output_type": "stream",
     "text": [
      "G shape: torch.Size([8, 3476, 3476])\n",
      "t: tensor([  4,  76,   8,  34, 115,  82,  30,  95]), batch_nb: 5\n"
     ]
    },
    {
     "name": "stderr",
     "output_type": "stream",
     "text": [
      " 19%|█▉        | 7/36 [00:25<01:46,  3.68s/it, avg_laplacian_term=79.9, avg_val_fro=35.7, avg_val_loss=116, avg_val_mae=4.89, batch_nb=5, epoch=19, tng_loss=176.842, v_nb=1]"
     ]
    },
    {
     "name": "stdout",
     "output_type": "stream",
     "text": [
      "G shape: torch.Size([8, 3476, 3476])\n",
      "t: tensor([ 64, 114,  24,  20,  88, 126,  31,   2]), batch_nb: 6\n"
     ]
    },
    {
     "name": "stderr",
     "output_type": "stream",
     "text": [
      " 22%|██▏       | 8/36 [00:30<01:49,  3.91s/it, avg_laplacian_term=79.9, avg_val_fro=35.7, avg_val_loss=116, avg_val_mae=4.89, batch_nb=6, epoch=19, tng_loss=176.591, v_nb=1]"
     ]
    },
    {
     "name": "stdout",
     "output_type": "stream",
     "text": [
      "G shape: torch.Size([8, 3476, 3476])\n",
      "t: tensor([104,   9,  35,  75,  74, 117, 111, 139]), batch_nb: 7\n"
     ]
    },
    {
     "name": "stderr",
     "output_type": "stream",
     "text": [
      " 25%|██▌       | 9/36 [00:34<01:48,  4.01s/it, avg_laplacian_term=79.9, avg_val_fro=35.7, avg_val_loss=116, avg_val_mae=4.89, batch_nb=7, epoch=19, tng_loss=176.487, v_nb=1]"
     ]
    },
    {
     "name": "stdout",
     "output_type": "stream",
     "text": [
      "G shape: torch.Size([8, 3476, 3476])\n",
      "t: tensor([ 46, 136,  14,  22,  93,  32,  48,  25]), batch_nb: 8\n"
     ]
    },
    {
     "name": "stderr",
     "output_type": "stream",
     "text": [
      " 28%|██▊       | 10/36 [00:38<01:45,  4.05s/it, avg_laplacian_term=79.9, avg_val_fro=35.7, avg_val_loss=116, avg_val_mae=4.89, batch_nb=8, epoch=19, tng_loss=176.221, v_nb=1]"
     ]
    },
    {
     "name": "stdout",
     "output_type": "stream",
     "text": [
      "G shape: torch.Size([8, 3476, 3476])\n",
      "t: tensor([ 79,  26,  62,  92,  83,  15, 123, 106]), batch_nb: 9\n"
     ]
    },
    {
     "name": "stderr",
     "output_type": "stream",
     "text": [
      " 31%|███       | 11/36 [00:42<01:42,  4.12s/it, avg_laplacian_term=79.9, avg_val_fro=35.7, avg_val_loss=116, avg_val_mae=4.89, batch_nb=9, epoch=19, tng_loss=176.119, v_nb=1]"
     ]
    },
    {
     "name": "stdout",
     "output_type": "stream",
     "text": [
      "G shape: torch.Size([8, 3476, 3476])\n",
      "t: tensor([ 44,  67,  41, 118,  39,  53,  50, 122]), batch_nb: 10\n"
     ]
    },
    {
     "name": "stderr",
     "output_type": "stream",
     "text": [
      " 33%|███▎      | 12/36 [00:46<01:37,  4.08s/it, avg_laplacian_term=79.9, avg_val_fro=35.7, avg_val_loss=116, avg_val_mae=4.89, batch_nb=10, epoch=19, tng_loss=175.907, v_nb=1]"
     ]
    },
    {
     "name": "stdout",
     "output_type": "stream",
     "text": [
      "G shape: torch.Size([8, 3476, 3476])\n",
      "t: tensor([ 23,  57,  45,  42,  36, 120, 102, 112]), batch_nb: 11\n"
     ]
    },
    {
     "name": "stderr",
     "output_type": "stream",
     "text": [
      " 36%|███▌      | 13/36 [00:51<01:40,  4.36s/it, avg_laplacian_term=79.9, avg_val_fro=35.7, avg_val_loss=116, avg_val_mae=4.89, batch_nb=11, epoch=19, tng_loss=175.804, v_nb=1]"
     ]
    },
    {
     "name": "stdout",
     "output_type": "stream",
     "text": [
      "G shape: torch.Size([8, 3476, 3476])\n",
      "t: tensor([ 37, 127,  73, 133,  99, 138,   7,  12]), batch_nb: 12\n"
     ]
    },
    {
     "name": "stderr",
     "output_type": "stream",
     "text": [
      " 39%|███▉      | 14/36 [00:58<01:49,  4.98s/it, avg_laplacian_term=79.9, avg_val_fro=35.7, avg_val_loss=116, avg_val_mae=4.89, batch_nb=12, epoch=19, tng_loss=175.665, v_nb=1]"
     ]
    },
    {
     "name": "stdout",
     "output_type": "stream",
     "text": [
      "G shape: torch.Size([8, 3476, 3476])\n",
      "t: tensor([ 52,   0, 128,  71, 109, 140, 101,  21]), batch_nb: 13\n"
     ]
    },
    {
     "name": "stderr",
     "output_type": "stream",
     "text": [
      " 42%|████▏     | 15/36 [01:03<01:46,  5.06s/it, avg_laplacian_term=79.9, avg_val_fro=35.7, avg_val_loss=116, avg_val_mae=4.89, batch_nb=13, epoch=19, tng_loss=175.283, v_nb=1]"
     ]
    },
    {
     "name": "stdout",
     "output_type": "stream",
     "text": [
      "G shape: torch.Size([8, 3476, 3476])\n",
      "t: tensor([103,  61,  65,  97,   5,  86,  96,  29]), batch_nb: 14\n"
     ]
    },
    {
     "name": "stderr",
     "output_type": "stream",
     "text": [
      " 44%|████▍     | 16/36 [01:07<01:32,  4.63s/it, avg_laplacian_term=79.9, avg_val_fro=35.7, avg_val_loss=116, avg_val_mae=4.89, batch_nb=14, epoch=19, tng_loss=174.954, v_nb=1]"
     ]
    },
    {
     "name": "stdout",
     "output_type": "stream",
     "text": [
      "G shape: torch.Size([8, 3476, 3476])\n",
      "t: tensor([ 85,  63, 129,  11,  55, 137, 119, 124]), batch_nb: 15\n"
     ]
    },
    {
     "name": "stderr",
     "output_type": "stream",
     "text": [
      " 47%|████▋     | 17/36 [01:10<01:21,  4.31s/it, avg_laplacian_term=79.9, avg_val_fro=35.7, avg_val_loss=116, avg_val_mae=4.89, batch_nb=15, epoch=19, tng_loss=174.875, v_nb=1]"
     ]
    },
    {
     "name": "stdout",
     "output_type": "stream",
     "text": [
      "G shape: torch.Size([8, 3476, 3476])\n",
      "t: tensor([134,  91, 143,  17, 142, 113, 141, 121]), batch_nb: 16\n"
     ]
    },
    {
     "name": "stderr",
     "output_type": "stream",
     "text": [
      "\r",
      " 47%|████▋     | 17/36 [01:13<01:21,  4.31s/it, avg_laplacian_term=79.9, avg_val_fro=35.7, avg_val_loss=116, avg_val_mae=4.89, batch_nb=16, epoch=19, tng_loss=174.924, v_nb=1]"
     ]
    },
    {
     "name": "stdout",
     "output_type": "stream",
     "text": [
      "G shape: torch.Size([8, 3476, 3476])\n",
      "t: tensor([ 29, 113, 114, 120,  20,  90,  37,  96]), batch_nb: 0\n"
     ]
    },
    {
     "name": "stderr",
     "output_type": "stream",
     "text": [
      "\r",
      " 50%|█████     | 18/36 [01:17<01:31,  5.11s/it, avg_laplacian_term=79.9, avg_val_fro=35.7, avg_val_loss=116, avg_val_mae=4.89, batch_nb=16, epoch=19, tng_loss=174.924, v_nb=1]"
     ]
    },
    {
     "name": "stdout",
     "output_type": "stream",
     "text": [
      "G shape: torch.Size([8, 3476, 3476])\n",
      "t: tensor([139, 111,  89, 110,  56,  22,  55,  86]), batch_nb: 1\n"
     ]
    },
    {
     "name": "stderr",
     "output_type": "stream",
     "text": [
      "\r",
      " 53%|█████▎    | 19/36 [01:21<01:19,  4.67s/it, avg_laplacian_term=79.9, avg_val_fro=35.7, avg_val_loss=116, avg_val_mae=4.89, batch_nb=16, epoch=19, tng_loss=174.924, v_nb=1]"
     ]
    },
    {
     "name": "stdout",
     "output_type": "stream",
     "text": [
      "G shape: torch.Size([8, 3476, 3476])\n",
      "t: tensor([  4,  92,  27,  57, 142,  83, 121, 116]), batch_nb: 2\n"
     ]
    },
    {
     "name": "stderr",
     "output_type": "stream",
     "text": [
      "\r",
      " 56%|█████▌    | 20/36 [01:25<01:10,  4.40s/it, avg_laplacian_term=79.9, avg_val_fro=35.7, avg_val_loss=116, avg_val_mae=4.89, batch_nb=16, epoch=19, tng_loss=174.924, v_nb=1]"
     ]
    },
    {
     "name": "stdout",
     "output_type": "stream",
     "text": [
      "G shape: torch.Size([8, 3476, 3476])\n",
      "t: tensor([123, 124,  65,  97,  66,  64,  34,  15]), batch_nb: 3\n"
     ]
    },
    {
     "name": "stderr",
     "output_type": "stream",
     "text": [
      "\r",
      " 58%|█████▊    | 21/36 [01:28<01:03,  4.25s/it, avg_laplacian_term=79.9, avg_val_fro=35.7, avg_val_loss=116, avg_val_mae=4.89, batch_nb=16, epoch=19, tng_loss=174.924, v_nb=1]"
     ]
    },
    {
     "name": "stdout",
     "output_type": "stream",
     "text": [
      "G shape: torch.Size([8, 3476, 3476])\n",
      "t: tensor([ 8, 28, 88, 98, 77, 39, 91, 60]), batch_nb: 4\n"
     ]
    },
    {
     "name": "stderr",
     "output_type": "stream",
     "text": [
      "\r",
      " 61%|██████    | 22/36 [01:32<00:58,  4.19s/it, avg_laplacian_term=79.9, avg_val_fro=35.7, avg_val_loss=116, avg_val_mae=4.89, batch_nb=16, epoch=19, tng_loss=174.924, v_nb=1]"
     ]
    },
    {
     "name": "stdout",
     "output_type": "stream",
     "text": [
      "G shape: torch.Size([8, 3476, 3476])\n",
      "t: tensor([95, 48, 67, 54, 63, 23, 99, 62]), batch_nb: 5\n"
     ]
    },
    {
     "name": "stderr",
     "output_type": "stream",
     "text": [
      "\r",
      " 64%|██████▍   | 23/36 [01:36<00:53,  4.11s/it, avg_laplacian_term=79.9, avg_val_fro=35.7, avg_val_loss=116, avg_val_mae=4.89, batch_nb=16, epoch=19, tng_loss=174.924, v_nb=1]"
     ]
    },
    {
     "name": "stdout",
     "output_type": "stream",
     "text": [
      "G shape: torch.Size([8, 3476, 3476])\n",
      "t: tensor([ 16,  82, 138,  79,  81,  25,  52,  18]), batch_nb: 6\n"
     ]
    },
    {
     "name": "stderr",
     "output_type": "stream",
     "text": [
      "\r",
      " 67%|██████▋   | 24/36 [01:41<00:49,  4.15s/it, avg_laplacian_term=79.9, avg_val_fro=35.7, avg_val_loss=116, avg_val_mae=4.89, batch_nb=16, epoch=19, tng_loss=174.924, v_nb=1]"
     ]
    },
    {
     "name": "stdout",
     "output_type": "stream",
     "text": [
      "G shape: torch.Size([8, 3476, 3476])\n",
      "t: tensor([106,  73,  50,  58, 122,  76, 133,  14]), batch_nb: 7\n"
     ]
    },
    {
     "name": "stderr",
     "output_type": "stream",
     "text": [
      "\r",
      " 69%|██████▉   | 25/36 [01:44<00:43,  3.99s/it, avg_laplacian_term=79.9, avg_val_fro=35.7, avg_val_loss=116, avg_val_mae=4.89, batch_nb=16, epoch=19, tng_loss=174.924, v_nb=1]"
     ]
    },
    {
     "name": "stdout",
     "output_type": "stream",
     "text": [
      "G shape: torch.Size([8, 3476, 3476])\n",
      "t: tensor([ 44,   3,  85, 108, 109,  68,   9, 126]), batch_nb: 8\n"
     ]
    },
    {
     "name": "stderr",
     "output_type": "stream",
     "text": [
      "\r",
      " 72%|███████▏  | 26/36 [01:48<00:38,  3.85s/it, avg_laplacian_term=79.9, avg_val_fro=35.7, avg_val_loss=116, avg_val_mae=4.89, batch_nb=16, epoch=19, tng_loss=174.924, v_nb=1]"
     ]
    },
    {
     "name": "stdout",
     "output_type": "stream",
     "text": [
      "G shape: torch.Size([8, 3476, 3476])\n",
      "t: tensor([ 36,  53,  49, 128, 117,  74,  45,  59]), batch_nb: 9\n"
     ]
    },
    {
     "name": "stderr",
     "output_type": "stream",
     "text": [
      "\r",
      " 75%|███████▌  | 27/36 [01:52<00:35,  3.90s/it, avg_laplacian_term=79.9, avg_val_fro=35.7, avg_val_loss=116, avg_val_mae=4.89, batch_nb=16, epoch=19, tng_loss=174.924, v_nb=1]"
     ]
    },
    {
     "name": "stdout",
     "output_type": "stream",
     "text": [
      "G shape: torch.Size([8, 3476, 3476])\n",
      "t: tensor([ 42,  19,  61,  13,   0, 112, 137, 143]), batch_nb: 10\n"
     ]
    },
    {
     "name": "stderr",
     "output_type": "stream",
     "text": [
      "\r",
      " 78%|███████▊  | 28/36 [01:56<00:32,  4.05s/it, avg_laplacian_term=79.9, avg_val_fro=35.7, avg_val_loss=116, avg_val_mae=4.89, batch_nb=16, epoch=19, tng_loss=174.924, v_nb=1]"
     ]
    },
    {
     "name": "stdout",
     "output_type": "stream",
     "text": [
      "G shape: torch.Size([8, 3476, 3476])\n",
      "t: tensor([ 51, 134, 127, 107,  94,  33,  84, 130]), batch_nb: 11\n"
     ]
    },
    {
     "name": "stderr",
     "output_type": "stream",
     "text": [
      "\r",
      " 81%|████████  | 29/36 [02:01<00:29,  4.21s/it, avg_laplacian_term=79.9, avg_val_fro=35.7, avg_val_loss=116, avg_val_mae=4.89, batch_nb=16, epoch=19, tng_loss=174.924, v_nb=1]"
     ]
    },
    {
     "name": "stdout",
     "output_type": "stream",
     "text": [
      "G shape: torch.Size([8, 3476, 3476])\n",
      "t: tensor([ 70, 104,  47,  69,  17,  35, 132,  43]), batch_nb: 12\n"
     ]
    },
    {
     "name": "stderr",
     "output_type": "stream",
     "text": [
      "\r",
      " 83%|████████▎ | 30/36 [02:04<00:24,  4.05s/it, avg_laplacian_term=79.9, avg_val_fro=35.7, avg_val_loss=116, avg_val_mae=4.89, batch_nb=16, epoch=19, tng_loss=174.924, v_nb=1]"
     ]
    },
    {
     "name": "stdout",
     "output_type": "stream",
     "text": [
      "G shape: torch.Size([8, 3476, 3476])\n",
      "t: tensor([131,  87,  93, 102, 100, 118, 135,   2]), batch_nb: 13\n"
     ]
    },
    {
     "name": "stderr",
     "output_type": "stream",
     "text": [
      "\r",
      " 86%|████████▌ | 31/36 [02:08<00:19,  3.93s/it, avg_laplacian_term=79.9, avg_val_fro=35.7, avg_val_loss=116, avg_val_mae=4.89, batch_nb=16, epoch=19, tng_loss=174.924, v_nb=1]"
     ]
    },
    {
     "name": "stdout",
     "output_type": "stream",
     "text": [
      "G shape: torch.Size([8, 3476, 3476])\n",
      "t: tensor([105,  40,  72,  80,   5, 101, 125,  24]), batch_nb: 14\n"
     ]
    },
    {
     "name": "stderr",
     "output_type": "stream",
     "text": [
      "\r",
      " 89%|████████▉ | 32/36 [02:12<00:15,  3.93s/it, avg_laplacian_term=79.9, avg_val_fro=35.7, avg_val_loss=116, avg_val_mae=4.89, batch_nb=16, epoch=19, tng_loss=174.924, v_nb=1]"
     ]
    },
    {
     "name": "stdout",
     "output_type": "stream",
     "text": [
      "G shape: torch.Size([8, 3476, 3476])\n",
      "t: tensor([ 10, 141,  71, 115,   1,  26,  75,  12]), batch_nb: 15\n"
     ]
    },
    {
     "name": "stderr",
     "output_type": "stream",
     "text": [
      "\r",
      " 92%|█████████▏| 33/36 [02:17<00:12,  4.29s/it, avg_laplacian_term=79.9, avg_val_fro=35.7, avg_val_loss=116, avg_val_mae=4.89, batch_nb=16, epoch=19, tng_loss=174.924, v_nb=1]"
     ]
    },
    {
     "name": "stdout",
     "output_type": "stream",
     "text": [
      "G shape: torch.Size([8, 3476, 3476])\n",
      "t: tensor([103, 140,  21,   7,  78,  38,  31,   6]), batch_nb: 16\n"
     ]
    },
    {
     "name": "stderr",
     "output_type": "stream",
     "text": [
      "\r",
      " 94%|█████████▍| 34/36 [02:21<00:08,  4.24s/it, avg_laplacian_term=79.9, avg_val_fro=35.7, avg_val_loss=116, avg_val_mae=4.89, batch_nb=16, epoch=19, tng_loss=174.924, v_nb=1]"
     ]
    },
    {
     "name": "stdout",
     "output_type": "stream",
     "text": [
      "G shape: torch.Size([8, 3476, 3476])\n",
      "t: tensor([129,  32,  30,  11,  41, 119,  46, 136]), batch_nb: 17\n"
     ]
    },
    {
     "name": "stderr",
     "output_type": "stream",
     "text": [
      "100%|██████████| 36/36 [02:26<00:00,  3.02s/it, avg_laplacian_term=78.9, avg_val_fro=35.4, avg_val_loss=114, avg_val_mae=4.85, batch_nb=16, epoch=19, tng_loss=174.924, v_nb=1]"
     ]
    },
    {
     "name": "stdout",
     "output_type": "stream",
     "text": [
      "G shape: torch.Size([8, 3476, 3476])\n",
      "t: tensor([ 40,  16, 110,  59, 100,  54,  19,  87]), batch_nb: 17\n"
     ]
    },
    {
     "name": "stderr",
     "output_type": "stream",
     "text": [
      "  3%|▎         | 1/36 [00:00<00:15,  2.25it/s], avg_laplacian_term=78.9, avg_val_fro=35.4, avg_val_loss=114, avg_val_mae=4.85, batch_nb=17, epoch=19, tng_loss=174.894, v_nb=1]"
     ]
    },
    {
     "name": "stdout",
     "output_type": "stream",
     "text": [
      "G shape: torch.Size([8, 3476, 3476])\n",
      "t: tensor([25, 19,  8, 45, 23,  0, 99, 58]), batch_nb: 0\n"
     ]
    },
    {
     "name": "stderr",
     "output_type": "stream",
     "text": [
      "  6%|▌         | 2/36 [00:04<00:47,  1.40s/it, avg_laplacian_term=78.9, avg_val_fro=35.4, avg_val_loss=114, avg_val_mae=4.85, batch_nb=0, epoch=20, tng_loss=174.596, v_nb=1]"
     ]
    },
    {
     "name": "stdout",
     "output_type": "stream",
     "text": [
      "G shape: torch.Size([8, 3476, 3476])\n",
      "t: tensor([ 92, 113,  57,  70,  42, 120, 102,  18]), batch_nb: 1\n"
     ]
    },
    {
     "name": "stderr",
     "output_type": "stream",
     "text": [
      "  8%|▊         | 3/36 [00:07<01:07,  2.05s/it, avg_laplacian_term=78.9, avg_val_fro=35.4, avg_val_loss=114, avg_val_mae=4.85, batch_nb=1, epoch=20, tng_loss=174.650, v_nb=1]"
     ]
    },
    {
     "name": "stdout",
     "output_type": "stream",
     "text": [
      "G shape: torch.Size([8, 3476, 3476])\n",
      "t: tensor([110,  83,  48,  72,  16,  79,  10, 119]), batch_nb: 2\n"
     ]
    },
    {
     "name": "stderr",
     "output_type": "stream",
     "text": [
      " 11%|█         | 4/36 [00:11<01:21,  2.55s/it, avg_laplacian_term=78.9, avg_val_fro=35.4, avg_val_loss=114, avg_val_mae=4.85, batch_nb=2, epoch=20, tng_loss=174.676, v_nb=1]"
     ]
    },
    {
     "name": "stdout",
     "output_type": "stream",
     "text": [
      "G shape: torch.Size([8, 3476, 3476])\n",
      "t: tensor([123,  47,  69, 139, 133,  11,   6,   5]), batch_nb: 3\n"
     ]
    },
    {
     "name": "stderr",
     "output_type": "stream",
     "text": [
      " 14%|█▍        | 5/36 [00:15<01:31,  2.94s/it, avg_laplacian_term=78.9, avg_val_fro=35.4, avg_val_loss=114, avg_val_mae=4.85, batch_nb=3, epoch=20, tng_loss=174.558, v_nb=1]"
     ]
    },
    {
     "name": "stdout",
     "output_type": "stream",
     "text": [
      "G shape: torch.Size([8, 3476, 3476])\n",
      "t: tensor([ 76,  43,  31,  85,  78, 137, 100, 114]), batch_nb: 4\n"
     ]
    },
    {
     "name": "stderr",
     "output_type": "stream",
     "text": [
      " 17%|█▋        | 6/36 [00:19<01:36,  3.23s/it, avg_laplacian_term=78.9, avg_val_fro=35.4, avg_val_loss=114, avg_val_mae=4.85, batch_nb=4, epoch=20, tng_loss=174.515, v_nb=1]"
     ]
    },
    {
     "name": "stdout",
     "output_type": "stream",
     "text": [
      "G shape: torch.Size([8, 3476, 3476])\n",
      "t: tensor([ 52,  53,  93,  33, 109, 105,  41,  22]), batch_nb: 5\n"
     ]
    },
    {
     "name": "stderr",
     "output_type": "stream",
     "text": [
      " 19%|█▉        | 7/36 [00:23<01:39,  3.44s/it, avg_laplacian_term=78.9, avg_val_fro=35.4, avg_val_loss=114, avg_val_mae=4.85, batch_nb=5, epoch=20, tng_loss=174.358, v_nb=1]"
     ]
    },
    {
     "name": "stdout",
     "output_type": "stream",
     "text": [
      "G shape: torch.Size([8, 3476, 3476])\n",
      "t: tensor([117, 108,  74,  37, 138,  97,  40,  87]), batch_nb: 6\n"
     ]
    },
    {
     "name": "stderr",
     "output_type": "stream",
     "text": [
      " 22%|██▏       | 8/36 [00:27<01:43,  3.68s/it, avg_laplacian_term=78.9, avg_val_fro=35.4, avg_val_loss=114, avg_val_mae=4.85, batch_nb=6, epoch=20, tng_loss=174.214, v_nb=1]"
     ]
    },
    {
     "name": "stdout",
     "output_type": "stream",
     "text": [
      "G shape: torch.Size([8, 3476, 3476])\n",
      "t: tensor([ 15,  95,  38,  63,  96,  36,  55, 127]), batch_nb: 7\n"
     ]
    },
    {
     "name": "stderr",
     "output_type": "stream",
     "text": [
      " 25%|██▌       | 9/36 [00:31<01:40,  3.73s/it, avg_laplacian_term=78.9, avg_val_fro=35.4, avg_val_loss=114, avg_val_mae=4.85, batch_nb=7, epoch=20, tng_loss=174.233, v_nb=1]"
     ]
    },
    {
     "name": "stdout",
     "output_type": "stream",
     "text": [
      "G shape: torch.Size([8, 3476, 3476])\n",
      "t: tensor([ 20,  44, 124,  59, 112, 116, 107,  32]), batch_nb: 8\n"
     ]
    },
    {
     "name": "stderr",
     "output_type": "stream",
     "text": [
      " 28%|██▊       | 10/36 [00:35<01:38,  3.79s/it, avg_laplacian_term=78.9, avg_val_fro=35.4, avg_val_loss=114, avg_val_mae=4.85, batch_nb=8, epoch=20, tng_loss=174.330, v_nb=1]"
     ]
    },
    {
     "name": "stdout",
     "output_type": "stream",
     "text": [
      "G shape: torch.Size([8, 3476, 3476])\n",
      "t: tensor([ 14, 132, 131, 129, 104,   9,  89,  80]), batch_nb: 9\n"
     ]
    },
    {
     "name": "stderr",
     "output_type": "stream",
     "text": [
      " 31%|███       | 11/36 [00:39<01:36,  3.85s/it, avg_laplacian_term=78.9, avg_val_fro=35.4, avg_val_loss=114, avg_val_mae=4.85, batch_nb=9, epoch=20, tng_loss=174.249, v_nb=1]"
     ]
    },
    {
     "name": "stdout",
     "output_type": "stream",
     "text": [
      "G shape: torch.Size([8, 3476, 3476])\n",
      "t: tensor([ 91,  30,  27,  24, 125,  81, 121,  29]), batch_nb: 10\n"
     ]
    },
    {
     "name": "stderr",
     "output_type": "stream",
     "text": [
      " 33%|███▎      | 12/36 [00:43<01:33,  3.88s/it, avg_laplacian_term=78.9, avg_val_fro=35.4, avg_val_loss=114, avg_val_mae=4.85, batch_nb=10, epoch=20, tng_loss=174.120, v_nb=1]"
     ]
    },
    {
     "name": "stdout",
     "output_type": "stream",
     "text": [
      "G shape: torch.Size([8, 3476, 3476])\n",
      "t: tensor([ 98,  54,  21, 130, 136,   3, 106,  67]), batch_nb: 11\n"
     ]
    },
    {
     "name": "stderr",
     "output_type": "stream",
     "text": [
      " 36%|███▌      | 13/36 [00:47<01:30,  3.92s/it, avg_laplacian_term=78.9, avg_val_fro=35.4, avg_val_loss=114, avg_val_mae=4.85, batch_nb=11, epoch=20, tng_loss=174.143, v_nb=1]"
     ]
    },
    {
     "name": "stdout",
     "output_type": "stream",
     "text": [
      "G shape: torch.Size([8, 3476, 3476])\n",
      "t: tensor([ 2, 75, 39, 61, 68, 66, 86, 62]), batch_nb: 12\n"
     ]
    },
    {
     "name": "stderr",
     "output_type": "stream",
     "text": [
      " 39%|███▉      | 14/36 [00:51<01:27,  3.96s/it, avg_laplacian_term=78.9, avg_val_fro=35.4, avg_val_loss=114, avg_val_mae=4.85, batch_nb=12, epoch=20, tng_loss=174.081, v_nb=1]"
     ]
    },
    {
     "name": "stdout",
     "output_type": "stream",
     "text": [
      "G shape: torch.Size([8, 3476, 3476])\n",
      "t: tensor([ 49,   7, 140,  12,  26,  46, 101, 115]), batch_nb: 13\n"
     ]
    },
    {
     "name": "stderr",
     "output_type": "stream",
     "text": [
      " 42%|████▏     | 15/36 [00:55<01:23,  3.97s/it, avg_laplacian_term=78.9, avg_val_fro=35.4, avg_val_loss=114, avg_val_mae=4.85, batch_nb=13, epoch=20, tng_loss=173.899, v_nb=1]"
     ]
    },
    {
     "name": "stdout",
     "output_type": "stream",
     "text": [
      "G shape: torch.Size([8, 3476, 3476])\n",
      "t: tensor([134,  64,  71,  82, 122,  84,  73,  17]), batch_nb: 14\n"
     ]
    },
    {
     "name": "stderr",
     "output_type": "stream",
     "text": [
      " 44%|████▍     | 16/36 [00:58<01:18,  3.93s/it, avg_laplacian_term=78.9, avg_val_fro=35.4, avg_val_loss=114, avg_val_mae=4.85, batch_nb=14, epoch=20, tng_loss=173.785, v_nb=1]"
     ]
    },
    {
     "name": "stdout",
     "output_type": "stream",
     "text": [
      "G shape: torch.Size([8, 3476, 3476])\n",
      "t: tensor([ 51, 128,  35, 143, 135,  90, 142,  56]), batch_nb: 15\n"
     ]
    },
    {
     "name": "stderr",
     "output_type": "stream",
     "text": [
      " 47%|████▋     | 17/36 [01:02<01:12,  3.82s/it, avg_laplacian_term=78.9, avg_val_fro=35.4, avg_val_loss=114, avg_val_mae=4.85, batch_nb=15, epoch=20, tng_loss=173.636, v_nb=1]"
     ]
    },
    {
     "name": "stdout",
     "output_type": "stream",
     "text": [
      "G shape: torch.Size([8, 3476, 3476])\n",
      "t: tensor([ 28,   4,  50, 103, 141,  77, 126, 111]), batch_nb: 16\n"
     ]
    },
    {
     "name": "stderr",
     "output_type": "stream",
     "text": [
      "\r",
      " 47%|████▋     | 17/36 [01:05<01:12,  3.82s/it, avg_laplacian_term=78.9, avg_val_fro=35.4, avg_val_loss=114, avg_val_mae=4.85, batch_nb=16, epoch=20, tng_loss=173.509, v_nb=1]"
     ]
    },
    {
     "name": "stdout",
     "output_type": "stream",
     "text": [
      "G shape: torch.Size([8, 3476, 3476])\n",
      "t: tensor([124,  82,   3,  26,  19,  65,  88,  41]), batch_nb: 0\n"
     ]
    },
    {
     "name": "stderr",
     "output_type": "stream",
     "text": [
      "\r",
      " 50%|█████     | 18/36 [01:10<01:29,  4.95s/it, avg_laplacian_term=78.9, avg_val_fro=35.4, avg_val_loss=114, avg_val_mae=4.85, batch_nb=16, epoch=20, tng_loss=173.509, v_nb=1]"
     ]
    },
    {
     "name": "stdout",
     "output_type": "stream",
     "text": [
      "G shape: torch.Size([8, 3476, 3476])\n",
      "t: tensor([ 48, 109,   0,  81, 126,  71,   7, 131]), batch_nb: 1\n"
     ]
    },
    {
     "name": "stderr",
     "output_type": "stream",
     "text": [
      "\r",
      " 53%|█████▎    | 19/36 [01:13<01:18,  4.59s/it, avg_laplacian_term=78.9, avg_val_fro=35.4, avg_val_loss=114, avg_val_mae=4.85, batch_nb=16, epoch=20, tng_loss=173.509, v_nb=1]"
     ]
    },
    {
     "name": "stdout",
     "output_type": "stream",
     "text": [
      "G shape: torch.Size([8, 3476, 3476])\n",
      "t: tensor([ 79, 129,  56,  96,  99,  66, 137,  13]), batch_nb: 2\n"
     ]
    },
    {
     "name": "stderr",
     "output_type": "stream",
     "text": [
      "\r",
      " 56%|█████▌    | 20/36 [01:17<01:10,  4.38s/it, avg_laplacian_term=78.9, avg_val_fro=35.4, avg_val_loss=114, avg_val_mae=4.85, batch_nb=16, epoch=20, tng_loss=173.509, v_nb=1]"
     ]
    },
    {
     "name": "stdout",
     "output_type": "stream",
     "text": [
      "G shape: torch.Size([8, 3476, 3476])\n",
      "t: tensor([ 76, 113,  92,  67,  57, 135, 119,  25]), batch_nb: 3\n"
     ]
    },
    {
     "name": "stderr",
     "output_type": "stream",
     "text": [
      "\r",
      " 58%|█████▊    | 21/36 [01:21<01:02,  4.20s/it, avg_laplacian_term=78.9, avg_val_fro=35.4, avg_val_loss=114, avg_val_mae=4.85, batch_nb=16, epoch=20, tng_loss=173.509, v_nb=1]"
     ]
    },
    {
     "name": "stdout",
     "output_type": "stream",
     "text": [
      "G shape: torch.Size([8, 3476, 3476])\n",
      "t: tensor([  6,  78,  94,  86,  22,  15, 143, 132]), batch_nb: 4\n"
     ]
    },
    {
     "name": "stderr",
     "output_type": "stream",
     "text": [
      "\r",
      " 61%|██████    | 22/36 [01:25<00:57,  4.08s/it, avg_laplacian_term=78.9, avg_val_fro=35.4, avg_val_loss=114, avg_val_mae=4.85, batch_nb=16, epoch=20, tng_loss=173.509, v_nb=1]"
     ]
    },
    {
     "name": "stdout",
     "output_type": "stream",
     "text": [
      "G shape: torch.Size([8, 3476, 3476])\n",
      "t: tensor([ 50, 102,  61,  43,  49,   4, 141,  52]), batch_nb: 5\n"
     ]
    },
    {
     "name": "stderr",
     "output_type": "stream",
     "text": [
      "\r",
      " 64%|██████▍   | 23/36 [01:29<00:52,  4.02s/it, avg_laplacian_term=78.9, avg_val_fro=35.4, avg_val_loss=114, avg_val_mae=4.85, batch_nb=16, epoch=20, tng_loss=173.509, v_nb=1]"
     ]
    },
    {
     "name": "stdout",
     "output_type": "stream",
     "text": [
      "G shape: torch.Size([8, 3476, 3476])\n",
      "t: tensor([ 93,  23,  95,  62, 142,  54, 105, 136]), batch_nb: 6\n"
     ]
    },
    {
     "name": "stderr",
     "output_type": "stream",
     "text": [
      "\r",
      " 67%|██████▋   | 24/36 [01:32<00:47,  3.96s/it, avg_laplacian_term=78.9, avg_val_fro=35.4, avg_val_loss=114, avg_val_mae=4.85, batch_nb=16, epoch=20, tng_loss=173.509, v_nb=1]"
     ]
    },
    {
     "name": "stdout",
     "output_type": "stream",
     "text": [
      "G shape: torch.Size([8, 3476, 3476])\n",
      "t: tensor([123,  84,  16,  28,  11,  59, 130,  77]), batch_nb: 7\n"
     ]
    },
    {
     "name": "stderr",
     "output_type": "stream",
     "text": [
      "\r",
      " 69%|██████▉   | 25/36 [01:36<00:43,  3.97s/it, avg_laplacian_term=78.9, avg_val_fro=35.4, avg_val_loss=114, avg_val_mae=4.85, batch_nb=16, epoch=20, tng_loss=173.509, v_nb=1]"
     ]
    },
    {
     "name": "stdout",
     "output_type": "stream",
     "text": [
      "G shape: torch.Size([8, 3476, 3476])\n",
      "t: tensor([ 83, 112, 134,  17,  60,  73,  98, 139]), batch_nb: 8\n"
     ]
    },
    {
     "name": "stderr",
     "output_type": "stream",
     "text": [
      "\r",
      " 72%|███████▏  | 26/36 [01:40<00:39,  3.95s/it, avg_laplacian_term=78.9, avg_val_fro=35.4, avg_val_loss=114, avg_val_mae=4.85, batch_nb=16, epoch=20, tng_loss=173.509, v_nb=1]"
     ]
    },
    {
     "name": "stdout",
     "output_type": "stream",
     "text": [
      "G shape: torch.Size([8, 3476, 3476])\n",
      "t: tensor([ 24, 122,   1,  47,  45,  37,  80,  51]), batch_nb: 9\n"
     ]
    },
    {
     "name": "stderr",
     "output_type": "stream",
     "text": [
      "\r",
      " 75%|███████▌  | 27/36 [01:44<00:36,  4.00s/it, avg_laplacian_term=78.9, avg_val_fro=35.4, avg_val_loss=114, avg_val_mae=4.85, batch_nb=16, epoch=20, tng_loss=173.509, v_nb=1]"
     ]
    },
    {
     "name": "stdout",
     "output_type": "stream",
     "text": [
      "G shape: torch.Size([8, 3476, 3476])\n",
      "t: tensor([111,  39,  33, 127,  10,  46, 106,   2]), batch_nb: 10\n"
     ]
    },
    {
     "name": "stderr",
     "output_type": "stream",
     "text": [
      "\r",
      " 78%|███████▊  | 28/36 [01:49<00:32,  4.02s/it, avg_laplacian_term=78.9, avg_val_fro=35.4, avg_val_loss=114, avg_val_mae=4.85, batch_nb=16, epoch=20, tng_loss=173.509, v_nb=1]"
     ]
    },
    {
     "name": "stdout",
     "output_type": "stream",
     "text": [
      "G shape: torch.Size([8, 3476, 3476])\n",
      "t: tensor([ 75,  36,  91, 121, 116,  29, 128,  87]), batch_nb: 11\n"
     ]
    },
    {
     "name": "stderr",
     "output_type": "stream",
     "text": [
      "\r",
      " 81%|████████  | 29/36 [01:53<00:28,  4.03s/it, avg_laplacian_term=78.9, avg_val_fro=35.4, avg_val_loss=114, avg_val_mae=4.85, batch_nb=16, epoch=20, tng_loss=173.509, v_nb=1]"
     ]
    },
    {
     "name": "stdout",
     "output_type": "stream",
     "text": [
      "G shape: torch.Size([8, 3476, 3476])\n",
      "t: tensor([ 31,  32, 125,  89, 133,  64,  68,  70]), batch_nb: 12\n"
     ]
    },
    {
     "name": "stderr",
     "output_type": "stream",
     "text": [
      "\r",
      " 83%|████████▎ | 30/36 [01:56<00:23,  3.96s/it, avg_laplacian_term=78.9, avg_val_fro=35.4, avg_val_loss=114, avg_val_mae=4.85, batch_nb=16, epoch=20, tng_loss=173.509, v_nb=1]"
     ]
    },
    {
     "name": "stdout",
     "output_type": "stream",
     "text": [
      "G shape: torch.Size([8, 3476, 3476])\n",
      "t: tensor([140,  53,  63,  27, 114,   9,  34,   5]), batch_nb: 13\n"
     ]
    },
    {
     "name": "stderr",
     "output_type": "stream",
     "text": [
      "\r",
      " 86%|████████▌ | 31/36 [02:00<00:19,  3.82s/it, avg_laplacian_term=78.9, avg_val_fro=35.4, avg_val_loss=114, avg_val_mae=4.85, batch_nb=16, epoch=20, tng_loss=173.509, v_nb=1]"
     ]
    },
    {
     "name": "stdout",
     "output_type": "stream",
     "text": [
      "G shape: torch.Size([8, 3476, 3476])\n",
      "t: tensor([ 85, 117,  35,  38,  74, 100,  21,  14]), batch_nb: 14\n"
     ]
    },
    {
     "name": "stderr",
     "output_type": "stream",
     "text": [
      "\r",
      " 89%|████████▉ | 32/36 [02:04<00:15,  3.79s/it, avg_laplacian_term=78.9, avg_val_fro=35.4, avg_val_loss=114, avg_val_mae=4.85, batch_nb=16, epoch=20, tng_loss=173.509, v_nb=1]"
     ]
    },
    {
     "name": "stdout",
     "output_type": "stream",
     "text": [
      "G shape: torch.Size([8, 3476, 3476])\n",
      "t: tensor([108,  58,  90, 101, 104,  42, 103, 115]), batch_nb: 15\n"
     ]
    },
    {
     "name": "stderr",
     "output_type": "stream",
     "text": [
      "\r",
      " 92%|█████████▏| 33/36 [02:08<00:11,  3.90s/it, avg_laplacian_term=78.9, avg_val_fro=35.4, avg_val_loss=114, avg_val_mae=4.85, batch_nb=16, epoch=20, tng_loss=173.509, v_nb=1]"
     ]
    },
    {
     "name": "stdout",
     "output_type": "stream",
     "text": [
      "G shape: torch.Size([8, 3476, 3476])\n",
      "t: tensor([ 69,  40,  72,  97, 107, 138,  55, 120]), batch_nb: 16\n"
     ]
    },
    {
     "name": "stderr",
     "output_type": "stream",
     "text": [
      "\r",
      " 94%|█████████▍| 34/36 [02:12<00:08,  4.02s/it, avg_laplacian_term=78.9, avg_val_fro=35.4, avg_val_loss=114, avg_val_mae=4.85, batch_nb=16, epoch=20, tng_loss=173.509, v_nb=1]"
     ]
    },
    {
     "name": "stdout",
     "output_type": "stream",
     "text": [
      "G shape: torch.Size([8, 3476, 3476])\n",
      "t: tensor([ 30,  44, 110,  18,   8, 118,  20,  12]), batch_nb: 17\n"
     ]
    },
    {
     "name": "stderr",
     "output_type": "stream",
     "text": [
      "100%|██████████| 36/36 [02:16<00:00,  2.92s/it, avg_laplacian_term=77.8, avg_val_fro=35.1, avg_val_loss=113, avg_val_mae=4.83, batch_nb=16, epoch=20, tng_loss=173.509, v_nb=1]"
     ]
    },
    {
     "name": "stdout",
     "output_type": "stream",
     "text": [
      "G shape: torch.Size([8, 3476, 3476])\n",
      "t: tensor([ 60,   1,  34,  88, 118,  13,  65,  94]), batch_nb: 17\n"
     ]
    },
    {
     "name": "stderr",
     "output_type": "stream",
     "text": [
      "  3%|▎         | 1/36 [00:00<00:15,  2.32it/s], avg_laplacian_term=77.8, avg_val_fro=35.1, avg_val_loss=113, avg_val_mae=4.83, batch_nb=17, epoch=20, tng_loss=173.423, v_nb=1]"
     ]
    },
    {
     "name": "stdout",
     "output_type": "stream",
     "text": [
      "G shape: torch.Size([8, 3476, 3476])\n",
      "t: tensor([ 26,  78, 121, 127, 136, 131,   3,   0]), batch_nb: 0\n"
     ]
    },
    {
     "name": "stderr",
     "output_type": "stream",
     "text": [
      "  6%|▌         | 2/36 [00:04<00:50,  1.50s/it, avg_laplacian_term=77.8, avg_val_fro=35.1, avg_val_loss=113, avg_val_mae=4.83, batch_nb=0, epoch=21, tng_loss=173.309, v_nb=1]"
     ]
    },
    {
     "name": "stdout",
     "output_type": "stream",
     "text": [
      "G shape: torch.Size([8, 3476, 3476])\n",
      "t: tensor([ 99,  55, 102,  61,  50,  31,  30,  43]), batch_nb: 1\n"
     ]
    },
    {
     "name": "stderr",
     "output_type": "stream",
     "text": [
      "  8%|▊         | 3/36 [00:08<01:11,  2.16s/it, avg_laplacian_term=77.8, avg_val_fro=35.1, avg_val_loss=113, avg_val_mae=4.83, batch_nb=1, epoch=21, tng_loss=173.174, v_nb=1]"
     ]
    },
    {
     "name": "stdout",
     "output_type": "stream",
     "text": [
      "G shape: torch.Size([8, 3476, 3476])\n",
      "t: tensor([108,  82,  67, 100, 118, 143,  65,  19]), batch_nb: 2\n"
     ]
    },
    {
     "name": "stderr",
     "output_type": "stream",
     "text": [
      " 11%|█         | 4/36 [00:12<01:25,  2.68s/it, avg_laplacian_term=77.8, avg_val_fro=35.1, avg_val_loss=113, avg_val_mae=4.83, batch_nb=2, epoch=21, tng_loss=172.991, v_nb=1]"
     ]
    },
    {
     "name": "stdout",
     "output_type": "stream",
     "text": [
      "G shape: torch.Size([8, 3476, 3476])\n",
      "t: tensor([137,  94, 133,  71, 128, 122,  68,  54]), batch_nb: 3\n"
     ]
    },
    {
     "name": "stderr",
     "output_type": "stream",
     "text": [
      " 14%|█▍        | 5/36 [00:15<01:34,  3.05s/it, avg_laplacian_term=77.8, avg_val_fro=35.1, avg_val_loss=113, avg_val_mae=4.83, batch_nb=3, epoch=21, tng_loss=172.835, v_nb=1]"
     ]
    },
    {
     "name": "stdout",
     "output_type": "stream",
     "text": [
      "G shape: torch.Size([8, 3476, 3476])\n",
      "t: tensor([ 38,  72,  59,  60,  49,  74, 134,   7]), batch_nb: 4\n"
     ]
    },
    {
     "name": "stderr",
     "output_type": "stream",
     "text": [
      " 17%|█▋        | 6/36 [00:23<02:11,  4.37s/it, avg_laplacian_term=77.8, avg_val_fro=35.1, avg_val_loss=113, avg_val_mae=4.83, batch_nb=4, epoch=21, tng_loss=172.673, v_nb=1]"
     ]
    },
    {
     "name": "stdout",
     "output_type": "stream",
     "text": [
      "G shape: torch.Size([8, 3476, 3476])\n",
      "t: tensor([ 25, 116,  58,  77,  51,  91,  96,   4]), batch_nb: 5\n"
     ]
    },
    {
     "name": "stderr",
     "output_type": "stream",
     "text": [
      " 19%|█▉        | 7/36 [00:29<02:20,  4.83s/it, avg_laplacian_term=77.8, avg_val_fro=35.1, avg_val_loss=113, avg_val_mae=4.83, batch_nb=5, epoch=21, tng_loss=172.508, v_nb=1]"
     ]
    },
    {
     "name": "stdout",
     "output_type": "stream",
     "text": [
      "G shape: torch.Size([8, 3476, 3476])\n",
      "t: tensor([ 52,  88,  75, 139, 101,  14,  34,  57]), batch_nb: 6\n"
     ]
    },
    {
     "name": "stderr",
     "output_type": "stream",
     "text": [
      " 22%|██▏       | 8/36 [00:33<02:13,  4.76s/it, avg_laplacian_term=77.8, avg_val_fro=35.1, avg_val_loss=113, avg_val_mae=4.83, batch_nb=6, epoch=21, tng_loss=172.421, v_nb=1]"
     ]
    },
    {
     "name": "stdout",
     "output_type": "stream",
     "text": [
      "G shape: torch.Size([8, 3476, 3476])\n",
      "t: tensor([ 28,  66,  44,   1,  86,  70,  40, 113]), batch_nb: 7\n"
     ]
    },
    {
     "name": "stderr",
     "output_type": "stream",
     "text": [
      " 25%|██▌       | 9/36 [00:38<02:10,  4.84s/it, avg_laplacian_term=77.8, avg_val_fro=35.1, avg_val_loss=113, avg_val_mae=4.83, batch_nb=7, epoch=21, tng_loss=172.338, v_nb=1]"
     ]
    },
    {
     "name": "stdout",
     "output_type": "stream",
     "text": [
      "G shape: torch.Size([8, 3476, 3476])\n",
      "t: tensor([ 95,  84,  17,  15, 112,  92,  37, 130]), batch_nb: 8\n"
     ]
    },
    {
     "name": "stderr",
     "output_type": "stream",
     "text": [
      " 28%|██▊       | 10/36 [00:42<01:57,  4.51s/it, avg_laplacian_term=77.8, avg_val_fro=35.1, avg_val_loss=113, avg_val_mae=4.83, batch_nb=8, epoch=21, tng_loss=172.209, v_nb=1]"
     ]
    },
    {
     "name": "stdout",
     "output_type": "stream",
     "text": [
      "G shape: torch.Size([8, 3476, 3476])\n",
      "t: tensor([109,  85,  22, 125,  56, 103, 135,  48]), batch_nb: 9\n"
     ]
    },
    {
     "name": "stderr",
     "output_type": "stream",
     "text": [
      " 31%|███       | 11/36 [00:46<01:46,  4.24s/it, avg_laplacian_term=77.8, avg_val_fro=35.1, avg_val_loss=113, avg_val_mae=4.83, batch_nb=9, epoch=21, tng_loss=171.841, v_nb=1]"
     ]
    },
    {
     "name": "stdout",
     "output_type": "stream",
     "text": [
      "G shape: torch.Size([8, 3476, 3476])\n",
      "t: tensor([115,   6,  23,  64, 107,  93,  87, 105]), batch_nb: 10\n"
     ]
    },
    {
     "name": "stderr",
     "output_type": "stream",
     "text": [
      " 33%|███▎      | 12/36 [00:49<01:37,  4.05s/it, avg_laplacian_term=77.8, avg_val_fro=35.1, avg_val_loss=113, avg_val_mae=4.83, batch_nb=10, epoch=21, tng_loss=171.718, v_nb=1]"
     ]
    },
    {
     "name": "stdout",
     "output_type": "stream",
     "text": [
      "G shape: torch.Size([8, 3476, 3476])\n",
      "t: tensor([140, 141, 132,  27,  81,  79, 117,  33]), batch_nb: 11\n"
     ]
    },
    {
     "name": "stderr",
     "output_type": "stream",
     "text": [
      " 36%|███▌      | 13/36 [00:53<01:29,  3.91s/it, avg_laplacian_term=77.8, avg_val_fro=35.1, avg_val_loss=113, avg_val_mae=4.83, batch_nb=11, epoch=21, tng_loss=171.602, v_nb=1]"
     ]
    },
    {
     "name": "stdout",
     "output_type": "stream",
     "text": [
      "G shape: torch.Size([8, 3476, 3476])\n",
      "t: tensor([ 13,  41,  53, 138,  24, 111,  47,  39]), batch_nb: 12\n"
     ]
    },
    {
     "name": "stderr",
     "output_type": "stream",
     "text": [
      " 39%|███▉      | 14/36 [00:57<01:26,  3.92s/it, avg_laplacian_term=77.8, avg_val_fro=35.1, avg_val_loss=113, avg_val_mae=4.83, batch_nb=12, epoch=21, tng_loss=171.414, v_nb=1]"
     ]
    },
    {
     "name": "stdout",
     "output_type": "stream",
     "text": [
      "G shape: torch.Size([8, 3476, 3476])\n",
      "t: tensor([ 10, 123,  69,  29,  97, 104, 129,  36]), batch_nb: 13\n"
     ]
    },
    {
     "name": "stderr",
     "output_type": "stream",
     "text": [
      " 42%|████▏     | 15/36 [01:01<01:25,  4.08s/it, avg_laplacian_term=77.8, avg_val_fro=35.1, avg_val_loss=113, avg_val_mae=4.83, batch_nb=13, epoch=21, tng_loss=171.300, v_nb=1]"
     ]
    },
    {
     "name": "stdout",
     "output_type": "stream",
     "text": [
      "G shape: torch.Size([8, 3476, 3476])\n",
      "t: tensor([ 42, 110, 126,  12, 114, 119,  62,  98]), batch_nb: 14\n"
     ]
    },
    {
     "name": "stderr",
     "output_type": "stream",
     "text": [
      " 44%|████▍     | 16/36 [01:05<01:20,  4.04s/it, avg_laplacian_term=77.8, avg_val_fro=35.1, avg_val_loss=113, avg_val_mae=4.83, batch_nb=14, epoch=21, tng_loss=171.111, v_nb=1]"
     ]
    },
    {
     "name": "stdout",
     "output_type": "stream",
     "text": [
      "G shape: torch.Size([8, 3476, 3476])\n",
      "t: tensor([142,  90,  11,  32,  18, 106,  73,  89]), batch_nb: 15\n"
     ]
    },
    {
     "name": "stderr",
     "output_type": "stream",
     "text": [
      " 47%|████▋     | 17/36 [01:09<01:16,  4.00s/it, avg_laplacian_term=77.8, avg_val_fro=35.1, avg_val_loss=113, avg_val_mae=4.83, batch_nb=15, epoch=21, tng_loss=171.036, v_nb=1]"
     ]
    },
    {
     "name": "stdout",
     "output_type": "stream",
     "text": [
      "G shape: torch.Size([8, 3476, 3476])\n",
      "t: tensor([ 63,   8,  76,  83, 124, 120,  46,  45]), batch_nb: 16\n"
     ]
    },
    {
     "name": "stderr",
     "output_type": "stream",
     "text": [
      "\r",
      " 47%|████▋     | 17/36 [01:13<01:16,  4.00s/it, avg_laplacian_term=77.8, avg_val_fro=35.1, avg_val_loss=113, avg_val_mae=4.83, batch_nb=16, epoch=21, tng_loss=170.760, v_nb=1]"
     ]
    },
    {
     "name": "stdout",
     "output_type": "stream",
     "text": [
      "G shape: torch.Size([8, 3476, 3476])\n",
      "t: tensor([115,   5,  12,  77, 132,  47, 108,  41]), batch_nb: 0\n"
     ]
    },
    {
     "name": "stderr",
     "output_type": "stream",
     "text": [
      "\r",
      " 50%|█████     | 18/36 [01:17<01:33,  5.17s/it, avg_laplacian_term=77.8, avg_val_fro=35.1, avg_val_loss=113, avg_val_mae=4.83, batch_nb=16, epoch=21, tng_loss=170.760, v_nb=1]"
     ]
    },
    {
     "name": "stdout",
     "output_type": "stream",
     "text": [
      "G shape: torch.Size([8, 3476, 3476])\n",
      "t: tensor([ 83, 128,  63,  31,   1,  76,  97,  91]), batch_nb: 1\n"
     ]
    },
    {
     "name": "stderr",
     "output_type": "stream",
     "text": [
      "\r",
      " 53%|█████▎    | 19/36 [01:21<01:22,  4.84s/it, avg_laplacian_term=77.8, avg_val_fro=35.1, avg_val_loss=113, avg_val_mae=4.83, batch_nb=16, epoch=21, tng_loss=170.760, v_nb=1]"
     ]
    },
    {
     "name": "stdout",
     "output_type": "stream",
     "text": [
      "G shape: torch.Size([8, 3476, 3476])\n",
      "t: tensor([ 98,  78,  61,  36,  56,  72, 100, 120]), batch_nb: 2\n"
     ]
    },
    {
     "name": "stderr",
     "output_type": "stream",
     "text": [
      "\r",
      " 56%|█████▌    | 20/36 [01:25<01:11,  4.50s/it, avg_laplacian_term=77.8, avg_val_fro=35.1, avg_val_loss=113, avg_val_mae=4.83, batch_nb=16, epoch=21, tng_loss=170.760, v_nb=1]"
     ]
    },
    {
     "name": "stdout",
     "output_type": "stream",
     "text": [
      "G shape: torch.Size([8, 3476, 3476])\n",
      "t: tensor([ 57, 136,  81,  13,  34,   4, 113,  69]), batch_nb: 3\n"
     ]
    },
    {
     "name": "stderr",
     "output_type": "stream",
     "text": [
      "\r",
      " 58%|█████▊    | 21/36 [01:29<01:04,  4.31s/it, avg_laplacian_term=77.8, avg_val_fro=35.1, avg_val_loss=113, avg_val_mae=4.83, batch_nb=16, epoch=21, tng_loss=170.760, v_nb=1]"
     ]
    },
    {
     "name": "stdout",
     "output_type": "stream",
     "text": [
      "G shape: torch.Size([8, 3476, 3476])\n",
      "t: tensor([ 32,  17,   7,  44,  89, 114,  46,  52]), batch_nb: 4\n"
     ]
    },
    {
     "name": "stderr",
     "output_type": "stream",
     "text": [
      "\r",
      " 61%|██████    | 22/36 [01:33<01:00,  4.30s/it, avg_laplacian_term=77.8, avg_val_fro=35.1, avg_val_loss=113, avg_val_mae=4.83, batch_nb=16, epoch=21, tng_loss=170.760, v_nb=1]"
     ]
    },
    {
     "name": "stdout",
     "output_type": "stream",
     "text": [
      "G shape: torch.Size([8, 3476, 3476])\n",
      "t: tensor([ 80,  18,  10, 140, 126,  16, 141, 139]), batch_nb: 5\n"
     ]
    },
    {
     "name": "stderr",
     "output_type": "stream",
     "text": [
      "\r",
      " 64%|██████▍   | 23/36 [01:37<00:54,  4.22s/it, avg_laplacian_term=77.8, avg_val_fro=35.1, avg_val_loss=113, avg_val_mae=4.83, batch_nb=16, epoch=21, tng_loss=170.760, v_nb=1]"
     ]
    },
    {
     "name": "stdout",
     "output_type": "stream",
     "text": [
      "G shape: torch.Size([8, 3476, 3476])\n",
      "t: tensor([ 96,  15,  58,  70,   9, 123,   0,  73]), batch_nb: 6\n"
     ]
    },
    {
     "name": "stderr",
     "output_type": "stream",
     "text": [
      "\r",
      " 67%|██████▋   | 24/36 [01:42<00:51,  4.30s/it, avg_laplacian_term=77.8, avg_val_fro=35.1, avg_val_loss=113, avg_val_mae=4.83, batch_nb=16, epoch=21, tng_loss=170.760, v_nb=1]"
     ]
    },
    {
     "name": "stdout",
     "output_type": "stream",
     "text": [
      "G shape: torch.Size([8, 3476, 3476])\n",
      "t: tensor([ 65,  49,  86,   3, 119,  62, 127, 112]), batch_nb: 7\n"
     ]
    },
    {
     "name": "stderr",
     "output_type": "stream",
     "text": [
      "\r",
      " 69%|██████▉   | 25/36 [01:45<00:46,  4.19s/it, avg_laplacian_term=77.8, avg_val_fro=35.1, avg_val_loss=113, avg_val_mae=4.83, batch_nb=16, epoch=21, tng_loss=170.760, v_nb=1]"
     ]
    },
    {
     "name": "stdout",
     "output_type": "stream",
     "text": [
      "G shape: torch.Size([8, 3476, 3476])\n",
      "t: tensor([ 94,  11, 138, 103,  54, 143,  59, 106]), batch_nb: 8\n"
     ]
    },
    {
     "name": "stderr",
     "output_type": "stream",
     "text": [
      "\r",
      " 72%|███████▏  | 26/36 [01:49<00:40,  4.07s/it, avg_laplacian_term=77.8, avg_val_fro=35.1, avg_val_loss=113, avg_val_mae=4.83, batch_nb=16, epoch=21, tng_loss=170.760, v_nb=1]"
     ]
    },
    {
     "name": "stdout",
     "output_type": "stream",
     "text": [
      "G shape: torch.Size([8, 3476, 3476])\n",
      "t: tensor([ 22,  50,  21,  90, 135,  92, 118,  45]), batch_nb: 9\n"
     ]
    },
    {
     "name": "stderr",
     "output_type": "stream",
     "text": [
      "\r",
      " 75%|███████▌  | 27/36 [01:53<00:36,  4.00s/it, avg_laplacian_term=77.8, avg_val_fro=35.1, avg_val_loss=113, avg_val_mae=4.83, batch_nb=16, epoch=21, tng_loss=170.760, v_nb=1]"
     ]
    },
    {
     "name": "stdout",
     "output_type": "stream",
     "text": [
      "G shape: torch.Size([8, 3476, 3476])\n",
      "t: tensor([ 39,  38,  85,  24,  84,  88,  99, 104]), batch_nb: 10\n"
     ]
    },
    {
     "name": "stderr",
     "output_type": "stream",
     "text": [
      "\r",
      " 78%|███████▊  | 28/36 [01:57<00:30,  3.83s/it, avg_laplacian_term=77.8, avg_val_fro=35.1, avg_val_loss=113, avg_val_mae=4.83, batch_nb=16, epoch=21, tng_loss=170.760, v_nb=1]"
     ]
    },
    {
     "name": "stdout",
     "output_type": "stream",
     "text": [
      "G shape: torch.Size([8, 3476, 3476])\n",
      "t: tensor([130,   6,  37,  60,  19, 134,  74,  33]), batch_nb: 11\n"
     ]
    },
    {
     "name": "stderr",
     "output_type": "stream",
     "text": [
      "\r",
      " 81%|████████  | 29/36 [02:00<00:25,  3.69s/it, avg_laplacian_term=77.8, avg_val_fro=35.1, avg_val_loss=113, avg_val_mae=4.83, batch_nb=16, epoch=21, tng_loss=170.760, v_nb=1]"
     ]
    },
    {
     "name": "stdout",
     "output_type": "stream",
     "text": [
      "G shape: torch.Size([8, 3476, 3476])\n",
      "t: tensor([ 75,  27, 137, 122, 109, 131,  79,   2]), batch_nb: 12\n"
     ]
    },
    {
     "name": "stderr",
     "output_type": "stream",
     "text": [
      "\r",
      " 83%|████████▎ | 30/36 [02:03<00:21,  3.64s/it, avg_laplacian_term=77.8, avg_val_fro=35.1, avg_val_loss=113, avg_val_mae=4.83, batch_nb=16, epoch=21, tng_loss=170.760, v_nb=1]"
     ]
    },
    {
     "name": "stdout",
     "output_type": "stream",
     "text": [
      "G shape: torch.Size([8, 3476, 3476])\n",
      "t: tensor([ 64, 107,  67,  68,   8, 117,  25,  26]), batch_nb: 13\n"
     ]
    },
    {
     "name": "stderr",
     "output_type": "stream",
     "text": [
      "\r",
      " 86%|████████▌ | 31/36 [02:07<00:18,  3.65s/it, avg_laplacian_term=77.8, avg_val_fro=35.1, avg_val_loss=113, avg_val_mae=4.83, batch_nb=16, epoch=21, tng_loss=170.760, v_nb=1]"
     ]
    },
    {
     "name": "stdout",
     "output_type": "stream",
     "text": [
      "G shape: torch.Size([8, 3476, 3476])\n",
      "t: tensor([133, 111, 101, 142,  40, 110,  29,  23]), batch_nb: 14\n"
     ]
    },
    {
     "name": "stderr",
     "output_type": "stream",
     "text": [
      "\r",
      " 89%|████████▉ | 32/36 [02:11<00:14,  3.74s/it, avg_laplacian_term=77.8, avg_val_fro=35.1, avg_val_loss=113, avg_val_mae=4.83, batch_nb=16, epoch=21, tng_loss=170.760, v_nb=1]"
     ]
    },
    {
     "name": "stdout",
     "output_type": "stream",
     "text": [
      "G shape: torch.Size([8, 3476, 3476])\n",
      "t: tensor([125,  87,  30,  43, 129, 116,  14,  28]), batch_nb: 15\n"
     ]
    },
    {
     "name": "stderr",
     "output_type": "stream",
     "text": [
      "\r",
      " 92%|█████████▏| 33/36 [02:15<00:11,  3.81s/it, avg_laplacian_term=77.8, avg_val_fro=35.1, avg_val_loss=113, avg_val_mae=4.83, batch_nb=16, epoch=21, tng_loss=170.760, v_nb=1]"
     ]
    },
    {
     "name": "stdout",
     "output_type": "stream",
     "text": [
      "G shape: torch.Size([8, 3476, 3476])\n",
      "t: tensor([ 20,  93,  71,  53,  48, 102,  66,  95]), batch_nb: 16\n"
     ]
    },
    {
     "name": "stderr",
     "output_type": "stream",
     "text": [
      "\r",
      " 94%|█████████▍| 34/36 [02:19<00:07,  3.87s/it, avg_laplacian_term=77.8, avg_val_fro=35.1, avg_val_loss=113, avg_val_mae=4.83, batch_nb=16, epoch=21, tng_loss=170.760, v_nb=1]"
     ]
    },
    {
     "name": "stdout",
     "output_type": "stream",
     "text": [
      "G shape: torch.Size([8, 3476, 3476])\n",
      "t: tensor([121,  35,  55,  51,  82, 124, 105,  42]), batch_nb: 17\n"
     ]
    },
    {
     "name": "stderr",
     "output_type": "stream",
     "text": [
      "100%|██████████| 36/36 [02:24<00:00,  2.92s/it, avg_laplacian_term=76.8, avg_val_fro=34.8, avg_val_loss=112, avg_val_mae=4.8, batch_nb=16, epoch=21, tng_loss=170.760, v_nb=1] "
     ]
    },
    {
     "name": "stdout",
     "output_type": "stream",
     "text": [
      "G shape: torch.Size([8, 3476, 3476])\n",
      "t: tensor([21,  5,  2, 20, 35, 16, 80,  9]), batch_nb: 17\n"
     ]
    },
    {
     "name": "stderr",
     "output_type": "stream",
     "text": [
      "  3%|▎         | 1/36 [00:00<00:14,  2.34it/s], avg_laplacian_term=76.8, avg_val_fro=34.8, avg_val_loss=112, avg_val_mae=4.8, batch_nb=17, epoch=21, tng_loss=170.809, v_nb=1]"
     ]
    },
    {
     "name": "stdout",
     "output_type": "stream",
     "text": [
      "G shape: torch.Size([8, 3476, 3476])\n",
      "t: tensor([ 82,   6,  73, 133,   8, 136,  78,  90]), batch_nb: 0\n"
     ]
    },
    {
     "name": "stderr",
     "output_type": "stream",
     "text": [
      "  6%|▌         | 2/36 [00:04<00:50,  1.48s/it, avg_laplacian_term=76.8, avg_val_fro=34.8, avg_val_loss=112, avg_val_mae=4.8, batch_nb=0, epoch=22, tng_loss=170.720, v_nb=1]"
     ]
    },
    {
     "name": "stdout",
     "output_type": "stream",
     "text": [
      "G shape: torch.Size([8, 3476, 3476])\n",
      "t: tensor([122,  29,  19,   4,   9,  76, 109, 104]), batch_nb: 1\n"
     ]
    },
    {
     "name": "stderr",
     "output_type": "stream",
     "text": [
      "  8%|▊         | 3/36 [00:08<01:11,  2.15s/it, avg_laplacian_term=76.8, avg_val_fro=34.8, avg_val_loss=112, avg_val_mae=4.8, batch_nb=1, epoch=22, tng_loss=170.605, v_nb=1]"
     ]
    },
    {
     "name": "stdout",
     "output_type": "stream",
     "text": [
      "G shape: torch.Size([8, 3476, 3476])\n",
      "t: tensor([  1, 100, 124,  88,  60,  80, 126,  94]), batch_nb: 2\n"
     ]
    },
    {
     "name": "stderr",
     "output_type": "stream",
     "text": [
      " 11%|█         | 4/36 [00:12<01:28,  2.76s/it, avg_laplacian_term=76.8, avg_val_fro=34.8, avg_val_loss=112, avg_val_mae=4.8, batch_nb=2, epoch=22, tng_loss=170.550, v_nb=1]"
     ]
    },
    {
     "name": "stdout",
     "output_type": "stream",
     "text": [
      "G shape: torch.Size([8, 3476, 3476])\n",
      "t: tensor([ 22,  15, 111, 107,  64,  59,  83,  32]), batch_nb: 3\n"
     ]
    },
    {
     "name": "stderr",
     "output_type": "stream",
     "text": [
      " 14%|█▍        | 5/36 [00:16<01:35,  3.09s/it, avg_laplacian_term=76.8, avg_val_fro=34.8, avg_val_loss=112, avg_val_mae=4.8, batch_nb=3, epoch=22, tng_loss=170.619, v_nb=1]"
     ]
    },
    {
     "name": "stdout",
     "output_type": "stream",
     "text": [
      "G shape: torch.Size([8, 3476, 3476])\n",
      "t: tensor([125,  57, 119, 138,  86,  24, 115,  38]), batch_nb: 4\n"
     ]
    },
    {
     "name": "stderr",
     "output_type": "stream",
     "text": [
      " 17%|█▋        | 6/36 [00:20<01:40,  3.34s/it, avg_laplacian_term=76.8, avg_val_fro=34.8, avg_val_loss=112, avg_val_mae=4.8, batch_nb=4, epoch=22, tng_loss=170.428, v_nb=1]"
     ]
    },
    {
     "name": "stdout",
     "output_type": "stream",
     "text": [
      "G shape: torch.Size([8, 3476, 3476])\n",
      "t: tensor([ 75, 130,  70,  72,  95,  55, 132,  35]), batch_nb: 5\n"
     ]
    },
    {
     "name": "stderr",
     "output_type": "stream",
     "text": [
      " 19%|█▉        | 7/36 [00:23<01:41,  3.51s/it, avg_laplacian_term=76.8, avg_val_fro=34.8, avg_val_loss=112, avg_val_mae=4.8, batch_nb=5, epoch=22, tng_loss=170.226, v_nb=1]"
     ]
    },
    {
     "name": "stdout",
     "output_type": "stream",
     "text": [
      "G shape: torch.Size([8, 3476, 3476])\n",
      "t: tensor([ 14, 120,  96,  61,  91,  44,   7,  93]), batch_nb: 6\n"
     ]
    },
    {
     "name": "stderr",
     "output_type": "stream",
     "text": [
      " 22%|██▏       | 8/36 [00:27<01:41,  3.62s/it, avg_laplacian_term=76.8, avg_val_fro=34.8, avg_val_loss=112, avg_val_mae=4.8, batch_nb=6, epoch=22, tng_loss=170.147, v_nb=1]"
     ]
    },
    {
     "name": "stdout",
     "output_type": "stream",
     "text": [
      "G shape: torch.Size([8, 3476, 3476])\n",
      "t: tensor([ 20,  26, 127,  25, 103,  84, 112,   3]), batch_nb: 7\n"
     ]
    },
    {
     "name": "stderr",
     "output_type": "stream",
     "text": [
      " 25%|██▌       | 9/36 [00:31<01:41,  3.77s/it, avg_laplacian_term=76.8, avg_val_fro=34.8, avg_val_loss=112, avg_val_mae=4.8, batch_nb=7, epoch=22, tng_loss=170.142, v_nb=1]"
     ]
    },
    {
     "name": "stdout",
     "output_type": "stream",
     "text": [
      "G shape: torch.Size([8, 3476, 3476])\n",
      "t: tensor([ 69,  36, 117,  45,  74, 116, 142,  21]), batch_nb: 8\n"
     ]
    },
    {
     "name": "stderr",
     "output_type": "stream",
     "text": [
      " 28%|██▊       | 10/36 [00:36<01:40,  3.87s/it, avg_laplacian_term=76.8, avg_val_fro=34.8, avg_val_loss=112, avg_val_mae=4.8, batch_nb=8, epoch=22, tng_loss=169.953, v_nb=1]"
     ]
    },
    {
     "name": "stdout",
     "output_type": "stream",
     "text": [
      "G shape: torch.Size([8, 3476, 3476])\n",
      "t: tensor([128, 134,  34, 123,  65,  62,  77,  81]), batch_nb: 9\n"
     ]
    },
    {
     "name": "stderr",
     "output_type": "stream",
     "text": [
      " 31%|███       | 11/36 [00:40<01:38,  3.94s/it, avg_laplacian_term=76.8, avg_val_fro=34.8, avg_val_loss=112, avg_val_mae=4.8, batch_nb=9, epoch=22, tng_loss=169.807, v_nb=1]"
     ]
    },
    {
     "name": "stdout",
     "output_type": "stream",
     "text": [
      "G shape: torch.Size([8, 3476, 3476])\n",
      "t: tensor([ 56, 131,  11,  87,  79,  66,  89,   2]), batch_nb: 10\n"
     ]
    },
    {
     "name": "stderr",
     "output_type": "stream",
     "text": [
      " 33%|███▎      | 12/36 [00:44<01:34,  3.96s/it, avg_laplacian_term=76.8, avg_val_fro=34.8, avg_val_loss=112, avg_val_mae=4.8, batch_nb=10, epoch=22, tng_loss=169.744, v_nb=1]"
     ]
    },
    {
     "name": "stdout",
     "output_type": "stream",
     "text": [
      "G shape: torch.Size([8, 3476, 3476])\n",
      "t: tensor([ 68,  71,  18, 113,  42, 110,  33,  50]), batch_nb: 11\n"
     ]
    },
    {
     "name": "stderr",
     "output_type": "stream",
     "text": [
      " 36%|███▌      | 13/36 [00:48<01:31,  3.97s/it, avg_laplacian_term=76.8, avg_val_fro=34.8, avg_val_loss=112, avg_val_mae=4.8, batch_nb=11, epoch=22, tng_loss=169.511, v_nb=1]"
     ]
    },
    {
     "name": "stdout",
     "output_type": "stream",
     "text": [
      "G shape: torch.Size([8, 3476, 3476])\n",
      "t: tensor([ 54, 141,  13,  63,  97,  46,  23, 140]), batch_nb: 12\n"
     ]
    },
    {
     "name": "stderr",
     "output_type": "stream",
     "text": [
      " 39%|███▉      | 14/36 [00:52<01:27,  3.96s/it, avg_laplacian_term=76.8, avg_val_fro=34.8, avg_val_loss=112, avg_val_mae=4.8, batch_nb=12, epoch=22, tng_loss=169.520, v_nb=1]"
     ]
    },
    {
     "name": "stdout",
     "output_type": "stream",
     "text": [
      "G shape: torch.Size([8, 3476, 3476])\n",
      "t: tensor([ 30,  40,  49,   5, 129,  92,  52,  27]), batch_nb: 13\n"
     ]
    },
    {
     "name": "stderr",
     "output_type": "stream",
     "text": [
      " 42%|████▏     | 15/36 [00:56<01:23,  3.96s/it, avg_laplacian_term=76.8, avg_val_fro=34.8, avg_val_loss=112, avg_val_mae=4.8, batch_nb=13, epoch=22, tng_loss=169.384, v_nb=1]"
     ]
    },
    {
     "name": "stdout",
     "output_type": "stream",
     "text": [
      "G shape: torch.Size([8, 3476, 3476])\n",
      "t: tensor([102,  99, 139, 118,  47,  10, 101,  98]), batch_nb: 14\n"
     ]
    },
    {
     "name": "stderr",
     "output_type": "stream",
     "text": [
      " 44%|████▍     | 16/36 [00:59<01:19,  3.96s/it, avg_laplacian_term=76.8, avg_val_fro=34.8, avg_val_loss=112, avg_val_mae=4.8, batch_nb=14, epoch=22, tng_loss=169.171, v_nb=1]"
     ]
    },
    {
     "name": "stdout",
     "output_type": "stream",
     "text": [
      "G shape: torch.Size([8, 3476, 3476])\n",
      "t: tensor([ 39, 105, 135,  48,  85,  41, 143,  37]), batch_nb: 15\n"
     ]
    },
    {
     "name": "stderr",
     "output_type": "stream",
     "text": [
      " 47%|████▋     | 17/36 [01:03<01:15,  3.96s/it, avg_laplacian_term=76.8, avg_val_fro=34.8, avg_val_loss=112, avg_val_mae=4.8, batch_nb=15, epoch=22, tng_loss=168.938, v_nb=1]"
     ]
    },
    {
     "name": "stdout",
     "output_type": "stream",
     "text": [
      "G shape: torch.Size([8, 3476, 3476])\n",
      "t: tensor([ 51,  67, 137, 108,  12,  16, 121,  28]), batch_nb: 16\n"
     ]
    },
    {
     "name": "stderr",
     "output_type": "stream",
     "text": [
      "\r",
      " 47%|████▋     | 17/36 [01:07<01:15,  3.96s/it, avg_laplacian_term=76.8, avg_val_fro=34.8, avg_val_loss=112, avg_val_mae=4.8, batch_nb=16, epoch=22, tng_loss=168.828, v_nb=1]"
     ]
    },
    {
     "name": "stdout",
     "output_type": "stream",
     "text": [
      "G shape: torch.Size([8, 3476, 3476])\n",
      "t: tensor([ 64, 106, 125,  13,  29, 102,  72,  70]), batch_nb: 0\n"
     ]
    },
    {
     "name": "stderr",
     "output_type": "stream",
     "text": [
      "\r",
      " 50%|█████     | 18/36 [01:11<01:30,  5.04s/it, avg_laplacian_term=76.8, avg_val_fro=34.8, avg_val_loss=112, avg_val_mae=4.8, batch_nb=16, epoch=22, tng_loss=168.828, v_nb=1]"
     ]
    },
    {
     "name": "stdout",
     "output_type": "stream",
     "text": [
      "G shape: torch.Size([8, 3476, 3476])\n",
      "t: tensor([ 91,  96, 114,  10,   1, 100,  68,  85]), batch_nb: 1\n"
     ]
    },
    {
     "name": "stderr",
     "output_type": "stream",
     "text": [
      "\r",
      " 53%|█████▎    | 19/36 [01:15<01:19,  4.65s/it, avg_laplacian_term=76.8, avg_val_fro=34.8, avg_val_loss=112, avg_val_mae=4.8, batch_nb=16, epoch=22, tng_loss=168.828, v_nb=1]"
     ]
    },
    {
     "name": "stdout",
     "output_type": "stream",
     "text": [
      "G shape: torch.Size([8, 3476, 3476])\n",
      "t: tensor([ 11, 136,  19,  31, 132,  58,  52,   8]), batch_nb: 2\n"
     ]
    },
    {
     "name": "stderr",
     "output_type": "stream",
     "text": [
      "\r",
      " 56%|█████▌    | 20/36 [01:18<01:09,  4.35s/it, avg_laplacian_term=76.8, avg_val_fro=34.8, avg_val_loss=112, avg_val_mae=4.8, batch_nb=16, epoch=22, tng_loss=168.828, v_nb=1]"
     ]
    },
    {
     "name": "stdout",
     "output_type": "stream",
     "text": [
      "G shape: torch.Size([8, 3476, 3476])\n",
      "t: tensor([ 28,   7,  79,  94, 119,  93,  46,  41]), batch_nb: 3\n"
     ]
    },
    {
     "name": "stderr",
     "output_type": "stream",
     "text": [
      "\r",
      " 58%|█████▊    | 21/36 [01:22<01:03,  4.22s/it, avg_laplacian_term=76.8, avg_val_fro=34.8, avg_val_loss=112, avg_val_mae=4.8, batch_nb=16, epoch=22, tng_loss=168.828, v_nb=1]"
     ]
    },
    {
     "name": "stdout",
     "output_type": "stream",
     "text": [
      "G shape: torch.Size([8, 3476, 3476])\n",
      "t: tensor([ 56,  53,  76,  22,  12, 123, 118,  17]), batch_nb: 4\n"
     ]
    },
    {
     "name": "stderr",
     "output_type": "stream",
     "text": [
      "\r",
      " 61%|██████    | 22/36 [01:26<00:57,  4.13s/it, avg_laplacian_term=76.8, avg_val_fro=34.8, avg_val_loss=112, avg_val_mae=4.8, batch_nb=16, epoch=22, tng_loss=168.828, v_nb=1]"
     ]
    },
    {
     "name": "stdout",
     "output_type": "stream",
     "text": [
      "G shape: torch.Size([8, 3476, 3476])\n",
      "t: tensor([ 16,  80,  32,  86, 141,  40, 127,  63]), batch_nb: 5\n"
     ]
    },
    {
     "name": "stderr",
     "output_type": "stream",
     "text": [
      "\r",
      " 64%|██████▍   | 23/36 [01:30<00:52,  4.00s/it, avg_laplacian_term=76.8, avg_val_fro=34.8, avg_val_loss=112, avg_val_mae=4.8, batch_nb=16, epoch=22, tng_loss=168.828, v_nb=1]"
     ]
    },
    {
     "name": "stdout",
     "output_type": "stream",
     "text": [
      "G shape: torch.Size([8, 3476, 3476])\n",
      "t: tensor([137,  15, 122,  51, 131,  95,  18,  54]), batch_nb: 6\n"
     ]
    },
    {
     "name": "stderr",
     "output_type": "stream",
     "text": [
      "\r",
      " 67%|██████▋   | 24/36 [01:36<00:53,  4.49s/it, avg_laplacian_term=76.8, avg_val_fro=34.8, avg_val_loss=112, avg_val_mae=4.8, batch_nb=16, epoch=22, tng_loss=168.828, v_nb=1]"
     ]
    },
    {
     "name": "stdout",
     "output_type": "stream",
     "text": [
      "G shape: torch.Size([8, 3476, 3476])\n",
      "t: tensor([143,  35,  50,  90,  74,  84, 129,   6]), batch_nb: 7\n"
     ]
    },
    {
     "name": "stderr",
     "output_type": "stream",
     "text": [
      "\r",
      " 69%|██████▉   | 25/36 [01:41<00:51,  4.66s/it, avg_laplacian_term=76.8, avg_val_fro=34.8, avg_val_loss=112, avg_val_mae=4.8, batch_nb=16, epoch=22, tng_loss=168.828, v_nb=1]"
     ]
    },
    {
     "name": "stdout",
     "output_type": "stream",
     "text": [
      "G shape: torch.Size([8, 3476, 3476])\n",
      "t: tensor([ 60, 110,  24,  23,  81, 120, 116,   2]), batch_nb: 8\n"
     ]
    },
    {
     "name": "stderr",
     "output_type": "stream",
     "text": [
      "\r",
      " 72%|███████▏  | 26/36 [01:45<00:45,  4.50s/it, avg_laplacian_term=76.8, avg_val_fro=34.8, avg_val_loss=112, avg_val_mae=4.8, batch_nb=16, epoch=22, tng_loss=168.828, v_nb=1]"
     ]
    },
    {
     "name": "stdout",
     "output_type": "stream",
     "text": [
      "G shape: torch.Size([8, 3476, 3476])\n",
      "t: tensor([108,   9,   5,  83,  21,  14, 134,  49]), batch_nb: 9\n"
     ]
    },
    {
     "name": "stderr",
     "output_type": "stream",
     "text": [
      "\r",
      " 75%|███████▌  | 27/36 [01:49<00:39,  4.41s/it, avg_laplacian_term=76.8, avg_val_fro=34.8, avg_val_loss=112, avg_val_mae=4.8, batch_nb=16, epoch=22, tng_loss=168.828, v_nb=1]"
     ]
    },
    {
     "name": "stdout",
     "output_type": "stream",
     "text": [
      "G shape: torch.Size([8, 3476, 3476])\n",
      "t: tensor([138,  87, 126, 101,  59,  25,  78, 104]), batch_nb: 10\n"
     ]
    },
    {
     "name": "stderr",
     "output_type": "stream",
     "text": [
      "\r",
      " 78%|███████▊  | 28/36 [01:53<00:34,  4.30s/it, avg_laplacian_term=76.8, avg_val_fro=34.8, avg_val_loss=112, avg_val_mae=4.8, batch_nb=16, epoch=22, tng_loss=168.828, v_nb=1]"
     ]
    },
    {
     "name": "stdout",
     "output_type": "stream",
     "text": [
      "G shape: torch.Size([8, 3476, 3476])\n",
      "t: tensor([ 45,  39, 107, 115,  82, 128,  89,  65]), batch_nb: 11\n"
     ]
    },
    {
     "name": "stderr",
     "output_type": "stream",
     "text": [
      "\r",
      " 81%|████████  | 29/36 [01:57<00:29,  4.25s/it, avg_laplacian_term=76.8, avg_val_fro=34.8, avg_val_loss=112, avg_val_mae=4.8, batch_nb=16, epoch=22, tng_loss=168.828, v_nb=1]"
     ]
    },
    {
     "name": "stdout",
     "output_type": "stream",
     "text": [
      "G shape: torch.Size([8, 3476, 3476])\n",
      "t: tensor([55, 71, 26, 42, 43, 48, 66,  4]), batch_nb: 12\n"
     ]
    },
    {
     "name": "stderr",
     "output_type": "stream",
     "text": [
      "\r",
      " 83%|████████▎ | 30/36 [02:01<00:25,  4.24s/it, avg_laplacian_term=76.8, avg_val_fro=34.8, avg_val_loss=112, avg_val_mae=4.8, batch_nb=16, epoch=22, tng_loss=168.828, v_nb=1]"
     ]
    },
    {
     "name": "stdout",
     "output_type": "stream",
     "text": [
      "G shape: torch.Size([8, 3476, 3476])\n",
      "t: tensor([ 33, 133,   0, 135,  75,  62,  97, 111]), batch_nb: 13\n"
     ]
    },
    {
     "name": "stderr",
     "output_type": "stream",
     "text": [
      "\r",
      " 86%|████████▌ | 31/36 [02:06<00:21,  4.33s/it, avg_laplacian_term=76.8, avg_val_fro=34.8, avg_val_loss=112, avg_val_mae=4.8, batch_nb=16, epoch=22, tng_loss=168.828, v_nb=1]"
     ]
    },
    {
     "name": "stdout",
     "output_type": "stream",
     "text": [
      "G shape: torch.Size([8, 3476, 3476])\n",
      "t: tensor([105, 117,  57,  92,  34,  73,  44, 103]), batch_nb: 14\n"
     ]
    },
    {
     "name": "stderr",
     "output_type": "stream",
     "text": [
      "\r",
      " 89%|████████▉ | 32/36 [02:10<00:16,  4.19s/it, avg_laplacian_term=76.8, avg_val_fro=34.8, avg_val_loss=112, avg_val_mae=4.8, batch_nb=16, epoch=22, tng_loss=168.828, v_nb=1]"
     ]
    },
    {
     "name": "stdout",
     "output_type": "stream",
     "text": [
      "G shape: torch.Size([8, 3476, 3476])\n",
      "t: tensor([142,  88,  47, 109,  20, 121,  69,  27]), batch_nb: 15\n"
     ]
    },
    {
     "name": "stderr",
     "output_type": "stream",
     "text": [
      "\r",
      " 92%|█████████▏| 33/36 [02:14<00:12,  4.26s/it, avg_laplacian_term=76.8, avg_val_fro=34.8, avg_val_loss=112, avg_val_mae=4.8, batch_nb=16, epoch=22, tng_loss=168.828, v_nb=1]"
     ]
    },
    {
     "name": "stdout",
     "output_type": "stream",
     "text": [
      "G shape: torch.Size([8, 3476, 3476])\n",
      "t: tensor([130,  38,   3,  99, 113, 124,  98, 140]), batch_nb: 16\n"
     ]
    },
    {
     "name": "stderr",
     "output_type": "stream",
     "text": [
      "\r",
      " 94%|█████████▍| 34/36 [02:18<00:08,  4.17s/it, avg_laplacian_term=76.8, avg_val_fro=34.8, avg_val_loss=112, avg_val_mae=4.8, batch_nb=16, epoch=22, tng_loss=168.828, v_nb=1]"
     ]
    },
    {
     "name": "stdout",
     "output_type": "stream",
     "text": [
      "G shape: torch.Size([8, 3476, 3476])\n",
      "t: tensor([ 77,  30,  67,  36, 112, 139,  61,  37]), batch_nb: 17\n"
     ]
    },
    {
     "name": "stderr",
     "output_type": "stream",
     "text": [
      "100%|██████████| 36/36 [02:22<00:00,  2.99s/it, avg_laplacian_term=75.8, avg_val_fro=34.5, avg_val_loss=110, avg_val_mae=4.77, batch_nb=16, epoch=22, tng_loss=168.828, v_nb=1]"
     ]
    },
    {
     "name": "stdout",
     "output_type": "stream",
     "text": [
      "G shape: torch.Size([8, 3476, 3476])\n",
      "t: tensor([ 58, 114,  53,  43,   0,  17, 106,  31]), batch_nb: 17\n"
     ]
    },
    {
     "name": "stderr",
     "output_type": "stream",
     "text": [
      "  3%|▎         | 1/36 [00:00<00:17,  2.04it/s], avg_laplacian_term=75.8, avg_val_fro=34.5, avg_val_loss=110, avg_val_mae=4.77, batch_nb=17, epoch=22, tng_loss=168.854, v_nb=1]"
     ]
    },
    {
     "name": "stdout",
     "output_type": "stream",
     "text": [
      "G shape: torch.Size([8, 3476, 3476])\n",
      "t: tensor([143,  40, 101,  73,   6,  24,  45,  74]), batch_nb: 0\n"
     ]
    },
    {
     "name": "stderr",
     "output_type": "stream",
     "text": [
      "  6%|▌         | 2/36 [00:04<00:54,  1.60s/it, avg_laplacian_term=75.8, avg_val_fro=34.5, avg_val_loss=110, avg_val_mae=4.77, batch_nb=0, epoch=23, tng_loss=168.611, v_nb=1]"
     ]
    },
    {
     "name": "stdout",
     "output_type": "stream",
     "text": [
      "G shape: torch.Size([8, 3476, 3476])\n",
      "t: tensor([ 81,   4,  58, 123,  34,  30,  49, 117]), batch_nb: 1\n"
     ]
    },
    {
     "name": "stderr",
     "output_type": "stream",
     "text": [
      "  8%|▊         | 3/36 [00:08<01:17,  2.35s/it, avg_laplacian_term=75.8, avg_val_fro=34.5, avg_val_loss=110, avg_val_mae=4.77, batch_nb=1, epoch=23, tng_loss=168.404, v_nb=1]"
     ]
    },
    {
     "name": "stdout",
     "output_type": "stream",
     "text": [
      "G shape: torch.Size([8, 3476, 3476])\n",
      "t: tensor([ 18,  39,  42, 100, 104,  88, 119,  92]), batch_nb: 2\n"
     ]
    },
    {
     "name": "stderr",
     "output_type": "stream",
     "text": [
      " 11%|█         | 4/36 [00:13<01:39,  3.11s/it, avg_laplacian_term=75.8, avg_val_fro=34.5, avg_val_loss=110, avg_val_mae=4.77, batch_nb=2, epoch=23, tng_loss=168.384, v_nb=1]"
     ]
    },
    {
     "name": "stdout",
     "output_type": "stream",
     "text": [
      "G shape: torch.Size([8, 3476, 3476])\n",
      "t: tensor([116,  15,  26, 102, 115,  36,   9, 129]), batch_nb: 3\n"
     ]
    },
    {
     "name": "stderr",
     "output_type": "stream",
     "text": [
      " 14%|█▍        | 5/36 [00:17<01:42,  3.32s/it, avg_laplacian_term=75.8, avg_val_fro=34.5, avg_val_loss=110, avg_val_mae=4.77, batch_nb=3, epoch=23, tng_loss=168.307, v_nb=1]"
     ]
    },
    {
     "name": "stdout",
     "output_type": "stream",
     "text": [
      "G shape: torch.Size([8, 3476, 3476])\n",
      "t: tensor([ 68,  35,  78, 106, 112,  70,  19,  91]), batch_nb: 4\n"
     ]
    },
    {
     "name": "stderr",
     "output_type": "stream",
     "text": [
      " 17%|█▋        | 6/36 [00:21<01:46,  3.56s/it, avg_laplacian_term=75.8, avg_val_fro=34.5, avg_val_loss=110, avg_val_mae=4.77, batch_nb=4, epoch=23, tng_loss=168.281, v_nb=1]"
     ]
    },
    {
     "name": "stdout",
     "output_type": "stream",
     "text": [
      "G shape: torch.Size([8, 3476, 3476])\n",
      "t: tensor([120, 126, 137,  56, 127,  37, 118, 132]), batch_nb: 5\n"
     ]
    },
    {
     "name": "stderr",
     "output_type": "stream",
     "text": [
      " 19%|█▉        | 7/36 [00:25<01:47,  3.72s/it, avg_laplacian_term=75.8, avg_val_fro=34.5, avg_val_loss=110, avg_val_mae=4.77, batch_nb=5, epoch=23, tng_loss=168.196, v_nb=1]"
     ]
    },
    {
     "name": "stdout",
     "output_type": "stream",
     "text": [
      "G shape: torch.Size([8, 3476, 3476])\n",
      "t: tensor([ 67, 103,  21, 108, 133,  27,  17,  93]), batch_nb: 6\n"
     ]
    },
    {
     "name": "stderr",
     "output_type": "stream",
     "text": [
      " 22%|██▏       | 8/36 [00:29<01:46,  3.80s/it, avg_laplacian_term=75.8, avg_val_fro=34.5, avg_val_loss=110, avg_val_mae=4.77, batch_nb=6, epoch=23, tng_loss=168.227, v_nb=1]"
     ]
    },
    {
     "name": "stdout",
     "output_type": "stream",
     "text": [
      "G shape: torch.Size([8, 3476, 3476])\n",
      "t: tensor([113,  33,  43, 107,  60,  20, 140,  59]), batch_nb: 7\n"
     ]
    },
    {
     "name": "stderr",
     "output_type": "stream",
     "text": [
      " 25%|██▌       | 9/36 [00:33<01:43,  3.84s/it, avg_laplacian_term=75.8, avg_val_fro=34.5, avg_val_loss=110, avg_val_mae=4.77, batch_nb=7, epoch=23, tng_loss=168.140, v_nb=1]"
     ]
    },
    {
     "name": "stdout",
     "output_type": "stream",
     "text": [
      "G shape: torch.Size([8, 3476, 3476])\n",
      "t: tensor([ 41,  22,  76,  52, 138,  87,  98,  12]), batch_nb: 8\n"
     ]
    },
    {
     "name": "stderr",
     "output_type": "stream",
     "text": [
      " 28%|██▊       | 10/36 [00:37<01:42,  3.92s/it, avg_laplacian_term=75.8, avg_val_fro=34.5, avg_val_loss=110, avg_val_mae=4.77, batch_nb=8, epoch=23, tng_loss=168.026, v_nb=1]"
     ]
    },
    {
     "name": "stdout",
     "output_type": "stream",
     "text": [
      "G shape: torch.Size([8, 3476, 3476])\n",
      "t: tensor([142,  46,  14,  69,  11,  71,  10, 111]), batch_nb: 9\n"
     ]
    },
    {
     "name": "stderr",
     "output_type": "stream",
     "text": [
      " 31%|███       | 11/36 [00:41<01:38,  3.94s/it, avg_laplacian_term=75.8, avg_val_fro=34.5, avg_val_loss=110, avg_val_mae=4.77, batch_nb=9, epoch=23, tng_loss=167.739, v_nb=1]"
     ]
    },
    {
     "name": "stdout",
     "output_type": "stream",
     "text": [
      "G shape: torch.Size([8, 3476, 3476])\n",
      "t: tensor([ 63,  51,  55, 125,  50,  72,  99,  86]), batch_nb: 10\n"
     ]
    },
    {
     "name": "stderr",
     "output_type": "stream",
     "text": [
      " 33%|███▎      | 12/36 [00:45<01:33,  3.90s/it, avg_laplacian_term=75.8, avg_val_fro=34.5, avg_val_loss=110, avg_val_mae=4.77, batch_nb=10, epoch=23, tng_loss=167.560, v_nb=1]"
     ]
    },
    {
     "name": "stdout",
     "output_type": "stream",
     "text": [
      "G shape: torch.Size([8, 3476, 3476])\n",
      "t: tensor([ 75,  25,   1,  32,  53, 136,  61,  90]), batch_nb: 11\n"
     ]
    },
    {
     "name": "stderr",
     "output_type": "stream",
     "text": [
      " 36%|███▌      | 13/36 [00:49<01:30,  3.92s/it, avg_laplacian_term=75.8, avg_val_fro=34.5, avg_val_loss=110, avg_val_mae=4.77, batch_nb=11, epoch=23, tng_loss=167.367, v_nb=1]"
     ]
    },
    {
     "name": "stdout",
     "output_type": "stream",
     "text": [
      "G shape: torch.Size([8, 3476, 3476])\n",
      "t: tensor([105,  84,  80,  85,  94,  95, 128, 130]), batch_nb: 12\n"
     ]
    },
    {
     "name": "stderr",
     "output_type": "stream",
     "text": [
      " 39%|███▉      | 14/36 [00:53<01:26,  3.94s/it, avg_laplacian_term=75.8, avg_val_fro=34.5, avg_val_loss=110, avg_val_mae=4.77, batch_nb=12, epoch=23, tng_loss=167.278, v_nb=1]"
     ]
    },
    {
     "name": "stdout",
     "output_type": "stream",
     "text": [
      "G shape: torch.Size([8, 3476, 3476])\n",
      "t: tensor([  2,  57,  97,  62, 122, 141,  31,  65]), batch_nb: 13\n"
     ]
    },
    {
     "name": "stderr",
     "output_type": "stream",
     "text": [
      " 42%|████▏     | 15/36 [00:57<01:22,  3.95s/it, avg_laplacian_term=75.8, avg_val_fro=34.5, avg_val_loss=110, avg_val_mae=4.77, batch_nb=13, epoch=23, tng_loss=167.313, v_nb=1]"
     ]
    },
    {
     "name": "stdout",
     "output_type": "stream",
     "text": [
      "G shape: torch.Size([8, 3476, 3476])\n",
      "t: tensor([ 48,  16, 114,  79,  96, 109,   8,  64]), batch_nb: 14\n"
     ]
    },
    {
     "name": "stderr",
     "output_type": "stream",
     "text": [
      " 44%|████▍     | 16/36 [01:01<01:18,  3.94s/it, avg_laplacian_term=75.8, avg_val_fro=34.5, avg_val_loss=110, avg_val_mae=4.77, batch_nb=14, epoch=23, tng_loss=167.372, v_nb=1]"
     ]
    },
    {
     "name": "stdout",
     "output_type": "stream",
     "text": [
      "G shape: torch.Size([8, 3476, 3476])\n",
      "t: tensor([ 77, 139,  89,  23,  29,  54, 131,  83]), batch_nb: 15\n"
     ]
    },
    {
     "name": "stderr",
     "output_type": "stream",
     "text": [
      " 47%|████▋     | 17/36 [01:05<01:14,  3.92s/it, avg_laplacian_term=75.8, avg_val_fro=34.5, avg_val_loss=110, avg_val_mae=4.77, batch_nb=15, epoch=23, tng_loss=167.358, v_nb=1]"
     ]
    },
    {
     "name": "stdout",
     "output_type": "stream",
     "text": [
      "G shape: torch.Size([8, 3476, 3476])\n",
      "t: tensor([ 5, 66,  0, 47, 44, 38, 13, 28]), batch_nb: 16\n"
     ]
    },
    {
     "name": "stderr",
     "output_type": "stream",
     "text": [
      "\r",
      " 47%|████▋     | 17/36 [01:08<01:14,  3.92s/it, avg_laplacian_term=75.8, avg_val_fro=34.5, avg_val_loss=110, avg_val_mae=4.77, batch_nb=16, epoch=23, tng_loss=167.119, v_nb=1]"
     ]
    },
    {
     "name": "stdout",
     "output_type": "stream",
     "text": [
      "G shape: torch.Size([8, 3476, 3476])\n",
      "t: tensor([ 86, 127,  19,  49, 139, 130, 135,   1]), batch_nb: 0\n"
     ]
    },
    {
     "name": "stderr",
     "output_type": "stream",
     "text": [
      "\r",
      " 50%|█████     | 18/36 [01:12<01:29,  4.98s/it, avg_laplacian_term=75.8, avg_val_fro=34.5, avg_val_loss=110, avg_val_mae=4.77, batch_nb=16, epoch=23, tng_loss=167.119, v_nb=1]"
     ]
    },
    {
     "name": "stdout",
     "output_type": "stream",
     "text": [
      "G shape: torch.Size([8, 3476, 3476])\n",
      "t: tensor([138,  66,  22,  75,   3,  93, 111,   9]), batch_nb: 1\n"
     ]
    },
    {
     "name": "stderr",
     "output_type": "stream",
     "text": [
      "\r",
      " 53%|█████▎    | 19/36 [01:16<01:19,  4.68s/it, avg_laplacian_term=75.8, avg_val_fro=34.5, avg_val_loss=110, avg_val_mae=4.77, batch_nb=16, epoch=23, tng_loss=167.119, v_nb=1]"
     ]
    },
    {
     "name": "stdout",
     "output_type": "stream",
     "text": [
      "G shape: torch.Size([8, 3476, 3476])\n",
      "t: tensor([76,  6, 84, 58, 77, 21, 62, 96]), batch_nb: 2\n"
     ]
    },
    {
     "name": "stderr",
     "output_type": "stream",
     "text": [
      "\r",
      " 56%|█████▌    | 20/36 [01:20<01:12,  4.52s/it, avg_laplacian_term=75.8, avg_val_fro=34.5, avg_val_loss=110, avg_val_mae=4.77, batch_nb=16, epoch=23, tng_loss=167.119, v_nb=1]"
     ]
    },
    {
     "name": "stdout",
     "output_type": "stream",
     "text": [
      "G shape: torch.Size([8, 3476, 3476])\n",
      "t: tensor([105, 121, 106,  36, 109,  25, 119,  47]), batch_nb: 3\n"
     ]
    },
    {
     "name": "stderr",
     "output_type": "stream",
     "text": [
      "\r",
      " 58%|█████▊    | 21/36 [01:24<01:03,  4.23s/it, avg_laplacian_term=75.8, avg_val_fro=34.5, avg_val_loss=110, avg_val_mae=4.77, batch_nb=16, epoch=23, tng_loss=167.119, v_nb=1]"
     ]
    },
    {
     "name": "stdout",
     "output_type": "stream",
     "text": [
      "G shape: torch.Size([8, 3476, 3476])\n",
      "t: tensor([ 29,  67, 104,  40, 124,  20, 112,  92]), batch_nb: 4\n"
     ]
    },
    {
     "name": "stderr",
     "output_type": "stream",
     "text": [
      "\r",
      " 61%|██████    | 22/36 [01:27<00:55,  3.98s/it, avg_laplacian_term=75.8, avg_val_fro=34.5, avg_val_loss=110, avg_val_mae=4.77, batch_nb=16, epoch=23, tng_loss=167.119, v_nb=1]"
     ]
    },
    {
     "name": "stdout",
     "output_type": "stream",
     "text": [
      "G shape: torch.Size([8, 3476, 3476])\n",
      "t: tensor([ 90, 108,  56,  26,  33,   0,  91, 125]), batch_nb: 5\n"
     ]
    },
    {
     "name": "stderr",
     "output_type": "stream",
     "text": [
      "\r",
      " 64%|██████▍   | 23/36 [01:31<00:49,  3.81s/it, avg_laplacian_term=75.8, avg_val_fro=34.5, avg_val_loss=110, avg_val_mae=4.77, batch_nb=16, epoch=23, tng_loss=167.119, v_nb=1]"
     ]
    },
    {
     "name": "stdout",
     "output_type": "stream",
     "text": [
      "G shape: torch.Size([8, 3476, 3476])\n",
      "t: tensor([ 81,  60,  68, 102,  85,  70, 107,  43]), batch_nb: 6\n"
     ]
    },
    {
     "name": "stderr",
     "output_type": "stream",
     "text": [
      "\r",
      " 67%|██████▋   | 24/36 [01:36<00:49,  4.16s/it, avg_laplacian_term=75.8, avg_val_fro=34.5, avg_val_loss=110, avg_val_mae=4.77, batch_nb=16, epoch=23, tng_loss=167.119, v_nb=1]"
     ]
    },
    {
     "name": "stdout",
     "output_type": "stream",
     "text": [
      "G shape: torch.Size([8, 3476, 3476])\n",
      "t: tensor([ 94,  27,  48, 122,  16,  44,  78,  95]), batch_nb: 7\n"
     ]
    },
    {
     "name": "stderr",
     "output_type": "stream",
     "text": [
      "\r",
      " 69%|██████▉   | 25/36 [01:39<00:44,  4.05s/it, avg_laplacian_term=75.8, avg_val_fro=34.5, avg_val_loss=110, avg_val_mae=4.77, batch_nb=16, epoch=23, tng_loss=167.119, v_nb=1]"
     ]
    },
    {
     "name": "stdout",
     "output_type": "stream",
     "text": [
      "G shape: torch.Size([8, 3476, 3476])\n",
      "t: tensor([ 24, 126,  31, 123, 142,  79,   8, 117]), batch_nb: 8\n"
     ]
    },
    {
     "name": "stderr",
     "output_type": "stream",
     "text": [
      "\r",
      " 72%|███████▏  | 26/36 [01:44<00:42,  4.21s/it, avg_laplacian_term=75.8, avg_val_fro=34.5, avg_val_loss=110, avg_val_mae=4.77, batch_nb=16, epoch=23, tng_loss=167.119, v_nb=1]"
     ]
    },
    {
     "name": "stdout",
     "output_type": "stream",
     "text": [
      "G shape: torch.Size([8, 3476, 3476])\n",
      "t: tensor([141,  11,   2,  37,  30,  88, 128,  51]), batch_nb: 9\n"
     ]
    },
    {
     "name": "stderr",
     "output_type": "stream",
     "text": [
      "\r",
      " 75%|███████▌  | 27/36 [01:48<00:36,  4.04s/it, avg_laplacian_term=75.8, avg_val_fro=34.5, avg_val_loss=110, avg_val_mae=4.77, batch_nb=16, epoch=23, tng_loss=167.119, v_nb=1]"
     ]
    },
    {
     "name": "stdout",
     "output_type": "stream",
     "text": [
      "G shape: torch.Size([8, 3476, 3476])\n",
      "t: tensor([ 74, 140,  57,  82, 143,  17,  32,  80]), batch_nb: 10\n"
     ]
    },
    {
     "name": "stderr",
     "output_type": "stream",
     "text": [
      "\r",
      " 78%|███████▊  | 28/36 [01:52<00:31,  3.99s/it, avg_laplacian_term=75.8, avg_val_fro=34.5, avg_val_loss=110, avg_val_mae=4.77, batch_nb=16, epoch=23, tng_loss=167.119, v_nb=1]"
     ]
    },
    {
     "name": "stdout",
     "output_type": "stream",
     "text": [
      "G shape: torch.Size([8, 3476, 3476])\n",
      "t: tensor([ 89,  18,  15, 137, 113,  42,  61,  55]), batch_nb: 11\n"
     ]
    },
    {
     "name": "stderr",
     "output_type": "stream",
     "text": [
      "\r",
      " 81%|████████  | 29/36 [01:55<00:27,  3.93s/it, avg_laplacian_term=75.8, avg_val_fro=34.5, avg_val_loss=110, avg_val_mae=4.77, batch_nb=16, epoch=23, tng_loss=167.119, v_nb=1]"
     ]
    },
    {
     "name": "stdout",
     "output_type": "stream",
     "text": [
      "G shape: torch.Size([8, 3476, 3476])\n",
      "t: tensor([ 97, 103, 110,  35,  63, 120,  71,  41]), batch_nb: 12\n"
     ]
    },
    {
     "name": "stderr",
     "output_type": "stream",
     "text": [
      "\r",
      " 83%|████████▎ | 30/36 [01:59<00:23,  3.84s/it, avg_laplacian_term=75.8, avg_val_fro=34.5, avg_val_loss=110, avg_val_mae=4.77, batch_nb=16, epoch=23, tng_loss=167.119, v_nb=1]"
     ]
    },
    {
     "name": "stdout",
     "output_type": "stream",
     "text": [
      "G shape: torch.Size([8, 3476, 3476])\n",
      "t: tensor([ 64,  69,  72, 129, 136,  87,  12, 100]), batch_nb: 13\n"
     ]
    },
    {
     "name": "stderr",
     "output_type": "stream",
     "text": [
      "\r",
      " 86%|████████▌ | 31/36 [02:03<00:18,  3.78s/it, avg_laplacian_term=75.8, avg_val_fro=34.5, avg_val_loss=110, avg_val_mae=4.77, batch_nb=16, epoch=23, tng_loss=167.119, v_nb=1]"
     ]
    },
    {
     "name": "stdout",
     "output_type": "stream",
     "text": [
      "G shape: torch.Size([8, 3476, 3476])\n",
      "t: tensor([ 14, 134,  10,  73, 118, 115,   7,  39]), batch_nb: 14\n"
     ]
    },
    {
     "name": "stderr",
     "output_type": "stream",
     "text": [
      "\r",
      " 89%|████████▉ | 32/36 [02:06<00:15,  3.76s/it, avg_laplacian_term=75.8, avg_val_fro=34.5, avg_val_loss=110, avg_val_mae=4.77, batch_nb=16, epoch=23, tng_loss=167.119, v_nb=1]"
     ]
    },
    {
     "name": "stdout",
     "output_type": "stream",
     "text": [
      "G shape: torch.Size([8, 3476, 3476])\n",
      "t: tensor([ 34, 101,  46,  50,  52, 131,  65,   4]), batch_nb: 15\n"
     ]
    },
    {
     "name": "stderr",
     "output_type": "stream",
     "text": [
      "\r",
      " 92%|█████████▏| 33/36 [02:10<00:11,  3.81s/it, avg_laplacian_term=75.8, avg_val_fro=34.5, avg_val_loss=110, avg_val_mae=4.77, batch_nb=16, epoch=23, tng_loss=167.119, v_nb=1]"
     ]
    },
    {
     "name": "stdout",
     "output_type": "stream",
     "text": [
      "G shape: torch.Size([8, 3476, 3476])\n",
      "t: tensor([98, 28, 13,  5, 99, 23, 45, 38]), batch_nb: 16\n"
     ]
    },
    {
     "name": "stderr",
     "output_type": "stream",
     "text": [
      "\r",
      " 94%|█████████▍| 34/36 [02:14<00:07,  3.86s/it, avg_laplacian_term=75.8, avg_val_fro=34.5, avg_val_loss=110, avg_val_mae=4.77, batch_nb=16, epoch=23, tng_loss=167.119, v_nb=1]"
     ]
    },
    {
     "name": "stdout",
     "output_type": "stream",
     "text": [
      "G shape: torch.Size([8, 3476, 3476])\n",
      "t: tensor([ 54,  59, 114,  83, 132,  53, 133, 116]), batch_nb: 17\n"
     ]
    },
    {
     "name": "stderr",
     "output_type": "stream",
     "text": [
      "100%|██████████| 36/36 [02:19<00:00,  2.96s/it, avg_laplacian_term=74.8, avg_val_fro=34.2, avg_val_loss=109, avg_val_mae=4.74, batch_nb=16, epoch=23, tng_loss=167.119, v_nb=1]"
     ]
    },
    {
     "name": "stdout",
     "output_type": "stream",
     "text": [
      "G shape: torch.Size([8, 3476, 3476])\n",
      "t: tensor([  3, 135,   7, 124, 110, 134, 121,  82]), batch_nb: 17\n"
     ]
    },
    {
     "name": "stderr",
     "output_type": "stream",
     "text": [
      "  3%|▎         | 1/36 [00:00<00:14,  2.35it/s], avg_laplacian_term=74.8, avg_val_fro=34.2, avg_val_loss=109, avg_val_mae=4.74, batch_nb=17, epoch=23, tng_loss=166.962, v_nb=1]"
     ]
    },
    {
     "name": "stdout",
     "output_type": "stream",
     "text": [
      "G shape: torch.Size([8, 3476, 3476])\n",
      "t: tensor([107,  99,  64,  36,   9,  72,  75,  10]), batch_nb: 0\n"
     ]
    },
    {
     "name": "stderr",
     "output_type": "stream",
     "text": [
      "  6%|▌         | 2/36 [00:04<00:50,  1.50s/it, avg_laplacian_term=74.8, avg_val_fro=34.2, avg_val_loss=109, avg_val_mae=4.74, batch_nb=0, epoch=24, tng_loss=166.918, v_nb=1]"
     ]
    },
    {
     "name": "stdout",
     "output_type": "stream",
     "text": [
      "G shape: torch.Size([8, 3476, 3476])\n",
      "t: tensor([ 51,  96, 118,  98,  38,  33,  88,  73]), batch_nb: 1\n"
     ]
    },
    {
     "name": "stderr",
     "output_type": "stream",
     "text": [
      "  8%|▊         | 3/36 [00:08<01:13,  2.23s/it, avg_laplacian_term=74.8, avg_val_fro=34.2, avg_val_loss=109, avg_val_mae=4.74, batch_nb=1, epoch=24, tng_loss=166.591, v_nb=1]"
     ]
    },
    {
     "name": "stdout",
     "output_type": "stream",
     "text": [
      "G shape: torch.Size([8, 3476, 3476])\n",
      "t: tensor([101, 110,  28,  24,  27, 100, 143,  79]), batch_nb: 2\n"
     ]
    },
    {
     "name": "stderr",
     "output_type": "stream",
     "text": [
      " 11%|█         | 4/36 [00:12<01:27,  2.74s/it, avg_laplacian_term=74.8, avg_val_fro=34.2, avg_val_loss=109, avg_val_mae=4.74, batch_nb=2, epoch=24, tng_loss=166.324, v_nb=1]"
     ]
    },
    {
     "name": "stdout",
     "output_type": "stream",
     "text": [
      "G shape: torch.Size([8, 3476, 3476])\n",
      "t: tensor([121,  60,  26,  80,  37, 122,  97,  59]), batch_nb: 3\n"
     ]
    },
    {
     "name": "stderr",
     "output_type": "stream",
     "text": [
      " 14%|█▍        | 5/36 [00:16<01:35,  3.10s/it, avg_laplacian_term=74.8, avg_val_fro=34.2, avg_val_loss=109, avg_val_mae=4.74, batch_nb=3, epoch=24, tng_loss=166.013, v_nb=1]"
     ]
    },
    {
     "name": "stdout",
     "output_type": "stream",
     "text": [
      "G shape: torch.Size([8, 3476, 3476])\n",
      "t: tensor([ 49,  89, 136,  57,  78,  87,  32,   4]), batch_nb: 4\n"
     ]
    },
    {
     "name": "stderr",
     "output_type": "stream",
     "text": [
      " 17%|█▋        | 6/36 [00:20<01:40,  3.34s/it, avg_laplacian_term=74.8, avg_val_fro=34.2, avg_val_loss=109, avg_val_mae=4.74, batch_nb=4, epoch=24, tng_loss=165.856, v_nb=1]"
     ]
    },
    {
     "name": "stdout",
     "output_type": "stream",
     "text": [
      "G shape: torch.Size([8, 3476, 3476])\n",
      "t: tensor([  7,  40,  84, 126,  22, 129, 124,   8]), batch_nb: 5\n"
     ]
    },
    {
     "name": "stderr",
     "output_type": "stream",
     "text": [
      " 19%|█▉        | 7/36 [00:24<01:41,  3.50s/it, avg_laplacian_term=74.8, avg_val_fro=34.2, avg_val_loss=109, avg_val_mae=4.74, batch_nb=5, epoch=24, tng_loss=165.827, v_nb=1]"
     ]
    },
    {
     "name": "stdout",
     "output_type": "stream",
     "text": [
      "G shape: torch.Size([8, 3476, 3476])\n",
      "t: tensor([ 25,  82,  71,  17, 131,   6,  95,  31]), batch_nb: 6\n"
     ]
    },
    {
     "name": "stderr",
     "output_type": "stream",
     "text": [
      " 22%|██▏       | 8/36 [00:27<01:40,  3.57s/it, avg_laplacian_term=74.8, avg_val_fro=34.2, avg_val_loss=109, avg_val_mae=4.74, batch_nb=6, epoch=24, tng_loss=165.667, v_nb=1]"
     ]
    },
    {
     "name": "stdout",
     "output_type": "stream",
     "text": [
      "G shape: torch.Size([8, 3476, 3476])\n",
      "t: tensor([102,  58, 137,  65, 115, 108, 104, 134]), batch_nb: 7\n"
     ]
    },
    {
     "name": "stderr",
     "output_type": "stream",
     "text": [
      " 25%|██▌       | 9/36 [00:31<01:38,  3.63s/it, avg_laplacian_term=74.8, avg_val_fro=34.2, avg_val_loss=109, avg_val_mae=4.74, batch_nb=7, epoch=24, tng_loss=165.544, v_nb=1]"
     ]
    },
    {
     "name": "stdout",
     "output_type": "stream",
     "text": [
      "G shape: torch.Size([8, 3476, 3476])\n",
      "t: tensor([ 44, 113, 114,  54,  35,  94,  30,  15]), batch_nb: 8\n"
     ]
    },
    {
     "name": "stderr",
     "output_type": "stream",
     "text": [
      " 28%|██▊       | 10/36 [00:35<01:36,  3.70s/it, avg_laplacian_term=74.8, avg_val_fro=34.2, avg_val_loss=109, avg_val_mae=4.74, batch_nb=8, epoch=24, tng_loss=165.581, v_nb=1]"
     ]
    },
    {
     "name": "stdout",
     "output_type": "stream",
     "text": [
      "G shape: torch.Size([8, 3476, 3476])\n",
      "t: tensor([139,  86,  91, 103,  48, 111, 140,  20]), batch_nb: 9\n"
     ]
    },
    {
     "name": "stderr",
     "output_type": "stream",
     "text": [
      " 31%|███       | 11/36 [00:39<01:34,  3.79s/it, avg_laplacian_term=74.8, avg_val_fro=34.2, avg_val_loss=109, avg_val_mae=4.74, batch_nb=9, epoch=24, tng_loss=165.518, v_nb=1]"
     ]
    },
    {
     "name": "stdout",
     "output_type": "stream",
     "text": [
      "G shape: torch.Size([8, 3476, 3476])\n",
      "t: tensor([ 56, 141,  19,  46,  83,  76,  43,  69]), batch_nb: 10\n"
     ]
    },
    {
     "name": "stderr",
     "output_type": "stream",
     "text": [
      " 33%|███▎      | 12/36 [00:43<01:32,  3.84s/it, avg_laplacian_term=74.8, avg_val_fro=34.2, avg_val_loss=109, avg_val_mae=4.74, batch_nb=10, epoch=24, tng_loss=165.393, v_nb=1]"
     ]
    },
    {
     "name": "stdout",
     "output_type": "stream",
     "text": [
      "G shape: torch.Size([8, 3476, 3476])\n",
      "t: tensor([  3, 120,  63,  45,  23,  93,   5,  53]), batch_nb: 11\n"
     ]
    },
    {
     "name": "stderr",
     "output_type": "stream",
     "text": [
      " 36%|███▌      | 13/36 [00:47<01:28,  3.85s/it, avg_laplacian_term=74.8, avg_val_fro=34.2, avg_val_loss=109, avg_val_mae=4.74, batch_nb=11, epoch=24, tng_loss=165.229, v_nb=1]"
     ]
    },
    {
     "name": "stdout",
     "output_type": "stream",
     "text": [
      "G shape: torch.Size([8, 3476, 3476])\n",
      "t: tensor([132, 116,  77,  16, 109,  66, 128, 133]), batch_nb: 12\n"
     ]
    },
    {
     "name": "stderr",
     "output_type": "stream",
     "text": [
      " 39%|███▉      | 14/36 [00:50<01:22,  3.74s/it, avg_laplacian_term=74.8, avg_val_fro=34.2, avg_val_loss=109, avg_val_mae=4.74, batch_nb=12, epoch=24, tng_loss=165.207, v_nb=1]"
     ]
    },
    {
     "name": "stdout",
     "output_type": "stream",
     "text": [
      "G shape: torch.Size([8, 3476, 3476])\n",
      "t: tensor([117,  90, 106,  50, 119, 135,  55, 125]), batch_nb: 13\n"
     ]
    },
    {
     "name": "stderr",
     "output_type": "stream",
     "text": [
      " 42%|████▏     | 15/36 [00:54<01:18,  3.76s/it, avg_laplacian_term=74.8, avg_val_fro=34.2, avg_val_loss=109, avg_val_mae=4.74, batch_nb=13, epoch=24, tng_loss=165.219, v_nb=1]"
     ]
    },
    {
     "name": "stdout",
     "output_type": "stream",
     "text": [
      "G shape: torch.Size([8, 3476, 3476])\n",
      "t: tensor([ 39, 127, 142, 138,  13,  52, 123,  14]), batch_nb: 14\n"
     ]
    },
    {
     "name": "stderr",
     "output_type": "stream",
     "text": [
      " 44%|████▍     | 16/36 [00:58<01:15,  3.78s/it, avg_laplacian_term=74.8, avg_val_fro=34.2, avg_val_loss=109, avg_val_mae=4.74, batch_nb=14, epoch=24, tng_loss=165.092, v_nb=1]"
     ]
    },
    {
     "name": "stdout",
     "output_type": "stream",
     "text": [
      "G shape: torch.Size([8, 3476, 3476])\n",
      "t: tensor([130,  47,   2, 105,  21,  61,   0,  74]), batch_nb: 15\n"
     ]
    },
    {
     "name": "stderr",
     "output_type": "stream",
     "text": [
      " 47%|████▋     | 17/36 [01:02<01:13,  3.85s/it, avg_laplacian_term=74.8, avg_val_fro=34.2, avg_val_loss=109, avg_val_mae=4.74, batch_nb=15, epoch=24, tng_loss=164.816, v_nb=1]"
     ]
    },
    {
     "name": "stdout",
     "output_type": "stream",
     "text": [
      "G shape: torch.Size([8, 3476, 3476])\n",
      "t: tensor([ 18,  81,  70,  92,  62,  11,  68, 112]), batch_nb: 16\n"
     ]
    },
    {
     "name": "stderr",
     "output_type": "stream",
     "text": [
      "\r",
      " 47%|████▋     | 17/36 [01:06<01:13,  3.85s/it, avg_laplacian_term=74.8, avg_val_fro=34.2, avg_val_loss=109, avg_val_mae=4.74, batch_nb=16, epoch=24, tng_loss=164.822, v_nb=1]"
     ]
    },
    {
     "name": "stdout",
     "output_type": "stream",
     "text": [
      "G shape: torch.Size([8, 3476, 3476])\n",
      "t: tensor([  2, 100, 134,  70,  31, 139, 129,  95]), batch_nb: 0\n"
     ]
    },
    {
     "name": "stderr",
     "output_type": "stream",
     "text": [
      "\r",
      " 50%|█████     | 18/36 [01:10<01:31,  5.10s/it, avg_laplacian_term=74.8, avg_val_fro=34.2, avg_val_loss=109, avg_val_mae=4.74, batch_nb=16, epoch=24, tng_loss=164.822, v_nb=1]"
     ]
    },
    {
     "name": "stdout",
     "output_type": "stream",
     "text": [
      "G shape: torch.Size([8, 3476, 3476])\n",
      "t: tensor([74, 33, 16, 11, 41, 32,  7, 90]), batch_nb: 1\n"
     ]
    },
    {
     "name": "stderr",
     "output_type": "stream",
     "text": [
      "\r",
      " 53%|█████▎    | 19/36 [01:13<01:18,  4.64s/it, avg_laplacian_term=74.8, avg_val_fro=34.2, avg_val_loss=109, avg_val_mae=4.74, batch_nb=16, epoch=24, tng_loss=164.822, v_nb=1]"
     ]
    },
    {
     "name": "stdout",
     "output_type": "stream",
     "text": [
      "G shape: torch.Size([8, 3476, 3476])\n",
      "t: tensor([106,  65,  42,  10,  94,  44,  72,  97]), batch_nb: 2\n"
     ]
    },
    {
     "name": "stderr",
     "output_type": "stream",
     "text": [
      "\r",
      " 56%|█████▌    | 20/36 [01:17<01:09,  4.34s/it, avg_laplacian_term=74.8, avg_val_fro=34.2, avg_val_loss=109, avg_val_mae=4.74, batch_nb=16, epoch=24, tng_loss=164.822, v_nb=1]"
     ]
    },
    {
     "name": "stdout",
     "output_type": "stream",
     "text": [
      "G shape: torch.Size([8, 3476, 3476])\n",
      "t: tensor([119, 126, 143,  85,  22, 114,  99,  87]), batch_nb: 3\n"
     ]
    },
    {
     "name": "stderr",
     "output_type": "stream",
     "text": [
      "\r",
      " 58%|█████▊    | 21/36 [01:21<01:03,  4.22s/it, avg_laplacian_term=74.8, avg_val_fro=34.2, avg_val_loss=109, avg_val_mae=4.74, batch_nb=16, epoch=24, tng_loss=164.822, v_nb=1]"
     ]
    },
    {
     "name": "stdout",
     "output_type": "stream",
     "text": [
      "G shape: torch.Size([8, 3476, 3476])\n",
      "t: tensor([ 48, 141,  93, 132,  21, 133,  68,  57]), batch_nb: 4\n"
     ]
    },
    {
     "name": "stderr",
     "output_type": "stream",
     "text": [
      "\r",
      " 61%|██████    | 22/36 [01:25<00:57,  4.11s/it, avg_laplacian_term=74.8, avg_val_fro=34.2, avg_val_loss=109, avg_val_mae=4.74, batch_nb=16, epoch=24, tng_loss=164.822, v_nb=1]"
     ]
    },
    {
     "name": "stdout",
     "output_type": "stream",
     "text": [
      "G shape: torch.Size([8, 3476, 3476])\n",
      "t: tensor([ 52, 124,  98,  54, 118,  29, 107,  14]), batch_nb: 5\n"
     ]
    },
    {
     "name": "stderr",
     "output_type": "stream",
     "text": [
      "\r",
      " 64%|██████▍   | 23/36 [01:29<00:52,  4.05s/it, avg_laplacian_term=74.8, avg_val_fro=34.2, avg_val_loss=109, avg_val_mae=4.74, batch_nb=16, epoch=24, tng_loss=164.822, v_nb=1]"
     ]
    },
    {
     "name": "stdout",
     "output_type": "stream",
     "text": [
      "G shape: torch.Size([8, 3476, 3476])\n",
      "t: tensor([ 49,  86,  71, 136, 102,  55, 128,  35]), batch_nb: 6\n"
     ]
    },
    {
     "name": "stderr",
     "output_type": "stream",
     "text": [
      "\r",
      " 67%|██████▋   | 24/36 [01:33<00:48,  4.02s/it, avg_laplacian_term=74.8, avg_val_fro=34.2, avg_val_loss=109, avg_val_mae=4.74, batch_nb=16, epoch=24, tng_loss=164.822, v_nb=1]"
     ]
    },
    {
     "name": "stdout",
     "output_type": "stream",
     "text": [
      "G shape: torch.Size([8, 3476, 3476])\n",
      "t: tensor([ 58, 123,  12, 135,  67, 137,  51,  83]), batch_nb: 7\n"
     ]
    },
    {
     "name": "stderr",
     "output_type": "stream",
     "text": [
      "\r",
      " 69%|██████▉   | 25/36 [01:38<00:47,  4.33s/it, avg_laplacian_term=74.8, avg_val_fro=34.2, avg_val_loss=109, avg_val_mae=4.74, batch_nb=16, epoch=24, tng_loss=164.822, v_nb=1]"
     ]
    },
    {
     "name": "stdout",
     "output_type": "stream",
     "text": [
      "G shape: torch.Size([8, 3476, 3476])\n",
      "t: tensor([ 66, 104,  36,   8,  43,  64, 120, 111]), batch_nb: 8\n"
     ]
    },
    {
     "name": "stderr",
     "output_type": "stream",
     "text": [
      "\r",
      " 72%|███████▏  | 26/36 [01:42<00:42,  4.26s/it, avg_laplacian_term=74.8, avg_val_fro=34.2, avg_val_loss=109, avg_val_mae=4.74, batch_nb=16, epoch=24, tng_loss=164.822, v_nb=1]"
     ]
    },
    {
     "name": "stdout",
     "output_type": "stream",
     "text": [
      "G shape: torch.Size([8, 3476, 3476])\n",
      "t: tensor([ 78,  92,   5, 109,  28,  34, 101,  38]), batch_nb: 9\n"
     ]
    },
    {
     "name": "stderr",
     "output_type": "stream",
     "text": [
      "\r",
      " 75%|███████▌  | 27/36 [01:46<00:37,  4.18s/it, avg_laplacian_term=74.8, avg_val_fro=34.2, avg_val_loss=109, avg_val_mae=4.74, batch_nb=16, epoch=24, tng_loss=164.822, v_nb=1]"
     ]
    },
    {
     "name": "stdout",
     "output_type": "stream",
     "text": [
      "G shape: torch.Size([8, 3476, 3476])\n",
      "t: tensor([142,  45,  25,  56, 112, 115,  60,  76]), batch_nb: 10\n"
     ]
    },
    {
     "name": "stderr",
     "output_type": "stream",
     "text": [
      "\r",
      " 78%|███████▊  | 28/36 [01:51<00:35,  4.39s/it, avg_laplacian_term=74.8, avg_val_fro=34.2, avg_val_loss=109, avg_val_mae=4.74, batch_nb=16, epoch=24, tng_loss=164.822, v_nb=1]"
     ]
    },
    {
     "name": "stdout",
     "output_type": "stream",
     "text": [
      "G shape: torch.Size([8, 3476, 3476])\n",
      "t: tensor([ 75,  19,  46, 113,   3,  24,   9, 103]), batch_nb: 11\n"
     ]
    },
    {
     "name": "stderr",
     "output_type": "stream",
     "text": [
      "\r",
      " 81%|████████  | 29/36 [01:55<00:30,  4.29s/it, avg_laplacian_term=74.8, avg_val_fro=34.2, avg_val_loss=109, avg_val_mae=4.74, batch_nb=16, epoch=24, tng_loss=164.822, v_nb=1]"
     ]
    },
    {
     "name": "stdout",
     "output_type": "stream",
     "text": [
      "G shape: torch.Size([8, 3476, 3476])\n",
      "t: tensor([ 27,  77, 108, 130, 122,  23,  39, 117]), batch_nb: 12\n"
     ]
    },
    {
     "name": "stderr",
     "output_type": "stream",
     "text": [
      "\r",
      " 83%|████████▎ | 30/36 [01:58<00:24,  4.12s/it, avg_laplacian_term=74.8, avg_val_fro=34.2, avg_val_loss=109, avg_val_mae=4.74, batch_nb=16, epoch=24, tng_loss=164.822, v_nb=1]"
     ]
    },
    {
     "name": "stdout",
     "output_type": "stream",
     "text": [
      "G shape: torch.Size([8, 3476, 3476])\n",
      "t: tensor([125,  69,  79,  80,  37,  40, 110,  17]), batch_nb: 13\n"
     ]
    },
    {
     "name": "stderr",
     "output_type": "stream",
     "text": [
      "\r",
      " 86%|████████▌ | 31/36 [02:02<00:20,  4.06s/it, avg_laplacian_term=74.8, avg_val_fro=34.2, avg_val_loss=109, avg_val_mae=4.74, batch_nb=16, epoch=24, tng_loss=164.822, v_nb=1]"
     ]
    },
    {
     "name": "stdout",
     "output_type": "stream",
     "text": [
      "G shape: torch.Size([8, 3476, 3476])\n",
      "t: tensor([  0, 127,  13,  47,  18,  84,  59,  89]), batch_nb: 14\n"
     ]
    },
    {
     "name": "stderr",
     "output_type": "stream",
     "text": [
      "\r",
      " 89%|████████▉ | 32/36 [02:07<00:17,  4.28s/it, avg_laplacian_term=74.8, avg_val_fro=34.2, avg_val_loss=109, avg_val_mae=4.74, batch_nb=16, epoch=24, tng_loss=164.822, v_nb=1]"
     ]
    },
    {
     "name": "stdout",
     "output_type": "stream",
     "text": [
      "G shape: torch.Size([8, 3476, 3476])\n",
      "t: tensor([ 63,  96,  30,  26, 140,  50,  15,   1]), batch_nb: 15\n"
     ]
    },
    {
     "name": "stderr",
     "output_type": "stream",
     "text": [
      "\r",
      " 92%|█████████▏| 33/36 [02:11<00:12,  4.17s/it, avg_laplacian_term=74.8, avg_val_fro=34.2, avg_val_loss=109, avg_val_mae=4.74, batch_nb=16, epoch=24, tng_loss=164.822, v_nb=1]"
     ]
    },
    {
     "name": "stdout",
     "output_type": "stream",
     "text": [
      "G shape: torch.Size([8, 3476, 3476])\n",
      "t: tensor([116,  53,   6,  61,  73,  62, 105,   4]), batch_nb: 16\n"
     ]
    },
    {
     "name": "stderr",
     "output_type": "stream",
     "text": [
      "\r",
      " 94%|█████████▍| 34/36 [02:15<00:08,  4.22s/it, avg_laplacian_term=74.8, avg_val_fro=34.2, avg_val_loss=109, avg_val_mae=4.74, batch_nb=16, epoch=24, tng_loss=164.822, v_nb=1]"
     ]
    },
    {
     "name": "stdout",
     "output_type": "stream",
     "text": [
      "G shape: torch.Size([8, 3476, 3476])\n",
      "t: tensor([138,  20, 131,  81,  82, 121,  91,  88]), batch_nb: 17\n"
     ]
    },
    {
     "name": "stderr",
     "output_type": "stream",
     "text": [
      "100%|██████████| 36/36 [02:20<00:00,  3.01s/it, avg_laplacian_term=73.9, avg_val_fro=33.9, avg_val_loss=108, avg_val_mae=4.7, batch_nb=16, epoch=24, tng_loss=164.822, v_nb=1] "
     ]
    },
    {
     "name": "stdout",
     "output_type": "stream",
     "text": [
      "G shape: torch.Size([8, 3476, 3476])\n",
      "t: tensor([29,  1, 41, 34, 67, 42, 12, 85]), batch_nb: 17\n"
     ]
    },
    {
     "name": "stderr",
     "output_type": "stream",
     "text": [
      "  3%|▎         | 1/36 [00:00<00:16,  2.11it/s], avg_laplacian_term=73.9, avg_val_fro=33.9, avg_val_loss=108, avg_val_mae=4.7, batch_nb=17, epoch=24, tng_loss=164.616, v_nb=1]"
     ]
    },
    {
     "name": "stdout",
     "output_type": "stream",
     "text": [
      "G shape: torch.Size([8, 3476, 3476])\n",
      "t: tensor([ 55, 121,  30,  19,  81,  13, 126, 136]), batch_nb: 0\n"
     ]
    },
    {
     "name": "stderr",
     "output_type": "stream",
     "text": [
      "  6%|▌         | 2/36 [00:04<00:53,  1.57s/it, avg_laplacian_term=73.9, avg_val_fro=33.9, avg_val_loss=108, avg_val_mae=4.7, batch_nb=0, epoch=25, tng_loss=164.682, v_nb=1]"
     ]
    },
    {
     "name": "stdout",
     "output_type": "stream",
     "text": [
      "G shape: torch.Size([8, 3476, 3476])\n",
      "t: tensor([ 72,  64,  59,  22, 111,  47,  85,   8]), batch_nb: 1\n"
     ]
    },
    {
     "name": "stderr",
     "output_type": "stream",
     "text": [
      "  8%|▊         | 3/36 [00:08<01:17,  2.36s/it, avg_laplacian_term=73.9, avg_val_fro=33.9, avg_val_loss=108, avg_val_mae=4.7, batch_nb=1, epoch=25, tng_loss=164.607, v_nb=1]"
     ]
    },
    {
     "name": "stdout",
     "output_type": "stream",
     "text": [
      "G shape: torch.Size([8, 3476, 3476])\n",
      "t: tensor([ 95,  49,  14,  53, 104,  61,  93,  58]), batch_nb: 2\n"
     ]
    },
    {
     "name": "stderr",
     "output_type": "stream",
     "text": [
      " 11%|█         | 4/36 [00:12<01:31,  2.86s/it, avg_laplacian_term=73.9, avg_val_fro=33.9, avg_val_loss=108, avg_val_mae=4.7, batch_nb=2, epoch=25, tng_loss=164.405, v_nb=1]"
     ]
    },
    {
     "name": "stdout",
     "output_type": "stream",
     "text": [
      "G shape: torch.Size([8, 3476, 3476])\n",
      "t: tensor([ 71,  74, 133,  34,  88,  50,  10,  15]), batch_nb: 3\n"
     ]
    },
    {
     "name": "stderr",
     "output_type": "stream",
     "text": [
      " 14%|█▍        | 5/36 [00:16<01:39,  3.22s/it, avg_laplacian_term=73.9, avg_val_fro=33.9, avg_val_loss=108, avg_val_mae=4.7, batch_nb=3, epoch=25, tng_loss=164.242, v_nb=1]"
     ]
    },
    {
     "name": "stdout",
     "output_type": "stream",
     "text": [
      "G shape: torch.Size([8, 3476, 3476])\n",
      "t: tensor([ 86, 114,  37,  16,  98, 135,  82, 125]), batch_nb: 4\n"
     ]
    },
    {
     "name": "stderr",
     "output_type": "stream",
     "text": [
      " 17%|█▋        | 6/36 [00:20<01:44,  3.48s/it, avg_laplacian_term=73.9, avg_val_fro=33.9, avg_val_loss=108, avg_val_mae=4.7, batch_nb=4, epoch=25, tng_loss=164.167, v_nb=1]"
     ]
    },
    {
     "name": "stdout",
     "output_type": "stream",
     "text": [
      "G shape: torch.Size([8, 3476, 3476])\n",
      "t: tensor([ 79,  36,  23,  39, 112, 108,  35,  77]), batch_nb: 5\n"
     ]
    },
    {
     "name": "stderr",
     "output_type": "stream",
     "text": [
      " 19%|█▉        | 7/36 [00:25<01:46,  3.66s/it, avg_laplacian_term=73.9, avg_val_fro=33.9, avg_val_loss=108, avg_val_mae=4.7, batch_nb=5, epoch=25, tng_loss=164.153, v_nb=1]"
     ]
    },
    {
     "name": "stdout",
     "output_type": "stream",
     "text": [
      "G shape: torch.Size([8, 3476, 3476])\n",
      "t: tensor([ 41,  76, 107,  57,  90,  63, 123,  84]), batch_nb: 6\n"
     ]
    },
    {
     "name": "stderr",
     "output_type": "stream",
     "text": [
      " 22%|██▏       | 8/36 [00:29<01:45,  3.77s/it, avg_laplacian_term=73.9, avg_val_fro=33.9, avg_val_loss=108, avg_val_mae=4.7, batch_nb=6, epoch=25, tng_loss=163.993, v_nb=1]"
     ]
    },
    {
     "name": "stdout",
     "output_type": "stream",
     "text": [
      "G shape: torch.Size([8, 3476, 3476])\n",
      "t: tensor([  7,  54,  44, 117,  99,  75,  97,  29]), batch_nb: 7\n"
     ]
    },
    {
     "name": "stderr",
     "output_type": "stream",
     "text": [
      " 25%|██▌       | 9/36 [00:33<01:45,  3.91s/it, avg_laplacian_term=73.9, avg_val_fro=33.9, avg_val_loss=108, avg_val_mae=4.7, batch_nb=7, epoch=25, tng_loss=163.796, v_nb=1]"
     ]
    },
    {
     "name": "stdout",
     "output_type": "stream",
     "text": [
      "G shape: torch.Size([8, 3476, 3476])\n",
      "t: tensor([103,  51,  70,  62,  80, 128, 139,  83]), batch_nb: 8\n"
     ]
    },
    {
     "name": "stderr",
     "output_type": "stream",
     "text": [
      " 28%|██▊       | 10/36 [00:37<01:41,  3.90s/it, avg_laplacian_term=73.9, avg_val_fro=33.9, avg_val_loss=108, avg_val_mae=4.7, batch_nb=8, epoch=25, tng_loss=163.587, v_nb=1]"
     ]
    },
    {
     "name": "stdout",
     "output_type": "stream",
     "text": [
      "G shape: torch.Size([8, 3476, 3476])\n",
      "t: tensor([ 38, 131, 122,  66,  26, 132, 102, 124]), batch_nb: 9\n"
     ]
    },
    {
     "name": "stderr",
     "output_type": "stream",
     "text": [
      " 31%|███       | 11/36 [00:41<01:43,  4.13s/it, avg_laplacian_term=73.9, avg_val_fro=33.9, avg_val_loss=108, avg_val_mae=4.7, batch_nb=9, epoch=25, tng_loss=163.251, v_nb=1]"
     ]
    },
    {
     "name": "stdout",
     "output_type": "stream",
     "text": [
      "G shape: torch.Size([8, 3476, 3476])\n",
      "t: tensor([130,  43, 119,  32,  27, 143, 141,  21]), batch_nb: 10\n"
     ]
    },
    {
     "name": "stderr",
     "output_type": "stream",
     "text": [
      " 33%|███▎      | 12/36 [00:46<01:39,  4.16s/it, avg_laplacian_term=73.9, avg_val_fro=33.9, avg_val_loss=108, avg_val_mae=4.7, batch_nb=10, epoch=25, tng_loss=163.333, v_nb=1]"
     ]
    },
    {
     "name": "stdout",
     "output_type": "stream",
     "text": [
      "G shape: torch.Size([8, 3476, 3476])\n",
      "t: tensor([ 42,  65, 127, 113,  89, 142,  92,  46]), batch_nb: 11\n"
     ]
    },
    {
     "name": "stderr",
     "output_type": "stream",
     "text": [
      " 36%|███▌      | 13/36 [00:50<01:36,  4.21s/it, avg_laplacian_term=73.9, avg_val_fro=33.9, avg_val_loss=108, avg_val_mae=4.7, batch_nb=11, epoch=25, tng_loss=163.196, v_nb=1]"
     ]
    },
    {
     "name": "stdout",
     "output_type": "stream",
     "text": [
      "G shape: torch.Size([8, 3476, 3476])\n",
      "t: tensor([ 60, 106, 129,  45,  25,  31, 101,  68]), batch_nb: 12\n"
     ]
    },
    {
     "name": "stderr",
     "output_type": "stream",
     "text": [
      " 39%|███▉      | 14/36 [00:54<01:31,  4.14s/it, avg_laplacian_term=73.9, avg_val_fro=33.9, avg_val_loss=108, avg_val_mae=4.7, batch_nb=12, epoch=25, tng_loss=162.982, v_nb=1]"
     ]
    },
    {
     "name": "stdout",
     "output_type": "stream",
     "text": [
      "G shape: torch.Size([8, 3476, 3476])\n",
      "t: tensor([140,   9, 100,   4,  33,  40, 137,  18]), batch_nb: 13\n"
     ]
    },
    {
     "name": "stderr",
     "output_type": "stream",
     "text": [
      " 42%|████▏     | 15/36 [00:58<01:27,  4.17s/it, avg_laplacian_term=73.9, avg_val_fro=33.9, avg_val_loss=108, avg_val_mae=4.7, batch_nb=13, epoch=25, tng_loss=162.884, v_nb=1]"
     ]
    },
    {
     "name": "stdout",
     "output_type": "stream",
     "text": [
      "G shape: torch.Size([8, 3476, 3476])\n",
      "t: tensor([ 67, 120,   5,  94, 109,   2, 110,  69]), batch_nb: 14\n"
     ]
    },
    {
     "name": "stderr",
     "output_type": "stream",
     "text": [
      " 44%|████▍     | 16/36 [01:03<01:27,  4.35s/it, avg_laplacian_term=73.9, avg_val_fro=33.9, avg_val_loss=108, avg_val_mae=4.7, batch_nb=14, epoch=25, tng_loss=162.774, v_nb=1]"
     ]
    },
    {
     "name": "stdout",
     "output_type": "stream",
     "text": [
      "G shape: torch.Size([8, 3476, 3476])\n",
      "t: tensor([134,  56,  87,  28,  52,  91,   1,  17]), batch_nb: 15\n"
     ]
    },
    {
     "name": "stderr",
     "output_type": "stream",
     "text": [
      " 47%|████▋     | 17/36 [01:07<01:21,  4.28s/it, avg_laplacian_term=73.9, avg_val_fro=33.9, avg_val_loss=108, avg_val_mae=4.7, batch_nb=15, epoch=25, tng_loss=162.711, v_nb=1]"
     ]
    },
    {
     "name": "stdout",
     "output_type": "stream",
     "text": [
      "G shape: torch.Size([8, 3476, 3476])\n",
      "t: tensor([  3, 118, 138,  11,  73, 116,  96, 115]), batch_nb: 16\n"
     ]
    },
    {
     "name": "stderr",
     "output_type": "stream",
     "text": [
      "\r",
      " 47%|████▋     | 17/36 [01:10<01:21,  4.28s/it, avg_laplacian_term=73.9, avg_val_fro=33.9, avg_val_loss=108, avg_val_mae=4.7, batch_nb=16, epoch=25, tng_loss=162.639, v_nb=1]"
     ]
    },
    {
     "name": "stdout",
     "output_type": "stream",
     "text": [
      "G shape: torch.Size([8, 3476, 3476])\n",
      "t: tensor([ 86, 106,  39,  43, 143, 141,  28, 127]), batch_nb: 0\n"
     ]
    },
    {
     "name": "stderr",
     "output_type": "stream",
     "text": [
      "\r",
      " 50%|█████     | 18/36 [01:14<01:33,  5.22s/it, avg_laplacian_term=73.9, avg_val_fro=33.9, avg_val_loss=108, avg_val_mae=4.7, batch_nb=16, epoch=25, tng_loss=162.639, v_nb=1]"
     ]
    },
    {
     "name": "stdout",
     "output_type": "stream",
     "text": [
      "G shape: torch.Size([8, 3476, 3476])\n",
      "t: tensor([140,  70, 113,  56,  30, 130,  69, 112]), batch_nb: 1\n"
     ]
    },
    {
     "name": "stderr",
     "output_type": "stream",
     "text": [
      "\r",
      " 53%|█████▎    | 19/36 [01:19<01:24,  4.95s/it, avg_laplacian_term=73.9, avg_val_fro=33.9, avg_val_loss=108, avg_val_mae=4.7, batch_nb=16, epoch=25, tng_loss=162.639, v_nb=1]"
     ]
    },
    {
     "name": "stdout",
     "output_type": "stream",
     "text": [
      "G shape: torch.Size([8, 3476, 3476])\n",
      "t: tensor([  0,  40,  77,  61, 138,  75,  51,  23]), batch_nb: 2\n"
     ]
    },
    {
     "name": "stderr",
     "output_type": "stream",
     "text": [
      "\r",
      " 56%|█████▌    | 20/36 [01:23<01:13,  4.59s/it, avg_laplacian_term=73.9, avg_val_fro=33.9, avg_val_loss=108, avg_val_mae=4.7, batch_nb=16, epoch=25, tng_loss=162.639, v_nb=1]"
     ]
    },
    {
     "name": "stdout",
     "output_type": "stream",
     "text": [
      "G shape: torch.Size([8, 3476, 3476])\n",
      "t: tensor([126,  57,  85,  19,  11,  16,  94,  78]), batch_nb: 3\n"
     ]
    },
    {
     "name": "stderr",
     "output_type": "stream",
     "text": [
      "\r",
      " 58%|█████▊    | 21/36 [01:26<01:05,  4.39s/it, avg_laplacian_term=73.9, avg_val_fro=33.9, avg_val_loss=108, avg_val_mae=4.7, batch_nb=16, epoch=25, tng_loss=162.639, v_nb=1]"
     ]
    },
    {
     "name": "stdout",
     "output_type": "stream",
     "text": [
      "G shape: torch.Size([8, 3476, 3476])\n",
      "t: tensor([ 21,   5,  34, 119, 120, 110, 139,  27]), batch_nb: 4\n"
     ]
    },
    {
     "name": "stderr",
     "output_type": "stream",
     "text": [
      "\r",
      " 61%|██████    | 22/36 [01:31<01:01,  4.38s/it, avg_laplacian_term=73.9, avg_val_fro=33.9, avg_val_loss=108, avg_val_mae=4.7, batch_nb=16, epoch=25, tng_loss=162.639, v_nb=1]"
     ]
    },
    {
     "name": "stdout",
     "output_type": "stream",
     "text": [
      "G shape: torch.Size([8, 3476, 3476])\n",
      "t: tensor([ 17,  14, 116,  66,  71,  41,  76, 121]), batch_nb: 5\n"
     ]
    },
    {
     "name": "stderr",
     "output_type": "stream",
     "text": [
      "\r",
      " 64%|██████▍   | 23/36 [01:35<00:55,  4.27s/it, avg_laplacian_term=73.9, avg_val_fro=33.9, avg_val_loss=108, avg_val_mae=4.7, batch_nb=16, epoch=25, tng_loss=162.639, v_nb=1]"
     ]
    },
    {
     "name": "stdout",
     "output_type": "stream",
     "text": [
      "G shape: torch.Size([8, 3476, 3476])\n",
      "t: tensor([  7,  36,  89,  45,  50, 135,   9,  96]), batch_nb: 6\n"
     ]
    },
    {
     "name": "stderr",
     "output_type": "stream",
     "text": [
      "\r",
      " 67%|██████▋   | 24/36 [01:39<00:49,  4.12s/it, avg_laplacian_term=73.9, avg_val_fro=33.9, avg_val_loss=108, avg_val_mae=4.7, batch_nb=16, epoch=25, tng_loss=162.639, v_nb=1]"
     ]
    },
    {
     "name": "stdout",
     "output_type": "stream",
     "text": [
      "G shape: torch.Size([8, 3476, 3476])\n",
      "t: tensor([ 49,  91,  54,  63,  33, 114,   4,  81]), batch_nb: 7\n"
     ]
    },
    {
     "name": "stderr",
     "output_type": "stream",
     "text": [
      "\r",
      " 69%|██████▉   | 25/36 [01:43<00:46,  4.23s/it, avg_laplacian_term=73.9, avg_val_fro=33.9, avg_val_loss=108, avg_val_mae=4.7, batch_nb=16, epoch=25, tng_loss=162.639, v_nb=1]"
     ]
    },
    {
     "name": "stdout",
     "output_type": "stream",
     "text": [
      "G shape: torch.Size([8, 3476, 3476])\n",
      "t: tensor([ 42,  73,  99, 125,  98, 133,  79, 115]), batch_nb: 8\n"
     ]
    },
    {
     "name": "stderr",
     "output_type": "stream",
     "text": [
      "\r",
      " 72%|███████▏  | 26/36 [01:47<00:41,  4.15s/it, avg_laplacian_term=73.9, avg_val_fro=33.9, avg_val_loss=108, avg_val_mae=4.7, batch_nb=16, epoch=25, tng_loss=162.639, v_nb=1]"
     ]
    },
    {
     "name": "stdout",
     "output_type": "stream",
     "text": [
      "G shape: torch.Size([8, 3476, 3476])\n",
      "t: tensor([ 90,  74,  24,  48,  26, 134,  44,  58]), batch_nb: 9\n"
     ]
    },
    {
     "name": "stderr",
     "output_type": "stream",
     "text": [
      "\r",
      " 75%|███████▌  | 27/36 [01:50<00:35,  3.95s/it, avg_laplacian_term=73.9, avg_val_fro=33.9, avg_val_loss=108, avg_val_mae=4.7, batch_nb=16, epoch=25, tng_loss=162.639, v_nb=1]"
     ]
    },
    {
     "name": "stdout",
     "output_type": "stream",
     "text": [
      "G shape: torch.Size([8, 3476, 3476])\n",
      "t: tensor([124,  10, 105,  87,  46, 100, 136,  80]), batch_nb: 10\n"
     ]
    },
    {
     "name": "stderr",
     "output_type": "stream",
     "text": [
      "\r",
      " 78%|███████▊  | 28/36 [01:54<00:30,  3.81s/it, avg_laplacian_term=73.9, avg_val_fro=33.9, avg_val_loss=108, avg_val_mae=4.7, batch_nb=16, epoch=25, tng_loss=162.639, v_nb=1]"
     ]
    },
    {
     "name": "stdout",
     "output_type": "stream",
     "text": [
      "G shape: torch.Size([8, 3476, 3476])\n",
      "t: tensor([ 31,  32,   1,  38, 122, 107,  47,  52]), batch_nb: 11\n"
     ]
    },
    {
     "name": "stderr",
     "output_type": "stream",
     "text": [
      "\r",
      " 81%|████████  | 29/36 [01:58<00:27,  3.95s/it, avg_laplacian_term=73.9, avg_val_fro=33.9, avg_val_loss=108, avg_val_mae=4.7, batch_nb=16, epoch=25, tng_loss=162.639, v_nb=1]"
     ]
    },
    {
     "name": "stdout",
     "output_type": "stream",
     "text": [
      "G shape: torch.Size([8, 3476, 3476])\n",
      "t: tensor([102, 118,  68, 109,  22,  37, 142,  55]), batch_nb: 12\n"
     ]
    },
    {
     "name": "stderr",
     "output_type": "stream",
     "text": [
      "\r",
      " 83%|████████▎ | 30/36 [02:03<00:24,  4.07s/it, avg_laplacian_term=73.9, avg_val_fro=33.9, avg_val_loss=108, avg_val_mae=4.7, batch_nb=16, epoch=25, tng_loss=162.639, v_nb=1]"
     ]
    },
    {
     "name": "stdout",
     "output_type": "stream",
     "text": [
      "G shape: torch.Size([8, 3476, 3476])\n",
      "t: tensor([ 60,  82, 131,  29,  59, 101,  84, 123]), batch_nb: 13\n"
     ]
    },
    {
     "name": "stderr",
     "output_type": "stream",
     "text": [
      "\r",
      " 86%|████████▌ | 31/36 [02:06<00:19,  3.95s/it, avg_laplacian_term=73.9, avg_val_fro=33.9, avg_val_loss=108, avg_val_mae=4.7, batch_nb=16, epoch=25, tng_loss=162.639, v_nb=1]"
     ]
    },
    {
     "name": "stdout",
     "output_type": "stream",
     "text": [
      "G shape: torch.Size([8, 3476, 3476])\n",
      "t: tensor([137,  88,  15,   6,  62,  65,  18, 132]), batch_nb: 14\n"
     ]
    },
    {
     "name": "stderr",
     "output_type": "stream",
     "text": [
      "\r",
      " 89%|████████▉ | 32/36 [02:10<00:15,  3.96s/it, avg_laplacian_term=73.9, avg_val_fro=33.9, avg_val_loss=108, avg_val_mae=4.7, batch_nb=16, epoch=25, tng_loss=162.639, v_nb=1]"
     ]
    },
    {
     "name": "stdout",
     "output_type": "stream",
     "text": [
      "G shape: torch.Size([8, 3476, 3476])\n",
      "t: tensor([  8,  97,  92,  64,  53,   2, 117, 129]), batch_nb: 15\n"
     ]
    },
    {
     "name": "stderr",
     "output_type": "stream",
     "text": [
      "\r",
      " 92%|█████████▏| 33/36 [02:14<00:11,  3.88s/it, avg_laplacian_term=73.9, avg_val_fro=33.9, avg_val_loss=108, avg_val_mae=4.7, batch_nb=16, epoch=25, tng_loss=162.639, v_nb=1]"
     ]
    },
    {
     "name": "stdout",
     "output_type": "stream",
     "text": [
      "G shape: torch.Size([8, 3476, 3476])\n",
      "t: tensor([ 25, 111,   3,  67,  35,  12, 104,  20]), batch_nb: 16\n"
     ]
    },
    {
     "name": "stderr",
     "output_type": "stream",
     "text": [
      "\r",
      " 94%|█████████▍| 34/36 [02:18<00:08,  4.00s/it, avg_laplacian_term=73.9, avg_val_fro=33.9, avg_val_loss=108, avg_val_mae=4.7, batch_nb=16, epoch=25, tng_loss=162.639, v_nb=1]"
     ]
    },
    {
     "name": "stdout",
     "output_type": "stream",
     "text": [
      "G shape: torch.Size([8, 3476, 3476])\n",
      "t: tensor([ 93, 128, 108, 103,  72,  83,  13,  95]), batch_nb: 17\n"
     ]
    },
    {
     "name": "stderr",
     "output_type": "stream",
     "text": [
      "100%|██████████| 36/36 [02:23<00:00,  2.90s/it, avg_laplacian_term=72.9, avg_val_fro=33.5, avg_val_loss=106, avg_val_mae=4.67, batch_nb=16, epoch=25, tng_loss=162.639, v_nb=1]"
     ]
    },
    {
     "name": "stdout",
     "output_type": "stream",
     "text": [
      "G shape: torch.Size([8, 3476, 3476])\n",
      "t: tensor([105,  48,  24,  78,  20,   0,   6,  12]), batch_nb: 17\n"
     ]
    },
    {
     "name": "stderr",
     "output_type": "stream",
     "text": [
      "  3%|▎         | 1/36 [00:00<00:16,  2.19it/s], avg_laplacian_term=72.9, avg_val_fro=33.5, avg_val_loss=106, avg_val_mae=4.67, batch_nb=17, epoch=25, tng_loss=162.463, v_nb=1]"
     ]
    },
    {
     "name": "stdout",
     "output_type": "stream",
     "text": [
      "G shape: torch.Size([8, 3476, 3476])\n",
      "t: tensor([ 71,  26,  96,  72,  85,  22, 101, 100]), batch_nb: 0\n"
     ]
    },
    {
     "name": "stderr",
     "output_type": "stream",
     "text": [
      "  6%|▌         | 2/36 [00:04<00:51,  1.51s/it, avg_laplacian_term=72.9, avg_val_fro=33.5, avg_val_loss=106, avg_val_mae=4.67, batch_nb=0, epoch=26, tng_loss=162.007, v_nb=1]"
     ]
    },
    {
     "name": "stdout",
     "output_type": "stream",
     "text": [
      "G shape: torch.Size([8, 3476, 3476])\n",
      "t: tensor([131, 119, 136,  64, 116, 124,  40,  65]), batch_nb: 1\n"
     ]
    },
    {
     "name": "stderr",
     "output_type": "stream",
     "text": [
      "  8%|▊         | 3/36 [00:08<01:15,  2.28s/it, avg_laplacian_term=72.9, avg_val_fro=33.5, avg_val_loss=106, avg_val_mae=4.67, batch_nb=1, epoch=26, tng_loss=161.916, v_nb=1]"
     ]
    },
    {
     "name": "stdout",
     "output_type": "stream",
     "text": [
      "G shape: torch.Size([8, 3476, 3476])\n",
      "t: tensor([126,  27,  28, 111,  39, 123, 128,  52]), batch_nb: 2\n"
     ]
    },
    {
     "name": "stderr",
     "output_type": "stream",
     "text": [
      " 11%|█         | 4/36 [00:12<01:29,  2.80s/it, avg_laplacian_term=72.9, avg_val_fro=33.5, avg_val_loss=106, avg_val_mae=4.67, batch_nb=2, epoch=26, tng_loss=161.772, v_nb=1]"
     ]
    },
    {
     "name": "stdout",
     "output_type": "stream",
     "text": [
      "G shape: torch.Size([8, 3476, 3476])\n",
      "t: tensor([ 33,  82,  13,  49, 118, 141,  21, 113]), batch_nb: 3\n"
     ]
    },
    {
     "name": "stderr",
     "output_type": "stream",
     "text": [
      " 14%|█▍        | 5/36 [00:16<01:40,  3.24s/it, avg_laplacian_term=72.9, avg_val_fro=33.5, avg_val_loss=106, avg_val_mae=4.67, batch_nb=3, epoch=26, tng_loss=161.612, v_nb=1]"
     ]
    },
    {
     "name": "stdout",
     "output_type": "stream",
     "text": [
      "G shape: torch.Size([8, 3476, 3476])\n",
      "t: tensor([143, 132,  90, 104,  81,  75,  25, 115]), batch_nb: 4\n"
     ]
    },
    {
     "name": "stderr",
     "output_type": "stream",
     "text": [
      " 17%|█▋        | 6/36 [00:20<01:44,  3.50s/it, avg_laplacian_term=72.9, avg_val_fro=33.5, avg_val_loss=106, avg_val_mae=4.67, batch_nb=4, epoch=26, tng_loss=161.465, v_nb=1]"
     ]
    },
    {
     "name": "stdout",
     "output_type": "stream",
     "text": [
      "G shape: torch.Size([8, 3476, 3476])\n",
      "t: tensor([  9,  77, 106,  56,  45,  36,  57,  50]), batch_nb: 5\n"
     ]
    },
    {
     "name": "stderr",
     "output_type": "stream",
     "text": [
      " 19%|█▉        | 7/36 [00:24<01:45,  3.64s/it, avg_laplacian_term=72.9, avg_val_fro=33.5, avg_val_loss=106, avg_val_mae=4.67, batch_nb=5, epoch=26, tng_loss=161.411, v_nb=1]"
     ]
    },
    {
     "name": "stdout",
     "output_type": "stream",
     "text": [
      "G shape: torch.Size([8, 3476, 3476])\n",
      "t: tensor([ 67, 130,  95,  94,  17,  68,   0,  61]), batch_nb: 6\n"
     ]
    },
    {
     "name": "stderr",
     "output_type": "stream",
     "text": [
      " 22%|██▏       | 8/36 [00:28<01:44,  3.74s/it, avg_laplacian_term=72.9, avg_val_fro=33.5, avg_val_loss=106, avg_val_mae=4.67, batch_nb=6, epoch=26, tng_loss=161.377, v_nb=1]"
     ]
    },
    {
     "name": "stdout",
     "output_type": "stream",
     "text": [
      "G shape: torch.Size([8, 3476, 3476])\n",
      "t: tensor([31, 79,  6, 58, 93, 10, 15, 41]), batch_nb: 7\n"
     ]
    },
    {
     "name": "stderr",
     "output_type": "stream",
     "text": [
      " 25%|██▌       | 9/36 [00:32<01:43,  3.83s/it, avg_laplacian_term=72.9, avg_val_fro=33.5, avg_val_loss=106, avg_val_mae=4.67, batch_nb=7, epoch=26, tng_loss=161.411, v_nb=1]"
     ]
    },
    {
     "name": "stdout",
     "output_type": "stream",
     "text": [
      "G shape: torch.Size([8, 3476, 3476])\n",
      "t: tensor([ 11,  63,  44, 108, 102,   2,   8,  80]), batch_nb: 8\n"
     ]
    },
    {
     "name": "stderr",
     "output_type": "stream",
     "text": [
      " 28%|██▊       | 10/36 [00:36<01:39,  3.81s/it, avg_laplacian_term=72.9, avg_val_fro=33.5, avg_val_loss=106, avg_val_mae=4.67, batch_nb=8, epoch=26, tng_loss=161.368, v_nb=1]"
     ]
    },
    {
     "name": "stdout",
     "output_type": "stream",
     "text": [
      "G shape: torch.Size([8, 3476, 3476])\n",
      "t: tensor([ 38, 134,  24, 140,   3,  18,  70,  34]), batch_nb: 9\n"
     ]
    },
    {
     "name": "stderr",
     "output_type": "stream",
     "text": [
      " 31%|███       | 11/36 [00:40<01:36,  3.85s/it, avg_laplacian_term=72.9, avg_val_fro=33.5, avg_val_loss=106, avg_val_mae=4.67, batch_nb=9, epoch=26, tng_loss=161.175, v_nb=1]"
     ]
    },
    {
     "name": "stdout",
     "output_type": "stream",
     "text": [
      "G shape: torch.Size([8, 3476, 3476])\n",
      "t: tensor([ 76,  51,  46,  66,  37, 133, 129,  83]), batch_nb: 10\n"
     ]
    },
    {
     "name": "stderr",
     "output_type": "stream",
     "text": [
      " 33%|███▎      | 12/36 [00:44<01:32,  3.87s/it, avg_laplacian_term=72.9, avg_val_fro=33.5, avg_val_loss=106, avg_val_mae=4.67, batch_nb=10, epoch=26, tng_loss=161.059, v_nb=1]"
     ]
    },
    {
     "name": "stdout",
     "output_type": "stream",
     "text": [
      "G shape: torch.Size([8, 3476, 3476])\n",
      "t: tensor([ 89,   4,  48, 137,  42,  60, 121, 138]), batch_nb: 11\n"
     ]
    },
    {
     "name": "stderr",
     "output_type": "stream",
     "text": [
      " 36%|███▌      | 13/36 [00:48<01:29,  3.88s/it, avg_laplacian_term=72.9, avg_val_fro=33.5, avg_val_loss=106, avg_val_mae=4.67, batch_nb=11, epoch=26, tng_loss=160.891, v_nb=1]"
     ]
    },
    {
     "name": "stdout",
     "output_type": "stream",
     "text": [
      "G shape: torch.Size([8, 3476, 3476])\n",
      "t: tensor([ 20,  47, 109,  30, 105, 110, 112,  98]), batch_nb: 12\n"
     ]
    },
    {
     "name": "stderr",
     "output_type": "stream",
     "text": [
      " 39%|███▉      | 14/36 [00:52<01:26,  3.92s/it, avg_laplacian_term=72.9, avg_val_fro=33.5, avg_val_loss=106, avg_val_mae=4.67, batch_nb=12, epoch=26, tng_loss=160.712, v_nb=1]"
     ]
    },
    {
     "name": "stdout",
     "output_type": "stream",
     "text": [
      "G shape: torch.Size([8, 3476, 3476])\n",
      "t: tensor([127,  87,  19,  69, 103,  86,  74,  73]), batch_nb: 13\n"
     ]
    },
    {
     "name": "stderr",
     "output_type": "stream",
     "text": [
      " 42%|████▏     | 15/36 [00:56<01:22,  3.95s/it, avg_laplacian_term=72.9, avg_val_fro=33.5, avg_val_loss=106, avg_val_mae=4.67, batch_nb=13, epoch=26, tng_loss=160.512, v_nb=1]"
     ]
    },
    {
     "name": "stdout",
     "output_type": "stream",
     "text": [
      "G shape: torch.Size([8, 3476, 3476])\n",
      "t: tensor([ 43, 120,  78, 139,  97,  32,  99,  84]), batch_nb: 14\n"
     ]
    },
    {
     "name": "stderr",
     "output_type": "stream",
     "text": [
      " 44%|████▍     | 16/36 [01:00<01:19,  3.97s/it, avg_laplacian_term=72.9, avg_val_fro=33.5, avg_val_loss=106, avg_val_mae=4.67, batch_nb=14, epoch=26, tng_loss=160.506, v_nb=1]"
     ]
    },
    {
     "name": "stdout",
     "output_type": "stream",
     "text": [
      "G shape: torch.Size([8, 3476, 3476])\n",
      "t: tensor([ 23,  91,  53, 122,  35, 117,  59,  88]), batch_nb: 15\n"
     ]
    },
    {
     "name": "stderr",
     "output_type": "stream",
     "text": [
      " 47%|████▋     | 17/36 [01:04<01:16,  4.01s/it, avg_laplacian_term=72.9, avg_val_fro=33.5, avg_val_loss=106, avg_val_mae=4.67, batch_nb=15, epoch=26, tng_loss=160.479, v_nb=1]"
     ]
    },
    {
     "name": "stdout",
     "output_type": "stream",
     "text": [
      "G shape: torch.Size([8, 3476, 3476])\n",
      "t: tensor([ 62,   5,  14,  55,  12,  54,   7, 125]), batch_nb: 16\n"
     ]
    },
    {
     "name": "stderr",
     "output_type": "stream",
     "text": [
      "\r",
      " 47%|████▋     | 17/36 [01:08<01:16,  4.01s/it, avg_laplacian_term=72.9, avg_val_fro=33.5, avg_val_loss=106, avg_val_mae=4.67, batch_nb=16, epoch=26, tng_loss=160.514, v_nb=1]"
     ]
    },
    {
     "name": "stdout",
     "output_type": "stream",
     "text": [
      "G shape: torch.Size([8, 3476, 3476])\n",
      "t: tensor([  0,  26,  83,  52,  81,  42, 139,  39]), batch_nb: 0\n"
     ]
    },
    {
     "name": "stderr",
     "output_type": "stream",
     "text": [
      "\r",
      " 50%|█████     | 18/36 [01:14<01:43,  5.75s/it, avg_laplacian_term=72.9, avg_val_fro=33.5, avg_val_loss=106, avg_val_mae=4.67, batch_nb=16, epoch=26, tng_loss=160.514, v_nb=1]"
     ]
    },
    {
     "name": "stdout",
     "output_type": "stream",
     "text": [
      "G shape: torch.Size([8, 3476, 3476])\n",
      "t: tensor([114,  27, 111,  45, 129,  35,  57, 133]), batch_nb: 1\n"
     ]
    },
    {
     "name": "stderr",
     "output_type": "stream",
     "text": [
      "\r",
      " 53%|█████▎    | 19/36 [01:23<01:55,  6.81s/it, avg_laplacian_term=72.9, avg_val_fro=33.5, avg_val_loss=106, avg_val_mae=4.67, batch_nb=16, epoch=26, tng_loss=160.514, v_nb=1]"
     ]
    },
    {
     "name": "stdout",
     "output_type": "stream",
     "text": [
      "G shape: torch.Size([8, 3476, 3476])\n",
      "t: tensor([ 82,  68,  90, 140,  37, 135,  34,  11]), batch_nb: 2\n"
     ]
    },
    {
     "name": "stderr",
     "output_type": "stream",
     "text": [
      "\r",
      " 56%|█████▌    | 20/36 [01:31<01:54,  7.18s/it, avg_laplacian_term=72.9, avg_val_fro=33.5, avg_val_loss=106, avg_val_mae=4.67, batch_nb=16, epoch=26, tng_loss=160.514, v_nb=1]"
     ]
    },
    {
     "name": "stdout",
     "output_type": "stream",
     "text": [
      "G shape: torch.Size([8, 3476, 3476])\n",
      "t: tensor([ 56,  50, 121,  63,  95, 136, 116,  48]), batch_nb: 3\n"
     ]
    },
    {
     "name": "stderr",
     "output_type": "stream",
     "text": [
      "\r",
      " 58%|█████▊    | 21/36 [01:36<01:37,  6.52s/it, avg_laplacian_term=72.9, avg_val_fro=33.5, avg_val_loss=106, avg_val_mae=4.67, batch_nb=16, epoch=26, tng_loss=160.514, v_nb=1]"
     ]
    },
    {
     "name": "stdout",
     "output_type": "stream",
     "text": [
      "G shape: torch.Size([8, 3476, 3476])\n",
      "t: tensor([ 44,   8,  88,  78, 120, 106,  41,  85]), batch_nb: 4\n"
     ]
    },
    {
     "name": "stderr",
     "output_type": "stream",
     "text": [
      "\r",
      " 61%|██████    | 22/36 [01:41<01:24,  6.01s/it, avg_laplacian_term=72.9, avg_val_fro=33.5, avg_val_loss=106, avg_val_mae=4.67, batch_nb=16, epoch=26, tng_loss=160.514, v_nb=1]"
     ]
    },
    {
     "name": "stdout",
     "output_type": "stream",
     "text": [
      "G shape: torch.Size([8, 3476, 3476])\n",
      "t: tensor([ 75,  97,   7,  29,  43,  40, 125,  53]), batch_nb: 5\n"
     ]
    },
    {
     "name": "stderr",
     "output_type": "stream",
     "text": [
      "\r",
      " 64%|██████▍   | 23/36 [01:46<01:14,  5.70s/it, avg_laplacian_term=72.9, avg_val_fro=33.5, avg_val_loss=106, avg_val_mae=4.67, batch_nb=16, epoch=26, tng_loss=160.514, v_nb=1]"
     ]
    },
    {
     "name": "stdout",
     "output_type": "stream",
     "text": [
      "G shape: torch.Size([8, 3476, 3476])\n",
      "t: tensor([ 59,   4,  23,  17,  33,  87, 134,  66]), batch_nb: 6\n"
     ]
    },
    {
     "name": "stderr",
     "output_type": "stream",
     "text": [
      "\r",
      " 67%|██████▋   | 24/36 [01:49<01:00,  5.04s/it, avg_laplacian_term=72.9, avg_val_fro=33.5, avg_val_loss=106, avg_val_mae=4.67, batch_nb=16, epoch=26, tng_loss=160.514, v_nb=1]"
     ]
    },
    {
     "name": "stdout",
     "output_type": "stream",
     "text": [
      "G shape: torch.Size([8, 3476, 3476])\n",
      "t: tensor([ 16,  24, 103,  38,  70,   1, 102, 143]), batch_nb: 7\n"
     ]
    },
    {
     "name": "stderr",
     "output_type": "stream",
     "text": [
      "\r",
      " 69%|██████▉   | 25/36 [01:53<00:50,  4.59s/it, avg_laplacian_term=72.9, avg_val_fro=33.5, avg_val_loss=106, avg_val_mae=4.67, batch_nb=16, epoch=26, tng_loss=160.514, v_nb=1]"
     ]
    },
    {
     "name": "stdout",
     "output_type": "stream",
     "text": [
      "G shape: torch.Size([8, 3476, 3476])\n",
      "t: tensor([ 84,  98, 113,  28, 122,  64,   3,  92]), batch_nb: 8\n"
     ]
    },
    {
     "name": "stderr",
     "output_type": "stream",
     "text": [
      "\r",
      " 72%|███████▏  | 26/36 [01:57<00:42,  4.27s/it, avg_laplacian_term=72.9, avg_val_fro=33.5, avg_val_loss=106, avg_val_mae=4.67, batch_nb=16, epoch=26, tng_loss=160.514, v_nb=1]"
     ]
    },
    {
     "name": "stdout",
     "output_type": "stream",
     "text": [
      "G shape: torch.Size([8, 3476, 3476])\n",
      "t: tensor([14, 49, 74, 86, 65, 47, 69, 15]), batch_nb: 9\n"
     ]
    },
    {
     "name": "stderr",
     "output_type": "stream",
     "text": [
      "\r",
      " 75%|███████▌  | 27/36 [02:00<00:35,  3.99s/it, avg_laplacian_term=72.9, avg_val_fro=33.5, avg_val_loss=106, avg_val_mae=4.67, batch_nb=16, epoch=26, tng_loss=160.514, v_nb=1]"
     ]
    },
    {
     "name": "stdout",
     "output_type": "stream",
     "text": [
      "G shape: torch.Size([8, 3476, 3476])\n",
      "t: tensor([126,   2, 131, 104,  12, 110, 115,  20]), batch_nb: 10\n"
     ]
    },
    {
     "name": "stderr",
     "output_type": "stream",
     "text": [
      "\r",
      " 78%|███████▊  | 28/36 [02:03<00:30,  3.78s/it, avg_laplacian_term=72.9, avg_val_fro=33.5, avg_val_loss=106, avg_val_mae=4.67, batch_nb=16, epoch=26, tng_loss=160.514, v_nb=1]"
     ]
    },
    {
     "name": "stdout",
     "output_type": "stream",
     "text": [
      "G shape: torch.Size([8, 3476, 3476])\n",
      "t: tensor([107, 124,  25, 109,  94,  91,  80,  77]), batch_nb: 11\n"
     ]
    },
    {
     "name": "stderr",
     "output_type": "stream",
     "text": [
      "\r",
      " 81%|████████  | 29/36 [02:06<00:25,  3.60s/it, avg_laplacian_term=72.9, avg_val_fro=33.5, avg_val_loss=106, avg_val_mae=4.67, batch_nb=16, epoch=26, tng_loss=160.514, v_nb=1]"
     ]
    },
    {
     "name": "stdout",
     "output_type": "stream",
     "text": [
      "G shape: torch.Size([8, 3476, 3476])\n",
      "t: tensor([ 21, 142,  10, 130,  93,  30,  13,  54]), batch_nb: 12\n"
     ]
    },
    {
     "name": "stderr",
     "output_type": "stream",
     "text": [
      "\r",
      " 83%|████████▎ | 30/36 [02:10<00:20,  3.49s/it, avg_laplacian_term=72.9, avg_val_fro=33.5, avg_val_loss=106, avg_val_mae=4.67, batch_nb=16, epoch=26, tng_loss=160.514, v_nb=1]"
     ]
    },
    {
     "name": "stdout",
     "output_type": "stream",
     "text": [
      "G shape: torch.Size([8, 3476, 3476])\n",
      "t: tensor([ 58,  73,  19,  61,  99,  71, 105,   6]), batch_nb: 13\n"
     ]
    },
    {
     "name": "stderr",
     "output_type": "stream",
     "text": [
      "\r",
      " 86%|████████▌ | 31/36 [02:13<00:17,  3.43s/it, avg_laplacian_term=72.9, avg_val_fro=33.5, avg_val_loss=106, avg_val_mae=4.67, batch_nb=16, epoch=26, tng_loss=160.514, v_nb=1]"
     ]
    },
    {
     "name": "stdout",
     "output_type": "stream",
     "text": [
      "G shape: torch.Size([8, 3476, 3476])\n",
      "t: tensor([ 31,  67,  60, 138, 123, 127,  96, 108]), batch_nb: 14\n"
     ]
    },
    {
     "name": "stderr",
     "output_type": "stream",
     "text": [
      "\r",
      " 89%|████████▉ | 32/36 [02:16<00:13,  3.36s/it, avg_laplacian_term=72.9, avg_val_fro=33.5, avg_val_loss=106, avg_val_mae=4.67, batch_nb=16, epoch=26, tng_loss=160.514, v_nb=1]"
     ]
    },
    {
     "name": "stdout",
     "output_type": "stream",
     "text": [
      "G shape: torch.Size([8, 3476, 3476])\n",
      "t: tensor([  9,  22, 132, 141,  55, 118,  46,  89]), batch_nb: 15\n"
     ]
    },
    {
     "name": "stderr",
     "output_type": "stream",
     "text": [
      "\r",
      " 92%|█████████▏| 33/36 [02:19<00:10,  3.34s/it, avg_laplacian_term=72.9, avg_val_fro=33.5, avg_val_loss=106, avg_val_mae=4.67, batch_nb=16, epoch=26, tng_loss=160.514, v_nb=1]"
     ]
    },
    {
     "name": "stdout",
     "output_type": "stream",
     "text": [
      "G shape: torch.Size([8, 3476, 3476])\n",
      "t: tensor([117, 137, 100,  36,  18,  32, 112,   5]), batch_nb: 16\n"
     ]
    },
    {
     "name": "stderr",
     "output_type": "stream",
     "text": [
      "\r",
      " 94%|█████████▍| 34/36 [02:23<00:06,  3.41s/it, avg_laplacian_term=72.9, avg_val_fro=33.5, avg_val_loss=106, avg_val_mae=4.67, batch_nb=16, epoch=26, tng_loss=160.514, v_nb=1]"
     ]
    },
    {
     "name": "stdout",
     "output_type": "stream",
     "text": [
      "G shape: torch.Size([8, 3476, 3476])\n",
      "t: tensor([119,  76,  51,  62, 128,  79, 101,  72]), batch_nb: 17\n"
     ]
    },
    {
     "name": "stderr",
     "output_type": "stream",
     "text": [
      "100%|██████████| 36/36 [02:27<00:00,  2.55s/it, avg_laplacian_term=71.9, avg_val_fro=33.2, avg_val_loss=105, avg_val_mae=4.62, batch_nb=16, epoch=26, tng_loss=160.514, v_nb=1]"
     ]
    },
    {
     "name": "stdout",
     "output_type": "stream",
     "text": [
      "G shape: torch.Size([8, 3476, 3476])\n",
      "t: tensor([142, 114,   1, 135,  92, 107,  29,  16]), batch_nb: 17\n"
     ]
    },
    {
     "name": "stderr",
     "output_type": "stream",
     "text": [
      "  3%|▎         | 1/36 [00:00<00:15,  2.26it/s], avg_laplacian_term=71.9, avg_val_fro=33.2, avg_val_loss=105, avg_val_mae=4.62, batch_nb=17, epoch=26, tng_loss=160.396, v_nb=1]"
     ]
    },
    {
     "name": "stdout",
     "output_type": "stream",
     "text": [
      "G shape: torch.Size([8, 3476, 3476])\n",
      "t: tensor([113, 122,  31, 105, 141,  30,  23,  12]), batch_nb: 0\n"
     ]
    },
    {
     "name": "stderr",
     "output_type": "stream",
     "text": [
      "  6%|▌         | 2/36 [00:04<00:53,  1.57s/it, avg_laplacian_term=71.9, avg_val_fro=33.2, avg_val_loss=105, avg_val_mae=4.62, batch_nb=0, epoch=27, tng_loss=160.222, v_nb=1]"
     ]
    },
    {
     "name": "stdout",
     "output_type": "stream",
     "text": [
      "G shape: torch.Size([8, 3476, 3476])\n",
      "t: tensor([118,   5,  25,  61,  26,   1,  60,  70]), batch_nb: 1\n"
     ]
    },
    {
     "name": "stderr",
     "output_type": "stream",
     "text": [
      "  8%|▊         | 3/36 [00:09<01:21,  2.48s/it, avg_laplacian_term=71.9, avg_val_fro=33.2, avg_val_loss=105, avg_val_mae=4.62, batch_nb=1, epoch=27, tng_loss=159.954, v_nb=1]"
     ]
    },
    {
     "name": "stdout",
     "output_type": "stream",
     "text": [
      "G shape: torch.Size([8, 3476, 3476])\n",
      "t: tensor([128,  41, 131,  37,  99,  35, 107, 119]), batch_nb: 2\n"
     ]
    },
    {
     "name": "stderr",
     "output_type": "stream",
     "text": [
      " 11%|█         | 4/36 [00:13<01:33,  2.91s/it, avg_laplacian_term=71.9, avg_val_fro=33.2, avg_val_loss=105, avg_val_mae=4.62, batch_nb=2, epoch=27, tng_loss=159.782, v_nb=1]"
     ]
    },
    {
     "name": "stdout",
     "output_type": "stream",
     "text": [
      "G shape: torch.Size([8, 3476, 3476])\n",
      "t: tensor([ 28,  90,  33,  62, 127, 116,  74,  17]), batch_nb: 3\n"
     ]
    },
    {
     "name": "stderr",
     "output_type": "stream",
     "text": [
      " 14%|█▍        | 5/36 [00:16<01:38,  3.18s/it, avg_laplacian_term=71.9, avg_val_fro=33.2, avg_val_loss=105, avg_val_mae=4.62, batch_nb=3, epoch=27, tng_loss=159.558, v_nb=1]"
     ]
    },
    {
     "name": "stdout",
     "output_type": "stream",
     "text": [
      "G shape: torch.Size([8, 3476, 3476])\n",
      "t: tensor([142,  79,  34,  93,  67,  47,  86, 130]), batch_nb: 4\n"
     ]
    },
    {
     "name": "stderr",
     "output_type": "stream",
     "text": [
      " 17%|█▋        | 6/36 [00:20<01:40,  3.36s/it, avg_laplacian_term=71.9, avg_val_fro=33.2, avg_val_loss=105, avg_val_mae=4.62, batch_nb=4, epoch=27, tng_loss=159.398, v_nb=1]"
     ]
    },
    {
     "name": "stdout",
     "output_type": "stream",
     "text": [
      "G shape: torch.Size([8, 3476, 3476])\n",
      "t: tensor([129,  72,  49, 135,  58, 136, 117, 109]), batch_nb: 5\n"
     ]
    },
    {
     "name": "stderr",
     "output_type": "stream",
     "text": [
      " 19%|█▉        | 7/36 [00:24<01:41,  3.49s/it, avg_laplacian_term=71.9, avg_val_fro=33.2, avg_val_loss=105, avg_val_mae=4.62, batch_nb=5, epoch=27, tng_loss=159.290, v_nb=1]"
     ]
    },
    {
     "name": "stdout",
     "output_type": "stream",
     "text": [
      "G shape: torch.Size([8, 3476, 3476])\n",
      "t: tensor([121,  13,  57,  94,  46, 138, 139, 114]), batch_nb: 6\n"
     ]
    },
    {
     "name": "stderr",
     "output_type": "stream",
     "text": [
      " 22%|██▏       | 8/36 [00:28<01:41,  3.61s/it, avg_laplacian_term=71.9, avg_val_fro=33.2, avg_val_loss=105, avg_val_mae=4.62, batch_nb=6, epoch=27, tng_loss=159.191, v_nb=1]"
     ]
    },
    {
     "name": "stdout",
     "output_type": "stream",
     "text": [
      "G shape: torch.Size([8, 3476, 3476])\n",
      "t: tensor([ 29,  19, 115,  40,  14,  56,  84, 132]), batch_nb: 7\n"
     ]
    },
    {
     "name": "stderr",
     "output_type": "stream",
     "text": [
      " 25%|██▌       | 9/36 [00:32<01:37,  3.61s/it, avg_laplacian_term=71.9, avg_val_fro=33.2, avg_val_loss=105, avg_val_mae=4.62, batch_nb=7, epoch=27, tng_loss=159.153, v_nb=1]"
     ]
    },
    {
     "name": "stdout",
     "output_type": "stream",
     "text": [
      "G shape: torch.Size([8, 3476, 3476])\n",
      "t: tensor([ 82,  10,  96,  73,  66,  42,  21, 123]), batch_nb: 8\n"
     ]
    },
    {
     "name": "stderr",
     "output_type": "stream",
     "text": [
      " 28%|██▊       | 10/36 [00:35<01:32,  3.55s/it, avg_laplacian_term=71.9, avg_val_fro=33.2, avg_val_loss=105, avg_val_mae=4.62, batch_nb=8, epoch=27, tng_loss=159.012, v_nb=1]"
     ]
    },
    {
     "name": "stdout",
     "output_type": "stream",
     "text": [
      "G shape: torch.Size([8, 3476, 3476])\n",
      "t: tensor([108,   9,  22,  75, 110,  97,  11,  89]), batch_nb: 9\n"
     ]
    },
    {
     "name": "stderr",
     "output_type": "stream",
     "text": [
      " 31%|███       | 11/36 [00:38<01:27,  3.51s/it, avg_laplacian_term=71.9, avg_val_fro=33.2, avg_val_loss=105, avg_val_mae=4.62, batch_nb=9, epoch=27, tng_loss=158.747, v_nb=1]"
     ]
    },
    {
     "name": "stdout",
     "output_type": "stream",
     "text": [
      "G shape: torch.Size([8, 3476, 3476])\n",
      "t: tensor([  0, 111,  27,  16,   4,  65,  91,  48]), batch_nb: 10\n"
     ]
    },
    {
     "name": "stderr",
     "output_type": "stream",
     "text": [
      " 33%|███▎      | 12/36 [00:42<01:26,  3.61s/it, avg_laplacian_term=71.9, avg_val_fro=33.2, avg_val_loss=105, avg_val_mae=4.62, batch_nb=10, epoch=27, tng_loss=158.592, v_nb=1]"
     ]
    },
    {
     "name": "stdout",
     "output_type": "stream",
     "text": [
      "G shape: torch.Size([8, 3476, 3476])\n",
      "t: tensor([ 20,   8,  63, 133,  43,  69,  18, 104]), batch_nb: 11\n"
     ]
    },
    {
     "name": "stderr",
     "output_type": "stream",
     "text": [
      " 36%|███▌      | 13/36 [00:46<01:24,  3.69s/it, avg_laplacian_term=71.9, avg_val_fro=33.2, avg_val_loss=105, avg_val_mae=4.62, batch_nb=11, epoch=27, tng_loss=158.564, v_nb=1]"
     ]
    },
    {
     "name": "stdout",
     "output_type": "stream",
     "text": [
      "G shape: torch.Size([8, 3476, 3476])\n",
      "t: tensor([112,  53, 103,  87,  80,  36,  98,  24]), batch_nb: 12\n"
     ]
    },
    {
     "name": "stderr",
     "output_type": "stream",
     "text": [
      " 39%|███▉      | 14/36 [00:50<01:25,  3.88s/it, avg_laplacian_term=71.9, avg_val_fro=33.2, avg_val_loss=105, avg_val_mae=4.62, batch_nb=12, epoch=27, tng_loss=158.487, v_nb=1]"
     ]
    },
    {
     "name": "stdout",
     "output_type": "stream",
     "text": [
      "G shape: torch.Size([8, 3476, 3476])\n",
      "t: tensor([  6,  78, 137, 124, 126,  51,   7, 140]), batch_nb: 13\n"
     ]
    },
    {
     "name": "stderr",
     "output_type": "stream",
     "text": [
      " 42%|████▏     | 15/36 [00:54<01:22,  3.93s/it, avg_laplacian_term=71.9, avg_val_fro=33.2, avg_val_loss=105, avg_val_mae=4.62, batch_nb=13, epoch=27, tng_loss=158.353, v_nb=1]"
     ]
    },
    {
     "name": "stdout",
     "output_type": "stream",
     "text": [
      "G shape: torch.Size([8, 3476, 3476])\n",
      "t: tensor([ 50, 106,  71, 120, 125,  64, 102,  83]), batch_nb: 14\n"
     ]
    },
    {
     "name": "stderr",
     "output_type": "stream",
     "text": [
      " 44%|████▍     | 16/36 [00:59<01:20,  4.00s/it, avg_laplacian_term=71.9, avg_val_fro=33.2, avg_val_loss=105, avg_val_mae=4.62, batch_nb=14, epoch=27, tng_loss=158.206, v_nb=1]"
     ]
    },
    {
     "name": "stdout",
     "output_type": "stream",
     "text": [
      "G shape: torch.Size([8, 3476, 3476])\n",
      "t: tensor([ 76,  39, 143,  88,  92,  68,  95,   2]), batch_nb: 15\n"
     ]
    },
    {
     "name": "stderr",
     "output_type": "stream",
     "text": [
      " 47%|████▋     | 17/36 [01:03<01:18,  4.14s/it, avg_laplacian_term=71.9, avg_val_fro=33.2, avg_val_loss=105, avg_val_mae=4.62, batch_nb=15, epoch=27, tng_loss=158.133, v_nb=1]"
     ]
    },
    {
     "name": "stdout",
     "output_type": "stream",
     "text": [
      "G shape: torch.Size([8, 3476, 3476])\n",
      "t: tensor([ 32,  54, 100,  85,  77, 101,  81,  52]), batch_nb: 16\n"
     ]
    },
    {
     "name": "stderr",
     "output_type": "stream",
     "text": [
      "\r",
      " 47%|████▋     | 17/36 [01:06<01:18,  4.14s/it, avg_laplacian_term=71.9, avg_val_fro=33.2, avg_val_loss=105, avg_val_mae=4.62, batch_nb=16, epoch=27, tng_loss=157.988, v_nb=1]"
     ]
    },
    {
     "name": "stdout",
     "output_type": "stream",
     "text": [
      "G shape: torch.Size([8, 3476, 3476])\n",
      "t: tensor([ 53, 126, 138, 127, 134, 120,  30, 119]), batch_nb: 0\n"
     ]
    },
    {
     "name": "stderr",
     "output_type": "stream",
     "text": [
      "\r",
      " 50%|█████     | 18/36 [01:10<01:31,  5.11s/it, avg_laplacian_term=71.9, avg_val_fro=33.2, avg_val_loss=105, avg_val_mae=4.62, batch_nb=16, epoch=27, tng_loss=157.988, v_nb=1]"
     ]
    },
    {
     "name": "stdout",
     "output_type": "stream",
     "text": [
      "G shape: torch.Size([8, 3476, 3476])\n",
      "t: tensor([109, 114,  36,  63,  52, 117,  38,  34]), batch_nb: 1\n"
     ]
    },
    {
     "name": "stderr",
     "output_type": "stream",
     "text": [
      "\r",
      " 53%|█████▎    | 19/36 [01:14<01:18,  4.60s/it, avg_laplacian_term=71.9, avg_val_fro=33.2, avg_val_loss=105, avg_val_mae=4.62, batch_nb=16, epoch=27, tng_loss=157.988, v_nb=1]"
     ]
    },
    {
     "name": "stdout",
     "output_type": "stream",
     "text": [
      "G shape: torch.Size([8, 3476, 3476])\n",
      "t: tensor([131,  44, 140,  86,  82,  49,   3, 128]), batch_nb: 2\n"
     ]
    },
    {
     "name": "stderr",
     "output_type": "stream",
     "text": [
      "\r",
      " 56%|█████▌    | 20/36 [01:17<01:07,  4.21s/it, avg_laplacian_term=71.9, avg_val_fro=33.2, avg_val_loss=105, avg_val_mae=4.62, batch_nb=16, epoch=27, tng_loss=157.988, v_nb=1]"
     ]
    },
    {
     "name": "stdout",
     "output_type": "stream",
     "text": [
      "G shape: torch.Size([8, 3476, 3476])\n",
      "t: tensor([ 31, 101,  96, 104, 100, 103, 143,   8]), batch_nb: 3\n"
     ]
    },
    {
     "name": "stderr",
     "output_type": "stream",
     "text": [
      "\r",
      " 58%|█████▊    | 21/36 [01:21<01:00,  4.01s/it, avg_laplacian_term=71.9, avg_val_fro=33.2, avg_val_loss=105, avg_val_mae=4.62, batch_nb=16, epoch=27, tng_loss=157.988, v_nb=1]"
     ]
    },
    {
     "name": "stdout",
     "output_type": "stream",
     "text": [
      "G shape: torch.Size([8, 3476, 3476])\n",
      "t: tensor([ 11,  24, 116,   7,  20,  81,  71,  89]), batch_nb: 4\n"
     ]
    },
    {
     "name": "stderr",
     "output_type": "stream",
     "text": [
      "\r",
      " 61%|██████    | 22/36 [01:25<00:55,  3.97s/it, avg_laplacian_term=71.9, avg_val_fro=33.2, avg_val_loss=105, avg_val_mae=4.62, batch_nb=16, epoch=27, tng_loss=157.988, v_nb=1]"
     ]
    },
    {
     "name": "stdout",
     "output_type": "stream",
     "text": [
      "G shape: torch.Size([8, 3476, 3476])\n",
      "t: tensor([ 83,  67,  14, 135,  19,  42, 129, 112]), batch_nb: 5\n"
     ]
    },
    {
     "name": "stderr",
     "output_type": "stream",
     "text": [
      "\r",
      " 64%|██████▍   | 23/36 [01:28<00:50,  3.88s/it, avg_laplacian_term=71.9, avg_val_fro=33.2, avg_val_loss=105, avg_val_mae=4.62, batch_nb=16, epoch=27, tng_loss=157.988, v_nb=1]"
     ]
    },
    {
     "name": "stdout",
     "output_type": "stream",
     "text": [
      "G shape: torch.Size([8, 3476, 3476])\n",
      "t: tensor([51, 72, 98,  4, 64, 25, 74, 95]), batch_nb: 6\n"
     ]
    },
    {
     "name": "stderr",
     "output_type": "stream",
     "text": [
      "\r",
      " 67%|██████▋   | 24/36 [01:32<00:46,  3.90s/it, avg_laplacian_term=71.9, avg_val_fro=33.2, avg_val_loss=105, avg_val_mae=4.62, batch_nb=16, epoch=27, tng_loss=157.988, v_nb=1]"
     ]
    },
    {
     "name": "stdout",
     "output_type": "stream",
     "text": [
      "G shape: torch.Size([8, 3476, 3476])\n",
      "t: tensor([102,  90,  59,  66,  91, 130,  46, 139]), batch_nb: 7\n"
     ]
    },
    {
     "name": "stderr",
     "output_type": "stream",
     "text": [
      "\r",
      " 69%|██████▉   | 25/36 [01:36<00:42,  3.85s/it, avg_laplacian_term=71.9, avg_val_fro=33.2, avg_val_loss=105, avg_val_mae=4.62, batch_nb=16, epoch=27, tng_loss=157.988, v_nb=1]"
     ]
    },
    {
     "name": "stdout",
     "output_type": "stream",
     "text": [
      "G shape: torch.Size([8, 3476, 3476])\n",
      "t: tensor([43, 48, 28, 65, 54, 58, 68,  0]), batch_nb: 8\n"
     ]
    },
    {
     "name": "stderr",
     "output_type": "stream",
     "text": [
      "\r",
      " 72%|███████▏  | 26/36 [01:40<00:38,  3.81s/it, avg_laplacian_term=71.9, avg_val_fro=33.2, avg_val_loss=105, avg_val_mae=4.62, batch_nb=16, epoch=27, tng_loss=157.988, v_nb=1]"
     ]
    },
    {
     "name": "stdout",
     "output_type": "stream",
     "text": [
      "G shape: torch.Size([8, 3476, 3476])\n",
      "t: tensor([110,  45,  27,  84,   9,  26, 132, 142]), batch_nb: 9\n"
     ]
    },
    {
     "name": "stderr",
     "output_type": "stream",
     "text": [
      "\r",
      " 75%|███████▌  | 27/36 [01:44<00:34,  3.84s/it, avg_laplacian_term=71.9, avg_val_fro=33.2, avg_val_loss=105, avg_val_mae=4.62, batch_nb=16, epoch=27, tng_loss=157.988, v_nb=1]"
     ]
    },
    {
     "name": "stdout",
     "output_type": "stream",
     "text": [
      "G shape: torch.Size([8, 3476, 3476])\n",
      "t: tensor([125, 113,  94, 137,  85, 106,  78,  57]), batch_nb: 10\n"
     ]
    },
    {
     "name": "stderr",
     "output_type": "stream",
     "text": [
      "\r",
      " 78%|███████▊  | 28/36 [01:47<00:30,  3.83s/it, avg_laplacian_term=71.9, avg_val_fro=33.2, avg_val_loss=105, avg_val_mae=4.62, batch_nb=16, epoch=27, tng_loss=157.988, v_nb=1]"
     ]
    },
    {
     "name": "stdout",
     "output_type": "stream",
     "text": [
      "G shape: torch.Size([8, 3476, 3476])\n",
      "t: tensor([ 15,  50,  35,  62,  40,  41, 105, 107]), batch_nb: 11\n"
     ]
    },
    {
     "name": "stderr",
     "output_type": "stream",
     "text": [
      "\r",
      " 81%|████████  | 29/36 [01:51<00:26,  3.81s/it, avg_laplacian_term=71.9, avg_val_fro=33.2, avg_val_loss=105, avg_val_mae=4.62, batch_nb=16, epoch=27, tng_loss=157.988, v_nb=1]"
     ]
    },
    {
     "name": "stdout",
     "output_type": "stream",
     "text": [
      "G shape: torch.Size([8, 3476, 3476])\n",
      "t: tensor([ 39,  80,  77,  73, 111,  37,  22,  18]), batch_nb: 12\n"
     ]
    },
    {
     "name": "stderr",
     "output_type": "stream",
     "text": [
      "\r",
      " 83%|████████▎ | 30/36 [01:55<00:22,  3.76s/it, avg_laplacian_term=71.9, avg_val_fro=33.2, avg_val_loss=105, avg_val_mae=4.62, batch_nb=16, epoch=27, tng_loss=157.988, v_nb=1]"
     ]
    },
    {
     "name": "stdout",
     "output_type": "stream",
     "text": [
      "G shape: torch.Size([8, 3476, 3476])\n",
      "t: tensor([ 47,  23,  75, 108, 141,  56, 136, 122]), batch_nb: 13\n"
     ]
    },
    {
     "name": "stderr",
     "output_type": "stream",
     "text": [
      "\r",
      " 86%|████████▌ | 31/36 [01:59<00:19,  3.86s/it, avg_laplacian_term=71.9, avg_val_fro=33.2, avg_val_loss=105, avg_val_mae=4.62, batch_nb=16, epoch=27, tng_loss=157.988, v_nb=1]"
     ]
    },
    {
     "name": "stdout",
     "output_type": "stream",
     "text": [
      "G shape: torch.Size([8, 3476, 3476])\n",
      "t: tensor([118,  29,   6,   2,  55,  69, 121,  93]), batch_nb: 14\n"
     ]
    },
    {
     "name": "stderr",
     "output_type": "stream",
     "text": [
      "\r",
      " 89%|████████▉ | 32/36 [02:03<00:15,  3.91s/it, avg_laplacian_term=71.9, avg_val_fro=33.2, avg_val_loss=105, avg_val_mae=4.62, batch_nb=16, epoch=27, tng_loss=157.988, v_nb=1]"
     ]
    },
    {
     "name": "stdout",
     "output_type": "stream",
     "text": [
      "G shape: torch.Size([8, 3476, 3476])\n",
      "t: tensor([ 5, 12, 97, 76, 79, 13, 10, 32]), batch_nb: 15\n"
     ]
    },
    {
     "name": "stderr",
     "output_type": "stream",
     "text": [
      "\r",
      " 92%|█████████▏| 33/36 [02:07<00:11,  3.86s/it, avg_laplacian_term=71.9, avg_val_fro=33.2, avg_val_loss=105, avg_val_mae=4.62, batch_nb=16, epoch=27, tng_loss=157.988, v_nb=1]"
     ]
    },
    {
     "name": "stdout",
     "output_type": "stream",
     "text": [
      "G shape: torch.Size([8, 3476, 3476])\n",
      "t: tensor([124,  99,  88,  17, 115,  60,  16, 123]), batch_nb: 16\n"
     ]
    },
    {
     "name": "stderr",
     "output_type": "stream",
     "text": [
      "\r",
      " 94%|█████████▍| 34/36 [02:10<00:07,  3.83s/it, avg_laplacian_term=71.9, avg_val_fro=33.2, avg_val_loss=105, avg_val_mae=4.62, batch_nb=16, epoch=27, tng_loss=157.988, v_nb=1]"
     ]
    },
    {
     "name": "stdout",
     "output_type": "stream",
     "text": [
      "G shape: torch.Size([8, 3476, 3476])\n",
      "t: tensor([ 61,  92,  70,  87,   1, 133,  33,  21]), batch_nb: 17\n"
     ]
    },
    {
     "name": "stderr",
     "output_type": "stream",
     "text": [
      "100%|██████████| 36/36 [02:14<00:00,  2.77s/it, avg_laplacian_term=71, avg_val_fro=32.9, avg_val_loss=104, avg_val_mae=4.61, batch_nb=16, epoch=27, tng_loss=157.988, v_nb=1]  "
     ]
    },
    {
     "name": "stdout",
     "output_type": "stream",
     "text": [
      "G shape: torch.Size([8, 3476, 3476])\n",
      "t: tensor([ 55, 134,  59,  15,  45,  44,  38,   3]), batch_nb: 17\n"
     ]
    },
    {
     "name": "stderr",
     "output_type": "stream",
     "text": [
      "  3%|▎         | 1/36 [00:00<00:13,  2.50it/s], avg_laplacian_term=71, avg_val_fro=32.9, avg_val_loss=104, avg_val_mae=4.61, batch_nb=17, epoch=27, tng_loss=158.067, v_nb=1]"
     ]
    },
    {
     "name": "stdout",
     "output_type": "stream",
     "text": [
      "G shape: torch.Size([8, 3476, 3476])\n",
      "t: tensor([ 27,  78, 100, 119, 112, 131,  85,  67]), batch_nb: 0\n"
     ]
    },
    {
     "name": "stderr",
     "output_type": "stream",
     "text": [
      "  6%|▌         | 2/36 [00:04<00:48,  1.44s/it, avg_laplacian_term=71, avg_val_fro=32.9, avg_val_loss=104, avg_val_mae=4.61, batch_nb=0, epoch=28, tng_loss=157.977, v_nb=1]"
     ]
    },
    {
     "name": "stdout",
     "output_type": "stream",
     "text": [
      "G shape: torch.Size([8, 3476, 3476])\n",
      "t: tensor([ 93,  26,  33,  32,  37,  23,  21, 133]), batch_nb: 1\n"
     ]
    },
    {
     "name": "stderr",
     "output_type": "stream",
     "text": [
      "  8%|▊         | 3/36 [00:07<01:04,  1.96s/it, avg_laplacian_term=71, avg_val_fro=32.9, avg_val_loss=104, avg_val_mae=4.61, batch_nb=1, epoch=28, tng_loss=157.740, v_nb=1]"
     ]
    },
    {
     "name": "stdout",
     "output_type": "stream",
     "text": [
      "G shape: torch.Size([8, 3476, 3476])\n",
      "t: tensor([ 91,  30,  17, 102,  59, 122,  28, 114]), batch_nb: 2\n"
     ]
    },
    {
     "name": "stderr",
     "output_type": "stream",
     "text": [
      " 11%|█         | 4/36 [00:10<01:15,  2.36s/it, avg_laplacian_term=71, avg_val_fro=32.9, avg_val_loss=104, avg_val_mae=4.61, batch_nb=2, epoch=28, tng_loss=157.617, v_nb=1]"
     ]
    },
    {
     "name": "stdout",
     "output_type": "stream",
     "text": [
      "G shape: torch.Size([8, 3476, 3476])\n",
      "t: tensor([ 39, 109, 113,  44,  65,  25,  97, 129]), batch_nb: 3\n"
     ]
    },
    {
     "name": "stderr",
     "output_type": "stream",
     "text": [
      " 14%|█▍        | 5/36 [00:14<01:25,  2.77s/it, avg_laplacian_term=71, avg_val_fro=32.9, avg_val_loss=104, avg_val_mae=4.61, batch_nb=3, epoch=28, tng_loss=157.540, v_nb=1]"
     ]
    },
    {
     "name": "stdout",
     "output_type": "stream",
     "text": [
      "G shape: torch.Size([8, 3476, 3476])\n",
      "t: tensor([ 16,  19, 139,  88,  22,  87,  68,  90]), batch_nb: 4\n"
     ]
    },
    {
     "name": "stderr",
     "output_type": "stream",
     "text": [
      " 17%|█▋        | 6/36 [00:18<01:33,  3.11s/it, avg_laplacian_term=71, avg_val_fro=32.9, avg_val_loss=104, avg_val_mae=4.61, batch_nb=4, epoch=28, tng_loss=157.480, v_nb=1]"
     ]
    },
    {
     "name": "stdout",
     "output_type": "stream",
     "text": [
      "G shape: torch.Size([8, 3476, 3476])\n",
      "t: tensor([  8, 101,  83,  24,  72,  98,  71,  66]), batch_nb: 5\n"
     ]
    },
    {
     "name": "stderr",
     "output_type": "stream",
     "text": [
      " 19%|█▉        | 7/36 [00:22<01:35,  3.30s/it, avg_laplacian_term=71, avg_val_fro=32.9, avg_val_loss=104, avg_val_mae=4.61, batch_nb=5, epoch=28, tng_loss=157.241, v_nb=1]"
     ]
    },
    {
     "name": "stdout",
     "output_type": "stream",
     "text": [
      "G shape: torch.Size([8, 3476, 3476])\n",
      "t: tensor([ 46, 126, 140,  52,  76,   1,  77, 125]), batch_nb: 6\n"
     ]
    },
    {
     "name": "stderr",
     "output_type": "stream",
     "text": [
      " 22%|██▏       | 8/36 [00:26<01:37,  3.49s/it, avg_laplacian_term=71, avg_val_fro=32.9, avg_val_loss=104, avg_val_mae=4.61, batch_nb=6, epoch=28, tng_loss=156.963, v_nb=1]"
     ]
    },
    {
     "name": "stdout",
     "output_type": "stream",
     "text": [
      "G shape: torch.Size([8, 3476, 3476])\n",
      "t: tensor([ 92, 124,  64,  82,  70, 132,  86,  12]), batch_nb: 7\n"
     ]
    },
    {
     "name": "stderr",
     "output_type": "stream",
     "text": [
      " 25%|██▌       | 9/36 [00:29<01:37,  3.62s/it, avg_laplacian_term=71, avg_val_fro=32.9, avg_val_loss=104, avg_val_mae=4.61, batch_nb=7, epoch=28, tng_loss=156.893, v_nb=1]"
     ]
    },
    {
     "name": "stdout",
     "output_type": "stream",
     "text": [
      "G shape: torch.Size([8, 3476, 3476])\n",
      "t: tensor([130, 118, 110,  34,  56, 111,  61, 137]), batch_nb: 8\n"
     ]
    },
    {
     "name": "stderr",
     "output_type": "stream",
     "text": [
      " 28%|██▊       | 10/36 [00:34<01:38,  3.80s/it, avg_laplacian_term=71, avg_val_fro=32.9, avg_val_loss=104, avg_val_mae=4.61, batch_nb=8, epoch=28, tng_loss=156.830, v_nb=1]"
     ]
    },
    {
     "name": "stdout",
     "output_type": "stream",
     "text": [
      "G shape: torch.Size([8, 3476, 3476])\n",
      "t: tensor([ 40,  53,   3,  84, 141,  75, 116,  45]), batch_nb: 9\n"
     ]
    },
    {
     "name": "stderr",
     "output_type": "stream",
     "text": [
      " 31%|███       | 11/36 [00:37<01:32,  3.71s/it, avg_laplacian_term=71, avg_val_fro=32.9, avg_val_loss=104, avg_val_mae=4.61, batch_nb=9, epoch=28, tng_loss=156.716, v_nb=1]"
     ]
    },
    {
     "name": "stdout",
     "output_type": "stream",
     "text": [
      "G shape: torch.Size([8, 3476, 3476])\n",
      "t: tensor([ 18,  63,   7,  60,   2, 115,  99,   5]), batch_nb: 10\n"
     ]
    },
    {
     "name": "stderr",
     "output_type": "stream",
     "text": [
      " 33%|███▎      | 12/36 [00:41<01:29,  3.75s/it, avg_laplacian_term=71, avg_val_fro=32.9, avg_val_loss=104, avg_val_mae=4.61, batch_nb=10, epoch=28, tng_loss=156.720, v_nb=1]"
     ]
    },
    {
     "name": "stdout",
     "output_type": "stream",
     "text": [
      "G shape: torch.Size([8, 3476, 3476])\n",
      "t: tensor([ 95,  54, 107, 142,  10, 117, 143, 134]), batch_nb: 11\n"
     ]
    },
    {
     "name": "stderr",
     "output_type": "stream",
     "text": [
      " 36%|███▌      | 13/36 [00:45<01:26,  3.78s/it, avg_laplacian_term=71, avg_val_fro=32.9, avg_val_loss=104, avg_val_mae=4.61, batch_nb=11, epoch=28, tng_loss=156.699, v_nb=1]"
     ]
    },
    {
     "name": "stdout",
     "output_type": "stream",
     "text": [
      "G shape: torch.Size([8, 3476, 3476])\n",
      "t: tensor([ 20,  96,  50, 105,  35, 120,  74,  38]), batch_nb: 12\n"
     ]
    },
    {
     "name": "stderr",
     "output_type": "stream",
     "text": [
      " 39%|███▉      | 14/36 [00:49<01:22,  3.77s/it, avg_laplacian_term=71, avg_val_fro=32.9, avg_val_loss=104, avg_val_mae=4.61, batch_nb=12, epoch=28, tng_loss=156.400, v_nb=1]"
     ]
    },
    {
     "name": "stdout",
     "output_type": "stream",
     "text": [
      "G shape: torch.Size([8, 3476, 3476])\n",
      "t: tensor([ 31,  89,  14, 108,   0,  62,  42, 136]), batch_nb: 13\n"
     ]
    },
    {
     "name": "stderr",
     "output_type": "stream",
     "text": [
      " 42%|████▏     | 15/36 [00:52<01:19,  3.77s/it, avg_laplacian_term=71, avg_val_fro=32.9, avg_val_loss=104, avg_val_mae=4.61, batch_nb=13, epoch=28, tng_loss=156.247, v_nb=1]"
     ]
    },
    {
     "name": "stdout",
     "output_type": "stream",
     "text": [
      "G shape: torch.Size([8, 3476, 3476])\n",
      "t: tensor([127,  47,  94,  36,  69, 128,  57, 135]), batch_nb: 14\n"
     ]
    },
    {
     "name": "stderr",
     "output_type": "stream",
     "text": [
      " 44%|████▍     | 16/36 [00:56<01:16,  3.81s/it, avg_laplacian_term=71, avg_val_fro=32.9, avg_val_loss=104, avg_val_mae=4.61, batch_nb=14, epoch=28, tng_loss=156.016, v_nb=1]"
     ]
    },
    {
     "name": "stdout",
     "output_type": "stream",
     "text": [
      "G shape: torch.Size([8, 3476, 3476])\n",
      "t: tensor([ 51,  79,  48,   6, 103, 104,  80,   4]), batch_nb: 15\n"
     ]
    },
    {
     "name": "stderr",
     "output_type": "stream",
     "text": [
      " 47%|████▋     | 17/36 [01:00<01:13,  3.88s/it, avg_laplacian_term=71, avg_val_fro=32.9, avg_val_loss=104, avg_val_mae=4.61, batch_nb=15, epoch=28, tng_loss=155.969, v_nb=1]"
     ]
    },
    {
     "name": "stdout",
     "output_type": "stream",
     "text": [
      "G shape: torch.Size([8, 3476, 3476])\n",
      "t: tensor([123,  81,  49,   9, 121, 106,  15,  11]), batch_nb: 16\n"
     ]
    },
    {
     "name": "stderr",
     "output_type": "stream",
     "text": [
      "\r",
      " 47%|████▋     | 17/36 [01:04<01:13,  3.88s/it, avg_laplacian_term=71, avg_val_fro=32.9, avg_val_loss=104, avg_val_mae=4.61, batch_nb=16, epoch=28, tng_loss=155.839, v_nb=1]"
     ]
    },
    {
     "name": "stdout",
     "output_type": "stream",
     "text": [
      "G shape: torch.Size([8, 3476, 3476])\n",
      "t: tensor([ 54,  48,  37, 117,  58,  16,  91, 143]), batch_nb: 0\n"
     ]
    },
    {
     "name": "stderr",
     "output_type": "stream",
     "text": [
      "\r",
      " 50%|█████     | 18/36 [01:08<01:29,  4.98s/it, avg_laplacian_term=71, avg_val_fro=32.9, avg_val_loss=104, avg_val_mae=4.61, batch_nb=16, epoch=28, tng_loss=155.839, v_nb=1]"
     ]
    },
    {
     "name": "stdout",
     "output_type": "stream",
     "text": [
      "G shape: torch.Size([8, 3476, 3476])\n",
      "t: tensor([103,  88, 126,  38,  22, 142,  51,  94]), batch_nb: 1\n"
     ]
    },
    {
     "name": "stderr",
     "output_type": "stream",
     "text": [
      "\r",
      " 53%|█████▎    | 19/36 [01:12<01:17,  4.59s/it, avg_laplacian_term=71, avg_val_fro=32.9, avg_val_loss=104, avg_val_mae=4.61, batch_nb=16, epoch=28, tng_loss=155.839, v_nb=1]"
     ]
    },
    {
     "name": "stdout",
     "output_type": "stream",
     "text": [
      "G shape: torch.Size([8, 3476, 3476])\n",
      "t: tensor([ 86, 139,  28,  85,  30,   9,  15, 111]), batch_nb: 2\n"
     ]
    },
    {
     "name": "stderr",
     "output_type": "stream",
     "text": [
      "\r",
      " 56%|█████▌    | 20/36 [01:16<01:11,  4.46s/it, avg_laplacian_term=71, avg_val_fro=32.9, avg_val_loss=104, avg_val_mae=4.61, batch_nb=16, epoch=28, tng_loss=155.839, v_nb=1]"
     ]
    },
    {
     "name": "stdout",
     "output_type": "stream",
     "text": [
      "G shape: torch.Size([8, 3476, 3476])\n",
      "t: tensor([64, 72, 89, 78, 70, 12, 26, 80]), batch_nb: 3\n"
     ]
    },
    {
     "name": "stderr",
     "output_type": "stream",
     "text": [
      "\r",
      " 58%|█████▊    | 21/36 [01:20<01:04,  4.28s/it, avg_laplacian_term=71, avg_val_fro=32.9, avg_val_loss=104, avg_val_mae=4.61, batch_nb=16, epoch=28, tng_loss=155.839, v_nb=1]"
     ]
    },
    {
     "name": "stdout",
     "output_type": "stream",
     "text": [
      "G shape: torch.Size([8, 3476, 3476])\n",
      "t: tensor([ 56,  95, 101,  75, 109,  35, 133,  17]), batch_nb: 4\n"
     ]
    },
    {
     "name": "stderr",
     "output_type": "stream",
     "text": [
      "\r",
      " 61%|██████    | 22/36 [01:23<00:57,  4.11s/it, avg_laplacian_term=71, avg_val_fro=32.9, avg_val_loss=104, avg_val_mae=4.61, batch_nb=16, epoch=28, tng_loss=155.839, v_nb=1]"
     ]
    },
    {
     "name": "stdout",
     "output_type": "stream",
     "text": [
      "G shape: torch.Size([8, 3476, 3476])\n",
      "t: tensor([108, 130,  53, 127,  45,  79,  90,  10]), batch_nb: 5\n"
     ]
    },
    {
     "name": "stderr",
     "output_type": "stream",
     "text": [
      "\r",
      " 64%|██████▍   | 23/36 [01:27<00:52,  4.02s/it, avg_laplacian_term=71, avg_val_fro=32.9, avg_val_loss=104, avg_val_mae=4.61, batch_nb=16, epoch=28, tng_loss=155.839, v_nb=1]"
     ]
    },
    {
     "name": "stdout",
     "output_type": "stream",
     "text": [
      "G shape: torch.Size([8, 3476, 3476])\n",
      "t: tensor([129,  47,  18,  73,  77, 104, 110,   6]), batch_nb: 6\n"
     ]
    },
    {
     "name": "stderr",
     "output_type": "stream",
     "text": [
      "\r",
      " 67%|██████▋   | 24/36 [01:31<00:47,  3.93s/it, avg_laplacian_term=71, avg_val_fro=32.9, avg_val_loss=104, avg_val_mae=4.61, batch_nb=16, epoch=28, tng_loss=155.839, v_nb=1]"
     ]
    },
    {
     "name": "stdout",
     "output_type": "stream",
     "text": [
      "G shape: torch.Size([8, 3476, 3476])\n",
      "t: tensor([120,  84, 132,   2,  11,  39,  13,  98]), batch_nb: 7\n"
     ]
    },
    {
     "name": "stderr",
     "output_type": "stream",
     "text": [
      "\r",
      " 69%|██████▉   | 25/36 [01:34<00:42,  3.83s/it, avg_laplacian_term=71, avg_val_fro=32.9, avg_val_loss=104, avg_val_mae=4.61, batch_nb=16, epoch=28, tng_loss=155.839, v_nb=1]"
     ]
    },
    {
     "name": "stdout",
     "output_type": "stream",
     "text": [
      "G shape: torch.Size([8, 3476, 3476])\n",
      "t: tensor([ 65,  71,   5,  33,  60,  25,  66, 125]), batch_nb: 8\n"
     ]
    },
    {
     "name": "stderr",
     "output_type": "stream",
     "text": [
      "\r",
      " 72%|███████▏  | 26/36 [01:38<00:36,  3.67s/it, avg_laplacian_term=71, avg_val_fro=32.9, avg_val_loss=104, avg_val_mae=4.61, batch_nb=16, epoch=28, tng_loss=155.839, v_nb=1]"
     ]
    },
    {
     "name": "stdout",
     "output_type": "stream",
     "text": [
      "G shape: torch.Size([8, 3476, 3476])\n",
      "t: tensor([ 55,  32,  20,  40,   3, 136,  19,  14]), batch_nb: 9\n"
     ]
    },
    {
     "name": "stderr",
     "output_type": "stream",
     "text": [
      "\r",
      " 75%|███████▌  | 27/36 [01:41<00:32,  3.66s/it, avg_laplacian_term=71, avg_val_fro=32.9, avg_val_loss=104, avg_val_mae=4.61, batch_nb=16, epoch=28, tng_loss=155.839, v_nb=1]"
     ]
    },
    {
     "name": "stdout",
     "output_type": "stream",
     "text": [
      "G shape: torch.Size([8, 3476, 3476])\n",
      "t: tensor([  7, 118,  63,  69,  97, 115, 128, 107]), batch_nb: 10\n"
     ]
    },
    {
     "name": "stderr",
     "output_type": "stream",
     "text": [
      "\r",
      " 78%|███████▊  | 28/36 [01:45<00:28,  3.62s/it, avg_laplacian_term=71, avg_val_fro=32.9, avg_val_loss=104, avg_val_mae=4.61, batch_nb=16, epoch=28, tng_loss=155.839, v_nb=1]"
     ]
    },
    {
     "name": "stdout",
     "output_type": "stream",
     "text": [
      "G shape: torch.Size([8, 3476, 3476])\n",
      "t: tensor([106, 131,  23,  27,  24, 100,  44,  83]), batch_nb: 11\n"
     ]
    },
    {
     "name": "stderr",
     "output_type": "stream",
     "text": [
      "\r",
      " 81%|████████  | 29/36 [01:49<00:25,  3.69s/it, avg_laplacian_term=71, avg_val_fro=32.9, avg_val_loss=104, avg_val_mae=4.61, batch_nb=16, epoch=28, tng_loss=155.839, v_nb=1]"
     ]
    },
    {
     "name": "stdout",
     "output_type": "stream",
     "text": [
      "G shape: torch.Size([8, 3476, 3476])\n",
      "t: tensor([ 81,   8,  29, 113,  68, 134,  49,  57]), batch_nb: 12\n"
     ]
    },
    {
     "name": "stderr",
     "output_type": "stream",
     "text": [
      "\r",
      " 83%|████████▎ | 30/36 [01:53<00:22,  3.74s/it, avg_laplacian_term=71, avg_val_fro=32.9, avg_val_loss=104, avg_val_mae=4.61, batch_nb=16, epoch=28, tng_loss=155.839, v_nb=1]"
     ]
    },
    {
     "name": "stdout",
     "output_type": "stream",
     "text": [
      "G shape: torch.Size([8, 3476, 3476])\n",
      "t: tensor([119, 114, 112, 123,  62,   0,  87, 141]), batch_nb: 13\n"
     ]
    },
    {
     "name": "stderr",
     "output_type": "stream",
     "text": [
      "\r",
      " 86%|████████▌ | 31/36 [01:56<00:18,  3.71s/it, avg_laplacian_term=71, avg_val_fro=32.9, avg_val_loss=104, avg_val_mae=4.61, batch_nb=16, epoch=28, tng_loss=155.839, v_nb=1]"
     ]
    },
    {
     "name": "stdout",
     "output_type": "stream",
     "text": [
      "G shape: torch.Size([8, 3476, 3476])\n",
      "t: tensor([105, 124, 140, 135,  31,  21,  61,  99]), batch_nb: 14\n"
     ]
    },
    {
     "name": "stderr",
     "output_type": "stream",
     "text": [
      "\r",
      " 89%|████████▉ | 32/36 [02:00<00:15,  3.82s/it, avg_laplacian_term=71, avg_val_fro=32.9, avg_val_loss=104, avg_val_mae=4.61, batch_nb=16, epoch=28, tng_loss=155.839, v_nb=1]"
     ]
    },
    {
     "name": "stdout",
     "output_type": "stream",
     "text": [
      "G shape: torch.Size([8, 3476, 3476])\n",
      "t: tensor([ 67,  41,  74,  59, 116, 121,  96, 137]), batch_nb: 15\n"
     ]
    },
    {
     "name": "stderr",
     "output_type": "stream",
     "text": [
      "\r",
      " 92%|█████████▏| 33/36 [02:04<00:11,  3.76s/it, avg_laplacian_term=71, avg_val_fro=32.9, avg_val_loss=104, avg_val_mae=4.61, batch_nb=16, epoch=28, tng_loss=155.839, v_nb=1]"
     ]
    },
    {
     "name": "stdout",
     "output_type": "stream",
     "text": [
      "G shape: torch.Size([8, 3476, 3476])\n",
      "t: tensor([ 34, 102,  76, 122,  42, 138,  82,  46]), batch_nb: 16\n"
     ]
    },
    {
     "name": "stderr",
     "output_type": "stream",
     "text": [
      "\r",
      " 94%|█████████▍| 34/36 [02:08<00:07,  3.77s/it, avg_laplacian_term=71, avg_val_fro=32.9, avg_val_loss=104, avg_val_mae=4.61, batch_nb=16, epoch=28, tng_loss=155.839, v_nb=1]"
     ]
    },
    {
     "name": "stdout",
     "output_type": "stream",
     "text": [
      "G shape: torch.Size([8, 3476, 3476])\n",
      "t: tensor([93, 92, 50, 52,  4, 36,  1, 43]), batch_nb: 17\n"
     ]
    },
    {
     "name": "stderr",
     "output_type": "stream",
     "text": [
      "100%|██████████| 36/36 [02:12<00:00,  2.77s/it, avg_laplacian_term=70.1, avg_val_fro=32.6, avg_val_loss=103, avg_val_mae=4.57, batch_nb=16, epoch=28, tng_loss=155.839, v_nb=1]"
     ]
    },
    {
     "name": "stdout",
     "output_type": "stream",
     "text": [
      "G shape: torch.Size([8, 3476, 3476])\n",
      "t: tensor([ 29,  13,  55,  58,  41, 138,  73,  43]), batch_nb: 17\n"
     ]
    },
    {
     "name": "stderr",
     "output_type": "stream",
     "text": [
      "  3%|▎         | 1/36 [00:00<00:13,  2.57it/s], avg_laplacian_term=70.1, avg_val_fro=32.6, avg_val_loss=103, avg_val_mae=4.57, batch_nb=17, epoch=28, tng_loss=155.729, v_nb=1]"
     ]
    },
    {
     "name": "stdout",
     "output_type": "stream",
     "text": [
      "G shape: torch.Size([8, 3476, 3476])\n",
      "t: tensor([ 93,  40,  29,  54,  36,  91,  83, 136]), batch_nb: 0\n"
     ]
    },
    {
     "name": "stderr",
     "output_type": "stream",
     "text": [
      "  6%|▌         | 2/36 [00:04<00:52,  1.54s/it, avg_laplacian_term=70.1, avg_val_fro=32.6, avg_val_loss=103, avg_val_mae=4.57, batch_nb=0, epoch=29, tng_loss=155.755, v_nb=1]"
     ]
    },
    {
     "name": "stdout",
     "output_type": "stream",
     "text": [
      "G shape: torch.Size([8, 3476, 3476])\n",
      "t: tensor([ 71, 100, 113, 131,  21,   1,  70,  96]), batch_nb: 1\n"
     ]
    },
    {
     "name": "stderr",
     "output_type": "stream",
     "text": [
      "  8%|▊         | 3/36 [00:08<01:14,  2.27s/it, avg_laplacian_term=70.1, avg_val_fro=32.6, avg_val_loss=103, avg_val_mae=4.57, batch_nb=1, epoch=29, tng_loss=155.490, v_nb=1]"
     ]
    },
    {
     "name": "stdout",
     "output_type": "stream",
     "text": [
      "G shape: torch.Size([8, 3476, 3476])\n",
      "t: tensor([ 10,  39, 127, 143,   8,  59,  22, 137]), batch_nb: 2\n"
     ]
    },
    {
     "name": "stderr",
     "output_type": "stream",
     "text": [
      " 11%|█         | 4/36 [00:12<01:28,  2.75s/it, avg_laplacian_term=70.1, avg_val_fro=32.6, avg_val_loss=103, avg_val_mae=4.57, batch_nb=2, epoch=29, tng_loss=155.521, v_nb=1]"
     ]
    },
    {
     "name": "stdout",
     "output_type": "stream",
     "text": [
      "G shape: torch.Size([8, 3476, 3476])\n",
      "t: tensor([ 28, 124,   6,  63,  79,  99,  78,  31]), batch_nb: 3\n"
     ]
    },
    {
     "name": "stderr",
     "output_type": "stream",
     "text": [
      " 14%|█▍        | 5/36 [00:16<01:35,  3.09s/it, avg_laplacian_term=70.1, avg_val_fro=32.6, avg_val_loss=103, avg_val_mae=4.57, batch_nb=3, epoch=29, tng_loss=155.545, v_nb=1]"
     ]
    },
    {
     "name": "stdout",
     "output_type": "stream",
     "text": [
      "G shape: torch.Size([8, 3476, 3476])\n",
      "t: tensor([111, 126,  98,  80,  27, 107,  73,  15]), batch_nb: 4\n"
     ]
    },
    {
     "name": "stderr",
     "output_type": "stream",
     "text": [
      " 17%|█▋        | 6/36 [00:20<01:38,  3.30s/it, avg_laplacian_term=70.1, avg_val_fro=32.6, avg_val_loss=103, avg_val_mae=4.57, batch_nb=4, epoch=29, tng_loss=155.437, v_nb=1]"
     ]
    },
    {
     "name": "stdout",
     "output_type": "stream",
     "text": [
      "G shape: torch.Size([8, 3476, 3476])\n",
      "t: tensor([ 81, 133,  19, 134,  51,  61,  67, 141]), batch_nb: 5\n"
     ]
    },
    {
     "name": "stderr",
     "output_type": "stream",
     "text": [
      " 19%|█▉        | 7/36 [00:23<01:37,  3.36s/it, avg_laplacian_term=70.1, avg_val_fro=32.6, avg_val_loss=103, avg_val_mae=4.57, batch_nb=5, epoch=29, tng_loss=155.397, v_nb=1]"
     ]
    },
    {
     "name": "stdout",
     "output_type": "stream",
     "text": [
      "G shape: torch.Size([8, 3476, 3476])\n",
      "t: tensor([ 47, 128,  92, 140,  37,  55, 106, 120]), batch_nb: 6\n"
     ]
    },
    {
     "name": "stderr",
     "output_type": "stream",
     "text": [
      " 22%|██▏       | 8/36 [00:27<01:37,  3.49s/it, avg_laplacian_term=70.1, avg_val_fro=32.6, avg_val_loss=103, avg_val_mae=4.57, batch_nb=6, epoch=29, tng_loss=155.261, v_nb=1]"
     ]
    },
    {
     "name": "stdout",
     "output_type": "stream",
     "text": [
      "G shape: torch.Size([8, 3476, 3476])\n",
      "t: tensor([ 84,  64,   2,  13, 118,  44,   3,  34]), batch_nb: 7\n"
     ]
    },
    {
     "name": "stderr",
     "output_type": "stream",
     "text": [
      " 25%|██▌       | 9/36 [00:31<01:37,  3.61s/it, avg_laplacian_term=70.1, avg_val_fro=32.6, avg_val_loss=103, avg_val_mae=4.57, batch_nb=7, epoch=29, tng_loss=155.152, v_nb=1]"
     ]
    },
    {
     "name": "stdout",
     "output_type": "stream",
     "text": [
      "G shape: torch.Size([8, 3476, 3476])\n",
      "t: tensor([ 89,  38,  43,  82,  56,  60, 117, 130]), batch_nb: 8\n"
     ]
    },
    {
     "name": "stderr",
     "output_type": "stream",
     "text": [
      " 28%|██▊       | 10/36 [00:35<01:35,  3.68s/it, avg_laplacian_term=70.1, avg_val_fro=32.6, avg_val_loss=103, avg_val_mae=4.57, batch_nb=8, epoch=29, tng_loss=155.002, v_nb=1]"
     ]
    },
    {
     "name": "stdout",
     "output_type": "stream",
     "text": [
      "G shape: torch.Size([8, 3476, 3476])\n",
      "t: tensor([ 49, 121, 110,  24, 132,  45,  66, 105]), batch_nb: 9\n"
     ]
    },
    {
     "name": "stderr",
     "output_type": "stream",
     "text": [
      " 31%|███       | 11/36 [00:38<01:32,  3.70s/it, avg_laplacian_term=70.1, avg_val_fro=32.6, avg_val_loss=103, avg_val_mae=4.57, batch_nb=9, epoch=29, tng_loss=154.722, v_nb=1]"
     ]
    },
    {
     "name": "stdout",
     "output_type": "stream",
     "text": [
      "G shape: torch.Size([8, 3476, 3476])\n",
      "t: tensor([ 46,  75, 125,  14,   5, 138,   9,  58]), batch_nb: 10\n"
     ]
    },
    {
     "name": "stderr",
     "output_type": "stream",
     "text": [
      " 33%|███▎      | 12/36 [00:42<01:29,  3.73s/it, avg_laplacian_term=70.1, avg_val_fro=32.6, avg_val_loss=103, avg_val_mae=4.57, batch_nb=10, epoch=29, tng_loss=154.613, v_nb=1]"
     ]
    },
    {
     "name": "stdout",
     "output_type": "stream",
     "text": [
      "G shape: torch.Size([8, 3476, 3476])\n",
      "t: tensor([ 33,  65,   4,  87,  57,  85,  97, 122]), batch_nb: 11\n"
     ]
    },
    {
     "name": "stderr",
     "output_type": "stream",
     "text": [
      " 36%|███▌      | 13/36 [00:46<01:26,  3.77s/it, avg_laplacian_term=70.1, avg_val_fro=32.6, avg_val_loss=103, avg_val_mae=4.57, batch_nb=11, epoch=29, tng_loss=154.603, v_nb=1]"
     ]
    },
    {
     "name": "stdout",
     "output_type": "stream",
     "text": [
      "G shape: torch.Size([8, 3476, 3476])\n",
      "t: tensor([ 17, 114,  25, 104,  53,  62,  26,  95]), batch_nb: 12\n"
     ]
    },
    {
     "name": "stderr",
     "output_type": "stream",
     "text": [
      " 39%|███▉      | 14/36 [00:50<01:23,  3.78s/it, avg_laplacian_term=70.1, avg_val_fro=32.6, avg_val_loss=103, avg_val_mae=4.57, batch_nb=12, epoch=29, tng_loss=154.383, v_nb=1]"
     ]
    },
    {
     "name": "stdout",
     "output_type": "stream",
     "text": [
      "G shape: torch.Size([8, 3476, 3476])\n",
      "t: tensor([102, 109,  50,   7,  48,  76,  30,  11]), batch_nb: 13\n"
     ]
    },
    {
     "name": "stderr",
     "output_type": "stream",
     "text": [
      " 42%|████▏     | 15/36 [00:54<01:20,  3.82s/it, avg_laplacian_term=70.1, avg_val_fro=32.6, avg_val_loss=103, avg_val_mae=4.57, batch_nb=13, epoch=29, tng_loss=154.415, v_nb=1]"
     ]
    },
    {
     "name": "stdout",
     "output_type": "stream",
     "text": [
      "G shape: torch.Size([8, 3476, 3476])\n",
      "t: tensor([ 41, 129, 123,  35,  88,  20,  16,   0]), batch_nb: 14\n"
     ]
    },
    {
     "name": "stderr",
     "output_type": "stream",
     "text": [
      " 44%|████▍     | 16/36 [00:58<01:16,  3.82s/it, avg_laplacian_term=70.1, avg_val_fro=32.6, avg_val_loss=103, avg_val_mae=4.57, batch_nb=14, epoch=29, tng_loss=154.280, v_nb=1]"
     ]
    },
    {
     "name": "stdout",
     "output_type": "stream",
     "text": [
      "G shape: torch.Size([8, 3476, 3476])\n",
      "t: tensor([ 42, 115, 101,  74,  94,  86,  90,  32]), batch_nb: 15\n"
     ]
    },
    {
     "name": "stderr",
     "output_type": "stream",
     "text": [
      " 47%|████▋     | 17/36 [01:02<01:13,  3.85s/it, avg_laplacian_term=70.1, avg_val_fro=32.6, avg_val_loss=103, avg_val_mae=4.57, batch_nb=15, epoch=29, tng_loss=154.135, v_nb=1]"
     ]
    },
    {
     "name": "stdout",
     "output_type": "stream",
     "text": [
      "G shape: torch.Size([8, 3476, 3476])\n",
      "t: tensor([119,  69,  77,  72, 142, 135, 103,  23]), batch_nb: 16\n"
     ]
    },
    {
     "name": "stderr",
     "output_type": "stream",
     "text": [
      "\r",
      " 47%|████▋     | 17/36 [01:05<01:13,  3.85s/it, avg_laplacian_term=70.1, avg_val_fro=32.6, avg_val_loss=103, avg_val_mae=4.57, batch_nb=16, epoch=29, tng_loss=154.016, v_nb=1]"
     ]
    },
    {
     "name": "stdout",
     "output_type": "stream",
     "text": [
      "G shape: torch.Size([8, 3476, 3476])\n",
      "t: tensor([140, 141,  95, 135,  18,  16, 129,   8]), batch_nb: 0\n"
     ]
    },
    {
     "name": "stderr",
     "output_type": "stream",
     "text": [
      "\r",
      " 50%|█████     | 18/36 [01:09<01:26,  4.82s/it, avg_laplacian_term=70.1, avg_val_fro=32.6, avg_val_loss=103, avg_val_mae=4.57, batch_nb=16, epoch=29, tng_loss=154.016, v_nb=1]"
     ]
    },
    {
     "name": "stdout",
     "output_type": "stream",
     "text": [
      "G shape: torch.Size([8, 3476, 3476])\n",
      "t: tensor([126,  97,  60,  14,  90, 138,  94,  93]), batch_nb: 1\n"
     ]
    },
    {
     "name": "stderr",
     "output_type": "stream",
     "text": [
      "\r",
      " 53%|█████▎    | 19/36 [01:12<01:16,  4.48s/it, avg_laplacian_term=70.1, avg_val_fro=32.6, avg_val_loss=103, avg_val_mae=4.57, batch_nb=16, epoch=29, tng_loss=154.016, v_nb=1]"
     ]
    },
    {
     "name": "stdout",
     "output_type": "stream",
     "text": [
      "G shape: torch.Size([8, 3476, 3476])\n",
      "t: tensor([ 53,  11,  38,  61,  50, 100,   1,  52]), batch_nb: 2\n"
     ]
    },
    {
     "name": "stderr",
     "output_type": "stream",
     "text": [
      "\r",
      " 56%|█████▌    | 20/36 [01:16<01:09,  4.34s/it, avg_laplacian_term=70.1, avg_val_fro=32.6, avg_val_loss=103, avg_val_mae=4.57, batch_nb=16, epoch=29, tng_loss=154.016, v_nb=1]"
     ]
    },
    {
     "name": "stdout",
     "output_type": "stream",
     "text": [
      "G shape: torch.Size([8, 3476, 3476])\n",
      "t: tensor([124,   4,  62,  81,  44, 142,  73,  59]), batch_nb: 3\n"
     ]
    },
    {
     "name": "stderr",
     "output_type": "stream",
     "text": [
      "\r",
      " 58%|█████▊    | 21/36 [01:20<01:02,  4.16s/it, avg_laplacian_term=70.1, avg_val_fro=32.6, avg_val_loss=103, avg_val_mae=4.57, batch_nb=16, epoch=29, tng_loss=154.016, v_nb=1]"
     ]
    },
    {
     "name": "stdout",
     "output_type": "stream",
     "text": [
      "G shape: torch.Size([8, 3476, 3476])\n",
      "t: tensor([103, 116, 109,  99,  63,  24,  35,  19]), batch_nb: 4\n"
     ]
    },
    {
     "name": "stderr",
     "output_type": "stream",
     "text": [
      "\r",
      " 61%|██████    | 22/36 [01:24<00:55,  4.00s/it, avg_laplacian_term=70.1, avg_val_fro=32.6, avg_val_loss=103, avg_val_mae=4.57, batch_nb=16, epoch=29, tng_loss=154.016, v_nb=1]"
     ]
    },
    {
     "name": "stdout",
     "output_type": "stream",
     "text": [
      "G shape: torch.Size([8, 3476, 3476])\n",
      "t: tensor([131,  82,  56, 118,  86,  98,   9,   6]), batch_nb: 5\n"
     ]
    },
    {
     "name": "stderr",
     "output_type": "stream",
     "text": [
      "\r",
      " 64%|██████▍   | 23/36 [01:28<00:51,  3.99s/it, avg_laplacian_term=70.1, avg_val_fro=32.6, avg_val_loss=103, avg_val_mae=4.57, batch_nb=16, epoch=29, tng_loss=154.016, v_nb=1]"
     ]
    },
    {
     "name": "stdout",
     "output_type": "stream",
     "text": [
      "G shape: torch.Size([8, 3476, 3476])\n",
      "t: tensor([ 20, 134,  23,  40,  66,   3,  34, 104]), batch_nb: 6\n"
     ]
    },
    {
     "name": "stderr",
     "output_type": "stream",
     "text": [
      "\r",
      " 67%|██████▋   | 24/36 [01:31<00:47,  3.95s/it, avg_laplacian_term=70.1, avg_val_fro=32.6, avg_val_loss=103, avg_val_mae=4.57, batch_nb=16, epoch=29, tng_loss=154.016, v_nb=1]"
     ]
    },
    {
     "name": "stdout",
     "output_type": "stream",
     "text": [
      "G shape: torch.Size([8, 3476, 3476])\n",
      "t: tensor([ 80,  30,  37,   5,  77, 101, 107,  31]), batch_nb: 7\n"
     ]
    },
    {
     "name": "stderr",
     "output_type": "stream",
     "text": [
      "\r",
      " 69%|██████▉   | 25/36 [01:35<00:43,  3.92s/it, avg_laplacian_term=70.1, avg_val_fro=32.6, avg_val_loss=103, avg_val_mae=4.57, batch_nb=16, epoch=29, tng_loss=154.016, v_nb=1]"
     ]
    },
    {
     "name": "stdout",
     "output_type": "stream",
     "text": [
      "G shape: torch.Size([8, 3476, 3476])\n",
      "t: tensor([ 15, 120,  79,  46,  84,  83, 106,  67]), batch_nb: 8\n"
     ]
    },
    {
     "name": "stderr",
     "output_type": "stream",
     "text": [
      "\r",
      " 72%|███████▏  | 26/36 [01:39<00:38,  3.89s/it, avg_laplacian_term=70.1, avg_val_fro=32.6, avg_val_loss=103, avg_val_mae=4.57, batch_nb=16, epoch=29, tng_loss=154.016, v_nb=1]"
     ]
    },
    {
     "name": "stdout",
     "output_type": "stream",
     "text": [
      "G shape: torch.Size([8, 3476, 3476])\n",
      "t: tensor([ 33,  42,  74, 130,   2,  88,  85,  45]), batch_nb: 9\n"
     ]
    },
    {
     "name": "stderr",
     "output_type": "stream",
     "text": [
      "\r",
      " 75%|███████▌  | 27/36 [01:43<00:34,  3.82s/it, avg_laplacian_term=70.1, avg_val_fro=32.6, avg_val_loss=103, avg_val_mae=4.57, batch_nb=16, epoch=29, tng_loss=154.016, v_nb=1]"
     ]
    },
    {
     "name": "stdout",
     "output_type": "stream",
     "text": [
      "G shape: torch.Size([8, 3476, 3476])\n",
      "t: tensor([ 51,  54,  27,  64, 119,  25, 133,  32]), batch_nb: 10\n"
     ]
    },
    {
     "name": "stderr",
     "output_type": "stream",
     "text": [
      "\r",
      " 78%|███████▊  | 28/36 [01:47<00:30,  3.86s/it, avg_laplacian_term=70.1, avg_val_fro=32.6, avg_val_loss=103, avg_val_mae=4.57, batch_nb=16, epoch=29, tng_loss=154.016, v_nb=1]"
     ]
    },
    {
     "name": "stdout",
     "output_type": "stream",
     "text": [
      "G shape: torch.Size([8, 3476, 3476])\n",
      "t: tensor([110, 113,  43, 111,   7,  36, 117,  49]), batch_nb: 11\n"
     ]
    },
    {
     "name": "stderr",
     "output_type": "stream",
     "text": [
      "\r",
      " 81%|████████  | 29/36 [01:50<00:26,  3.76s/it, avg_laplacian_term=70.1, avg_val_fro=32.6, avg_val_loss=103, avg_val_mae=4.57, batch_nb=16, epoch=29, tng_loss=154.016, v_nb=1]"
     ]
    },
    {
     "name": "stdout",
     "output_type": "stream",
     "text": [
      "G shape: torch.Size([8, 3476, 3476])\n",
      "t: tensor([123,   0,  55,  87,  69, 125,  12, 137]), batch_nb: 12\n"
     ]
    },
    {
     "name": "stderr",
     "output_type": "stream",
     "text": [
      "\r",
      " 83%|████████▎ | 30/36 [01:54<00:21,  3.63s/it, avg_laplacian_term=70.1, avg_val_fro=32.6, avg_val_loss=103, avg_val_mae=4.57, batch_nb=16, epoch=29, tng_loss=154.016, v_nb=1]"
     ]
    },
    {
     "name": "stdout",
     "output_type": "stream",
     "text": [
      "G shape: torch.Size([8, 3476, 3476])\n",
      "t: tensor([122,  26,  41, 127,  57, 136,  78,  89]), batch_nb: 13\n"
     ]
    },
    {
     "name": "stderr",
     "output_type": "stream",
     "text": [
      "\r",
      " 86%|████████▌ | 31/36 [01:57<00:18,  3.65s/it, avg_laplacian_term=70.1, avg_val_fro=32.6, avg_val_loss=103, avg_val_mae=4.57, batch_nb=16, epoch=29, tng_loss=154.016, v_nb=1]"
     ]
    },
    {
     "name": "stdout",
     "output_type": "stream",
     "text": [
      "G shape: torch.Size([8, 3476, 3476])\n",
      "t: tensor([ 76,  47,  10,  92,  70, 143, 114, 132]), batch_nb: 14\n"
     ]
    },
    {
     "name": "stderr",
     "output_type": "stream",
     "text": [
      "\r",
      " 89%|████████▉ | 32/36 [02:01<00:14,  3.66s/it, avg_laplacian_term=70.1, avg_val_fro=32.6, avg_val_loss=103, avg_val_mae=4.57, batch_nb=16, epoch=29, tng_loss=154.016, v_nb=1]"
     ]
    },
    {
     "name": "stdout",
     "output_type": "stream",
     "text": [
      "G shape: torch.Size([8, 3476, 3476])\n",
      "t: tensor([ 22, 102,  58,  68,  65, 115,  13,  21]), batch_nb: 15\n"
     ]
    },
    {
     "name": "stderr",
     "output_type": "stream",
     "text": [
      "\r",
      " 92%|█████████▏| 33/36 [02:05<00:11,  3.69s/it, avg_laplacian_term=70.1, avg_val_fro=32.6, avg_val_loss=103, avg_val_mae=4.57, batch_nb=16, epoch=29, tng_loss=154.016, v_nb=1]"
     ]
    },
    {
     "name": "stdout",
     "output_type": "stream",
     "text": [
      "G shape: torch.Size([8, 3476, 3476])\n",
      "t: tensor([ 75,  28, 112, 139,  91, 128,  29,  96]), batch_nb: 16\n"
     ]
    },
    {
     "name": "stderr",
     "output_type": "stream",
     "text": [
      "\r",
      " 94%|█████████▍| 34/36 [02:09<00:07,  3.70s/it, avg_laplacian_term=70.1, avg_val_fro=32.6, avg_val_loss=103, avg_val_mae=4.57, batch_nb=16, epoch=29, tng_loss=154.016, v_nb=1]"
     ]
    },
    {
     "name": "stdout",
     "output_type": "stream",
     "text": [
      "G shape: torch.Size([8, 3476, 3476])\n",
      "t: tensor([121, 108,  71,  48,  17, 105,  72,  39]), batch_nb: 17\n"
     ]
    },
    {
     "name": "stderr",
     "output_type": "stream",
     "text": [
      "100%|██████████| 36/36 [02:13<00:00,  2.78s/it, avg_laplacian_term=69.2, avg_val_fro=32.3, avg_val_loss=101, avg_val_mae=4.52, batch_nb=16, epoch=29, tng_loss=154.016, v_nb=1]"
     ]
    },
    {
     "name": "stdout",
     "output_type": "stream",
     "text": [
      "G shape: torch.Size([8, 3476, 3476])\n",
      "t: tensor([ 68, 112,  18,  52, 139, 108, 116,  12]), batch_nb: 17\n"
     ]
    },
    {
     "name": "stderr",
     "output_type": "stream",
     "text": [
      "\r",
      "100%|██████████| 36/36 [02:16<00:00,  2.78s/it, avg_laplacian_term=69.2, avg_val_fro=32.3, avg_val_loss=101, avg_val_mae=4.52, batch_nb=17, epoch=29, tng_loss=153.924, v_nb=1]"
     ]
    },
    {
     "data": {
      "text/plain": [
       "1"
      ]
     },
     "execution_count": 20,
     "metadata": {},
     "output_type": "execute_result"
    }
   ],
   "source": [
    "from src.nmf.lsm_rn import LSM_RN\n",
    "from pytorch_lightning import Trainer\n",
    "from pytorch_lightning.callbacks import ModelCheckpoint\n",
    "from test_tube import Experiment\n",
    "import os\n",
    "\n",
    "model = LSM_RN(TOTAL_T_STEPS, n=3476, k=50, λ=0.1, adj_mat=A, datasets=dataset_split, batch_size=8)\n",
    "exp = Experiment(save_dir=os.getcwd())\n",
    "\n",
    "# pass in experiment for automatic tensorboard logging.    \n",
    "trainer = Trainer(experiment=exp, max_nb_epochs=30, train_percent_check=1)  \n",
    "trainer.fit(model)\n",
    "#TODO lr decay"
   ]
  },
  {
   "cell_type": "code",
   "execution_count": null,
   "metadata": {},
   "outputs": [],
   "source": []
  }
 ],
 "metadata": {
  "jupytext": {
   "encoding": "# -*- coding: utf-8 -*-",
   "text_representation": {
    "extension": ".py",
    "format_name": "light",
    "format_version": "1.4",
    "jupytext_version": "1.2.1"
   }
  },
  "kernelspec": {
   "display_name": "Python 3",
   "language": "python",
   "name": "python3"
  },
  "language_info": {
   "codemirror_mode": {
    "name": "ipython",
    "version": 3
   },
   "file_extension": ".py",
   "mimetype": "text/x-python",
   "name": "python",
   "nbconvert_exporter": "python",
   "pygments_lexer": "ipython3",
   "version": "3.7.1"
  }
 },
 "nbformat": 4,
 "nbformat_minor": 1
}
