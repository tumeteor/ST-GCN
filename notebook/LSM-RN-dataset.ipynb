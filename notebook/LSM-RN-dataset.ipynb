{
 "cells": [
  {
   "cell_type": "code",
   "execution_count": 1,
   "metadata": {},
   "outputs": [],
   "source": [
    "%reload_ext autoreload\n",
    "%autoreload 2"
   ]
  },
  {
   "cell_type": "code",
   "execution_count": 2,
   "metadata": {},
   "outputs": [],
   "source": [
    "import sys\n",
    "sys.path.append('../')"
   ]
  },
  {
   "cell_type": "code",
   "execution_count": 3,
   "metadata": {},
   "outputs": [],
   "source": [
    "TOTAL_T_STEPS = 144"
   ]
  },
  {
   "cell_type": "markdown",
   "metadata": {},
   "source": [
    "# Get adjacency matrix for our partitions of Jurbey map"
   ]
  },
  {
   "cell_type": "code",
   "execution_count": 4,
   "metadata": {},
   "outputs": [],
   "source": [
    "from src.graph_utils import partition_graph_by_lonlat\n",
    "import networkx as nx\n",
    "from jurbey.jurbey import JURBEY\n",
    "\n",
    "with open(\"../data/1556798416403.jurbey\", 'rb') as tempf:\n",
    "    g = JURBEY.load(tempf.read())\n",
    "    \n",
    "g_partition = partition_graph_by_lonlat(g)\n",
    "\n",
    "A = nx.adjacency_matrix(g_partition)"
   ]
  },
  {
   "cell_type": "markdown",
   "metadata": {},
   "source": [
    "# Convert timeseries raw data into sparse tensor\n",
    "Tensor size: 144 timestamps by adjacency matrix of speeds"
   ]
  },
  {
   "cell_type": "code",
   "execution_count": 5,
   "metadata": {},
   "outputs": [],
   "source": [
    "import pandas"
   ]
  },
  {
   "cell_type": "code",
   "execution_count": 6,
   "metadata": {},
   "outputs": [],
   "source": [
    "df = pandas.read_csv(\"../data/timeseries_speed_april_first_week.csv\")"
   ]
  },
  {
   "cell_type": "code",
   "execution_count": 7,
   "metadata": {},
   "outputs": [
    {
     "data": {
      "text/html": [
       "<div>\n",
       "<style scoped>\n",
       "    .dataframe tbody tr th:only-of-type {\n",
       "        vertical-align: middle;\n",
       "    }\n",
       "\n",
       "    .dataframe tbody tr th {\n",
       "        vertical-align: top;\n",
       "    }\n",
       "\n",
       "    .dataframe thead th {\n",
       "        text-align: right;\n",
       "    }\n",
       "</style>\n",
       "<table border=\"1\" class=\"dataframe\">\n",
       "  <thead>\n",
       "    <tr style=\"text-align: right;\">\n",
       "      <th></th>\n",
       "      <th>Unnamed: 0</th>\n",
       "      <th>0</th>\n",
       "      <th>1</th>\n",
       "      <th>2</th>\n",
       "      <th>3</th>\n",
       "      <th>4</th>\n",
       "      <th>5</th>\n",
       "      <th>6</th>\n",
       "      <th>7</th>\n",
       "      <th>8</th>\n",
       "      <th>...</th>\n",
       "      <th>136</th>\n",
       "      <th>137</th>\n",
       "      <th>138</th>\n",
       "      <th>139</th>\n",
       "      <th>140</th>\n",
       "      <th>141</th>\n",
       "      <th>142</th>\n",
       "      <th>143</th>\n",
       "      <th>from_node</th>\n",
       "      <th>to_node</th>\n",
       "    </tr>\n",
       "  </thead>\n",
       "  <tbody>\n",
       "    <tr>\n",
       "      <th>0</th>\n",
       "      <td>result.average</td>\n",
       "      <td>NaN</td>\n",
       "      <td>NaN</td>\n",
       "      <td>NaN</td>\n",
       "      <td>28.817616</td>\n",
       "      <td>29.111668</td>\n",
       "      <td>8.288389</td>\n",
       "      <td>6.779508</td>\n",
       "      <td>10.833259</td>\n",
       "      <td>9.540780</td>\n",
       "      <td>...</td>\n",
       "      <td>9.136869</td>\n",
       "      <td>11.530145</td>\n",
       "      <td>8.263133</td>\n",
       "      <td>21.063414</td>\n",
       "      <td>6.517024</td>\n",
       "      <td>8.931566</td>\n",
       "      <td>9.542779</td>\n",
       "      <td>7.236827</td>\n",
       "      <td>628154368</td>\n",
       "      <td>1023689595</td>\n",
       "    </tr>\n",
       "    <tr>\n",
       "      <th>1</th>\n",
       "      <td>result.average</td>\n",
       "      <td>NaN</td>\n",
       "      <td>NaN</td>\n",
       "      <td>NaN</td>\n",
       "      <td>28.817616</td>\n",
       "      <td>29.111668</td>\n",
       "      <td>8.288389</td>\n",
       "      <td>6.779508</td>\n",
       "      <td>10.833259</td>\n",
       "      <td>9.540780</td>\n",
       "      <td>...</td>\n",
       "      <td>9.136869</td>\n",
       "      <td>11.530145</td>\n",
       "      <td>8.263133</td>\n",
       "      <td>21.063414</td>\n",
       "      <td>6.517024</td>\n",
       "      <td>8.931566</td>\n",
       "      <td>9.542779</td>\n",
       "      <td>7.236827</td>\n",
       "      <td>628154368</td>\n",
       "      <td>1023689595</td>\n",
       "    </tr>\n",
       "    <tr>\n",
       "      <th>2</th>\n",
       "      <td>result.average</td>\n",
       "      <td>NaN</td>\n",
       "      <td>NaN</td>\n",
       "      <td>18.285511</td>\n",
       "      <td>NaN</td>\n",
       "      <td>NaN</td>\n",
       "      <td>10.486210</td>\n",
       "      <td>16.631804</td>\n",
       "      <td>11.133786</td>\n",
       "      <td>7.663071</td>\n",
       "      <td>...</td>\n",
       "      <td>NaN</td>\n",
       "      <td>NaN</td>\n",
       "      <td>NaN</td>\n",
       "      <td>NaN</td>\n",
       "      <td>NaN</td>\n",
       "      <td>NaN</td>\n",
       "      <td>NaN</td>\n",
       "      <td>NaN</td>\n",
       "      <td>527147009</td>\n",
       "      <td>27537239</td>\n",
       "    </tr>\n",
       "    <tr>\n",
       "      <th>3</th>\n",
       "      <td>result.average</td>\n",
       "      <td>NaN</td>\n",
       "      <td>NaN</td>\n",
       "      <td>NaN</td>\n",
       "      <td>NaN</td>\n",
       "      <td>19.033088</td>\n",
       "      <td>NaN</td>\n",
       "      <td>NaN</td>\n",
       "      <td>4.873969</td>\n",
       "      <td>12.137977</td>\n",
       "      <td>...</td>\n",
       "      <td>NaN</td>\n",
       "      <td>NaN</td>\n",
       "      <td>NaN</td>\n",
       "      <td>12.890066</td>\n",
       "      <td>NaN</td>\n",
       "      <td>NaN</td>\n",
       "      <td>13.178754</td>\n",
       "      <td>NaN</td>\n",
       "      <td>527147009</td>\n",
       "      <td>26908815</td>\n",
       "    </tr>\n",
       "    <tr>\n",
       "      <th>4</th>\n",
       "      <td>result.average</td>\n",
       "      <td>NaN</td>\n",
       "      <td>NaN</td>\n",
       "      <td>10.952773</td>\n",
       "      <td>20.377332</td>\n",
       "      <td>9.472034</td>\n",
       "      <td>7.588203</td>\n",
       "      <td>9.702233</td>\n",
       "      <td>6.167263</td>\n",
       "      <td>5.860414</td>\n",
       "      <td>...</td>\n",
       "      <td>6.705081</td>\n",
       "      <td>9.684380</td>\n",
       "      <td>29.012508</td>\n",
       "      <td>14.253002</td>\n",
       "      <td>8.932515</td>\n",
       "      <td>6.764400</td>\n",
       "      <td>10.154796</td>\n",
       "      <td>10.821180</td>\n",
       "      <td>628154370</td>\n",
       "      <td>3804638178</td>\n",
       "    </tr>\n",
       "  </tbody>\n",
       "</table>\n",
       "<p>5 rows × 147 columns</p>\n",
       "</div>"
      ],
      "text/plain": [
       "       Unnamed: 0   0   1          2          3          4          5  \\\n",
       "0  result.average NaN NaN        NaN  28.817616  29.111668   8.288389   \n",
       "1  result.average NaN NaN        NaN  28.817616  29.111668   8.288389   \n",
       "2  result.average NaN NaN  18.285511        NaN        NaN  10.486210   \n",
       "3  result.average NaN NaN        NaN        NaN  19.033088        NaN   \n",
       "4  result.average NaN NaN  10.952773  20.377332   9.472034   7.588203   \n",
       "\n",
       "           6          7          8  ...       136        137        138  \\\n",
       "0   6.779508  10.833259   9.540780  ...  9.136869  11.530145   8.263133   \n",
       "1   6.779508  10.833259   9.540780  ...  9.136869  11.530145   8.263133   \n",
       "2  16.631804  11.133786   7.663071  ...       NaN        NaN        NaN   \n",
       "3        NaN   4.873969  12.137977  ...       NaN        NaN        NaN   \n",
       "4   9.702233   6.167263   5.860414  ...  6.705081   9.684380  29.012508   \n",
       "\n",
       "         139       140       141        142        143  from_node     to_node  \n",
       "0  21.063414  6.517024  8.931566   9.542779   7.236827  628154368  1023689595  \n",
       "1  21.063414  6.517024  8.931566   9.542779   7.236827  628154368  1023689595  \n",
       "2        NaN       NaN       NaN        NaN        NaN  527147009    27537239  \n",
       "3  12.890066       NaN       NaN  13.178754        NaN  527147009    26908815  \n",
       "4  14.253002  8.932515  6.764400  10.154796  10.821180  628154370  3804638178  \n",
       "\n",
       "[5 rows x 147 columns]"
      ]
     },
     "execution_count": 7,
     "metadata": {},
     "output_type": "execute_result"
    }
   ],
   "source": [
    "df.head()"
   ]
  },
  {
   "cell_type": "code",
   "execution_count": 8,
   "metadata": {},
   "outputs": [],
   "source": [
    "#Our speed data uses segment ids, but the model uses sequential indexes, based on `.nodes()`\n",
    "import math\n",
    "id_to_idx = {}\n",
    "# defaultdict won't do what you expect in Pandas\n",
    "\n",
    "for id_ in df[\"from_node\"].unique():\n",
    "    id_to_idx[id_] = math.nan\n",
    "for id_ in df[\"to_node\"].unique():\n",
    "    id_to_idx[id_] = math.nan\n",
    "    \n",
    "for idx, id_ in enumerate(g_partition.nodes()):\n",
    "    id_to_idx[id_] = idx"
   ]
  },
  {
   "cell_type": "code",
   "execution_count": 9,
   "metadata": {},
   "outputs": [],
   "source": [
    "# Let's transform ids to indeces\n",
    "df[\"from_node_idx\"] = df.replace({\"from_node\": id_to_idx})[\"from_node\"]\n",
    "df[\"to_node_idx\"] = df.replace({\"to_node\": id_to_idx})[\"to_node\"]"
   ]
  },
  {
   "cell_type": "code",
   "execution_count": 10,
   "metadata": {},
   "outputs": [
    {
     "data": {
      "text/html": [
       "<div>\n",
       "<style scoped>\n",
       "    .dataframe tbody tr th:only-of-type {\n",
       "        vertical-align: middle;\n",
       "    }\n",
       "\n",
       "    .dataframe tbody tr th {\n",
       "        vertical-align: top;\n",
       "    }\n",
       "\n",
       "    .dataframe thead th {\n",
       "        text-align: right;\n",
       "    }\n",
       "</style>\n",
       "<table border=\"1\" class=\"dataframe\">\n",
       "  <thead>\n",
       "    <tr style=\"text-align: right;\">\n",
       "      <th></th>\n",
       "      <th>Unnamed: 0</th>\n",
       "      <th>0</th>\n",
       "      <th>1</th>\n",
       "      <th>2</th>\n",
       "      <th>3</th>\n",
       "      <th>4</th>\n",
       "      <th>5</th>\n",
       "      <th>6</th>\n",
       "      <th>7</th>\n",
       "      <th>8</th>\n",
       "      <th>...</th>\n",
       "      <th>138</th>\n",
       "      <th>139</th>\n",
       "      <th>140</th>\n",
       "      <th>141</th>\n",
       "      <th>142</th>\n",
       "      <th>143</th>\n",
       "      <th>from_node</th>\n",
       "      <th>to_node</th>\n",
       "      <th>from_node_idx</th>\n",
       "      <th>to_node_idx</th>\n",
       "    </tr>\n",
       "  </thead>\n",
       "  <tbody>\n",
       "    <tr>\n",
       "      <th>0</th>\n",
       "      <td>result.average</td>\n",
       "      <td>NaN</td>\n",
       "      <td>NaN</td>\n",
       "      <td>NaN</td>\n",
       "      <td>28.817616</td>\n",
       "      <td>29.111668</td>\n",
       "      <td>8.288389</td>\n",
       "      <td>6.779508</td>\n",
       "      <td>10.833259</td>\n",
       "      <td>9.540780</td>\n",
       "      <td>...</td>\n",
       "      <td>8.263133</td>\n",
       "      <td>21.063414</td>\n",
       "      <td>6.517024</td>\n",
       "      <td>8.931566</td>\n",
       "      <td>9.542779</td>\n",
       "      <td>7.236827</td>\n",
       "      <td>628154368</td>\n",
       "      <td>1023689595</td>\n",
       "      <td>0.0</td>\n",
       "      <td>350.0</td>\n",
       "    </tr>\n",
       "    <tr>\n",
       "      <th>1</th>\n",
       "      <td>result.average</td>\n",
       "      <td>NaN</td>\n",
       "      <td>NaN</td>\n",
       "      <td>NaN</td>\n",
       "      <td>28.817616</td>\n",
       "      <td>29.111668</td>\n",
       "      <td>8.288389</td>\n",
       "      <td>6.779508</td>\n",
       "      <td>10.833259</td>\n",
       "      <td>9.540780</td>\n",
       "      <td>...</td>\n",
       "      <td>8.263133</td>\n",
       "      <td>21.063414</td>\n",
       "      <td>6.517024</td>\n",
       "      <td>8.931566</td>\n",
       "      <td>9.542779</td>\n",
       "      <td>7.236827</td>\n",
       "      <td>628154368</td>\n",
       "      <td>1023689595</td>\n",
       "      <td>0.0</td>\n",
       "      <td>350.0</td>\n",
       "    </tr>\n",
       "    <tr>\n",
       "      <th>2</th>\n",
       "      <td>result.average</td>\n",
       "      <td>NaN</td>\n",
       "      <td>NaN</td>\n",
       "      <td>18.285511</td>\n",
       "      <td>NaN</td>\n",
       "      <td>NaN</td>\n",
       "      <td>10.486210</td>\n",
       "      <td>16.631804</td>\n",
       "      <td>11.133786</td>\n",
       "      <td>7.663071</td>\n",
       "      <td>...</td>\n",
       "      <td>NaN</td>\n",
       "      <td>NaN</td>\n",
       "      <td>NaN</td>\n",
       "      <td>NaN</td>\n",
       "      <td>NaN</td>\n",
       "      <td>NaN</td>\n",
       "      <td>527147009</td>\n",
       "      <td>27537239</td>\n",
       "      <td>1.0</td>\n",
       "      <td>1608.0</td>\n",
       "    </tr>\n",
       "    <tr>\n",
       "      <th>3</th>\n",
       "      <td>result.average</td>\n",
       "      <td>NaN</td>\n",
       "      <td>NaN</td>\n",
       "      <td>NaN</td>\n",
       "      <td>NaN</td>\n",
       "      <td>19.033088</td>\n",
       "      <td>NaN</td>\n",
       "      <td>NaN</td>\n",
       "      <td>4.873969</td>\n",
       "      <td>12.137977</td>\n",
       "      <td>...</td>\n",
       "      <td>NaN</td>\n",
       "      <td>12.890066</td>\n",
       "      <td>NaN</td>\n",
       "      <td>NaN</td>\n",
       "      <td>13.178754</td>\n",
       "      <td>NaN</td>\n",
       "      <td>527147009</td>\n",
       "      <td>26908815</td>\n",
       "      <td>1.0</td>\n",
       "      <td>2629.0</td>\n",
       "    </tr>\n",
       "    <tr>\n",
       "      <th>4</th>\n",
       "      <td>result.average</td>\n",
       "      <td>NaN</td>\n",
       "      <td>NaN</td>\n",
       "      <td>10.952773</td>\n",
       "      <td>20.377332</td>\n",
       "      <td>9.472034</td>\n",
       "      <td>7.588203</td>\n",
       "      <td>9.702233</td>\n",
       "      <td>6.167263</td>\n",
       "      <td>5.860414</td>\n",
       "      <td>...</td>\n",
       "      <td>29.012508</td>\n",
       "      <td>14.253002</td>\n",
       "      <td>8.932515</td>\n",
       "      <td>6.764400</td>\n",
       "      <td>10.154796</td>\n",
       "      <td>10.821180</td>\n",
       "      <td>628154370</td>\n",
       "      <td>3804638178</td>\n",
       "      <td>2.0</td>\n",
       "      <td>1197.0</td>\n",
       "    </tr>\n",
       "  </tbody>\n",
       "</table>\n",
       "<p>5 rows × 149 columns</p>\n",
       "</div>"
      ],
      "text/plain": [
       "       Unnamed: 0   0   1          2          3          4          5  \\\n",
       "0  result.average NaN NaN        NaN  28.817616  29.111668   8.288389   \n",
       "1  result.average NaN NaN        NaN  28.817616  29.111668   8.288389   \n",
       "2  result.average NaN NaN  18.285511        NaN        NaN  10.486210   \n",
       "3  result.average NaN NaN        NaN        NaN  19.033088        NaN   \n",
       "4  result.average NaN NaN  10.952773  20.377332   9.472034   7.588203   \n",
       "\n",
       "           6          7          8  ...        138        139       140  \\\n",
       "0   6.779508  10.833259   9.540780  ...   8.263133  21.063414  6.517024   \n",
       "1   6.779508  10.833259   9.540780  ...   8.263133  21.063414  6.517024   \n",
       "2  16.631804  11.133786   7.663071  ...        NaN        NaN       NaN   \n",
       "3        NaN   4.873969  12.137977  ...        NaN  12.890066       NaN   \n",
       "4   9.702233   6.167263   5.860414  ...  29.012508  14.253002  8.932515   \n",
       "\n",
       "        141        142        143  from_node     to_node  from_node_idx  \\\n",
       "0  8.931566   9.542779   7.236827  628154368  1023689595            0.0   \n",
       "1  8.931566   9.542779   7.236827  628154368  1023689595            0.0   \n",
       "2       NaN        NaN        NaN  527147009    27537239            1.0   \n",
       "3       NaN  13.178754        NaN  527147009    26908815            1.0   \n",
       "4  6.764400  10.154796  10.821180  628154370  3804638178            2.0   \n",
       "\n",
       "   to_node_idx  \n",
       "0        350.0  \n",
       "1        350.0  \n",
       "2       1608.0  \n",
       "3       2629.0  \n",
       "4       1197.0  \n",
       "\n",
       "[5 rows x 149 columns]"
      ]
     },
     "execution_count": 10,
     "metadata": {},
     "output_type": "execute_result"
    }
   ],
   "source": [
    "df.head()"
   ]
  },
  {
   "cell_type": "markdown",
   "metadata": {},
   "source": [
    "## First let's build sparse 3D data tensor"
   ]
  },
  {
   "cell_type": "code",
   "execution_count": 11,
   "metadata": {},
   "outputs": [],
   "source": [
    "import torch\n",
    "\n",
    "def snapshot(t, df=df, g_partition=g_partition):\n",
    "    df_t = df[[t, \"from_node_idx\", \"to_node_idx\"]]\n",
    "    df_t = df_t.dropna()\n",
    "    row = df_t[\"from_node_idx\"].tolist()\n",
    "    col = df_t[\"to_node_idx\"].tolist()\n",
    "    data = df_t[t].tolist()\n",
    "    size = len(g_partition.nodes())  \n",
    "\n",
    "    return {\"indices\": (row, col), \"values\": data, \"shape\": (size, size)}"
   ]
  },
  {
   "cell_type": "code",
   "execution_count": 12,
   "metadata": {},
   "outputs": [],
   "source": [
    "from scipy.sparse import hstack\n",
    "\n",
    "def build_sparse_dataset(from_=0, to=TOTAL_T_STEPS):\n",
    "    dataset = {\"indices\": ([], [], []), \"values\": []}\n",
    "    for t in range(from_, to):\n",
    "\n",
    "        snap = snapshot(str(t))\n",
    "        dataset[\"indices\"][0].extend([t] * len(snap[\"indices\"][0]))\n",
    "        dataset[\"indices\"][1].extend(snap[\"indices\"][0])\n",
    "        dataset[\"indices\"][2].extend(snap[\"indices\"][1])\n",
    "        dataset[\"values\"].extend(snap[\"values\"])\n",
    "\n",
    "    i = torch.LongTensor(dataset[\"indices\"])\n",
    "    v = torch.FloatTensor(dataset[\"values\"])\n",
    "    return torch.sparse.FloatTensor(i, v, torch.Size((to, *snap[\"shape\"])))\n",
    "\n",
    "dataset = build_sparse_dataset()"
   ]
  },
  {
   "cell_type": "markdown",
   "metadata": {},
   "source": [
    "## Now let's split sparse TxKxK Tensor into 3 TxKxK tensors for training, validation and testing"
   ]
  },
  {
   "cell_type": "code",
   "execution_count": 13,
   "metadata": {
    "lines_to_next_cell": 0
   },
   "outputs": [],
   "source": [
    "nonzero_values_cnt = len(dataset._values())\n",
    "# what percent goes into training/validation/testing\n",
    "tng_pct = 0.7\n",
    "val_pct = 0.1\n",
    "tst_pct = 1 - tng_pct - val_pct\n",
    "# now we want to split list of all non-zeros promortionally:\n",
    "# [0, split1_idx], [split1_idx, split2_idx] and [split2_idx:]\n",
    "split1_idx = int(nonzero_values_cnt * tng_pct)\n",
    "split2_idx = -int(nonzero_values_cnt * tst_pct)"
   ]
  },
  {
   "cell_type": "code",
   "execution_count": 14,
   "metadata": {
    "lines_to_next_cell": 0
   },
   "outputs": [],
   "source": [
    "from random import shuffle\n",
    "\n",
    "# but we select indexes randomly\n",
    "idxs = list(range(nonzero_values_cnt))\n",
    "shuffle(idxs)\n",
    "# these are non-zero indexes\n",
    "tng_idxs = idxs[:split1_idx]\n",
    "val_idxs = idxs[split1_idx:split2_idx]\n",
    "tst_inxs = idxs[split2_idx:]"
   ]
  },
  {
   "cell_type": "code",
   "execution_count": 15,
   "metadata": {},
   "outputs": [],
   "source": [
    "dataset_split = {}\n",
    "for name, idxs in [('tng', tng_idxs), ('val', val_idxs), ('tst', tst_inxs)]:\n",
    "    i = torch.LongTensor([\n",
    "        dataset._indices()[0][idxs].tolist(),\n",
    "        dataset._indices()[1][idxs].tolist(),\n",
    "        dataset._indices()[2][idxs].tolist()\n",
    "    ])\n",
    "    v = torch.FloatTensor(dataset._values()[idxs])\n",
    "    # NOTE sparse tensor is not supported yet by the model\n",
    "    dataset_split[name] = torch.sparse.FloatTensor(i, v, dataset.shape).to_dense()"
   ]
  },
  {
   "cell_type": "markdown",
   "metadata": {},
   "source": [
    "# Let's train model"
   ]
  },
  {
   "cell_type": "code",
   "execution_count": null,
   "metadata": {
    "lines_to_next_cell": 0
   },
   "outputs": [
    {
     "name": "stderr",
     "output_type": "stream",
     "text": [
      "[autoreload of src.nmf.lsm_rn failed: Traceback (most recent call last):\n",
      "  File \"/Users/dscsade/.local/share/virtualenvs/speed-imputation-gDyT7lob/lib/python3.6/site-packages/IPython/extensions/autoreload.py\", line 245, in check\n",
      "    superreload(m, reload, self.old_objects)\n",
      "  File \"/Users/dscsade/.local/share/virtualenvs/speed-imputation-gDyT7lob/lib/python3.6/site-packages/IPython/extensions/autoreload.py\", line 450, in superreload\n",
      "    update_generic(old_obj, new_obj)\n",
      "  File \"/Users/dscsade/.local/share/virtualenvs/speed-imputation-gDyT7lob/lib/python3.6/site-packages/IPython/extensions/autoreload.py\", line 387, in update_generic\n",
      "    update(a, b)\n",
      "  File \"/Users/dscsade/.local/share/virtualenvs/speed-imputation-gDyT7lob/lib/python3.6/site-packages/IPython/extensions/autoreload.py\", line 357, in update_class\n",
      "    update_instances(old, new)\n",
      "  File \"/Users/dscsade/.local/share/virtualenvs/speed-imputation-gDyT7lob/lib/python3.6/site-packages/IPython/extensions/autoreload.py\", line 317, in update_instances\n",
      "    update_instances(old, new, obj, visited)\n",
      "  File \"/Users/dscsade/.local/share/virtualenvs/speed-imputation-gDyT7lob/lib/python3.6/site-packages/IPython/extensions/autoreload.py\", line 300, in update_instances\n",
      "    for obj in (obj for obj in objects if id(obj) not in visited):\n",
      "  File \"/Users/dscsade/.local/share/virtualenvs/speed-imputation-gDyT7lob/lib/python3.6/site-packages/IPython/extensions/autoreload.py\", line 300, in <genexpr>\n",
      "    for obj in (obj for obj in objects if id(obj) not in visited):\n",
      "  File \"/Users/dscsade/.local/share/virtualenvs/speed-imputation-gDyT7lob/lib/python3.6/site-packages/torch/tensor.py\", line 390, in <lambda>\n",
      "    return iter(imap(lambda i: self[i], range(self.size(0))))\n",
      "RuntimeError: sparse tensors do not have strides\n",
      "]\n"
     ]
    },
    {
     "name": "stdout",
     "output_type": "stream",
     "text": [
      "gpu available: False, used: False\n",
      "Empty DataFrame\n",
      "Columns: [Name, Type, Params]\n",
      "Index: []\n",
      "model and trainer restored from checkpoint: lsm_rn.ckpt/_ckpt_epoch_6.ckpt\n"
     ]
    },
    {
     "name": "stderr",
     "output_type": "stream",
     "text": [
      " 97%|█████████▋| 35/36 [02:15<00:03,  3.72s/it, avg_laplacian_term=66.3, avg_val_fro=222, avg_val_loss=288, avg_val_mae=8.02, batch_nb=16, epoch=5, tng_loss=672.054, v_nb=1]"
     ]
    },
    {
     "name": "stdout",
     "output_type": "stream",
     "text": [
      "save callback...\n",
      "\n",
      "Epoch 00006: avg_val_mae improved from 8.29122 to 8.02147, saving model to lsm_rn.ckpt/_ckpt_epoch_6.ckpt\n"
     ]
    },
    {
     "name": "stderr",
     "output_type": "stream",
     "text": [
      " 97%|█████████▋| 35/36 [02:15<00:03,  3.76s/it, avg_laplacian_term=62.1, avg_val_fro=220, avg_val_loss=282, avg_val_mae=7.77, batch_nb=16, epoch=6, tng_loss=680.386, v_nb=1]"
     ]
    },
    {
     "name": "stdout",
     "output_type": "stream",
     "text": [
      "save callback...\n",
      "\n",
      "Epoch 00007: avg_val_mae improved from 8.02147 to 7.76670, saving model to lsm_rn.ckpt/_ckpt_epoch_7.ckpt\n"
     ]
    },
    {
     "name": "stderr",
     "output_type": "stream",
     "text": [
      " 97%|█████████▋| 35/36 [02:13<00:03,  3.69s/it, avg_laplacian_term=58.2, avg_val_fro=217, avg_val_loss=276, avg_val_mae=7.49, batch_nb=16, epoch=7, tng_loss=678.781, v_nb=1]"
     ]
    },
    {
     "name": "stdout",
     "output_type": "stream",
     "text": [
      "save callback...\n",
      "\n",
      "Epoch 00008: avg_val_mae improved from 7.76670 to 7.49126, saving model to lsm_rn.ckpt/_ckpt_epoch_8.ckpt\n"
     ]
    },
    {
     "name": "stderr",
     "output_type": "stream",
     "text": [
      " 97%|█████████▋| 35/36 [02:14<00:03,  3.74s/it, avg_laplacian_term=54.6, avg_val_fro=215, avg_val_loss=270, avg_val_mae=7.21, batch_nb=16, epoch=8, tng_loss=672.676, v_nb=1]"
     ]
    },
    {
     "name": "stdout",
     "output_type": "stream",
     "text": [
      "save callback...\n",
      "\n",
      "Epoch 00009: avg_val_mae improved from 7.49126 to 7.20504, saving model to lsm_rn.ckpt/_ckpt_epoch_9.ckpt\n"
     ]
    },
    {
     "name": "stderr",
     "output_type": "stream",
     "text": [
      " 97%|█████████▋| 35/36 [02:13<00:03,  3.76s/it, avg_laplacian_term=51.2, avg_val_fro=213, avg_val_loss=264, avg_val_mae=6.99, batch_nb=16, epoch=9, tng_loss=663.249, v_nb=1]"
     ]
    },
    {
     "name": "stdout",
     "output_type": "stream",
     "text": [
      "save callback...\n",
      "\n",
      "Epoch 00010: avg_val_mae improved from 7.20504 to 6.99487, saving model to lsm_rn.ckpt/_ckpt_epoch_10.ckpt\n"
     ]
    },
    {
     "name": "stderr",
     "output_type": "stream",
     "text": [
      " 97%|█████████▋| 35/36 [02:13<00:03,  3.70s/it, avg_laplacian_term=48.1, avg_val_fro=211, avg_val_loss=259, avg_val_mae=6.83, batch_nb=16, epoch=10, tng_loss=648.365, v_nb=1]"
     ]
    },
    {
     "name": "stdout",
     "output_type": "stream",
     "text": [
      "save callback...\n",
      "\n",
      "Epoch 00011: avg_val_mae improved from 6.99487 to 6.83065, saving model to lsm_rn.ckpt/_ckpt_epoch_11.ckpt\n"
     ]
    },
    {
     "name": "stderr",
     "output_type": "stream",
     "text": [
      " 97%|█████████▋| 35/36 [02:13<00:03,  3.70s/it, avg_laplacian_term=45, avg_val_fro=209, avg_val_loss=254, avg_val_mae=6.54, batch_nb=16, epoch=11, tng_loss=644.761, v_nb=1]  "
     ]
    },
    {
     "name": "stdout",
     "output_type": "stream",
     "text": [
      "save callback...\n",
      "\n",
      "Epoch 00012: avg_val_mae improved from 6.83065 to 6.53639, saving model to lsm_rn.ckpt/_ckpt_epoch_12.ckpt\n"
     ]
    },
    {
     "name": "stderr",
     "output_type": "stream",
     "text": [
      " 97%|█████████▋| 35/36 [02:14<00:03,  3.71s/it, avg_laplacian_term=42.2, avg_val_fro=207, avg_val_loss=249, avg_val_mae=6.41, batch_nb=16, epoch=12, tng_loss=646.053, v_nb=1]"
     ]
    },
    {
     "name": "stdout",
     "output_type": "stream",
     "text": [
      "save callback...\n",
      "\n",
      "Epoch 00013: avg_val_mae improved from 6.53639 to 6.41405, saving model to lsm_rn.ckpt/_ckpt_epoch_13.ckpt\n"
     ]
    },
    {
     "name": "stderr",
     "output_type": "stream",
     "text": [
      " 97%|█████████▋| 35/36 [02:15<00:04,  4.14s/it, avg_laplacian_term=39.5, avg_val_fro=205, avg_val_loss=245, avg_val_mae=6.25, batch_nb=16, epoch=13, tng_loss=631.369, v_nb=1]"
     ]
    },
    {
     "name": "stdout",
     "output_type": "stream",
     "text": [
      "save callback...\n",
      "\n",
      "Epoch 00014: avg_val_mae improved from 6.41405 to 6.25345, saving model to lsm_rn.ckpt/_ckpt_epoch_14.ckpt\n"
     ]
    },
    {
     "name": "stderr",
     "output_type": "stream",
     "text": [
      " 97%|█████████▋| 35/36 [02:13<00:03,  3.74s/it, avg_laplacian_term=37, avg_val_fro=204, avg_val_loss=240, avg_val_mae=6.03, batch_nb=16, epoch=14, tng_loss=623.001, v_nb=1]  "
     ]
    },
    {
     "name": "stdout",
     "output_type": "stream",
     "text": [
      "save callback...\n",
      "\n",
      "Epoch 00015: avg_val_mae improved from 6.25345 to 6.02654, saving model to lsm_rn.ckpt/_ckpt_epoch_15.ckpt\n"
     ]
    },
    {
     "name": "stderr",
     "output_type": "stream",
     "text": [
      " 97%|█████████▋| 35/36 [02:13<00:03,  3.69s/it, avg_laplacian_term=34.6, avg_val_fro=202, avg_val_loss=236, avg_val_mae=5.87, batch_nb=16, epoch=15, tng_loss=613.787, v_nb=1]"
     ]
    },
    {
     "name": "stdout",
     "output_type": "stream",
     "text": [
      "save callback...\n",
      "\n",
      "Epoch 00016: avg_val_mae improved from 6.02654 to 5.86636, saving model to lsm_rn.ckpt/_ckpt_epoch_16.ckpt\n"
     ]
    },
    {
     "name": "stderr",
     "output_type": "stream",
     "text": [
      " 97%|█████████▋| 35/36 [02:14<00:03,  3.72s/it, avg_laplacian_term=32.3, avg_val_fro=200, avg_val_loss=233, avg_val_mae=5.84, batch_nb=16, epoch=16, tng_loss=597.166, v_nb=1]"
     ]
    },
    {
     "name": "stdout",
     "output_type": "stream",
     "text": [
      "save callback...\n",
      "\n",
      "Epoch 00017: avg_val_mae improved from 5.86636 to 5.83897, saving model to lsm_rn.ckpt/_ckpt_epoch_17.ckpt\n"
     ]
    },
    {
     "name": "stderr",
     "output_type": "stream",
     "text": [
      " 97%|█████████▋| 35/36 [02:16<00:03,  3.79s/it, avg_laplacian_term=30.2, avg_val_fro=199, avg_val_loss=229, avg_val_mae=5.68, batch_nb=16, epoch=17, tng_loss=596.609, v_nb=1]"
     ]
    },
    {
     "name": "stdout",
     "output_type": "stream",
     "text": [
      "save callback...\n",
      "\n",
      "Epoch 00018: avg_val_mae improved from 5.83897 to 5.67532, saving model to lsm_rn.ckpt/_ckpt_epoch_18.ckpt\n"
     ]
    },
    {
     "name": "stderr",
     "output_type": "stream",
     "text": [
      " 97%|█████████▋| 35/36 [02:14<00:03,  3.70s/it, avg_laplacian_term=28.2, avg_val_fro=198, avg_val_loss=226, avg_val_mae=5.58, batch_nb=16, epoch=18, tng_loss=576.115, v_nb=1]"
     ]
    },
    {
     "name": "stdout",
     "output_type": "stream",
     "text": [
      "save callback...\n",
      "\n",
      "Epoch 00019: avg_val_mae improved from 5.67532 to 5.57930, saving model to lsm_rn.ckpt/_ckpt_epoch_19.ckpt\n"
     ]
    },
    {
     "name": "stderr",
     "output_type": "stream",
     "text": [
      " 97%|█████████▋| 35/36 [02:15<00:03,  3.72s/it, avg_laplacian_term=26.3, avg_val_fro=196, avg_val_loss=223, avg_val_mae=5.48, batch_nb=16, epoch=19, tng_loss=577.448, v_nb=1]"
     ]
    },
    {
     "name": "stdout",
     "output_type": "stream",
     "text": [
      "save callback...\n",
      "\n",
      "Epoch 00020: avg_val_mae improved from 5.57930 to 5.48040, saving model to lsm_rn.ckpt/_ckpt_epoch_20.ckpt\n"
     ]
    },
    {
     "name": "stderr",
     "output_type": "stream",
     "text": [
      " 97%|█████████▋| 35/36 [02:14<00:03,  3.72s/it, avg_laplacian_term=24.6, avg_val_fro=195, avg_val_loss=220, avg_val_mae=5.49, batch_nb=16, epoch=20, tng_loss=568.796, v_nb=1]"
     ]
    },
    {
     "name": "stdout",
     "output_type": "stream",
     "text": [
      "save callback...\n",
      "\n",
      "Epoch 00021: avg_val_mae did not improve\n"
     ]
    },
    {
     "name": "stderr",
     "output_type": "stream",
     "text": [
      " 97%|█████████▋| 35/36 [02:13<00:03,  3.75s/it, avg_laplacian_term=23, avg_val_fro=194, avg_val_loss=217, avg_val_mae=5.34, batch_nb=16, epoch=21, tng_loss=571.638, v_nb=1]  "
     ]
    },
    {
     "name": "stdout",
     "output_type": "stream",
     "text": [
      "save callback...\n",
      "\n",
      "Epoch 00022: avg_val_mae improved from 5.48040 to 5.34123, saving model to lsm_rn.ckpt/_ckpt_epoch_22.ckpt\n"
     ]
    },
    {
     "name": "stderr",
     "output_type": "stream",
     "text": [
      " 97%|█████████▋| 35/36 [02:13<00:03,  3.70s/it, avg_laplacian_term=21.5, avg_val_fro=193, avg_val_loss=214, avg_val_mae=5.33, batch_nb=16, epoch=22, tng_loss=558.266, v_nb=1]"
     ]
    },
    {
     "name": "stdout",
     "output_type": "stream",
     "text": [
      "save callback...\n",
      "\n",
      "Epoch 00023: avg_val_mae improved from 5.34123 to 5.32975, saving model to lsm_rn.ckpt/_ckpt_epoch_23.ckpt\n"
     ]
    },
    {
     "name": "stderr",
     "output_type": "stream",
     "text": [
      " 97%|█████████▋| 35/36 [02:13<00:03,  3.72s/it, avg_laplacian_term=20, avg_val_fro=192, avg_val_loss=212, avg_val_mae=5.34, batch_nb=16, epoch=23, tng_loss=555.489, v_nb=1]  "
     ]
    },
    {
     "name": "stdout",
     "output_type": "stream",
     "text": [
      "save callback...\n",
      "\n",
      "Epoch 00024: avg_val_mae did not improve\n"
     ]
    },
    {
     "name": "stderr",
     "output_type": "stream",
     "text": [
      " 97%|█████████▋| 35/36 [02:13<00:03,  3.70s/it, avg_laplacian_term=18.7, avg_val_fro=190, avg_val_loss=209, avg_val_mae=5.27, batch_nb=16, epoch=24, tng_loss=545.436, v_nb=1]"
     ]
    },
    {
     "name": "stdout",
     "output_type": "stream",
     "text": [
      "save callback...\n",
      "\n",
      "Epoch 00025: avg_val_mae improved from 5.32975 to 5.26840, saving model to lsm_rn.ckpt/_ckpt_epoch_25.ckpt\n"
     ]
    },
    {
     "name": "stderr",
     "output_type": "stream",
     "text": [
      " 97%|█████████▋| 35/36 [02:13<00:03,  3.70s/it, avg_laplacian_term=17.5, avg_val_fro=189, avg_val_loss=207, avg_val_mae=5.24, batch_nb=16, epoch=25, tng_loss=542.157, v_nb=1]"
     ]
    },
    {
     "name": "stdout",
     "output_type": "stream",
     "text": [
      "save callback...\n",
      "\n",
      "Epoch 00026: avg_val_mae improved from 5.26840 to 5.24155, saving model to lsm_rn.ckpt/_ckpt_epoch_26.ckpt\n"
     ]
    },
    {
     "name": "stderr",
     "output_type": "stream",
     "text": [
      " 97%|█████████▋| 35/36 [02:13<00:03,  3.74s/it, avg_laplacian_term=16.4, avg_val_fro=188, avg_val_loss=205, avg_val_mae=5.26, batch_nb=16, epoch=26, tng_loss=531.704, v_nb=1]"
     ]
    },
    {
     "name": "stdout",
     "output_type": "stream",
     "text": [
      "save callback...\n",
      "\n",
      "Epoch 00027: avg_val_mae did not improve\n"
     ]
    },
    {
     "name": "stderr",
     "output_type": "stream",
     "text": [
      " 97%|█████████▋| 35/36 [02:13<00:03,  3.69s/it, avg_laplacian_term=15.4, avg_val_fro=187, avg_val_loss=203, avg_val_mae=5.24, batch_nb=16, epoch=27, tng_loss=528.827, v_nb=1]"
     ]
    },
    {
     "name": "stdout",
     "output_type": "stream",
     "text": [
      "save callback...\n",
      "\n",
      "Epoch 00028: avg_val_mae improved from 5.24155 to 5.23929, saving model to lsm_rn.ckpt/_ckpt_epoch_28.ckpt\n"
     ]
    },
    {
     "name": "stderr",
     "output_type": "stream",
     "text": [
      " 97%|█████████▋| 35/36 [02:13<00:03,  3.70s/it, avg_laplacian_term=14.4, avg_val_fro=186, avg_val_loss=201, avg_val_mae=5.14, batch_nb=16, epoch=28, tng_loss=519.227, v_nb=1]"
     ]
    },
    {
     "name": "stdout",
     "output_type": "stream",
     "text": [
      "save callback...\n",
      "\n",
      "Epoch 00029: avg_val_mae improved from 5.23929 to 5.14456, saving model to lsm_rn.ckpt/_ckpt_epoch_29.ckpt\n"
     ]
    },
    {
     "name": "stderr",
     "output_type": "stream",
     "text": [
      " 97%|█████████▋| 35/36 [02:13<00:03,  3.70s/it, avg_laplacian_term=13.5, avg_val_fro=185, avg_val_loss=199, avg_val_mae=5.18, batch_nb=16, epoch=29, tng_loss=507.599, v_nb=1]"
     ]
    },
    {
     "name": "stdout",
     "output_type": "stream",
     "text": [
      "save callback...\n",
      "\n",
      "Epoch 00030: avg_val_mae did not improve\n"
     ]
    },
    {
     "name": "stderr",
     "output_type": "stream",
     "text": [
      " 97%|█████████▋| 35/36 [02:13<00:03,  3.69s/it, avg_laplacian_term=12.7, avg_val_fro=184, avg_val_loss=197, avg_val_mae=5.2, batch_nb=16, epoch=30, tng_loss=505.342, v_nb=1] "
     ]
    },
    {
     "name": "stdout",
     "output_type": "stream",
     "text": [
      "save callback...\n",
      "\n",
      "Epoch 00031: avg_val_mae did not improve\n"
     ]
    },
    {
     "name": "stderr",
     "output_type": "stream",
     "text": [
      " 97%|█████████▋| 35/36 [02:13<00:03,  3.66s/it, avg_laplacian_term=11.9, avg_val_fro=183, avg_val_loss=195, avg_val_mae=5.08, batch_nb=16, epoch=31, tng_loss=492.116, v_nb=1]"
     ]
    },
    {
     "name": "stdout",
     "output_type": "stream",
     "text": [
      "save callback...\n",
      "\n",
      "Epoch 00032: avg_val_mae improved from 5.14456 to 5.07834, saving model to lsm_rn.ckpt/_ckpt_epoch_32.ckpt\n"
     ]
    },
    {
     "name": "stderr",
     "output_type": "stream",
     "text": [
      " 97%|█████████▋| 35/36 [02:13<00:03,  3.69s/it, avg_laplacian_term=11.2, avg_val_fro=182, avg_val_loss=194, avg_val_mae=5.16, batch_nb=16, epoch=32, tng_loss=494.871, v_nb=1]"
     ]
    },
    {
     "name": "stdout",
     "output_type": "stream",
     "text": [
      "save callback...\n",
      "\n",
      "Epoch 00033: avg_val_mae did not improve\n"
     ]
    },
    {
     "name": "stderr",
     "output_type": "stream",
     "text": [
      " 97%|█████████▋| 35/36 [02:13<00:03,  3.69s/it, avg_laplacian_term=10.6, avg_val_fro=181, avg_val_loss=192, avg_val_mae=5.15, batch_nb=16, epoch=33, tng_loss=491.952, v_nb=1]"
     ]
    },
    {
     "name": "stdout",
     "output_type": "stream",
     "text": [
      "save callback...\n",
      "\n",
      "Epoch 00034: avg_val_mae did not improve\n"
     ]
    },
    {
     "name": "stderr",
     "output_type": "stream",
     "text": [
      " 97%|█████████▋| 35/36 [02:13<00:03,  3.70s/it, avg_laplacian_term=9.98, avg_val_fro=180, avg_val_loss=190, avg_val_mae=5.09, batch_nb=16, epoch=34, tng_loss=484.048, v_nb=1]"
     ]
    },
    {
     "name": "stdout",
     "output_type": "stream",
     "text": [
      "save callback...\n",
      "\n",
      "Epoch 00035: avg_val_mae did not improve\n"
     ]
    },
    {
     "name": "stderr",
     "output_type": "stream",
     "text": [
      " 97%|█████████▋| 35/36 [02:13<00:03,  3.79s/it, avg_laplacian_term=9.42, avg_val_fro=180, avg_val_loss=189, avg_val_mae=5.11, batch_nb=16, epoch=35, tng_loss=466.906, v_nb=1]"
     ]
    },
    {
     "name": "stdout",
     "output_type": "stream",
     "text": [
      "save callback...\n",
      "\n",
      "Epoch 00036: avg_val_mae did not improve\n"
     ]
    },
    {
     "name": "stderr",
     "output_type": "stream",
     "text": [
      " 97%|█████████▋| 35/36 [02:13<00:03,  3.69s/it, avg_laplacian_term=8.91, avg_val_fro=179, avg_val_loss=188, avg_val_mae=5.09, batch_nb=16, epoch=36, tng_loss=467.900, v_nb=1]"
     ]
    },
    {
     "name": "stdout",
     "output_type": "stream",
     "text": [
      "save callback...\n",
      "\n",
      "Epoch 00037: avg_val_mae did not improve\n"
     ]
    },
    {
     "name": "stderr",
     "output_type": "stream",
     "text": [
      " 97%|█████████▋| 35/36 [02:13<00:03,  3.71s/it, avg_laplacian_term=8.44, avg_val_fro=178, avg_val_loss=186, avg_val_mae=5.12, batch_nb=16, epoch=37, tng_loss=460.852, v_nb=1]"
     ]
    },
    {
     "name": "stdout",
     "output_type": "stream",
     "text": [
      "save callback...\n",
      "\n",
      "Epoch 00038: avg_val_mae did not improve\n"
     ]
    },
    {
     "name": "stderr",
     "output_type": "stream",
     "text": [
      " 97%|█████████▋| 35/36 [02:12<00:03,  3.67s/it, avg_laplacian_term=8, avg_val_fro=177, avg_val_loss=185, avg_val_mae=5.14, batch_nb=16, epoch=38, tng_loss=458.856, v_nb=1]   "
     ]
    },
    {
     "name": "stdout",
     "output_type": "stream",
     "text": [
      "save callback...\n",
      "\n",
      "Epoch 00039: avg_val_mae did not improve\n"
     ]
    },
    {
     "name": "stderr",
     "output_type": "stream",
     "text": [
      " 97%|█████████▋| 35/36 [02:13<00:03,  3.69s/it, avg_laplacian_term=7.6, avg_val_fro=176, avg_val_loss=184, avg_val_mae=5.15, batch_nb=16, epoch=39, tng_loss=453.159, v_nb=1]"
     ]
    },
    {
     "name": "stdout",
     "output_type": "stream",
     "text": [
      "save callback...\n",
      "\n",
      "Epoch 00040: avg_val_mae did not improve\n"
     ]
    },
    {
     "name": "stderr",
     "output_type": "stream",
     "text": [
      " 97%|█████████▋| 35/36 [02:14<00:03,  3.69s/it, avg_laplacian_term=7.22, avg_val_fro=176, avg_val_loss=183, avg_val_mae=5.16, batch_nb=16, epoch=40, tng_loss=440.224, v_nb=1]"
     ]
    },
    {
     "name": "stdout",
     "output_type": "stream",
     "text": [
      "save callback...\n",
      "\n",
      "Epoch 00041: avg_val_mae did not improve\n"
     ]
    },
    {
     "name": "stderr",
     "output_type": "stream",
     "text": [
      " 97%|█████████▋| 35/36 [02:13<00:03,  3.71s/it, avg_laplacian_term=6.88, avg_val_fro=175, avg_val_loss=182, avg_val_mae=5.04, batch_nb=16, epoch=41, tng_loss=443.010, v_nb=1]"
     ]
    },
    {
     "name": "stdout",
     "output_type": "stream",
     "text": [
      "save callback...\n",
      "\n",
      "Epoch 00042: avg_val_mae improved from 5.07834 to 5.04136, saving model to lsm_rn.ckpt/_ckpt_epoch_42.ckpt\n"
     ]
    },
    {
     "name": "stderr",
     "output_type": "stream",
     "text": [
      " 97%|█████████▋| 35/36 [02:13<00:03,  3.75s/it, avg_laplacian_term=6.56, avg_val_fro=174, avg_val_loss=181, avg_val_mae=5.16, batch_nb=16, epoch=42, tng_loss=432.232, v_nb=1]"
     ]
    },
    {
     "name": "stdout",
     "output_type": "stream",
     "text": [
      "save callback...\n",
      "\n",
      "Epoch 00043: avg_val_mae did not improve\n"
     ]
    },
    {
     "name": "stderr",
     "output_type": "stream",
     "text": [
      " 97%|█████████▋| 35/36 [02:13<00:03,  3.68s/it, avg_laplacian_term=6.26, avg_val_fro=173, avg_val_loss=180, avg_val_mae=5.17, batch_nb=16, epoch=43, tng_loss=420.542, v_nb=1]"
     ]
    },
    {
     "name": "stdout",
     "output_type": "stream",
     "text": [
      "save callback...\n",
      "\n",
      "Epoch 00044: avg_val_mae did not improve\n"
     ]
    },
    {
     "name": "stderr",
     "output_type": "stream",
     "text": [
      " 97%|█████████▋| 35/36 [02:13<00:03,  3.65s/it, avg_laplacian_term=5.98, avg_val_fro=173, avg_val_loss=179, avg_val_mae=5.21, batch_nb=16, epoch=44, tng_loss=413.089, v_nb=1]"
     ]
    },
    {
     "name": "stdout",
     "output_type": "stream",
     "text": [
      "save callback...\n",
      "\n",
      "Epoch 00045: avg_val_mae did not improve\n"
     ]
    },
    {
     "name": "stderr",
     "output_type": "stream",
     "text": [
      " 97%|█████████▋| 35/36 [02:12<00:03,  3.69s/it, avg_laplacian_term=5.72, avg_val_fro=172, avg_val_loss=178, avg_val_mae=5.15, batch_nb=16, epoch=45, tng_loss=414.773, v_nb=1]"
     ]
    },
    {
     "name": "stdout",
     "output_type": "stream",
     "text": [
      "save callback...\n",
      "\n",
      "Epoch 00046: avg_val_mae did not improve\n"
     ]
    },
    {
     "name": "stderr",
     "output_type": "stream",
     "text": [
      " 97%|█████████▋| 35/36 [02:12<00:03,  3.68s/it, avg_laplacian_term=5.48, avg_val_fro=172, avg_val_loss=177, avg_val_mae=5.22, batch_nb=16, epoch=46, tng_loss=400.626, v_nb=1]"
     ]
    },
    {
     "name": "stdout",
     "output_type": "stream",
     "text": [
      "save callback...\n",
      "\n",
      "Epoch 00047: avg_val_mae did not improve\n"
     ]
    },
    {
     "name": "stderr",
     "output_type": "stream",
     "text": [
      " 97%|█████████▋| 35/36 [02:12<00:03,  3.65s/it, avg_laplacian_term=5.25, avg_val_fro=171, avg_val_loss=176, avg_val_mae=5.22, batch_nb=16, epoch=47, tng_loss=396.846, v_nb=1]"
     ]
    },
    {
     "name": "stdout",
     "output_type": "stream",
     "text": [
      "save callback...\n",
      "\n",
      "Epoch 00048: avg_val_mae did not improve\n"
     ]
    },
    {
     "name": "stderr",
     "output_type": "stream",
     "text": [
      " 97%|█████████▋| 35/36 [02:12<00:03,  3.72s/it, avg_laplacian_term=5.04, avg_val_fro=171, avg_val_loss=176, avg_val_mae=5.26, batch_nb=16, epoch=48, tng_loss=388.321, v_nb=1]"
     ]
    },
    {
     "name": "stdout",
     "output_type": "stream",
     "text": [
      "save callback...\n",
      "\n",
      "Epoch 00049: avg_val_mae did not improve\n"
     ]
    },
    {
     "name": "stderr",
     "output_type": "stream",
     "text": [
      " 97%|█████████▋| 35/36 [02:12<00:03,  3.67s/it, avg_laplacian_term=4.84, avg_val_fro=170, avg_val_loss=175, avg_val_mae=5.2, batch_nb=16, epoch=49, tng_loss=387.597, v_nb=1] "
     ]
    },
    {
     "name": "stdout",
     "output_type": "stream",
     "text": [
      "save callback...\n",
      "\n",
      "Epoch 00050: avg_val_mae did not improve\n"
     ]
    },
    {
     "name": "stderr",
     "output_type": "stream",
     "text": [
      " 97%|█████████▋| 35/36 [02:13<00:03,  3.74s/it, avg_laplacian_term=4.66, avg_val_fro=170, avg_val_loss=175, avg_val_mae=5.23, batch_nb=16, epoch=50, tng_loss=374.514, v_nb=1]"
     ]
    },
    {
     "name": "stdout",
     "output_type": "stream",
     "text": [
      "save callback...\n",
      "\n",
      "Epoch 00051: avg_val_mae did not improve\n"
     ]
    },
    {
     "name": "stderr",
     "output_type": "stream",
     "text": [
      " 97%|█████████▋| 35/36 [02:13<00:03,  3.68s/it, avg_laplacian_term=4.48, avg_val_fro=170, avg_val_loss=174, avg_val_mae=5.23, batch_nb=16, epoch=51, tng_loss=374.290, v_nb=1]"
     ]
    },
    {
     "name": "stdout",
     "output_type": "stream",
     "text": [
      "save callback...\n",
      "\n",
      "Epoch 00052: avg_val_mae did not improve\n"
     ]
    },
    {
     "name": "stderr",
     "output_type": "stream",
     "text": [
      " 97%|█████████▋| 35/36 [02:13<00:03,  3.69s/it, avg_laplacian_term=4.31, avg_val_fro=169, avg_val_loss=174, avg_val_mae=5.27, batch_nb=16, epoch=52, tng_loss=371.324, v_nb=1]"
     ]
    },
    {
     "name": "stdout",
     "output_type": "stream",
     "text": [
      "save callback...\n",
      "\n",
      "Epoch 00053: avg_val_mae did not improve\n"
     ]
    },
    {
     "name": "stderr",
     "output_type": "stream",
     "text": [
      " 97%|█████████▋| 35/36 [02:13<00:03,  3.77s/it, avg_laplacian_term=4.16, avg_val_fro=169, avg_val_loss=173, avg_val_mae=5.28, batch_nb=16, epoch=53, tng_loss=358.458, v_nb=1]"
     ]
    },
    {
     "name": "stdout",
     "output_type": "stream",
     "text": [
      "save callback...\n",
      "\n",
      "Epoch 00054: avg_val_mae did not improve\n"
     ]
    },
    {
     "name": "stderr",
     "output_type": "stream",
     "text": [
      " 97%|█████████▋| 35/36 [02:13<00:03,  3.70s/it, avg_laplacian_term=4.01, avg_val_fro=169, avg_val_loss=173, avg_val_mae=5.29, batch_nb=16, epoch=54, tng_loss=349.573, v_nb=1]"
     ]
    },
    {
     "name": "stdout",
     "output_type": "stream",
     "text": [
      "save callback...\n",
      "\n",
      "Epoch 00055: avg_val_mae did not improve\n"
     ]
    },
    {
     "name": "stderr",
     "output_type": "stream",
     "text": [
      " 97%|█████████▋| 35/36 [02:14<00:03,  3.76s/it, avg_laplacian_term=3.87, avg_val_fro=168, avg_val_loss=172, avg_val_mae=5.3, batch_nb=16, epoch=55, tng_loss=347.785, v_nb=1] "
     ]
    },
    {
     "name": "stdout",
     "output_type": "stream",
     "text": [
      "save callback...\n",
      "\n",
      "Epoch 00056: avg_val_mae did not improve\n"
     ]
    },
    {
     "name": "stderr",
     "output_type": "stream",
     "text": [
      " 97%|█████████▋| 35/36 [02:13<00:03,  3.67s/it, avg_laplacian_term=3.73, avg_val_fro=168, avg_val_loss=172, avg_val_mae=5.3, batch_nb=16, epoch=56, tng_loss=340.078, v_nb=1]"
     ]
    },
    {
     "name": "stdout",
     "output_type": "stream",
     "text": [
      "save callback...\n",
      "\n",
      "Epoch 00057: avg_val_mae did not improve\n"
     ]
    },
    {
     "name": "stderr",
     "output_type": "stream",
     "text": [
      " 97%|█████████▋| 35/36 [02:13<00:03,  3.66s/it, avg_laplacian_term=3.59, avg_val_fro=168, avg_val_loss=172, avg_val_mae=5.3, batch_nb=16, epoch=57, tng_loss=340.531, v_nb=1]"
     ]
    },
    {
     "name": "stdout",
     "output_type": "stream",
     "text": [
      "save callback...\n",
      "\n",
      "Epoch 00058: avg_val_mae did not improve\n"
     ]
    },
    {
     "name": "stderr",
     "output_type": "stream",
     "text": [
      " 97%|█████████▋| 35/36 [02:13<00:03,  3.68s/it, avg_laplacian_term=3.47, avg_val_fro=168, avg_val_loss=172, avg_val_mae=5.32, batch_nb=16, epoch=58, tng_loss=334.015, v_nb=1]"
     ]
    },
    {
     "name": "stdout",
     "output_type": "stream",
     "text": [
      "save callback...\n",
      "\n",
      "Epoch 00059: avg_val_mae did not improve\n"
     ]
    },
    {
     "name": "stderr",
     "output_type": "stream",
     "text": [
      " 97%|█████████▋| 35/36 [02:13<00:03,  3.71s/it, avg_laplacian_term=3.34, avg_val_fro=168, avg_val_loss=172, avg_val_mae=5.3, batch_nb=16, epoch=59, tng_loss=323.638, v_nb=1] "
     ]
    },
    {
     "name": "stdout",
     "output_type": "stream",
     "text": [
      "save callback...\n",
      "\n",
      "Epoch 00060: avg_val_mae did not improve\n"
     ]
    },
    {
     "name": "stderr",
     "output_type": "stream",
     "text": [
      " 97%|█████████▋| 35/36 [02:12<00:03,  3.68s/it, avg_laplacian_term=3.23, avg_val_fro=168, avg_val_loss=171, avg_val_mae=5.34, batch_nb=16, epoch=60, tng_loss=323.121, v_nb=1]"
     ]
    },
    {
     "name": "stdout",
     "output_type": "stream",
     "text": [
      "save callback...\n",
      "\n",
      "Epoch 00061: avg_val_mae did not improve\n"
     ]
    },
    {
     "name": "stderr",
     "output_type": "stream",
     "text": [
      " 97%|█████████▋| 35/36 [02:13<00:03,  3.69s/it, avg_laplacian_term=3.11, avg_val_fro=168, avg_val_loss=171, avg_val_mae=5.37, batch_nb=16, epoch=61, tng_loss=327.593, v_nb=1]"
     ]
    },
    {
     "name": "stdout",
     "output_type": "stream",
     "text": [
      "save callback...\n",
      "\n",
      "Epoch 00062: avg_val_mae did not improve\n"
     ]
    },
    {
     "name": "stderr",
     "output_type": "stream",
     "text": [
      " 97%|█████████▋| 35/36 [02:12<00:03,  3.67s/it, avg_laplacian_term=3, avg_val_fro=168, avg_val_loss=171, avg_val_mae=5.39, batch_nb=16, epoch=62, tng_loss=312.574, v_nb=1]   "
     ]
    },
    {
     "name": "stdout",
     "output_type": "stream",
     "text": [
      "save callback...\n",
      "\n",
      "Epoch 00063: avg_val_mae did not improve\n"
     ]
    },
    {
     "name": "stderr",
     "output_type": "stream",
     "text": [
      " 97%|█████████▋| 35/36 [02:13<00:03,  3.68s/it, avg_laplacian_term=2.89, avg_val_fro=168, avg_val_loss=171, avg_val_mae=5.43, batch_nb=16, epoch=63, tng_loss=314.769, v_nb=1]"
     ]
    },
    {
     "name": "stdout",
     "output_type": "stream",
     "text": [
      "save callback...\n",
      "\n",
      "Epoch 00064: avg_val_mae did not improve\n"
     ]
    },
    {
     "name": "stderr",
     "output_type": "stream",
     "text": [
      " 97%|█████████▋| 35/36 [02:12<00:03,  3.68s/it, avg_laplacian_term=2.79, avg_val_fro=168, avg_val_loss=171, avg_val_mae=5.43, batch_nb=16, epoch=64, tng_loss=303.173, v_nb=1]"
     ]
    },
    {
     "name": "stdout",
     "output_type": "stream",
     "text": [
      "save callback...\n",
      "\n",
      "Epoch 00065: avg_val_mae did not improve\n"
     ]
    },
    {
     "name": "stderr",
     "output_type": "stream",
     "text": [
      " 97%|█████████▋| 35/36 [02:12<00:03,  3.72s/it, avg_laplacian_term=2.68, avg_val_fro=169, avg_val_loss=171, avg_val_mae=5.43, batch_nb=16, epoch=65, tng_loss=295.310, v_nb=1]"
     ]
    },
    {
     "name": "stdout",
     "output_type": "stream",
     "text": [
      "save callback...\n",
      "\n",
      "Epoch 00066: avg_val_mae did not improve\n"
     ]
    },
    {
     "name": "stderr",
     "output_type": "stream",
     "text": [
      " 97%|█████████▋| 35/36 [02:13<00:03,  3.72s/it, avg_laplacian_term=2.59, avg_val_fro=169, avg_val_loss=171, avg_val_mae=5.42, batch_nb=16, epoch=66, tng_loss=293.452, v_nb=1]"
     ]
    },
    {
     "name": "stdout",
     "output_type": "stream",
     "text": [
      "save callback...\n",
      "\n",
      "Epoch 00067: avg_val_mae did not improve\n"
     ]
    },
    {
     "name": "stderr",
     "output_type": "stream",
     "text": [
      " 97%|█████████▋| 35/36 [02:13<00:03,  3.66s/it, avg_laplacian_term=2.48, avg_val_fro=169, avg_val_loss=171, avg_val_mae=5.39, batch_nb=16, epoch=67, tng_loss=287.921, v_nb=1]"
     ]
    },
    {
     "name": "stdout",
     "output_type": "stream",
     "text": [
      "save callback...\n",
      "\n",
      "Epoch 00068: avg_val_mae did not improve\n"
     ]
    },
    {
     "name": "stderr",
     "output_type": "stream",
     "text": [
      " 97%|█████████▋| 35/36 [02:13<00:03,  3.69s/it, avg_laplacian_term=2.38, avg_val_fro=169, avg_val_loss=172, avg_val_mae=5.4, batch_nb=16, epoch=68, tng_loss=290.574, v_nb=1] "
     ]
    },
    {
     "name": "stdout",
     "output_type": "stream",
     "text": [
      "save callback...\n",
      "\n",
      "Epoch 00069: avg_val_mae did not improve\n"
     ]
    },
    {
     "name": "stderr",
     "output_type": "stream",
     "text": [
      " 97%|█████████▋| 35/36 [02:12<00:03,  3.67s/it, avg_laplacian_term=2.29, avg_val_fro=170, avg_val_loss=172, avg_val_mae=5.42, batch_nb=16, epoch=69, tng_loss=283.637, v_nb=1]"
     ]
    },
    {
     "name": "stdout",
     "output_type": "stream",
     "text": [
      "save callback...\n",
      "\n",
      "Epoch 00070: avg_val_mae did not improve\n"
     ]
    },
    {
     "name": "stderr",
     "output_type": "stream",
     "text": [
      " 97%|█████████▋| 35/36 [02:12<00:03,  3.66s/it, avg_laplacian_term=2.19, avg_val_fro=170, avg_val_loss=172, avg_val_mae=5.45, batch_nb=16, epoch=70, tng_loss=280.499, v_nb=1]"
     ]
    },
    {
     "name": "stdout",
     "output_type": "stream",
     "text": [
      "save callback...\n",
      "\n",
      "Epoch 00071: avg_val_mae did not improve\n"
     ]
    },
    {
     "name": "stderr",
     "output_type": "stream",
     "text": [
      " 97%|█████████▋| 35/36 [02:12<00:03,  3.69s/it, avg_laplacian_term=2.1, avg_val_fro=170, avg_val_loss=172, avg_val_mae=5.4, batch_nb=16, epoch=71, tng_loss=276.548, v_nb=1]  "
     ]
    },
    {
     "name": "stdout",
     "output_type": "stream",
     "text": [
      "save callback...\n",
      "\n",
      "Epoch 00072: avg_val_mae did not improve\n"
     ]
    },
    {
     "name": "stderr",
     "output_type": "stream",
     "text": [
      " 97%|█████████▋| 35/36 [02:14<00:03,  3.70s/it, avg_laplacian_term=2, avg_val_fro=170, avg_val_loss=172, avg_val_mae=5.52, batch_nb=16, epoch=72, tng_loss=265.799, v_nb=1] "
     ]
    },
    {
     "name": "stdout",
     "output_type": "stream",
     "text": [
      "save callback...\n",
      "\n",
      "Epoch 00073: avg_val_mae did not improve\n"
     ]
    },
    {
     "name": "stderr",
     "output_type": "stream",
     "text": [
      " 97%|█████████▋| 35/36 [02:13<00:03,  3.69s/it, avg_laplacian_term=1.91, avg_val_fro=171, avg_val_loss=173, avg_val_mae=5.53, batch_nb=16, epoch=73, tng_loss=270.022, v_nb=1]"
     ]
    },
    {
     "name": "stdout",
     "output_type": "stream",
     "text": [
      "save callback...\n",
      "\n",
      "Epoch 00074: avg_val_mae did not improve\n"
     ]
    },
    {
     "name": "stderr",
     "output_type": "stream",
     "text": [
      " 97%|█████████▋| 35/36 [02:12<00:03,  3.67s/it, avg_laplacian_term=1.81, avg_val_fro=171, avg_val_loss=173, avg_val_mae=5.46, batch_nb=16, epoch=74, tng_loss=267.521, v_nb=1]"
     ]
    },
    {
     "name": "stdout",
     "output_type": "stream",
     "text": [
      "save callback...\n",
      "\n",
      "Epoch 00075: avg_val_mae did not improve\n"
     ]
    },
    {
     "name": "stderr",
     "output_type": "stream",
     "text": [
      " 97%|█████████▋| 35/36 [02:13<00:03,  3.67s/it, avg_laplacian_term=1.72, avg_val_fro=172, avg_val_loss=173, avg_val_mae=5.51, batch_nb=16, epoch=75, tng_loss=257.038, v_nb=1]"
     ]
    },
    {
     "name": "stdout",
     "output_type": "stream",
     "text": [
      "save callback...\n",
      "\n",
      "Epoch 00076: avg_val_mae did not improve\n"
     ]
    },
    {
     "name": "stderr",
     "output_type": "stream",
     "text": [
      " 97%|█████████▋| 35/36 [02:13<00:03,  3.75s/it, avg_laplacian_term=1.64, avg_val_fro=172, avg_val_loss=174, avg_val_mae=5.48, batch_nb=16, epoch=76, tng_loss=262.180, v_nb=1]"
     ]
    },
    {
     "name": "stdout",
     "output_type": "stream",
     "text": [
      "save callback...\n",
      "\n",
      "Epoch 00077: avg_val_mae did not improve\n"
     ]
    },
    {
     "name": "stderr",
     "output_type": "stream",
     "text": [
      " 97%|█████████▋| 35/36 [02:12<00:03,  3.67s/it, avg_laplacian_term=1.55, avg_val_fro=172, avg_val_loss=174, avg_val_mae=5.48, batch_nb=16, epoch=77, tng_loss=256.489, v_nb=1]"
     ]
    },
    {
     "name": "stdout",
     "output_type": "stream",
     "text": [
      "save callback...\n",
      "\n",
      "Epoch 00078: avg_val_mae did not improve\n"
     ]
    },
    {
     "name": "stderr",
     "output_type": "stream",
     "text": [
      " 97%|█████████▋| 35/36 [02:13<00:03,  3.70s/it, avg_laplacian_term=1.45, avg_val_fro=173, avg_val_loss=174, avg_val_mae=5.49, batch_nb=16, epoch=78, tng_loss=254.589, v_nb=1]"
     ]
    },
    {
     "name": "stdout",
     "output_type": "stream",
     "text": [
      "save callback...\n",
      "\n",
      "Epoch 00079: avg_val_mae did not improve\n"
     ]
    },
    {
     "name": "stderr",
     "output_type": "stream",
     "text": [
      " 97%|█████████▋| 35/36 [02:12<00:03,  3.67s/it, avg_laplacian_term=1.37, avg_val_fro=173, avg_val_loss=175, avg_val_mae=5.5, batch_nb=16, epoch=79, tng_loss=257.296, v_nb=1] "
     ]
    },
    {
     "name": "stdout",
     "output_type": "stream",
     "text": [
      "save callback...\n",
      "\n",
      "Epoch 00080: avg_val_mae did not improve\n"
     ]
    },
    {
     "name": "stderr",
     "output_type": "stream",
     "text": [
      " 97%|█████████▋| 35/36 [02:13<00:03,  3.73s/it, avg_laplacian_term=1.28, avg_val_fro=174, avg_val_loss=175, avg_val_mae=5.52, batch_nb=16, epoch=80, tng_loss=250.188, v_nb=1]"
     ]
    },
    {
     "name": "stdout",
     "output_type": "stream",
     "text": [
      "save callback...\n",
      "\n",
      "Epoch 00081: avg_val_mae did not improve\n"
     ]
    },
    {
     "name": "stderr",
     "output_type": "stream",
     "text": [
      " 97%|█████████▋| 35/36 [02:12<00:03,  3.67s/it, avg_laplacian_term=1.19, avg_val_fro=174, avg_val_loss=176, avg_val_mae=5.59, batch_nb=16, epoch=81, tng_loss=245.321, v_nb=1]"
     ]
    },
    {
     "name": "stdout",
     "output_type": "stream",
     "text": [
      "save callback...\n",
      "\n",
      "Epoch 00082: avg_val_mae did not improve\n"
     ]
    },
    {
     "name": "stderr",
     "output_type": "stream",
     "text": [
      " 97%|█████████▋| 35/36 [02:13<00:03,  3.70s/it, avg_laplacian_term=1.1, avg_val_fro=175, avg_val_loss=176, avg_val_mae=5.62, batch_nb=16, epoch=82, tng_loss=239.745, v_nb=1] "
     ]
    },
    {
     "name": "stdout",
     "output_type": "stream",
     "text": [
      "save callback...\n",
      "\n",
      "Epoch 00083: avg_val_mae did not improve\n"
     ]
    },
    {
     "name": "stderr",
     "output_type": "stream",
     "text": [
      " 97%|█████████▋| 35/36 [02:12<00:03,  3.72s/it, avg_laplacian_term=1.02, avg_val_fro=175, avg_val_loss=176, avg_val_mae=5.59, batch_nb=16, epoch=83, tng_loss=240.342, v_nb=1]"
     ]
    },
    {
     "name": "stdout",
     "output_type": "stream",
     "text": [
      "save callback...\n",
      "\n",
      "Epoch 00084: avg_val_mae did not improve\n"
     ]
    },
    {
     "name": "stderr",
     "output_type": "stream",
     "text": [
      " 97%|█████████▋| 35/36 [02:13<00:03,  3.65s/it, avg_laplacian_term=0.927, avg_val_fro=176, avg_val_loss=177, avg_val_mae=5.55, batch_nb=16, epoch=84, tng_loss=237.794, v_nb=1]"
     ]
    },
    {
     "name": "stdout",
     "output_type": "stream",
     "text": [
      "save callback...\n",
      "\n",
      "Epoch 00085: avg_val_mae did not improve\n"
     ]
    },
    {
     "name": "stderr",
     "output_type": "stream",
     "text": [
      " 97%|█████████▋| 35/36 [02:13<00:03,  3.68s/it, avg_laplacian_term=0.84, avg_val_fro=177, avg_val_loss=177, avg_val_mae=5.6, batch_nb=16, epoch=85, tng_loss=238.027, v_nb=1]  "
     ]
    },
    {
     "name": "stdout",
     "output_type": "stream",
     "text": [
      "save callback...\n",
      "\n",
      "Epoch 00086: avg_val_mae did not improve\n"
     ]
    },
    {
     "name": "stderr",
     "output_type": "stream",
     "text": [
      " 97%|█████████▋| 35/36 [02:13<00:03,  3.66s/it, avg_laplacian_term=0.753, avg_val_fro=177, avg_val_loss=178, avg_val_mae=5.58, batch_nb=16, epoch=86, tng_loss=229.477, v_nb=1]"
     ]
    },
    {
     "name": "stdout",
     "output_type": "stream",
     "text": [
      "save callback...\n",
      "\n",
      "Epoch 00087: avg_val_mae did not improve\n"
     ]
    },
    {
     "name": "stderr",
     "output_type": "stream",
     "text": [
      " 97%|█████████▋| 35/36 [02:12<00:03,  3.68s/it, avg_laplacian_term=0.666, avg_val_fro=178, avg_val_loss=178, avg_val_mae=5.64, batch_nb=16, epoch=87, tng_loss=237.608, v_nb=1]"
     ]
    },
    {
     "name": "stdout",
     "output_type": "stream",
     "text": [
      "save callback...\n",
      "\n",
      "Epoch 00088: avg_val_mae did not improve\n"
     ]
    },
    {
     "name": "stderr",
     "output_type": "stream",
     "text": [
      " 97%|█████████▋| 35/36 [02:12<00:03,  3.66s/it, avg_laplacian_term=0.581, avg_val_fro=178, avg_val_loss=179, avg_val_mae=5.61, batch_nb=16, epoch=88, tng_loss=233.276, v_nb=1]"
     ]
    },
    {
     "name": "stdout",
     "output_type": "stream",
     "text": [
      "save callback...\n",
      "\n",
      "Epoch 00089: avg_val_mae did not improve\n"
     ]
    },
    {
     "name": "stderr",
     "output_type": "stream",
     "text": [
      " 97%|█████████▋| 35/36 [02:12<00:03,  3.69s/it, avg_laplacian_term=0.49, avg_val_fro=179, avg_val_loss=179, avg_val_mae=5.65, batch_nb=16, epoch=89, tng_loss=230.750, v_nb=1] "
     ]
    },
    {
     "name": "stdout",
     "output_type": "stream",
     "text": [
      "save callback...\n",
      "\n",
      "Epoch 00090: avg_val_mae did not improve\n"
     ]
    },
    {
     "name": "stderr",
     "output_type": "stream",
     "text": [
      " 97%|█████████▋| 35/36 [02:13<00:03,  3.68s/it, avg_laplacian_term=0.4, avg_val_fro=179, avg_val_loss=180, avg_val_mae=5.69, batch_nb=16, epoch=90, tng_loss=227.503, v_nb=1] "
     ]
    },
    {
     "name": "stdout",
     "output_type": "stream",
     "text": [
      "save callback...\n",
      "\n",
      "Epoch 00091: avg_val_mae did not improve\n"
     ]
    },
    {
     "name": "stderr",
     "output_type": "stream",
     "text": [
      " 97%|█████████▋| 35/36 [02:13<00:03,  3.68s/it, avg_laplacian_term=0.313, avg_val_fro=180, avg_val_loss=180, avg_val_mae=5.68, batch_nb=16, epoch=91, tng_loss=229.283, v_nb=1]"
     ]
    },
    {
     "name": "stdout",
     "output_type": "stream",
     "text": [
      "save callback...\n",
      "\n",
      "Epoch 00092: avg_val_mae did not improve\n"
     ]
    },
    {
     "name": "stderr",
     "output_type": "stream",
     "text": [
      " 97%|█████████▋| 35/36 [02:13<00:03,  3.71s/it, avg_laplacian_term=0.22, avg_val_fro=181, avg_val_loss=181, avg_val_mae=5.67, batch_nb=16, epoch=92, tng_loss=219.022, v_nb=1] "
     ]
    },
    {
     "name": "stdout",
     "output_type": "stream",
     "text": [
      "save callback...\n",
      "\n",
      "Epoch 00093: avg_val_mae did not improve\n"
     ]
    },
    {
     "name": "stderr",
     "output_type": "stream",
     "text": [
      " 97%|█████████▋| 35/36 [02:13<00:03,  3.72s/it, avg_laplacian_term=0.132, avg_val_fro=181, avg_val_loss=181, avg_val_mae=5.69, batch_nb=16, epoch=93, tng_loss=219.832, v_nb=1]"
     ]
    },
    {
     "name": "stdout",
     "output_type": "stream",
     "text": [
      "save callback...\n",
      "\n",
      "Epoch 00094: avg_val_mae did not improve\n"
     ]
    },
    {
     "name": "stderr",
     "output_type": "stream",
     "text": [
      " 97%|█████████▋| 35/36 [02:12<00:03,  3.68s/it, avg_laplacian_term=0.0444, avg_val_fro=182, avg_val_loss=182, avg_val_mae=5.7, batch_nb=16, epoch=94, tng_loss=216.990, v_nb=1]"
     ]
    },
    {
     "name": "stdout",
     "output_type": "stream",
     "text": [
      "save callback...\n",
      "\n",
      "Epoch 00095: avg_val_mae did not improve\n"
     ]
    },
    {
     "name": "stderr",
     "output_type": "stream",
     "text": [
      " 97%|█████████▋| 35/36 [02:12<00:03,  3.69s/it, avg_laplacian_term=-.0469, avg_val_fro=183, avg_val_loss=182, avg_val_mae=5.7, batch_nb=16, epoch=95, tng_loss=217.354, v_nb=1]"
     ]
    },
    {
     "name": "stdout",
     "output_type": "stream",
     "text": [
      "save callback...\n",
      "\n",
      "Epoch 00096: avg_val_mae did not improve\n"
     ]
    },
    {
     "name": "stderr",
     "output_type": "stream",
     "text": [
      " 97%|█████████▋| 35/36 [02:12<00:03,  3.66s/it, avg_laplacian_term=-.135, avg_val_fro=183, avg_val_loss=183, avg_val_mae=5.69, batch_nb=16, epoch=96, tng_loss=214.365, v_nb=1]"
     ]
    },
    {
     "name": "stdout",
     "output_type": "stream",
     "text": [
      "save callback...\n",
      "\n",
      "Epoch 00097: avg_val_mae did not improve\n"
     ]
    },
    {
     "name": "stderr",
     "output_type": "stream",
     "text": [
      " 97%|█████████▋| 35/36 [02:13<00:03,  3.65s/it, avg_laplacian_term=-.228, avg_val_fro=184, avg_val_loss=184, avg_val_mae=5.72, batch_nb=16, epoch=97, tng_loss=207.985, v_nb=1]"
     ]
    },
    {
     "name": "stdout",
     "output_type": "stream",
     "text": [
      "save callback...\n",
      "\n",
      "Epoch 00098: avg_val_mae did not improve\n"
     ]
    },
    {
     "name": "stderr",
     "output_type": "stream",
     "text": [
      " 97%|█████████▋| 35/36 [02:13<00:03,  3.69s/it, avg_laplacian_term=-.318, avg_val_fro=185, avg_val_loss=184, avg_val_mae=5.7, batch_nb=16, epoch=98, tng_loss=210.349, v_nb=1] "
     ]
    },
    {
     "name": "stdout",
     "output_type": "stream",
     "text": [
      "save callback...\n",
      "\n",
      "Epoch 00099: avg_val_mae did not improve\n"
     ]
    },
    {
     "name": "stderr",
     "output_type": "stream",
     "text": [
      " 97%|█████████▋| 35/36 [02:13<00:03,  3.68s/it, avg_laplacian_term=-.409, avg_val_fro=185, avg_val_loss=185, avg_val_mae=5.78, batch_nb=16, epoch=99, tng_loss=212.747, v_nb=1]"
     ]
    },
    {
     "name": "stdout",
     "output_type": "stream",
     "text": [
      "save callback...\n",
      "\n",
      "Epoch 00100: avg_val_mae did not improve\n"
     ]
    },
    {
     "name": "stderr",
     "output_type": "stream",
     "text": [
      " 97%|█████████▋| 35/36 [02:12<00:03,  3.74s/it, avg_laplacian_term=-.503, avg_val_fro=186, avg_val_loss=185, avg_val_mae=5.81, batch_nb=16, epoch=100, tng_loss=212.735, v_nb=1]"
     ]
    },
    {
     "name": "stdout",
     "output_type": "stream",
     "text": [
      "save callback...\n",
      "\n",
      "Epoch 00101: avg_val_mae did not improve\n"
     ]
    },
    {
     "name": "stderr",
     "output_type": "stream",
     "text": [
      " 97%|█████████▋| 35/36 [02:14<00:03,  3.69s/it, avg_laplacian_term=-.593, avg_val_fro=187, avg_val_loss=186, avg_val_mae=5.85, batch_nb=16, epoch=101, tng_loss=206.334, v_nb=1]"
     ]
    },
    {
     "name": "stdout",
     "output_type": "stream",
     "text": [
      "save callback...\n",
      "\n",
      "Epoch 00102: avg_val_mae did not improve\n"
     ]
    },
    {
     "name": "stderr",
     "output_type": "stream",
     "text": [
      " 97%|█████████▋| 35/36 [02:12<00:03,  3.69s/it, avg_laplacian_term=-.683, avg_val_fro=187, avg_val_loss=187, avg_val_mae=5.81, batch_nb=16, epoch=102, tng_loss=209.315, v_nb=1]"
     ]
    },
    {
     "name": "stdout",
     "output_type": "stream",
     "text": [
      "save callback...\n",
      "\n",
      "Epoch 00103: avg_val_mae did not improve\n"
     ]
    },
    {
     "name": "stderr",
     "output_type": "stream",
     "text": [
      " 97%|█████████▋| 35/36 [02:12<00:03,  3.69s/it, avg_laplacian_term=-.777, avg_val_fro=188, avg_val_loss=187, avg_val_mae=5.79, batch_nb=16, epoch=103, tng_loss=204.821, v_nb=1]"
     ]
    },
    {
     "name": "stdout",
     "output_type": "stream",
     "text": [
      "save callback...\n",
      "\n",
      "Epoch 00104: avg_val_mae did not improve\n"
     ]
    },
    {
     "name": "stderr",
     "output_type": "stream",
     "text": [
      " 97%|█████████▋| 35/36 [02:13<00:03,  3.72s/it, avg_laplacian_term=-.869, avg_val_fro=189, avg_val_loss=188, avg_val_mae=5.86, batch_nb=16, epoch=104, tng_loss=209.186, v_nb=1]"
     ]
    },
    {
     "name": "stdout",
     "output_type": "stream",
     "text": [
      "save callback...\n",
      "\n",
      "Epoch 00105: avg_val_mae did not improve\n"
     ]
    },
    {
     "name": "stderr",
     "output_type": "stream",
     "text": [
      " 97%|█████████▋| 35/36 [02:13<00:03,  3.68s/it, avg_laplacian_term=-.965, avg_val_fro=190, avg_val_loss=189, avg_val_mae=5.84, batch_nb=16, epoch=105, tng_loss=205.557, v_nb=1]"
     ]
    },
    {
     "name": "stdout",
     "output_type": "stream",
     "text": [
      "save callback...\n",
      "\n",
      "Epoch 00106: avg_val_mae did not improve\n"
     ]
    },
    {
     "name": "stderr",
     "output_type": "stream",
     "text": [
      " 97%|█████████▋| 35/36 [02:13<00:03,  3.70s/it, avg_laplacian_term=-1.06, avg_val_fro=190, avg_val_loss=189, avg_val_mae=5.74, batch_nb=16, epoch=106, tng_loss=201.042, v_nb=1]"
     ]
    },
    {
     "name": "stdout",
     "output_type": "stream",
     "text": [
      "save callback...\n",
      "\n",
      "Epoch 00107: avg_val_mae did not improve\n"
     ]
    },
    {
     "name": "stderr",
     "output_type": "stream",
     "text": [
      " 97%|█████████▋| 35/36 [02:12<00:03,  3.69s/it, avg_laplacian_term=-1.15, avg_val_fro=191, avg_val_loss=190, avg_val_mae=5.81, batch_nb=16, epoch=107, tng_loss=200.865, v_nb=1]"
     ]
    },
    {
     "name": "stdout",
     "output_type": "stream",
     "text": [
      "save callback...\n",
      "\n",
      "Epoch 00108: avg_val_mae did not improve\n"
     ]
    },
    {
     "name": "stderr",
     "output_type": "stream",
     "text": [
      " 97%|█████████▋| 35/36 [02:13<00:03,  3.69s/it, avg_laplacian_term=-1.24, avg_val_fro=192, avg_val_loss=191, avg_val_mae=5.83, batch_nb=16, epoch=108, tng_loss=200.426, v_nb=1]"
     ]
    },
    {
     "name": "stdout",
     "output_type": "stream",
     "text": [
      "save callback...\n",
      "\n",
      "Epoch 00109: avg_val_mae did not improve\n"
     ]
    },
    {
     "name": "stderr",
     "output_type": "stream",
     "text": [
      " 97%|█████████▋| 35/36 [02:13<00:03,  3.71s/it, avg_laplacian_term=-1.33, avg_val_fro=193, avg_val_loss=191, avg_val_mae=5.84, batch_nb=16, epoch=109, tng_loss=199.124, v_nb=1]"
     ]
    },
    {
     "name": "stdout",
     "output_type": "stream",
     "text": [
      "save callback...\n",
      "\n",
      "Epoch 00110: avg_val_mae did not improve\n"
     ]
    },
    {
     "name": "stderr",
     "output_type": "stream",
     "text": [
      " 97%|█████████▋| 35/36 [02:13<00:03,  3.68s/it, avg_laplacian_term=-1.43, avg_val_fro=194, avg_val_loss=192, avg_val_mae=5.9, batch_nb=16, epoch=110, tng_loss=195.616, v_nb=1] "
     ]
    },
    {
     "name": "stdout",
     "output_type": "stream",
     "text": [
      "save callback...\n",
      "\n",
      "Epoch 00111: avg_val_mae did not improve\n"
     ]
    },
    {
     "name": "stderr",
     "output_type": "stream",
     "text": [
      " 97%|█████████▋| 35/36 [02:12<00:03,  3.69s/it, avg_laplacian_term=-1.52, avg_val_fro=194, avg_val_loss=193, avg_val_mae=5.9, batch_nb=16, epoch=111, tng_loss=199.195, v_nb=1]"
     ]
    },
    {
     "name": "stdout",
     "output_type": "stream",
     "text": [
      "save callback...\n",
      "\n",
      "Epoch 00112: avg_val_mae did not improve\n"
     ]
    },
    {
     "name": "stderr",
     "output_type": "stream",
     "text": [
      " 97%|█████████▋| 35/36 [02:12<00:03,  3.67s/it, avg_laplacian_term=-1.62, avg_val_fro=195, avg_val_loss=194, avg_val_mae=5.92, batch_nb=16, epoch=112, tng_loss=194.128, v_nb=1]"
     ]
    },
    {
     "name": "stdout",
     "output_type": "stream",
     "text": [
      "save callback...\n",
      "\n",
      "Epoch 00113: avg_val_mae did not improve\n"
     ]
    },
    {
     "name": "stderr",
     "output_type": "stream",
     "text": [
      " 97%|█████████▋| 35/36 [02:12<00:03,  3.68s/it, avg_laplacian_term=-1.71, avg_val_fro=196, avg_val_loss=194, avg_val_mae=5.89, batch_nb=16, epoch=113, tng_loss=195.213, v_nb=1]"
     ]
    },
    {
     "name": "stdout",
     "output_type": "stream",
     "text": [
      "save callback...\n",
      "\n",
      "Epoch 00114: avg_val_mae did not improve\n"
     ]
    },
    {
     "name": "stderr",
     "output_type": "stream",
     "text": [
      " 97%|█████████▋| 35/36 [02:13<00:03,  3.67s/it, avg_laplacian_term=-1.81, avg_val_fro=197, avg_val_loss=195, avg_val_mae=5.89, batch_nb=16, epoch=114, tng_loss=188.183, v_nb=1]"
     ]
    },
    {
     "name": "stdout",
     "output_type": "stream",
     "text": [
      "save callback...\n",
      "\n",
      "Epoch 00115: avg_val_mae did not improve\n"
     ]
    },
    {
     "name": "stderr",
     "output_type": "stream",
     "text": [
      " 97%|█████████▋| 35/36 [02:13<00:03,  3.68s/it, avg_laplacian_term=-1.91, avg_val_fro=198, avg_val_loss=196, avg_val_mae=5.98, batch_nb=16, epoch=115, tng_loss=193.168, v_nb=1]"
     ]
    },
    {
     "name": "stdout",
     "output_type": "stream",
     "text": [
      "save callback...\n",
      "\n",
      "Epoch 00116: avg_val_mae did not improve\n"
     ]
    },
    {
     "name": "stderr",
     "output_type": "stream",
     "text": [
      " 97%|█████████▋| 35/36 [02:13<00:03,  3.72s/it, avg_laplacian_term=-2, avg_val_fro=199, avg_val_loss=197, avg_val_mae=5.98, batch_nb=16, epoch=116, tng_loss=193.164, v_nb=1]   "
     ]
    },
    {
     "name": "stdout",
     "output_type": "stream",
     "text": [
      "save callback...\n",
      "\n",
      "Epoch 00117: avg_val_mae did not improve\n"
     ]
    },
    {
     "name": "stderr",
     "output_type": "stream",
     "text": [
      " 97%|█████████▋| 35/36 [02:13<00:03,  3.76s/it, avg_laplacian_term=-2.1, avg_val_fro=199, avg_val_loss=197, avg_val_mae=6.02, batch_nb=16, epoch=117, tng_loss=191.685, v_nb=1]"
     ]
    },
    {
     "name": "stdout",
     "output_type": "stream",
     "text": [
      "save callback...\n",
      "\n",
      "Epoch 00118: avg_val_mae did not improve\n"
     ]
    },
    {
     "name": "stderr",
     "output_type": "stream",
     "text": [
      " 97%|█████████▋| 35/36 [02:12<00:03,  3.68s/it, avg_laplacian_term=-2.19, avg_val_fro=200, avg_val_loss=198, avg_val_mae=5.98, batch_nb=16, epoch=118, tng_loss=190.741, v_nb=1]"
     ]
    },
    {
     "name": "stdout",
     "output_type": "stream",
     "text": [
      "save callback...\n",
      "\n",
      "Epoch 00119: avg_val_mae did not improve\n"
     ]
    },
    {
     "name": "stderr",
     "output_type": "stream",
     "text": [
      " 97%|█████████▋| 35/36 [02:13<00:03,  3.68s/it, avg_laplacian_term=-2.29, avg_val_fro=201, avg_val_loss=199, avg_val_mae=5.98, batch_nb=16, epoch=119, tng_loss=192.211, v_nb=1]"
     ]
    },
    {
     "name": "stdout",
     "output_type": "stream",
     "text": [
      "save callback...\n",
      "\n",
      "Epoch 00120: avg_val_mae did not improve\n"
     ]
    },
    {
     "name": "stderr",
     "output_type": "stream",
     "text": [
      " 97%|█████████▋| 35/36 [02:13<00:03,  3.67s/it, avg_laplacian_term=-2.39, avg_val_fro=202, avg_val_loss=200, avg_val_mae=6.06, batch_nb=16, epoch=120, tng_loss=190.890, v_nb=1]"
     ]
    },
    {
     "name": "stdout",
     "output_type": "stream",
     "text": [
      "save callback...\n",
      "\n",
      "Epoch 00121: avg_val_mae did not improve\n"
     ]
    },
    {
     "name": "stderr",
     "output_type": "stream",
     "text": [
      " 97%|█████████▋| 35/36 [02:13<00:03,  3.68s/it, avg_laplacian_term=-2.48, avg_val_fro=203, avg_val_loss=200, avg_val_mae=6.05, batch_nb=16, epoch=121, tng_loss=188.762, v_nb=1]"
     ]
    },
    {
     "name": "stdout",
     "output_type": "stream",
     "text": [
      "save callback...\n",
      "\n",
      "Epoch 00122: avg_val_mae did not improve\n"
     ]
    },
    {
     "name": "stderr",
     "output_type": "stream",
     "text": [
      " 97%|█████████▋| 35/36 [02:12<00:03,  3.68s/it, avg_laplacian_term=-2.58, avg_val_fro=204, avg_val_loss=201, avg_val_mae=6.07, batch_nb=16, epoch=122, tng_loss=187.209, v_nb=1]"
     ]
    },
    {
     "name": "stdout",
     "output_type": "stream",
     "text": [
      "save callback...\n",
      "\n",
      "Epoch 00123: avg_val_mae did not improve\n"
     ]
    },
    {
     "name": "stderr",
     "output_type": "stream",
     "text": [
      " 97%|█████████▋| 35/36 [02:13<00:03,  3.67s/it, avg_laplacian_term=-2.68, avg_val_fro=204, avg_val_loss=202, avg_val_mae=6.04, batch_nb=16, epoch=123, tng_loss=186.809, v_nb=1]"
     ]
    },
    {
     "name": "stdout",
     "output_type": "stream",
     "text": [
      "save callback...\n",
      "\n",
      "Epoch 00124: avg_val_mae did not improve\n"
     ]
    },
    {
     "name": "stderr",
     "output_type": "stream",
     "text": [
      " 97%|█████████▋| 35/36 [02:12<00:03,  3.68s/it, avg_laplacian_term=-2.77, avg_val_fro=205, avg_val_loss=203, avg_val_mae=6.1, batch_nb=16, epoch=124, tng_loss=182.209, v_nb=1] "
     ]
    },
    {
     "name": "stdout",
     "output_type": "stream",
     "text": [
      "save callback...\n",
      "\n",
      "Epoch 00125: avg_val_mae did not improve\n"
     ]
    },
    {
     "name": "stderr",
     "output_type": "stream",
     "text": [
      " 97%|█████████▋| 35/36 [02:12<00:03,  3.66s/it, avg_laplacian_term=-2.86, avg_val_fro=206, avg_val_loss=204, avg_val_mae=6.12, batch_nb=16, epoch=125, tng_loss=184.984, v_nb=1]"
     ]
    },
    {
     "name": "stdout",
     "output_type": "stream",
     "text": [
      "save callback...\n",
      "\n",
      "Epoch 00126: avg_val_mae did not improve\n"
     ]
    },
    {
     "name": "stderr",
     "output_type": "stream",
     "text": [
      " 97%|█████████▋| 35/36 [02:12<00:03,  3.68s/it, avg_laplacian_term=-2.96, avg_val_fro=207, avg_val_loss=204, avg_val_mae=6.18, batch_nb=16, epoch=126, tng_loss=179.907, v_nb=1]"
     ]
    },
    {
     "name": "stdout",
     "output_type": "stream",
     "text": [
      "save callback...\n",
      "\n",
      "Epoch 00127: avg_val_mae did not improve\n"
     ]
    },
    {
     "name": "stderr",
     "output_type": "stream",
     "text": [
      " 97%|█████████▋| 35/36 [02:13<00:03,  3.65s/it, avg_laplacian_term=-3.05, avg_val_fro=208, avg_val_loss=205, avg_val_mae=6.1, batch_nb=16, epoch=127, tng_loss=184.994, v_nb=1] "
     ]
    },
    {
     "name": "stdout",
     "output_type": "stream",
     "text": [
      "save callback...\n",
      "\n",
      "Epoch 00128: avg_val_mae did not improve\n"
     ]
    },
    {
     "name": "stderr",
     "output_type": "stream",
     "text": [
      " 97%|█████████▋| 35/36 [02:13<00:03,  3.70s/it, avg_laplacian_term=-3.14, avg_val_fro=209, avg_val_loss=206, avg_val_mae=6.08, batch_nb=16, epoch=128, tng_loss=179.329, v_nb=1]"
     ]
    },
    {
     "name": "stdout",
     "output_type": "stream",
     "text": [
      "save callback...\n",
      "\n",
      "Epoch 00129: avg_val_mae did not improve\n"
     ]
    },
    {
     "name": "stderr",
     "output_type": "stream",
     "text": [
      " 97%|█████████▋| 35/36 [02:13<00:03,  3.68s/it, avg_laplacian_term=-3.24, avg_val_fro=210, avg_val_loss=207, avg_val_mae=6.13, batch_nb=16, epoch=129, tng_loss=182.418, v_nb=1]"
     ]
    },
    {
     "name": "stdout",
     "output_type": "stream",
     "text": [
      "save callback...\n",
      "\n",
      "Epoch 00130: avg_val_mae did not improve\n"
     ]
    },
    {
     "name": "stderr",
     "output_type": "stream",
     "text": [
      " 97%|█████████▋| 35/36 [02:13<00:03,  3.67s/it, avg_laplacian_term=-3.33, avg_val_fro=211, avg_val_loss=208, avg_val_mae=6.18, batch_nb=16, epoch=130, tng_loss=179.266, v_nb=1]"
     ]
    },
    {
     "name": "stdout",
     "output_type": "stream",
     "text": [
      "save callback...\n",
      "\n",
      "Epoch 00131: avg_val_mae did not improve\n"
     ]
    },
    {
     "name": "stderr",
     "output_type": "stream",
     "text": [
      " 97%|█████████▋| 35/36 [02:12<00:03,  3.69s/it, avg_laplacian_term=-3.42, avg_val_fro=212, avg_val_loss=209, avg_val_mae=6.21, batch_nb=16, epoch=131, tng_loss=178.988, v_nb=1]"
     ]
    },
    {
     "name": "stdout",
     "output_type": "stream",
     "text": [
      "save callback...\n",
      "\n",
      "Epoch 00132: avg_val_mae did not improve\n"
     ]
    },
    {
     "name": "stderr",
     "output_type": "stream",
     "text": [
      " 97%|█████████▋| 35/36 [02:14<00:03,  3.72s/it, avg_laplacian_term=-3.51, avg_val_fro=213, avg_val_loss=210, avg_val_mae=6.21, batch_nb=16, epoch=132, tng_loss=174.419, v_nb=1]"
     ]
    },
    {
     "name": "stdout",
     "output_type": "stream",
     "text": [
      "save callback...\n",
      "\n",
      "Epoch 00133: avg_val_mae did not improve\n"
     ]
    },
    {
     "name": "stderr",
     "output_type": "stream",
     "text": [
      " 97%|█████████▋| 35/36 [02:12<00:03,  3.66s/it, avg_laplacian_term=-3.6, avg_val_fro=214, avg_val_loss=211, avg_val_mae=6.26, batch_nb=16, epoch=133, tng_loss=179.284, v_nb=1] "
     ]
    },
    {
     "name": "stdout",
     "output_type": "stream",
     "text": [
      "save callback...\n",
      "\n",
      "Epoch 00134: avg_val_mae did not improve\n"
     ]
    },
    {
     "name": "stderr",
     "output_type": "stream",
     "text": [
      " 97%|█████████▋| 35/36 [02:13<00:03,  3.69s/it, avg_laplacian_term=-3.69, avg_val_fro=215, avg_val_loss=212, avg_val_mae=6.27, batch_nb=16, epoch=134, tng_loss=171.625, v_nb=1]"
     ]
    },
    {
     "name": "stdout",
     "output_type": "stream",
     "text": [
      "save callback...\n",
      "\n",
      "Epoch 00135: avg_val_mae did not improve\n"
     ]
    },
    {
     "name": "stderr",
     "output_type": "stream",
     "text": [
      " 97%|█████████▋| 35/36 [02:13<00:03,  3.70s/it, avg_laplacian_term=-3.78, avg_val_fro=216, avg_val_loss=213, avg_val_mae=6.27, batch_nb=16, epoch=135, tng_loss=180.127, v_nb=1]"
     ]
    },
    {
     "name": "stdout",
     "output_type": "stream",
     "text": [
      "save callback...\n",
      "\n",
      "Epoch 00136: avg_val_mae did not improve\n"
     ]
    },
    {
     "name": "stderr",
     "output_type": "stream",
     "text": [
      " 97%|█████████▋| 35/36 [02:13<00:03,  3.81s/it, avg_laplacian_term=-3.87, avg_val_fro=218, avg_val_loss=214, avg_val_mae=6.3, batch_nb=16, epoch=136, tng_loss=178.410, v_nb=1] "
     ]
    },
    {
     "name": "stdout",
     "output_type": "stream",
     "text": [
      "save callback...\n",
      "\n",
      "Epoch 00137: avg_val_mae did not improve\n"
     ]
    },
    {
     "name": "stderr",
     "output_type": "stream",
     "text": [
      " 97%|█████████▋| 35/36 [02:13<00:03,  3.70s/it, avg_laplacian_term=-3.95, avg_val_fro=219, avg_val_loss=215, avg_val_mae=6.27, batch_nb=16, epoch=137, tng_loss=172.841, v_nb=1]"
     ]
    },
    {
     "name": "stdout",
     "output_type": "stream",
     "text": [
      "save callback...\n",
      "\n",
      "Epoch 00138: avg_val_mae did not improve\n"
     ]
    },
    {
     "name": "stderr",
     "output_type": "stream",
     "text": [
      " 97%|█████████▋| 35/36 [02:13<00:03,  3.64s/it, avg_laplacian_term=-4.03, avg_val_fro=220, avg_val_loss=216, avg_val_mae=6.29, batch_nb=16, epoch=138, tng_loss=170.873, v_nb=1]"
     ]
    },
    {
     "name": "stdout",
     "output_type": "stream",
     "text": [
      "save callback...\n",
      "\n",
      "Epoch 00139: avg_val_mae did not improve\n"
     ]
    },
    {
     "name": "stderr",
     "output_type": "stream",
     "text": [
      " 97%|█████████▋| 35/36 [02:12<00:03,  3.70s/it, avg_laplacian_term=-4.12, avg_val_fro=221, avg_val_loss=217, avg_val_mae=6.36, batch_nb=16, epoch=139, tng_loss=168.369, v_nb=1]"
     ]
    },
    {
     "name": "stdout",
     "output_type": "stream",
     "text": [
      "save callback...\n",
      "\n",
      "Epoch 00140: avg_val_mae did not improve\n"
     ]
    },
    {
     "name": "stderr",
     "output_type": "stream",
     "text": [
      " 97%|█████████▋| 35/36 [02:13<00:03,  3.70s/it, avg_laplacian_term=-4.2, avg_val_fro=222, avg_val_loss=218, avg_val_mae=6.39, batch_nb=16, epoch=140, tng_loss=171.127, v_nb=1] "
     ]
    },
    {
     "name": "stdout",
     "output_type": "stream",
     "text": [
      "save callback...\n",
      "\n",
      "Epoch 00141: avg_val_mae did not improve\n"
     ]
    },
    {
     "name": "stderr",
     "output_type": "stream",
     "text": [
      " 97%|█████████▋| 35/36 [02:12<00:03,  3.69s/it, avg_laplacian_term=-4.28, avg_val_fro=223, avg_val_loss=219, avg_val_mae=6.29, batch_nb=16, epoch=141, tng_loss=171.665, v_nb=1]"
     ]
    },
    {
     "name": "stdout",
     "output_type": "stream",
     "text": [
      "save callback...\n",
      "\n",
      "Epoch 00142: avg_val_mae did not improve\n"
     ]
    },
    {
     "name": "stderr",
     "output_type": "stream",
     "text": [
      " 97%|█████████▋| 35/36 [02:12<00:03,  3.71s/it, avg_laplacian_term=-4.35, avg_val_fro=224, avg_val_loss=220, avg_val_mae=6.4, batch_nb=16, epoch=142, tng_loss=169.427, v_nb=1] "
     ]
    },
    {
     "name": "stdout",
     "output_type": "stream",
     "text": [
      "save callback...\n",
      "\n",
      "Epoch 00143: avg_val_mae did not improve\n"
     ]
    },
    {
     "name": "stderr",
     "output_type": "stream",
     "text": [
      " 97%|█████████▋| 35/36 [02:12<00:03,  3.67s/it, avg_laplacian_term=-4.43, avg_val_fro=225, avg_val_loss=221, avg_val_mae=6.43, batch_nb=16, epoch=143, tng_loss=172.587, v_nb=1]"
     ]
    },
    {
     "name": "stdout",
     "output_type": "stream",
     "text": [
      "save callback...\n",
      "\n",
      "Epoch 00144: avg_val_mae did not improve\n"
     ]
    },
    {
     "name": "stderr",
     "output_type": "stream",
     "text": [
      " 97%|█████████▋| 35/36 [02:12<00:03,  3.67s/it, avg_laplacian_term=-4.51, avg_val_fro=227, avg_val_loss=222, avg_val_mae=6.39, batch_nb=16, epoch=144, tng_loss=171.441, v_nb=1]"
     ]
    },
    {
     "name": "stdout",
     "output_type": "stream",
     "text": [
      "save callback...\n",
      "\n",
      "Epoch 00145: avg_val_mae did not improve\n"
     ]
    },
    {
     "name": "stderr",
     "output_type": "stream",
     "text": [
      " 97%|█████████▋| 35/36 [02:12<00:03,  3.67s/it, avg_laplacian_term=-4.58, avg_val_fro=228, avg_val_loss=223, avg_val_mae=6.41, batch_nb=16, epoch=145, tng_loss=169.628, v_nb=1]"
     ]
    },
    {
     "name": "stdout",
     "output_type": "stream",
     "text": [
      "save callback...\n",
      "\n",
      "Epoch 00146: avg_val_mae did not improve\n"
     ]
    },
    {
     "name": "stderr",
     "output_type": "stream",
     "text": [
      " 97%|█████████▋| 35/36 [02:13<00:03,  3.66s/it, avg_laplacian_term=-4.65, avg_val_fro=229, avg_val_loss=224, avg_val_mae=6.5, batch_nb=16, epoch=146, tng_loss=168.718, v_nb=1] "
     ]
    },
    {
     "name": "stdout",
     "output_type": "stream",
     "text": [
      "save callback...\n",
      "\n",
      "Epoch 00147: avg_val_mae did not improve\n"
     ]
    },
    {
     "name": "stderr",
     "output_type": "stream",
     "text": [
      " 97%|█████████▋| 35/36 [02:12<00:03,  3.68s/it, avg_laplacian_term=-4.72, avg_val_fro=230, avg_val_loss=225, avg_val_mae=6.43, batch_nb=16, epoch=147, tng_loss=162.440, v_nb=1]"
     ]
    },
    {
     "name": "stdout",
     "output_type": "stream",
     "text": [
      "save callback...\n",
      "\n",
      "Epoch 00148: avg_val_mae did not improve\n"
     ]
    },
    {
     "name": "stderr",
     "output_type": "stream",
     "text": [
      " 97%|█████████▋| 35/36 [02:13<00:03,  3.70s/it, avg_laplacian_term=-4.8, avg_val_fro=231, avg_val_loss=227, avg_val_mae=6.49, batch_nb=16, epoch=148, tng_loss=162.193, v_nb=1] "
     ]
    },
    {
     "name": "stdout",
     "output_type": "stream",
     "text": [
      "save callback...\n",
      "\n",
      "Epoch 00149: avg_val_mae did not improve\n"
     ]
    },
    {
     "name": "stderr",
     "output_type": "stream",
     "text": [
      " 97%|█████████▋| 35/36 [02:12<00:03,  3.68s/it, avg_laplacian_term=-4.86, avg_val_fro=233, avg_val_loss=228, avg_val_mae=6.46, batch_nb=16, epoch=149, tng_loss=165.688, v_nb=1]"
     ]
    },
    {
     "name": "stdout",
     "output_type": "stream",
     "text": [
      "save callback...\n",
      "\n",
      "Epoch 00150: avg_val_mae did not improve\n"
     ]
    },
    {
     "name": "stderr",
     "output_type": "stream",
     "text": [
      " 97%|█████████▋| 35/36 [02:12<00:03,  3.69s/it, avg_laplacian_term=-4.93, avg_val_fro=234, avg_val_loss=229, avg_val_mae=6.54, batch_nb=16, epoch=150, tng_loss=161.842, v_nb=1]"
     ]
    },
    {
     "name": "stdout",
     "output_type": "stream",
     "text": [
      "save callback...\n",
      "\n",
      "Epoch 00151: avg_val_mae did not improve\n"
     ]
    },
    {
     "name": "stderr",
     "output_type": "stream",
     "text": [
      " 97%|█████████▋| 35/36 [02:12<00:03,  3.69s/it, avg_laplacian_term=-4.99, avg_val_fro=235, avg_val_loss=230, avg_val_mae=6.54, batch_nb=16, epoch=151, tng_loss=164.535, v_nb=1]"
     ]
    },
    {
     "name": "stdout",
     "output_type": "stream",
     "text": [
      "save callback...\n",
      "\n",
      "Epoch 00152: avg_val_mae did not improve\n"
     ]
    },
    {
     "name": "stderr",
     "output_type": "stream",
     "text": [
      " 97%|█████████▋| 35/36 [02:13<00:03,  3.67s/it, avg_laplacian_term=-5.06, avg_val_fro=237, avg_val_loss=232, avg_val_mae=6.57, batch_nb=16, epoch=152, tng_loss=160.892, v_nb=1]"
     ]
    },
    {
     "name": "stdout",
     "output_type": "stream",
     "text": [
      "save callback...\n",
      "\n",
      "Epoch 00153: avg_val_mae did not improve\n"
     ]
    },
    {
     "name": "stderr",
     "output_type": "stream",
     "text": [
      " 97%|█████████▋| 35/36 [02:13<00:03,  3.69s/it, avg_laplacian_term=-5.12, avg_val_fro=238, avg_val_loss=233, avg_val_mae=6.57, batch_nb=16, epoch=153, tng_loss=159.084, v_nb=1]"
     ]
    },
    {
     "name": "stdout",
     "output_type": "stream",
     "text": [
      "save callback...\n",
      "\n",
      "Epoch 00154: avg_val_mae did not improve\n"
     ]
    },
    {
     "name": "stderr",
     "output_type": "stream",
     "text": [
      " 97%|█████████▋| 35/36 [02:12<00:03,  3.66s/it, avg_laplacian_term=-5.19, avg_val_fro=240, avg_val_loss=234, avg_val_mae=6.62, batch_nb=16, epoch=154, tng_loss=161.741, v_nb=1]"
     ]
    },
    {
     "name": "stdout",
     "output_type": "stream",
     "text": [
      "save callback...\n",
      "\n",
      "Epoch 00155: avg_val_mae did not improve\n"
     ]
    },
    {
     "name": "stderr",
     "output_type": "stream",
     "text": [
      " 97%|█████████▋| 35/36 [02:12<00:03,  3.69s/it, avg_laplacian_term=-5.25, avg_val_fro=241, avg_val_loss=236, avg_val_mae=6.69, batch_nb=16, epoch=155, tng_loss=158.430, v_nb=1]"
     ]
    },
    {
     "name": "stdout",
     "output_type": "stream",
     "text": [
      "save callback...\n",
      "\n",
      "Epoch 00156: avg_val_mae did not improve\n"
     ]
    },
    {
     "name": "stderr",
     "output_type": "stream",
     "text": [
      " 97%|█████████▋| 35/36 [02:12<00:03,  3.72s/it, avg_laplacian_term=-5.31, avg_val_fro=242, avg_val_loss=237, avg_val_mae=6.7, batch_nb=16, epoch=156, tng_loss=156.803, v_nb=1] "
     ]
    },
    {
     "name": "stdout",
     "output_type": "stream",
     "text": [
      "save callback...\n",
      "\n",
      "Epoch 00157: avg_val_mae did not improve\n"
     ]
    },
    {
     "name": "stderr",
     "output_type": "stream",
     "text": [
      " 97%|█████████▋| 35/36 [02:13<00:03,  3.69s/it, avg_laplacian_term=-5.37, avg_val_fro=243, avg_val_loss=238, avg_val_mae=6.72, batch_nb=16, epoch=157, tng_loss=153.019, v_nb=1]"
     ]
    },
    {
     "name": "stdout",
     "output_type": "stream",
     "text": [
      "save callback...\n",
      "\n",
      "Epoch 00158: avg_val_mae did not improve\n"
     ]
    },
    {
     "name": "stderr",
     "output_type": "stream",
     "text": [
      " 97%|█████████▋| 35/36 [02:12<00:03,  3.68s/it, avg_laplacian_term=-5.44, avg_val_fro=245, avg_val_loss=240, avg_val_mae=6.73, batch_nb=16, epoch=158, tng_loss=155.359, v_nb=1]"
     ]
    },
    {
     "name": "stdout",
     "output_type": "stream",
     "text": [
      "save callback...\n",
      "\n",
      "Epoch 00159: avg_val_mae did not improve\n"
     ]
    },
    {
     "name": "stderr",
     "output_type": "stream",
     "text": [
      " 97%|█████████▋| 35/36 [02:13<00:03,  3.68s/it, avg_laplacian_term=-5.51, avg_val_fro=247, avg_val_loss=241, avg_val_mae=6.74, batch_nb=16, epoch=159, tng_loss=148.987, v_nb=1]"
     ]
    },
    {
     "name": "stdout",
     "output_type": "stream",
     "text": [
      "save callback...\n",
      "\n",
      "Epoch 00160: avg_val_mae did not improve\n"
     ]
    },
    {
     "name": "stderr",
     "output_type": "stream",
     "text": [
      " 97%|█████████▋| 35/36 [02:12<00:03,  3.66s/it, avg_laplacian_term=-5.57, avg_val_fro=248, avg_val_loss=243, avg_val_mae=6.8, batch_nb=16, epoch=160, tng_loss=152.485, v_nb=1] "
     ]
    },
    {
     "name": "stdout",
     "output_type": "stream",
     "text": [
      "save callback...\n",
      "\n",
      "Epoch 00161: avg_val_mae did not improve\n"
     ]
    },
    {
     "name": "stderr",
     "output_type": "stream",
     "text": [
      " 97%|█████████▋| 35/36 [02:12<00:03,  3.65s/it, avg_laplacian_term=-5.64, avg_val_fro=249, avg_val_loss=244, avg_val_mae=6.77, batch_nb=16, epoch=161, tng_loss=151.057, v_nb=1]"
     ]
    },
    {
     "name": "stdout",
     "output_type": "stream",
     "text": [
      "save callback...\n",
      "\n",
      "Epoch 00162: avg_val_mae did not improve\n"
     ]
    },
    {
     "name": "stderr",
     "output_type": "stream",
     "text": [
      " 97%|█████████▋| 35/36 [02:12<00:03,  3.69s/it, avg_laplacian_term=-5.71, avg_val_fro=251, avg_val_loss=246, avg_val_mae=6.78, batch_nb=16, epoch=162, tng_loss=151.398, v_nb=1]"
     ]
    },
    {
     "name": "stdout",
     "output_type": "stream",
     "text": [
      "save callback...\n",
      "\n",
      "Epoch 00163: avg_val_mae did not improve\n"
     ]
    },
    {
     "name": "stderr",
     "output_type": "stream",
     "text": [
      " 97%|█████████▋| 35/36 [02:12<00:03,  3.70s/it, avg_laplacian_term=-5.78, avg_val_fro=253, avg_val_loss=247, avg_val_mae=6.9, batch_nb=16, epoch=163, tng_loss=147.387, v_nb=1] "
     ]
    },
    {
     "name": "stdout",
     "output_type": "stream",
     "text": [
      "save callback...\n",
      "\n",
      "Epoch 00164: avg_val_mae did not improve\n"
     ]
    },
    {
     "name": "stderr",
     "output_type": "stream",
     "text": [
      " 97%|█████████▋| 35/36 [02:13<00:03,  3.69s/it, avg_laplacian_term=-5.87, avg_val_fro=254, avg_val_loss=248, avg_val_mae=6.91, batch_nb=16, epoch=164, tng_loss=146.422, v_nb=1]"
     ]
    },
    {
     "name": "stdout",
     "output_type": "stream",
     "text": [
      "save callback...\n",
      "\n",
      "Epoch 00165: avg_val_mae did not improve\n"
     ]
    },
    {
     "name": "stderr",
     "output_type": "stream",
     "text": [
      " 97%|█████████▋| 35/36 [02:12<00:03,  3.69s/it, avg_laplacian_term=-5.94, avg_val_fro=256, avg_val_loss=250, avg_val_mae=6.85, batch_nb=16, epoch=165, tng_loss=148.097, v_nb=1]"
     ]
    },
    {
     "name": "stdout",
     "output_type": "stream",
     "text": [
      "save callback...\n",
      "\n",
      "Epoch 00166: avg_val_mae did not improve\n"
     ]
    },
    {
     "name": "stderr",
     "output_type": "stream",
     "text": [
      " 97%|█████████▋| 35/36 [02:13<00:03,  3.72s/it, avg_laplacian_term=-6.03, avg_val_fro=258, avg_val_loss=252, avg_val_mae=6.89, batch_nb=16, epoch=166, tng_loss=146.051, v_nb=1]"
     ]
    },
    {
     "name": "stdout",
     "output_type": "stream",
     "text": [
      "save callback...\n",
      "\n",
      "Epoch 00167: avg_val_mae did not improve\n"
     ]
    },
    {
     "name": "stderr",
     "output_type": "stream",
     "text": [
      " 97%|█████████▋| 35/36 [02:12<00:03,  3.69s/it, avg_laplacian_term=-6.11, avg_val_fro=259, avg_val_loss=253, avg_val_mae=7, batch_nb=16, epoch=167, tng_loss=141.359, v_nb=1]   "
     ]
    },
    {
     "name": "stdout",
     "output_type": "stream",
     "text": [
      "save callback...\n",
      "\n",
      "Epoch 00168: avg_val_mae did not improve\n"
     ]
    },
    {
     "name": "stderr",
     "output_type": "stream",
     "text": [
      " 97%|█████████▋| 35/36 [02:12<00:03,  3.66s/it, avg_laplacian_term=-6.2, avg_val_fro=261, avg_val_loss=255, avg_val_mae=6.97, batch_nb=16, epoch=168, tng_loss=139.868, v_nb=1]"
     ]
    },
    {
     "name": "stdout",
     "output_type": "stream",
     "text": [
      "save callback...\n",
      "\n",
      "Epoch 00169: avg_val_mae did not improve\n"
     ]
    },
    {
     "name": "stderr",
     "output_type": "stream",
     "text": [
      " 97%|█████████▋| 35/36 [02:12<00:03,  3.70s/it, avg_laplacian_term=-6.29, avg_val_fro=262, avg_val_loss=256, avg_val_mae=6.99, batch_nb=16, epoch=169, tng_loss=143.254, v_nb=1]"
     ]
    },
    {
     "name": "stdout",
     "output_type": "stream",
     "text": [
      "save callback...\n",
      "\n",
      "Epoch 00170: avg_val_mae did not improve\n"
     ]
    },
    {
     "name": "stderr",
     "output_type": "stream",
     "text": [
      " 97%|█████████▋| 35/36 [02:13<00:03,  3.75s/it, avg_laplacian_term=-6.38, avg_val_fro=264, avg_val_loss=258, avg_val_mae=7.05, batch_nb=16, epoch=170, tng_loss=137.218, v_nb=1]"
     ]
    },
    {
     "name": "stdout",
     "output_type": "stream",
     "text": [
      "save callback...\n",
      "\n",
      "Epoch 00171: avg_val_mae did not improve\n"
     ]
    },
    {
     "name": "stderr",
     "output_type": "stream",
     "text": [
      " 97%|█████████▋| 35/36 [02:13<00:03,  3.72s/it, avg_laplacian_term=-6.47, avg_val_fro=266, avg_val_loss=259, avg_val_mae=7.1, batch_nb=16, epoch=171, tng_loss=139.998, v_nb=1] "
     ]
    },
    {
     "name": "stdout",
     "output_type": "stream",
     "text": [
      "save callback...\n",
      "\n",
      "Epoch 00172: avg_val_mae did not improve\n"
     ]
    },
    {
     "name": "stderr",
     "output_type": "stream",
     "text": [
      " 97%|█████████▋| 35/36 [02:13<00:03,  3.71s/it, avg_laplacian_term=-6.58, avg_val_fro=268, avg_val_loss=261, avg_val_mae=7.12, batch_nb=16, epoch=172, tng_loss=140.558, v_nb=1]"
     ]
    },
    {
     "name": "stdout",
     "output_type": "stream",
     "text": [
      "save callback...\n",
      "\n",
      "Epoch 00173: avg_val_mae did not improve\n"
     ]
    },
    {
     "name": "stderr",
     "output_type": "stream",
     "text": [
      " 97%|█████████▋| 35/36 [02:13<00:03,  3.75s/it, avg_laplacian_term=-6.67, avg_val_fro=269, avg_val_loss=262, avg_val_mae=7.08, batch_nb=16, epoch=173, tng_loss=134.137, v_nb=1]"
     ]
    },
    {
     "name": "stdout",
     "output_type": "stream",
     "text": [
      "save callback...\n",
      "\n",
      "Epoch 00174: avg_val_mae did not improve\n"
     ]
    },
    {
     "name": "stderr",
     "output_type": "stream",
     "text": [
      " 97%|█████████▋| 35/36 [02:13<00:03,  3.73s/it, avg_laplacian_term=-6.78, avg_val_fro=271, avg_val_loss=264, avg_val_mae=7.11, batch_nb=16, epoch=174, tng_loss=137.050, v_nb=1]"
     ]
    },
    {
     "name": "stdout",
     "output_type": "stream",
     "text": [
      "save callback...\n",
      "\n",
      "Epoch 00175: avg_val_mae did not improve\n"
     ]
    },
    {
     "name": "stderr",
     "output_type": "stream",
     "text": [
      " 97%|█████████▋| 35/36 [02:13<00:03,  3.75s/it, avg_laplacian_term=-6.88, avg_val_fro=272, avg_val_loss=266, avg_val_mae=7.11, batch_nb=16, epoch=175, tng_loss=128.993, v_nb=1]"
     ]
    },
    {
     "name": "stdout",
     "output_type": "stream",
     "text": [
      "save callback...\n",
      "\n",
      "Epoch 00176: avg_val_mae did not improve\n"
     ]
    },
    {
     "name": "stderr",
     "output_type": "stream",
     "text": [
      " 97%|█████████▋| 35/36 [02:13<00:03,  3.72s/it, avg_laplacian_term=-6.99, avg_val_fro=275, avg_val_loss=268, avg_val_mae=7.24, batch_nb=16, epoch=176, tng_loss=128.120, v_nb=1]"
     ]
    },
    {
     "name": "stdout",
     "output_type": "stream",
     "text": [
      "save callback...\n",
      "\n",
      "Epoch 00177: avg_val_mae did not improve\n"
     ]
    },
    {
     "name": "stderr",
     "output_type": "stream",
     "text": [
      " 97%|█████████▋| 35/36 [02:13<00:03,  3.72s/it, avg_laplacian_term=-7.1, avg_val_fro=276, avg_val_loss=269, avg_val_mae=7.14, batch_nb=16, epoch=177, tng_loss=127.524, v_nb=1] "
     ]
    },
    {
     "name": "stdout",
     "output_type": "stream",
     "text": [
      "save callback...\n",
      "\n",
      "Epoch 00178: avg_val_mae did not improve\n"
     ]
    },
    {
     "name": "stderr",
     "output_type": "stream",
     "text": [
      " 97%|█████████▋| 35/36 [02:13<00:03,  3.69s/it, avg_laplacian_term=-7.22, avg_val_fro=278, avg_val_loss=271, avg_val_mae=7.19, batch_nb=16, epoch=178, tng_loss=129.679, v_nb=1]"
     ]
    },
    {
     "name": "stdout",
     "output_type": "stream",
     "text": [
      "save callback...\n",
      "\n",
      "Epoch 00179: avg_val_mae did not improve\n"
     ]
    },
    {
     "name": "stderr",
     "output_type": "stream",
     "text": [
      " 97%|█████████▋| 35/36 [02:13<00:03,  3.70s/it, avg_laplacian_term=-7.33, avg_val_fro=279, avg_val_loss=272, avg_val_mae=7.21, batch_nb=16, epoch=179, tng_loss=123.450, v_nb=1]"
     ]
    },
    {
     "name": "stdout",
     "output_type": "stream",
     "text": [
      "save callback...\n",
      "\n",
      "Epoch 00180: avg_val_mae did not improve\n"
     ]
    },
    {
     "name": "stderr",
     "output_type": "stream",
     "text": [
      " 97%|█████████▋| 35/36 [02:13<00:03,  3.70s/it, avg_laplacian_term=-7.45, avg_val_fro=282, avg_val_loss=274, avg_val_mae=7.2, batch_nb=16, epoch=180, tng_loss=124.529, v_nb=1] "
     ]
    },
    {
     "name": "stdout",
     "output_type": "stream",
     "text": [
      "save callback...\n",
      "\n",
      "Epoch 00181: avg_val_mae did not improve\n"
     ]
    },
    {
     "name": "stderr",
     "output_type": "stream",
     "text": [
      " 97%|█████████▋| 35/36 [02:13<00:03,  3.69s/it, avg_laplacian_term=-7.56, avg_val_fro=283, avg_val_loss=276, avg_val_mae=7.27, batch_nb=16, epoch=181, tng_loss=123.449, v_nb=1]"
     ]
    },
    {
     "name": "stdout",
     "output_type": "stream",
     "text": [
      "save callback...\n",
      "\n",
      "Epoch 00182: avg_val_mae did not improve\n"
     ]
    },
    {
     "name": "stderr",
     "output_type": "stream",
     "text": [
      " 97%|█████████▋| 35/36 [02:13<00:03,  3.69s/it, avg_laplacian_term=-7.69, avg_val_fro=286, avg_val_loss=278, avg_val_mae=7.38, batch_nb=16, epoch=182, tng_loss=126.559, v_nb=1]"
     ]
    },
    {
     "name": "stdout",
     "output_type": "stream",
     "text": [
      "save callback...\n",
      "\n",
      "Epoch 00183: avg_val_mae did not improve\n"
     ]
    },
    {
     "name": "stderr",
     "output_type": "stream",
     "text": [
      " 97%|█████████▋| 35/36 [02:13<00:03,  3.72s/it, avg_laplacian_term=-7.81, avg_val_fro=287, avg_val_loss=279, avg_val_mae=7.39, batch_nb=16, epoch=183, tng_loss=122.181, v_nb=1]"
     ]
    },
    {
     "name": "stdout",
     "output_type": "stream",
     "text": [
      "save callback...\n",
      "\n",
      "Epoch 00184: avg_val_mae did not improve\n"
     ]
    },
    {
     "name": "stderr",
     "output_type": "stream",
     "text": [
      " 97%|█████████▋| 35/36 [02:13<00:03,  3.74s/it, avg_laplacian_term=-7.93, avg_val_fro=289, avg_val_loss=281, avg_val_mae=7.33, batch_nb=16, epoch=184, tng_loss=120.235, v_nb=1]"
     ]
    },
    {
     "name": "stdout",
     "output_type": "stream",
     "text": [
      "save callback...\n",
      "\n",
      "Epoch 00185: avg_val_mae did not improve\n"
     ]
    },
    {
     "name": "stderr",
     "output_type": "stream",
     "text": [
      " 97%|█████████▋| 35/36 [02:13<00:03,  3.69s/it, avg_laplacian_term=-8.05, avg_val_fro=291, avg_val_loss=282, avg_val_mae=7.48, batch_nb=16, epoch=185, tng_loss=121.229, v_nb=1]"
     ]
    },
    {
     "name": "stdout",
     "output_type": "stream",
     "text": [
      "save callback...\n",
      "\n",
      "Epoch 00186: avg_val_mae did not improve\n"
     ]
    },
    {
     "name": "stderr",
     "output_type": "stream",
     "text": [
      " 97%|█████████▋| 35/36 [02:14<00:03,  3.76s/it, avg_laplacian_term=-8.18, avg_val_fro=293, avg_val_loss=285, avg_val_mae=7.45, batch_nb=16, epoch=186, tng_loss=118.554, v_nb=1]"
     ]
    },
    {
     "name": "stdout",
     "output_type": "stream",
     "text": [
      "save callback...\n",
      "\n",
      "Epoch 00187: avg_val_mae did not improve\n"
     ]
    },
    {
     "name": "stderr",
     "output_type": "stream",
     "text": [
      " 97%|█████████▋| 35/36 [02:13<00:03,  3.72s/it, avg_laplacian_term=-8.31, avg_val_fro=294, avg_val_loss=286, avg_val_mae=7.47, batch_nb=16, epoch=187, tng_loss=114.767, v_nb=1]"
     ]
    },
    {
     "name": "stdout",
     "output_type": "stream",
     "text": [
      "save callback...\n",
      "\n",
      "Epoch 00188: avg_val_mae did not improve\n"
     ]
    },
    {
     "name": "stderr",
     "output_type": "stream",
     "text": [
      " 97%|█████████▋| 35/36 [02:13<00:03,  3.80s/it, avg_laplacian_term=-8.44, avg_val_fro=297, avg_val_loss=288, avg_val_mae=7.51, batch_nb=16, epoch=188, tng_loss=115.587, v_nb=1]"
     ]
    },
    {
     "name": "stdout",
     "output_type": "stream",
     "text": [
      "save callback...\n",
      "\n",
      "Epoch 00189: avg_val_mae did not improve\n"
     ]
    },
    {
     "name": "stderr",
     "output_type": "stream",
     "text": [
      " 97%|█████████▋| 35/36 [02:13<00:03,  3.70s/it, avg_laplacian_term=-8.57, avg_val_fro=298, avg_val_loss=290, avg_val_mae=7.51, batch_nb=16, epoch=189, tng_loss=111.619, v_nb=1]"
     ]
    },
    {
     "name": "stdout",
     "output_type": "stream",
     "text": [
      "save callback...\n",
      "\n",
      "Epoch 00190: avg_val_mae did not improve\n"
     ]
    },
    {
     "name": "stderr",
     "output_type": "stream",
     "text": [
      " 97%|█████████▋| 35/36 [02:13<00:03,  3.73s/it, avg_laplacian_term=-8.71, avg_val_fro=300, avg_val_loss=292, avg_val_mae=7.59, batch_nb=16, epoch=190, tng_loss=113.963, v_nb=1]"
     ]
    },
    {
     "name": "stdout",
     "output_type": "stream",
     "text": [
      "save callback...\n",
      "\n",
      "Epoch 00191: avg_val_mae did not improve\n"
     ]
    },
    {
     "name": "stderr",
     "output_type": "stream",
     "text": [
      " 97%|█████████▋| 35/36 [02:13<00:03,  3.70s/it, avg_laplacian_term=-8.84, avg_val_fro=302, avg_val_loss=293, avg_val_mae=7.57, batch_nb=16, epoch=191, tng_loss=110.538, v_nb=1]"
     ]
    },
    {
     "name": "stdout",
     "output_type": "stream",
     "text": [
      "save callback...\n",
      "\n",
      "Epoch 00192: avg_val_mae did not improve\n"
     ]
    },
    {
     "name": "stderr",
     "output_type": "stream",
     "text": [
      " 97%|█████████▋| 35/36 [02:13<00:03,  3.68s/it, avg_laplacian_term=-8.97, avg_val_fro=304, avg_val_loss=295, avg_val_mae=7.66, batch_nb=16, epoch=192, tng_loss=108.820, v_nb=1]"
     ]
    },
    {
     "name": "stdout",
     "output_type": "stream",
     "text": [
      "save callback...\n",
      "\n",
      "Epoch 00193: avg_val_mae did not improve\n"
     ]
    },
    {
     "name": "stderr",
     "output_type": "stream",
     "text": [
      " 97%|█████████▋| 35/36 [02:13<00:03,  3.68s/it, avg_laplacian_term=-9.11, avg_val_fro=306, avg_val_loss=297, avg_val_mae=7.69, batch_nb=16, epoch=193, tng_loss=107.246, v_nb=1]"
     ]
    },
    {
     "name": "stdout",
     "output_type": "stream",
     "text": [
      "save callback...\n",
      "\n",
      "Epoch 00194: avg_val_mae did not improve\n"
     ]
    },
    {
     "name": "stderr",
     "output_type": "stream",
     "text": [
      " 97%|█████████▋| 35/36 [02:14<00:03,  3.72s/it, avg_laplacian_term=-9.25, avg_val_fro=308, avg_val_loss=299, avg_val_mae=7.66, batch_nb=16, epoch=194, tng_loss=106.444, v_nb=1]"
     ]
    },
    {
     "name": "stdout",
     "output_type": "stream",
     "text": [
      "save callback...\n",
      "\n",
      "Epoch 00195: avg_val_mae did not improve\n"
     ]
    },
    {
     "name": "stderr",
     "output_type": "stream",
     "text": [
      " 97%|█████████▋| 35/36 [02:13<00:03,  3.69s/it, avg_laplacian_term=-9.39, avg_val_fro=310, avg_val_loss=301, avg_val_mae=7.7, batch_nb=16, epoch=195, tng_loss=108.241, v_nb=1] "
     ]
    },
    {
     "name": "stdout",
     "output_type": "stream",
     "text": [
      "save callback...\n",
      "\n",
      "Epoch 00196: avg_val_mae did not improve\n"
     ]
    },
    {
     "name": "stderr",
     "output_type": "stream",
     "text": [
      " 97%|█████████▋| 35/36 [02:13<00:03,  3.73s/it, avg_laplacian_term=-9.53, avg_val_fro=312, avg_val_loss=303, avg_val_mae=7.81, batch_nb=16, epoch=196, tng_loss=102.565, v_nb=1]"
     ]
    },
    {
     "name": "stdout",
     "output_type": "stream",
     "text": [
      "save callback...\n",
      "\n",
      "Epoch 00197: avg_val_mae did not improve\n"
     ]
    },
    {
     "name": "stderr",
     "output_type": "stream",
     "text": [
      " 97%|█████████▋| 35/36 [02:13<00:03,  3.70s/it, avg_laplacian_term=-9.66, avg_val_fro=314, avg_val_loss=304, avg_val_mae=7.83, batch_nb=16, epoch=197, tng_loss=103.572, v_nb=1]"
     ]
    },
    {
     "name": "stdout",
     "output_type": "stream",
     "text": [
      "save callback...\n",
      "\n",
      "Epoch 00198: avg_val_mae did not improve\n"
     ]
    },
    {
     "name": "stderr",
     "output_type": "stream",
     "text": [
      " 97%|█████████▋| 35/36 [02:13<00:03,  3.70s/it, avg_laplacian_term=-9.81, avg_val_fro=316, avg_val_loss=306, avg_val_mae=7.83, batch_nb=16, epoch=198, tng_loss=100.907, v_nb=1]"
     ]
    },
    {
     "name": "stdout",
     "output_type": "stream",
     "text": [
      "save callback...\n",
      "\n",
      "Epoch 00199: avg_val_mae did not improve\n"
     ]
    },
    {
     "name": "stderr",
     "output_type": "stream",
     "text": [
      " 97%|█████████▋| 35/36 [02:13<00:03,  3.70s/it, avg_laplacian_term=-9.96, avg_val_fro=318, avg_val_loss=308, avg_val_mae=7.83, batch_nb=16, epoch=199, tng_loss=102.360, v_nb=1]"
     ]
    },
    {
     "name": "stdout",
     "output_type": "stream",
     "text": [
      "save callback...\n",
      "\n",
      "Epoch 00200: avg_val_mae did not improve\n"
     ]
    },
    {
     "name": "stderr",
     "output_type": "stream",
     "text": [
      " 97%|█████████▋| 35/36 [02:13<00:03,  3.67s/it, avg_laplacian_term=-10.1, avg_val_fro=320, avg_val_loss=310, avg_val_mae=7.8, batch_nb=16, epoch=200, tng_loss=99.671, v_nb=1]  "
     ]
    },
    {
     "name": "stdout",
     "output_type": "stream",
     "text": [
      "save callback...\n",
      "\n",
      "Epoch 00201: avg_val_mae did not improve\n"
     ]
    },
    {
     "name": "stderr",
     "output_type": "stream",
     "text": [
      " 97%|█████████▋| 35/36 [02:14<00:03,  3.78s/it, avg_laplacian_term=-10.2, avg_val_fro=322, avg_val_loss=312, avg_val_mae=7.88, batch_nb=16, epoch=201, tng_loss=101.769, v_nb=1]"
     ]
    },
    {
     "name": "stdout",
     "output_type": "stream",
     "text": [
      "save callback...\n",
      "\n",
      "Epoch 00202: avg_val_mae did not improve\n"
     ]
    },
    {
     "name": "stderr",
     "output_type": "stream",
     "text": [
      " 97%|█████████▋| 35/36 [02:13<00:03,  3.69s/it, avg_laplacian_term=-10.4, avg_val_fro=324, avg_val_loss=314, avg_val_mae=7.9, batch_nb=16, epoch=202, tng_loss=99.073, v_nb=1] ]"
     ]
    },
    {
     "name": "stdout",
     "output_type": "stream",
     "text": [
      "save callback...\n",
      "\n",
      "Epoch 00203: avg_val_mae did not improve\n"
     ]
    },
    {
     "name": "stderr",
     "output_type": "stream",
     "text": [
      " 97%|█████████▋| 35/36 [02:13<00:03,  3.70s/it, avg_laplacian_term=-10.5, avg_val_fro=326, avg_val_loss=316, avg_val_mae=7.98, batch_nb=16, epoch=203, tng_loss=93.488, v_nb=1]"
     ]
    },
    {
     "name": "stdout",
     "output_type": "stream",
     "text": [
      "save callback...\n",
      "\n",
      "Epoch 00204: avg_val_mae did not improve\n"
     ]
    },
    {
     "name": "stderr",
     "output_type": "stream",
     "text": [
      " 97%|█████████▋| 35/36 [02:13<00:03,  3.70s/it, avg_laplacian_term=-10.7, avg_val_fro=328, avg_val_loss=318, avg_val_mae=7.93, batch_nb=16, epoch=204, tng_loss=96.294, v_nb=1]"
     ]
    },
    {
     "name": "stdout",
     "output_type": "stream",
     "text": [
      "save callback...\n",
      "\n",
      "Epoch 00205: avg_val_mae did not improve\n"
     ]
    },
    {
     "name": "stderr",
     "output_type": "stream",
     "text": [
      " 97%|█████████▋| 35/36 [02:13<00:03,  3.75s/it, avg_laplacian_term=-10.8, avg_val_fro=330, avg_val_loss=319, avg_val_mae=8, batch_nb=16, epoch=205, tng_loss=96.927, v_nb=1]   "
     ]
    },
    {
     "name": "stdout",
     "output_type": "stream",
     "text": [
      "save callback...\n",
      "\n",
      "Epoch 00206: avg_val_mae did not improve\n"
     ]
    },
    {
     "name": "stderr",
     "output_type": "stream",
     "text": [
      " 97%|█████████▋| 35/36 [02:13<00:03,  3.69s/it, avg_laplacian_term=-11, avg_val_fro=333, avg_val_loss=322, avg_val_mae=8.03, batch_nb=16, epoch=206, tng_loss=92.523, v_nb=1]"
     ]
    },
    {
     "name": "stdout",
     "output_type": "stream",
     "text": [
      "save callback...\n",
      "\n",
      "Epoch 00207: avg_val_mae did not improve\n"
     ]
    },
    {
     "name": "stderr",
     "output_type": "stream",
     "text": [
      " 97%|█████████▋| 35/36 [02:13<00:03,  3.73s/it, avg_laplacian_term=-11.2, avg_val_fro=334, avg_val_loss=323, avg_val_mae=8.06, batch_nb=16, epoch=207, tng_loss=92.292, v_nb=1]"
     ]
    },
    {
     "name": "stdout",
     "output_type": "stream",
     "text": [
      "save callback...\n",
      "\n",
      "Epoch 00208: avg_val_mae did not improve\n"
     ]
    },
    {
     "name": "stderr",
     "output_type": "stream",
     "text": [
      " 97%|█████████▋| 35/36 [02:13<00:03,  3.71s/it, avg_laplacian_term=-11.3, avg_val_fro=337, avg_val_loss=325, avg_val_mae=8.04, batch_nb=16, epoch=208, tng_loss=89.182, v_nb=1]"
     ]
    },
    {
     "name": "stdout",
     "output_type": "stream",
     "text": [
      "save callback...\n",
      "\n",
      "Epoch 00209: avg_val_mae did not improve\n"
     ]
    },
    {
     "name": "stderr",
     "output_type": "stream",
     "text": [
      " 97%|█████████▋| 35/36 [02:13<00:03,  3.71s/it, avg_laplacian_term=-11.5, avg_val_fro=338, avg_val_loss=327, avg_val_mae=7.98, batch_nb=16, epoch=209, tng_loss=93.287, v_nb=1]"
     ]
    },
    {
     "name": "stdout",
     "output_type": "stream",
     "text": [
      "save callback...\n",
      "\n",
      "Epoch 00210: avg_val_mae did not improve\n"
     ]
    },
    {
     "name": "stderr",
     "output_type": "stream",
     "text": [
      " 97%|█████████▋| 35/36 [02:13<00:03,  3.69s/it, avg_laplacian_term=-11.6, avg_val_fro=341, avg_val_loss=329, avg_val_mae=8.04, batch_nb=16, epoch=210, tng_loss=89.933, v_nb=1]"
     ]
    },
    {
     "name": "stdout",
     "output_type": "stream",
     "text": [
      "save callback...\n",
      "\n",
      "Epoch 00211: avg_val_mae did not improve\n"
     ]
    },
    {
     "name": "stderr",
     "output_type": "stream",
     "text": [
      " 97%|█████████▋| 35/36 [02:13<00:03,  3.66s/it, avg_laplacian_term=-11.8, avg_val_fro=342, avg_val_loss=331, avg_val_mae=8.18, batch_nb=16, epoch=211, tng_loss=88.592, v_nb=1]"
     ]
    },
    {
     "name": "stdout",
     "output_type": "stream",
     "text": [
      "save callback...\n",
      "\n",
      "Epoch 00212: avg_val_mae did not improve\n"
     ]
    },
    {
     "name": "stderr",
     "output_type": "stream",
     "text": [
      " 97%|█████████▋| 35/36 [02:13<00:03,  3.74s/it, avg_laplacian_term=-12, avg_val_fro=345, avg_val_loss=333, avg_val_mae=8.18, batch_nb=16, epoch=212, tng_loss=83.321, v_nb=1]  "
     ]
    },
    {
     "name": "stdout",
     "output_type": "stream",
     "text": [
      "save callback...\n",
      "\n",
      "Epoch 00213: avg_val_mae did not improve\n"
     ]
    },
    {
     "name": "stderr",
     "output_type": "stream",
     "text": [
      " 97%|█████████▋| 35/36 [02:13<00:03,  3.68s/it, avg_laplacian_term=-12.1, avg_val_fro=347, avg_val_loss=335, avg_val_mae=8.21, batch_nb=16, epoch=213, tng_loss=86.687, v_nb=1]"
     ]
    },
    {
     "name": "stdout",
     "output_type": "stream",
     "text": [
      "save callback...\n",
      "\n",
      "Epoch 00214: avg_val_mae did not improve\n"
     ]
    },
    {
     "name": "stderr",
     "output_type": "stream",
     "text": [
      " 97%|█████████▋| 35/36 [02:13<00:03,  3.70s/it, avg_laplacian_term=-12.3, avg_val_fro=349, avg_val_loss=337, avg_val_mae=8.24, batch_nb=16, epoch=214, tng_loss=85.738, v_nb=1]"
     ]
    },
    {
     "name": "stdout",
     "output_type": "stream",
     "text": [
      "save callback...\n",
      "\n",
      "Epoch 00215: avg_val_mae did not improve\n"
     ]
    },
    {
     "name": "stderr",
     "output_type": "stream",
     "text": [
      " 97%|█████████▋| 35/36 [02:13<00:03,  3.69s/it, avg_laplacian_term=-12.5, avg_val_fro=351, avg_val_loss=338, avg_val_mae=8.35, batch_nb=16, epoch=215, tng_loss=83.840, v_nb=1]"
     ]
    },
    {
     "name": "stdout",
     "output_type": "stream",
     "text": [
      "save callback...\n",
      "\n",
      "Epoch 00216: avg_val_mae did not improve\n"
     ]
    },
    {
     "name": "stderr",
     "output_type": "stream",
     "text": [
      " 97%|█████████▋| 35/36 [02:13<00:03,  3.74s/it, avg_laplacian_term=-12.6, avg_val_fro=354, avg_val_loss=341, avg_val_mae=8.34, batch_nb=16, epoch=216, tng_loss=83.685, v_nb=1]"
     ]
    },
    {
     "name": "stdout",
     "output_type": "stream",
     "text": [
      "save callback...\n",
      "\n",
      "Epoch 00217: avg_val_mae did not improve\n"
     ]
    },
    {
     "name": "stderr",
     "output_type": "stream",
     "text": [
      " 97%|█████████▋| 35/36 [02:13<00:03,  3.70s/it, avg_laplacian_term=-12.8, avg_val_fro=355, avg_val_loss=343, avg_val_mae=8.35, batch_nb=16, epoch=217, tng_loss=78.748, v_nb=1]"
     ]
    },
    {
     "name": "stdout",
     "output_type": "stream",
     "text": [
      "save callback...\n",
      "\n",
      "Epoch 00218: avg_val_mae did not improve\n"
     ]
    },
    {
     "name": "stderr",
     "output_type": "stream",
     "text": [
      " 97%|█████████▋| 35/36 [02:13<00:03,  3.71s/it, avg_laplacian_term=-13, avg_val_fro=358, avg_val_loss=345, avg_val_mae=8.39, batch_nb=16, epoch=218, tng_loss=79.528, v_nb=1]  "
     ]
    },
    {
     "name": "stdout",
     "output_type": "stream",
     "text": [
      "save callback...\n",
      "\n",
      "Epoch 00219: avg_val_mae did not improve\n"
     ]
    },
    {
     "name": "stderr",
     "output_type": "stream",
     "text": [
      " 97%|█████████▋| 35/36 [02:13<00:03,  3.72s/it, avg_laplacian_term=-13.1, avg_val_fro=360, avg_val_loss=347, avg_val_mae=8.27, batch_nb=16, epoch=219, tng_loss=81.378, v_nb=1]"
     ]
    },
    {
     "name": "stdout",
     "output_type": "stream",
     "text": [
      "save callback...\n",
      "\n",
      "Epoch 00220: avg_val_mae did not improve\n"
     ]
    },
    {
     "name": "stderr",
     "output_type": "stream",
     "text": [
      " 97%|█████████▋| 35/36 [02:13<00:03,  3.70s/it, avg_laplacian_term=-13.3, avg_val_fro=362, avg_val_loss=349, avg_val_mae=8.41, batch_nb=16, epoch=220, tng_loss=75.615, v_nb=1]"
     ]
    },
    {
     "name": "stdout",
     "output_type": "stream",
     "text": [
      "save callback...\n",
      "\n",
      "Epoch 00221: avg_val_mae did not improve\n"
     ]
    },
    {
     "name": "stderr",
     "output_type": "stream",
     "text": [
      " 97%|█████████▋| 35/36 [02:13<00:03,  3.70s/it, avg_laplacian_term=-13.5, avg_val_fro=364, avg_val_loss=351, avg_val_mae=8.46, batch_nb=16, epoch=221, tng_loss=75.830, v_nb=1]"
     ]
    },
    {
     "name": "stdout",
     "output_type": "stream",
     "text": [
      "save callback...\n",
      "\n",
      "Epoch 00222: avg_val_mae did not improve\n"
     ]
    },
    {
     "name": "stderr",
     "output_type": "stream",
     "text": [
      " 97%|█████████▋| 35/36 [02:13<00:03,  3.73s/it, avg_laplacian_term=-13.6, avg_val_fro=367, avg_val_loss=353, avg_val_mae=8.52, batch_nb=16, epoch=222, tng_loss=74.994, v_nb=1]"
     ]
    },
    {
     "name": "stdout",
     "output_type": "stream",
     "text": [
      "save callback...\n",
      "\n",
      "Epoch 00223: avg_val_mae did not improve\n"
     ]
    },
    {
     "name": "stderr",
     "output_type": "stream",
     "text": [
      " 97%|█████████▋| 35/36 [02:13<00:03,  3.71s/it, avg_laplacian_term=-13.8, avg_val_fro=368, avg_val_loss=355, avg_val_mae=8.51, batch_nb=16, epoch=223, tng_loss=75.996, v_nb=1]"
     ]
    },
    {
     "name": "stdout",
     "output_type": "stream",
     "text": [
      "save callback...\n",
      "\n",
      "Epoch 00224: avg_val_mae did not improve\n"
     ]
    },
    {
     "name": "stderr",
     "output_type": "stream",
     "text": [
      " 97%|█████████▋| 35/36 [02:14<00:03,  3.69s/it, avg_laplacian_term=-14, avg_val_fro=371, avg_val_loss=357, avg_val_mae=8.52, batch_nb=16, epoch=224, tng_loss=74.069, v_nb=1]  "
     ]
    },
    {
     "name": "stdout",
     "output_type": "stream",
     "text": [
      "save callback...\n",
      "\n",
      "Epoch 00225: avg_val_mae did not improve\n"
     ]
    },
    {
     "name": "stderr",
     "output_type": "stream",
     "text": [
      " 97%|█████████▋| 35/36 [02:14<00:03,  3.78s/it, avg_laplacian_term=-14.2, avg_val_fro=373, avg_val_loss=359, avg_val_mae=8.53, batch_nb=16, epoch=225, tng_loss=73.468, v_nb=1]"
     ]
    },
    {
     "name": "stdout",
     "output_type": "stream",
     "text": [
      "save callback...\n",
      "\n",
      "Epoch 00226: avg_val_mae did not improve\n"
     ]
    },
    {
     "name": "stderr",
     "output_type": "stream",
     "text": [
      " 97%|█████████▋| 35/36 [02:13<00:03,  3.71s/it, avg_laplacian_term=-14.3, avg_val_fro=376, avg_val_loss=361, avg_val_mae=8.61, batch_nb=16, epoch=226, tng_loss=74.095, v_nb=1]"
     ]
    },
    {
     "name": "stdout",
     "output_type": "stream",
     "text": [
      "save callback...\n",
      "\n",
      "Epoch 00227: avg_val_mae did not improve\n"
     ]
    },
    {
     "name": "stderr",
     "output_type": "stream",
     "text": [
      " 97%|█████████▋| 35/36 [02:13<00:03,  3.72s/it, avg_laplacian_term=-14.5, avg_val_fro=377, avg_val_loss=362, avg_val_mae=8.51, batch_nb=16, epoch=227, tng_loss=73.369, v_nb=1]"
     ]
    },
    {
     "name": "stdout",
     "output_type": "stream",
     "text": [
      "save callback...\n",
      "\n",
      "Epoch 00228: avg_val_mae did not improve\n"
     ]
    },
    {
     "name": "stderr",
     "output_type": "stream",
     "text": [
      " 97%|█████████▋| 35/36 [02:13<00:03,  3.70s/it, avg_laplacian_term=-14.7, avg_val_fro=380, avg_val_loss=366, avg_val_mae=8.62, batch_nb=16, epoch=228, tng_loss=69.595, v_nb=1]"
     ]
    },
    {
     "name": "stdout",
     "output_type": "stream",
     "text": [
      "save callback...\n",
      "\n",
      "Epoch 00229: avg_val_mae did not improve\n"
     ]
    },
    {
     "name": "stderr",
     "output_type": "stream",
     "text": [
      " 97%|█████████▋| 35/36 [02:14<00:03,  3.75s/it, avg_laplacian_term=-14.9, avg_val_fro=382, avg_val_loss=367, avg_val_mae=8.68, batch_nb=16, epoch=229, tng_loss=70.066, v_nb=1]"
     ]
    },
    {
     "name": "stdout",
     "output_type": "stream",
     "text": [
      "save callback...\n",
      "\n",
      "Epoch 00230: avg_val_mae did not improve\n"
     ]
    },
    {
     "name": "stderr",
     "output_type": "stream",
     "text": [
      " 97%|█████████▋| 35/36 [02:13<00:03,  3.72s/it, avg_laplacian_term=-15.1, avg_val_fro=385, avg_val_loss=370, avg_val_mae=8.63, batch_nb=16, epoch=230, tng_loss=69.118, v_nb=1]"
     ]
    },
    {
     "name": "stdout",
     "output_type": "stream",
     "text": [
      "save callback...\n",
      "\n",
      "Epoch 00231: avg_val_mae did not improve\n"
     ]
    },
    {
     "name": "stderr",
     "output_type": "stream",
     "text": [
      " 97%|█████████▋| 35/36 [02:13<00:03,  3.69s/it, avg_laplacian_term=-15.2, avg_val_fro=386, avg_val_loss=371, avg_val_mae=8.68, batch_nb=16, epoch=231, tng_loss=66.741, v_nb=1]"
     ]
    },
    {
     "name": "stdout",
     "output_type": "stream",
     "text": [
      "save callback...\n",
      "\n",
      "Epoch 00232: avg_val_mae did not improve\n"
     ]
    },
    {
     "name": "stderr",
     "output_type": "stream",
     "text": [
      " 97%|█████████▋| 35/36 [02:13<00:03,  3.69s/it, avg_laplacian_term=-15.4, avg_val_fro=389, avg_val_loss=374, avg_val_mae=8.7, batch_nb=16, epoch=232, tng_loss=67.216, v_nb=1] "
     ]
    },
    {
     "name": "stdout",
     "output_type": "stream",
     "text": [
      "save callback...\n",
      "\n",
      "Epoch 00233: avg_val_mae did not improve\n"
     ]
    },
    {
     "name": "stderr",
     "output_type": "stream",
     "text": [
      " 97%|█████████▋| 35/36 [02:13<00:03,  3.71s/it, avg_laplacian_term=-15.6, avg_val_fro=391, avg_val_loss=375, avg_val_mae=8.75, batch_nb=16, epoch=233, tng_loss=69.492, v_nb=1]"
     ]
    },
    {
     "name": "stdout",
     "output_type": "stream",
     "text": [
      "save callback...\n",
      "\n",
      "Epoch 00234: avg_val_mae did not improve\n"
     ]
    },
    {
     "name": "stderr",
     "output_type": "stream",
     "text": [
      " 97%|█████████▋| 35/36 [02:13<00:03,  3.70s/it, avg_laplacian_term=-15.8, avg_val_fro=393, avg_val_loss=378, avg_val_mae=8.85, batch_nb=16, epoch=234, tng_loss=67.152, v_nb=1]"
     ]
    },
    {
     "name": "stdout",
     "output_type": "stream",
     "text": [
      "save callback...\n",
      "\n",
      "Epoch 00235: avg_val_mae did not improve\n"
     ]
    },
    {
     "name": "stderr",
     "output_type": "stream",
     "text": [
      " 97%|█████████▋| 35/36 [02:13<00:03,  3.69s/it, avg_laplacian_term=-16, avg_val_fro=396, avg_val_loss=380, avg_val_mae=8.84, batch_nb=16, epoch=235, tng_loss=61.814, v_nb=1]  "
     ]
    },
    {
     "name": "stdout",
     "output_type": "stream",
     "text": [
      "save callback...\n",
      "\n",
      "Epoch 00236: avg_val_mae did not improve\n"
     ]
    },
    {
     "name": "stderr",
     "output_type": "stream",
     "text": [
      " 97%|█████████▋| 35/36 [02:13<00:03,  3.71s/it, avg_laplacian_term=-16.2, avg_val_fro=398, avg_val_loss=382, avg_val_mae=8.83, batch_nb=16, epoch=236, tng_loss=61.157, v_nb=1]"
     ]
    },
    {
     "name": "stdout",
     "output_type": "stream",
     "text": [
      "save callback...\n",
      "\n",
      "Epoch 00237: avg_val_mae did not improve\n"
     ]
    },
    {
     "name": "stderr",
     "output_type": "stream",
     "text": [
      " 97%|█████████▋| 35/36 [02:13<00:03,  3.69s/it, avg_laplacian_term=-16.3, avg_val_fro=400, avg_val_loss=384, avg_val_mae=8.97, batch_nb=16, epoch=237, tng_loss=61.539, v_nb=1]"
     ]
    },
    {
     "name": "stdout",
     "output_type": "stream",
     "text": [
      "save callback...\n",
      "\n",
      "Epoch 00238: avg_val_mae did not improve\n"
     ]
    },
    {
     "name": "stderr",
     "output_type": "stream",
     "text": [
      " 97%|█████████▋| 35/36 [02:13<00:03,  3.73s/it, avg_laplacian_term=-16.5, avg_val_fro=403, avg_val_loss=386, avg_val_mae=8.92, batch_nb=16, epoch=238, tng_loss=61.405, v_nb=1]"
     ]
    },
    {
     "name": "stdout",
     "output_type": "stream",
     "text": [
      "save callback...\n",
      "\n",
      "Epoch 00239: avg_val_mae did not improve\n"
     ]
    },
    {
     "name": "stderr",
     "output_type": "stream",
     "text": [
      " 97%|█████████▋| 35/36 [02:21<00:04,  4.47s/it, avg_laplacian_term=-16.7, avg_val_fro=405, avg_val_loss=388, avg_val_mae=8.99, batch_nb=16, epoch=239, tng_loss=59.468, v_nb=1]"
     ]
    },
    {
     "name": "stdout",
     "output_type": "stream",
     "text": [
      "save callback...\n",
      "\n",
      "Epoch 00240: avg_val_mae did not improve\n"
     ]
    },
    {
     "name": "stderr",
     "output_type": "stream",
     "text": [
      " 97%|█████████▋| 35/36 [3:04:38<00:04,  4.08s/it, avg_laplacian_term=-16.9, avg_val_fro=407, avg_val_loss=390, avg_val_mae=8.97, batch_nb=16, epoch=240, tng_loss=59.613, v_nb=1]     "
     ]
    },
    {
     "name": "stdout",
     "output_type": "stream",
     "text": [
      "save callback...\n",
      "\n",
      "Epoch 00241: avg_val_mae did not improve\n"
     ]
    },
    {
     "name": "stderr",
     "output_type": "stream",
     "text": [
      " 97%|█████████▋| 35/36 [02:14<00:03,  3.73s/it, avg_laplacian_term=-17.1, avg_val_fro=409, avg_val_loss=392, avg_val_mae=9.08, batch_nb=16, epoch=241, tng_loss=59.085, v_nb=1]1]"
     ]
    },
    {
     "name": "stdout",
     "output_type": "stream",
     "text": [
      "save callback...\n",
      "\n",
      "Epoch 00242: avg_val_mae did not improve\n"
     ]
    },
    {
     "name": "stderr",
     "output_type": "stream",
     "text": [
      " 97%|█████████▋| 35/36 [02:14<00:03,  3.71s/it, avg_laplacian_term=-17.3, avg_val_fro=413, avg_val_loss=395, avg_val_mae=9.1, batch_nb=16, epoch=242, tng_loss=59.197, v_nb=1] "
     ]
    },
    {
     "name": "stdout",
     "output_type": "stream",
     "text": [
      "save callback...\n",
      "\n",
      "Epoch 00243: avg_val_mae did not improve\n"
     ]
    },
    {
     "name": "stderr",
     "output_type": "stream",
     "text": [
      " 97%|█████████▋| 35/36 [02:13<00:03,  3.71s/it, avg_laplacian_term=-17.5, avg_val_fro=414, avg_val_loss=397, avg_val_mae=9.11, batch_nb=16, epoch=243, tng_loss=57.417, v_nb=1]"
     ]
    },
    {
     "name": "stdout",
     "output_type": "stream",
     "text": [
      "save callback...\n",
      "\n",
      "Epoch 00244: avg_val_mae did not improve\n"
     ]
    },
    {
     "name": "stderr",
     "output_type": "stream",
     "text": [
      " 97%|█████████▋| 35/36 [02:13<00:03,  3.71s/it, avg_laplacian_term=-17.7, avg_val_fro=417, avg_val_loss=399, avg_val_mae=9.06, batch_nb=16, epoch=244, tng_loss=56.006, v_nb=1]"
     ]
    },
    {
     "name": "stdout",
     "output_type": "stream",
     "text": [
      "save callback...\n",
      "\n",
      "Epoch 00245: avg_val_mae did not improve\n"
     ]
    },
    {
     "name": "stderr",
     "output_type": "stream",
     "text": [
      " 97%|█████████▋| 35/36 [02:14<00:03,  3.76s/it, avg_laplacian_term=-17.9, avg_val_fro=419, avg_val_loss=401, avg_val_mae=9.18, batch_nb=16, epoch=245, tng_loss=55.074, v_nb=1]"
     ]
    },
    {
     "name": "stdout",
     "output_type": "stream",
     "text": [
      "save callback...\n",
      "\n",
      "Epoch 00246: avg_val_mae did not improve\n"
     ]
    },
    {
     "name": "stderr",
     "output_type": "stream",
     "text": [
      " 97%|█████████▋| 35/36 [02:13<00:03,  3.70s/it, avg_laplacian_term=-18.1, avg_val_fro=422, avg_val_loss=404, avg_val_mae=9.12, batch_nb=16, epoch=246, tng_loss=52.616, v_nb=1]"
     ]
    },
    {
     "name": "stdout",
     "output_type": "stream",
     "text": [
      "save callback...\n",
      "\n",
      "Epoch 00247: avg_val_mae did not improve\n"
     ]
    },
    {
     "name": "stderr",
     "output_type": "stream",
     "text": [
      " 97%|█████████▋| 35/36 [02:13<00:03,  3.71s/it, avg_laplacian_term=-18.3, avg_val_fro=424, avg_val_loss=406, avg_val_mae=9.21, batch_nb=16, epoch=247, tng_loss=54.782, v_nb=1]"
     ]
    },
    {
     "name": "stdout",
     "output_type": "stream",
     "text": [
      "save callback...\n",
      "\n",
      "Epoch 00248: avg_val_mae did not improve\n"
     ]
    },
    {
     "name": "stderr",
     "output_type": "stream",
     "text": [
      " 97%|█████████▋| 35/36 [02:14<00:03,  3.73s/it, avg_laplacian_term=-18.5, avg_val_fro=427, avg_val_loss=408, avg_val_mae=9.25, batch_nb=16, epoch=248, tng_loss=51.804, v_nb=1]"
     ]
    },
    {
     "name": "stdout",
     "output_type": "stream",
     "text": [
      "save callback...\n",
      "\n",
      "Epoch 00249: avg_val_mae did not improve\n"
     ]
    },
    {
     "name": "stderr",
     "output_type": "stream",
     "text": [
      " 97%|█████████▋| 35/36 [02:14<00:03,  3.71s/it, avg_laplacian_term=-18.7, avg_val_fro=429, avg_val_loss=410, avg_val_mae=9.15, batch_nb=16, epoch=249, tng_loss=51.151, v_nb=1]"
     ]
    },
    {
     "name": "stdout",
     "output_type": "stream",
     "text": [
      "save callback...\n",
      "\n",
      "Epoch 00250: avg_val_mae did not improve\n"
     ]
    },
    {
     "name": "stderr",
     "output_type": "stream",
     "text": [
      " 97%|█████████▋| 35/36 [02:13<00:03,  3.68s/it, avg_laplacian_term=-18.9, avg_val_fro=432, avg_val_loss=413, avg_val_mae=9.23, batch_nb=16, epoch=250, tng_loss=52.206, v_nb=1]"
     ]
    },
    {
     "name": "stdout",
     "output_type": "stream",
     "text": [
      "save callback...\n",
      "\n",
      "Epoch 00251: avg_val_mae did not improve\n"
     ]
    },
    {
     "name": "stderr",
     "output_type": "stream",
     "text": [
      " 97%|█████████▋| 35/36 [02:13<00:03,  3.71s/it, avg_laplacian_term=-19.1, avg_val_fro=434, avg_val_loss=415, avg_val_mae=9.29, batch_nb=16, epoch=251, tng_loss=50.889, v_nb=1]"
     ]
    },
    {
     "name": "stdout",
     "output_type": "stream",
     "text": [
      "save callback...\n",
      "\n",
      "Epoch 00252: avg_val_mae did not improve\n"
     ]
    },
    {
     "name": "stderr",
     "output_type": "stream",
     "text": [
      " 97%|█████████▋| 35/36 [02:15<00:03,  3.70s/it, avg_laplacian_term=-19.3, avg_val_fro=436, avg_val_loss=417, avg_val_mae=9.36, batch_nb=16, epoch=252, tng_loss=48.769, v_nb=1]"
     ]
    },
    {
     "name": "stdout",
     "output_type": "stream",
     "text": [
      "save callback...\n",
      "\n",
      "Epoch 00253: avg_val_mae did not improve\n"
     ]
    },
    {
     "name": "stderr",
     "output_type": "stream",
     "text": [
      " 97%|█████████▋| 35/36 [02:17<00:03,  3.74s/it, avg_laplacian_term=-19.5, avg_val_fro=438, avg_val_loss=419, avg_val_mae=9.28, batch_nb=16, epoch=253, tng_loss=46.781, v_nb=1]"
     ]
    },
    {
     "name": "stdout",
     "output_type": "stream",
     "text": [
      "save callback...\n",
      "\n",
      "Epoch 00254: avg_val_mae did not improve\n"
     ]
    },
    {
     "name": "stderr",
     "output_type": "stream",
     "text": [
      " 97%|█████████▋| 35/36 [11:47<00:07,  7.12s/it, avg_laplacian_term=-19.7, avg_val_fro=442, avg_val_loss=422, avg_val_mae=9.37, batch_nb=16, epoch=254, tng_loss=48.446, v_nb=1] "
     ]
    },
    {
     "name": "stdout",
     "output_type": "stream",
     "text": [
      "save callback...\n",
      "\n",
      "Epoch 00255: avg_val_mae did not improve\n"
     ]
    },
    {
     "name": "stderr",
     "output_type": "stream",
     "text": [
      " 97%|█████████▋| 35/36 [02:18<00:03,  3.79s/it, avg_laplacian_term=-19.9, avg_val_fro=443, avg_val_loss=423, avg_val_mae=9.5, batch_nb=16, epoch=255, tng_loss=45.334, v_nb=1] "
     ]
    },
    {
     "name": "stdout",
     "output_type": "stream",
     "text": [
      "save callback...\n",
      "\n",
      "Epoch 00256: avg_val_mae did not improve\n"
     ]
    },
    {
     "name": "stderr",
     "output_type": "stream",
     "text": [
      " 97%|█████████▋| 35/36 [02:15<00:03,  3.84s/it, avg_laplacian_term=-20.1, avg_val_fro=447, avg_val_loss=427, avg_val_mae=9.5, batch_nb=16, epoch=256, tng_loss=44.153, v_nb=1]"
     ]
    },
    {
     "name": "stdout",
     "output_type": "stream",
     "text": [
      "save callback...\n",
      "\n",
      "Epoch 00257: avg_val_mae did not improve\n"
     ]
    },
    {
     "name": "stderr",
     "output_type": "stream",
     "text": [
      " 97%|█████████▋| 35/36 [02:18<00:03,  3.80s/it, avg_laplacian_term=-20.3, avg_val_fro=448, avg_val_loss=428, avg_val_mae=9.55, batch_nb=16, epoch=257, tng_loss=44.910, v_nb=1]"
     ]
    },
    {
     "name": "stdout",
     "output_type": "stream",
     "text": [
      "save callback...\n",
      "\n",
      "Epoch 00258: avg_val_mae did not improve\n"
     ]
    },
    {
     "name": "stderr",
     "output_type": "stream",
     "text": [
      " 97%|█████████▋| 35/36 [02:17<00:03,  3.94s/it, avg_laplacian_term=-20.5, avg_val_fro=451, avg_val_loss=431, avg_val_mae=9.42, batch_nb=16, epoch=258, tng_loss=44.439, v_nb=1]"
     ]
    },
    {
     "name": "stdout",
     "output_type": "stream",
     "text": [
      "save callback...\n",
      "\n",
      "Epoch 00259: avg_val_mae did not improve\n"
     ]
    },
    {
     "name": "stderr",
     "output_type": "stream",
     "text": [
      " 97%|█████████▋| 35/36 [02:17<00:03,  3.98s/it, avg_laplacian_term=-20.7, avg_val_fro=453, avg_val_loss=433, avg_val_mae=9.58, batch_nb=16, epoch=259, tng_loss=42.435, v_nb=1]"
     ]
    },
    {
     "name": "stdout",
     "output_type": "stream",
     "text": [
      "save callback...\n",
      "\n",
      "Epoch 00260: avg_val_mae did not improve\n"
     ]
    },
    {
     "name": "stderr",
     "output_type": "stream",
     "text": [
      " 97%|█████████▋| 35/36 [02:16<00:03,  3.70s/it, avg_laplacian_term=-20.9, avg_val_fro=456, avg_val_loss=435, avg_val_mae=9.55, batch_nb=16, epoch=260, tng_loss=41.601, v_nb=1]"
     ]
    },
    {
     "name": "stdout",
     "output_type": "stream",
     "text": [
      "save callback...\n",
      "\n",
      "Epoch 00261: avg_val_mae did not improve\n"
     ]
    },
    {
     "name": "stderr",
     "output_type": "stream",
     "text": [
      " 97%|█████████▋| 35/36 [02:17<00:03,  3.81s/it, avg_laplacian_term=-21.1, avg_val_fro=458, avg_val_loss=437, avg_val_mae=9.66, batch_nb=16, epoch=261, tng_loss=41.164, v_nb=1]"
     ]
    },
    {
     "name": "stdout",
     "output_type": "stream",
     "text": [
      "save callback...\n",
      "\n",
      "Epoch 00262: avg_val_mae did not improve\n"
     ]
    },
    {
     "name": "stderr",
     "output_type": "stream",
     "text": [
      " 97%|█████████▋| 35/36 [02:19<00:03,  3.76s/it, avg_laplacian_term=-21.3, avg_val_fro=461, avg_val_loss=440, avg_val_mae=9.63, batch_nb=16, epoch=262, tng_loss=39.877, v_nb=1]"
     ]
    },
    {
     "name": "stdout",
     "output_type": "stream",
     "text": [
      "save callback...\n",
      "\n",
      "Epoch 00263: avg_val_mae did not improve\n"
     ]
    },
    {
     "name": "stderr",
     "output_type": "stream",
     "text": [
      " 97%|█████████▋| 35/36 [02:18<00:03,  3.81s/it, avg_laplacian_term=-21.5, avg_val_fro=463, avg_val_loss=441, avg_val_mae=9.7, batch_nb=16, epoch=263, tng_loss=38.153, v_nb=1] "
     ]
    },
    {
     "name": "stdout",
     "output_type": "stream",
     "text": [
      "save callback...\n",
      "\n",
      "Epoch 00264: avg_val_mae did not improve\n"
     ]
    },
    {
     "name": "stderr",
     "output_type": "stream",
     "text": [
      " 97%|█████████▋| 35/36 [02:19<00:03,  3.92s/it, avg_laplacian_term=-21.7, avg_val_fro=466, avg_val_loss=444, avg_val_mae=9.79, batch_nb=16, epoch=264, tng_loss=38.374, v_nb=1]"
     ]
    },
    {
     "name": "stdout",
     "output_type": "stream",
     "text": [
      "save callback...\n",
      "\n",
      "Epoch 00265: avg_val_mae did not improve\n"
     ]
    },
    {
     "name": "stderr",
     "output_type": "stream",
     "text": [
      " 97%|█████████▋| 35/36 [02:20<00:04,  4.16s/it, avg_laplacian_term=-21.9, avg_val_fro=468, avg_val_loss=446, avg_val_mae=9.72, batch_nb=16, epoch=265, tng_loss=36.771, v_nb=1]"
     ]
    },
    {
     "name": "stdout",
     "output_type": "stream",
     "text": [
      "save callback...\n",
      "\n",
      "Epoch 00266: avg_val_mae did not improve\n"
     ]
    },
    {
     "name": "stderr",
     "output_type": "stream",
     "text": [
      " 97%|█████████▋| 35/36 [02:19<00:04,  4.14s/it, avg_laplacian_term=-22.1, avg_val_fro=471, avg_val_loss=449, avg_val_mae=9.86, batch_nb=16, epoch=266, tng_loss=37.623, v_nb=1]"
     ]
    },
    {
     "name": "stdout",
     "output_type": "stream",
     "text": [
      "save callback...\n",
      "\n",
      "Epoch 00267: avg_val_mae did not improve\n"
     ]
    },
    {
     "name": "stderr",
     "output_type": "stream",
     "text": [
      " 97%|█████████▋| 35/36 [02:17<00:03,  3.82s/it, avg_laplacian_term=-22.3, avg_val_fro=473, avg_val_loss=451, avg_val_mae=9.85, batch_nb=16, epoch=267, tng_loss=35.243, v_nb=1]"
     ]
    },
    {
     "name": "stdout",
     "output_type": "stream",
     "text": [
      "save callback...\n",
      "\n",
      "Epoch 00268: avg_val_mae did not improve\n"
     ]
    },
    {
     "name": "stderr",
     "output_type": "stream",
     "text": [
      " 97%|█████████▋| 35/36 [1:36:54<00:05,  5.96s/it, avg_laplacian_term=-22.5, avg_val_fro=476, avg_val_loss=454, avg_val_mae=9.88, batch_nb=16, epoch=268, tng_loss=34.940, v_nb=1]    "
     ]
    },
    {
     "name": "stdout",
     "output_type": "stream",
     "text": [
      "save callback...\n",
      "\n",
      "Epoch 00269: avg_val_mae did not improve\n"
     ]
    },
    {
     "name": "stderr",
     "output_type": "stream",
     "text": [
      " 97%|█████████▋| 35/36 [02:21<00:03,  3.86s/it, avg_laplacian_term=-22.7, avg_val_fro=478, avg_val_loss=455, avg_val_mae=9.89, batch_nb=16, epoch=269, tng_loss=33.673, v_nb=1]1]"
     ]
    },
    {
     "name": "stdout",
     "output_type": "stream",
     "text": [
      "save callback...\n",
      "\n",
      "Epoch 00270: avg_val_mae did not improve\n"
     ]
    },
    {
     "name": "stderr",
     "output_type": "stream",
     "text": [
      " 97%|█████████▋| 35/36 [02:20<00:03,  3.91s/it, avg_laplacian_term=-23, avg_val_fro=482, avg_val_loss=459, avg_val_mae=9.96, batch_nb=16, epoch=270, tng_loss=33.476, v_nb=1]  "
     ]
    },
    {
     "name": "stdout",
     "output_type": "stream",
     "text": [
      "save callback...\n",
      "\n",
      "Epoch 00271: avg_val_mae did not improve\n"
     ]
    },
    {
     "name": "stderr",
     "output_type": "stream",
     "text": [
      " 97%|█████████▋| 35/36 [02:20<00:03,  3.92s/it, avg_laplacian_term=-23.2, avg_val_fro=483, avg_val_loss=460, avg_val_mae=9.97, batch_nb=16, epoch=271, tng_loss=31.439, v_nb=1]"
     ]
    },
    {
     "name": "stdout",
     "output_type": "stream",
     "text": [
      "save callback...\n",
      "\n",
      "Epoch 00272: avg_val_mae did not improve\n"
     ]
    },
    {
     "name": "stderr",
     "output_type": "stream",
     "text": [
      " 97%|█████████▋| 35/36 [02:27<00:03,  3.77s/it, avg_laplacian_term=-23.4, avg_val_fro=486, avg_val_loss=463, avg_val_mae=9.92, batch_nb=16, epoch=272, tng_loss=31.200, v_nb=1]"
     ]
    },
    {
     "name": "stdout",
     "output_type": "stream",
     "text": [
      "save callback...\n",
      "\n",
      "Epoch 00273: avg_val_mae did not improve\n"
     ]
    },
    {
     "name": "stderr",
     "output_type": "stream",
     "text": [
      " 97%|█████████▋| 35/36 [02:13<00:03,  3.69s/it, avg_laplacian_term=-23.6, avg_val_fro=488, avg_val_loss=465, avg_val_mae=10, batch_nb=16, epoch=273, tng_loss=30.967, v_nb=1]  "
     ]
    },
    {
     "name": "stdout",
     "output_type": "stream",
     "text": [
      "save callback...\n",
      "\n",
      "Epoch 00274: avg_val_mae did not improve\n"
     ]
    },
    {
     "name": "stderr",
     "output_type": "stream",
     "text": [
      " 97%|█████████▋| 35/36 [02:13<00:03,  3.68s/it, avg_laplacian_term=-23.8, avg_val_fro=491, avg_val_loss=468, avg_val_mae=10, batch_nb=16, epoch=274, tng_loss=30.795, v_nb=1]"
     ]
    },
    {
     "name": "stdout",
     "output_type": "stream",
     "text": [
      "save callback...\n",
      "\n",
      "Epoch 00275: avg_val_mae did not improve\n"
     ]
    },
    {
     "name": "stderr",
     "output_type": "stream",
     "text": [
      " 97%|█████████▋| 35/36 [02:13<00:03,  3.70s/it, avg_laplacian_term=-24, avg_val_fro=494, avg_val_loss=470, avg_val_mae=10, batch_nb=16, epoch=275, tng_loss=26.442, v_nb=1]  "
     ]
    },
    {
     "name": "stdout",
     "output_type": "stream",
     "text": [
      "save callback...\n",
      "\n",
      "Epoch 00276: avg_val_mae did not improve\n"
     ]
    },
    {
     "name": "stderr",
     "output_type": "stream",
     "text": [
      " 97%|█████████▋| 35/36 [02:13<00:03,  3.67s/it, avg_laplacian_term=-24.3, avg_val_fro=496, avg_val_loss=472, avg_val_mae=10.1, batch_nb=16, epoch=276, tng_loss=25.431, v_nb=1]"
     ]
    },
    {
     "name": "stdout",
     "output_type": "stream",
     "text": [
      "save callback...\n",
      "\n",
      "Epoch 00277: avg_val_mae did not improve\n"
     ]
    },
    {
     "name": "stderr",
     "output_type": "stream",
     "text": [
      " 97%|█████████▋| 35/36 [02:13<00:03,  3.72s/it, avg_laplacian_term=-24.5, avg_val_fro=499, avg_val_loss=474, avg_val_mae=10.2, batch_nb=16, epoch=277, tng_loss=27.166, v_nb=1]"
     ]
    },
    {
     "name": "stdout",
     "output_type": "stream",
     "text": [
      "save callback...\n",
      "\n",
      "Epoch 00278: avg_val_mae did not improve\n"
     ]
    },
    {
     "name": "stderr",
     "output_type": "stream",
     "text": [
      " 97%|█████████▋| 35/36 [02:13<00:03,  3.70s/it, avg_laplacian_term=-24.7, avg_val_fro=502, avg_val_loss=478, avg_val_mae=10.3, batch_nb=16, epoch=278, tng_loss=26.444, v_nb=1]"
     ]
    },
    {
     "name": "stdout",
     "output_type": "stream",
     "text": [
      "save callback...\n",
      "\n",
      "Epoch 00279: avg_val_mae did not improve\n"
     ]
    },
    {
     "name": "stderr",
     "output_type": "stream",
     "text": [
      " 97%|█████████▋| 35/36 [02:13<00:03,  3.70s/it, avg_laplacian_term=-24.9, avg_val_fro=504, avg_val_loss=479, avg_val_mae=10.3, batch_nb=16, epoch=279, tng_loss=25.131, v_nb=1]"
     ]
    },
    {
     "name": "stdout",
     "output_type": "stream",
     "text": [
      "save callback...\n",
      "\n",
      "Epoch 00280: avg_val_mae did not improve\n"
     ]
    },
    {
     "name": "stderr",
     "output_type": "stream",
     "text": [
      " 97%|█████████▋| 35/36 [02:13<00:03,  3.81s/it, avg_laplacian_term=-25.1, avg_val_fro=508, avg_val_loss=482, avg_val_mae=10.3, batch_nb=16, epoch=280, tng_loss=22.136, v_nb=1]"
     ]
    },
    {
     "name": "stdout",
     "output_type": "stream",
     "text": [
      "save callback...\n",
      "\n",
      "Epoch 00281: avg_val_mae did not improve\n"
     ]
    },
    {
     "name": "stderr",
     "output_type": "stream",
     "text": [
      " 97%|█████████▋| 35/36 [02:13<00:03,  3.72s/it, avg_laplacian_term=-25.4, avg_val_fro=509, avg_val_loss=484, avg_val_mae=10.3, batch_nb=16, epoch=281, tng_loss=19.285, v_nb=1]"
     ]
    },
    {
     "name": "stdout",
     "output_type": "stream",
     "text": [
      "save callback...\n",
      "\n",
      "Epoch 00282: avg_val_mae did not improve\n"
     ]
    },
    {
     "name": "stderr",
     "output_type": "stream",
     "text": [
      " 97%|█████████▋| 35/36 [02:13<00:03,  3.75s/it, avg_laplacian_term=-25.6, avg_val_fro=513, avg_val_loss=488, avg_val_mae=10.4, batch_nb=16, epoch=282, tng_loss=21.807, v_nb=1]"
     ]
    },
    {
     "name": "stdout",
     "output_type": "stream",
     "text": [
      "save callback...\n",
      "\n",
      "Epoch 00283: avg_val_mae did not improve\n"
     ]
    },
    {
     "name": "stderr",
     "output_type": "stream",
     "text": [
      " 97%|█████████▋| 35/36 [02:13<00:03,  3.71s/it, avg_laplacian_term=-25.8, avg_val_fro=515, avg_val_loss=489, avg_val_mae=10.4, batch_nb=16, epoch=283, tng_loss=22.142, v_nb=1]"
     ]
    },
    {
     "name": "stdout",
     "output_type": "stream",
     "text": [
      "save callback...\n",
      "\n",
      "Epoch 00284: avg_val_mae did not improve\n"
     ]
    },
    {
     "name": "stderr",
     "output_type": "stream",
     "text": [
      " 97%|█████████▋| 35/36 [02:13<00:03,  3.71s/it, avg_laplacian_term=-26, avg_val_fro=518, avg_val_loss=492, avg_val_mae=10.4, batch_nb=16, epoch=284, tng_loss=21.636, v_nb=1]  "
     ]
    },
    {
     "name": "stdout",
     "output_type": "stream",
     "text": [
      "save callback...\n",
      "\n",
      "Epoch 00285: avg_val_mae did not improve\n"
     ]
    },
    {
     "name": "stderr",
     "output_type": "stream",
     "text": [
      " 97%|█████████▋| 35/36 [02:13<00:03,  3.71s/it, avg_laplacian_term=-26.2, avg_val_fro=520, avg_val_loss=494, avg_val_mae=10.3, batch_nb=16, epoch=285, tng_loss=20.055, v_nb=1]"
     ]
    },
    {
     "name": "stdout",
     "output_type": "stream",
     "text": [
      "save callback...\n",
      "\n",
      "Epoch 00286: avg_val_mae did not improve\n"
     ]
    },
    {
     "name": "stderr",
     "output_type": "stream",
     "text": [
      " 97%|█████████▋| 35/36 [02:13<00:03,  3.69s/it, avg_laplacian_term=-26.5, avg_val_fro=523, avg_val_loss=497, avg_val_mae=10.5, batch_nb=16, epoch=286, tng_loss=20.154, v_nb=1]"
     ]
    },
    {
     "name": "stdout",
     "output_type": "stream",
     "text": [
      "save callback...\n",
      "\n",
      "Epoch 00287: avg_val_mae did not improve\n"
     ]
    },
    {
     "name": "stderr",
     "output_type": "stream",
     "text": [
      " 97%|█████████▋| 35/36 [02:13<00:03,  3.72s/it, avg_laplacian_term=-26.7, avg_val_fro=525, avg_val_loss=498, avg_val_mae=10.4, batch_nb=16, epoch=287, tng_loss=18.013, v_nb=1]"
     ]
    },
    {
     "name": "stdout",
     "output_type": "stream",
     "text": [
      "save callback...\n",
      "\n",
      "Epoch 00288: avg_val_mae did not improve\n"
     ]
    },
    {
     "name": "stderr",
     "output_type": "stream",
     "text": [
      " 97%|█████████▋| 35/36 [02:18<00:04,  4.11s/it, avg_laplacian_term=-26.9, avg_val_fro=528, avg_val_loss=501, avg_val_mae=10.6, batch_nb=16, epoch=288, tng_loss=17.093, v_nb=1]"
     ]
    },
    {
     "name": "stdout",
     "output_type": "stream",
     "text": [
      "save callback...\n",
      "\n",
      "Epoch 00289: avg_val_mae did not improve\n"
     ]
    },
    {
     "name": "stderr",
     "output_type": "stream",
     "text": [
      " 97%|█████████▋| 35/36 [03:08<00:05,  5.90s/it, avg_laplacian_term=-27.2, avg_val_fro=530, avg_val_loss=503, avg_val_mae=10.5, batch_nb=16, epoch=289, tng_loss=16.469, v_nb=1]"
     ]
    },
    {
     "name": "stdout",
     "output_type": "stream",
     "text": [
      "save callback...\n",
      "\n",
      "Epoch 00290: avg_val_mae did not improve\n"
     ]
    },
    {
     "name": "stderr",
     "output_type": "stream",
     "text": [
      " 97%|█████████▋| 35/36 [02:18<00:03,  3.75s/it, avg_laplacian_term=-27.4, avg_val_fro=534, avg_val_loss=506, avg_val_mae=10.6, batch_nb=16, epoch=290, tng_loss=16.087, v_nb=1]"
     ]
    },
    {
     "name": "stdout",
     "output_type": "stream",
     "text": [
      "save callback...\n",
      "\n",
      "Epoch 00291: avg_val_mae did not improve\n"
     ]
    },
    {
     "name": "stderr",
     "output_type": "stream",
     "text": [
      " 97%|█████████▋| 35/36 [02:16<00:03,  3.89s/it, avg_laplacian_term=-27.6, avg_val_fro=535, avg_val_loss=508, avg_val_mae=10.7, batch_nb=16, epoch=291, tng_loss=14.922, v_nb=1]"
     ]
    },
    {
     "name": "stdout",
     "output_type": "stream",
     "text": [
      "save callback...\n",
      "\n",
      "Epoch 00292: avg_val_mae did not improve\n"
     ]
    },
    {
     "name": "stderr",
     "output_type": "stream",
     "text": [
      " 97%|█████████▋| 35/36 [02:16<00:03,  3.75s/it, avg_laplacian_term=-27.9, avg_val_fro=538, avg_val_loss=510, avg_val_mae=10.6, batch_nb=16, epoch=292, tng_loss=14.695, v_nb=1]"
     ]
    },
    {
     "name": "stdout",
     "output_type": "stream",
     "text": [
      "save callback...\n",
      "\n",
      "Epoch 00293: avg_val_mae did not improve\n"
     ]
    },
    {
     "name": "stderr",
     "output_type": "stream",
     "text": [
      " 97%|█████████▋| 35/36 [02:13<00:03,  3.70s/it, avg_laplacian_term=-28.1, avg_val_fro=540, avg_val_loss=512, avg_val_mae=10.7, batch_nb=16, epoch=293, tng_loss=13.721, v_nb=1]"
     ]
    },
    {
     "name": "stdout",
     "output_type": "stream",
     "text": [
      "save callback...\n",
      "\n",
      "Epoch 00294: avg_val_mae did not improve\n"
     ]
    },
    {
     "name": "stderr",
     "output_type": "stream",
     "text": [
      " 97%|█████████▋| 35/36 [02:13<00:03,  3.70s/it, avg_laplacian_term=-28.3, avg_val_fro=543, avg_val_loss=515, avg_val_mae=10.6, batch_nb=16, epoch=294, tng_loss=13.026, v_nb=1]"
     ]
    },
    {
     "name": "stdout",
     "output_type": "stream",
     "text": [
      "save callback...\n",
      "\n",
      "Epoch 00295: avg_val_mae did not improve\n"
     ]
    },
    {
     "name": "stderr",
     "output_type": "stream",
     "text": [
      " 97%|█████████▋| 35/36 [02:16<00:03,  3.73s/it, avg_laplacian_term=-28.5, avg_val_fro=545, avg_val_loss=516, avg_val_mae=10.6, batch_nb=16, epoch=295, tng_loss=10.515, v_nb=1]"
     ]
    },
    {
     "name": "stdout",
     "output_type": "stream",
     "text": [
      "save callback...\n",
      "\n",
      "Epoch 00296: avg_val_mae did not improve\n"
     ]
    },
    {
     "name": "stderr",
     "output_type": "stream",
     "text": [
      " 97%|█████████▋| 35/36 [02:12<00:03,  3.70s/it, avg_laplacian_term=-28.8, avg_val_fro=548, avg_val_loss=520, avg_val_mae=10.7, batch_nb=16, epoch=296, tng_loss=11.122, v_nb=1]"
     ]
    },
    {
     "name": "stdout",
     "output_type": "stream",
     "text": [
      "save callback...\n",
      "\n",
      "Epoch 00297: avg_val_mae did not improve\n"
     ]
    },
    {
     "name": "stderr",
     "output_type": "stream",
     "text": [
      " 97%|█████████▋| 35/36 [02:16<00:03,  3.73s/it, avg_laplacian_term=-29, avg_val_fro=550, avg_val_loss=521, avg_val_mae=10.7, batch_nb=16, epoch=297, tng_loss=11.244, v_nb=1]  "
     ]
    },
    {
     "name": "stdout",
     "output_type": "stream",
     "text": [
      "save callback...\n",
      "\n",
      "Epoch 00298: avg_val_mae did not improve\n"
     ]
    },
    {
     "name": "stderr",
     "output_type": "stream",
     "text": [
      " 97%|█████████▋| 35/36 [02:13<00:03,  3.73s/it, avg_laplacian_term=-29.3, avg_val_fro=554, avg_val_loss=524, avg_val_mae=10.9, batch_nb=16, epoch=298, tng_loss=10.312, v_nb=1]"
     ]
    },
    {
     "name": "stdout",
     "output_type": "stream",
     "text": [
      "save callback...\n",
      "\n",
      "Epoch 00299: avg_val_mae did not improve\n"
     ]
    },
    {
     "name": "stderr",
     "output_type": "stream",
     "text": [
      " 97%|█████████▋| 35/36 [02:13<00:03,  3.70s/it, avg_laplacian_term=-29.5, avg_val_fro=555, avg_val_loss=525, avg_val_mae=10.8, batch_nb=16, epoch=299, tng_loss=9.378, v_nb=1] "
     ]
    },
    {
     "name": "stdout",
     "output_type": "stream",
     "text": [
      "save callback...\n",
      "\n",
      "Epoch 00300: avg_val_mae did not improve\n"
     ]
    },
    {
     "name": "stderr",
     "output_type": "stream",
     "text": [
      " 97%|█████████▋| 35/36 [02:13<00:03,  3.68s/it, avg_laplacian_term=-29.7, avg_val_fro=558, avg_val_loss=529, avg_val_mae=10.9, batch_nb=16, epoch=300, tng_loss=10.171, v_nb=1]"
     ]
    },
    {
     "name": "stdout",
     "output_type": "stream",
     "text": [
      "save callback...\n",
      "\n",
      "Epoch 00301: avg_val_mae did not improve\n"
     ]
    },
    {
     "name": "stderr",
     "output_type": "stream",
     "text": [
      " 97%|█████████▋| 35/36 [02:13<00:03,  3.70s/it, avg_laplacian_term=-30, avg_val_fro=560, avg_val_loss=530, avg_val_mae=10.8, batch_nb=16, epoch=301, tng_loss=9.024, v_nb=1]  ]"
     ]
    },
    {
     "name": "stdout",
     "output_type": "stream",
     "text": [
      "save callback...\n",
      "\n",
      "Epoch 00302: avg_val_mae did not improve\n"
     ]
    },
    {
     "name": "stderr",
     "output_type": "stream",
     "text": [
      " 97%|█████████▋| 35/36 [02:13<00:03,  3.70s/it, avg_laplacian_term=-30.2, avg_val_fro=564, avg_val_loss=534, avg_val_mae=10.9, batch_nb=16, epoch=302, tng_loss=7.069, v_nb=1]"
     ]
    },
    {
     "name": "stdout",
     "output_type": "stream",
     "text": [
      "save callback...\n",
      "\n",
      "Epoch 00303: avg_val_mae did not improve\n"
     ]
    },
    {
     "name": "stderr",
     "output_type": "stream",
     "text": [
      " 97%|█████████▋| 35/36 [02:13<00:03,  3.71s/it, avg_laplacian_term=-30.4, avg_val_fro=566, avg_val_loss=535, avg_val_mae=10.9, batch_nb=16, epoch=303, tng_loss=6.498, v_nb=1]"
     ]
    },
    {
     "name": "stdout",
     "output_type": "stream",
     "text": [
      "save callback...\n",
      "\n",
      "Epoch 00304: avg_val_mae did not improve\n"
     ]
    },
    {
     "name": "stderr",
     "output_type": "stream",
     "text": [
      " 97%|█████████▋| 35/36 [02:13<00:03,  3.78s/it, avg_laplacian_term=-30.7, avg_val_fro=569, avg_val_loss=538, avg_val_mae=10.9, batch_nb=16, epoch=304, tng_loss=5.530, v_nb=1]"
     ]
    },
    {
     "name": "stdout",
     "output_type": "stream",
     "text": [
      "save callback...\n",
      "\n",
      "Epoch 00305: avg_val_mae did not improve\n"
     ]
    },
    {
     "name": "stderr",
     "output_type": "stream",
     "text": [
      " 97%|█████████▋| 35/36 [02:13<00:03,  3.69s/it, avg_laplacian_term=-30.9, avg_val_fro=570, avg_val_loss=539, avg_val_mae=11, batch_nb=16, epoch=305, tng_loss=4.932, v_nb=1]  "
     ]
    },
    {
     "name": "stdout",
     "output_type": "stream",
     "text": [
      "save callback...\n",
      "\n",
      "Epoch 00306: avg_val_mae did not improve\n"
     ]
    },
    {
     "name": "stderr",
     "output_type": "stream",
     "text": [
      " 97%|█████████▋| 35/36 [02:13<00:03,  3.70s/it, avg_laplacian_term=-31.2, avg_val_fro=574, avg_val_loss=543, avg_val_mae=11.1, batch_nb=16, epoch=306, tng_loss=6.409, v_nb=1]"
     ]
    },
    {
     "name": "stdout",
     "output_type": "stream",
     "text": [
      "save callback...\n",
      "\n",
      "Epoch 00307: avg_val_mae did not improve\n"
     ]
    },
    {
     "name": "stderr",
     "output_type": "stream",
     "text": [
      " 97%|█████████▋| 35/36 [02:13<00:03,  3.70s/it, avg_laplacian_term=-31.4, avg_val_fro=575, avg_val_loss=544, avg_val_mae=11.1, batch_nb=16, epoch=307, tng_loss=4.571, v_nb=1]"
     ]
    },
    {
     "name": "stdout",
     "output_type": "stream",
     "text": [
      "save callback...\n",
      "\n",
      "Epoch 00308: avg_val_mae did not improve\n"
     ]
    },
    {
     "name": "stderr",
     "output_type": "stream",
     "text": [
      " 97%|█████████▋| 35/36 [02:13<00:03,  3.68s/it, avg_laplacian_term=-31.7, avg_val_fro=579, avg_val_loss=547, avg_val_mae=11.2, batch_nb=16, epoch=308, tng_loss=2.686, v_nb=1]"
     ]
    },
    {
     "name": "stdout",
     "output_type": "stream",
     "text": [
      "save callback...\n",
      "\n",
      "Epoch 00309: avg_val_mae did not improve\n"
     ]
    },
    {
     "name": "stderr",
     "output_type": "stream",
     "text": [
      " 97%|█████████▋| 35/36 [02:13<00:03,  3.72s/it, avg_laplacian_term=-31.9, avg_val_fro=580, avg_val_loss=548, avg_val_mae=11.1, batch_nb=16, epoch=309, tng_loss=4.498, v_nb=1]"
     ]
    },
    {
     "name": "stdout",
     "output_type": "stream",
     "text": [
      "save callback...\n",
      "\n",
      "Epoch 00310: avg_val_mae did not improve\n"
     ]
    },
    {
     "name": "stderr",
     "output_type": "stream",
     "text": [
      " 97%|█████████▋| 35/36 [02:13<00:03,  3.69s/it, avg_laplacian_term=-32.2, avg_val_fro=584, avg_val_loss=552, avg_val_mae=11.2, batch_nb=16, epoch=310, tng_loss=2.246, v_nb=1]"
     ]
    },
    {
     "name": "stdout",
     "output_type": "stream",
     "text": [
      "save callback...\n",
      "\n",
      "Epoch 00311: avg_val_mae did not improve\n"
     ]
    },
    {
     "name": "stderr",
     "output_type": "stream",
     "text": [
      " 97%|█████████▋| 35/36 [02:17<00:03,  3.90s/it, avg_laplacian_term=-32.4, avg_val_fro=585, avg_val_loss=553, avg_val_mae=11.2, batch_nb=16, epoch=311, tng_loss=0.729, v_nb=1]"
     ]
    },
    {
     "name": "stdout",
     "output_type": "stream",
     "text": [
      "save callback...\n",
      "\n",
      "Epoch 00312: avg_val_mae did not improve\n"
     ]
    },
    {
     "name": "stderr",
     "output_type": "stream",
     "text": [
      " 97%|█████████▋| 35/36 [02:19<00:03,  3.82s/it, avg_laplacian_term=-32.7, avg_val_fro=589, avg_val_loss=557, avg_val_mae=11.2, batch_nb=16, epoch=312, tng_loss=1.057, v_nb=1]"
     ]
    },
    {
     "name": "stdout",
     "output_type": "stream",
     "text": [
      "save callback...\n",
      "\n",
      "Epoch 00313: avg_val_mae did not improve\n"
     ]
    },
    {
     "name": "stderr",
     "output_type": "stream",
     "text": [
      " 97%|█████████▋| 35/36 [02:14<00:03,  3.70s/it, avg_laplacian_term=-32.9, avg_val_fro=591, avg_val_loss=558, avg_val_mae=11.3, batch_nb=16, epoch=313, tng_loss=-0.392, v_nb=1]"
     ]
    },
    {
     "name": "stdout",
     "output_type": "stream",
     "text": [
      "save callback...\n",
      "\n",
      "Epoch 00314: avg_val_mae did not improve\n"
     ]
    },
    {
     "name": "stderr",
     "output_type": "stream",
     "text": [
      " 97%|█████████▋| 35/36 [02:13<00:03,  3.74s/it, avg_laplacian_term=-33.1, avg_val_fro=595, avg_val_loss=561, avg_val_mae=11.4, batch_nb=16, epoch=314, tng_loss=0.213, v_nb=1] "
     ]
    },
    {
     "name": "stdout",
     "output_type": "stream",
     "text": [
      "save callback...\n",
      "\n",
      "Epoch 00315: avg_val_mae did not improve\n"
     ]
    },
    {
     "name": "stderr",
     "output_type": "stream",
     "text": [
      " 97%|█████████▋| 35/36 [02:12<00:03,  3.72s/it, avg_laplacian_term=-33.4, avg_val_fro=596, avg_val_loss=563, avg_val_mae=11.3, batch_nb=16, epoch=315, tng_loss=-0.135, v_nb=1]"
     ]
    },
    {
     "name": "stdout",
     "output_type": "stream",
     "text": [
      "save callback...\n",
      "\n",
      "Epoch 00316: avg_val_mae did not improve\n"
     ]
    },
    {
     "name": "stderr",
     "output_type": "stream",
     "text": [
      " 97%|█████████▋| 35/36 [02:14<00:03,  3.70s/it, avg_laplacian_term=-33.6, avg_val_fro=599, avg_val_loss=566, avg_val_mae=11.3, batch_nb=16, epoch=316, tng_loss=-0.344, v_nb=1]"
     ]
    },
    {
     "name": "stdout",
     "output_type": "stream",
     "text": [
      "save callback...\n",
      "\n",
      "Epoch 00317: avg_val_mae did not improve\n"
     ]
    },
    {
     "name": "stderr",
     "output_type": "stream",
     "text": [
      " 17%|█▋        | 6/36 [00:21<01:46,  3.54s/it, avg_laplacian_term=-33.6, avg_val_fro=599, avg_val_loss=566, avg_val_mae=11.3, batch_nb=4, epoch=317, tng_loss=-1.848, v_nb=1]1]"
     ]
    }
   ],
   "source": [
    "from src.nmf.lsm_rn import LSM_RN\n",
    "from pytorch_lightning import Trainer\n",
    "from pytorch_lightning.callbacks import ModelCheckpoint\n",
    "from test_tube import Experiment\n",
    "\n",
    "\n",
    "model = LSM_RN(TOTAL_T_STEPS, n=3475, k=50, λ=0.1, adj_mat=A, datasets=dataset_split, batch_size=8)\n",
    "exp = Experiment(save_dir='lsm_rn_logs')\n",
    "checkpoint_callback = ModelCheckpoint(\n",
    "    filepath='lsm_rn.ckpt',\n",
    "    save_best_only=True,\n",
    "    verbose=True,\n",
    "    monitor='avg_val_mae',\n",
    "    mode='min'\n",
    ")\n",
    "\n",
    "\n",
    "# most basic trainer, uses good defaults\n",
    "trainer = Trainer(experiment=exp, checkpoint_callback=checkpoint_callback)    \n",
    "trainer.fit(model)\n",
    "#TODO lr decay"
   ]
  },
  {
   "cell_type": "code",
   "execution_count": null,
   "metadata": {},
   "outputs": [],
   "source": []
  }
 ],
 "metadata": {
  "jupytext": {
   "encoding": "# -*- coding: utf-8 -*-",
   "text_representation": {
    "extension": ".py",
    "format_name": "light",
    "format_version": "1.4",
    "jupytext_version": "1.2.1"
   }
  },
  "kernelspec": {
   "display_name": "Python 3",
   "language": "python",
   "name": "python3"
  },
  "language_info": {
   "codemirror_mode": {
    "name": "ipython",
    "version": 3
   },
   "file_extension": ".py",
   "mimetype": "text/x-python",
   "name": "python",
   "nbconvert_exporter": "python",
   "pygments_lexer": "ipython3",
   "version": "3.6.8"
  }
 },
 "nbformat": 4,
 "nbformat_minor": 4
}
