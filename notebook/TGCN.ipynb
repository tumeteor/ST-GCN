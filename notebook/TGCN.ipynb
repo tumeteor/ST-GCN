{
 "cells": [
  {
   "cell_type": "code",
   "execution_count": 1,
   "metadata": {},
   "outputs": [
    {
     "name": "stdout",
     "output_type": "stream",
     "text": [
      "290100\n"
     ]
    }
   ],
   "source": [
    "import sys\n",
    "import pandas\n",
    "sys.path.append('../')\n",
    "\n",
    "from src.graph_utils import partition_graph_by_lonlat\n",
    "import networkx as nx\n",
    "from jurbey.jurbey import JURBEY\n",
    "\n",
    "with open(\"../data/1558537930325.jurbey\", 'rb') as tempf:\n",
    "    g = JURBEY.load(tempf.read())\n",
    "print(g.number_of_nodes())\n",
    "g_partition = partition_graph_by_lonlat(g)\n"
   ]
  },
  {
   "cell_type": "markdown",
   "metadata": {},
   "source": [
    "**Convert to edge-based graph**"
   ]
  },
  {
   "cell_type": "code",
   "execution_count": 2,
   "metadata": {},
   "outputs": [],
   "source": [
    "import networkx as nx\n",
    "L = nx.line_graph(nx.DiGraph(g_partition))"
   ]
  },
  {
   "cell_type": "code",
   "execution_count": 3,
   "metadata": {},
   "outputs": [
    {
     "data": {
      "text/plain": [
       "Arc(arcType=<ArcType.LANE_STRAIGHT: 'LANE_STRAIGHT'>, roadClass=<RoadClass.MajorRoad: 2>, roadAccessibility=<RoadAccessibility.NoRestriction: 1>, metadata={'bicycle': 'no', 'highway': 'primary', 'lanes': '4', 'lit': 'yes', 'maxspeed': '50', 'name': 'Bismarckstraße', 'oneway': 'yes', 'postal_code': '10625', 'ref': 'B 2;B 5', 'surface': 'asphalt', 'turn:lanes': 'through|through|through;right|right'}, signs=[], vehicleAccessibility=[], geometry=[GeoCoordinates(lon=13.3207077, lat=52.5123944, alt=nan), GeoCoordinates(lon=13.3207877, lat=52.5123711, alt=nan)])"
      ]
     },
     "execution_count": 3,
     "metadata": {},
     "output_type": "execute_result"
    }
   ],
   "source": [
    "nodes = list(L.nodes())\n",
    "g_partition[nodes[10][0]][nodes[10][1]]['data']"
   ]
  },
  {
   "cell_type": "markdown",
   "metadata": {},
   "source": [
    "**Extract dynamic (speed) + static features from nodes**"
   ]
  },
  {
   "cell_type": "code",
   "execution_count": 4,
   "metadata": {},
   "outputs": [],
   "source": [
    "from sklearn.preprocessing import OneHotEncoder, StandardScaler, OrdinalEncoder\n",
    "enc = OneHotEncoder(handle_unknown='ignore')\n",
    "ienc = OrdinalEncoder()\n",
    "scaler = StandardScaler()\n",
    "def arc_features(arc):\n",
    "    arc = g_partition[arc[0]][arc[1]]\n",
    "    return [\n",
    "        arc['data'].metadata['highway'],\n",
    "        arc['data'].metadata.get('surface', 'no_sur'),\n",
    "        arc['data'].roadClass.name\n",
    "    ],  [float(arc['data'].metadata.get('maxspeed', '50')), \n",
    "        int(arc['data'].metadata.get('lanes', '1'))]\n",
    "def construct_features():\n",
    "    data = list()\n",
    "    data_ord = list()\n",
    "    for node in L.nodes:\n",
    "        data.append(arc_features(node)[0])\n",
    "        data_ord.append(arc_features(node)[1])\n",
    "    return enc.fit_transform(data), ienc.fit_transform(data_ord)\n",
    "    \n",
    "x, y = construct_features()\n",
    "  "
   ]
  },
  {
   "cell_type": "code",
   "execution_count": null,
   "metadata": {},
   "outputs": [],
   "source": [
    "enc.categories_"
   ]
  },
  {
   "cell_type": "code",
   "execution_count": null,
   "metadata": {},
   "outputs": [],
   "source": [
    "ienc.categories_"
   ]
  },
  {
   "cell_type": "code",
   "execution_count": null,
   "metadata": {},
   "outputs": [],
   "source": [
    "x.shape"
   ]
  },
  {
   "cell_type": "code",
   "execution_count": null,
   "metadata": {},
   "outputs": [],
   "source": [
    "x"
   ]
  },
  {
   "cell_type": "markdown",
   "metadata": {},
   "source": [
    "**Preprocess adjacency matrix**"
   ]
  },
  {
   "cell_type": "code",
   "execution_count": 5,
   "metadata": {
    "lines_to_next_cell": 2
   },
   "outputs": [],
   "source": [
    "adj = nx.to_scipy_sparse_matrix(L, format=\"coo\")\n",
    "import scipy.sparse as sp\n",
    "import numpy as np\n",
    "import torch\n",
    "\n",
    "def sparse_mx_to_torch_sparse_tensor(sparse_mx):\n",
    "    \"\"\"Convert a scipy sparse matrix to a torch sparse tensor.\"\"\"\n",
    "    sparse_mx = sparse_mx.tocoo().astype(np.float32)\n",
    "    indices = torch.from_numpy(\n",
    "        np.vstack((sparse_mx.row, sparse_mx.col)).astype(np.int64))\n",
    "    values = torch.from_numpy(sparse_mx.data)\n",
    "    shape = torch.Size(sparse_mx.shape)\n",
    "    return torch.sparse.FloatTensor(indices, values, shape)\n",
    "                                    \n",
    "def normalize(mx):\n",
    "    \"\"\"Row-normalize sparse matrix\"\"\"\n",
    "    rowsum = np.array(mx.sum(1))\n",
    "    \n",
    "    r_inv = np.power(rowsum, -1).flatten()\n",
    "    r_inv[np.isinf(r_inv)] = 0.\n",
    "    r_mat_inv = sp.diags(r_inv)\n",
    "    mx = r_mat_inv.dot(mx)\n",
    "    return mx\n",
    "\n",
    "# build symmetric adjacency matrix\n",
    "adj = adj + adj.T.multiply(adj.T > adj) - adj.multiply(adj.T > adj)\n",
    "                                    \n",
    "adj = normalize(adj + sp.eye(adj.shape[0]))\n",
    "adj = sparse_mx_to_torch_sparse_tensor(adj)\n",
    "                                    "
   ]
  },
  {
   "cell_type": "code",
   "execution_count": null,
   "metadata": {},
   "outputs": [],
   "source": [
    "# adj = nx.to_scipy_sparse_matrix(L, format=\"coo\")\n",
    "# adj = adj + adj.T.multiply(adj.T > adj) - adj.multiply(adj.T > adj)"
   ]
  },
  {
   "cell_type": "code",
   "execution_count": null,
   "metadata": {},
   "outputs": [],
   "source": [
    "# def diagonal_degree_matrix(adj):\n",
    "#     diag = np.zeros([adj.shape[0], adj.shape[0]]) # basically dimensions of your graph\n",
    "#     rows, cols = adj.nonzero()\n",
    "#     for row, col in zip(rows, cols):\n",
    "#         diag[row, row] += 1\n",
    "#     return diag\n",
    "\n",
    "# D = diagonal_degree_matrix(adj)\n",
    "# np.power(D, -0.5).dot(adj).dot(np.power(D, -0.5))"
   ]
  },
  {
   "cell_type": "code",
   "execution_count": 29,
   "metadata": {},
   "outputs": [
    {
     "name": "stdout",
     "output_type": "stream",
     "text": [
      "[4, 7, 16, 124, 157, 204, 351, 352, 379, 389, 430, 487, 492, 513, 539, 551, 568, 569, 587, 613, 630, 639, 649, 675, 680, 698, 711, 713, 780, 782, 784, 865, 1037, 1062, 1070, 1079, 1080, 1088, 1091, 1125, 1206, 1215, 1217, 1238, 1241, 1397, 1400, 1450, 1517, 1550, 1556, 1560, 1564, 1574, 1703, 1733, 1756, 1804, 1805, 1806, 1807, 1819, 1824, 1853, 1907, 1917, 1964, 1996, 1999, 2003, 2007, 2029, 2030, 2033, 2036, 2037, 2040, 2042, 2098, 2099, 2102, 2104, 2116, 2119, 2123, 2128, 2137, 2143, 2210, 2261, 2281, 2284, 2289, 2358, 2382, 2387, 2394, 2406, 2411, 2412, 2473, 2487, 2550, 2568, 2604, 2605, 2649, 2657, 2674, 2677, 2738, 2753, 2766, 2788, 2794, 2809, 2851, 2853, 2869, 2871, 2917, 2925, 2956, 3081, 3086, 3087, 3088, 3090, 3117, 3120, 3132, 3223, 3264, 3450, 3458, 3459, 3530, 3577, 3587, 3627, 3629, 3645, 3728, 3792, 3870, 3974, 3984, 3993, 4006, 4064, 4065, 4083, 4084, 4303, 4445, 4448, 4550, 4551, 4572, 4602, 4655, 4673, 4688, 4698, 4700, 4704, 4798, 4814, 4866, 4889, 4953, 4967, 4992, 5035, 5122, 5149, 5244, 5285, 5357, 5391, 5400, 5476, 5479, 5484, 5485, 5516, 5525, 5528, 5529, 5611, 5688, 5703, 5706, 5721, 5752, 5823, 5824, 5825, 5826, 5827, 5828, 5834, 5858, 5953, 5956, 5964, 5970, 5981, 5988, 6002, 6004, 6121, 6157]\n"
     ]
    }
   ],
   "source": [
    "#Our speed data uses segment ids, but the model uses sequential indexes, based on `.nodes()`\n",
    "import math\n",
    "id_to_idx = {}\n",
    "# defaultdict won't do what you expect in Pandas\n",
    "df = pandas.read_csv(\"../data/timeseries_speed_april_first_week.csv\")\n",
    "df = df.T\n",
    "l = (df.isnull().mean() < 0.5).tolist()\n",
    "\n",
    "indices = [i for i, x in enumerate(l) if x == True]\n",
    "print(indices)"
   ]
  },
  {
   "cell_type": "code",
   "execution_count": 30,
   "metadata": {},
   "outputs": [
    {
     "ename": "KeyError",
     "evalue": "\"None of [Index(['0', '1', '2', '3', '4', '5', '6', '7', '8', '9',\\n       ...\\n       '134', '135', '136', '137', '138', '139', '140', '141', '142', '143'],\\n      dtype='object', length=144)] are in the [columns]\"",
     "output_type": "error",
     "traceback": [
      "\u001b[0;31m---------------------------------------------------------------------------\u001b[0m",
      "\u001b[0;31mKeyError\u001b[0m                                  Traceback (most recent call last)",
      "\u001b[0;32m<ipython-input-30-9e6b3f425946>\u001b[0m in \u001b[0;36m<module>\u001b[0;34m\u001b[0m\n\u001b[1;32m     19\u001b[0m \u001b[0;31m#df_filled = df_filled.interpolate(method='nearest', axis=1)\u001b[0m\u001b[0;34m\u001b[0m\u001b[0;34m\u001b[0m\u001b[0;34m\u001b[0m\u001b[0m\n\u001b[1;32m     20\u001b[0m \u001b[0mSPEED_COLUMNS\u001b[0m \u001b[0;34m=\u001b[0m \u001b[0mlist\u001b[0m\u001b[0;34m(\u001b[0m\u001b[0mmap\u001b[0m\u001b[0;34m(\u001b[0m\u001b[0mstr\u001b[0m\u001b[0;34m,\u001b[0m \u001b[0mrange\u001b[0m\u001b[0;34m(\u001b[0m\u001b[0mTOTAL_T_STEPS\u001b[0m\u001b[0;34m)\u001b[0m\u001b[0;34m)\u001b[0m\u001b[0;34m)\u001b[0m\u001b[0;34m\u001b[0m\u001b[0;34m\u001b[0m\u001b[0m\n\u001b[0;32m---> 21\u001b[0;31m \u001b[0mdf_filled\u001b[0m \u001b[0;34m=\u001b[0m \u001b[0mdf_filled\u001b[0m\u001b[0;34m.\u001b[0m\u001b[0mfillna\u001b[0m\u001b[0;34m(\u001b[0m\u001b[0mdf_filled\u001b[0m\u001b[0;34m[\u001b[0m\u001b[0mSPEED_COLUMNS\u001b[0m\u001b[0;34m]\u001b[0m\u001b[0;34m.\u001b[0m\u001b[0mmean\u001b[0m\u001b[0;34m(\u001b[0m\u001b[0;34m)\u001b[0m\u001b[0;34m)\u001b[0m\u001b[0;34m\u001b[0m\u001b[0;34m\u001b[0m\u001b[0m\n\u001b[0m\u001b[1;32m     22\u001b[0m \u001b[0mdf_filled\u001b[0m \u001b[0;34m=\u001b[0m \u001b[0mdf_filled\u001b[0m\u001b[0;34m.\u001b[0m\u001b[0mT\u001b[0m\u001b[0;34m\u001b[0m\u001b[0;34m\u001b[0m\u001b[0m\n\u001b[1;32m     23\u001b[0m \u001b[0mdf_filled\u001b[0m\u001b[0;34m[\u001b[0m\u001b[0;34m'from_node'\u001b[0m\u001b[0;34m]\u001b[0m \u001b[0;34m=\u001b[0m \u001b[0mdf2\u001b[0m\u001b[0;34m\u001b[0m\u001b[0;34m\u001b[0m\u001b[0m\n",
      "\u001b[0;32m~/anaconda3/lib/python3.7/site-packages/pandas/core/frame.py\u001b[0m in \u001b[0;36m__getitem__\u001b[0;34m(self, key)\u001b[0m\n\u001b[1;32m   2984\u001b[0m             \u001b[0;32mif\u001b[0m \u001b[0mis_iterator\u001b[0m\u001b[0;34m(\u001b[0m\u001b[0mkey\u001b[0m\u001b[0;34m)\u001b[0m\u001b[0;34m:\u001b[0m\u001b[0;34m\u001b[0m\u001b[0;34m\u001b[0m\u001b[0m\n\u001b[1;32m   2985\u001b[0m                 \u001b[0mkey\u001b[0m \u001b[0;34m=\u001b[0m \u001b[0mlist\u001b[0m\u001b[0;34m(\u001b[0m\u001b[0mkey\u001b[0m\u001b[0;34m)\u001b[0m\u001b[0;34m\u001b[0m\u001b[0;34m\u001b[0m\u001b[0m\n\u001b[0;32m-> 2986\u001b[0;31m             \u001b[0mindexer\u001b[0m \u001b[0;34m=\u001b[0m \u001b[0mself\u001b[0m\u001b[0;34m.\u001b[0m\u001b[0mloc\u001b[0m\u001b[0;34m.\u001b[0m\u001b[0m_convert_to_indexer\u001b[0m\u001b[0;34m(\u001b[0m\u001b[0mkey\u001b[0m\u001b[0;34m,\u001b[0m \u001b[0maxis\u001b[0m\u001b[0;34m=\u001b[0m\u001b[0;36m1\u001b[0m\u001b[0;34m,\u001b[0m \u001b[0mraise_missing\u001b[0m\u001b[0;34m=\u001b[0m\u001b[0;32mTrue\u001b[0m\u001b[0;34m)\u001b[0m\u001b[0;34m\u001b[0m\u001b[0;34m\u001b[0m\u001b[0m\n\u001b[0m\u001b[1;32m   2987\u001b[0m \u001b[0;34m\u001b[0m\u001b[0m\n\u001b[1;32m   2988\u001b[0m         \u001b[0;31m# take() does not accept boolean indexers\u001b[0m\u001b[0;34m\u001b[0m\u001b[0;34m\u001b[0m\u001b[0;34m\u001b[0m\u001b[0m\n",
      "\u001b[0;32m~/anaconda3/lib/python3.7/site-packages/pandas/core/indexing.py\u001b[0m in \u001b[0;36m_convert_to_indexer\u001b[0;34m(self, obj, axis, is_setter, raise_missing)\u001b[0m\n\u001b[1;32m   1283\u001b[0m                 \u001b[0;31m# When setting, missing keys are not allowed, even with .loc:\u001b[0m\u001b[0;34m\u001b[0m\u001b[0;34m\u001b[0m\u001b[0;34m\u001b[0m\u001b[0m\n\u001b[1;32m   1284\u001b[0m                 \u001b[0mkwargs\u001b[0m \u001b[0;34m=\u001b[0m \u001b[0;34m{\u001b[0m\u001b[0;34m\"raise_missing\"\u001b[0m\u001b[0;34m:\u001b[0m \u001b[0;32mTrue\u001b[0m \u001b[0;32mif\u001b[0m \u001b[0mis_setter\u001b[0m \u001b[0;32melse\u001b[0m \u001b[0mraise_missing\u001b[0m\u001b[0;34m}\u001b[0m\u001b[0;34m\u001b[0m\u001b[0;34m\u001b[0m\u001b[0m\n\u001b[0;32m-> 1285\u001b[0;31m                 \u001b[0;32mreturn\u001b[0m \u001b[0mself\u001b[0m\u001b[0;34m.\u001b[0m\u001b[0m_get_listlike_indexer\u001b[0m\u001b[0;34m(\u001b[0m\u001b[0mobj\u001b[0m\u001b[0;34m,\u001b[0m \u001b[0maxis\u001b[0m\u001b[0;34m,\u001b[0m \u001b[0;34m**\u001b[0m\u001b[0mkwargs\u001b[0m\u001b[0;34m)\u001b[0m\u001b[0;34m[\u001b[0m\u001b[0;36m1\u001b[0m\u001b[0;34m]\u001b[0m\u001b[0;34m\u001b[0m\u001b[0;34m\u001b[0m\u001b[0m\n\u001b[0m\u001b[1;32m   1286\u001b[0m         \u001b[0;32melse\u001b[0m\u001b[0;34m:\u001b[0m\u001b[0;34m\u001b[0m\u001b[0;34m\u001b[0m\u001b[0m\n\u001b[1;32m   1287\u001b[0m             \u001b[0;32mtry\u001b[0m\u001b[0;34m:\u001b[0m\u001b[0;34m\u001b[0m\u001b[0;34m\u001b[0m\u001b[0m\n",
      "\u001b[0;32m~/anaconda3/lib/python3.7/site-packages/pandas/core/indexing.py\u001b[0m in \u001b[0;36m_get_listlike_indexer\u001b[0;34m(self, key, axis, raise_missing)\u001b[0m\n\u001b[1;32m   1090\u001b[0m \u001b[0;34m\u001b[0m\u001b[0m\n\u001b[1;32m   1091\u001b[0m         self._validate_read_indexer(\n\u001b[0;32m-> 1092\u001b[0;31m             \u001b[0mkeyarr\u001b[0m\u001b[0;34m,\u001b[0m \u001b[0mindexer\u001b[0m\u001b[0;34m,\u001b[0m \u001b[0mo\u001b[0m\u001b[0;34m.\u001b[0m\u001b[0m_get_axis_number\u001b[0m\u001b[0;34m(\u001b[0m\u001b[0maxis\u001b[0m\u001b[0;34m)\u001b[0m\u001b[0;34m,\u001b[0m \u001b[0mraise_missing\u001b[0m\u001b[0;34m=\u001b[0m\u001b[0mraise_missing\u001b[0m\u001b[0;34m\u001b[0m\u001b[0;34m\u001b[0m\u001b[0m\n\u001b[0m\u001b[1;32m   1093\u001b[0m         )\n\u001b[1;32m   1094\u001b[0m         \u001b[0;32mreturn\u001b[0m \u001b[0mkeyarr\u001b[0m\u001b[0;34m,\u001b[0m \u001b[0mindexer\u001b[0m\u001b[0;34m\u001b[0m\u001b[0;34m\u001b[0m\u001b[0m\n",
      "\u001b[0;32m~/anaconda3/lib/python3.7/site-packages/pandas/core/indexing.py\u001b[0m in \u001b[0;36m_validate_read_indexer\u001b[0;34m(self, key, indexer, axis, raise_missing)\u001b[0m\n\u001b[1;32m   1175\u001b[0m                 raise KeyError(\n\u001b[1;32m   1176\u001b[0m                     \"None of [{key}] are in the [{axis}]\".format(\n\u001b[0;32m-> 1177\u001b[0;31m                         \u001b[0mkey\u001b[0m\u001b[0;34m=\u001b[0m\u001b[0mkey\u001b[0m\u001b[0;34m,\u001b[0m \u001b[0maxis\u001b[0m\u001b[0;34m=\u001b[0m\u001b[0mself\u001b[0m\u001b[0;34m.\u001b[0m\u001b[0mobj\u001b[0m\u001b[0;34m.\u001b[0m\u001b[0m_get_axis_name\u001b[0m\u001b[0;34m(\u001b[0m\u001b[0maxis\u001b[0m\u001b[0;34m)\u001b[0m\u001b[0;34m\u001b[0m\u001b[0;34m\u001b[0m\u001b[0m\n\u001b[0m\u001b[1;32m   1178\u001b[0m                     )\n\u001b[1;32m   1179\u001b[0m                 )\n",
      "\u001b[0;31mKeyError\u001b[0m: \"None of [Index(['0', '1', '2', '3', '4', '5', '6', '7', '8', '9',\\n       ...\\n       '134', '135', '136', '137', '138', '139', '140', '141', '142', '143'],\\n      dtype='object', length=144)] are in the [columns]\""
     ]
    }
   ],
   "source": [
    "id_to_idx = {}\n",
    "\n",
    "for idx, id_ in enumerate(L.nodes()):\n",
    "    id_to_idx[id_] = idx\n",
    "df = df.T\n",
    "df = df.loc[:, df.columns != 'Unnamed: 0']\n",
    "\n",
    "df2 = df['from_node']\n",
    "df3 = df['to_node']\n",
    "\n",
    "df_filled = df.loc[:, df.columns != 'from_node']\n",
    "df_filled = df.loc[:, df.columns != 'to_node']\n",
    "\n",
    "\n",
    "#df_filled = df_filled.interpolate(method='nearest', axis=1)\n",
    "SPEED_COLUMNS = list(map(str, range(TOTAL_T_STEPS)))\n",
    "df_filled = df_filled.fillna(df_filled[SPEED_COLUMNS].mean())\n",
    "df_filled['from_node'] = df2\n",
    "df_filled['to_node'] = df3\n",
    "\n",
    "print(df_filled[0:10])\n"
   ]
  },
  {
   "cell_type": "code",
   "execution_count": 25,
   "metadata": {},
   "outputs": [
    {
     "data": {
      "text/html": [
       "<div>\n",
       "<style scoped>\n",
       "    .dataframe tbody tr th:only-of-type {\n",
       "        vertical-align: middle;\n",
       "    }\n",
       "\n",
       "    .dataframe tbody tr th {\n",
       "        vertical-align: top;\n",
       "    }\n",
       "\n",
       "    .dataframe thead th {\n",
       "        text-align: right;\n",
       "    }\n",
       "</style>\n",
       "<table border=\"1\" class=\"dataframe\">\n",
       "  <thead>\n",
       "    <tr style=\"text-align: right;\">\n",
       "      <th></th>\n",
       "      <th>0</th>\n",
       "      <th>1</th>\n",
       "      <th>2</th>\n",
       "      <th>3</th>\n",
       "      <th>4</th>\n",
       "      <th>5</th>\n",
       "      <th>6</th>\n",
       "      <th>7</th>\n",
       "      <th>8</th>\n",
       "      <th>9</th>\n",
       "      <th>...</th>\n",
       "      <th>136</th>\n",
       "      <th>137</th>\n",
       "      <th>138</th>\n",
       "      <th>139</th>\n",
       "      <th>140</th>\n",
       "      <th>141</th>\n",
       "      <th>142</th>\n",
       "      <th>143</th>\n",
       "      <th>from_node</th>\n",
       "      <th>to_node</th>\n",
       "    </tr>\n",
       "  </thead>\n",
       "  <tbody>\n",
       "    <tr>\n",
       "      <td>0</td>\n",
       "      <td>1.163250e+07</td>\n",
       "      <td>1.163250e+07</td>\n",
       "      <td>1.163250e+07</td>\n",
       "      <td>1.085446e+01</td>\n",
       "      <td>1.163250e+07</td>\n",
       "      <td>5.680978e+00</td>\n",
       "      <td>7.036838e+00</td>\n",
       "      <td>1.499997e+00</td>\n",
       "      <td>1.008863e+01</td>\n",
       "      <td>1.058746e+01</td>\n",
       "      <td>...</td>\n",
       "      <td>1.058112e+01</td>\n",
       "      <td>1.163250e+07</td>\n",
       "      <td>1.163250e+07</td>\n",
       "      <td>1.163250e+07</td>\n",
       "      <td>1.163250e+07</td>\n",
       "      <td>1.163250e+07</td>\n",
       "      <td>1.085084e+01</td>\n",
       "      <td>1.003641e+01</td>\n",
       "      <td>628154368</td>\n",
       "      <td>1023689595</td>\n",
       "    </tr>\n",
       "    <tr>\n",
       "      <td>1</td>\n",
       "      <td>1.163250e+07</td>\n",
       "      <td>1.163250e+07</td>\n",
       "      <td>1.163250e+07</td>\n",
       "      <td>1.085446e+01</td>\n",
       "      <td>1.163250e+07</td>\n",
       "      <td>5.680978e+00</td>\n",
       "      <td>7.036838e+00</td>\n",
       "      <td>1.499997e+00</td>\n",
       "      <td>1.008863e+01</td>\n",
       "      <td>1.058746e+01</td>\n",
       "      <td>...</td>\n",
       "      <td>1.058112e+01</td>\n",
       "      <td>1.163250e+07</td>\n",
       "      <td>1.163250e+07</td>\n",
       "      <td>1.163250e+07</td>\n",
       "      <td>1.163250e+07</td>\n",
       "      <td>1.163250e+07</td>\n",
       "      <td>1.085084e+01</td>\n",
       "      <td>1.003641e+01</td>\n",
       "      <td>628154368</td>\n",
       "      <td>1023689595</td>\n",
       "    </tr>\n",
       "    <tr>\n",
       "      <td>2</td>\n",
       "      <td>4.792246e+07</td>\n",
       "      <td>4.792246e+07</td>\n",
       "      <td>4.792246e+07</td>\n",
       "      <td>4.792246e+07</td>\n",
       "      <td>4.792246e+07</td>\n",
       "      <td>1.048621e+01</td>\n",
       "      <td>4.792246e+07</td>\n",
       "      <td>4.792246e+07</td>\n",
       "      <td>1.093722e+01</td>\n",
       "      <td>4.792246e+07</td>\n",
       "      <td>...</td>\n",
       "      <td>4.792246e+07</td>\n",
       "      <td>4.792246e+07</td>\n",
       "      <td>4.792246e+07</td>\n",
       "      <td>4.792246e+07</td>\n",
       "      <td>4.792246e+07</td>\n",
       "      <td>4.792246e+07</td>\n",
       "      <td>4.792246e+07</td>\n",
       "      <td>4.792246e+07</td>\n",
       "      <td>527147009</td>\n",
       "      <td>27537239</td>\n",
       "    </tr>\n",
       "    <tr>\n",
       "      <td>3</td>\n",
       "      <td>4.392893e+07</td>\n",
       "      <td>4.392893e+07</td>\n",
       "      <td>4.392893e+07</td>\n",
       "      <td>4.392893e+07</td>\n",
       "      <td>4.392893e+07</td>\n",
       "      <td>4.392893e+07</td>\n",
       "      <td>4.392893e+07</td>\n",
       "      <td>4.392893e+07</td>\n",
       "      <td>4.392893e+07</td>\n",
       "      <td>4.392893e+07</td>\n",
       "      <td>...</td>\n",
       "      <td>4.392893e+07</td>\n",
       "      <td>4.392893e+07</td>\n",
       "      <td>4.392893e+07</td>\n",
       "      <td>4.392893e+07</td>\n",
       "      <td>4.392893e+07</td>\n",
       "      <td>4.392893e+07</td>\n",
       "      <td>4.392893e+07</td>\n",
       "      <td>4.392893e+07</td>\n",
       "      <td>527147009</td>\n",
       "      <td>26908815</td>\n",
       "    </tr>\n",
       "    <tr>\n",
       "      <td>4</td>\n",
       "      <td>8.604863e+06</td>\n",
       "      <td>8.604863e+06</td>\n",
       "      <td>8.604863e+06</td>\n",
       "      <td>1.046881e+01</td>\n",
       "      <td>1.063662e+01</td>\n",
       "      <td>1.028853e+01</td>\n",
       "      <td>1.061751e+01</td>\n",
       "      <td>1.758539e+00</td>\n",
       "      <td>3.404401e+00</td>\n",
       "      <td>1.022457e+01</td>\n",
       "      <td>...</td>\n",
       "      <td>6.098767e+00</td>\n",
       "      <td>1.025766e+01</td>\n",
       "      <td>1.058617e+01</td>\n",
       "      <td>8.604863e+06</td>\n",
       "      <td>1.066948e+01</td>\n",
       "      <td>4.313417e+00</td>\n",
       "      <td>1.039290e+01</td>\n",
       "      <td>1.051831e+01</td>\n",
       "      <td>628154370</td>\n",
       "      <td>3804638178</td>\n",
       "    </tr>\n",
       "    <tr>\n",
       "      <td>5</td>\n",
       "      <td>1.185198e+07</td>\n",
       "      <td>1.185198e+07</td>\n",
       "      <td>1.185198e+07</td>\n",
       "      <td>1.185198e+07</td>\n",
       "      <td>1.185198e+07</td>\n",
       "      <td>1.185198e+07</td>\n",
       "      <td>1.028700e+01</td>\n",
       "      <td>1.185198e+07</td>\n",
       "      <td>1.185198e+07</td>\n",
       "      <td>1.083357e+01</td>\n",
       "      <td>...</td>\n",
       "      <td>1.053758e+01</td>\n",
       "      <td>1.028700e+01</td>\n",
       "      <td>1.185198e+07</td>\n",
       "      <td>1.185198e+07</td>\n",
       "      <td>1.185198e+07</td>\n",
       "      <td>7.238553e+00</td>\n",
       "      <td>1.049798e+01</td>\n",
       "      <td>1.049173e+01</td>\n",
       "      <td>628154372</td>\n",
       "      <td>26938222</td>\n",
       "    </tr>\n",
       "    <tr>\n",
       "      <td>6</td>\n",
       "      <td>1.046925e+07</td>\n",
       "      <td>1.046925e+07</td>\n",
       "      <td>1.046925e+07</td>\n",
       "      <td>1.085446e+01</td>\n",
       "      <td>1.046925e+07</td>\n",
       "      <td>5.680978e+00</td>\n",
       "      <td>7.036838e+00</td>\n",
       "      <td>1.499997e+00</td>\n",
       "      <td>5.044317e+00</td>\n",
       "      <td>1.058746e+01</td>\n",
       "      <td>...</td>\n",
       "      <td>9.618658e-01</td>\n",
       "      <td>1.046925e+07</td>\n",
       "      <td>1.046925e+07</td>\n",
       "      <td>1.046925e+07</td>\n",
       "      <td>1.046925e+07</td>\n",
       "      <td>1.046925e+07</td>\n",
       "      <td>1.085084e+01</td>\n",
       "      <td>1.003641e+01</td>\n",
       "      <td>628154375</td>\n",
       "      <td>1560866145</td>\n",
       "    </tr>\n",
       "    <tr>\n",
       "      <td>7</td>\n",
       "      <td>1.027885e+01</td>\n",
       "      <td>6.096418e+07</td>\n",
       "      <td>6.096418e+07</td>\n",
       "      <td>6.096418e+07</td>\n",
       "      <td>1.083141e+01</td>\n",
       "      <td>6.096418e+07</td>\n",
       "      <td>3.140737e+00</td>\n",
       "      <td>2.073876e+00</td>\n",
       "      <td>3.852635e-01</td>\n",
       "      <td>4.104480e+00</td>\n",
       "      <td>...</td>\n",
       "      <td>1.050583e+01</td>\n",
       "      <td>1.051731e+01</td>\n",
       "      <td>6.096418e+07</td>\n",
       "      <td>6.096418e+07</td>\n",
       "      <td>6.096418e+07</td>\n",
       "      <td>1.018992e+01</td>\n",
       "      <td>1.043675e+01</td>\n",
       "      <td>4.196431e+00</td>\n",
       "      <td>5791596551</td>\n",
       "      <td>1321327852</td>\n",
       "    </tr>\n",
       "    <tr>\n",
       "      <td>8</td>\n",
       "      <td>5.791621e+08</td>\n",
       "      <td>5.791621e+08</td>\n",
       "      <td>5.791621e+08</td>\n",
       "      <td>5.791621e+08</td>\n",
       "      <td>5.791621e+08</td>\n",
       "      <td>1.029825e+01</td>\n",
       "      <td>1.220956e+00</td>\n",
       "      <td>1.029825e+01</td>\n",
       "      <td>5.791621e+08</td>\n",
       "      <td>5.791621e+08</td>\n",
       "      <td>...</td>\n",
       "      <td>5.791621e+08</td>\n",
       "      <td>5.791621e+08</td>\n",
       "      <td>5.791621e+08</td>\n",
       "      <td>5.791621e+08</td>\n",
       "      <td>5.791621e+08</td>\n",
       "      <td>5.791621e+08</td>\n",
       "      <td>5.791621e+08</td>\n",
       "      <td>5.791621e+08</td>\n",
       "      <td>5791621141</td>\n",
       "      <td>4782446443</td>\n",
       "    </tr>\n",
       "    <tr>\n",
       "      <td>9</td>\n",
       "      <td>1.930540e+09</td>\n",
       "      <td>1.930540e+09</td>\n",
       "      <td>1.930540e+09</td>\n",
       "      <td>1.930540e+09</td>\n",
       "      <td>1.930540e+09</td>\n",
       "      <td>1.930540e+09</td>\n",
       "      <td>1.930540e+09</td>\n",
       "      <td>1.930540e+09</td>\n",
       "      <td>1.930540e+09</td>\n",
       "      <td>1.930540e+09</td>\n",
       "      <td>...</td>\n",
       "      <td>1.930540e+09</td>\n",
       "      <td>1.930540e+09</td>\n",
       "      <td>1.930540e+09</td>\n",
       "      <td>1.930540e+09</td>\n",
       "      <td>1.930540e+09</td>\n",
       "      <td>1.930540e+09</td>\n",
       "      <td>1.930540e+09</td>\n",
       "      <td>1.930540e+09</td>\n",
       "      <td>5791621141</td>\n",
       "      <td>26875019</td>\n",
       "    </tr>\n",
       "  </tbody>\n",
       "</table>\n",
       "<p>10 rows × 146 columns</p>\n",
       "</div>"
      ],
      "text/plain": [
       "              0             1             2             3             4  \\\n",
       "0  1.163250e+07  1.163250e+07  1.163250e+07  1.085446e+01  1.163250e+07   \n",
       "1  1.163250e+07  1.163250e+07  1.163250e+07  1.085446e+01  1.163250e+07   \n",
       "2  4.792246e+07  4.792246e+07  4.792246e+07  4.792246e+07  4.792246e+07   \n",
       "3  4.392893e+07  4.392893e+07  4.392893e+07  4.392893e+07  4.392893e+07   \n",
       "4  8.604863e+06  8.604863e+06  8.604863e+06  1.046881e+01  1.063662e+01   \n",
       "5  1.185198e+07  1.185198e+07  1.185198e+07  1.185198e+07  1.185198e+07   \n",
       "6  1.046925e+07  1.046925e+07  1.046925e+07  1.085446e+01  1.046925e+07   \n",
       "7  1.027885e+01  6.096418e+07  6.096418e+07  6.096418e+07  1.083141e+01   \n",
       "8  5.791621e+08  5.791621e+08  5.791621e+08  5.791621e+08  5.791621e+08   \n",
       "9  1.930540e+09  1.930540e+09  1.930540e+09  1.930540e+09  1.930540e+09   \n",
       "\n",
       "              5             6             7             8             9  ...  \\\n",
       "0  5.680978e+00  7.036838e+00  1.499997e+00  1.008863e+01  1.058746e+01  ...   \n",
       "1  5.680978e+00  7.036838e+00  1.499997e+00  1.008863e+01  1.058746e+01  ...   \n",
       "2  1.048621e+01  4.792246e+07  4.792246e+07  1.093722e+01  4.792246e+07  ...   \n",
       "3  4.392893e+07  4.392893e+07  4.392893e+07  4.392893e+07  4.392893e+07  ...   \n",
       "4  1.028853e+01  1.061751e+01  1.758539e+00  3.404401e+00  1.022457e+01  ...   \n",
       "5  1.185198e+07  1.028700e+01  1.185198e+07  1.185198e+07  1.083357e+01  ...   \n",
       "6  5.680978e+00  7.036838e+00  1.499997e+00  5.044317e+00  1.058746e+01  ...   \n",
       "7  6.096418e+07  3.140737e+00  2.073876e+00  3.852635e-01  4.104480e+00  ...   \n",
       "8  1.029825e+01  1.220956e+00  1.029825e+01  5.791621e+08  5.791621e+08  ...   \n",
       "9  1.930540e+09  1.930540e+09  1.930540e+09  1.930540e+09  1.930540e+09  ...   \n",
       "\n",
       "            136           137           138           139           140  \\\n",
       "0  1.058112e+01  1.163250e+07  1.163250e+07  1.163250e+07  1.163250e+07   \n",
       "1  1.058112e+01  1.163250e+07  1.163250e+07  1.163250e+07  1.163250e+07   \n",
       "2  4.792246e+07  4.792246e+07  4.792246e+07  4.792246e+07  4.792246e+07   \n",
       "3  4.392893e+07  4.392893e+07  4.392893e+07  4.392893e+07  4.392893e+07   \n",
       "4  6.098767e+00  1.025766e+01  1.058617e+01  8.604863e+06  1.066948e+01   \n",
       "5  1.053758e+01  1.028700e+01  1.185198e+07  1.185198e+07  1.185198e+07   \n",
       "6  9.618658e-01  1.046925e+07  1.046925e+07  1.046925e+07  1.046925e+07   \n",
       "7  1.050583e+01  1.051731e+01  6.096418e+07  6.096418e+07  6.096418e+07   \n",
       "8  5.791621e+08  5.791621e+08  5.791621e+08  5.791621e+08  5.791621e+08   \n",
       "9  1.930540e+09  1.930540e+09  1.930540e+09  1.930540e+09  1.930540e+09   \n",
       "\n",
       "            141           142           143   from_node     to_node  \n",
       "0  1.163250e+07  1.085084e+01  1.003641e+01   628154368  1023689595  \n",
       "1  1.163250e+07  1.085084e+01  1.003641e+01   628154368  1023689595  \n",
       "2  4.792246e+07  4.792246e+07  4.792246e+07   527147009    27537239  \n",
       "3  4.392893e+07  4.392893e+07  4.392893e+07   527147009    26908815  \n",
       "4  4.313417e+00  1.039290e+01  1.051831e+01   628154370  3804638178  \n",
       "5  7.238553e+00  1.049798e+01  1.049173e+01   628154372    26938222  \n",
       "6  1.046925e+07  1.085084e+01  1.003641e+01   628154375  1560866145  \n",
       "7  1.018992e+01  1.043675e+01  4.196431e+00  5791596551  1321327852  \n",
       "8  5.791621e+08  5.791621e+08  5.791621e+08  5791621141  4782446443  \n",
       "9  1.930540e+09  1.930540e+09  1.930540e+09  5791621141    26875019  \n",
       "\n",
       "[10 rows x 146 columns]"
      ]
     },
     "execution_count": 25,
     "metadata": {},
     "output_type": "execute_result"
    }
   ],
   "source": [
    "df_filled[0:10]"
   ]
  },
  {
   "cell_type": "markdown",
   "metadata": {},
   "source": [
    "**Create rolling window tensor dataset**"
   ]
  },
  {
   "cell_type": "code",
   "execution_count": 9,
   "metadata": {},
   "outputs": [
    {
     "name": "stdout",
     "output_type": "stream",
     "text": [
      "[[10.8544569 ]\n",
      " [ 5.68097802]\n",
      " [ 7.03683772]\n",
      " [ 1.49999732]\n",
      " [10.08863449]\n",
      " [10.58745861]\n",
      " [ 5.72889727]\n",
      " [10.42498398]\n",
      " [10.69523907]\n",
      " [10.86074638]]\n"
     ]
    },
    {
     "data": {
      "text/plain": [
       "RobustScaler(copy=True, quantile_range=(25.0, 75.0), with_centering=True,\n",
       "       with_scaling=True)"
      ]
     },
     "execution_count": 9,
     "metadata": {},
     "output_type": "execute_result"
    }
   ],
   "source": [
    "import torch\n",
    "import scipy.sparse\n",
    "TOTAL_T_STEPS = 144\n",
    "\n",
    "from sklearn.preprocessing import OneHotEncoder, OrdinalEncoder, RobustScaler\n",
    "enc = OneHotEncoder(handle_unknown='ignore')\n",
    "ienc = OrdinalEncoder()\n",
    "scaler = RobustScaler()\n",
    "import math\n",
    "  \n",
    "speed_features = df_filled.values.flatten()\n",
    "speed_features = np.array([s for s in speed_features if not math.isnan(s)]).reshape(-1,1)\n",
    "print(speed_features[0:10])  \n",
    "scaler.fit(speed_features)"
   ]
  },
  {
   "cell_type": "code",
   "execution_count": 10,
   "metadata": {},
   "outputs": [
    {
     "data": {
      "text/plain": [
       "array([[ 0.06501617],\n",
       "       [-0.50318748],\n",
       "       [-0.35427329],\n",
       "       [-0.96238497],\n",
       "       [-0.01909418],\n",
       "       [ 0.03569172],\n",
       "       [-0.49792451],\n",
       "       [ 0.01784712],\n",
       "       [ 0.04752926],\n",
       "       [ 0.06570694]])"
      ]
     },
     "execution_count": 10,
     "metadata": {},
     "output_type": "execute_result"
    }
   ],
   "source": [
    "scaler.transform(np.array(speed_features[0:10]).reshape(-1,1))"
   ]
  },
  {
   "cell_type": "code",
   "execution_count": 11,
   "metadata": {},
   "outputs": [],
   "source": [
    "def build_dataset_to_numpy_tensor(from_=0, to=TOTAL_T_STEPS, df=None, norm=False):\n",
    "    \"\"\"\n",
    "    We extract features from speed (actual speed, whether speed is missing)\n",
    "    and combine with static features.\n",
    "    :return:\n",
    "         np.ndarray: dataset tensor of shape [num_time_steps, num_nodes, num_features]\n",
    "    \"\"\"\n",
    "    dataset = list()\n",
    "    for t in range(from_, to):\n",
    "        cat_features_at_t = [['primary', 'asphalt', 'MajorRoad']] * len(L.nodes)\n",
    "        ord_features_at_t = [[50.0, 4]] * len(L.nodes)\n",
    "        speed_features_at_t = [50] * len(L.nodes) \n",
    "        speed_is_nan_feature = [1] * len(L.nodes)\n",
    "        for _, row in df.iterrows():\n",
    "\n",
    "            arc = (row['from_node'], row['to_node'])\n",
    "            cat_features_at_t[id_to_idx[arc]], ord_features_at_t[id_to_idx[arc]]  = arc_features(arc)\n",
    "            speed_features_at_t[id_to_idx[arc]] = row[str(t)]\n",
    "            if np.isnan(row[str(t)]): \n",
    "                speed_is_nan_feature[id_to_idx[arc]] = 0\n",
    "        dataset.append(np.concatenate([scaler.transform(np.array(speed_features_at_t).reshape(-1, 1)) if norm else  np.array(speed_features_at_t).reshape(-1, 1), \n",
    "                                       np.array(speed_is_nan_feature).reshape(-1, 1), \n",
    "                                       ienc.fit_transform(ord_features_at_t),\n",
    "                                       enc.fit_transform(cat_features_at_t).toarray()], axis=1))\n",
    "    return np.stack(dataset, axis=0)\n",
    "\n",
    "Y = build_dataset_to_numpy_tensor(df=df)\n",
    "Y_filled = build_dataset_to_numpy_tensor(df=df_filled, norm=True)"
   ]
  },
  {
   "cell_type": "code",
   "execution_count": 13,
   "metadata": {},
   "outputs": [
    {
     "data": {
      "text/plain": [
       "(6163, 29, 144)"
      ]
     },
     "execution_count": 13,
     "metadata": {},
     "output_type": "execute_result"
    }
   ],
   "source": [
    "X = np.moveaxis(Y, source=(0,1,2), destination=(2,0,1))\n",
    "X_filled = np.moveaxis(Y_filled, source=(0,1,2), destination=(2,0,1))\n",
    "\n",
    "\n",
    "# num_vertices, num_features, num_timesteps\n",
    "X.shape"
   ]
  },
  {
   "cell_type": "code",
   "execution_count": 14,
   "metadata": {},
   "outputs": [
    {
     "name": "stdout",
     "output_type": "stream",
     "text": [
      "(6163, 29, 144)\n",
      "torch.Size([6163, 29, 144])\n"
     ]
    }
   ],
   "source": [
    "# Build mask tensor\n",
    "X_masked = torch.where(torch.isnan(torch.from_numpy(X)), torch.tensor([0]), torch.tensor([1]))\n",
    "X_masked = X_masked.bool()\n",
    "print(X.shape)\n",
    "print(X_masked.shape)"
   ]
  },
  {
   "cell_type": "code",
   "execution_count": 15,
   "metadata": {},
   "outputs": [],
   "source": [
    "def generate_dataset_concat(X, X_masked, num_timesteps_input, num_timesteps_output):\n",
    "    \"\"\"\n",
    "    Takes node features for the graph and divides them into multiple samples\n",
    "    along the time-axis by sliding a window of size (num_timesteps_input+\n",
    "    num_timesteps_output) across it in steps of 1.\n",
    "    :param X: Node features of shape (num_vertices, num_features,\n",
    "    num_timesteps)\n",
    "    :return:\n",
    "        - Node data (features + labels) divided into multiple samples. Shape is\n",
    "          (num_samples, num_vertices, num_features, num_timesteps_input).\n",
    "        \n",
    "    \"\"\"\n",
    "    # Generate the beginning index and the ending index of a sample, which\n",
    "    # contains (num_points_for_training + num_points_for_predicting) points\n",
    "    indices = [(i, i + (num_timesteps_input + num_timesteps_output)) for i\n",
    "               in range(X.shape[2] - (\n",
    "                num_timesteps_input + num_timesteps_output) + 1)]\n",
    "\n",
    "    # Save samples\n",
    "    features, target = [], []\n",
    "    mask = []\n",
    "    for i, j in indices:\n",
    "        features.append(X[:, :, i: i + num_timesteps_input])\n",
    "        target.append(X[:, 0, i + num_timesteps_input: j])\n",
    "        mask.append(X_masked[:, 0, i + num_timesteps_input: j])\n",
    "\n",
    "    return torch.from_numpy(np.array(features)), torch.from_numpy(np.array(target)),torch.stack(mask)"
   ]
  },
  {
   "cell_type": "code",
   "execution_count": 16,
   "metadata": {},
   "outputs": [
    {
     "name": "stdout",
     "output_type": "stream",
     "text": [
      "shape of training: torch.Size([91, 6163, 29, 9]), torch.Size([91, 6163, 1]), torch.Size([91, 6163, 1])\n",
      "shape of validation: torch.Size([20, 6163, 29, 9]), torch.Size([20, 6163, 1]), torch.Size([20, 6163, 1])\n",
      "shape of testing: torch.Size([6, 6163, 29, 9]), torch.Size([6, 6163, 1]), torch.Size([6, 6163, 1])\n"
     ]
    }
   ],
   "source": [
    "# training, validation, testing : 0.7, 0.1, 0.2\n",
    "split_line1 = int(X.shape[2] * 0.7)\n",
    "split_line2 = int(X.shape[2] * 0.9)\n",
    "train_original_data = X_filled[:, :, :split_line1]\n",
    "val_original_data = X_filled[:, :, split_line1:split_line2]\n",
    "test_original_data = X_filled[:, :, split_line2:]\n",
    "\n",
    "train_mask = X_masked[:, :, :split_line1]\n",
    "valid_mask = X_masked[:, :, split_line1:split_line2]\n",
    "test_mask = X_masked[:, :, split_line2:]\n",
    "\n",
    "\n",
    "look_back = 9\n",
    "look_ahead = 1\n",
    "# num_samples, num_nodes, num_timesteps, num_features\n",
    "\n",
    "training_data, training_target, train_mask = generate_dataset_concat(train_original_data, train_mask,\n",
    "                                                       num_timesteps_input=look_back,\n",
    "                                                       num_timesteps_output=look_ahead)\n",
    "valid_data, valid_target, valid_mask = generate_dataset_concat(val_original_data, valid_mask,\n",
    "                                             num_timesteps_input=look_back,\n",
    "                                             num_timesteps_output=look_ahead)\n",
    "test_data, test_target, test_mask = generate_dataset_concat(test_original_data, test_mask,\n",
    "                                               num_timesteps_input=look_back,\n",
    "                                               num_timesteps_output=look_ahead)\n",
    "\n",
    "print(f\"shape of training: {training_data.shape}, {training_target.shape}, {train_mask.shape}\")\n",
    "print(f\"shape of validation: {valid_data.shape}, {valid_target.shape}, {valid_mask.shape}\")\n",
    "print(f\"shape of testing: {test_data.shape}, {test_target.shape}, {test_mask.shape}\")"
   ]
  },
  {
   "cell_type": "code",
   "execution_count": 17,
   "metadata": {},
   "outputs": [
    {
     "data": {
      "text/plain": [
       "torch.Size([6163, 1])"
      ]
     },
     "execution_count": 17,
     "metadata": {},
     "output_type": "execute_result"
    }
   ],
   "source": [
    "train_mask[1, :, :].shape"
   ]
  },
  {
   "cell_type": "code",
   "execution_count": 18,
   "metadata": {},
   "outputs": [
    {
     "name": "stderr",
     "output_type": "stream",
     "text": [
      "WARNING:root:This caffe2 python run does not have GPU support. Will run in CPU only mode.\n"
     ]
    },
    {
     "name": "stdout",
     "output_type": "stream",
     "text": [
      "gpu available: False, used: False\n"
     ]
    }
   ],
   "source": [
    "from test_tube import Experiment \n",
    "from pytorch_lightning import Trainer\n",
    "import os\n",
    "\n",
    "# PyTorch summarywriter with a few bells and whistles    \n",
    "exp = Experiment(save_dir=os.getcwd())\n",
    "\n",
    "# pass in experiment for automatic tensorboard logging.    \n",
    "trainer = Trainer(experiment=exp, max_nb_epochs=45, train_percent_check=1)"
   ]
  },
  {
   "cell_type": "code",
   "execution_count": null,
   "metadata": {},
   "outputs": [],
   "source": [
    "import h5py\n",
    "with h5py.File('data.hdf5', 'w') as f:\n",
    "    f.create_dataset(\"train\", data=training_data)\n",
    "    f.create_dataset(\"valid\", data=valid_data)\n",
    "    f.create_dataset(\"test\", data=test_data)\n",
    "with h5py.File('target.hdf5', 'w') as f:\n",
    "    f.create_dataset(\"train\", data=training_target)\n",
    "    f.create_dataset(\"valid\", data=valid_target)\n",
    "    f.create_dataset(\"test\", data=test_target)\n",
    "with h5py.File('mask.hdf5', 'w') as f:\n",
    "    f.create_dataset(\"train\", data=train_mask)\n",
    "    f.create_dataset(\"valid\", data=valid_mask)\n",
    "    f.create_dataset(\"test\", data=test_mask)"
   ]
  },
  {
   "cell_type": "code",
   "execution_count": null,
   "metadata": {},
   "outputs": [],
   "source": [
    "type(test_data)"
   ]
  },
  {
   "cell_type": "code",
   "execution_count": 19,
   "metadata": {},
   "outputs": [
    {
     "name": "stdout",
     "output_type": "stream",
     "text": [
      "torch.Size([20, 6163, 29, 9])\n",
      "tensor([[ True],\n",
      "        [ True],\n",
      "        [False],\n",
      "        ...,\n",
      "        [False],\n",
      "        [False],\n",
      "        [False]])\n",
      "tensor([[-0.0253],\n",
      "        [-0.0253],\n",
      "        [    nan],\n",
      "        ...,\n",
      "        [    nan],\n",
      "        [    nan],\n",
      "        [    nan]], dtype=torch.float64)\n",
      "tensor([-2.5327e-02, -2.5327e-02,  2.0929e-02,  2.0929e-02, -2.5327e-02,\n",
      "        -2.5327e-02,  6.3787e-02,  5.7759e-02,  4.3152e-02,  1.7935e-02,\n",
      "        -9.1229e-01,  6.9816e-02,  6.9816e-02,  2.3782e-02,  2.3782e-02,\n",
      "         4.3152e-02,  4.3152e-02,  4.3152e-02,  2.0929e-02,  5.7759e-02,\n",
      "         6.6219e-02, -2.2938e-02, -2.2938e-02,  4.9663e-02,  4.9663e-02,\n",
      "        -2.2938e-02, -2.2938e-02,  7.4679e-02,  7.4679e-02,  3.2882e-02,\n",
      "         3.2882e-02,  2.6664e-02,  4.4069e-02,  3.5913e-02, -1.1271e+00,\n",
      "        -9.6343e-01,  1.3115e-03, -9.1869e-01,  6.9645e-02,  2.4169e-02,\n",
      "        -6.3686e-03,  4.3152e-02,  4.3152e-02,  1.3596e-02,  1.5644e-02,\n",
      "         1.3596e-02,  4.3152e-02,  4.3152e-02, -1.1848e-02, -2.5327e-02,\n",
      "        -2.5327e-02,  1.8932e-03, -2.5327e-02,  2.9113e-02,  7.1252e-02,\n",
      "         7.1252e-02, -2.2938e-02, -3.0794e-01,  4.6998e-02,  7.4679e-02,\n",
      "         2.8749e-02,  2.8749e-02, -2.2938e-02,  1.3557e-02,  1.8932e-03,\n",
      "        -2.2938e-02,  1.2549e-02, -1.0062e+00, -1.0062e+00, -1.1887e-02,\n",
      "        -1.1887e-02,  1.2382e-02, -4.5631e-01,  6.9816e-02,  6.9816e-02,\n",
      "         3.0462e-02,  3.0462e-02,  6.7912e-02,  6.7912e-02,  2.0929e-02,\n",
      "         5.5101e-03,  1.2508e-02,  1.9068e-02,  1.9068e-02, -3.6418e-03,\n",
      "         2.3404e-02, -9.6343e-01, -9.6343e-01, -9.6343e-01, -4.7637e-01,\n",
      "        -2.5327e-02, -2.5327e-02, -2.5327e-02,  6.9816e-02,  5.0611e-02,\n",
      "        -2.4304e-02,  2.3782e-02,  6.9816e-02,  3.0045e-02,  3.0045e-02,\n",
      "        -2.5327e-02, -2.5327e-02,  3.2882e-02,  3.2882e-02,  6.7912e-02,\n",
      "         6.7912e-02, -2.7052e-02, -2.7052e-02,  6.9816e-02,  2.8749e-02,\n",
      "        -2.5327e-02,  6.9816e-02, -2.5327e-02, -2.6195e-03, -2.6195e-03,\n",
      "        -2.6195e-03, -2.6195e-03, -2.6195e-03, -2.6195e-03, -9.9737e-01,\n",
      "        -1.8901e-02, -1.8901e-02,  6.9816e-02,  5.0611e-02, -2.1327e-03,\n",
      "        -9.2501e-01,  6.9816e-02,  6.9816e-02,  6.9816e-02,  4.4486e-02,\n",
      "        -2.2938e-02, -2.2938e-02, -2.6195e-03, -2.6195e-03,  3.8373e-02,\n",
      "        -1.1061e+00,  1.9068e-02, -2.4307e-02, -2.4307e-02, -2.4307e-02,\n",
      "         6.6219e-02, -1.1848e-02, -1.1848e-02, -1.1848e-02, -1.1848e-02,\n",
      "        -1.1848e-02, -1.1848e-02, -1.1210e+00, -2.1327e-03,  7.8396e-02,\n",
      "         7.8396e-02, -1.1250e+00,  1.3596e-02, -7.7930e-01, -2.5327e-02,\n",
      "        -1.0574e+00, -9.1987e-01,  1.2508e-02,  6.6219e-02, -8.6127e-01,\n",
      "        -9.9233e-01, -1.0830e+00, -1.1848e-02,  1.2508e-02,  1.2508e-02,\n",
      "         7.8396e-02,  7.8396e-02,  7.8396e-02,  1.2508e-02,  1.2508e-02,\n",
      "         7.8396e-02,  7.8396e-02, -6.3686e-03, -6.3686e-03, -6.3686e-03,\n",
      "        -2.2938e-02,  7.4679e-02, -2.2938e-02, -9.0989e-01, -9.7796e-01,\n",
      "         2.0929e-02,  2.0929e-02, -1.1271e+00, -4.5892e-01, -4.5892e-01,\n",
      "        -4.5892e-01, -2.2938e-02,  1.9068e-02,  1.9068e-02, -2.5327e-02,\n",
      "        -2.6195e-03, -2.6195e-03, -2.6195e-03, -2.6195e-03, -2.6195e-03,\n",
      "        -6.3686e-03, -2.5327e-02, -2.5327e-02,  1.2508e-02,  1.2508e-02,\n",
      "         1.2508e-02, -1.1271e+00,  1.2508e-02,  1.2508e-02, -9.3302e-01,\n",
      "        -9.3302e-01,  2.0929e-02,  2.0929e-02,  2.6994e-02,  4.5218e-02,\n",
      "        -9.6260e-01, -1.0852e+00,  1.3596e-02,  1.3596e-02,  3.3802e-02,\n",
      "        -1.1848e-02, -1.1848e-02,  6.9816e-02,  1.2508e-02,  1.2508e-02,\n",
      "        -1.0545e+00, -1.6539e-02,  4.3125e-02,  6.7912e-02,  6.7912e-02,\n",
      "         6.7912e-02,  6.9816e-02,  6.9816e-02,  6.9816e-02,  6.9816e-02,\n",
      "         1.9068e-02, -2.5327e-02, -9.4222e-01, -5.8901e-03, -5.8901e-03,\n",
      "         6.6219e-02,  7.4679e-02,  6.7912e-02,  6.7912e-02, -9.6362e-01,\n",
      "         7.5113e-02, -7.2638e-01,  5.7759e-02,  5.7759e-02,  5.7759e-02,\n",
      "        -1.1848e-02, -1.1848e-02,  1.2508e-02,  1.2508e-02, -1.1848e-02,\n",
      "        -4.6577e-01, -1.0062e+00,  7.3318e-02, -7.8373e-01, -4.5892e-01,\n",
      "        -4.5892e-01, -4.5892e-01,  2.0929e-02, -6.3686e-03, -6.3686e-03,\n",
      "        -6.3686e-03, -6.3686e-03, -6.3686e-03, -2.5327e-02,  4.3152e-02,\n",
      "         4.3152e-02,  4.3152e-02,  2.8537e-02,  4.5555e-02, -2.2938e-02,\n",
      "         4.3644e+00,  1.2508e-02,  1.2508e-02, -1.1848e-02, -1.1848e-02,\n",
      "        -9.6343e-01,  1.2508e-02,  1.2508e-02, -6.3686e-03, -6.3686e-03,\n",
      "        -1.1848e-02, -1.1848e-02, -1.1848e-02, -1.1848e-02, -2.5327e-02,\n",
      "        -2.5327e-02,  2.2100e-02,  7.1252e-02,  5.5101e-03,  2.0929e-02,\n",
      "        -2.5327e-02,  2.0929e-02,  5.0611e-02,  5.0611e-02,  1.3596e-02,\n",
      "        -9.6170e-01,  4.3152e-02, -1.0829e+00, -2.5327e-02, -2.5327e-02,\n",
      "         2.0929e-02,  2.0929e-02, -2.5327e-02, -2.5327e-02, -2.5327e-02,\n",
      "         4.3152e-02,  4.3152e-02,  6.7912e-02, -1.8901e-02,  3.6450e-02,\n",
      "         3.6450e-02, -2.5327e-02,  6.9816e-02,  6.9816e-02,  6.9816e-02,\n",
      "         1.2508e-02, -9.3216e-01, -9.1966e-01,  8.0963e-02,  8.0963e-02,\n",
      "         5.3396e-02, -5.8190e-01, -2.6195e-03, -1.0483e+00,  5.5131e-02,\n",
      "         5.6788e-02, -9.6343e-01, -9.1869e-01,  6.7912e-02,  3.2882e-02,\n",
      "         3.2882e-02, -1.1271e+00,  5.5965e-02, -8.0700e-01, -8.9031e-01,\n",
      "         5.6788e-02, -2.2517e-01, -9.8022e-01, -2.5327e-02, -8.8812e-01,\n",
      "        -9.7924e-01, -1.0062e+00, -1.0062e+00, -2.5327e-02, -2.5327e-02,\n",
      "        -2.5327e-02, -2.5327e-02, -2.5327e-02,  1.2549e-02,  6.9816e-02,\n",
      "         5.0611e-02,  6.9816e-02, -6.3686e-03, -6.3686e-03,  6.4767e-03,\n",
      "        -1.1271e+00, -2.2938e-02,  1.0439e-02, -9.6348e-01,  1.9068e-02,\n",
      "        -2.6195e-03,  3.2882e-02,  7.8396e-02, -1.1887e-02, -1.1887e-02,\n",
      "         5.4126e-02,  5.4126e-02, -1.0853e+00,  4.3152e-02, -9.6343e-01,\n",
      "        -1.0544e+00, -7.5715e-01,  4.3152e-02, -5.3600e-01,  7.8245e-02,\n",
      "         2.6994e-02,  7.8396e-02,  7.8396e-02, -1.0996e+00, -1.0996e+00,\n",
      "        -2.4304e-02, -2.4304e-02, -2.4304e-02,  4.3152e-02, -5.4199e-01,\n",
      "        -2.4304e-02, -2.4304e-02,  4.3152e-02, -1.0310e+00, -5.3584e-03,\n",
      "        -1.1252e+00, -1.1848e-02, -1.1848e-02,  1.2508e-02, -6.3686e-03,\n",
      "         3.2882e-02,  3.2882e-02, -2.5327e-02,  4.4535e-03, -1.0853e+00,\n",
      "        -9.1021e-01,  6.1540e-02,  3.2882e-02,  3.2882e-02, -9.5521e-01,\n",
      "         3.2882e-02, -1.1848e-02,  1.2549e-02,  1.3596e-02, -2.0101e-02,\n",
      "         5.7759e-02,  5.7759e-02,  5.7759e-02, -5.8901e-03,  7.8396e-02,\n",
      "        -1.1887e-02, -1.0009e+00, -1.0009e+00,  8.0963e-02, -6.5171e-01,\n",
      "        -2.1327e-03, -4.5892e-01, -9.1147e-01, -2.5327e-02,  1.3596e-02,\n",
      "         4.3644e+00, -9.1987e-01, -2.6195e-03,  1.2508e-02,  7.8396e-02,\n",
      "         7.8396e-02, -8.1566e-03,  2.1785e-02,  2.1785e-02,  4.6498e-02,\n",
      "         7.4623e-02,  5.4126e-02,  5.4126e-02,  4.3152e-02, -1.0914e+00,\n",
      "         1.3596e-02,  1.3596e-02,  3.0882e-02,  3.0045e-02,  1.3596e-02,\n",
      "         1.3596e-02,  1.3596e-02, -5.1081e-01,  1.3596e-02, -1.1094e+00,\n",
      "        -1.1088e+00, -3.6665e-01,  3.2882e-02,  3.3179e-03,  7.4492e-02,\n",
      "        -5.8901e-03,  7.4679e-02, -1.1887e-02, -1.1887e-02, -2.1307e-02,\n",
      "         7.8396e-02, -1.1887e-02,  7.8396e-02, -1.1887e-02,  7.7846e-02,\n",
      "         1.0529e-02, -1.1887e-02, -1.1887e-02, -2.2938e-02, -9.7924e-01,\n",
      "         7.4679e-02, -2.2938e-02,  7.7846e-02, -7.6924e-01,  1.3596e-02,\n",
      "        -1.1115e+00,  7.8396e-02, -1.1887e-02, -1.1887e-02,  7.8412e-02,\n",
      "        -1.8975e-03,  6.9816e-02, -2.2938e-02, -2.2938e-02,  3.8373e-02,\n",
      "        -8.7738e-01, -2.5327e-02,  5.7790e-03,  1.3596e-02, -1.0715e+00,\n",
      "         4.3152e-02,  7.7846e-02,  3.3179e-03,  7.8396e-02, -1.1887e-02,\n",
      "         7.5113e-02, -9.3758e-01, -1.1887e-02,  1.2508e-02,  3.3802e-02,\n",
      "         3.2882e-02, -2.2938e-02,  6.6219e-02, -1.0466e+00,  2.0929e-02,\n",
      "        -1.0521e+00,  7.4492e-02, -9.6343e-01,  6.4767e-03, -9.6343e-01,\n",
      "        -9.6343e-01,  7.8396e-02, -1.0729e+00, -1.1887e-02, -6.3686e-03,\n",
      "        -6.3686e-03, -6.3686e-03,  5.5131e-02,  7.4679e-02],\n",
      "       dtype=torch.float64)\n"
     ]
    }
   ],
   "source": [
    "data = {}\n",
    "data['train'] = training_data\n",
    "data['valid'] = valid_data\n",
    "data['test'] = test_data\n",
    "\n",
    "target = {}\n",
    "target['train'] = training_target\n",
    "target['valid'] = valid_target\n",
    "target['test'] = test_target\n",
    "\n",
    "mask = {}\n",
    "mask['train'] = train_mask\n",
    "mask['valid'] = valid_mask\n",
    "mask['test'] = test_mask\n",
    "# batch shape: torch.Size([1, 6163, 26, 10])\n",
    "print(valid_data.shape)\n",
    "print(valid_mask[10, :, :])\n",
    "print(valid_target[10, :, :])\n",
    "\n",
    "# IMPORTANT: we normalize speed\n",
    "print(valid_target[10, :, :].masked_select(valid_mask[10, :, :]))"
   ]
  },
  {
   "cell_type": "markdown",
   "metadata": {},
   "source": [
    "**Now start training**"
   ]
  },
  {
   "cell_type": "code",
   "execution_count": 20,
   "metadata": {},
   "outputs": [],
   "source": [
    "from torch.utils.data import DataLoader, TensorDataset\n",
    "dataloader = DataLoader(TensorDataset(data['train'], target['train']), batch_size=1, shuffle=False)"
   ]
  },
  {
   "cell_type": "code",
   "execution_count": 21,
   "metadata": {},
   "outputs": [
    {
     "name": "stdout",
     "output_type": "stream",
     "text": [
      "          Name        Type  Params\n",
      "0      gc_lstm  GCLSTMCell    7830\n",
      "1  gc_lstm.x2h      Linear    3480\n",
      "2  gc_lstm.h2h      Linear    3480\n",
      "3           fc      Linear      30\n",
      "4      dropout     Dropout       0\n"
     ]
    },
    {
     "name": "stderr",
     "output_type": "stream",
     "text": [
      "/Users/nguytu3/anaconda3/lib/python3.7/site-packages/torch/nn/functional.py:1339: UserWarning: nn.functional.tanh is deprecated. Use torch.tanh instead.\n",
      "  warnings.warn(\"nn.functional.tanh is deprecated. Use torch.tanh instead.\")\n",
      "/Users/nguytu3/anaconda3/lib/python3.7/site-packages/torch/nn/functional.py:1339: UserWarning: nn.functional.tanh is deprecated. Use torch.tanh instead.\n",
      "  warnings.warn(\"nn.functional.tanh is deprecated. Use torch.tanh instead.\")\n",
      "/Users/nguytu3/anaconda3/lib/python3.7/site-packages/torch/nn/functional.py:1339: UserWarning: nn.functional.tanh is deprecated. Use torch.tanh instead.\n",
      "  warnings.warn(\"nn.functional.tanh is deprecated. Use torch.tanh instead.\")\n",
      "/Users/nguytu3/anaconda3/lib/python3.7/site-packages/torch/nn/functional.py:1339: UserWarning: nn.functional.tanh is deprecated. Use torch.tanh instead.\n",
      "  warnings.warn(\"nn.functional.tanh is deprecated. Use torch.tanh instead.\")\n",
      "/Users/nguytu3/anaconda3/lib/python3.7/site-packages/torch/nn/functional.py:1339: UserWarning: nn.functional.tanh is deprecated. Use torch.tanh instead.\n",
      "  warnings.warn(\"nn.functional.tanh is deprecated. Use torch.tanh instead.\")\n",
      "  0%|          | 0/111 [00:00<?, ?it/s]/Users/nguytu3/anaconda3/lib/python3.7/site-packages/torch/nn/functional.py:1339: UserWarning: nn.functional.tanh is deprecated. Use torch.tanh instead.\n",
      "  warnings.warn(\"nn.functional.tanh is deprecated. Use torch.tanh instead.\")\n",
      " 34%|███▍      | 38/111 [00:14<00:27,  2.65it/s, batch_nb=36, epoch=0, tng_loss=nan, v_nb=1]"
     ]
    },
    {
     "ename": "KeyboardInterrupt",
     "evalue": "",
     "output_type": "error",
     "traceback": [
      "\u001b[0;31m---------------------------------------------------------------------------\u001b[0m",
      "\u001b[0;31mKeyboardInterrupt\u001b[0m                         Traceback (most recent call last)",
      "\u001b[0;32m<ipython-input-21-2b284fe1cdb1>\u001b[0m in \u001b[0;36m<module>\u001b[0;34m\u001b[0m\n\u001b[1;32m      8\u001b[0m model = TGCN(input_dim=29, hidden_dim=29, layer_dim=2, output_dim=1, adj=adj, \n\u001b[1;32m      9\u001b[0m              datasets=data, targets= target, mask=mask, scaler=scaler)\n\u001b[0;32m---> 10\u001b[0;31m \u001b[0mtrainer\u001b[0m\u001b[0;34m.\u001b[0m\u001b[0mfit\u001b[0m\u001b[0;34m(\u001b[0m\u001b[0mmodel\u001b[0m\u001b[0;34m)\u001b[0m\u001b[0;34m\u001b[0m\u001b[0;34m\u001b[0m\u001b[0m\n\u001b[0m",
      "\u001b[0;32m~/anaconda3/lib/python3.7/site-packages/pytorch_lightning/models/trainer.py\u001b[0m in \u001b[0;36mfit\u001b[0;34m(self, model)\u001b[0m\n\u001b[1;32m    565\u001b[0m             \u001b[0mself\u001b[0m\u001b[0;34m.\u001b[0m\u001b[0moptimizers\u001b[0m\u001b[0;34m,\u001b[0m \u001b[0mself\u001b[0m\u001b[0;34m.\u001b[0m\u001b[0mlr_schedulers\u001b[0m \u001b[0;34m=\u001b[0m \u001b[0mself\u001b[0m\u001b[0;34m.\u001b[0m\u001b[0minit_optimizers\u001b[0m\u001b[0;34m(\u001b[0m\u001b[0mmodel\u001b[0m\u001b[0;34m.\u001b[0m\u001b[0mconfigure_optimizers\u001b[0m\u001b[0;34m(\u001b[0m\u001b[0;34m)\u001b[0m\u001b[0;34m)\u001b[0m\u001b[0;34m\u001b[0m\u001b[0;34m\u001b[0m\u001b[0m\n\u001b[1;32m    566\u001b[0m \u001b[0;34m\u001b[0m\u001b[0m\n\u001b[0;32m--> 567\u001b[0;31m             \u001b[0mself\u001b[0m\u001b[0;34m.\u001b[0m\u001b[0m__run_pretrain_routine\u001b[0m\u001b[0;34m(\u001b[0m\u001b[0mmodel\u001b[0m\u001b[0;34m)\u001b[0m\u001b[0;34m\u001b[0m\u001b[0;34m\u001b[0m\u001b[0m\n\u001b[0m\u001b[1;32m    568\u001b[0m \u001b[0;34m\u001b[0m\u001b[0m\n\u001b[1;32m    569\u001b[0m         \u001b[0;31m# return 1 when finished\u001b[0m\u001b[0;34m\u001b[0m\u001b[0;34m\u001b[0m\u001b[0;34m\u001b[0m\u001b[0m\n",
      "\u001b[0;32m~/anaconda3/lib/python3.7/site-packages/pytorch_lightning/models/trainer.py\u001b[0m in \u001b[0;36m__run_pretrain_routine\u001b[0;34m(self, model)\u001b[0m\n\u001b[1;32m    781\u001b[0m         \u001b[0;31m# CORE TRAINING LOOP\u001b[0m\u001b[0;34m\u001b[0m\u001b[0;34m\u001b[0m\u001b[0;34m\u001b[0m\u001b[0m\n\u001b[1;32m    782\u001b[0m         \u001b[0;31m# ---------------------------\u001b[0m\u001b[0;34m\u001b[0m\u001b[0;34m\u001b[0m\u001b[0;34m\u001b[0m\u001b[0m\n\u001b[0;32m--> 783\u001b[0;31m         \u001b[0mself\u001b[0m\u001b[0;34m.\u001b[0m\u001b[0m__train\u001b[0m\u001b[0;34m(\u001b[0m\u001b[0;34m)\u001b[0m\u001b[0;34m\u001b[0m\u001b[0;34m\u001b[0m\u001b[0m\n\u001b[0m\u001b[1;32m    784\u001b[0m \u001b[0;34m\u001b[0m\u001b[0m\n\u001b[1;32m    785\u001b[0m     \u001b[0;32mdef\u001b[0m \u001b[0m__train\u001b[0m\u001b[0;34m(\u001b[0m\u001b[0mself\u001b[0m\u001b[0;34m)\u001b[0m\u001b[0;34m:\u001b[0m\u001b[0;34m\u001b[0m\u001b[0;34m\u001b[0m\u001b[0m\n",
      "\u001b[0;32m~/anaconda3/lib/python3.7/site-packages/pytorch_lightning/models/trainer.py\u001b[0m in \u001b[0;36m__train\u001b[0;34m(self)\u001b[0m\n\u001b[1;32m    803\u001b[0m             \u001b[0;31m# RUN TNG EPOCH\u001b[0m\u001b[0;34m\u001b[0m\u001b[0;34m\u001b[0m\u001b[0;34m\u001b[0m\u001b[0m\n\u001b[1;32m    804\u001b[0m             \u001b[0;31m# -----------------\u001b[0m\u001b[0;34m\u001b[0m\u001b[0;34m\u001b[0m\u001b[0;34m\u001b[0m\u001b[0m\n\u001b[0;32m--> 805\u001b[0;31m             \u001b[0mself\u001b[0m\u001b[0;34m.\u001b[0m\u001b[0mrun_tng_epoch\u001b[0m\u001b[0;34m(\u001b[0m\u001b[0;34m)\u001b[0m\u001b[0;34m\u001b[0m\u001b[0;34m\u001b[0m\u001b[0m\n\u001b[0m\u001b[1;32m    806\u001b[0m \u001b[0;34m\u001b[0m\u001b[0m\n\u001b[1;32m    807\u001b[0m             \u001b[0;31m# update LR schedulers\u001b[0m\u001b[0;34m\u001b[0m\u001b[0;34m\u001b[0m\u001b[0;34m\u001b[0m\u001b[0m\n",
      "\u001b[0;32m~/anaconda3/lib/python3.7/site-packages/pytorch_lightning/models/trainer.py\u001b[0m in \u001b[0;36mrun_tng_epoch\u001b[0;34m(self)\u001b[0m\n\u001b[1;32m    844\u001b[0m             \u001b[0;31m# RUN TRAIN STEP\u001b[0m\u001b[0;34m\u001b[0m\u001b[0;34m\u001b[0m\u001b[0;34m\u001b[0m\u001b[0m\n\u001b[1;32m    845\u001b[0m             \u001b[0;31m# ---------------\u001b[0m\u001b[0;34m\u001b[0m\u001b[0;34m\u001b[0m\u001b[0;34m\u001b[0m\u001b[0m\n\u001b[0;32m--> 846\u001b[0;31m             \u001b[0mbatch_result\u001b[0m \u001b[0;34m=\u001b[0m \u001b[0mself\u001b[0m\u001b[0;34m.\u001b[0m\u001b[0m__run_tng_batch\u001b[0m\u001b[0;34m(\u001b[0m\u001b[0mdata_batch\u001b[0m\u001b[0;34m,\u001b[0m \u001b[0mbatch_nb\u001b[0m\u001b[0;34m)\u001b[0m\u001b[0;34m\u001b[0m\u001b[0;34m\u001b[0m\u001b[0m\n\u001b[0m\u001b[1;32m    847\u001b[0m             \u001b[0mearly_stop_epoch\u001b[0m \u001b[0;34m=\u001b[0m \u001b[0mbatch_result\u001b[0m \u001b[0;34m==\u001b[0m \u001b[0;34m-\u001b[0m\u001b[0;36m1\u001b[0m\u001b[0;34m\u001b[0m\u001b[0;34m\u001b[0m\u001b[0m\n\u001b[1;32m    848\u001b[0m \u001b[0;34m\u001b[0m\u001b[0m\n",
      "\u001b[0;32m~/anaconda3/lib/python3.7/site-packages/pytorch_lightning/models/trainer.py\u001b[0m in \u001b[0;36m__run_tng_batch\u001b[0;34m(self, data_batch, batch_nb)\u001b[0m\n\u001b[1;32m   1024\u001b[0m \u001b[0;34m\u001b[0m\u001b[0m\n\u001b[1;32m   1025\u001b[0m             \u001b[0;31m# forward pass\u001b[0m\u001b[0;34m\u001b[0m\u001b[0;34m\u001b[0m\u001b[0;34m\u001b[0m\u001b[0m\n\u001b[0;32m-> 1026\u001b[0;31m             \u001b[0mloss\u001b[0m\u001b[0;34m,\u001b[0m \u001b[0mmodel_specific_tqdm_metrics\u001b[0m \u001b[0;34m=\u001b[0m \u001b[0mself\u001b[0m\u001b[0;34m.\u001b[0m\u001b[0m__tng_forward\u001b[0m\u001b[0;34m(\u001b[0m\u001b[0mdata_batch\u001b[0m\u001b[0;34m,\u001b[0m \u001b[0mbatch_nb\u001b[0m\u001b[0;34m,\u001b[0m \u001b[0mopt_idx\u001b[0m\u001b[0;34m)\u001b[0m\u001b[0;34m\u001b[0m\u001b[0;34m\u001b[0m\u001b[0m\n\u001b[0m\u001b[1;32m   1027\u001b[0m \u001b[0;34m\u001b[0m\u001b[0m\n\u001b[1;32m   1028\u001b[0m             \u001b[0;31m# track metrics\u001b[0m\u001b[0;34m\u001b[0m\u001b[0;34m\u001b[0m\u001b[0;34m\u001b[0m\u001b[0m\n",
      "\u001b[0;32m~/anaconda3/lib/python3.7/site-packages/pytorch_lightning/models/trainer.py\u001b[0m in \u001b[0;36m__tng_forward\u001b[0;34m(self, data_batch, batch_nb, opt_idx)\u001b[0m\n\u001b[1;32m    960\u001b[0m \u001b[0;34m\u001b[0m\u001b[0m\n\u001b[1;32m    961\u001b[0m         \u001b[0;32melse\u001b[0m\u001b[0;34m:\u001b[0m\u001b[0;34m\u001b[0m\u001b[0;34m\u001b[0m\u001b[0m\n\u001b[0;32m--> 962\u001b[0;31m             \u001b[0moutput\u001b[0m \u001b[0;34m=\u001b[0m \u001b[0mself\u001b[0m\u001b[0;34m.\u001b[0m\u001b[0mmodel\u001b[0m\u001b[0;34m.\u001b[0m\u001b[0mtraining_step\u001b[0m\u001b[0;34m(\u001b[0m\u001b[0;34m*\u001b[0m\u001b[0margs\u001b[0m\u001b[0;34m)\u001b[0m\u001b[0;34m\u001b[0m\u001b[0;34m\u001b[0m\u001b[0m\n\u001b[0m\u001b[1;32m    963\u001b[0m \u001b[0;34m\u001b[0m\u001b[0m\n\u001b[1;32m    964\u001b[0m         \u001b[0;31m# ---------------\u001b[0m\u001b[0;34m\u001b[0m\u001b[0;34m\u001b[0m\u001b[0;34m\u001b[0m\u001b[0m\n",
      "\u001b[0;32m~/Work/speed-imputation/src/tgcn/temporal_spatial_model.py\u001b[0m in \u001b[0;36mtraining_step\u001b[0;34m(self, batch, batch_nb)\u001b[0m\n\u001b[1;32m     92\u001b[0m         \u001b[0mx\u001b[0m\u001b[0;34m,\u001b[0m \u001b[0my\u001b[0m \u001b[0;34m=\u001b[0m \u001b[0mbatch\u001b[0m\u001b[0;34m\u001b[0m\u001b[0;34m\u001b[0m\u001b[0m\n\u001b[1;32m     93\u001b[0m         \u001b[0my\u001b[0m \u001b[0;34m=\u001b[0m \u001b[0my\u001b[0m\u001b[0;34m.\u001b[0m\u001b[0msqueeze\u001b[0m\u001b[0;34m(\u001b[0m\u001b[0mdim\u001b[0m\u001b[0;34m=\u001b[0m\u001b[0;36m0\u001b[0m\u001b[0;34m)\u001b[0m\u001b[0;34m\u001b[0m\u001b[0;34m\u001b[0m\u001b[0m\n\u001b[0;32m---> 94\u001b[0;31m         \u001b[0my_hat\u001b[0m \u001b[0;34m=\u001b[0m \u001b[0mself\u001b[0m\u001b[0;34m.\u001b[0m\u001b[0mforward\u001b[0m\u001b[0;34m(\u001b[0m\u001b[0mx\u001b[0m\u001b[0;34m)\u001b[0m\u001b[0;34m.\u001b[0m\u001b[0msqueeze\u001b[0m\u001b[0;34m(\u001b[0m\u001b[0mdim\u001b[0m\u001b[0;34m=\u001b[0m\u001b[0;36m0\u001b[0m\u001b[0;34m)\u001b[0m\u001b[0;34m\u001b[0m\u001b[0;34m\u001b[0m\u001b[0m\n\u001b[0m\u001b[1;32m     95\u001b[0m \u001b[0;34m\u001b[0m\u001b[0m\n\u001b[1;32m     96\u001b[0m         \u001b[0m_mask\u001b[0m \u001b[0;34m=\u001b[0m \u001b[0mself\u001b[0m\u001b[0;34m.\u001b[0m\u001b[0mmask\u001b[0m\u001b[0;34m[\u001b[0m\u001b[0;34m'train'\u001b[0m\u001b[0;34m]\u001b[0m\u001b[0;34m[\u001b[0m\u001b[0mbatch_nb\u001b[0m\u001b[0;34m,\u001b[0m \u001b[0;34m:\u001b[0m\u001b[0;34m,\u001b[0m \u001b[0;34m:\u001b[0m\u001b[0;34m]\u001b[0m\u001b[0;34m\u001b[0m\u001b[0;34m\u001b[0m\u001b[0m\n",
      "\u001b[0;32m~/Work/speed-imputation/src/tgcn/temporal_spatial_model.py\u001b[0m in \u001b[0;36mforward\u001b[0;34m(self, x)\u001b[0m\n\u001b[1;32m     77\u001b[0m             \u001b[0mx\u001b[0m \u001b[0;34m=\u001b[0m \u001b[0mtorch\u001b[0m\u001b[0;34m.\u001b[0m\u001b[0msqueeze\u001b[0m\u001b[0;34m(\u001b[0m\u001b[0mx\u001b[0m\u001b[0;34m,\u001b[0m \u001b[0mdim\u001b[0m\u001b[0;34m=\u001b[0m\u001b[0;36m0\u001b[0m\u001b[0;34m)\u001b[0m\u001b[0;34m\u001b[0m\u001b[0;34m\u001b[0m\u001b[0m\n\u001b[1;32m     78\u001b[0m             \u001b[0;32mfor\u001b[0m \u001b[0mseq\u001b[0m \u001b[0;32min\u001b[0m \u001b[0mrange\u001b[0m\u001b[0;34m(\u001b[0m\u001b[0mx\u001b[0m\u001b[0;34m.\u001b[0m\u001b[0msize\u001b[0m\u001b[0;34m(\u001b[0m\u001b[0;36m2\u001b[0m\u001b[0;34m)\u001b[0m\u001b[0;34m)\u001b[0m\u001b[0;34m:\u001b[0m\u001b[0;34m\u001b[0m\u001b[0;34m\u001b[0m\u001b[0m\n\u001b[0;32m---> 79\u001b[0;31m                 \u001b[0mhn\u001b[0m\u001b[0;34m,\u001b[0m \u001b[0mcn\u001b[0m \u001b[0;34m=\u001b[0m \u001b[0mself\u001b[0m\u001b[0;34m.\u001b[0m\u001b[0mgc_lstm\u001b[0m\u001b[0;34m(\u001b[0m\u001b[0mx\u001b[0m\u001b[0;34m=\u001b[0m\u001b[0mx\u001b[0m\u001b[0;34m[\u001b[0m\u001b[0;34m:\u001b[0m\u001b[0;34m,\u001b[0m \u001b[0;34m:\u001b[0m\u001b[0;34m,\u001b[0m \u001b[0mseq\u001b[0m\u001b[0;34m]\u001b[0m\u001b[0;34m.\u001b[0m\u001b[0mfloat\u001b[0m\u001b[0;34m(\u001b[0m\u001b[0;34m)\u001b[0m\u001b[0;34m,\u001b[0m \u001b[0mhx\u001b[0m\u001b[0;34m=\u001b[0m\u001b[0mhn\u001b[0m\u001b[0;34m,\u001b[0m \u001b[0mcx\u001b[0m\u001b[0;34m=\u001b[0m\u001b[0mcn\u001b[0m\u001b[0;34m)\u001b[0m\u001b[0;34m\u001b[0m\u001b[0;34m\u001b[0m\u001b[0m\n\u001b[0m\u001b[1;32m     80\u001b[0m \u001b[0;34m\u001b[0m\u001b[0m\n\u001b[1;32m     81\u001b[0m                 \u001b[0mouts\u001b[0m\u001b[0;34m.\u001b[0m\u001b[0mappend\u001b[0m\u001b[0;34m(\u001b[0m\u001b[0mhn\u001b[0m\u001b[0;34m)\u001b[0m\u001b[0;34m\u001b[0m\u001b[0;34m\u001b[0m\u001b[0m\n",
      "\u001b[0;32m~/anaconda3/lib/python3.7/site-packages/torch/nn/modules/module.py\u001b[0m in \u001b[0;36m__call__\u001b[0;34m(self, *input, **kwargs)\u001b[0m\n\u001b[1;32m    545\u001b[0m             \u001b[0mresult\u001b[0m \u001b[0;34m=\u001b[0m \u001b[0mself\u001b[0m\u001b[0;34m.\u001b[0m\u001b[0m_slow_forward\u001b[0m\u001b[0;34m(\u001b[0m\u001b[0;34m*\u001b[0m\u001b[0minput\u001b[0m\u001b[0;34m,\u001b[0m \u001b[0;34m**\u001b[0m\u001b[0mkwargs\u001b[0m\u001b[0;34m)\u001b[0m\u001b[0;34m\u001b[0m\u001b[0;34m\u001b[0m\u001b[0m\n\u001b[1;32m    546\u001b[0m         \u001b[0;32melse\u001b[0m\u001b[0;34m:\u001b[0m\u001b[0;34m\u001b[0m\u001b[0;34m\u001b[0m\u001b[0m\n\u001b[0;32m--> 547\u001b[0;31m             \u001b[0mresult\u001b[0m \u001b[0;34m=\u001b[0m \u001b[0mself\u001b[0m\u001b[0;34m.\u001b[0m\u001b[0mforward\u001b[0m\u001b[0;34m(\u001b[0m\u001b[0;34m*\u001b[0m\u001b[0minput\u001b[0m\u001b[0;34m,\u001b[0m \u001b[0;34m**\u001b[0m\u001b[0mkwargs\u001b[0m\u001b[0;34m)\u001b[0m\u001b[0;34m\u001b[0m\u001b[0;34m\u001b[0m\u001b[0m\n\u001b[0m\u001b[1;32m    548\u001b[0m         \u001b[0;32mfor\u001b[0m \u001b[0mhook\u001b[0m \u001b[0;32min\u001b[0m \u001b[0mself\u001b[0m\u001b[0;34m.\u001b[0m\u001b[0m_forward_hooks\u001b[0m\u001b[0;34m.\u001b[0m\u001b[0mvalues\u001b[0m\u001b[0;34m(\u001b[0m\u001b[0;34m)\u001b[0m\u001b[0;34m:\u001b[0m\u001b[0;34m\u001b[0m\u001b[0;34m\u001b[0m\u001b[0m\n\u001b[1;32m    549\u001b[0m             \u001b[0mhook_result\u001b[0m \u001b[0;34m=\u001b[0m \u001b[0mhook\u001b[0m\u001b[0;34m(\u001b[0m\u001b[0mself\u001b[0m\u001b[0;34m,\u001b[0m \u001b[0minput\u001b[0m\u001b[0;34m,\u001b[0m \u001b[0mresult\u001b[0m\u001b[0;34m)\u001b[0m\u001b[0;34m\u001b[0m\u001b[0;34m\u001b[0m\u001b[0m\n",
      "\u001b[0;32m~/Work/speed-imputation/src/tgcn/layers/lstmcell.py\u001b[0m in \u001b[0;36mforward\u001b[0;34m(self, x, hx, cx)\u001b[0m\n\u001b[1;32m     55\u001b[0m         \u001b[0moutgate\u001b[0m \u001b[0;34m=\u001b[0m \u001b[0mtorch\u001b[0m\u001b[0;34m.\u001b[0m\u001b[0msigmoid\u001b[0m\u001b[0;34m(\u001b[0m\u001b[0moutgate\u001b[0m\u001b[0;34m)\u001b[0m\u001b[0;34m\u001b[0m\u001b[0;34m\u001b[0m\u001b[0m\n\u001b[1;32m     56\u001b[0m \u001b[0;34m\u001b[0m\u001b[0m\n\u001b[0;32m---> 57\u001b[0;31m         \u001b[0mcy\u001b[0m \u001b[0;34m=\u001b[0m \u001b[0mtorch\u001b[0m\u001b[0;34m.\u001b[0m\u001b[0mmul\u001b[0m\u001b[0;34m(\u001b[0m\u001b[0mcx\u001b[0m\u001b[0;34m,\u001b[0m \u001b[0mforgetgate\u001b[0m\u001b[0;34m)\u001b[0m \u001b[0;34m+\u001b[0m \u001b[0mtorch\u001b[0m\u001b[0;34m.\u001b[0m\u001b[0mmul\u001b[0m\u001b[0;34m(\u001b[0m\u001b[0mingate\u001b[0m\u001b[0;34m,\u001b[0m \u001b[0mcellgate\u001b[0m\u001b[0;34m)\u001b[0m\u001b[0;34m\u001b[0m\u001b[0;34m\u001b[0m\u001b[0m\n\u001b[0m\u001b[1;32m     58\u001b[0m \u001b[0;34m\u001b[0m\u001b[0m\n\u001b[1;32m     59\u001b[0m         \u001b[0mhy\u001b[0m \u001b[0;34m=\u001b[0m \u001b[0mtorch\u001b[0m\u001b[0;34m.\u001b[0m\u001b[0mmul\u001b[0m\u001b[0;34m(\u001b[0m\u001b[0moutgate\u001b[0m\u001b[0;34m,\u001b[0m \u001b[0mF\u001b[0m\u001b[0;34m.\u001b[0m\u001b[0mtanh\u001b[0m\u001b[0;34m(\u001b[0m\u001b[0mcy\u001b[0m\u001b[0;34m)\u001b[0m\u001b[0;34m)\u001b[0m\u001b[0;34m\u001b[0m\u001b[0;34m\u001b[0m\u001b[0m\n",
      "\u001b[0;31mKeyboardInterrupt\u001b[0m: "
     ]
    }
   ],
   "source": [
    "import imp  \n",
    "import src.tgcn.temporal_spatial_model as l\n",
    "import src.tgcn.layers.lstmcell as h\n",
    "h = imp.reload(h)\n",
    "\n",
    "l = imp.reload(l)\n",
    "TGCN = l.TGCN\n",
    "model = TGCN(input_dim=29, hidden_dim=29, layer_dim=2, output_dim=1, adj=adj, \n",
    "             datasets=data, targets= target, mask=mask, scaler=scaler)\n",
    "trainer.fit(model)"
   ]
  },
  {
   "cell_type": "code",
   "execution_count": null,
   "metadata": {
    "lines_to_next_cell": 0
   },
   "outputs": [],
   "source": [
    "import imp  \n",
    "import src.tgcn.stgcn as l\n",
    "\n",
    "# PyTorch summarywriter with a few bells and whistles    \n",
    "exp = Experiment(save_dir=\"../data\")\n",
    "\n",
    "# pass in experiment for automatic tensorboard logging.    \n",
    "trainer = Trainer(experiment=exp, max_nb_epochs=30, train_percent_check=1)\n",
    "\n",
    "l = imp.reload(l)\n",
    "STGCN = l.STGCN\n",
    "model2 = STGCN(adj=adj, datasets=data, targets=target, mask=mask, scaler=scaler)\n",
    "trainer.fit(model2)"
   ]
  },
  {
   "cell_type": "code",
   "execution_count": null,
   "metadata": {
    "lines_to_next_cell": 0
   },
   "outputs": [],
   "source": [
    "import imp  \n",
    "import src.tgcn.layers.lstm as l\n",
    "\n",
    "# PyTorch summarywriter with a few bells and whistles    \n",
    "exp = Experiment(save_dir=\"../data\")\n",
    "\n",
    "# pass in experiment for automatic tensorboard logging.    \n",
    "trainer = Trainer(experiment=exp, max_nb_epochs=30, train_percent_check=1)\n",
    "\n",
    "l = imp.reload(l)\n",
    "LSTMs = l.LSTMs\n",
    "model3 = LSTMs(input_dim=9, datasets=data, targets=target, mask=mask)\n",
    "trainer.fit(model3)"
   ]
  },
  {
   "cell_type": "code",
   "execution_count": null,
   "metadata": {},
   "outputs": [],
   "source": []
  },
  {
   "cell_type": "code",
   "execution_count": null,
   "metadata": {},
   "outputs": [],
   "source": []
  }
 ],
 "metadata": {
  "jupytext": {
   "formats": "ipynb,py:light"
  },
  "kernelspec": {
   "display_name": "Python 3",
   "language": "python",
   "name": "python3"
  },
  "language_info": {
   "codemirror_mode": {
    "name": "ipython",
    "version": 3
   },
   "file_extension": ".py",
   "mimetype": "text/x-python",
   "name": "python",
   "nbconvert_exporter": "python",
   "pygments_lexer": "ipython3",
   "version": "3.7.1"
  }
 },
 "nbformat": 4,
 "nbformat_minor": 2
}
