{
 "cells": [
  {
   "cell_type": "code",
   "execution_count": 109,
   "metadata": {},
   "outputs": [
    {
     "name": "stdout",
     "output_type": "stream",
     "text": [
      "290100\n"
     ]
    }
   ],
   "source": [
    "import sys\n",
    "import pandas\n",
    "sys.path.append('../')\n",
    "\n",
    "from src.utils.graph_utils import partition_graph_by_lonlat\n",
    "import networkx as nx\n",
    "from jurbey.jurbey import JURBEY\n",
    "\n",
    "with open(\"../data/1558537930325.jurbey\", 'rb') as tempf:\n",
    "    g = JURBEY.load(tempf.read())\n",
    "print(g.number_of_nodes())\n",
    "g_partition = partition_graph_by_lonlat(g)\n"
   ]
  },
  {
   "cell_type": "markdown",
   "metadata": {},
   "source": [
    "**Convert to edge-based graph**"
   ]
  },
  {
   "cell_type": "code",
   "execution_count": 110,
   "metadata": {},
   "outputs": [],
   "source": [
    "import networkx as nx\n",
    "L = nx.line_graph(nx.DiGraph(g_partition))"
   ]
  },
  {
   "cell_type": "code",
   "execution_count": 3,
   "metadata": {},
   "outputs": [
    {
     "data": {
      "text/plain": [
       "Arc(arcType=<ArcType.LANE_STRAIGHT: 'LANE_STRAIGHT'>, roadClass=<RoadClass.MajorRoad: 2>, roadAccessibility=<RoadAccessibility.NoRestriction: 1>, metadata={'bicycle': 'no', 'highway': 'primary', 'lanes': '4', 'lit': 'yes', 'maxspeed': '50', 'name': 'Bismarckstraße', 'oneway': 'yes', 'postal_code': '10625', 'ref': 'B 2;B 5', 'surface': 'asphalt', 'turn:lanes': 'through|through|through;right|right'}, signs=[], vehicleAccessibility=[], geometry=[GeoCoordinates(lon=13.3207077, lat=52.5123944, alt=nan), GeoCoordinates(lon=13.3207877, lat=52.5123711, alt=nan)])"
      ]
     },
     "execution_count": 3,
     "metadata": {},
     "output_type": "execute_result"
    }
   ],
   "source": [
    "nodes = list(L.nodes())\n",
    "g_partition[nodes[10][0]][nodes[10][1]]['data']"
   ]
  },
  {
   "cell_type": "markdown",
   "metadata": {},
   "source": [
    "**Extract dynamic (speed) + static features from nodes**"
   ]
  },
  {
   "cell_type": "code",
   "execution_count": 4,
   "metadata": {},
   "outputs": [],
   "source": [
    "from sklearn.preprocessing import OneHotEncoder, StandardScaler, OrdinalEncoder\n",
    "enc = OneHotEncoder(handle_unknown='ignore')\n",
    "ienc = OrdinalEncoder()\n",
    "scaler = StandardScaler()\n",
    "def arc_features(arc):\n",
    "    arc = g_partition[arc[0]][arc[1]]\n",
    "    return [\n",
    "        arc['data'].metadata['highway'],\n",
    "        arc['data'].metadata.get('surface', 'no_sur'),\n",
    "        arc['data'].roadClass.name\n",
    "    ],  [float(arc['data'].metadata.get('maxspeed', '50')), \n",
    "        int(arc['data'].metadata.get('lanes', '1'))]\n",
    "def construct_features():\n",
    "    data = list()\n",
    "    data_ord = list()\n",
    "    for node in L.nodes:\n",
    "        data.append(arc_features(node)[0])\n",
    "        data_ord.append(arc_features(node)[1])\n",
    "    return enc.fit_transform(data), ienc.fit_transform(data_ord)\n",
    "    \n",
    "x, y = construct_features()\n",
    "  "
   ]
  },
  {
   "cell_type": "code",
   "execution_count": 5,
   "metadata": {},
   "outputs": [
    {
     "data": {
      "text/plain": [
       "[array(['access_ramp', 'corridor', 'living_street', 'platform', 'primary',\n",
       "        'residential', 'secondary', 'secondary_link', 'service',\n",
       "        'tertiary', 'tertiary_link', 'unclassified'], dtype=object),\n",
       " array(['asphalt', 'cobblestone', 'cobblestone:flattened', 'concrete',\n",
       "        'concrete:plates', 'grass_paver', 'no_sur', 'paved',\n",
       "        'paving_stones', 'sett'], dtype=object),\n",
       " array(['DirtRoad', 'LocalRoad', 'MajorRoad'], dtype=object)]"
      ]
     },
     "execution_count": 5,
     "metadata": {},
     "output_type": "execute_result"
    }
   ],
   "source": [
    "enc.categories_"
   ]
  },
  {
   "cell_type": "code",
   "execution_count": 6,
   "metadata": {},
   "outputs": [
    {
     "data": {
      "text/plain": [
       "[array([ 5., 10., 20., 30., 50.]), array([1., 2., 3., 4., 5.])]"
      ]
     },
     "execution_count": 6,
     "metadata": {},
     "output_type": "execute_result"
    }
   ],
   "source": [
    "ienc.categories_"
   ]
  },
  {
   "cell_type": "code",
   "execution_count": 7,
   "metadata": {},
   "outputs": [
    {
     "data": {
      "text/plain": [
       "(6163, 25)"
      ]
     },
     "execution_count": 7,
     "metadata": {},
     "output_type": "execute_result"
    }
   ],
   "source": [
    "x.shape"
   ]
  },
  {
   "cell_type": "code",
   "execution_count": 8,
   "metadata": {},
   "outputs": [
    {
     "data": {
      "text/plain": [
       "<6163x25 sparse matrix of type '<class 'numpy.float64'>'\n",
       "\twith 18489 stored elements in Compressed Sparse Row format>"
      ]
     },
     "execution_count": 8,
     "metadata": {},
     "output_type": "execute_result"
    }
   ],
   "source": [
    "x"
   ]
  },
  {
   "cell_type": "markdown",
   "metadata": {},
   "source": [
    "**Preprocess adjacency matrix**"
   ]
  },
  {
   "cell_type": "code",
   "execution_count": 157,
   "metadata": {
    "lines_to_next_cell": 2
   },
   "outputs": [],
   "source": [
    "adj = nx.to_scipy_sparse_matrix(L, format=\"coo\")\n",
    "import scipy.sparse as sp\n",
    "import numpy as np\n",
    "import torch\n",
    "\n",
    "def sparse_mx_to_torch_sparse_tensor(sparse_mx):\n",
    "    \"\"\"Convert a scipy sparse matrix to a torch sparse tensor.\"\"\"\n",
    "    sparse_mx = sparse_mx.tocoo().astype(np.float32)\n",
    "    indices = torch.from_numpy(\n",
    "        np.vstack((sparse_mx.row, sparse_mx.col)).astype(np.int64))\n",
    "    values = torch.from_numpy(sparse_mx.data)\n",
    "    shape = torch.Size(sparse_mx.shape)\n",
    "    return torch.sparse.FloatTensor(indices, values, shape)\n",
    "                                    \n",
    "def normalize(mx):\n",
    "    \"\"\"Row-normalize sparse matrix\"\"\"\n",
    "    rowsum = np.array(mx.sum(1))\n",
    "    \n",
    "    r_inv = np.power(rowsum, -1).flatten()\n",
    "    r_inv[np.isinf(r_inv)] = 0.\n",
    "    r_mat_inv = sp.diags(r_inv)\n",
    "    mx = r_mat_inv.dot(mx)\n",
    "    return mx\n",
    "\n",
    "# build symmetric adjacency matrix\n",
    "adj = adj + adj.T.multiply(adj.T > adj) - adj.multiply(adj.T > adj)\n",
    "                                    \n",
    "adj = normalize(adj + sp.eye(adj.shape[0]))\n",
    "adj = sparse_mx_to_torch_sparse_tensor(adj)\n",
    "                                    "
   ]
  },
  {
   "cell_type": "code",
   "execution_count": 10,
   "metadata": {},
   "outputs": [],
   "source": [
    "# adj = nx.to_scipy_sparse_matrix(L, format=\"coo\")\n",
    "# adj = adj + adj.T.multiply(adj.T > adj) - adj.multiply(adj.T > adj)"
   ]
  },
  {
   "cell_type": "code",
   "execution_count": 11,
   "metadata": {},
   "outputs": [],
   "source": [
    "# def diagonal_degree_matrix(adj):\n",
    "#     diag = np.zeros([adj.shape[0], adj.shape[0]]) # basically dimensions of your graph\n",
    "#     rows, cols = adj.nonzero()\n",
    "#     for row, col in zip(rows, cols):\n",
    "#         diag[row, row] += 1\n",
    "#     return diag\n",
    "\n",
    "# D = diagonal_degree_matrix(adj)\n",
    "# np.power(D, -0.5).dot(adj).dot(np.power(D, -0.5))"
   ]
  },
  {
   "cell_type": "code",
   "execution_count": 12,
   "metadata": {},
   "outputs": [
    {
     "name": "stdout",
     "output_type": "stream",
     "text": [
      "[4, 7, 16, 124, 157, 204, 351, 352, 379, 389, 430, 487, 492, 513, 539, 551, 568, 569, 587, 613, 630, 639, 649, 675, 680, 698, 711, 713, 780, 782, 784, 865, 1037, 1062, 1070, 1079, 1080, 1088, 1091, 1125, 1206, 1215, 1217, 1238, 1241, 1397, 1400, 1450, 1517, 1550, 1556, 1560, 1564, 1574, 1703, 1733, 1756, 1804, 1805, 1806, 1807, 1819, 1824, 1853, 1907, 1917, 1964, 1996, 1999, 2003, 2007, 2029, 2030, 2033, 2036, 2037, 2040, 2042, 2098, 2099, 2102, 2104, 2116, 2119, 2123, 2128, 2137, 2143, 2210, 2261, 2281, 2284, 2289, 2358, 2382, 2387, 2394, 2406, 2411, 2412, 2473, 2487, 2550, 2568, 2604, 2605, 2649, 2657, 2674, 2677, 2738, 2753, 2766, 2788, 2794, 2809, 2851, 2853, 2869, 2871, 2917, 2925, 2956, 3081, 3086, 3087, 3088, 3090, 3117, 3120, 3132, 3223, 3264, 3450, 3458, 3459, 3530, 3577, 3587, 3627, 3629, 3645, 3728, 3792, 3870, 3974, 3984, 3993, 4006, 4064, 4065, 4083, 4084, 4303, 4445, 4448, 4550, 4551, 4572, 4602, 4655, 4673, 4688, 4698, 4700, 4704, 4798, 4814, 4866, 4889, 4953, 4967, 4992, 5035, 5122, 5149, 5244, 5285, 5357, 5391, 5400, 5476, 5479, 5484, 5485, 5516, 5525, 5528, 5529, 5611, 5688, 5703, 5706, 5721, 5752, 5823, 5824, 5825, 5826, 5827, 5828, 5834, 5858, 5953, 5956, 5964, 5970, 5981, 5988, 6002, 6004, 6121, 6157]\n"
     ]
    }
   ],
   "source": [
    "#Our speed data uses segment ids, but the model uses sequential indexes, based on `.nodes()`\n",
    "import math\n",
    "id_to_idx = {}\n",
    "# defaultdict won't do what you expect in Pandas\n",
    "df = pandas.read_csv(\"../data/timeseries_speed_april_first_week.csv\")\n",
    "df = df.T\n",
    "l = (df.isnull().mean() < 0.5).tolist()\n",
    "\n",
    "indices = [i for i, x in enumerate(l) if x == True]\n",
    "print(indices)"
   ]
  },
  {
   "cell_type": "code",
   "execution_count": 13,
   "metadata": {},
   "outputs": [
    {
     "name": "stdout",
     "output_type": "stream",
     "text": [
      "           0         1        2          3          4          5          6  \\\n",
      "0  10.085606  8.881553  7.69121  10.854457   7.423597   5.680978   7.036838   \n",
      "1  10.085606  8.881553  7.69121  10.854457   7.423597   5.680978   7.036838   \n",
      "2  10.085606  8.881553  7.69121   7.977541   7.423597  10.486210   5.523238   \n",
      "3  10.085606  8.881553  7.69121   7.977541   7.423597   6.141520   5.523238   \n",
      "4  10.085606  8.881553  7.69121  10.468811  10.636621  10.288534  10.617513   \n",
      "5  10.085606  8.881553  7.69121   7.977541   7.423597   6.141520  10.286999   \n",
      "6  10.085606  8.881553  7.69121  10.854457   7.423597   5.680978   7.036838   \n",
      "7  10.278846  8.881553  7.69121   7.977541  10.831409   6.141520   3.140737   \n",
      "8  10.085606  8.881553  7.69121   7.977541   7.423597  10.298252   1.220956   \n",
      "9  10.085606  8.881553  7.69121   7.977541   7.423597   6.141520   5.523238   \n",
      "\n",
      "           7          8          9  ...        136        137        138  \\\n",
      "0   1.499997  10.088634  10.587459  ...  10.581123   7.129785   7.111766   \n",
      "1   1.499997  10.088634  10.587459  ...  10.581123   7.129785   7.111766   \n",
      "2   4.824137  10.937218   5.788495  ...   7.943949   7.129785   7.111766   \n",
      "3   4.824137   6.148046   5.788495  ...   7.943949   7.129785   7.111766   \n",
      "4   1.758539   3.404401  10.224568  ...   6.098767  10.257657  10.586166   \n",
      "5   4.824137   6.148046  10.833570  ...  10.537584  10.286999   7.111766   \n",
      "6   1.499997   5.044317  10.587459  ...   0.961866   7.129785   7.111766   \n",
      "7   2.073876   0.385263   4.104480  ...  10.505827  10.517314   7.111766   \n",
      "8  10.298252   6.148046   5.788495  ...   7.943949   7.129785   7.111766   \n",
      "9   4.824137   6.148046   5.788495  ...   7.943949   7.129785   7.111766   \n",
      "\n",
      "        139        140        141        142        143   from_node  \\\n",
      "0  7.056623   7.928614   6.816858  10.850843  10.036408   628154368   \n",
      "1  7.056623   7.928614   6.816858  10.850843  10.036408   628154368   \n",
      "2  7.056623   7.928614   6.816858   7.795600   7.893893   527147009   \n",
      "3  7.056623   7.928614   6.816858   7.795600   7.893893   527147009   \n",
      "4  7.056623  10.669476   4.313417  10.392901  10.518310   628154370   \n",
      "5  7.056623   7.928614   7.238553  10.497979  10.491733   628154372   \n",
      "6  7.056623   7.928614   6.816858  10.850843  10.036408   628154375   \n",
      "7  7.056623   7.928614  10.189923  10.436750   4.196431  5791596551   \n",
      "8  7.056623   7.928614   6.816858   7.795600   7.893893  5791621141   \n",
      "9  7.056623   7.928614   6.816858   7.795600   7.893893  5791621141   \n",
      "\n",
      "      to_node  \n",
      "0  1023689595  \n",
      "1  1023689595  \n",
      "2    27537239  \n",
      "3    26908815  \n",
      "4  3804638178  \n",
      "5    26938222  \n",
      "6  1560866145  \n",
      "7  1321327852  \n",
      "8  4782446443  \n",
      "9    26875019  \n",
      "\n",
      "[10 rows x 146 columns]\n"
     ]
    }
   ],
   "source": [
    "TOTAL_T_STEPS = 144\n",
    "id_to_idx = {}\n",
    "\n",
    "for idx, id_ in enumerate(L.nodes()):\n",
    "    id_to_idx[id_] = idx\n",
    "df = df.T\n",
    "df = df.loc[:, df.columns != 'Unnamed: 0']\n",
    "\n",
    "df2 = df['from_node']\n",
    "df3 = df['to_node']\n",
    "\n",
    "df_filled = df.loc[:, df.columns != 'from_node']\n",
    "df_filled = df.loc[:, df.columns != 'to_node']\n",
    "\n",
    "\n",
    "#df_filled = df_filled.interpolate(method='nearest', axis=1)\n",
    "SPEED_COLUMNS = list(map(str, range(TOTAL_T_STEPS)))\n",
    "df_filled = df_filled.fillna(df_filled[SPEED_COLUMNS].mean())\n",
    "df_filled['from_node'] = df2\n",
    "df_filled['to_node'] = df3\n",
    "\n",
    "print(df_filled[0:10])\n"
   ]
  },
  {
   "cell_type": "code",
   "execution_count": 14,
   "metadata": {},
   "outputs": [
    {
     "data": {
      "text/html": [
       "<div>\n",
       "<style scoped>\n",
       "    .dataframe tbody tr th:only-of-type {\n",
       "        vertical-align: middle;\n",
       "    }\n",
       "\n",
       "    .dataframe tbody tr th {\n",
       "        vertical-align: top;\n",
       "    }\n",
       "\n",
       "    .dataframe thead th {\n",
       "        text-align: right;\n",
       "    }\n",
       "</style>\n",
       "<table border=\"1\" class=\"dataframe\">\n",
       "  <thead>\n",
       "    <tr style=\"text-align: right;\">\n",
       "      <th></th>\n",
       "      <th>0</th>\n",
       "      <th>1</th>\n",
       "      <th>2</th>\n",
       "      <th>3</th>\n",
       "      <th>4</th>\n",
       "      <th>5</th>\n",
       "      <th>6</th>\n",
       "      <th>7</th>\n",
       "      <th>8</th>\n",
       "      <th>9</th>\n",
       "      <th>...</th>\n",
       "      <th>136</th>\n",
       "      <th>137</th>\n",
       "      <th>138</th>\n",
       "      <th>139</th>\n",
       "      <th>140</th>\n",
       "      <th>141</th>\n",
       "      <th>142</th>\n",
       "      <th>143</th>\n",
       "      <th>from_node</th>\n",
       "      <th>to_node</th>\n",
       "    </tr>\n",
       "  </thead>\n",
       "  <tbody>\n",
       "    <tr>\n",
       "      <td>0</td>\n",
       "      <td>10.085606</td>\n",
       "      <td>8.881553</td>\n",
       "      <td>7.69121</td>\n",
       "      <td>10.854457</td>\n",
       "      <td>7.423597</td>\n",
       "      <td>5.680978</td>\n",
       "      <td>7.036838</td>\n",
       "      <td>1.499997</td>\n",
       "      <td>10.088634</td>\n",
       "      <td>10.587459</td>\n",
       "      <td>...</td>\n",
       "      <td>10.581123</td>\n",
       "      <td>7.129785</td>\n",
       "      <td>7.111766</td>\n",
       "      <td>7.056623</td>\n",
       "      <td>7.928614</td>\n",
       "      <td>6.816858</td>\n",
       "      <td>10.850843</td>\n",
       "      <td>10.036408</td>\n",
       "      <td>628154368</td>\n",
       "      <td>1023689595</td>\n",
       "    </tr>\n",
       "    <tr>\n",
       "      <td>1</td>\n",
       "      <td>10.085606</td>\n",
       "      <td>8.881553</td>\n",
       "      <td>7.69121</td>\n",
       "      <td>10.854457</td>\n",
       "      <td>7.423597</td>\n",
       "      <td>5.680978</td>\n",
       "      <td>7.036838</td>\n",
       "      <td>1.499997</td>\n",
       "      <td>10.088634</td>\n",
       "      <td>10.587459</td>\n",
       "      <td>...</td>\n",
       "      <td>10.581123</td>\n",
       "      <td>7.129785</td>\n",
       "      <td>7.111766</td>\n",
       "      <td>7.056623</td>\n",
       "      <td>7.928614</td>\n",
       "      <td>6.816858</td>\n",
       "      <td>10.850843</td>\n",
       "      <td>10.036408</td>\n",
       "      <td>628154368</td>\n",
       "      <td>1023689595</td>\n",
       "    </tr>\n",
       "    <tr>\n",
       "      <td>2</td>\n",
       "      <td>10.085606</td>\n",
       "      <td>8.881553</td>\n",
       "      <td>7.69121</td>\n",
       "      <td>7.977541</td>\n",
       "      <td>7.423597</td>\n",
       "      <td>10.486210</td>\n",
       "      <td>5.523238</td>\n",
       "      <td>4.824137</td>\n",
       "      <td>10.937218</td>\n",
       "      <td>5.788495</td>\n",
       "      <td>...</td>\n",
       "      <td>7.943949</td>\n",
       "      <td>7.129785</td>\n",
       "      <td>7.111766</td>\n",
       "      <td>7.056623</td>\n",
       "      <td>7.928614</td>\n",
       "      <td>6.816858</td>\n",
       "      <td>7.795600</td>\n",
       "      <td>7.893893</td>\n",
       "      <td>527147009</td>\n",
       "      <td>27537239</td>\n",
       "    </tr>\n",
       "    <tr>\n",
       "      <td>3</td>\n",
       "      <td>10.085606</td>\n",
       "      <td>8.881553</td>\n",
       "      <td>7.69121</td>\n",
       "      <td>7.977541</td>\n",
       "      <td>7.423597</td>\n",
       "      <td>6.141520</td>\n",
       "      <td>5.523238</td>\n",
       "      <td>4.824137</td>\n",
       "      <td>6.148046</td>\n",
       "      <td>5.788495</td>\n",
       "      <td>...</td>\n",
       "      <td>7.943949</td>\n",
       "      <td>7.129785</td>\n",
       "      <td>7.111766</td>\n",
       "      <td>7.056623</td>\n",
       "      <td>7.928614</td>\n",
       "      <td>6.816858</td>\n",
       "      <td>7.795600</td>\n",
       "      <td>7.893893</td>\n",
       "      <td>527147009</td>\n",
       "      <td>26908815</td>\n",
       "    </tr>\n",
       "    <tr>\n",
       "      <td>4</td>\n",
       "      <td>10.085606</td>\n",
       "      <td>8.881553</td>\n",
       "      <td>7.69121</td>\n",
       "      <td>10.468811</td>\n",
       "      <td>10.636621</td>\n",
       "      <td>10.288534</td>\n",
       "      <td>10.617513</td>\n",
       "      <td>1.758539</td>\n",
       "      <td>3.404401</td>\n",
       "      <td>10.224568</td>\n",
       "      <td>...</td>\n",
       "      <td>6.098767</td>\n",
       "      <td>10.257657</td>\n",
       "      <td>10.586166</td>\n",
       "      <td>7.056623</td>\n",
       "      <td>10.669476</td>\n",
       "      <td>4.313417</td>\n",
       "      <td>10.392901</td>\n",
       "      <td>10.518310</td>\n",
       "      <td>628154370</td>\n",
       "      <td>3804638178</td>\n",
       "    </tr>\n",
       "    <tr>\n",
       "      <td>5</td>\n",
       "      <td>10.085606</td>\n",
       "      <td>8.881553</td>\n",
       "      <td>7.69121</td>\n",
       "      <td>7.977541</td>\n",
       "      <td>7.423597</td>\n",
       "      <td>6.141520</td>\n",
       "      <td>10.286999</td>\n",
       "      <td>4.824137</td>\n",
       "      <td>6.148046</td>\n",
       "      <td>10.833570</td>\n",
       "      <td>...</td>\n",
       "      <td>10.537584</td>\n",
       "      <td>10.286999</td>\n",
       "      <td>7.111766</td>\n",
       "      <td>7.056623</td>\n",
       "      <td>7.928614</td>\n",
       "      <td>7.238553</td>\n",
       "      <td>10.497979</td>\n",
       "      <td>10.491733</td>\n",
       "      <td>628154372</td>\n",
       "      <td>26938222</td>\n",
       "    </tr>\n",
       "    <tr>\n",
       "      <td>6</td>\n",
       "      <td>10.085606</td>\n",
       "      <td>8.881553</td>\n",
       "      <td>7.69121</td>\n",
       "      <td>10.854457</td>\n",
       "      <td>7.423597</td>\n",
       "      <td>5.680978</td>\n",
       "      <td>7.036838</td>\n",
       "      <td>1.499997</td>\n",
       "      <td>5.044317</td>\n",
       "      <td>10.587459</td>\n",
       "      <td>...</td>\n",
       "      <td>0.961866</td>\n",
       "      <td>7.129785</td>\n",
       "      <td>7.111766</td>\n",
       "      <td>7.056623</td>\n",
       "      <td>7.928614</td>\n",
       "      <td>6.816858</td>\n",
       "      <td>10.850843</td>\n",
       "      <td>10.036408</td>\n",
       "      <td>628154375</td>\n",
       "      <td>1560866145</td>\n",
       "    </tr>\n",
       "    <tr>\n",
       "      <td>7</td>\n",
       "      <td>10.278846</td>\n",
       "      <td>8.881553</td>\n",
       "      <td>7.69121</td>\n",
       "      <td>7.977541</td>\n",
       "      <td>10.831409</td>\n",
       "      <td>6.141520</td>\n",
       "      <td>3.140737</td>\n",
       "      <td>2.073876</td>\n",
       "      <td>0.385263</td>\n",
       "      <td>4.104480</td>\n",
       "      <td>...</td>\n",
       "      <td>10.505827</td>\n",
       "      <td>10.517314</td>\n",
       "      <td>7.111766</td>\n",
       "      <td>7.056623</td>\n",
       "      <td>7.928614</td>\n",
       "      <td>10.189923</td>\n",
       "      <td>10.436750</td>\n",
       "      <td>4.196431</td>\n",
       "      <td>5791596551</td>\n",
       "      <td>1321327852</td>\n",
       "    </tr>\n",
       "    <tr>\n",
       "      <td>8</td>\n",
       "      <td>10.085606</td>\n",
       "      <td>8.881553</td>\n",
       "      <td>7.69121</td>\n",
       "      <td>7.977541</td>\n",
       "      <td>7.423597</td>\n",
       "      <td>10.298252</td>\n",
       "      <td>1.220956</td>\n",
       "      <td>10.298252</td>\n",
       "      <td>6.148046</td>\n",
       "      <td>5.788495</td>\n",
       "      <td>...</td>\n",
       "      <td>7.943949</td>\n",
       "      <td>7.129785</td>\n",
       "      <td>7.111766</td>\n",
       "      <td>7.056623</td>\n",
       "      <td>7.928614</td>\n",
       "      <td>6.816858</td>\n",
       "      <td>7.795600</td>\n",
       "      <td>7.893893</td>\n",
       "      <td>5791621141</td>\n",
       "      <td>4782446443</td>\n",
       "    </tr>\n",
       "    <tr>\n",
       "      <td>9</td>\n",
       "      <td>10.085606</td>\n",
       "      <td>8.881553</td>\n",
       "      <td>7.69121</td>\n",
       "      <td>7.977541</td>\n",
       "      <td>7.423597</td>\n",
       "      <td>6.141520</td>\n",
       "      <td>5.523238</td>\n",
       "      <td>4.824137</td>\n",
       "      <td>6.148046</td>\n",
       "      <td>5.788495</td>\n",
       "      <td>...</td>\n",
       "      <td>7.943949</td>\n",
       "      <td>7.129785</td>\n",
       "      <td>7.111766</td>\n",
       "      <td>7.056623</td>\n",
       "      <td>7.928614</td>\n",
       "      <td>6.816858</td>\n",
       "      <td>7.795600</td>\n",
       "      <td>7.893893</td>\n",
       "      <td>5791621141</td>\n",
       "      <td>26875019</td>\n",
       "    </tr>\n",
       "  </tbody>\n",
       "</table>\n",
       "<p>10 rows × 146 columns</p>\n",
       "</div>"
      ],
      "text/plain": [
       "           0         1        2          3          4          5          6  \\\n",
       "0  10.085606  8.881553  7.69121  10.854457   7.423597   5.680978   7.036838   \n",
       "1  10.085606  8.881553  7.69121  10.854457   7.423597   5.680978   7.036838   \n",
       "2  10.085606  8.881553  7.69121   7.977541   7.423597  10.486210   5.523238   \n",
       "3  10.085606  8.881553  7.69121   7.977541   7.423597   6.141520   5.523238   \n",
       "4  10.085606  8.881553  7.69121  10.468811  10.636621  10.288534  10.617513   \n",
       "5  10.085606  8.881553  7.69121   7.977541   7.423597   6.141520  10.286999   \n",
       "6  10.085606  8.881553  7.69121  10.854457   7.423597   5.680978   7.036838   \n",
       "7  10.278846  8.881553  7.69121   7.977541  10.831409   6.141520   3.140737   \n",
       "8  10.085606  8.881553  7.69121   7.977541   7.423597  10.298252   1.220956   \n",
       "9  10.085606  8.881553  7.69121   7.977541   7.423597   6.141520   5.523238   \n",
       "\n",
       "           7          8          9  ...        136        137        138  \\\n",
       "0   1.499997  10.088634  10.587459  ...  10.581123   7.129785   7.111766   \n",
       "1   1.499997  10.088634  10.587459  ...  10.581123   7.129785   7.111766   \n",
       "2   4.824137  10.937218   5.788495  ...   7.943949   7.129785   7.111766   \n",
       "3   4.824137   6.148046   5.788495  ...   7.943949   7.129785   7.111766   \n",
       "4   1.758539   3.404401  10.224568  ...   6.098767  10.257657  10.586166   \n",
       "5   4.824137   6.148046  10.833570  ...  10.537584  10.286999   7.111766   \n",
       "6   1.499997   5.044317  10.587459  ...   0.961866   7.129785   7.111766   \n",
       "7   2.073876   0.385263   4.104480  ...  10.505827  10.517314   7.111766   \n",
       "8  10.298252   6.148046   5.788495  ...   7.943949   7.129785   7.111766   \n",
       "9   4.824137   6.148046   5.788495  ...   7.943949   7.129785   7.111766   \n",
       "\n",
       "        139        140        141        142        143   from_node  \\\n",
       "0  7.056623   7.928614   6.816858  10.850843  10.036408   628154368   \n",
       "1  7.056623   7.928614   6.816858  10.850843  10.036408   628154368   \n",
       "2  7.056623   7.928614   6.816858   7.795600   7.893893   527147009   \n",
       "3  7.056623   7.928614   6.816858   7.795600   7.893893   527147009   \n",
       "4  7.056623  10.669476   4.313417  10.392901  10.518310   628154370   \n",
       "5  7.056623   7.928614   7.238553  10.497979  10.491733   628154372   \n",
       "6  7.056623   7.928614   6.816858  10.850843  10.036408   628154375   \n",
       "7  7.056623   7.928614  10.189923  10.436750   4.196431  5791596551   \n",
       "8  7.056623   7.928614   6.816858   7.795600   7.893893  5791621141   \n",
       "9  7.056623   7.928614   6.816858   7.795600   7.893893  5791621141   \n",
       "\n",
       "      to_node  \n",
       "0  1023689595  \n",
       "1  1023689595  \n",
       "2    27537239  \n",
       "3    26908815  \n",
       "4  3804638178  \n",
       "5    26938222  \n",
       "6  1560866145  \n",
       "7  1321327852  \n",
       "8  4782446443  \n",
       "9    26875019  \n",
       "\n",
       "[10 rows x 146 columns]"
      ]
     },
     "execution_count": 14,
     "metadata": {},
     "output_type": "execute_result"
    }
   ],
   "source": [
    "df_filled[0:10]"
   ]
  },
  {
   "cell_type": "markdown",
   "metadata": {},
   "source": [
    "**Create rolling window tensor dataset**"
   ]
  },
  {
   "cell_type": "code",
   "execution_count": 15,
   "metadata": {},
   "outputs": [
    {
     "name": "stdout",
     "output_type": "stream",
     "text": [
      "[[10.08560558]\n",
      " [ 8.88155287]\n",
      " [ 7.69121021]\n",
      " [10.8544569 ]\n",
      " [ 7.42359714]\n",
      " [ 5.68097802]\n",
      " [ 7.03683772]\n",
      " [ 1.49999732]\n",
      " [10.08863449]\n",
      " [10.58745861]]\n"
     ]
    },
    {
     "data": {
      "text/plain": [
       "RobustScaler(copy=True, quantile_range=(25.0, 75.0), with_centering=True,\n",
       "       with_scaling=True)"
      ]
     },
     "execution_count": 15,
     "metadata": {},
     "output_type": "execute_result"
    }
   ],
   "source": [
    "import torch\n",
    "import scipy.sparse\n",
    "TOTAL_T_STEPS = 144\n",
    "\n",
    "from sklearn.preprocessing import OneHotEncoder, OrdinalEncoder, RobustScaler\n",
    "enc = OneHotEncoder(handle_unknown='ignore')\n",
    "ienc = OrdinalEncoder()\n",
    "scaler = RobustScaler()\n",
    "import math\n",
    "  \n",
    "speed_features = df_filled.values.flatten()\n",
    "speed_features = np.array([s for s in speed_features if not math.isnan(s)]).reshape(-1,1)\n",
    "print(speed_features[0:10])  \n",
    "scaler.fit(speed_features)"
   ]
  },
  {
   "cell_type": "code",
   "execution_count": 16,
   "metadata": {},
   "outputs": [
    {
     "data": {
      "text/plain": [
       "array([[ 1.81528429],\n",
       "       [ 1.12561747],\n",
       "       [ 0.44380359],\n",
       "       [ 2.25567303],\n",
       "       [ 0.29051806],\n",
       "       [-0.70763309],\n",
       "       [ 0.06898694],\n",
       "       [-3.10244826],\n",
       "       [ 1.81701922],\n",
       "       [ 2.10273964]])"
      ]
     },
     "execution_count": 16,
     "metadata": {},
     "output_type": "execute_result"
    }
   ],
   "source": [
    "scaler.transform(np.array(speed_features[0:10]).reshape(-1,1))"
   ]
  },
  {
   "cell_type": "code",
   "execution_count": 17,
   "metadata": {},
   "outputs": [],
   "source": [
    "def build_dataset_to_numpy_tensor(from_=0, to=TOTAL_T_STEPS, df=None, norm=False):\n",
    "    \"\"\"\n",
    "    We extract features from speed (actual speed, whether speed is missing)\n",
    "    and combine with static features.\n",
    "    :return:\n",
    "         np.ndarray: dataset tensor of shape [num_time_steps, num_nodes, num_features]\n",
    "    \"\"\"\n",
    "    dataset = list()\n",
    "    for t in range(from_, to):\n",
    "        cat_features_at_t = [['primary', 'asphalt', 'MajorRoad']] * len(L.nodes)\n",
    "        ord_features_at_t = [[50.0, 4]] * len(L.nodes)\n",
    "        speed_features_at_t = [50] * len(L.nodes) \n",
    "        speed_is_nan_feature = [1] * len(L.nodes)\n",
    "        for _, row in df.iterrows():\n",
    "\n",
    "            arc = (row['from_node'], row['to_node'])\n",
    "            cat_features_at_t[id_to_idx[arc]], ord_features_at_t[id_to_idx[arc]]  = arc_features(arc)\n",
    "            speed_features_at_t[id_to_idx[arc]] = row[str(t)]\n",
    "            if np.isnan(row[str(t)]): \n",
    "                speed_is_nan_feature[id_to_idx[arc]] = 0\n",
    "        dataset.append(np.concatenate([scaler.transform(np.array(speed_features_at_t).reshape(-1, 1)) if norm else  np.array(speed_features_at_t).reshape(-1, 1), \n",
    "                                       np.array(speed_is_nan_feature).reshape(-1, 1), \n",
    "                                       ienc.fit_transform(ord_features_at_t),\n",
    "                                       enc.fit_transform(cat_features_at_t).toarray()], axis=1))\n",
    "    return np.stack(dataset, axis=0)\n",
    "\n",
    "Y = build_dataset_to_numpy_tensor(df=df)\n",
    "Y_filled = build_dataset_to_numpy_tensor(df=df_filled, norm=True)"
   ]
  },
  {
   "cell_type": "code",
   "execution_count": 18,
   "metadata": {},
   "outputs": [
    {
     "data": {
      "text/plain": [
       "(6163, 29, 144)"
      ]
     },
     "execution_count": 18,
     "metadata": {},
     "output_type": "execute_result"
    }
   ],
   "source": [
    "X = np.moveaxis(Y, source=(0,1,2), destination=(2,0,1))\n",
    "X_filled = np.moveaxis(Y_filled, source=(0,1,2), destination=(2,0,1))\n",
    "\n",
    "\n",
    "# num_vertices, num_features, num_timesteps\n",
    "X.shape"
   ]
  },
  {
   "cell_type": "code",
   "execution_count": 19,
   "metadata": {},
   "outputs": [
    {
     "name": "stdout",
     "output_type": "stream",
     "text": [
      "(6163, 29, 144)\n",
      "torch.Size([6163, 29, 144])\n"
     ]
    }
   ],
   "source": [
    "# Build mask tensor\n",
    "X_masked = torch.where(torch.isnan(torch.from_numpy(X)), torch.tensor([0]), torch.tensor([1]))\n",
    "X_masked = X_masked.bool()\n",
    "print(X.shape)\n",
    "print(X_masked.shape)"
   ]
  },
  {
   "cell_type": "code",
   "execution_count": 20,
   "metadata": {},
   "outputs": [],
   "source": [
    "def generate_dataset_concat(X, X_masked, num_timesteps_input, num_timesteps_output):\n",
    "    \"\"\"\n",
    "    Takes node features for the graph and divides them into multiple samples\n",
    "    along the time-axis by sliding a window of size (num_timesteps_input+\n",
    "    num_timesteps_output) across it in steps of 1.\n",
    "    :param X: Node features of shape (num_vertices, num_features,\n",
    "    num_timesteps)\n",
    "    :return:\n",
    "        - Node data (features + labels) divided into multiple samples. Shape is\n",
    "          (num_samples, num_vertices, num_features, num_timesteps_input).\n",
    "        \n",
    "    \"\"\"\n",
    "    # Generate the beginning index and the ending index of a sample, which\n",
    "    # contains (num_points_for_training + num_points_for_predicting) points\n",
    "    indices = [(i, i + (num_timesteps_input + num_timesteps_output)) for i\n",
    "               in range(X.shape[2] - (\n",
    "                num_timesteps_input + num_timesteps_output) + 1)]\n",
    "\n",
    "    # Save samples\n",
    "    features, target = [], []\n",
    "    mask = []\n",
    "    for i, j in indices:\n",
    "        features.append(X[:, :, i: i + num_timesteps_input])\n",
    "        target.append(X[:, 0, i + num_timesteps_input: j])\n",
    "        mask.append(X_masked[:, 0, i + num_timesteps_input: j])\n",
    "\n",
    "    return torch.from_numpy(np.array(features)), torch.from_numpy(np.array(target)),torch.stack(mask)"
   ]
  },
  {
   "cell_type": "code",
   "execution_count": 21,
   "metadata": {},
   "outputs": [
    {
     "name": "stdout",
     "output_type": "stream",
     "text": [
      "shape of training: torch.Size([91, 6163, 29, 9]), torch.Size([91, 6163, 1]), torch.Size([91, 6163, 1])\n",
      "shape of validation: torch.Size([20, 6163, 29, 9]), torch.Size([20, 6163, 1]), torch.Size([20, 6163, 1])\n",
      "shape of testing: torch.Size([6, 6163, 29, 9]), torch.Size([6, 6163, 1]), torch.Size([6, 6163, 1])\n"
     ]
    }
   ],
   "source": [
    "# training, validation, testing : 0.7, 0.1, 0.2\n",
    "split_line1 = int(X.shape[2] * 0.7)\n",
    "split_line2 = int(X.shape[2] * 0.9)\n",
    "train_original_data = X_filled[:, :, :split_line1]\n",
    "val_original_data = X_filled[:, :, split_line1:split_line2]\n",
    "test_original_data = X_filled[:, :, split_line2:]\n",
    "\n",
    "train_mask = X_masked[:, :, :split_line1]\n",
    "valid_mask = X_masked[:, :, split_line1:split_line2]\n",
    "test_mask = X_masked[:, :, split_line2:]\n",
    "\n",
    "\n",
    "look_back = 9\n",
    "look_ahead = 1\n",
    "# num_samples, num_nodes, num_timesteps, num_features\n",
    "\n",
    "training_data, training_target, train_mask = generate_dataset_concat(train_original_data, train_mask,\n",
    "                                                       num_timesteps_input=look_back,\n",
    "                                                       num_timesteps_output=look_ahead)\n",
    "valid_data, valid_target, valid_mask = generate_dataset_concat(val_original_data, valid_mask,\n",
    "                                             num_timesteps_input=look_back,\n",
    "                                             num_timesteps_output=look_ahead)\n",
    "test_data, test_target, test_mask = generate_dataset_concat(test_original_data, test_mask,\n",
    "                                               num_timesteps_input=look_back,\n",
    "                                               num_timesteps_output=look_ahead)\n",
    "\n",
    "print(f\"shape of training: {training_data.shape}, {training_target.shape}, {train_mask.shape}\")\n",
    "print(f\"shape of validation: {valid_data.shape}, {valid_target.shape}, {valid_mask.shape}\")\n",
    "print(f\"shape of testing: {test_data.shape}, {test_target.shape}, {test_mask.shape}\")"
   ]
  },
  {
   "cell_type": "code",
   "execution_count": 22,
   "metadata": {},
   "outputs": [
    {
     "data": {
      "text/plain": [
       "torch.Size([6163, 1])"
      ]
     },
     "execution_count": 22,
     "metadata": {},
     "output_type": "execute_result"
    }
   ],
   "source": [
    "train_mask[1, :, :].shape"
   ]
  },
  {
   "cell_type": "code",
   "execution_count": 23,
   "metadata": {},
   "outputs": [
    {
     "name": "stderr",
     "output_type": "stream",
     "text": [
      "WARNING:root:This caffe2 python run does not have GPU support. Will run in CPU only mode.\n"
     ]
    }
   ],
   "source": [
    "from test_tube import Experiment \n",
    "from pytorch_lightning import Trainer\n",
    "import os\n",
    "\n",
    "# PyTorch summarywriter with a few bells and whistles    \n",
    "exp = Experiment(save_dir=os.getcwd())\n",
    "\n",
    "# pass in experiment for automatic tensorboard logging.    \n",
    "trainer = Trainer(experiment=exp, max_nb_epochs=45, train_percent_check=1)"
   ]
  },
  {
   "cell_type": "code",
   "execution_count": 24,
   "metadata": {},
   "outputs": [],
   "source": [
    "import h5py\n",
    "with h5py.File('data.hdf5', 'w') as f:\n",
    "    f.create_dataset(\"train\", data=training_data)\n",
    "    f.create_dataset(\"valid\", data=valid_data)\n",
    "    f.create_dataset(\"test\", data=test_data)\n",
    "with h5py.File('target.hdf5', 'w') as f:\n",
    "    f.create_dataset(\"train\", data=training_target)\n",
    "    f.create_dataset(\"valid\", data=valid_target)\n",
    "    f.create_dataset(\"test\", data=test_target)\n",
    "with h5py.File('mask.hdf5', 'w') as f:\n",
    "    f.create_dataset(\"train\", data=train_mask)\n",
    "    f.create_dataset(\"valid\", data=valid_mask)\n",
    "    f.create_dataset(\"test\", data=test_mask)"
   ]
  },
  {
   "cell_type": "code",
   "execution_count": 25,
   "metadata": {},
   "outputs": [
    {
     "data": {
      "text/plain": [
       "torch.Tensor"
      ]
     },
     "execution_count": 25,
     "metadata": {},
     "output_type": "execute_result"
    }
   ],
   "source": [
    "type(test_data)"
   ]
  },
  {
   "cell_type": "code",
   "execution_count": 26,
   "metadata": {},
   "outputs": [
    {
     "name": "stdout",
     "output_type": "stream",
     "text": [
      "torch.Size([20, 6163, 29, 9])\n",
      "tensor([[ True],\n",
      "        [ True],\n",
      "        [False],\n",
      "        ...,\n",
      "        [False],\n",
      "        [False],\n",
      "        [False]])\n",
      "tensor([[1.7845],\n",
      "        [1.7845],\n",
      "        [1.1043],\n",
      "        ...,\n",
      "        [1.1043],\n",
      "        [1.1043],\n",
      "        [1.1043]], dtype=torch.float64)\n",
      "tensor([ 1.7845e+00,  1.7845e+00,  2.0257e+00,  2.0257e+00,  1.7845e+00,\n",
      "         1.7845e+00,  2.2493e+00,  2.2178e+00,  2.1416e+00,  2.0101e+00,\n",
      "        -2.8412e+00,  2.2807e+00,  2.2807e+00,  2.0406e+00,  2.0406e+00,\n",
      "         2.1416e+00,  2.1416e+00,  2.1416e+00,  2.0257e+00,  2.2178e+00,\n",
      "         2.2619e+00,  1.7970e+00,  1.7970e+00,  2.1756e+00,  2.1756e+00,\n",
      "         1.7970e+00,  1.7970e+00,  2.3061e+00,  2.3061e+00,  2.0881e+00,\n",
      "         2.0881e+00,  2.0557e+00,  2.1464e+00,  2.1039e+00, -3.9616e+00,\n",
      "        -3.1079e+00,  1.9234e+00, -2.8746e+00,  2.2798e+00,  2.0426e+00,\n",
      "         1.8834e+00,  2.1416e+00,  2.1416e+00,  1.9875e+00,  1.9982e+00,\n",
      "         1.9875e+00,  2.1416e+00,  2.1416e+00,  1.8548e+00,  1.7845e+00,\n",
      "         1.7845e+00,  1.9265e+00,  1.7845e+00,  2.0684e+00,  2.2882e+00,\n",
      "         2.2882e+00,  1.7970e+00,  3.1063e-01,  2.1617e+00,  2.3061e+00,\n",
      "         2.0665e+00,  2.0665e+00,  1.7970e+00,  1.9873e+00,  1.9265e+00,\n",
      "         1.7970e+00,  1.9820e+00, -3.3311e+00, -3.3311e+00,  1.8546e+00,\n",
      "         1.8546e+00,  1.9812e+00, -4.6318e-01,  2.2807e+00,  2.2807e+00,\n",
      "         2.0755e+00,  2.0755e+00,  2.2708e+00,  2.2708e+00,  2.0257e+00,\n",
      "         1.9453e+00,  1.9818e+00,  2.0160e+00,  2.0160e+00,  1.8976e+00,\n",
      "         2.0387e+00, -3.1079e+00, -3.1079e+00, -3.1079e+00, -5.6780e-01,\n",
      "         1.7845e+00,  1.7845e+00,  1.7845e+00,  2.2807e+00,  2.1805e+00,\n",
      "         1.7899e+00,  2.0406e+00,  2.2807e+00,  2.0733e+00,  2.0733e+00,\n",
      "         1.7845e+00,  1.7845e+00,  2.0881e+00,  2.0881e+00,  2.2708e+00,\n",
      "         2.2708e+00,  1.7755e+00,  1.7755e+00,  2.2807e+00,  2.0665e+00,\n",
      "         1.7845e+00,  2.2807e+00,  1.7845e+00,  1.9029e+00,  1.9029e+00,\n",
      "         1.9029e+00,  1.9029e+00,  1.9029e+00,  1.9029e+00, -3.2849e+00,\n",
      "         1.8180e+00,  1.8180e+00,  2.2807e+00,  2.1805e+00,  1.9055e+00,\n",
      "        -2.9075e+00,  2.2807e+00,  2.2807e+00,  2.2807e+00,  2.1486e+00,\n",
      "         1.7970e+00,  1.7970e+00,  1.9029e+00,  1.9029e+00,  2.1167e+00,\n",
      "        -3.8520e+00,  2.0160e+00,  1.7898e+00,  1.7898e+00,  1.7898e+00,\n",
      "         2.2619e+00,  1.8548e+00,  1.8548e+00,  1.8548e+00,  1.8548e+00,\n",
      "         1.8548e+00,  1.8548e+00, -3.9295e+00,  1.9055e+00,  2.3255e+00,\n",
      "         2.3255e+00, -3.9506e+00,  1.9875e+00, -2.1476e+00,  1.7845e+00,\n",
      "        -3.5981e+00, -2.8807e+00,  1.9818e+00,  2.2619e+00, -2.5751e+00,\n",
      "        -3.2586e+00, -3.7314e+00,  1.8548e+00,  1.9818e+00,  1.9818e+00,\n",
      "         2.3255e+00,  2.3255e+00,  2.3255e+00,  1.9818e+00,  1.9818e+00,\n",
      "         2.3255e+00,  2.3255e+00,  1.8834e+00,  1.8834e+00,  1.8834e+00,\n",
      "         1.7970e+00,  2.3061e+00,  1.7970e+00, -2.8287e+00, -3.1837e+00,\n",
      "         2.0257e+00,  2.0257e+00, -3.9616e+00, -4.7677e-01, -4.7677e-01,\n",
      "        -4.7677e-01,  1.7970e+00,  2.0160e+00,  2.0160e+00,  1.7845e+00,\n",
      "         1.9029e+00,  1.9029e+00,  1.9029e+00,  1.9029e+00,  1.9029e+00,\n",
      "         1.8834e+00,  1.7845e+00,  1.7845e+00,  1.9818e+00,  1.9818e+00,\n",
      "         1.9818e+00, -3.9616e+00,  1.9818e+00,  1.9818e+00, -2.9493e+00,\n",
      "        -2.9493e+00,  2.0257e+00,  2.0257e+00,  2.0574e+00,  2.1524e+00,\n",
      "        -3.1036e+00, -3.7427e+00,  1.9875e+00,  1.9875e+00,  2.0929e+00,\n",
      "         1.8548e+00,  1.8548e+00,  2.2807e+00,  1.9818e+00,  1.9818e+00,\n",
      "        -3.5827e+00,  1.8303e+00,  2.1415e+00,  2.2708e+00,  2.2708e+00,\n",
      "         2.2708e+00,  2.2807e+00,  2.2807e+00,  2.2807e+00,  2.2807e+00,\n",
      "         2.0160e+00,  1.7845e+00, -2.9973e+00,  1.8859e+00,  1.8859e+00,\n",
      "         2.2619e+00,  2.3061e+00,  2.2708e+00,  2.2708e+00, -3.1089e+00,\n",
      "         2.3083e+00, -1.8716e+00,  2.2178e+00,  2.2178e+00,  2.2178e+00,\n",
      "         1.8548e+00,  1.8548e+00,  1.9818e+00,  1.9818e+00,  1.8548e+00,\n",
      "        -5.1251e-01, -3.3311e+00,  2.2990e+00, -2.1707e+00, -4.7677e-01,\n",
      "        -4.7677e-01, -4.7677e-01,  2.0257e+00,  1.8834e+00,  1.8834e+00,\n",
      "         1.8834e+00,  1.8834e+00,  1.8834e+00,  1.7845e+00,  2.1416e+00,\n",
      "         2.1416e+00,  2.1416e+00,  2.0654e+00,  2.1542e+00,  1.7970e+00,\n",
      "         2.4678e+01,  1.9818e+00,  1.9818e+00,  1.8548e+00,  1.8548e+00,\n",
      "        -3.1079e+00,  1.9818e+00,  1.9818e+00,  1.8834e+00,  1.8834e+00,\n",
      "         1.8548e+00,  1.8548e+00,  1.8548e+00,  1.8548e+00,  1.7845e+00,\n",
      "         1.7845e+00,  2.0319e+00,  2.2882e+00,  1.9453e+00,  2.0257e+00,\n",
      "         1.7845e+00,  2.0257e+00,  2.1805e+00,  2.1805e+00,  1.9875e+00,\n",
      "        -3.0989e+00,  2.1416e+00, -3.7307e+00,  1.7845e+00,  1.7845e+00,\n",
      "         2.0257e+00,  2.0257e+00,  1.7845e+00,  1.7845e+00,  1.7845e+00,\n",
      "         2.1416e+00,  2.1416e+00,  2.2708e+00,  1.8180e+00,  2.1067e+00,\n",
      "         2.1067e+00,  1.7845e+00,  2.2807e+00,  2.2807e+00,  2.2807e+00,\n",
      "         1.9818e+00, -2.9448e+00, -2.8796e+00,  2.3388e+00,  2.3388e+00,\n",
      "         2.1951e+00, -1.1181e+00,  1.9029e+00, -3.5506e+00,  2.2041e+00,\n",
      "         2.2128e+00, -3.1079e+00, -2.8746e+00,  2.2708e+00,  2.0881e+00,\n",
      "         2.0881e+00, -3.9616e+00,  2.2085e+00, -2.2921e+00, -2.7266e+00,\n",
      "         2.2128e+00,  7.4229e-01, -3.1955e+00,  1.7845e+00, -2.7151e+00,\n",
      "        -3.1903e+00, -3.3311e+00, -3.3311e+00,  1.7845e+00,  1.7845e+00,\n",
      "         1.7845e+00,  1.7845e+00,  1.7845e+00,  1.9820e+00,  2.2807e+00,\n",
      "         2.1805e+00,  2.2807e+00,  1.8834e+00,  1.8834e+00,  1.9504e+00,\n",
      "        -3.9616e+00,  1.7970e+00,  1.9710e+00, -3.1082e+00,  2.0160e+00,\n",
      "         1.9029e+00,  2.0881e+00,  2.3255e+00,  1.8546e+00,  1.8546e+00,\n",
      "         2.1989e+00,  2.1989e+00, -3.7433e+00,  2.1416e+00, -3.1079e+00,\n",
      "        -3.5823e+00, -2.0321e+00,  2.1416e+00, -8.7876e-01,  2.3247e+00,\n",
      "         2.0574e+00,  2.3255e+00,  2.3255e+00, -3.8180e+00, -3.8180e+00,\n",
      "         1.7899e+00,  1.7899e+00,  1.7899e+00,  2.1416e+00, -9.0999e-01,\n",
      "         1.7899e+00,  1.7899e+00,  2.1416e+00, -3.4605e+00,  1.8887e+00,\n",
      "        -3.9515e+00,  1.8548e+00,  1.8548e+00,  1.9818e+00,  1.8834e+00,\n",
      "         2.0881e+00,  2.0881e+00,  1.7845e+00,  1.9398e+00, -3.7435e+00,\n",
      "        -2.8304e+00,  2.2375e+00,  2.0881e+00,  2.0881e+00, -3.0650e+00,\n",
      "         2.0881e+00,  1.8548e+00,  1.9820e+00,  1.9875e+00,  1.8118e+00,\n",
      "         2.2178e+00,  2.2178e+00,  2.2178e+00,  1.8859e+00,  2.3255e+00,\n",
      "         1.8546e+00, -3.3036e+00, -3.3036e+00,  2.3388e+00, -1.4822e+00,\n",
      "         1.9055e+00, -4.7677e-01, -2.8369e+00,  1.7845e+00,  1.9875e+00,\n",
      "         2.4678e+01, -2.8807e+00,  1.9029e+00,  1.9818e+00,  2.3255e+00,\n",
      "         2.3255e+00,  1.8741e+00,  2.0302e+00,  2.0302e+00,  2.1591e+00,\n",
      "         2.3058e+00,  2.1989e+00,  2.1989e+00,  2.1416e+00, -3.7753e+00,\n",
      "         1.9875e+00,  1.9875e+00,  2.0777e+00,  2.0733e+00,  1.9875e+00,\n",
      "         1.9875e+00,  1.9875e+00, -7.4740e-01,  1.9875e+00, -3.8691e+00,\n",
      "        -3.8661e+00,  4.4605e-03,  2.0881e+00,  1.9339e+00,  2.3051e+00,\n",
      "         1.8859e+00,  2.3061e+00,  1.8546e+00,  1.8546e+00,  1.8055e+00,\n",
      "         2.3255e+00,  1.8546e+00,  2.3255e+00,  1.8546e+00,  2.3226e+00,\n",
      "         1.9715e+00,  1.8546e+00,  1.8546e+00,  1.7970e+00, -3.1903e+00,\n",
      "         2.3061e+00,  1.7970e+00,  2.3226e+00, -2.0951e+00,  1.9875e+00,\n",
      "        -3.8801e+00,  2.3255e+00,  1.8546e+00,  1.8546e+00,  2.3255e+00,\n",
      "         1.9067e+00,  2.2807e+00,  1.7970e+00,  1.7970e+00,  2.1167e+00,\n",
      "        -2.6591e+00,  1.7845e+00,  1.9467e+00,  1.9875e+00, -3.6715e+00,\n",
      "         2.1416e+00,  2.3226e+00,  1.9339e+00,  2.3255e+00,  1.8546e+00,\n",
      "         2.3083e+00, -2.9731e+00,  1.8546e+00,  1.9818e+00,  2.0929e+00,\n",
      "         2.0881e+00,  1.7970e+00,  2.2619e+00, -3.5416e+00,  2.0257e+00,\n",
      "        -3.5702e+00,  2.3051e+00, -3.1079e+00,  1.9504e+00, -3.1079e+00,\n",
      "        -3.1079e+00,  2.3255e+00, -3.6786e+00,  1.8546e+00,  1.8834e+00,\n",
      "         1.8834e+00,  1.8834e+00,  2.2041e+00,  2.3061e+00],\n",
      "       dtype=torch.float64)\n"
     ]
    }
   ],
   "source": [
    "data = {}\n",
    "data['train'] = training_data\n",
    "data['valid'] = valid_data\n",
    "data['test'] = test_data\n",
    "\n",
    "target = {}\n",
    "target['train'] = training_target\n",
    "target['valid'] = valid_target\n",
    "target['test'] = test_target\n",
    "\n",
    "mask = {}\n",
    "mask['train'] = train_mask\n",
    "mask['valid'] = valid_mask\n",
    "mask['test'] = test_mask\n",
    "# batch shape: torch.Size([1, 6163, 26, 10])\n",
    "print(valid_data.shape)\n",
    "print(valid_mask[10, :, :])\n",
    "print(valid_target[10, :, :])\n",
    "\n",
    "# IMPORTANT: we normalize speed\n",
    "print(valid_target[10, :, :].masked_select(valid_mask[10, :, :]))"
   ]
  },
  {
   "cell_type": "markdown",
   "metadata": {},
   "source": [
    "**Now start training**"
   ]
  },
  {
   "cell_type": "code",
   "execution_count": 97,
   "metadata": {},
   "outputs": [],
   "source": [
    "from torch.utils.data import DataLoader, TensorDataset, ConcatDataset, ChainDataset"
   ]
  },
  {
   "cell_type": "code",
   "execution_count": 46,
   "metadata": {},
   "outputs": [
    {
     "data": {
      "text/plain": [
       "torch.Size([20, 6163, 1])"
      ]
     },
     "execution_count": 46,
     "metadata": {},
     "output_type": "execute_result"
    }
   ],
   "source": [
    "target['valid'].shape"
   ]
  },
  {
   "cell_type": "code",
   "execution_count": 156,
   "metadata": {},
   "outputs": [
    {
     "ename": "AttributeError",
     "evalue": "'list' object has no attribute 'shape'",
     "output_type": "error",
     "traceback": [
      "\u001b[0;31m---------------------------------------------------------------------------\u001b[0m",
      "\u001b[0;31mAttributeError\u001b[0m                            Traceback (most recent call last)",
      "\u001b[0;32m<ipython-input-156-bf2320111a99>\u001b[0m in \u001b[0;36m<module>\u001b[0;34m\u001b[0m\n\u001b[0;32m----> 1\u001b[0;31m \u001b[0madj\u001b[0m\u001b[0;34m.\u001b[0m\u001b[0mshape\u001b[0m\u001b[0;34m\u001b[0m\u001b[0;34m\u001b[0m\u001b[0m\n\u001b[0m",
      "\u001b[0;31mAttributeError\u001b[0m: 'list' object has no attribute 'shape'"
     ]
    }
   ],
   "source": [
    "adj.shape"
   ]
  },
  {
   "cell_type": "code",
   "execution_count": 129,
   "metadata": {},
   "outputs": [],
   "source": [
    "a = torch.split(data['valid'], 4000, dim=1)[0].permute(1,0,2,3)\n",
    "b = torch.split(target['valid'], 4000, dim=1)[0].permute(1,0,2)\n",
    "datasets = ConcatDataset((TensorDataset(data['train'].permute(1,0,2,3), target['train'].permute(1,0,2)), TensorDataset(a,b)))"
   ]
  },
  {
   "cell_type": "code",
   "execution_count": 170,
   "metadata": {},
   "outputs": [
    {
     "name": "stdout",
     "output_type": "stream",
     "text": [
      "batch_nb: 0, adj: torch.Size([6163, 6163])\n",
      "batch_nb: 1, adj: torch.Size([4000, 4000])\n",
      "torch.Size([6163, 6163])\n",
      "torch.Size([6163, 6163])\n",
      "torch.Size([6163, 6163])\n",
      "torch.Size([6163, 6163])\n",
      "torch.Size([6163, 6163])\n",
      "torch.Size([6163, 6163])\n",
      "torch.Size([6163, 6163])\n",
      "torch.Size([6163, 6163])\n",
      "torch.Size([6163, 6163])\n",
      "torch.Size([6163, 6163])\n",
      "torch.Size([6163, 6163])\n",
      "torch.Size([6163, 6163])\n",
      "torch.Size([6163, 6163])\n"
     ]
    },
    {
     "ename": "KeyboardInterrupt",
     "evalue": "",
     "output_type": "error",
     "traceback": [
      "\u001b[0;31m---------------------------------------------------------------------------\u001b[0m",
      "\u001b[0;31mKeyboardInterrupt\u001b[0m                         Traceback (most recent call last)",
      "\u001b[0;32m<ipython-input-170-f9e44f368c5c>\u001b[0m in \u001b[0;36m<module>\u001b[0;34m\u001b[0m\n\u001b[1;32m     52\u001b[0m \u001b[0;32mfor\u001b[0m \u001b[0mbatch_nb\u001b[0m\u001b[0;34m,\u001b[0m \u001b[0mdata_batch\u001b[0m \u001b[0;32min\u001b[0m \u001b[0menumerate\u001b[0m\u001b[0;34m(\u001b[0m\u001b[0mdl\u001b[0m\u001b[0;34m)\u001b[0m\u001b[0;34m:\u001b[0m\u001b[0;34m\u001b[0m\u001b[0;34m\u001b[0m\u001b[0m\n\u001b[1;32m     53\u001b[0m     \u001b[0;34m(\u001b[0m\u001b[0mx\u001b[0m\u001b[0;34m,\u001b[0m \u001b[0m_adj\u001b[0m\u001b[0;34m)\u001b[0m\u001b[0;34m,\u001b[0m \u001b[0;34m(\u001b[0m\u001b[0my\u001b[0m\u001b[0;34m,\u001b[0m \u001b[0m_\u001b[0m\u001b[0;34m)\u001b[0m \u001b[0;34m=\u001b[0m \u001b[0mdata_batch\u001b[0m\u001b[0;34m\u001b[0m\u001b[0;34m\u001b[0m\u001b[0m\n\u001b[0;32m---> 54\u001b[0;31m     \u001b[0m_adj\u001b[0m \u001b[0;34m=\u001b[0m \u001b[0mto_sparse\u001b[0m\u001b[0;34m(\u001b[0m\u001b[0m_adj\u001b[0m\u001b[0;34m.\u001b[0m\u001b[0mto_dense\u001b[0m\u001b[0;34m(\u001b[0m\u001b[0;34m)\u001b[0m\u001b[0;34m.\u001b[0m\u001b[0msqueeze\u001b[0m\u001b[0;34m(\u001b[0m\u001b[0mdim\u001b[0m\u001b[0;34m=\u001b[0m\u001b[0;36m0\u001b[0m\u001b[0;34m)\u001b[0m\u001b[0;34m)\u001b[0m\u001b[0;34m\u001b[0m\u001b[0;34m\u001b[0m\u001b[0m\n\u001b[0m\u001b[1;32m     55\u001b[0m     \u001b[0mprint\u001b[0m\u001b[0;34m(\u001b[0m\u001b[0m_adj\u001b[0m\u001b[0;34m.\u001b[0m\u001b[0mshape\u001b[0m\u001b[0;34m)\u001b[0m\u001b[0;34m\u001b[0m\u001b[0;34m\u001b[0m\u001b[0m\n\u001b[1;32m     56\u001b[0m \u001b[0;34m\u001b[0m\u001b[0m\n",
      "\u001b[0;31mKeyboardInterrupt\u001b[0m: "
     ]
    }
   ],
   "source": [
    "from torch.utils.data import Sampler\n",
    "class CustomTensorDataset(TensorDataset):\n",
    "    def __init__(self, *tensors, adj_tensor):\n",
    "        assert all(tensors[0].size(0) == tensor.size(0) for tensor in tensors)\n",
    "        self.tensors = tensors\n",
    "        self.adj_tensor = adj_tensor\n",
    "\n",
    "    def __getitem__(self, index):\n",
    "        return tuple((tensor[index], self.adj_tensor) for tensor in self.tensors)\n",
    "\n",
    "    def __len__(self):\n",
    "        return self.tensors[0].size(0)\n",
    "    \n",
    "class CustomSampler(Sampler):\n",
    "\n",
    "    def __init__(self, data_source, cum_indices, shuffle=True):\n",
    "        super().__init__(data_source)\n",
    "        self.data_source = data_source\n",
    "        self.cum_indices = [0] + cum_indices\n",
    "        self.shuffle = shuffle\n",
    "\n",
    "    def __iter__(self):\n",
    "        batch = []\n",
    "        for prev, curr in zip(self.cum_indices, self.cum_indices[1:]):\n",
    "            for idx in range(prev, curr):\n",
    "                batch.append(idx)\n",
    "            yield batch\n",
    "            batch = []\n",
    "\n",
    "    def __len__(self):\n",
    "        return len(self.data_source)\n",
    "adjs = [adj, adj1]\n",
    "dl = DataLoader(datasets, batch_sampler=CustomSampler(datasets, datasets.cumulative_sizes), shuffle=False)\n",
    "batches = list()\n",
    "for batch_nb, batch in enumerate(dl):\n",
    "    x, y = batch\n",
    "\n",
    "    print(f'batch_nb: {batch_nb}, adj: {adjs[batch_nb].shape}')\n",
    "    batches.append(CustomTensorDataset(x, y, adj_tensor=adjs[batch_nb]))\n",
    "dl = DataLoader(ConcatDataset(batches), batch_size=1, shuffle=False)\n",
    "def to_sparse(x):\n",
    "    \"\"\" converts dense tensor x to sparse format \"\"\"\n",
    "    x_typename = torch.typename(x).split('.')[-1]\n",
    "    sparse_tensortype = getattr(torch.sparse, x_typename)\n",
    "\n",
    "    indices = torch.nonzero(x)\n",
    "    if len(indices.shape) == 0:  # if all elements are zeros\n",
    "        return sparse_tensortype(*x.shape)\n",
    "    indices = indices.t()\n",
    "    values = x[tuple(indices[i] for i in range(indices.shape[0]))]\n",
    "    return sparse_tensortype(indices, values, x.size())\n",
    "for batch_nb, data_batch in enumerate(dl):\n",
    "    (x, _adj), (y, _) = data_batch\n",
    "    _adj = to_sparse(_adj.to_dense().squeeze(dim=0))\n",
    "    print(_adj.shape)\n",
    "\n",
    "\n"
   ]
  },
  {
   "cell_type": "code",
   "execution_count": 114,
   "metadata": {},
   "outputs": [],
   "source": [
    "d2 = TensorDataset(a,b, adj1)"
   ]
  },
  {
   "cell_type": "code",
   "execution_count": 113,
   "metadata": {},
   "outputs": [
    {
     "name": "stdout",
     "output_type": "stream",
     "text": [
      "torch.Size([4000, 4000])\n"
     ]
    }
   ],
   "source": [
    "from random import sample\n",
    "l1 = nx.line_graph(nx.DiGraph(g_partition))\n",
    "l1 = sample(L.nodes(), 4000)\n",
    "L1 = nx.line_graph(nx.DiGraph(l1))\n",
    "adj1 = nx.to_scipy_sparse_matrix(L1, format=\"coo\")\n",
    "\n",
    "# build symmetric adjacency matrix\n",
    "adj1 = adj1 + adj1.T.multiply(adj1.T > adj1) - adj1.multiply(adj1.T > adj1)\n",
    "                                    \n",
    "adj1 = normalize(adj1 + sp.eye(adj1.shape[0]))\n",
    "adj1 = sparse_mx_to_torch_sparse_tensor(adj1)\n",
    "print(adj1.shape)"
   ]
  },
  {
   "cell_type": "code",
   "execution_count": null,
   "metadata": {},
   "outputs": [
    {
     "name": "stdout",
     "output_type": "stream",
     "text": [
      "AAA: <class 'torch.Tensor'>, batch_nb: 0\n",
      "batch_nb: 0, adj: torch.Size([6163, 6163])\n",
      "BBB: torch.Size([91, 6163, 1]), torch.Size([91, 6163, 29, 9])\n"
     ]
    },
    {
     "name": "stderr",
     "output_type": "stream",
     "text": [
      "  0%|          | 0/5 [00:00<?, ?it/s]"
     ]
    },
    {
     "name": "stdout",
     "output_type": "stream",
     "text": [
      "AAA: <class 'torch.Tensor'>, batch_nb: 1\n",
      "batch_nb: 1, adj: torch.Size([4000, 4000])\n",
      "BBB: torch.Size([20, 4000, 1]), torch.Size([20, 4000, 29, 9])\n",
      "          Name        Type  Params\n",
      "0      gc_lstm  GCLSTMCell    7830\n",
      "1  gc_lstm.x2h      Linear    3480\n",
      "2  gc_lstm.h2h      Linear    3480\n",
      "3           fc      Linear      30\n",
      "4      dropout     Dropout       0\n"
     ]
    },
    {
     "name": "stderr",
     "output_type": "stream",
     "text": [
      "  0%|          | 0/131 [00:00<00:28,  4.67it/s]"
     ]
    },
    {
     "name": "stdout",
     "output_type": "stream",
     "text": [
      "batch length: 2\n"
     ]
    },
    {
     "name": "stderr",
     "output_type": "stream",
     "text": [
      "  2%|▏         | 2/131 [00:00<00:30,  4.24it/s, batch_nb=0, epoch=0, loss=1113.832, v_nb=1]"
     ]
    },
    {
     "name": "stdout",
     "output_type": "stream",
     "text": [
      "CCCC: torch.Size([6163, 1]), torch.Size([6163, 1])\n",
      "batch length: 2\n"
     ]
    },
    {
     "name": "stderr",
     "output_type": "stream",
     "text": [
      "  2%|▏         | 3/131 [00:01<00:40,  3.12it/s, batch_nb=1, epoch=0, loss=1124.564, v_nb=1]"
     ]
    },
    {
     "name": "stdout",
     "output_type": "stream",
     "text": [
      "CCCC: torch.Size([6163, 1]), torch.Size([6163, 1])\n",
      "batch length: 2\n"
     ]
    },
    {
     "name": "stderr",
     "output_type": "stream",
     "text": [
      "  3%|▎         | 4/131 [00:01<00:48,  2.64it/s, batch_nb=2, epoch=0, loss=1136.255, v_nb=1]"
     ]
    },
    {
     "name": "stdout",
     "output_type": "stream",
     "text": [
      "CCCC: torch.Size([6163, 1]), torch.Size([6163, 1])\n",
      "batch length: 2\n"
     ]
    },
    {
     "name": "stderr",
     "output_type": "stream",
     "text": [
      "  4%|▍         | 5/131 [00:02<00:52,  2.39it/s, batch_nb=3, epoch=0, loss=1150.060, v_nb=1]"
     ]
    },
    {
     "name": "stdout",
     "output_type": "stream",
     "text": [
      "CCCC: torch.Size([6163, 1]), torch.Size([6163, 1])\n",
      "batch length: 2\n"
     ]
    },
    {
     "name": "stderr",
     "output_type": "stream",
     "text": [
      "  5%|▍         | 6/131 [00:02<00:55,  2.23it/s, batch_nb=4, epoch=0, loss=1170.644, v_nb=1]"
     ]
    },
    {
     "name": "stdout",
     "output_type": "stream",
     "text": [
      "CCCC: torch.Size([6163, 1]), torch.Size([6163, 1])\n",
      "batch length: 2\n"
     ]
    },
    {
     "name": "stderr",
     "output_type": "stream",
     "text": [
      "  5%|▌         | 7/131 [00:03<00:58,  2.12it/s, batch_nb=5, epoch=0, loss=1188.809, v_nb=1]"
     ]
    },
    {
     "name": "stdout",
     "output_type": "stream",
     "text": [
      "CCCC: torch.Size([6163, 1]), torch.Size([6163, 1])\n",
      "batch length: 2\n"
     ]
    },
    {
     "name": "stderr",
     "output_type": "stream",
     "text": [
      "  6%|▌         | 8/131 [00:03<00:59,  2.06it/s, batch_nb=6, epoch=0, loss=1213.867, v_nb=1]"
     ]
    },
    {
     "name": "stdout",
     "output_type": "stream",
     "text": [
      "CCCC: torch.Size([6163, 1]), torch.Size([6163, 1])\n",
      "batch length: 2\n"
     ]
    },
    {
     "name": "stderr",
     "output_type": "stream",
     "text": [
      "  7%|▋         | 9/131 [00:04<01:00,  2.03it/s, batch_nb=7, epoch=0, loss=1232.572, v_nb=1]"
     ]
    },
    {
     "name": "stdout",
     "output_type": "stream",
     "text": [
      "CCCC: torch.Size([6163, 1]), torch.Size([6163, 1])\n",
      "batch length: 2\n"
     ]
    },
    {
     "name": "stderr",
     "output_type": "stream",
     "text": [
      "  8%|▊         | 10/131 [00:04<01:00,  2.01it/s, batch_nb=8, epoch=0, loss=1249.914, v_nb=1]"
     ]
    },
    {
     "name": "stdout",
     "output_type": "stream",
     "text": [
      "CCCC: torch.Size([6163, 1]), torch.Size([6163, 1])\n",
      "batch length: 2\n"
     ]
    },
    {
     "name": "stderr",
     "output_type": "stream",
     "text": [
      "  8%|▊         | 11/131 [00:05<01:00,  2.00it/s, batch_nb=9, epoch=0, loss=1244.153, v_nb=1]"
     ]
    },
    {
     "name": "stdout",
     "output_type": "stream",
     "text": [
      "CCCC: torch.Size([6163, 1]), torch.Size([6163, 1])\n",
      "batch length: 2\n"
     ]
    },
    {
     "name": "stderr",
     "output_type": "stream",
     "text": [
      "  9%|▉         | 12/131 [00:05<00:59,  1.98it/s, batch_nb=10, epoch=0, loss=1235.687, v_nb=1]"
     ]
    },
    {
     "name": "stdout",
     "output_type": "stream",
     "text": [
      "CCCC: torch.Size([6163, 1]), torch.Size([6163, 1])\n",
      "batch length: 2\n"
     ]
    },
    {
     "name": "stderr",
     "output_type": "stream",
     "text": [
      " 10%|▉         | 13/131 [00:06<00:59,  1.97it/s, batch_nb=11, epoch=0, loss=1228.097, v_nb=1]"
     ]
    },
    {
     "name": "stdout",
     "output_type": "stream",
     "text": [
      "CCCC: torch.Size([6163, 1]), torch.Size([6163, 1])\n",
      "batch length: 2\n"
     ]
    },
    {
     "name": "stderr",
     "output_type": "stream",
     "text": [
      " 11%|█         | 14/131 [00:06<00:59,  1.96it/s, batch_nb=12, epoch=0, loss=1215.548, v_nb=1]"
     ]
    },
    {
     "name": "stdout",
     "output_type": "stream",
     "text": [
      "CCCC: torch.Size([6163, 1]), torch.Size([6163, 1])\n",
      "batch length: 2\n"
     ]
    },
    {
     "name": "stderr",
     "output_type": "stream",
     "text": [
      " 11%|█▏        | 15/131 [00:07<00:59,  1.95it/s, batch_nb=13, epoch=0, loss=1198.200, v_nb=1]"
     ]
    },
    {
     "name": "stdout",
     "output_type": "stream",
     "text": [
      "CCCC: torch.Size([6163, 1]), torch.Size([6163, 1])\n",
      "batch length: 2\n"
     ]
    },
    {
     "name": "stderr",
     "output_type": "stream",
     "text": [
      " 12%|█▏        | 16/131 [00:07<00:58,  1.96it/s, batch_nb=14, epoch=0, loss=1180.497, v_nb=1]"
     ]
    },
    {
     "name": "stdout",
     "output_type": "stream",
     "text": [
      "CCCC: torch.Size([6163, 1]), torch.Size([6163, 1])\n",
      "batch length: 2\n"
     ]
    },
    {
     "name": "stderr",
     "output_type": "stream",
     "text": [
      " 13%|█▎        | 17/131 [00:08<00:58,  1.96it/s, batch_nb=15, epoch=0, loss=1155.460, v_nb=1]"
     ]
    },
    {
     "name": "stdout",
     "output_type": "stream",
     "text": [
      "CCCC: torch.Size([6163, 1]), torch.Size([6163, 1])\n",
      "batch length: 2\n"
     ]
    },
    {
     "name": "stderr",
     "output_type": "stream",
     "text": [
      " 14%|█▎        | 18/131 [00:08<00:57,  1.96it/s, batch_nb=16, epoch=0, loss=1135.893, v_nb=1]"
     ]
    },
    {
     "name": "stdout",
     "output_type": "stream",
     "text": [
      "CCCC: torch.Size([6163, 1]), torch.Size([6163, 1])\n",
      "batch length: 2\n"
     ]
    },
    {
     "name": "stderr",
     "output_type": "stream",
     "text": [
      " 15%|█▍        | 19/131 [00:09<00:56,  1.97it/s, batch_nb=17, epoch=0, loss=1113.462, v_nb=1]"
     ]
    },
    {
     "name": "stdout",
     "output_type": "stream",
     "text": [
      "CCCC: torch.Size([6163, 1]), torch.Size([6163, 1])\n",
      "batch length: 2\n"
     ]
    },
    {
     "name": "stderr",
     "output_type": "stream",
     "text": [
      " 15%|█▌        | 20/131 [00:09<00:56,  1.96it/s, batch_nb=18, epoch=0, loss=1103.377, v_nb=1]"
     ]
    },
    {
     "name": "stdout",
     "output_type": "stream",
     "text": [
      "CCCC: torch.Size([6163, 1]), torch.Size([6163, 1])\n",
      "batch length: 2\n"
     ]
    },
    {
     "name": "stderr",
     "output_type": "stream",
     "text": [
      " 16%|█▌        | 21/131 [00:10<00:56,  1.96it/s, batch_nb=19, epoch=0, loss=1097.128, v_nb=1]"
     ]
    },
    {
     "name": "stdout",
     "output_type": "stream",
     "text": [
      "CCCC: torch.Size([6163, 1]), torch.Size([6163, 1])\n",
      "batch length: 2\n"
     ]
    },
    {
     "name": "stderr",
     "output_type": "stream",
     "text": [
      " 17%|█▋        | 22/131 [00:10<00:56,  1.92it/s, batch_nb=20, epoch=0, loss=1095.513, v_nb=1]"
     ]
    },
    {
     "name": "stdout",
     "output_type": "stream",
     "text": [
      "CCCC: torch.Size([6163, 1]), torch.Size([6163, 1])\n",
      "batch length: 2\n"
     ]
    },
    {
     "name": "stderr",
     "output_type": "stream",
     "text": [
      " 18%|█▊        | 23/131 [00:11<00:56,  1.91it/s, batch_nb=21, epoch=0, loss=1104.811, v_nb=1]"
     ]
    },
    {
     "name": "stdout",
     "output_type": "stream",
     "text": [
      "CCCC: torch.Size([6163, 1]), torch.Size([6163, 1])\n",
      "batch length: 2\n"
     ]
    },
    {
     "name": "stderr",
     "output_type": "stream",
     "text": [
      " 18%|█▊        | 24/131 [00:11<00:55,  1.91it/s, batch_nb=22, epoch=0, loss=1116.470, v_nb=1]"
     ]
    },
    {
     "name": "stdout",
     "output_type": "stream",
     "text": [
      "CCCC: torch.Size([6163, 1]), torch.Size([6163, 1])\n",
      "batch length: 2\n"
     ]
    },
    {
     "name": "stderr",
     "output_type": "stream",
     "text": [
      " 19%|█▉        | 25/131 [00:12<00:55,  1.92it/s, batch_nb=23, epoch=0, loss=1128.978, v_nb=1]"
     ]
    },
    {
     "name": "stdout",
     "output_type": "stream",
     "text": [
      "CCCC: torch.Size([6163, 1]), torch.Size([6163, 1])\n",
      "batch length: 2\n"
     ]
    },
    {
     "name": "stderr",
     "output_type": "stream",
     "text": [
      " 20%|█▉        | 26/131 [00:12<00:54,  1.93it/s, batch_nb=24, epoch=0, loss=1130.292, v_nb=1]"
     ]
    },
    {
     "name": "stdout",
     "output_type": "stream",
     "text": [
      "CCCC: torch.Size([6163, 1]), torch.Size([6163, 1])\n",
      "batch length: 2\n"
     ]
    },
    {
     "name": "stderr",
     "output_type": "stream",
     "text": [
      " 21%|██        | 27/131 [00:13<00:53,  1.93it/s, batch_nb=25, epoch=0, loss=1137.674, v_nb=1]"
     ]
    },
    {
     "name": "stdout",
     "output_type": "stream",
     "text": [
      "CCCC: torch.Size([6163, 1]), torch.Size([6163, 1])\n",
      "batch length: 2\n"
     ]
    },
    {
     "name": "stderr",
     "output_type": "stream",
     "text": [
      " 21%|██▏       | 28/131 [00:13<00:52,  1.95it/s, batch_nb=26, epoch=0, loss=1147.392, v_nb=1]"
     ]
    },
    {
     "name": "stdout",
     "output_type": "stream",
     "text": [
      "CCCC: torch.Size([6163, 1]), torch.Size([6163, 1])\n",
      "batch length: 2\n"
     ]
    },
    {
     "name": "stderr",
     "output_type": "stream",
     "text": [
      " 22%|██▏       | 29/131 [00:14<00:52,  1.93it/s, batch_nb=27, epoch=0, loss=1152.868, v_nb=1]"
     ]
    },
    {
     "name": "stdout",
     "output_type": "stream",
     "text": [
      "CCCC: torch.Size([6163, 1]), torch.Size([6163, 1])\n",
      "batch length: 2\n"
     ]
    },
    {
     "name": "stderr",
     "output_type": "stream",
     "text": [
      " 23%|██▎       | 30/131 [00:15<00:53,  1.90it/s, batch_nb=28, epoch=0, loss=1160.421, v_nb=1]"
     ]
    },
    {
     "name": "stdout",
     "output_type": "stream",
     "text": [
      "CCCC: torch.Size([6163, 1]), torch.Size([6163, 1])\n",
      "batch length: 2\n"
     ]
    },
    {
     "name": "stderr",
     "output_type": "stream",
     "text": [
      " 24%|██▎       | 31/131 [00:15<00:51,  1.92it/s, batch_nb=29, epoch=0, loss=1168.505, v_nb=1]"
     ]
    },
    {
     "name": "stdout",
     "output_type": "stream",
     "text": [
      "CCCC: torch.Size([6163, 1]), torch.Size([6163, 1])\n",
      "batch length: 2\n"
     ]
    },
    {
     "name": "stderr",
     "output_type": "stream",
     "text": [
      " 24%|██▍       | 32/131 [00:16<00:51,  1.92it/s, batch_nb=30, epoch=0, loss=1168.800, v_nb=1]"
     ]
    },
    {
     "name": "stdout",
     "output_type": "stream",
     "text": [
      "CCCC: torch.Size([6163, 1]), torch.Size([6163, 1])\n",
      "batch length: 2\n"
     ]
    },
    {
     "name": "stderr",
     "output_type": "stream",
     "text": [
      " 25%|██▌       | 33/131 [00:16<00:51,  1.90it/s, batch_nb=31, epoch=0, loss=1163.943, v_nb=1]"
     ]
    },
    {
     "name": "stdout",
     "output_type": "stream",
     "text": [
      "CCCC: torch.Size([6163, 1]), torch.Size([6163, 1])\n",
      "batch length: 2\n"
     ]
    },
    {
     "name": "stderr",
     "output_type": "stream",
     "text": [
      " 26%|██▌       | 34/131 [00:17<00:51,  1.90it/s, batch_nb=32, epoch=0, loss=1161.535, v_nb=1]"
     ]
    },
    {
     "name": "stdout",
     "output_type": "stream",
     "text": [
      "CCCC: torch.Size([6163, 1]), torch.Size([6163, 1])\n",
      "batch length: 2\n"
     ]
    },
    {
     "name": "stderr",
     "output_type": "stream",
     "text": [
      " 27%|██▋       | 35/131 [00:17<00:50,  1.91it/s, batch_nb=33, epoch=0, loss=1167.837, v_nb=1]"
     ]
    },
    {
     "name": "stdout",
     "output_type": "stream",
     "text": [
      "CCCC: torch.Size([6163, 1]), torch.Size([6163, 1])\n",
      "batch length: 2\n"
     ]
    },
    {
     "name": "stderr",
     "output_type": "stream",
     "text": [
      " 27%|██▋       | 36/131 [00:18<00:49,  1.91it/s, batch_nb=34, epoch=0, loss=1167.465, v_nb=1]"
     ]
    },
    {
     "name": "stdout",
     "output_type": "stream",
     "text": [
      "CCCC: torch.Size([6163, 1]), torch.Size([6163, 1])\n",
      "batch length: 2\n"
     ]
    },
    {
     "name": "stderr",
     "output_type": "stream",
     "text": [
      " 28%|██▊       | 37/131 [00:18<00:49,  1.89it/s, batch_nb=35, epoch=0, loss=1167.421, v_nb=1]"
     ]
    },
    {
     "name": "stdout",
     "output_type": "stream",
     "text": [
      "CCCC: torch.Size([6163, 1]), torch.Size([6163, 1])\n",
      "batch length: 2\n"
     ]
    },
    {
     "name": "stderr",
     "output_type": "stream",
     "text": [
      " 29%|██▉       | 38/131 [00:19<00:49,  1.89it/s, batch_nb=36, epoch=0, loss=1163.716, v_nb=1]"
     ]
    },
    {
     "name": "stdout",
     "output_type": "stream",
     "text": [
      "CCCC: torch.Size([6163, 1]), torch.Size([6163, 1])\n",
      "batch length: 2\n"
     ]
    },
    {
     "name": "stderr",
     "output_type": "stream",
     "text": [
      " 30%|██▉       | 39/131 [00:19<00:48,  1.91it/s, batch_nb=37, epoch=0, loss=1155.189, v_nb=1]"
     ]
    },
    {
     "name": "stdout",
     "output_type": "stream",
     "text": [
      "CCCC: torch.Size([6163, 1]), torch.Size([6163, 1])\n",
      "batch length: 2\n"
     ]
    },
    {
     "name": "stderr",
     "output_type": "stream",
     "text": [
      " 31%|███       | 40/131 [00:20<00:48,  1.87it/s, batch_nb=38, epoch=0, loss=1141.616, v_nb=1]"
     ]
    },
    {
     "name": "stdout",
     "output_type": "stream",
     "text": [
      "CCCC: torch.Size([6163, 1]), torch.Size([6163, 1])\n",
      "batch length: 2\n"
     ]
    },
    {
     "name": "stderr",
     "output_type": "stream",
     "text": [
      " 31%|███▏      | 41/131 [00:20<00:48,  1.86it/s, batch_nb=39, epoch=0, loss=1128.565, v_nb=1]"
     ]
    },
    {
     "name": "stdout",
     "output_type": "stream",
     "text": [
      "CCCC: torch.Size([6163, 1]), torch.Size([6163, 1])\n",
      "batch length: 2\n"
     ]
    },
    {
     "name": "stderr",
     "output_type": "stream",
     "text": [
      " 32%|███▏      | 42/131 [00:21<00:47,  1.87it/s, batch_nb=40, epoch=0, loss=1115.105, v_nb=1]"
     ]
    },
    {
     "name": "stdout",
     "output_type": "stream",
     "text": [
      "CCCC: torch.Size([6163, 1]), torch.Size([6163, 1])\n",
      "batch length: 2\n"
     ]
    },
    {
     "name": "stderr",
     "output_type": "stream",
     "text": [
      " 33%|███▎      | 43/131 [00:21<00:47,  1.87it/s, batch_nb=41, epoch=0, loss=1103.929, v_nb=1]"
     ]
    },
    {
     "name": "stdout",
     "output_type": "stream",
     "text": [
      "CCCC: torch.Size([6163, 1]), torch.Size([6163, 1])\n",
      "batch length: 2\n"
     ]
    },
    {
     "name": "stderr",
     "output_type": "stream",
     "text": [
      " 34%|███▎      | 44/131 [00:22<00:46,  1.87it/s, batch_nb=42, epoch=0, loss=1100.597, v_nb=1]"
     ]
    },
    {
     "name": "stdout",
     "output_type": "stream",
     "text": [
      "CCCC: torch.Size([6163, 1]), torch.Size([6163, 1])\n",
      "batch length: 2\n"
     ]
    },
    {
     "name": "stderr",
     "output_type": "stream",
     "text": [
      " 34%|███▍      | 45/131 [00:22<00:46,  1.87it/s, batch_nb=43, epoch=0, loss=1096.582, v_nb=1]"
     ]
    },
    {
     "name": "stdout",
     "output_type": "stream",
     "text": [
      "CCCC: torch.Size([6163, 1]), torch.Size([6163, 1])\n",
      "batch length: 2\n"
     ]
    },
    {
     "name": "stderr",
     "output_type": "stream",
     "text": [
      " 35%|███▌      | 46/131 [00:23<00:46,  1.85it/s, batch_nb=44, epoch=0, loss=1101.353, v_nb=1]"
     ]
    },
    {
     "name": "stdout",
     "output_type": "stream",
     "text": [
      "CCCC: torch.Size([6163, 1]), torch.Size([6163, 1])\n",
      "batch length: 2\n"
     ]
    },
    {
     "name": "stderr",
     "output_type": "stream",
     "text": [
      " 36%|███▌      | 47/131 [00:24<00:45,  1.84it/s, batch_nb=45, epoch=0, loss=1115.240, v_nb=1]"
     ]
    },
    {
     "name": "stdout",
     "output_type": "stream",
     "text": [
      "CCCC: torch.Size([6163, 1]), torch.Size([6163, 1])\n",
      "batch length: 2\n"
     ]
    },
    {
     "name": "stderr",
     "output_type": "stream",
     "text": [
      " 37%|███▋      | 48/131 [00:24<00:45,  1.84it/s, batch_nb=46, epoch=0, loss=1125.682, v_nb=1]"
     ]
    },
    {
     "name": "stdout",
     "output_type": "stream",
     "text": [
      "CCCC: torch.Size([6163, 1]), torch.Size([6163, 1])\n",
      "batch length: 2\n"
     ]
    },
    {
     "name": "stderr",
     "output_type": "stream",
     "text": [
      " 37%|███▋      | 49/131 [00:25<00:44,  1.86it/s, batch_nb=47, epoch=0, loss=1132.193, v_nb=1]"
     ]
    },
    {
     "name": "stdout",
     "output_type": "stream",
     "text": [
      "CCCC: torch.Size([6163, 1]), torch.Size([6163, 1])\n",
      "batch length: 2\n"
     ]
    },
    {
     "name": "stderr",
     "output_type": "stream",
     "text": [
      " 38%|███▊      | 50/131 [00:25<00:45,  1.79it/s, batch_nb=48, epoch=0, loss=1136.017, v_nb=1]"
     ]
    },
    {
     "name": "stdout",
     "output_type": "stream",
     "text": [
      "CCCC: torch.Size([6163, 1]), torch.Size([6163, 1])\n",
      "batch length: 2\n"
     ]
    },
    {
     "name": "stderr",
     "output_type": "stream",
     "text": [
      " 39%|███▉      | 51/131 [00:26<00:44,  1.80it/s, batch_nb=49, epoch=0, loss=1143.490, v_nb=1]"
     ]
    },
    {
     "name": "stdout",
     "output_type": "stream",
     "text": [
      "CCCC: torch.Size([6163, 1]), torch.Size([6163, 1])\n",
      "batch length: 2\n"
     ]
    },
    {
     "name": "stderr",
     "output_type": "stream",
     "text": [
      " 40%|███▉      | 52/131 [00:26<00:43,  1.80it/s, batch_nb=50, epoch=0, loss=1150.060, v_nb=1]"
     ]
    },
    {
     "name": "stdout",
     "output_type": "stream",
     "text": [
      "CCCC: torch.Size([6163, 1]), torch.Size([6163, 1])\n",
      "batch length: 2\n"
     ]
    },
    {
     "name": "stderr",
     "output_type": "stream",
     "text": [
      " 40%|████      | 53/131 [00:27<00:43,  1.81it/s, batch_nb=51, epoch=0, loss=1153.526, v_nb=1]"
     ]
    },
    {
     "name": "stdout",
     "output_type": "stream",
     "text": [
      "CCCC: torch.Size([6163, 1]), torch.Size([6163, 1])\n",
      "batch length: 2\n"
     ]
    },
    {
     "name": "stderr",
     "output_type": "stream",
     "text": [
      " 41%|████      | 54/131 [00:27<00:42,  1.79it/s, batch_nb=52, epoch=0, loss=1163.789, v_nb=1]"
     ]
    },
    {
     "name": "stdout",
     "output_type": "stream",
     "text": [
      "CCCC: torch.Size([6163, 1]), torch.Size([6163, 1])\n",
      "batch length: 2\n"
     ]
    },
    {
     "name": "stderr",
     "output_type": "stream",
     "text": [
      " 42%|████▏     | 55/131 [00:28<00:42,  1.81it/s, batch_nb=53, epoch=0, loss=1164.130, v_nb=1]"
     ]
    },
    {
     "name": "stdout",
     "output_type": "stream",
     "text": [
      "CCCC: torch.Size([6163, 1]), torch.Size([6163, 1])\n",
      "batch length: 2\n"
     ]
    },
    {
     "name": "stderr",
     "output_type": "stream",
     "text": [
      " 43%|████▎     | 56/131 [00:29<00:41,  1.80it/s, batch_nb=54, epoch=0, loss=1158.787, v_nb=1]"
     ]
    },
    {
     "name": "stdout",
     "output_type": "stream",
     "text": [
      "CCCC: torch.Size([6163, 1]), torch.Size([6163, 1])\n",
      "batch length: 2\n"
     ]
    },
    {
     "name": "stderr",
     "output_type": "stream",
     "text": [
      " 44%|████▎     | 57/131 [00:29<00:40,  1.83it/s, batch_nb=55, epoch=0, loss=1157.779, v_nb=1]"
     ]
    },
    {
     "name": "stdout",
     "output_type": "stream",
     "text": [
      "CCCC: torch.Size([6163, 1]), torch.Size([6163, 1])\n",
      "batch length: 2\n"
     ]
    },
    {
     "name": "stderr",
     "output_type": "stream",
     "text": [
      " 44%|████▍     | 58/131 [00:30<00:39,  1.85it/s, batch_nb=56, epoch=0, loss=1158.692, v_nb=1]"
     ]
    },
    {
     "name": "stdout",
     "output_type": "stream",
     "text": [
      "CCCC: torch.Size([6163, 1]), torch.Size([6163, 1])\n",
      "batch length: 2\n"
     ]
    },
    {
     "name": "stderr",
     "output_type": "stream",
     "text": [
      " 45%|████▌     | 59/131 [00:30<00:42,  1.71it/s, batch_nb=57, epoch=0, loss=1161.510, v_nb=1]"
     ]
    },
    {
     "name": "stdout",
     "output_type": "stream",
     "text": [
      "CCCC: torch.Size([6163, 1]), torch.Size([6163, 1])\n",
      "batch length: 2\n"
     ]
    },
    {
     "name": "stderr",
     "output_type": "stream",
     "text": [
      " 46%|████▌     | 60/131 [00:31<00:42,  1.67it/s, batch_nb=58, epoch=0, loss=1161.151, v_nb=1]"
     ]
    },
    {
     "name": "stdout",
     "output_type": "stream",
     "text": [
      "CCCC: torch.Size([6163, 1]), torch.Size([6163, 1])\n",
      "batch length: 2\n"
     ]
    },
    {
     "name": "stderr",
     "output_type": "stream",
     "text": [
      " 47%|████▋     | 61/131 [00:32<00:45,  1.55it/s, batch_nb=59, epoch=0, loss=1159.385, v_nb=1]"
     ]
    },
    {
     "name": "stdout",
     "output_type": "stream",
     "text": [
      "CCCC: torch.Size([6163, 1]), torch.Size([6163, 1])\n",
      "batch length: 2\n"
     ]
    },
    {
     "name": "stderr",
     "output_type": "stream",
     "text": [
      " 47%|████▋     | 62/131 [00:33<00:53,  1.28it/s, batch_nb=60, epoch=0, loss=1154.691, v_nb=1]"
     ]
    },
    {
     "name": "stdout",
     "output_type": "stream",
     "text": [
      "CCCC: torch.Size([6163, 1]), torch.Size([6163, 1])\n",
      "batch length: 2\n"
     ]
    },
    {
     "name": "stderr",
     "output_type": "stream",
     "text": [
      " 48%|████▊     | 63/131 [00:33<00:48,  1.39it/s, batch_nb=61, epoch=0, loss=1146.356, v_nb=1]"
     ]
    },
    {
     "name": "stdout",
     "output_type": "stream",
     "text": [
      "CCCC: torch.Size([6163, 1]), torch.Size([6163, 1])\n",
      "batch length: 2\n"
     ]
    },
    {
     "name": "stderr",
     "output_type": "stream",
     "text": [
      " 49%|████▉     | 64/131 [00:34<00:45,  1.46it/s, batch_nb=62, epoch=0, loss=1133.447, v_nb=1]"
     ]
    },
    {
     "name": "stdout",
     "output_type": "stream",
     "text": [
      "CCCC: torch.Size([6163, 1]), torch.Size([6163, 1])\n",
      "batch length: 2\n"
     ]
    },
    {
     "name": "stderr",
     "output_type": "stream",
     "text": [
      " 50%|████▉     | 65/131 [00:35<00:44,  1.49it/s, batch_nb=63, epoch=0, loss=1120.345, v_nb=1]"
     ]
    },
    {
     "name": "stdout",
     "output_type": "stream",
     "text": [
      "CCCC: torch.Size([6163, 1]), torch.Size([6163, 1])\n",
      "batch length: 2\n"
     ]
    },
    {
     "name": "stderr",
     "output_type": "stream",
     "text": [
      " 50%|█████     | 66/131 [00:36<00:47,  1.36it/s, batch_nb=64, epoch=0, loss=1106.415, v_nb=1]"
     ]
    },
    {
     "name": "stdout",
     "output_type": "stream",
     "text": [
      "CCCC: torch.Size([6163, 1]), torch.Size([6163, 1])\n",
      "batch length: 2\n"
     ]
    },
    {
     "name": "stderr",
     "output_type": "stream",
     "text": [
      " 51%|█████     | 67/131 [00:36<00:50,  1.26it/s, batch_nb=65, epoch=0, loss=1096.331, v_nb=1]"
     ]
    },
    {
     "name": "stdout",
     "output_type": "stream",
     "text": [
      "CCCC: torch.Size([6163, 1]), torch.Size([6163, 1])\n",
      "batch length: 2\n",
      "CCCC: torch.Size([6163, 1]), torch.Size([6163, 1])\n"
     ]
    },
    {
     "name": "stderr",
     "output_type": "stream",
     "text": [
      " 52%|█████▏    | 68/131 [00:38<00:58,  1.08it/s, batch_nb=66, epoch=0, loss=1091.340, v_nb=1]"
     ]
    },
    {
     "name": "stdout",
     "output_type": "stream",
     "text": [
      "batch length: 2\n"
     ]
    },
    {
     "name": "stderr",
     "output_type": "stream",
     "text": [
      " 53%|█████▎    | 69/131 [00:38<00:54,  1.14it/s, batch_nb=67, epoch=0, loss=1087.274, v_nb=1]"
     ]
    },
    {
     "name": "stdout",
     "output_type": "stream",
     "text": [
      "CCCC: torch.Size([6163, 1]), torch.Size([6163, 1])\n",
      "batch length: 2\n"
     ]
    },
    {
     "name": "stderr",
     "output_type": "stream",
     "text": [
      " 53%|█████▎    | 70/131 [00:39<00:49,  1.23it/s, batch_nb=68, epoch=0, loss=1094.910, v_nb=1]"
     ]
    },
    {
     "name": "stdout",
     "output_type": "stream",
     "text": [
      "CCCC: torch.Size([6163, 1]), torch.Size([6163, 1])\n",
      "batch length: 2\n"
     ]
    },
    {
     "name": "stderr",
     "output_type": "stream",
     "text": [
      " 54%|█████▍    | 71/131 [00:40<00:45,  1.31it/s, batch_nb=69, epoch=0, loss=1117.755, v_nb=1]"
     ]
    },
    {
     "name": "stdout",
     "output_type": "stream",
     "text": [
      "CCCC: torch.Size([6163, 1]), torch.Size([6163, 1])\n",
      "batch length: 2\n"
     ]
    },
    {
     "name": "stderr",
     "output_type": "stream",
     "text": [
      " 55%|█████▍    | 72/131 [00:40<00:42,  1.39it/s, batch_nb=70, epoch=0, loss=1127.753, v_nb=1]"
     ]
    },
    {
     "name": "stdout",
     "output_type": "stream",
     "text": [
      "CCCC: torch.Size([6163, 1]), torch.Size([6163, 1])\n",
      "batch length: 2\n"
     ]
    },
    {
     "name": "stderr",
     "output_type": "stream",
     "text": [
      " 56%|█████▌    | 73/131 [00:41<00:39,  1.46it/s, batch_nb=71, epoch=0, loss=1140.199, v_nb=1]"
     ]
    },
    {
     "name": "stdout",
     "output_type": "stream",
     "text": [
      "CCCC: torch.Size([6163, 1]), torch.Size([6163, 1])\n",
      "batch length: 2\n"
     ]
    },
    {
     "name": "stderr",
     "output_type": "stream",
     "text": [
      " 56%|█████▋    | 74/131 [00:42<00:38,  1.48it/s, batch_nb=72, epoch=0, loss=1153.049, v_nb=1]"
     ]
    },
    {
     "name": "stdout",
     "output_type": "stream",
     "text": [
      "CCCC: torch.Size([6163, 1]), torch.Size([6163, 1])\n",
      "batch length: 2\n"
     ]
    },
    {
     "name": "stderr",
     "output_type": "stream",
     "text": [
      " 57%|█████▋    | 75/131 [00:42<00:37,  1.50it/s, batch_nb=73, epoch=0, loss=1161.602, v_nb=1]"
     ]
    },
    {
     "name": "stdout",
     "output_type": "stream",
     "text": [
      "CCCC: torch.Size([6163, 1]), torch.Size([6163, 1])\n",
      "batch length: 2\n"
     ]
    },
    {
     "name": "stderr",
     "output_type": "stream",
     "text": [
      " 58%|█████▊    | 76/131 [00:43<00:37,  1.48it/s, batch_nb=74, epoch=0, loss=1169.613, v_nb=1]"
     ]
    },
    {
     "name": "stdout",
     "output_type": "stream",
     "text": [
      "CCCC: torch.Size([6163, 1]), torch.Size([6163, 1])\n",
      "batch length: 2\n"
     ]
    },
    {
     "name": "stderr",
     "output_type": "stream",
     "text": [
      " 59%|█████▉    | 77/131 [00:44<00:36,  1.50it/s, batch_nb=75, epoch=0, loss=1185.080, v_nb=1]"
     ]
    },
    {
     "name": "stdout",
     "output_type": "stream",
     "text": [
      "CCCC: torch.Size([6163, 1]), torch.Size([6163, 1])\n",
      "batch length: 2\n"
     ]
    },
    {
     "name": "stderr",
     "output_type": "stream",
     "text": [
      " 60%|█████▉    | 78/131 [00:44<00:35,  1.49it/s, batch_nb=76, epoch=0, loss=1195.263, v_nb=1]"
     ]
    },
    {
     "name": "stdout",
     "output_type": "stream",
     "text": [
      "CCCC: torch.Size([6163, 1]), torch.Size([6163, 1])\n",
      "batch length: 2\n"
     ]
    },
    {
     "name": "stderr",
     "output_type": "stream",
     "text": [
      " 60%|██████    | 79/131 [00:45<00:34,  1.49it/s, batch_nb=77, epoch=0, loss=1199.249, v_nb=1]"
     ]
    },
    {
     "name": "stdout",
     "output_type": "stream",
     "text": [
      "CCCC: torch.Size([6163, 1]), torch.Size([6163, 1])\n",
      "batch length: 2\n"
     ]
    },
    {
     "name": "stderr",
     "output_type": "stream",
     "text": [
      " 61%|██████    | 80/131 [00:46<00:34,  1.47it/s, batch_nb=78, epoch=0, loss=1194.089, v_nb=1]"
     ]
    },
    {
     "name": "stdout",
     "output_type": "stream",
     "text": [
      "CCCC: torch.Size([6163, 1]), torch.Size([6163, 1])\n",
      "batch length: 2\n"
     ]
    },
    {
     "name": "stderr",
     "output_type": "stream",
     "text": [
      " 62%|██████▏   | 81/131 [00:46<00:34,  1.45it/s, batch_nb=79, epoch=0, loss=1196.421, v_nb=1]"
     ]
    },
    {
     "name": "stdout",
     "output_type": "stream",
     "text": [
      "CCCC: torch.Size([6163, 1]), torch.Size([6163, 1])\n",
      "batch length: 2\n"
     ]
    },
    {
     "name": "stderr",
     "output_type": "stream",
     "text": [
      " 63%|██████▎   | 82/131 [00:47<00:33,  1.45it/s, batch_nb=80, epoch=0, loss=1198.235, v_nb=1]"
     ]
    },
    {
     "name": "stdout",
     "output_type": "stream",
     "text": [
      "CCCC: torch.Size([6163, 1]), torch.Size([6163, 1])\n",
      "batch length: 2\n"
     ]
    },
    {
     "name": "stderr",
     "output_type": "stream",
     "text": [
      " 63%|██████▎   | 83/131 [00:48<00:34,  1.40it/s, batch_nb=81, epoch=0, loss=1191.000, v_nb=1]"
     ]
    },
    {
     "name": "stdout",
     "output_type": "stream",
     "text": [
      "CCCC: torch.Size([6163, 1]), torch.Size([6163, 1])\n",
      "batch length: 2\n"
     ]
    },
    {
     "name": "stderr",
     "output_type": "stream",
     "text": [
      " 64%|██████▍   | 84/131 [00:49<00:33,  1.40it/s, batch_nb=82, epoch=0, loss=1190.527, v_nb=1]"
     ]
    },
    {
     "name": "stdout",
     "output_type": "stream",
     "text": [
      "CCCC: torch.Size([6163, 1]), torch.Size([6163, 1])\n",
      "batch length: 2\n"
     ]
    },
    {
     "name": "stderr",
     "output_type": "stream",
     "text": [
      " 65%|██████▍   | 85/131 [00:49<00:32,  1.41it/s, batch_nb=83, epoch=0, loss=1190.351, v_nb=1]"
     ]
    },
    {
     "name": "stdout",
     "output_type": "stream",
     "text": [
      "CCCC: torch.Size([6163, 1]), torch.Size([6163, 1])\n",
      "batch length: 2\n"
     ]
    },
    {
     "name": "stderr",
     "output_type": "stream",
     "text": [
      " 66%|██████▌   | 86/131 [00:50<00:32,  1.39it/s, batch_nb=84, epoch=0, loss=1176.890, v_nb=1]"
     ]
    },
    {
     "name": "stdout",
     "output_type": "stream",
     "text": [
      "CCCC: torch.Size([6163, 1]), torch.Size([6163, 1])\n",
      "batch length: 2\n"
     ]
    },
    {
     "name": "stderr",
     "output_type": "stream",
     "text": [
      " 66%|██████▋   | 87/131 [00:51<00:31,  1.39it/s, batch_nb=85, epoch=0, loss=1169.097, v_nb=1]"
     ]
    },
    {
     "name": "stdout",
     "output_type": "stream",
     "text": [
      "CCCC: torch.Size([6163, 1]), torch.Size([6163, 1])\n",
      "batch length: 2\n"
     ]
    },
    {
     "name": "stderr",
     "output_type": "stream",
     "text": [
      " 67%|██████▋   | 88/131 [00:51<00:31,  1.37it/s, batch_nb=86, epoch=0, loss=1154.735, v_nb=1]"
     ]
    },
    {
     "name": "stdout",
     "output_type": "stream",
     "text": [
      "CCCC: torch.Size([6163, 1]), torch.Size([6163, 1])\n",
      "batch length: 2\n"
     ]
    },
    {
     "name": "stderr",
     "output_type": "stream",
     "text": [
      " 68%|██████▊   | 89/131 [00:52<00:31,  1.35it/s, batch_nb=87, epoch=0, loss=1134.790, v_nb=1]"
     ]
    },
    {
     "name": "stdout",
     "output_type": "stream",
     "text": [
      "CCCC: torch.Size([6163, 1]), torch.Size([6163, 1])\n",
      "batch length: 2\n"
     ]
    },
    {
     "name": "stderr",
     "output_type": "stream",
     "text": [
      " 69%|██████▊   | 90/131 [00:53<00:30,  1.36it/s, batch_nb=88, epoch=0, loss=1117.869, v_nb=1]"
     ]
    },
    {
     "name": "stdout",
     "output_type": "stream",
     "text": [
      "CCCC: torch.Size([6163, 1]), torch.Size([6163, 1])\n",
      "batch length: 2\n"
     ]
    },
    {
     "name": "stderr",
     "output_type": "stream",
     "text": [
      " 69%|██████▉   | 91/131 [00:54<00:29,  1.38it/s, batch_nb=89, epoch=0, loss=1103.847, v_nb=1]"
     ]
    },
    {
     "name": "stdout",
     "output_type": "stream",
     "text": [
      "CCCC: torch.Size([6163, 1]), torch.Size([6163, 1])\n",
      "batch length: 2\n"
     ]
    },
    {
     "name": "stderr",
     "output_type": "stream",
     "text": [
      " 70%|███████   | 92/131 [00:54<00:28,  1.35it/s, batch_nb=90, epoch=0, loss=1101.203, v_nb=1]"
     ]
    },
    {
     "name": "stdout",
     "output_type": "stream",
     "text": [
      "CCCC: torch.Size([6163, 1]), torch.Size([6163, 1])\n",
      "batch length: 2\n"
     ]
    },
    {
     "name": "stderr",
     "output_type": "stream",
     "text": [
      " 71%|███████   | 93/131 [00:55<00:24,  1.52it/s, batch_nb=91, epoch=0, loss=1102.712, v_nb=1]"
     ]
    },
    {
     "name": "stdout",
     "output_type": "stream",
     "text": [
      "CCCC: torch.Size([4000, 1]), torch.Size([4000, 1])\n",
      "batch length: 2\n"
     ]
    },
    {
     "name": "stderr",
     "output_type": "stream",
     "text": [
      " 72%|███████▏  | 94/131 [00:55<00:22,  1.68it/s, batch_nb=92, epoch=0, loss=1102.463, v_nb=1]"
     ]
    },
    {
     "name": "stdout",
     "output_type": "stream",
     "text": [
      "CCCC: torch.Size([4000, 1]), torch.Size([4000, 1])\n",
      "batch length: 2\n"
     ]
    },
    {
     "name": "stderr",
     "output_type": "stream",
     "text": [
      " 73%|███████▎  | 95/131 [00:56<00:19,  1.82it/s, batch_nb=93, epoch=0, loss=1103.700, v_nb=1]"
     ]
    },
    {
     "name": "stdout",
     "output_type": "stream",
     "text": [
      "CCCC: torch.Size([4000, 1]), torch.Size([4000, 1])\n",
      "batch length: 2\n"
     ]
    },
    {
     "name": "stderr",
     "output_type": "stream",
     "text": [
      " 73%|███████▎  | 96/131 [00:56<00:18,  1.92it/s, batch_nb=94, epoch=0, loss=1107.181, v_nb=1]"
     ]
    },
    {
     "name": "stdout",
     "output_type": "stream",
     "text": [
      "CCCC: torch.Size([4000, 1]), torch.Size([4000, 1])\n",
      "batch length: 2\n"
     ]
    },
    {
     "name": "stderr",
     "output_type": "stream",
     "text": [
      " 74%|███████▍  | 97/131 [00:57<00:17,  1.96it/s, batch_nb=95, epoch=0, loss=1109.938, v_nb=1]"
     ]
    },
    {
     "name": "stdout",
     "output_type": "stream",
     "text": [
      "CCCC: torch.Size([4000, 1]), torch.Size([4000, 1])\n",
      "batch length: 2\n"
     ]
    },
    {
     "name": "stderr",
     "output_type": "stream",
     "text": [
      " 75%|███████▍  | 98/131 [00:57<00:16,  1.98it/s, batch_nb=96, epoch=0, loss=1112.082, v_nb=1]"
     ]
    },
    {
     "name": "stdout",
     "output_type": "stream",
     "text": [
      "CCCC: torch.Size([4000, 1]), torch.Size([4000, 1])\n",
      "batch length: 2\n"
     ]
    },
    {
     "name": "stderr",
     "output_type": "stream",
     "text": [
      " 76%|███████▌  | 99/131 [00:58<00:16,  1.99it/s, batch_nb=97, epoch=0, loss=1114.599, v_nb=1]"
     ]
    },
    {
     "name": "stdout",
     "output_type": "stream",
     "text": [
      "CCCC: torch.Size([4000, 1]), torch.Size([4000, 1])\n",
      "batch length: 2\n"
     ]
    },
    {
     "name": "stderr",
     "output_type": "stream",
     "text": [
      " 76%|███████▋  | 100/131 [00:58<00:15,  2.00it/s, batch_nb=98, epoch=0, loss=1118.741, v_nb=1]"
     ]
    },
    {
     "name": "stdout",
     "output_type": "stream",
     "text": [
      "CCCC: torch.Size([4000, 1]), torch.Size([4000, 1])\n",
      "batch length: 2\n"
     ]
    },
    {
     "name": "stderr",
     "output_type": "stream",
     "text": [
      " 77%|███████▋  | 101/131 [00:59<00:14,  2.01it/s, batch_nb=99, epoch=0, loss=1119.141, v_nb=1]"
     ]
    },
    {
     "name": "stdout",
     "output_type": "stream",
     "text": [
      "CCCC: torch.Size([4000, 1]), torch.Size([4000, 1])\n",
      "batch length: 2\n"
     ]
    },
    {
     "name": "stderr",
     "output_type": "stream",
     "text": [
      " 78%|███████▊  | 102/131 [00:59<00:14,  2.02it/s, batch_nb=100, epoch=0, loss=1101.290, v_nb=1]"
     ]
    },
    {
     "name": "stdout",
     "output_type": "stream",
     "text": [
      "CCCC: torch.Size([4000, 1]), torch.Size([4000, 1])\n",
      "batch length: 2\n"
     ]
    },
    {
     "name": "stderr",
     "output_type": "stream",
     "text": [
      " 79%|███████▊  | 103/131 [01:00<00:13,  2.00it/s, batch_nb=101, epoch=0, loss=1083.977, v_nb=1]"
     ]
    },
    {
     "name": "stdout",
     "output_type": "stream",
     "text": [
      "CCCC: torch.Size([4000, 1]), torch.Size([4000, 1])\n",
      "batch length: 2\n"
     ]
    },
    {
     "name": "stderr",
     "output_type": "stream",
     "text": [
      " 79%|███████▉  | 104/131 [01:00<00:13,  2.03it/s, batch_nb=102, epoch=0, loss=1067.447, v_nb=1]"
     ]
    },
    {
     "name": "stdout",
     "output_type": "stream",
     "text": [
      "CCCC: torch.Size([4000, 1]), torch.Size([4000, 1])\n",
      "batch length: 2\n"
     ]
    },
    {
     "name": "stderr",
     "output_type": "stream",
     "text": [
      " 80%|████████  | 105/131 [01:01<00:12,  2.04it/s, batch_nb=103, epoch=0, loss=1050.616, v_nb=1]"
     ]
    },
    {
     "name": "stdout",
     "output_type": "stream",
     "text": [
      "CCCC: torch.Size([4000, 1]), torch.Size([4000, 1])\n",
      "batch length: 2\n"
     ]
    },
    {
     "name": "stderr",
     "output_type": "stream",
     "text": [
      " 81%|████████  | 106/131 [01:01<00:12,  2.04it/s, batch_nb=104, epoch=0, loss=1027.568, v_nb=1]"
     ]
    },
    {
     "name": "stdout",
     "output_type": "stream",
     "text": [
      "CCCC: torch.Size([4000, 1]), torch.Size([4000, 1])\n",
      "batch length: 2\n"
     ]
    },
    {
     "name": "stderr",
     "output_type": "stream",
     "text": [
      " 82%|████████▏ | 107/131 [01:02<00:11,  2.01it/s, batch_nb=105, epoch=0, loss=1008.583, v_nb=1]"
     ]
    },
    {
     "name": "stdout",
     "output_type": "stream",
     "text": [
      "CCCC: torch.Size([4000, 1]), torch.Size([4000, 1])\n",
      "batch length: 2\n"
     ]
    },
    {
     "name": "stderr",
     "output_type": "stream",
     "text": [
      " 82%|████████▏ | 108/131 [01:02<00:11,  2.00it/s, batch_nb=106, epoch=0, loss=983.499, v_nb=1] "
     ]
    },
    {
     "name": "stdout",
     "output_type": "stream",
     "text": [
      "CCCC: torch.Size([4000, 1]), torch.Size([4000, 1])\n",
      "batch length: 2\n"
     ]
    },
    {
     "name": "stderr",
     "output_type": "stream",
     "text": [
      " 83%|████████▎ | 109/131 [01:03<00:11,  1.97it/s, batch_nb=107, epoch=0, loss=964.967, v_nb=1]"
     ]
    },
    {
     "name": "stdout",
     "output_type": "stream",
     "text": [
      "CCCC: torch.Size([4000, 1]), torch.Size([4000, 1])\n",
      "batch length: 2\n"
     ]
    },
    {
     "name": "stderr",
     "output_type": "stream",
     "text": [
      " 84%|████████▍ | 110/131 [01:03<00:10,  1.95it/s, batch_nb=108, epoch=0, loss=944.388, v_nb=1]"
     ]
    },
    {
     "name": "stdout",
     "output_type": "stream",
     "text": [
      "CCCC: torch.Size([4000, 1]), torch.Size([4000, 1])\n",
      "batch length: 2\n"
     ]
    },
    {
     "name": "stderr",
     "output_type": "stream",
     "text": [
      " 85%|████████▍ | 111/131 [01:04<00:10,  1.96it/s, batch_nb=109, epoch=0, loss=931.062, v_nb=1]"
     ]
    },
    {
     "name": "stdout",
     "output_type": "stream",
     "text": [
      "CCCC: torch.Size([4000, 1]), torch.Size([4000, 1])\n",
      "batch length: 2\n"
     ]
    },
    {
     "name": "stderr",
     "output_type": "stream",
     "text": [
      "\r",
      " 85%|████████▍ | 111/131 [01:04<00:10,  1.96it/s, batch_nb=110, epoch=0, loss=922.949, v_nb=1]"
     ]
    },
    {
     "name": "stdout",
     "output_type": "stream",
     "text": [
      "CCCC: torch.Size([4000, 1]), torch.Size([4000, 1])\n"
     ]
    },
    {
     "name": "stderr",
     "output_type": "stream",
     "text": [
      "  0%|          | 0/131 [00:00<00:38,  3.43it/s, avg_rmse_loss=5.63, avg_smape_loss=55.2, avg_val_mae=3.22, batch_nb=110, epoch=0, loss=922.949, v_nb=1]  "
     ]
    },
    {
     "name": "stdout",
     "output_type": "stream",
     "text": [
      "batch length: 2\n"
     ]
    },
    {
     "name": "stderr",
     "output_type": "stream",
     "text": [
      "  2%|▏         | 2/131 [00:00<00:41,  3.09it/s, avg_rmse_loss=5.63, avg_smape_loss=55.2, avg_val_mae=3.22, batch_nb=0, epoch=1, loss=931.743, v_nb=1]  "
     ]
    },
    {
     "name": "stdout",
     "output_type": "stream",
     "text": [
      "CCCC: torch.Size([6163, 1]), torch.Size([6163, 1])\n",
      "batch length: 2\n"
     ]
    },
    {
     "name": "stderr",
     "output_type": "stream",
     "text": [
      "  2%|▏         | 3/131 [00:01<00:58,  2.20it/s, avg_rmse_loss=5.63, avg_smape_loss=55.2, avg_val_mae=3.22, batch_nb=1, epoch=1, loss=945.677, v_nb=1]"
     ]
    },
    {
     "name": "stdout",
     "output_type": "stream",
     "text": [
      "CCCC: torch.Size([6163, 1]), torch.Size([6163, 1])\n",
      "batch length: 2\n"
     ]
    },
    {
     "name": "stderr",
     "output_type": "stream",
     "text": [
      "  3%|▎         | 4/131 [00:02<01:08,  1.84it/s, avg_rmse_loss=5.63, avg_smape_loss=55.2, avg_val_mae=3.22, batch_nb=2, epoch=1, loss=958.729, v_nb=1]"
     ]
    },
    {
     "name": "stdout",
     "output_type": "stream",
     "text": [
      "CCCC: torch.Size([6163, 1]), torch.Size([6163, 1])\n",
      "batch length: 2\n"
     ]
    },
    {
     "name": "stderr",
     "output_type": "stream",
     "text": [
      "  4%|▍         | 5/131 [00:03<01:16,  1.64it/s, avg_rmse_loss=5.63, avg_smape_loss=55.2, avg_val_mae=3.22, batch_nb=3, epoch=1, loss=974.291, v_nb=1]"
     ]
    },
    {
     "name": "stdout",
     "output_type": "stream",
     "text": [
      "CCCC: torch.Size([6163, 1]), torch.Size([6163, 1])\n",
      "batch length: 2\n"
     ]
    },
    {
     "name": "stderr",
     "output_type": "stream",
     "text": [
      "  5%|▍         | 6/131 [00:03<01:21,  1.53it/s, avg_rmse_loss=5.63, avg_smape_loss=55.2, avg_val_mae=3.22, batch_nb=4, epoch=1, loss=999.030, v_nb=1]"
     ]
    },
    {
     "name": "stdout",
     "output_type": "stream",
     "text": [
      "CCCC: torch.Size([6163, 1]), torch.Size([6163, 1])\n",
      "batch length: 2\n"
     ]
    },
    {
     "name": "stderr",
     "output_type": "stream",
     "text": [
      "  5%|▌         | 7/131 [00:04<01:25,  1.45it/s, avg_rmse_loss=5.63, avg_smape_loss=55.2, avg_val_mae=3.22, batch_nb=5, epoch=1, loss=1018.904, v_nb=1]"
     ]
    },
    {
     "name": "stdout",
     "output_type": "stream",
     "text": [
      "CCCC: torch.Size([6163, 1]), torch.Size([6163, 1])\n",
      "batch length: 2\n"
     ]
    },
    {
     "name": "stderr",
     "output_type": "stream",
     "text": [
      "  6%|▌         | 8/131 [00:05<01:26,  1.42it/s, avg_rmse_loss=5.63, avg_smape_loss=55.2, avg_val_mae=3.22, batch_nb=6, epoch=1, loss=1041.197, v_nb=1]"
     ]
    },
    {
     "name": "stdout",
     "output_type": "stream",
     "text": [
      "CCCC: torch.Size([6163, 1]), torch.Size([6163, 1])\n",
      "batch length: 2\n"
     ]
    },
    {
     "name": "stderr",
     "output_type": "stream",
     "text": [
      "  7%|▋         | 9/131 [00:06<01:26,  1.41it/s, avg_rmse_loss=5.63, avg_smape_loss=55.2, avg_val_mae=3.22, batch_nb=7, epoch=1, loss=1056.756, v_nb=1]"
     ]
    },
    {
     "name": "stdout",
     "output_type": "stream",
     "text": [
      "CCCC: torch.Size([6163, 1]), torch.Size([6163, 1])\n",
      "batch length: 2\n"
     ]
    },
    {
     "name": "stderr",
     "output_type": "stream",
     "text": [
      "  8%|▊         | 10/131 [00:06<01:26,  1.40it/s, avg_rmse_loss=5.63, avg_smape_loss=55.2, avg_val_mae=3.22, batch_nb=8, epoch=1, loss=1070.191, v_nb=1]"
     ]
    },
    {
     "name": "stdout",
     "output_type": "stream",
     "text": [
      "CCCC: torch.Size([6163, 1]), torch.Size([6163, 1])\n",
      "batch length: 2\n"
     ]
    },
    {
     "name": "stderr",
     "output_type": "stream",
     "text": [
      "  8%|▊         | 11/131 [00:07<01:25,  1.41it/s, avg_rmse_loss=5.63, avg_smape_loss=55.2, avg_val_mae=3.22, batch_nb=9, epoch=1, loss=1074.073, v_nb=1]"
     ]
    },
    {
     "name": "stdout",
     "output_type": "stream",
     "text": [
      "CCCC: torch.Size([6163, 1]), torch.Size([6163, 1])\n",
      "batch length: 2\n"
     ]
    },
    {
     "name": "stderr",
     "output_type": "stream",
     "text": [
      "  9%|▉         | 12/131 [00:08<01:24,  1.41it/s, avg_rmse_loss=5.63, avg_smape_loss=55.2, avg_val_mae=3.22, batch_nb=10, epoch=1, loss=1068.463, v_nb=1]"
     ]
    },
    {
     "name": "stdout",
     "output_type": "stream",
     "text": [
      "CCCC: torch.Size([6163, 1]), torch.Size([6163, 1])\n",
      "batch length: 2\n"
     ]
    },
    {
     "name": "stderr",
     "output_type": "stream",
     "text": [
      " 10%|▉         | 13/131 [00:08<01:23,  1.41it/s, avg_rmse_loss=5.63, avg_smape_loss=55.2, avg_val_mae=3.22, batch_nb=11, epoch=1, loss=1061.334, v_nb=1]"
     ]
    },
    {
     "name": "stdout",
     "output_type": "stream",
     "text": [
      "CCCC: torch.Size([6163, 1]), torch.Size([6163, 1])\n",
      "batch length: 2\n"
     ]
    },
    {
     "name": "stderr",
     "output_type": "stream",
     "text": [
      " 11%|█         | 14/131 [00:09<01:22,  1.42it/s, avg_rmse_loss=5.63, avg_smape_loss=55.2, avg_val_mae=3.22, batch_nb=12, epoch=1, loss=1052.947, v_nb=1]"
     ]
    },
    {
     "name": "stdout",
     "output_type": "stream",
     "text": [
      "CCCC: torch.Size([6163, 1]), torch.Size([6163, 1])\n",
      "batch length: 2\n"
     ]
    },
    {
     "name": "stderr",
     "output_type": "stream",
     "text": [
      " 11%|█▏        | 15/131 [00:10<01:22,  1.41it/s, avg_rmse_loss=5.63, avg_smape_loss=55.2, avg_val_mae=3.22, batch_nb=13, epoch=1, loss=1055.948, v_nb=1]"
     ]
    },
    {
     "name": "stdout",
     "output_type": "stream",
     "text": [
      "CCCC: torch.Size([6163, 1]), torch.Size([6163, 1])\n",
      "batch length: 2\n"
     ]
    },
    {
     "name": "stderr",
     "output_type": "stream",
     "text": [
      " 12%|█▏        | 16/131 [00:10<01:20,  1.43it/s, avg_rmse_loss=5.63, avg_smape_loss=55.2, avg_val_mae=3.22, batch_nb=14, epoch=1, loss=1049.507, v_nb=1]"
     ]
    },
    {
     "name": "stdout",
     "output_type": "stream",
     "text": [
      "CCCC: torch.Size([6163, 1]), torch.Size([6163, 1])\n",
      "batch length: 2\n"
     ]
    },
    {
     "name": "stderr",
     "output_type": "stream",
     "text": [
      " 13%|█▎        | 17/131 [00:11<01:18,  1.45it/s, avg_rmse_loss=5.63, avg_smape_loss=55.2, avg_val_mae=3.22, batch_nb=15, epoch=1, loss=1041.378, v_nb=1]"
     ]
    },
    {
     "name": "stdout",
     "output_type": "stream",
     "text": [
      "CCCC: torch.Size([6163, 1]), torch.Size([6163, 1])\n",
      "batch length: 2\n"
     ]
    },
    {
     "name": "stderr",
     "output_type": "stream",
     "text": [
      " 14%|█▎        | 18/131 [00:12<01:17,  1.46it/s, avg_rmse_loss=5.63, avg_smape_loss=55.2, avg_val_mae=3.22, batch_nb=16, epoch=1, loss=1032.275, v_nb=1]"
     ]
    },
    {
     "name": "stdout",
     "output_type": "stream",
     "text": [
      "CCCC: torch.Size([6163, 1]), torch.Size([6163, 1])\n",
      "batch length: 2\n"
     ]
    },
    {
     "name": "stderr",
     "output_type": "stream",
     "text": [
      " 15%|█▍        | 19/131 [00:12<01:15,  1.47it/s, avg_rmse_loss=5.63, avg_smape_loss=55.2, avg_val_mae=3.22, batch_nb=17, epoch=1, loss=1019.132, v_nb=1]"
     ]
    },
    {
     "name": "stdout",
     "output_type": "stream",
     "text": [
      "CCCC: torch.Size([6163, 1]), torch.Size([6163, 1])\n",
      "batch length: 2\n"
     ]
    },
    {
     "name": "stderr",
     "output_type": "stream",
     "text": [
      " 15%|█▌        | 20/131 [00:13<01:15,  1.47it/s, avg_rmse_loss=5.63, avg_smape_loss=55.2, avg_val_mae=3.22, batch_nb=18, epoch=1, loss=1005.878, v_nb=1]"
     ]
    },
    {
     "name": "stdout",
     "output_type": "stream",
     "text": [
      "CCCC: torch.Size([6163, 1]), torch.Size([6163, 1])\n",
      "batch length: 2\n"
     ]
    },
    {
     "name": "stderr",
     "output_type": "stream",
     "text": [
      " 16%|█▌        | 21/131 [00:14<01:14,  1.47it/s, avg_rmse_loss=5.63, avg_smape_loss=55.2, avg_val_mae=3.22, batch_nb=19, epoch=1, loss=994.609, v_nb=1] "
     ]
    },
    {
     "name": "stdout",
     "output_type": "stream",
     "text": [
      "CCCC: torch.Size([6163, 1]), torch.Size([6163, 1])\n",
      "batch length: 2\n"
     ]
    },
    {
     "name": "stderr",
     "output_type": "stream",
     "text": [
      " 17%|█▋        | 22/131 [00:15<01:13,  1.49it/s, avg_rmse_loss=5.63, avg_smape_loss=55.2, avg_val_mae=3.22, batch_nb=20, epoch=1, loss=990.122, v_nb=1]"
     ]
    },
    {
     "name": "stdout",
     "output_type": "stream",
     "text": [
      "CCCC: torch.Size([6163, 1]), torch.Size([6163, 1])\n",
      "batch length: 2\n"
     ]
    },
    {
     "name": "stderr",
     "output_type": "stream",
     "text": [
      " 18%|█▊        | 23/131 [00:15<01:12,  1.50it/s, avg_rmse_loss=5.63, avg_smape_loss=55.2, avg_val_mae=3.22, batch_nb=21, epoch=1, loss=991.742, v_nb=1]"
     ]
    },
    {
     "name": "stdout",
     "output_type": "stream",
     "text": [
      "CCCC: torch.Size([6163, 1]), torch.Size([6163, 1])\n",
      "batch length: 2\n"
     ]
    },
    {
     "name": "stderr",
     "output_type": "stream",
     "text": [
      " 18%|█▊        | 24/131 [00:16<01:10,  1.51it/s, avg_rmse_loss=5.63, avg_smape_loss=55.2, avg_val_mae=3.22, batch_nb=22, epoch=1, loss=999.257, v_nb=1]"
     ]
    },
    {
     "name": "stdout",
     "output_type": "stream",
     "text": [
      "CCCC: torch.Size([6163, 1]), torch.Size([6163, 1])\n",
      "batch length: 2\n"
     ]
    },
    {
     "name": "stderr",
     "output_type": "stream",
     "text": [
      " 19%|█▉        | 25/131 [00:16<01:09,  1.52it/s, avg_rmse_loss=5.63, avg_smape_loss=55.2, avg_val_mae=3.22, batch_nb=23, epoch=1, loss=1004.691, v_nb=1]"
     ]
    },
    {
     "name": "stdout",
     "output_type": "stream",
     "text": [
      "CCCC: torch.Size([6163, 1]), torch.Size([6163, 1])\n",
      "batch length: 2\n"
     ]
    },
    {
     "name": "stderr",
     "output_type": "stream",
     "text": [
      " 20%|█▉        | 26/131 [00:17<01:08,  1.52it/s, avg_rmse_loss=5.63, avg_smape_loss=55.2, avg_val_mae=3.22, batch_nb=24, epoch=1, loss=997.123, v_nb=1] "
     ]
    },
    {
     "name": "stdout",
     "output_type": "stream",
     "text": [
      "CCCC: torch.Size([6163, 1]), torch.Size([6163, 1])\n",
      "batch length: 2\n"
     ]
    },
    {
     "name": "stderr",
     "output_type": "stream",
     "text": [
      " 21%|██        | 27/131 [00:18<01:08,  1.53it/s, avg_rmse_loss=5.63, avg_smape_loss=55.2, avg_val_mae=3.22, batch_nb=25, epoch=1, loss=997.930, v_nb=1]"
     ]
    },
    {
     "name": "stdout",
     "output_type": "stream",
     "text": [
      "CCCC: torch.Size([6163, 1]), torch.Size([6163, 1])\n",
      "batch length: 2\n"
     ]
    },
    {
     "name": "stderr",
     "output_type": "stream",
     "text": [
      " 21%|██▏       | 28/131 [00:18<01:06,  1.54it/s, avg_rmse_loss=5.63, avg_smape_loss=55.2, avg_val_mae=3.22, batch_nb=26, epoch=1, loss=1001.659, v_nb=1]"
     ]
    },
    {
     "name": "stdout",
     "output_type": "stream",
     "text": [
      "CCCC: torch.Size([6163, 1]), torch.Size([6163, 1])\n",
      "batch length: 2\n"
     ]
    },
    {
     "name": "stderr",
     "output_type": "stream",
     "text": [
      " 22%|██▏       | 29/131 [00:19<01:05,  1.55it/s, avg_rmse_loss=5.63, avg_smape_loss=55.2, avg_val_mae=3.22, batch_nb=27, epoch=1, loss=1006.629, v_nb=1]"
     ]
    },
    {
     "name": "stdout",
     "output_type": "stream",
     "text": [
      "CCCC: torch.Size([6163, 1]), torch.Size([6163, 1])\n",
      "batch length: 2\n"
     ]
    },
    {
     "name": "stderr",
     "output_type": "stream",
     "text": [
      " 23%|██▎       | 30/131 [00:20<01:05,  1.55it/s, avg_rmse_loss=5.63, avg_smape_loss=55.2, avg_val_mae=3.22, batch_nb=28, epoch=1, loss=1015.062, v_nb=1]"
     ]
    },
    {
     "name": "stdout",
     "output_type": "stream",
     "text": [
      "CCCC: torch.Size([6163, 1]), torch.Size([6163, 1])\n",
      "batch length: 2\n"
     ]
    },
    {
     "name": "stderr",
     "output_type": "stream",
     "text": [
      " 24%|██▎       | 31/131 [00:20<01:04,  1.56it/s, avg_rmse_loss=5.63, avg_smape_loss=55.2, avg_val_mae=3.22, batch_nb=29, epoch=1, loss=1028.428, v_nb=1]"
     ]
    },
    {
     "name": "stdout",
     "output_type": "stream",
     "text": [
      "CCCC: torch.Size([6163, 1]), torch.Size([6163, 1])\n",
      "batch length: 2\n"
     ]
    },
    {
     "name": "stderr",
     "output_type": "stream",
     "text": [
      " 24%|██▍       | 32/131 [00:21<01:03,  1.55it/s, avg_rmse_loss=5.63, avg_smape_loss=55.2, avg_val_mae=3.22, batch_nb=30, epoch=1, loss=1038.983, v_nb=1]"
     ]
    },
    {
     "name": "stdout",
     "output_type": "stream",
     "text": [
      "CCCC: torch.Size([6163, 1]), torch.Size([6163, 1])\n",
      "batch length: 2\n"
     ]
    },
    {
     "name": "stderr",
     "output_type": "stream",
     "text": [
      " 25%|██▌       | 33/131 [00:22<01:02,  1.56it/s, avg_rmse_loss=5.63, avg_smape_loss=55.2, avg_val_mae=3.22, batch_nb=31, epoch=1, loss=1044.171, v_nb=1]"
     ]
    },
    {
     "name": "stdout",
     "output_type": "stream",
     "text": [
      "CCCC: torch.Size([6163, 1]), torch.Size([6163, 1])\n",
      "batch length: 2\n"
     ]
    },
    {
     "name": "stderr",
     "output_type": "stream",
     "text": [
      " 26%|██▌       | 34/131 [00:22<01:03,  1.54it/s, avg_rmse_loss=5.63, avg_smape_loss=55.2, avg_val_mae=3.22, batch_nb=32, epoch=1, loss=1051.814, v_nb=1]"
     ]
    },
    {
     "name": "stdout",
     "output_type": "stream",
     "text": [
      "CCCC: torch.Size([6163, 1]), torch.Size([6163, 1])\n",
      "batch length: 2\n"
     ]
    },
    {
     "name": "stderr",
     "output_type": "stream",
     "text": [
      " 27%|██▋       | 35/131 [00:23<01:02,  1.53it/s, avg_rmse_loss=5.63, avg_smape_loss=55.2, avg_val_mae=3.22, batch_nb=33, epoch=1, loss=1045.546, v_nb=1]"
     ]
    },
    {
     "name": "stdout",
     "output_type": "stream",
     "text": [
      "CCCC: torch.Size([6163, 1]), torch.Size([6163, 1])\n",
      "batch length: 2\n"
     ]
    },
    {
     "name": "stderr",
     "output_type": "stream",
     "text": [
      " 27%|██▋       | 36/131 [00:24<01:02,  1.51it/s, avg_rmse_loss=5.63, avg_smape_loss=55.2, avg_val_mae=3.22, batch_nb=34, epoch=1, loss=1032.321, v_nb=1]"
     ]
    },
    {
     "name": "stdout",
     "output_type": "stream",
     "text": [
      "CCCC: torch.Size([6163, 1]), torch.Size([6163, 1])\n",
      "batch length: 2\n"
     ]
    },
    {
     "name": "stderr",
     "output_type": "stream",
     "text": [
      " 28%|██▊       | 37/131 [00:24<01:01,  1.53it/s, avg_rmse_loss=5.63, avg_smape_loss=55.2, avg_val_mae=3.22, batch_nb=35, epoch=1, loss=1026.473, v_nb=1]"
     ]
    },
    {
     "name": "stdout",
     "output_type": "stream",
     "text": [
      "CCCC: torch.Size([6163, 1]), torch.Size([6163, 1])\n",
      "batch length: 2\n"
     ]
    },
    {
     "name": "stderr",
     "output_type": "stream",
     "text": [
      " 29%|██▉       | 38/131 [00:25<01:00,  1.54it/s, avg_rmse_loss=5.63, avg_smape_loss=55.2, avg_val_mae=3.22, batch_nb=36, epoch=1, loss=1022.054, v_nb=1]"
     ]
    },
    {
     "name": "stdout",
     "output_type": "stream",
     "text": [
      "CCCC: torch.Size([6163, 1]), torch.Size([6163, 1])\n",
      "batch length: 2\n"
     ]
    },
    {
     "name": "stderr",
     "output_type": "stream",
     "text": [
      " 30%|██▉       | 39/131 [00:26<00:58,  1.56it/s, avg_rmse_loss=5.63, avg_smape_loss=55.2, avg_val_mae=3.22, batch_nb=37, epoch=1, loss=1020.550, v_nb=1]"
     ]
    },
    {
     "name": "stdout",
     "output_type": "stream",
     "text": [
      "CCCC: torch.Size([6163, 1]), torch.Size([6163, 1])\n",
      "batch length: 2\n"
     ]
    },
    {
     "name": "stderr",
     "output_type": "stream",
     "text": [
      " 31%|███       | 40/131 [00:26<00:57,  1.58it/s, avg_rmse_loss=5.63, avg_smape_loss=55.2, avg_val_mae=3.22, batch_nb=38, epoch=1, loss=1015.742, v_nb=1]"
     ]
    },
    {
     "name": "stdout",
     "output_type": "stream",
     "text": [
      "CCCC: torch.Size([6163, 1]), torch.Size([6163, 1])\n",
      "batch length: 2\n"
     ]
    },
    {
     "name": "stderr",
     "output_type": "stream",
     "text": [
      " 31%|███▏      | 41/131 [00:27<00:56,  1.60it/s, avg_rmse_loss=5.63, avg_smape_loss=55.2, avg_val_mae=3.22, batch_nb=39, epoch=1, loss=1010.278, v_nb=1]"
     ]
    },
    {
     "name": "stdout",
     "output_type": "stream",
     "text": [
      "CCCC: torch.Size([6163, 1]), torch.Size([6163, 1])\n",
      "batch length: 2\n"
     ]
    },
    {
     "name": "stderr",
     "output_type": "stream",
     "text": [
      " 32%|███▏      | 42/131 [00:27<00:55,  1.60it/s, avg_rmse_loss=5.63, avg_smape_loss=55.2, avg_val_mae=3.22, batch_nb=40, epoch=1, loss=1001.264, v_nb=1]"
     ]
    },
    {
     "name": "stdout",
     "output_type": "stream",
     "text": [
      "CCCC: torch.Size([6163, 1]), torch.Size([6163, 1])\n",
      "batch length: 2\n"
     ]
    },
    {
     "name": "stderr",
     "output_type": "stream",
     "text": [
      " 33%|███▎      | 43/131 [00:28<00:55,  1.60it/s, avg_rmse_loss=5.63, avg_smape_loss=55.2, avg_val_mae=3.22, batch_nb=41, epoch=1, loss=988.184, v_nb=1] "
     ]
    },
    {
     "name": "stdout",
     "output_type": "stream",
     "text": [
      "CCCC: torch.Size([6163, 1]), torch.Size([6163, 1])\n",
      "batch length: 2\n"
     ]
    },
    {
     "name": "stderr",
     "output_type": "stream",
     "text": [
      " 34%|███▎      | 44/131 [00:29<00:54,  1.60it/s, avg_rmse_loss=5.63, avg_smape_loss=55.2, avg_val_mae=3.22, batch_nb=42, epoch=1, loss=979.516, v_nb=1]"
     ]
    },
    {
     "name": "stdout",
     "output_type": "stream",
     "text": [
      "CCCC: torch.Size([6163, 1]), torch.Size([6163, 1])\n",
      "batch length: 2\n"
     ]
    },
    {
     "name": "stderr",
     "output_type": "stream",
     "text": [
      " 34%|███▍      | 45/131 [00:29<00:53,  1.60it/s, avg_rmse_loss=5.63, avg_smape_loss=55.2, avg_val_mae=3.22, batch_nb=43, epoch=1, loss=968.223, v_nb=1]"
     ]
    },
    {
     "name": "stdout",
     "output_type": "stream",
     "text": [
      "CCCC: torch.Size([6163, 1]), torch.Size([6163, 1])\n",
      "batch length: 2\n"
     ]
    },
    {
     "name": "stderr",
     "output_type": "stream",
     "text": [
      " 35%|███▌      | 46/131 [00:30<00:53,  1.59it/s, avg_rmse_loss=5.63, avg_smape_loss=55.2, avg_val_mae=3.22, batch_nb=44, epoch=1, loss=968.925, v_nb=1]"
     ]
    },
    {
     "name": "stdout",
     "output_type": "stream",
     "text": [
      "CCCC: torch.Size([6163, 1]), torch.Size([6163, 1])\n",
      "batch length: 2\n"
     ]
    },
    {
     "name": "stderr",
     "output_type": "stream",
     "text": [
      " 36%|███▌      | 47/131 [00:30<00:52,  1.59it/s, avg_rmse_loss=5.63, avg_smape_loss=55.2, avg_val_mae=3.22, batch_nb=45, epoch=1, loss=974.727, v_nb=1]"
     ]
    },
    {
     "name": "stdout",
     "output_type": "stream",
     "text": [
      "CCCC: torch.Size([6163, 1]), torch.Size([6163, 1])\n",
      "batch length: 2\n"
     ]
    },
    {
     "name": "stderr",
     "output_type": "stream",
     "text": [
      " 37%|███▋      | 48/131 [00:31<00:52,  1.60it/s, avg_rmse_loss=5.63, avg_smape_loss=55.2, avg_val_mae=3.22, batch_nb=46, epoch=1, loss=976.429, v_nb=1]"
     ]
    },
    {
     "name": "stdout",
     "output_type": "stream",
     "text": [
      "CCCC: torch.Size([6163, 1]), torch.Size([6163, 1])\n",
      "batch length: 2\n"
     ]
    },
    {
     "name": "stderr",
     "output_type": "stream",
     "text": [
      " 37%|███▋      | 49/131 [00:32<00:51,  1.60it/s, avg_rmse_loss=5.63, avg_smape_loss=55.2, avg_val_mae=3.22, batch_nb=47, epoch=1, loss=980.384, v_nb=1]"
     ]
    },
    {
     "name": "stdout",
     "output_type": "stream",
     "text": [
      "CCCC: torch.Size([6163, 1]), torch.Size([6163, 1])\n",
      "batch length: 2\n"
     ]
    },
    {
     "name": "stderr",
     "output_type": "stream",
     "text": [
      " 38%|███▊      | 50/131 [00:32<00:50,  1.60it/s, avg_rmse_loss=5.63, avg_smape_loss=55.2, avg_val_mae=3.22, batch_nb=48, epoch=1, loss=980.377, v_nb=1]"
     ]
    },
    {
     "name": "stdout",
     "output_type": "stream",
     "text": [
      "CCCC: torch.Size([6163, 1]), torch.Size([6163, 1])\n",
      "batch length: 2\n"
     ]
    },
    {
     "name": "stderr",
     "output_type": "stream",
     "text": [
      " 39%|███▉      | 51/131 [00:33<00:49,  1.60it/s, avg_rmse_loss=5.63, avg_smape_loss=55.2, avg_val_mae=3.22, batch_nb=49, epoch=1, loss=982.660, v_nb=1]"
     ]
    },
    {
     "name": "stdout",
     "output_type": "stream",
     "text": [
      "CCCC: torch.Size([6163, 1]), torch.Size([6163, 1])\n",
      "batch length: 2\n"
     ]
    },
    {
     "name": "stderr",
     "output_type": "stream",
     "text": [
      " 40%|███▉      | 52/131 [00:34<00:51,  1.54it/s, avg_rmse_loss=5.63, avg_smape_loss=55.2, avg_val_mae=3.22, batch_nb=50, epoch=1, loss=982.282, v_nb=1]"
     ]
    },
    {
     "name": "stdout",
     "output_type": "stream",
     "text": [
      "CCCC: torch.Size([6163, 1]), torch.Size([6163, 1])\n",
      "batch length: 2\n"
     ]
    },
    {
     "name": "stderr",
     "output_type": "stream",
     "text": [
      " 40%|████      | 53/131 [00:34<00:50,  1.54it/s, avg_rmse_loss=5.63, avg_smape_loss=55.2, avg_val_mae=3.22, batch_nb=51, epoch=1, loss=987.679, v_nb=1]"
     ]
    },
    {
     "name": "stdout",
     "output_type": "stream",
     "text": [
      "CCCC: torch.Size([6163, 1]), torch.Size([6163, 1])\n",
      "batch length: 2\n"
     ]
    },
    {
     "name": "stderr",
     "output_type": "stream",
     "text": [
      " 41%|████      | 54/131 [00:35<00:49,  1.56it/s, avg_rmse_loss=5.63, avg_smape_loss=55.2, avg_val_mae=3.22, batch_nb=52, epoch=1, loss=997.629, v_nb=1]"
     ]
    },
    {
     "name": "stdout",
     "output_type": "stream",
     "text": [
      "CCCC: torch.Size([6163, 1]), torch.Size([6163, 1])\n",
      "batch length: 2\n"
     ]
    },
    {
     "name": "stderr",
     "output_type": "stream",
     "text": [
      " 42%|████▏     | 55/131 [00:36<00:48,  1.57it/s, avg_rmse_loss=5.63, avg_smape_loss=55.2, avg_val_mae=3.22, batch_nb=53, epoch=1, loss=1010.156, v_nb=1]"
     ]
    },
    {
     "name": "stdout",
     "output_type": "stream",
     "text": [
      "CCCC: torch.Size([6163, 1]), torch.Size([6163, 1])\n",
      "batch length: 2\n"
     ]
    },
    {
     "name": "stderr",
     "output_type": "stream",
     "text": [
      " 43%|████▎     | 56/131 [00:36<00:47,  1.59it/s, avg_rmse_loss=5.63, avg_smape_loss=55.2, avg_val_mae=3.22, batch_nb=54, epoch=1, loss=1021.073, v_nb=1]"
     ]
    },
    {
     "name": "stdout",
     "output_type": "stream",
     "text": [
      "CCCC: torch.Size([6163, 1]), torch.Size([6163, 1])\n",
      "batch length: 2\n"
     ]
    },
    {
     "name": "stderr",
     "output_type": "stream",
     "text": [
      " 44%|████▎     | 57/131 [00:37<00:46,  1.59it/s, avg_rmse_loss=5.63, avg_smape_loss=55.2, avg_val_mae=3.22, batch_nb=55, epoch=1, loss=1027.846, v_nb=1]"
     ]
    },
    {
     "name": "stdout",
     "output_type": "stream",
     "text": [
      "CCCC: torch.Size([6163, 1]), torch.Size([6163, 1])\n",
      "batch length: 2\n"
     ]
    },
    {
     "name": "stderr",
     "output_type": "stream",
     "text": [
      " 44%|████▍     | 58/131 [00:37<00:45,  1.60it/s, avg_rmse_loss=5.63, avg_smape_loss=55.2, avg_val_mae=3.22, batch_nb=56, epoch=1, loss=1035.447, v_nb=1]"
     ]
    },
    {
     "name": "stdout",
     "output_type": "stream",
     "text": [
      "CCCC: torch.Size([6163, 1]), torch.Size([6163, 1])\n",
      "batch length: 2\n"
     ]
    },
    {
     "name": "stderr",
     "output_type": "stream",
     "text": [
      " 45%|████▌     | 59/131 [00:38<00:44,  1.60it/s, avg_rmse_loss=5.63, avg_smape_loss=55.2, avg_val_mae=3.22, batch_nb=57, epoch=1, loss=1030.429, v_nb=1]"
     ]
    },
    {
     "name": "stdout",
     "output_type": "stream",
     "text": [
      "CCCC: torch.Size([6163, 1]), torch.Size([6163, 1])\n",
      "batch length: 2\n"
     ]
    },
    {
     "name": "stderr",
     "output_type": "stream",
     "text": [
      " 46%|████▌     | 60/131 [00:39<00:44,  1.60it/s, avg_rmse_loss=5.63, avg_smape_loss=55.2, avg_val_mae=3.22, batch_nb=58, epoch=1, loss=1009.421, v_nb=1]"
     ]
    },
    {
     "name": "stdout",
     "output_type": "stream",
     "text": [
      "CCCC: torch.Size([6163, 1]), torch.Size([6163, 1])\n",
      "batch length: 2\n"
     ]
    },
    {
     "name": "stderr",
     "output_type": "stream",
     "text": [
      " 47%|████▋     | 61/131 [00:39<00:44,  1.58it/s, avg_rmse_loss=5.63, avg_smape_loss=55.2, avg_val_mae=3.22, batch_nb=59, epoch=1, loss=999.251, v_nb=1] "
     ]
    },
    {
     "name": "stdout",
     "output_type": "stream",
     "text": [
      "CCCC: torch.Size([6163, 1]), torch.Size([6163, 1])\n",
      "batch length: 2\n"
     ]
    },
    {
     "name": "stderr",
     "output_type": "stream",
     "text": [
      " 47%|████▋     | 62/131 [00:40<00:43,  1.59it/s, avg_rmse_loss=5.63, avg_smape_loss=55.2, avg_val_mae=3.22, batch_nb=60, epoch=1, loss=989.231, v_nb=1]"
     ]
    },
    {
     "name": "stdout",
     "output_type": "stream",
     "text": [
      "CCCC: torch.Size([6163, 1]), torch.Size([6163, 1])\n",
      "batch length: 2\n"
     ]
    },
    {
     "name": "stderr",
     "output_type": "stream",
     "text": [
      " 48%|████▊     | 63/131 [00:41<00:42,  1.59it/s, avg_rmse_loss=5.63, avg_smape_loss=55.2, avg_val_mae=3.22, batch_nb=61, epoch=1, loss=980.130, v_nb=1]"
     ]
    },
    {
     "name": "stdout",
     "output_type": "stream",
     "text": [
      "CCCC: torch.Size([6163, 1]), torch.Size([6163, 1])\n",
      "batch length: 2\n"
     ]
    },
    {
     "name": "stderr",
     "output_type": "stream",
     "text": [
      " 49%|████▉     | 64/131 [00:41<00:41,  1.62it/s, avg_rmse_loss=5.63, avg_smape_loss=55.2, avg_val_mae=3.22, batch_nb=62, epoch=1, loss=972.987, v_nb=1]"
     ]
    },
    {
     "name": "stdout",
     "output_type": "stream",
     "text": [
      "CCCC: torch.Size([6163, 1]), torch.Size([6163, 1])\n",
      "batch length: 2\n"
     ]
    },
    {
     "name": "stderr",
     "output_type": "stream",
     "text": [
      " 50%|████▉     | 65/131 [00:42<00:40,  1.63it/s, avg_rmse_loss=5.63, avg_smape_loss=55.2, avg_val_mae=3.22, batch_nb=63, epoch=1, loss=965.643, v_nb=1]"
     ]
    },
    {
     "name": "stdout",
     "output_type": "stream",
     "text": [
      "CCCC: torch.Size([6163, 1]), torch.Size([6163, 1])\n",
      "batch length: 2\n"
     ]
    },
    {
     "name": "stderr",
     "output_type": "stream",
     "text": [
      " 50%|█████     | 66/131 [00:42<00:39,  1.65it/s, avg_rmse_loss=5.63, avg_smape_loss=55.2, avg_val_mae=3.22, batch_nb=64, epoch=1, loss=945.028, v_nb=1]"
     ]
    },
    {
     "name": "stdout",
     "output_type": "stream",
     "text": [
      "CCCC: torch.Size([6163, 1]), torch.Size([6163, 1])\n",
      "batch length: 2\n"
     ]
    },
    {
     "name": "stderr",
     "output_type": "stream",
     "text": [
      " 51%|█████     | 67/131 [00:43<00:38,  1.65it/s, avg_rmse_loss=5.63, avg_smape_loss=55.2, avg_val_mae=3.22, batch_nb=65, epoch=1, loss=933.021, v_nb=1]"
     ]
    },
    {
     "name": "stdout",
     "output_type": "stream",
     "text": [
      "CCCC: torch.Size([6163, 1]), torch.Size([6163, 1])\n",
      "batch length: 2\n"
     ]
    },
    {
     "name": "stderr",
     "output_type": "stream",
     "text": [
      " 52%|█████▏    | 68/131 [00:44<00:38,  1.65it/s, avg_rmse_loss=5.63, avg_smape_loss=55.2, avg_val_mae=3.22, batch_nb=66, epoch=1, loss=920.059, v_nb=1]"
     ]
    },
    {
     "name": "stdout",
     "output_type": "stream",
     "text": [
      "CCCC: torch.Size([6163, 1]), torch.Size([6163, 1])\n",
      "batch length: 2\n"
     ]
    },
    {
     "name": "stderr",
     "output_type": "stream",
     "text": [
      " 53%|█████▎    | 69/131 [00:44<00:37,  1.63it/s, avg_rmse_loss=5.63, avg_smape_loss=55.2, avg_val_mae=3.22, batch_nb=67, epoch=1, loss=901.179, v_nb=1]"
     ]
    },
    {
     "name": "stdout",
     "output_type": "stream",
     "text": [
      "CCCC: torch.Size([6163, 1]), torch.Size([6163, 1])\n",
      "batch length: 2\n"
     ]
    },
    {
     "name": "stderr",
     "output_type": "stream",
     "text": [
      " 53%|█████▎    | 70/131 [00:45<00:37,  1.63it/s, avg_rmse_loss=5.63, avg_smape_loss=55.2, avg_val_mae=3.22, batch_nb=68, epoch=1, loss=896.745, v_nb=1]"
     ]
    },
    {
     "name": "stdout",
     "output_type": "stream",
     "text": [
      "CCCC: torch.Size([6163, 1]), torch.Size([6163, 1])\n",
      "batch length: 2\n"
     ]
    },
    {
     "name": "stderr",
     "output_type": "stream",
     "text": [
      " 54%|█████▍    | 71/131 [00:45<00:36,  1.63it/s, avg_rmse_loss=5.63, avg_smape_loss=55.2, avg_val_mae=3.22, batch_nb=69, epoch=1, loss=905.113, v_nb=1]"
     ]
    },
    {
     "name": "stdout",
     "output_type": "stream",
     "text": [
      "CCCC: torch.Size([6163, 1]), torch.Size([6163, 1])\n",
      "batch length: 2\n"
     ]
    },
    {
     "name": "stderr",
     "output_type": "stream",
     "text": [
      " 55%|█████▍    | 72/131 [00:46<00:36,  1.60it/s, avg_rmse_loss=5.63, avg_smape_loss=55.2, avg_val_mae=3.22, batch_nb=70, epoch=1, loss=912.294, v_nb=1]"
     ]
    },
    {
     "name": "stdout",
     "output_type": "stream",
     "text": [
      "CCCC: torch.Size([6163, 1]), torch.Size([6163, 1])\n",
      "batch length: 2\n"
     ]
    },
    {
     "name": "stderr",
     "output_type": "stream",
     "text": [
      " 56%|█████▌    | 73/131 [00:47<00:36,  1.61it/s, avg_rmse_loss=5.63, avg_smape_loss=55.2, avg_val_mae=3.22, batch_nb=71, epoch=1, loss=916.702, v_nb=1]"
     ]
    },
    {
     "name": "stdout",
     "output_type": "stream",
     "text": [
      "CCCC: torch.Size([6163, 1]), torch.Size([6163, 1])\n",
      "batch length: 2\n"
     ]
    },
    {
     "name": "stderr",
     "output_type": "stream",
     "text": [
      " 56%|█████▋    | 74/131 [00:47<00:36,  1.58it/s, avg_rmse_loss=5.63, avg_smape_loss=55.2, avg_val_mae=3.22, batch_nb=72, epoch=1, loss=920.111, v_nb=1]"
     ]
    },
    {
     "name": "stdout",
     "output_type": "stream",
     "text": [
      "CCCC: torch.Size([6163, 1]), torch.Size([6163, 1])\n",
      "batch length: 2\n"
     ]
    },
    {
     "name": "stderr",
     "output_type": "stream",
     "text": [
      " 57%|█████▋    | 75/131 [00:48<00:35,  1.56it/s, avg_rmse_loss=5.63, avg_smape_loss=55.2, avg_val_mae=3.22, batch_nb=73, epoch=1, loss=920.399, v_nb=1]"
     ]
    },
    {
     "name": "stdout",
     "output_type": "stream",
     "text": [
      "CCCC: torch.Size([6163, 1]), torch.Size([6163, 1])\n",
      "batch length: 2\n"
     ]
    },
    {
     "name": "stderr",
     "output_type": "stream",
     "text": [
      " 58%|█████▊    | 76/131 [00:49<00:34,  1.57it/s, avg_rmse_loss=5.63, avg_smape_loss=55.2, avg_val_mae=3.22, batch_nb=74, epoch=1, loss=921.881, v_nb=1]"
     ]
    },
    {
     "name": "stdout",
     "output_type": "stream",
     "text": [
      "CCCC: torch.Size([6163, 1]), torch.Size([6163, 1])\n",
      "batch length: 2\n"
     ]
    },
    {
     "name": "stderr",
     "output_type": "stream",
     "text": [
      " 59%|█████▉    | 77/131 [00:49<00:34,  1.57it/s, avg_rmse_loss=5.63, avg_smape_loss=55.2, avg_val_mae=3.22, batch_nb=75, epoch=1, loss=934.228, v_nb=1]"
     ]
    },
    {
     "name": "stdout",
     "output_type": "stream",
     "text": [
      "CCCC: torch.Size([6163, 1]), torch.Size([6163, 1])\n",
      "batch length: 2\n"
     ]
    },
    {
     "name": "stderr",
     "output_type": "stream",
     "text": [
      " 60%|█████▉    | 78/131 [00:50<00:33,  1.56it/s, avg_rmse_loss=5.63, avg_smape_loss=55.2, avg_val_mae=3.22, batch_nb=76, epoch=1, loss=942.753, v_nb=1]"
     ]
    },
    {
     "name": "stdout",
     "output_type": "stream",
     "text": [
      "CCCC: torch.Size([6163, 1]), torch.Size([6163, 1])\n",
      "batch length: 2\n"
     ]
    },
    {
     "name": "stderr",
     "output_type": "stream",
     "text": [
      " 60%|██████    | 79/131 [00:51<00:33,  1.55it/s, avg_rmse_loss=5.63, avg_smape_loss=55.2, avg_val_mae=3.22, batch_nb=77, epoch=1, loss=955.735, v_nb=1]"
     ]
    },
    {
     "name": "stdout",
     "output_type": "stream",
     "text": [
      "CCCC: torch.Size([6163, 1]), torch.Size([6163, 1])\n",
      "batch length: 2\n"
     ]
    },
    {
     "name": "stderr",
     "output_type": "stream",
     "text": [
      "\r",
      " 60%|██████    | 79/131 [00:51<00:33,  1.55it/s, avg_rmse_loss=5.63, avg_smape_loss=55.2, avg_val_mae=3.22, batch_nb=78, epoch=1, loss=969.743, v_nb=1]"
     ]
    },
    {
     "name": "stdout",
     "output_type": "stream",
     "text": [
      "CCCC: torch.Size([6163, 1]), torch.Size([6163, 1])\n"
     ]
    },
    {
     "name": "stderr",
     "output_type": "stream",
     "text": [
      "\r",
      " 61%|██████    | 80/131 [00:52<00:36,  1.38it/s, avg_rmse_loss=5.63, avg_smape_loss=55.2, avg_val_mae=3.22, batch_nb=78, epoch=1, loss=969.743, v_nb=1]"
     ]
    },
    {
     "name": "stdout",
     "output_type": "stream",
     "text": [
      "batch length: 2\n"
     ]
    },
    {
     "name": "stderr",
     "output_type": "stream",
     "text": [
      " 62%|██████▏   | 81/131 [00:52<00:37,  1.34it/s, avg_rmse_loss=5.63, avg_smape_loss=55.2, avg_val_mae=3.22, batch_nb=79, epoch=1, loss=979.657, v_nb=1]"
     ]
    },
    {
     "name": "stdout",
     "output_type": "stream",
     "text": [
      "CCCC: torch.Size([6163, 1]), torch.Size([6163, 1])\n",
      "batch length: 2\n"
     ]
    },
    {
     "name": "stderr",
     "output_type": "stream",
     "text": [
      " 63%|██████▎   | 82/131 [00:53<00:35,  1.38it/s, avg_rmse_loss=5.63, avg_smape_loss=55.2, avg_val_mae=3.22, batch_nb=80, epoch=1, loss=985.434, v_nb=1]"
     ]
    },
    {
     "name": "stdout",
     "output_type": "stream",
     "text": [
      "CCCC: torch.Size([6163, 1]), torch.Size([6163, 1])\n",
      "batch length: 2\n"
     ]
    },
    {
     "name": "stderr",
     "output_type": "stream",
     "text": [
      "\r",
      " 63%|██████▎   | 82/131 [00:54<00:35,  1.38it/s, avg_rmse_loss=5.63, avg_smape_loss=55.2, avg_val_mae=3.22, batch_nb=81, epoch=1, loss=984.577, v_nb=1]"
     ]
    },
    {
     "name": "stdout",
     "output_type": "stream",
     "text": [
      "CCCC: torch.Size([6163, 1]), torch.Size([6163, 1])\n"
     ]
    },
    {
     "name": "stderr",
     "output_type": "stream",
     "text": [
      "\r",
      " 63%|██████▎   | 83/131 [00:54<00:35,  1.36it/s, avg_rmse_loss=5.63, avg_smape_loss=55.2, avg_val_mae=3.22, batch_nb=81, epoch=1, loss=984.577, v_nb=1]"
     ]
    },
    {
     "name": "stdout",
     "output_type": "stream",
     "text": [
      "batch length: 2\n",
      "CCCC: torch.Size([6163, 1]), torch.Size([6163, 1])\n"
     ]
    },
    {
     "name": "stderr",
     "output_type": "stream",
     "text": [
      " 64%|██████▍   | 84/131 [00:55<00:37,  1.24it/s, avg_rmse_loss=5.63, avg_smape_loss=55.2, avg_val_mae=3.22, batch_nb=82, epoch=1, loss=983.715, v_nb=1]"
     ]
    },
    {
     "name": "stdout",
     "output_type": "stream",
     "text": [
      "batch length: 2\n"
     ]
    },
    {
     "name": "stderr",
     "output_type": "stream",
     "text": [
      " 65%|██████▍   | 85/131 [00:56<00:42,  1.07it/s, avg_rmse_loss=5.63, avg_smape_loss=55.2, avg_val_mae=3.22, batch_nb=83, epoch=1, loss=983.267, v_nb=1]"
     ]
    },
    {
     "name": "stdout",
     "output_type": "stream",
     "text": [
      "CCCC: torch.Size([6163, 1]), torch.Size([6163, 1])\n",
      "batch length: 2\n"
     ]
    },
    {
     "name": "stderr",
     "output_type": "stream",
     "text": [
      " 66%|██████▌   | 86/131 [00:57<00:40,  1.11it/s, avg_rmse_loss=5.63, avg_smape_loss=55.2, avg_val_mae=3.22, batch_nb=84, epoch=1, loss=982.338, v_nb=1]"
     ]
    },
    {
     "name": "stdout",
     "output_type": "stream",
     "text": [
      "CCCC: torch.Size([6163, 1]), torch.Size([6163, 1])\n",
      "batch length: 2\n"
     ]
    },
    {
     "name": "stderr",
     "output_type": "stream",
     "text": [
      " 66%|██████▋   | 87/131 [00:58<00:38,  1.15it/s, avg_rmse_loss=5.63, avg_smape_loss=55.2, avg_val_mae=3.22, batch_nb=85, epoch=1, loss=981.433, v_nb=1]"
     ]
    },
    {
     "name": "stdout",
     "output_type": "stream",
     "text": [
      "CCCC: torch.Size([6163, 1]), torch.Size([6163, 1])\n",
      "batch length: 2\n"
     ]
    },
    {
     "name": "stderr",
     "output_type": "stream",
     "text": [
      " 67%|██████▋   | 88/131 [00:58<00:35,  1.22it/s, avg_rmse_loss=5.63, avg_smape_loss=55.2, avg_val_mae=3.22, batch_nb=86, epoch=1, loss=980.153, v_nb=1]"
     ]
    },
    {
     "name": "stdout",
     "output_type": "stream",
     "text": [
      "CCCC: torch.Size([6163, 1]), torch.Size([6163, 1])\n",
      "batch length: 2\n"
     ]
    },
    {
     "name": "stderr",
     "output_type": "stream",
     "text": [
      " 68%|██████▊   | 89/131 [00:59<00:33,  1.25it/s, avg_rmse_loss=5.63, avg_smape_loss=55.2, avg_val_mae=3.22, batch_nb=87, epoch=1, loss=975.145, v_nb=1]"
     ]
    },
    {
     "name": "stdout",
     "output_type": "stream",
     "text": [
      "CCCC: torch.Size([6163, 1]), torch.Size([6163, 1])\n",
      "batch length: 2\n"
     ]
    },
    {
     "name": "stderr",
     "output_type": "stream",
     "text": [
      " 69%|██████▊   | 90/131 [01:00<00:31,  1.30it/s, avg_rmse_loss=5.63, avg_smape_loss=55.2, avg_val_mae=3.22, batch_nb=88, epoch=1, loss=970.796, v_nb=1]"
     ]
    },
    {
     "name": "stdout",
     "output_type": "stream",
     "text": [
      "CCCC: torch.Size([6163, 1]), torch.Size([6163, 1])\n",
      "batch length: 2\n"
     ]
    },
    {
     "name": "stderr",
     "output_type": "stream",
     "text": [
      " 69%|██████▉   | 91/131 [01:01<00:31,  1.28it/s, avg_rmse_loss=5.63, avg_smape_loss=55.2, avg_val_mae=3.22, batch_nb=89, epoch=1, loss=969.590, v_nb=1]"
     ]
    },
    {
     "name": "stdout",
     "output_type": "stream",
     "text": [
      "CCCC: torch.Size([6163, 1]), torch.Size([6163, 1])\n",
      "batch length: 2\n"
     ]
    },
    {
     "name": "stderr",
     "output_type": "stream",
     "text": [
      " 70%|███████   | 92/131 [01:01<00:32,  1.19it/s, avg_rmse_loss=5.63, avg_smape_loss=55.2, avg_val_mae=3.22, batch_nb=90, epoch=1, loss=971.717, v_nb=1]"
     ]
    },
    {
     "name": "stdout",
     "output_type": "stream",
     "text": [
      "CCCC: torch.Size([6163, 1]), torch.Size([6163, 1])\n",
      "batch length: 2\n"
     ]
    },
    {
     "name": "stderr",
     "output_type": "stream",
     "text": [
      " 71%|███████   | 93/131 [01:02<00:27,  1.38it/s, avg_rmse_loss=5.63, avg_smape_loss=55.2, avg_val_mae=3.22, batch_nb=91, epoch=1, loss=977.886, v_nb=1]"
     ]
    },
    {
     "name": "stdout",
     "output_type": "stream",
     "text": [
      "CCCC: torch.Size([4000, 1]), torch.Size([4000, 1])\n",
      "batch length: 2\n"
     ]
    },
    {
     "name": "stderr",
     "output_type": "stream",
     "text": [
      " 72%|███████▏  | 94/131 [01:03<00:25,  1.44it/s, avg_rmse_loss=5.63, avg_smape_loss=55.2, avg_val_mae=3.22, batch_nb=92, epoch=1, loss=983.344, v_nb=1]"
     ]
    },
    {
     "name": "stdout",
     "output_type": "stream",
     "text": [
      "CCCC: torch.Size([4000, 1]), torch.Size([4000, 1])\n",
      "batch length: 2\n"
     ]
    },
    {
     "name": "stderr",
     "output_type": "stream",
     "text": [
      " 73%|███████▎  | 95/131 [01:03<00:22,  1.60it/s, avg_rmse_loss=5.63, avg_smape_loss=55.2, avg_val_mae=3.22, batch_nb=93, epoch=1, loss=990.466, v_nb=1]"
     ]
    },
    {
     "name": "stdout",
     "output_type": "stream",
     "text": [
      "CCCC: torch.Size([4000, 1]), torch.Size([4000, 1])\n",
      "batch length: 2\n"
     ]
    },
    {
     "name": "stderr",
     "output_type": "stream",
     "text": [
      " 73%|███████▎  | 96/131 [01:03<00:19,  1.78it/s, avg_rmse_loss=5.63, avg_smape_loss=55.2, avg_val_mae=3.22, batch_nb=94, epoch=1, loss=997.387, v_nb=1]"
     ]
    },
    {
     "name": "stdout",
     "output_type": "stream",
     "text": [
      "CCCC: torch.Size([4000, 1]), torch.Size([4000, 1])\n",
      "batch length: 2\n"
     ]
    },
    {
     "name": "stderr",
     "output_type": "stream",
     "text": [
      " 74%|███████▍  | 97/131 [01:04<00:17,  1.93it/s, avg_rmse_loss=5.63, avg_smape_loss=55.2, avg_val_mae=3.22, batch_nb=95, epoch=1, loss=1001.331, v_nb=1]"
     ]
    },
    {
     "name": "stdout",
     "output_type": "stream",
     "text": [
      "CCCC: torch.Size([4000, 1]), torch.Size([4000, 1])\n",
      "batch length: 2\n"
     ]
    },
    {
     "name": "stderr",
     "output_type": "stream",
     "text": [
      " 75%|███████▍  | 98/131 [01:04<00:16,  2.04it/s, avg_rmse_loss=5.63, avg_smape_loss=55.2, avg_val_mae=3.22, batch_nb=96, epoch=1, loss=1003.247, v_nb=1]"
     ]
    },
    {
     "name": "stdout",
     "output_type": "stream",
     "text": [
      "CCCC: torch.Size([4000, 1]), torch.Size([4000, 1])\n",
      "batch length: 2\n"
     ]
    },
    {
     "name": "stderr",
     "output_type": "stream",
     "text": [
      " 76%|███████▌  | 99/131 [01:05<00:14,  2.14it/s, avg_rmse_loss=5.63, avg_smape_loss=55.2, avg_val_mae=3.22, batch_nb=97, epoch=1, loss=1005.060, v_nb=1]"
     ]
    },
    {
     "name": "stdout",
     "output_type": "stream",
     "text": [
      "CCCC: torch.Size([4000, 1]), torch.Size([4000, 1])\n",
      "batch length: 2\n"
     ]
    },
    {
     "name": "stderr",
     "output_type": "stream",
     "text": [
      " 76%|███████▋  | 100/131 [01:05<00:13,  2.22it/s, avg_rmse_loss=5.63, avg_smape_loss=55.2, avg_val_mae=3.22, batch_nb=98, epoch=1, loss=1009.336, v_nb=1]"
     ]
    },
    {
     "name": "stdout",
     "output_type": "stream",
     "text": [
      "CCCC: torch.Size([4000, 1]), torch.Size([4000, 1])\n",
      "batch length: 2\n"
     ]
    },
    {
     "name": "stderr",
     "output_type": "stream",
     "text": [
      " 77%|███████▋  | 101/131 [01:06<00:13,  2.27it/s, avg_rmse_loss=5.63, avg_smape_loss=55.2, avg_val_mae=3.22, batch_nb=99, epoch=1, loss=1010.104, v_nb=1]"
     ]
    },
    {
     "name": "stdout",
     "output_type": "stream",
     "text": [
      "CCCC: torch.Size([4000, 1]), torch.Size([4000, 1])\n",
      "batch length: 2\n"
     ]
    },
    {
     "name": "stderr",
     "output_type": "stream",
     "text": [
      " 78%|███████▊  | 102/131 [01:06<00:12,  2.30it/s, avg_rmse_loss=5.63, avg_smape_loss=55.2, avg_val_mae=3.22, batch_nb=100, epoch=1, loss=992.970, v_nb=1]"
     ]
    },
    {
     "name": "stdout",
     "output_type": "stream",
     "text": [
      "CCCC: torch.Size([4000, 1]), torch.Size([4000, 1])\n",
      "batch length: 2\n"
     ]
    },
    {
     "name": "stderr",
     "output_type": "stream",
     "text": [
      " 79%|███████▊  | 103/131 [01:06<00:12,  2.30it/s, avg_rmse_loss=5.63, avg_smape_loss=55.2, avg_val_mae=3.22, batch_nb=101, epoch=1, loss=974.707, v_nb=1]"
     ]
    },
    {
     "name": "stdout",
     "output_type": "stream",
     "text": [
      "CCCC: torch.Size([4000, 1]), torch.Size([4000, 1])\n",
      "batch length: 2\n"
     ]
    },
    {
     "name": "stderr",
     "output_type": "stream",
     "text": [
      " 79%|███████▉  | 104/131 [01:07<00:11,  2.35it/s, avg_rmse_loss=5.63, avg_smape_loss=55.2, avg_val_mae=3.22, batch_nb=102, epoch=1, loss=956.875, v_nb=1]"
     ]
    },
    {
     "name": "stdout",
     "output_type": "stream",
     "text": [
      "CCCC: torch.Size([4000, 1]), torch.Size([4000, 1])\n",
      "batch length: 2\n"
     ]
    },
    {
     "name": "stderr",
     "output_type": "stream",
     "text": [
      " 80%|████████  | 105/131 [01:07<00:11,  2.36it/s, avg_rmse_loss=5.63, avg_smape_loss=55.2, avg_val_mae=3.22, batch_nb=103, epoch=1, loss=941.246, v_nb=1]"
     ]
    },
    {
     "name": "stdout",
     "output_type": "stream",
     "text": [
      "CCCC: torch.Size([4000, 1]), torch.Size([4000, 1])\n",
      "batch length: 2\n"
     ]
    },
    {
     "name": "stderr",
     "output_type": "stream",
     "text": [
      " 81%|████████  | 106/131 [01:08<00:10,  2.39it/s, avg_rmse_loss=5.63, avg_smape_loss=55.2, avg_val_mae=3.22, batch_nb=104, epoch=1, loss=916.316, v_nb=1]"
     ]
    },
    {
     "name": "stdout",
     "output_type": "stream",
     "text": [
      "CCCC: torch.Size([4000, 1]), torch.Size([4000, 1])\n",
      "batch length: 2\n"
     ]
    },
    {
     "name": "stderr",
     "output_type": "stream",
     "text": [
      " 82%|████████▏ | 107/131 [01:08<00:09,  2.41it/s, avg_rmse_loss=5.63, avg_smape_loss=55.2, avg_val_mae=3.22, batch_nb=105, epoch=1, loss=896.819, v_nb=1]"
     ]
    },
    {
     "name": "stdout",
     "output_type": "stream",
     "text": [
      "CCCC: torch.Size([4000, 1]), torch.Size([4000, 1])\n",
      "batch length: 2\n"
     ]
    },
    {
     "name": "stderr",
     "output_type": "stream",
     "text": [
      " 82%|████████▏ | 108/131 [01:08<00:09,  2.46it/s, avg_rmse_loss=5.63, avg_smape_loss=55.2, avg_val_mae=3.22, batch_nb=106, epoch=1, loss=876.270, v_nb=1]"
     ]
    },
    {
     "name": "stdout",
     "output_type": "stream",
     "text": [
      "CCCC: torch.Size([4000, 1]), torch.Size([4000, 1])\n",
      "batch length: 2\n"
     ]
    },
    {
     "name": "stderr",
     "output_type": "stream",
     "text": [
      " 83%|████████▎ | 109/131 [01:09<00:08,  2.50it/s, avg_rmse_loss=5.63, avg_smape_loss=55.2, avg_val_mae=3.22, batch_nb=107, epoch=1, loss=858.005, v_nb=1]"
     ]
    },
    {
     "name": "stdout",
     "output_type": "stream",
     "text": [
      "CCCC: torch.Size([4000, 1]), torch.Size([4000, 1])\n",
      "batch length: 2\n"
     ]
    },
    {
     "name": "stderr",
     "output_type": "stream",
     "text": [
      " 84%|████████▍ | 110/131 [01:09<00:08,  2.50it/s, avg_rmse_loss=5.63, avg_smape_loss=55.2, avg_val_mae=3.22, batch_nb=108, epoch=1, loss=840.849, v_nb=1]"
     ]
    },
    {
     "name": "stdout",
     "output_type": "stream",
     "text": [
      "CCCC: torch.Size([4000, 1]), torch.Size([4000, 1])\n",
      "batch length: 2\n"
     ]
    },
    {
     "name": "stderr",
     "output_type": "stream",
     "text": [
      " 85%|████████▍ | 111/131 [01:10<00:07,  2.50it/s, avg_rmse_loss=5.63, avg_smape_loss=55.2, avg_val_mae=3.22, batch_nb=109, epoch=1, loss=828.873, v_nb=1]"
     ]
    },
    {
     "name": "stdout",
     "output_type": "stream",
     "text": [
      "CCCC: torch.Size([4000, 1]), torch.Size([4000, 1])\n",
      "batch length: 2\n"
     ]
    },
    {
     "name": "stderr",
     "output_type": "stream",
     "text": [
      "\r",
      " 85%|████████▍ | 111/131 [01:10<00:07,  2.50it/s, avg_rmse_loss=5.63, avg_smape_loss=55.2, avg_val_mae=3.22, batch_nb=110, epoch=1, loss=821.703, v_nb=1]"
     ]
    },
    {
     "name": "stdout",
     "output_type": "stream",
     "text": [
      "CCCC: torch.Size([4000, 1]), torch.Size([4000, 1])\n"
     ]
    },
    {
     "name": "stderr",
     "output_type": "stream",
     "text": [
      "  0%|          | 0/131 [00:00<00:31,  4.15it/s, avg_rmse_loss=5.52, avg_smape_loss=55, avg_val_mae=3.08, batch_nb=110, epoch=1, loss=821.703, v_nb=1]    "
     ]
    },
    {
     "name": "stdout",
     "output_type": "stream",
     "text": [
      "batch length: 2\n"
     ]
    },
    {
     "name": "stderr",
     "output_type": "stream",
     "text": [
      "  2%|▏         | 2/131 [00:00<00:34,  3.77it/s, avg_rmse_loss=5.52, avg_smape_loss=55, avg_val_mae=3.08, batch_nb=0, epoch=2, loss=828.063, v_nb=1]  "
     ]
    },
    {
     "name": "stdout",
     "output_type": "stream",
     "text": [
      "CCCC: torch.Size([6163, 1]), torch.Size([6163, 1])\n",
      "batch length: 2\n"
     ]
    },
    {
     "name": "stderr",
     "output_type": "stream",
     "text": [
      "  2%|▏         | 3/131 [00:01<00:47,  2.71it/s, avg_rmse_loss=5.52, avg_smape_loss=55, avg_val_mae=3.08, batch_nb=1, epoch=2, loss=839.396, v_nb=1]"
     ]
    },
    {
     "name": "stdout",
     "output_type": "stream",
     "text": [
      "CCCC: torch.Size([6163, 1]), torch.Size([6163, 1])\n",
      "batch length: 2\n"
     ]
    },
    {
     "name": "stderr",
     "output_type": "stream",
     "text": [
      "  3%|▎         | 4/131 [00:01<00:56,  2.24it/s, avg_rmse_loss=5.52, avg_smape_loss=55, avg_val_mae=3.08, batch_nb=2, epoch=2, loss=850.441, v_nb=1]"
     ]
    },
    {
     "name": "stdout",
     "output_type": "stream",
     "text": [
      "CCCC: torch.Size([6163, 1]), torch.Size([6163, 1])\n",
      "batch length: 2\n"
     ]
    },
    {
     "name": "stderr",
     "output_type": "stream",
     "text": [
      "  4%|▍         | 5/131 [00:02<01:04,  1.96it/s, avg_rmse_loss=5.52, avg_smape_loss=55, avg_val_mae=3.08, batch_nb=3, epoch=2, loss=863.170, v_nb=1]"
     ]
    },
    {
     "name": "stdout",
     "output_type": "stream",
     "text": [
      "CCCC: torch.Size([6163, 1]), torch.Size([6163, 1])\n",
      "batch length: 2\n"
     ]
    },
    {
     "name": "stderr",
     "output_type": "stream",
     "text": [
      "  5%|▍         | 6/131 [00:03<01:09,  1.81it/s, avg_rmse_loss=5.52, avg_smape_loss=55, avg_val_mae=3.08, batch_nb=4, epoch=2, loss=882.687, v_nb=1]"
     ]
    },
    {
     "name": "stdout",
     "output_type": "stream",
     "text": [
      "CCCC: torch.Size([6163, 1]), torch.Size([6163, 1])\n",
      "batch length: 2\n"
     ]
    },
    {
     "name": "stderr",
     "output_type": "stream",
     "text": [
      "  5%|▌         | 7/131 [00:03<01:14,  1.66it/s, avg_rmse_loss=5.52, avg_smape_loss=55, avg_val_mae=3.08, batch_nb=5, epoch=2, loss=896.654, v_nb=1]"
     ]
    },
    {
     "name": "stdout",
     "output_type": "stream",
     "text": [
      "CCCC: torch.Size([6163, 1]), torch.Size([6163, 1])\n",
      "batch length: 2\n"
     ]
    },
    {
     "name": "stderr",
     "output_type": "stream",
     "text": [
      "  6%|▌         | 8/131 [00:04<01:22,  1.50it/s, avg_rmse_loss=5.52, avg_smape_loss=55, avg_val_mae=3.08, batch_nb=6, epoch=2, loss=916.895, v_nb=1]"
     ]
    },
    {
     "name": "stdout",
     "output_type": "stream",
     "text": [
      "CCCC: torch.Size([6163, 1]), torch.Size([6163, 1])\n",
      "batch length: 2\n"
     ]
    },
    {
     "name": "stderr",
     "output_type": "stream",
     "text": [
      "  7%|▋         | 9/131 [00:05<01:22,  1.48it/s, avg_rmse_loss=5.52, avg_smape_loss=55, avg_val_mae=3.08, batch_nb=7, epoch=2, loss=929.574, v_nb=1]"
     ]
    },
    {
     "name": "stdout",
     "output_type": "stream",
     "text": [
      "CCCC: torch.Size([6163, 1]), torch.Size([6163, 1])\n",
      "batch length: 2\n"
     ]
    },
    {
     "name": "stderr",
     "output_type": "stream",
     "text": [
      "  8%|▊         | 10/131 [00:06<01:19,  1.52it/s, avg_rmse_loss=5.52, avg_smape_loss=55, avg_val_mae=3.08, batch_nb=8, epoch=2, loss=943.122, v_nb=1]"
     ]
    },
    {
     "name": "stdout",
     "output_type": "stream",
     "text": [
      "CCCC: torch.Size([6163, 1]), torch.Size([6163, 1])\n",
      "batch length: 2\n"
     ]
    },
    {
     "name": "stderr",
     "output_type": "stream",
     "text": [
      "  8%|▊         | 11/131 [00:06<01:18,  1.52it/s, avg_rmse_loss=5.52, avg_smape_loss=55, avg_val_mae=3.08, batch_nb=9, epoch=2, loss=945.289, v_nb=1]"
     ]
    },
    {
     "name": "stdout",
     "output_type": "stream",
     "text": [
      "CCCC: torch.Size([6163, 1]), torch.Size([6163, 1])\n",
      "batch length: 2\n"
     ]
    },
    {
     "name": "stderr",
     "output_type": "stream",
     "text": [
      "  9%|▉         | 12/131 [00:07<01:18,  1.52it/s, avg_rmse_loss=5.52, avg_smape_loss=55, avg_val_mae=3.08, batch_nb=10, epoch=2, loss=940.573, v_nb=1]"
     ]
    },
    {
     "name": "stdout",
     "output_type": "stream",
     "text": [
      "CCCC: torch.Size([6163, 1]), torch.Size([6163, 1])\n",
      "batch length: 2\n"
     ]
    },
    {
     "name": "stderr",
     "output_type": "stream",
     "text": [
      " 10%|▉         | 13/131 [00:08<01:19,  1.49it/s, avg_rmse_loss=5.52, avg_smape_loss=55, avg_val_mae=3.08, batch_nb=11, epoch=2, loss=933.956, v_nb=1]"
     ]
    },
    {
     "name": "stdout",
     "output_type": "stream",
     "text": [
      "CCCC: torch.Size([6163, 1]), torch.Size([6163, 1])\n",
      "batch length: 2\n"
     ]
    },
    {
     "name": "stderr",
     "output_type": "stream",
     "text": [
      " 11%|█         | 14/131 [00:09<01:32,  1.26it/s, avg_rmse_loss=5.52, avg_smape_loss=55, avg_val_mae=3.08, batch_nb=12, epoch=2, loss=925.504, v_nb=1]"
     ]
    },
    {
     "name": "stdout",
     "output_type": "stream",
     "text": [
      "CCCC: torch.Size([6163, 1]), torch.Size([6163, 1])\n",
      "batch length: 2\n",
      "CCCC: torch.Size([6163, 1]), torch.Size([6163, 1])\n"
     ]
    },
    {
     "name": "stderr",
     "output_type": "stream",
     "text": [
      " 11%|█▏        | 15/131 [00:10<01:36,  1.21it/s, avg_rmse_loss=5.52, avg_smape_loss=55, avg_val_mae=3.08, batch_nb=13, epoch=2, loss=928.859, v_nb=1]"
     ]
    },
    {
     "name": "stdout",
     "output_type": "stream",
     "text": [
      "batch length: 2\n"
     ]
    },
    {
     "name": "stderr",
     "output_type": "stream",
     "text": [
      " 12%|█▏        | 16/131 [00:10<01:31,  1.26it/s, avg_rmse_loss=5.52, avg_smape_loss=55, avg_val_mae=3.08, batch_nb=14, epoch=2, loss=923.275, v_nb=1]"
     ]
    },
    {
     "name": "stdout",
     "output_type": "stream",
     "text": [
      "CCCC: torch.Size([6163, 1]), torch.Size([6163, 1])\n",
      "batch length: 2\n"
     ]
    },
    {
     "name": "stderr",
     "output_type": "stream",
     "text": [
      " 13%|█▎        | 17/131 [00:11<01:27,  1.31it/s, avg_rmse_loss=5.52, avg_smape_loss=55, avg_val_mae=3.08, batch_nb=15, epoch=2, loss=916.662, v_nb=1]"
     ]
    },
    {
     "name": "stdout",
     "output_type": "stream",
     "text": [
      "CCCC: torch.Size([6163, 1]), torch.Size([6163, 1])\n",
      "batch length: 2\n"
     ]
    },
    {
     "name": "stderr",
     "output_type": "stream",
     "text": [
      " 14%|█▎        | 18/131 [00:12<01:24,  1.34it/s, avg_rmse_loss=5.52, avg_smape_loss=55, avg_val_mae=3.08, batch_nb=16, epoch=2, loss=908.645, v_nb=1]"
     ]
    },
    {
     "name": "stdout",
     "output_type": "stream",
     "text": [
      "CCCC: torch.Size([6163, 1]), torch.Size([6163, 1])\n",
      "batch length: 2\n"
     ]
    },
    {
     "name": "stderr",
     "output_type": "stream",
     "text": [
      " 15%|█▍        | 19/131 [00:12<01:22,  1.35it/s, avg_rmse_loss=5.52, avg_smape_loss=55, avg_val_mae=3.08, batch_nb=17, epoch=2, loss=896.459, v_nb=1]"
     ]
    },
    {
     "name": "stdout",
     "output_type": "stream",
     "text": [
      "CCCC: torch.Size([6163, 1]), torch.Size([6163, 1])\n",
      "batch length: 2\n"
     ]
    },
    {
     "name": "stderr",
     "output_type": "stream",
     "text": [
      " 15%|█▌        | 20/131 [00:13<01:25,  1.30it/s, avg_rmse_loss=5.52, avg_smape_loss=55, avg_val_mae=3.08, batch_nb=18, epoch=2, loss=887.230, v_nb=1]"
     ]
    },
    {
     "name": "stdout",
     "output_type": "stream",
     "text": [
      "CCCC: torch.Size([6163, 1]), torch.Size([6163, 1])\n",
      "batch length: 2\n"
     ]
    },
    {
     "name": "stderr",
     "output_type": "stream",
     "text": [
      " 16%|█▌        | 21/131 [00:14<01:22,  1.33it/s, avg_rmse_loss=5.52, avg_smape_loss=55, avg_val_mae=3.08, batch_nb=19, epoch=2, loss=880.083, v_nb=1]"
     ]
    },
    {
     "name": "stdout",
     "output_type": "stream",
     "text": [
      "CCCC: torch.Size([6163, 1]), torch.Size([6163, 1])\n",
      "batch length: 2\n"
     ]
    },
    {
     "name": "stderr",
     "output_type": "stream",
     "text": [
      " 17%|█▋        | 22/131 [00:15<01:20,  1.36it/s, avg_rmse_loss=5.52, avg_smape_loss=55, avg_val_mae=3.08, batch_nb=20, epoch=2, loss=878.640, v_nb=1]"
     ]
    },
    {
     "name": "stdout",
     "output_type": "stream",
     "text": [
      "CCCC: torch.Size([6163, 1]), torch.Size([6163, 1])\n",
      "batch length: 2\n"
     ]
    },
    {
     "name": "stderr",
     "output_type": "stream",
     "text": [
      " 18%|█▊        | 23/131 [00:15<01:18,  1.37it/s, avg_rmse_loss=5.52, avg_smape_loss=55, avg_val_mae=3.08, batch_nb=21, epoch=2, loss=880.776, v_nb=1]"
     ]
    },
    {
     "name": "stdout",
     "output_type": "stream",
     "text": [
      "CCCC: torch.Size([6163, 1]), torch.Size([6163, 1])\n",
      "batch length: 2\n"
     ]
    },
    {
     "name": "stderr",
     "output_type": "stream",
     "text": [
      " 18%|█▊        | 24/131 [00:16<01:17,  1.38it/s, avg_rmse_loss=5.52, avg_smape_loss=55, avg_val_mae=3.08, batch_nb=22, epoch=2, loss=888.232, v_nb=1]"
     ]
    },
    {
     "name": "stdout",
     "output_type": "stream",
     "text": [
      "CCCC: torch.Size([6163, 1]), torch.Size([6163, 1])\n",
      "batch length: 2\n"
     ]
    },
    {
     "name": "stderr",
     "output_type": "stream",
     "text": [
      " 19%|█▉        | 25/131 [00:17<01:18,  1.35it/s, avg_rmse_loss=5.52, avg_smape_loss=55, avg_val_mae=3.08, batch_nb=23, epoch=2, loss=893.953, v_nb=1]"
     ]
    },
    {
     "name": "stdout",
     "output_type": "stream",
     "text": [
      "CCCC: torch.Size([6163, 1]), torch.Size([6163, 1])\n",
      "batch length: 2\n"
     ]
    },
    {
     "name": "stderr",
     "output_type": "stream",
     "text": [
      " 20%|█▉        | 26/131 [00:18<01:19,  1.32it/s, avg_rmse_loss=5.52, avg_smape_loss=55, avg_val_mae=3.08, batch_nb=24, epoch=2, loss=886.663, v_nb=1]"
     ]
    },
    {
     "name": "stdout",
     "output_type": "stream",
     "text": [
      "CCCC: torch.Size([6163, 1]), torch.Size([6163, 1])\n",
      "batch length: 2\n"
     ]
    },
    {
     "name": "stderr",
     "output_type": "stream",
     "text": [
      " 21%|██        | 27/131 [00:18<01:18,  1.33it/s, avg_rmse_loss=5.52, avg_smape_loss=55, avg_val_mae=3.08, batch_nb=25, epoch=2, loss=887.212, v_nb=1]"
     ]
    },
    {
     "name": "stdout",
     "output_type": "stream",
     "text": [
      "CCCC: torch.Size([6163, 1]), torch.Size([6163, 1])\n",
      "batch length: 2\n"
     ]
    },
    {
     "name": "stderr",
     "output_type": "stream",
     "text": [
      " 21%|██▏       | 28/131 [00:19<01:16,  1.35it/s, avg_rmse_loss=5.52, avg_smape_loss=55, avg_val_mae=3.08, batch_nb=26, epoch=2, loss=888.823, v_nb=1]"
     ]
    },
    {
     "name": "stdout",
     "output_type": "stream",
     "text": [
      "CCCC: torch.Size([6163, 1]), torch.Size([6163, 1])\n",
      "batch length: 2\n"
     ]
    },
    {
     "name": "stderr",
     "output_type": "stream",
     "text": [
      " 22%|██▏       | 29/131 [00:20<01:15,  1.35it/s, avg_rmse_loss=5.52, avg_smape_loss=55, avg_val_mae=3.08, batch_nb=27, epoch=2, loss=894.699, v_nb=1]"
     ]
    },
    {
     "name": "stdout",
     "output_type": "stream",
     "text": [
      "CCCC: torch.Size([6163, 1]), torch.Size([6163, 1])\n",
      "batch length: 2\n"
     ]
    },
    {
     "name": "stderr",
     "output_type": "stream",
     "text": [
      " 23%|██▎       | 30/131 [00:21<01:14,  1.35it/s, avg_rmse_loss=5.52, avg_smape_loss=55, avg_val_mae=3.08, batch_nb=28, epoch=2, loss=903.906, v_nb=1]"
     ]
    },
    {
     "name": "stdout",
     "output_type": "stream",
     "text": [
      "CCCC: torch.Size([6163, 1]), torch.Size([6163, 1])\n",
      "batch length: 2\n"
     ]
    },
    {
     "name": "stderr",
     "output_type": "stream",
     "text": [
      " 24%|██▎       | 31/131 [00:21<01:15,  1.33it/s, avg_rmse_loss=5.52, avg_smape_loss=55, avg_val_mae=3.08, batch_nb=29, epoch=2, loss=916.787, v_nb=1]"
     ]
    },
    {
     "name": "stdout",
     "output_type": "stream",
     "text": [
      "CCCC: torch.Size([6163, 1]), torch.Size([6163, 1])\n",
      "batch length: 2\n"
     ]
    },
    {
     "name": "stderr",
     "output_type": "stream",
     "text": [
      " 24%|██▍       | 32/131 [00:22<01:18,  1.25it/s, avg_rmse_loss=5.52, avg_smape_loss=55, avg_val_mae=3.08, batch_nb=30, epoch=2, loss=927.104, v_nb=1]"
     ]
    },
    {
     "name": "stdout",
     "output_type": "stream",
     "text": [
      "CCCC: torch.Size([6163, 1]), torch.Size([6163, 1])\n",
      "batch length: 2\n"
     ]
    },
    {
     "name": "stderr",
     "output_type": "stream",
     "text": [
      " 25%|██▌       | 33/131 [00:23<01:16,  1.28it/s, avg_rmse_loss=5.52, avg_smape_loss=55, avg_val_mae=3.08, batch_nb=31, epoch=2, loss=931.448, v_nb=1]"
     ]
    },
    {
     "name": "stdout",
     "output_type": "stream",
     "text": [
      "CCCC: torch.Size([6163, 1]), torch.Size([6163, 1])\n",
      "batch length: 2\n"
     ]
    },
    {
     "name": "stderr",
     "output_type": "stream",
     "text": [
      " 26%|██▌       | 34/131 [00:24<01:14,  1.31it/s, avg_rmse_loss=5.52, avg_smape_loss=55, avg_val_mae=3.08, batch_nb=32, epoch=2, loss=938.770, v_nb=1]"
     ]
    },
    {
     "name": "stdout",
     "output_type": "stream",
     "text": [
      "CCCC: torch.Size([6163, 1]), torch.Size([6163, 1])\n",
      "batch length: 2\n"
     ]
    },
    {
     "name": "stderr",
     "output_type": "stream",
     "text": [
      " 27%|██▋       | 35/131 [00:24<01:12,  1.33it/s, avg_rmse_loss=5.52, avg_smape_loss=55, avg_val_mae=3.08, batch_nb=33, epoch=2, loss=931.997, v_nb=1]"
     ]
    },
    {
     "name": "stdout",
     "output_type": "stream",
     "text": [
      "CCCC: torch.Size([6163, 1]), torch.Size([6163, 1])\n",
      "batch length: 2\n"
     ]
    },
    {
     "name": "stderr",
     "output_type": "stream",
     "text": [
      " 27%|██▋       | 36/131 [00:25<01:12,  1.31it/s, avg_rmse_loss=5.52, avg_smape_loss=55, avg_val_mae=3.08, batch_nb=34, epoch=2, loss=921.466, v_nb=1]"
     ]
    },
    {
     "name": "stdout",
     "output_type": "stream",
     "text": [
      "CCCC: torch.Size([6163, 1]), torch.Size([6163, 1])\n",
      "batch length: 2\n"
     ]
    },
    {
     "name": "stderr",
     "output_type": "stream",
     "text": [
      " 28%|██▊       | 37/131 [00:26<01:10,  1.33it/s, avg_rmse_loss=5.52, avg_smape_loss=55, avg_val_mae=3.08, batch_nb=35, epoch=2, loss=917.952, v_nb=1]"
     ]
    },
    {
     "name": "stdout",
     "output_type": "stream",
     "text": [
      "CCCC: torch.Size([6163, 1]), torch.Size([6163, 1])\n",
      "batch length: 2\n"
     ]
    },
    {
     "name": "stderr",
     "output_type": "stream",
     "text": [
      " 29%|██▉       | 38/131 [00:27<01:10,  1.31it/s, avg_rmse_loss=5.52, avg_smape_loss=55, avg_val_mae=3.08, batch_nb=36, epoch=2, loss=912.697, v_nb=1]"
     ]
    },
    {
     "name": "stdout",
     "output_type": "stream",
     "text": [
      "CCCC: torch.Size([6163, 1]), torch.Size([6163, 1])\n",
      "batch length: 2\n"
     ]
    },
    {
     "name": "stderr",
     "output_type": "stream",
     "text": [
      " 30%|██▉       | 39/131 [00:28<01:09,  1.32it/s, avg_rmse_loss=5.52, avg_smape_loss=55, avg_val_mae=3.08, batch_nb=37, epoch=2, loss=912.114, v_nb=1]"
     ]
    },
    {
     "name": "stdout",
     "output_type": "stream",
     "text": [
      "CCCC: torch.Size([6163, 1]), torch.Size([6163, 1])\n",
      "batch length: 2\n"
     ]
    },
    {
     "name": "stderr",
     "output_type": "stream",
     "text": [
      " 31%|███       | 40/131 [00:28<01:08,  1.33it/s, avg_rmse_loss=5.52, avg_smape_loss=55, avg_val_mae=3.08, batch_nb=38, epoch=2, loss=908.133, v_nb=1]"
     ]
    },
    {
     "name": "stdout",
     "output_type": "stream",
     "text": [
      "CCCC: torch.Size([6163, 1]), torch.Size([6163, 1])\n",
      "batch length: 2\n"
     ]
    },
    {
     "name": "stderr",
     "output_type": "stream",
     "text": [
      " 31%|███▏      | 41/131 [00:29<01:07,  1.33it/s, avg_rmse_loss=5.52, avg_smape_loss=55, avg_val_mae=3.08, batch_nb=39, epoch=2, loss=905.271, v_nb=1]"
     ]
    },
    {
     "name": "stdout",
     "output_type": "stream",
     "text": [
      "CCCC: torch.Size([6163, 1]), torch.Size([6163, 1])\n",
      "batch length: 2\n"
     ]
    },
    {
     "name": "stderr",
     "output_type": "stream",
     "text": [
      " 32%|███▏      | 42/131 [00:30<01:07,  1.33it/s, avg_rmse_loss=5.52, avg_smape_loss=55, avg_val_mae=3.08, batch_nb=40, epoch=2, loss=898.320, v_nb=1]"
     ]
    },
    {
     "name": "stdout",
     "output_type": "stream",
     "text": [
      "CCCC: torch.Size([6163, 1]), torch.Size([6163, 1])\n",
      "batch length: 2\n"
     ]
    },
    {
     "name": "stderr",
     "output_type": "stream",
     "text": [
      " 33%|███▎      | 43/131 [00:31<01:06,  1.33it/s, avg_rmse_loss=5.52, avg_smape_loss=55, avg_val_mae=3.08, batch_nb=41, epoch=2, loss=887.670, v_nb=1]"
     ]
    },
    {
     "name": "stdout",
     "output_type": "stream",
     "text": [
      "CCCC: torch.Size([6163, 1]), torch.Size([6163, 1])\n",
      "batch length: 2\n"
     ]
    },
    {
     "name": "stderr",
     "output_type": "stream",
     "text": [
      " 34%|███▎      | 44/131 [00:31<01:05,  1.32it/s, avg_rmse_loss=5.52, avg_smape_loss=55, avg_val_mae=3.08, batch_nb=42, epoch=2, loss=881.135, v_nb=1]"
     ]
    },
    {
     "name": "stdout",
     "output_type": "stream",
     "text": [
      "CCCC: torch.Size([6163, 1]), torch.Size([6163, 1])\n",
      "batch length: 2\n"
     ]
    },
    {
     "name": "stderr",
     "output_type": "stream",
     "text": [
      " 34%|███▍      | 45/131 [00:32<01:05,  1.32it/s, avg_rmse_loss=5.52, avg_smape_loss=55, avg_val_mae=3.08, batch_nb=43, epoch=2, loss=872.217, v_nb=1]"
     ]
    },
    {
     "name": "stdout",
     "output_type": "stream",
     "text": [
      "CCCC: torch.Size([6163, 1]), torch.Size([6163, 1])\n",
      "batch length: 2\n"
     ]
    },
    {
     "name": "stderr",
     "output_type": "stream",
     "text": [
      " 35%|███▌      | 46/131 [00:33<01:05,  1.30it/s, avg_rmse_loss=5.52, avg_smape_loss=55, avg_val_mae=3.08, batch_nb=44, epoch=2, loss=875.000, v_nb=1]"
     ]
    },
    {
     "name": "stdout",
     "output_type": "stream",
     "text": [
      "CCCC: torch.Size([6163, 1]), torch.Size([6163, 1])\n",
      "batch length: 2\n"
     ]
    },
    {
     "name": "stderr",
     "output_type": "stream",
     "text": [
      " 36%|███▌      | 47/131 [00:34<01:03,  1.31it/s, avg_rmse_loss=5.52, avg_smape_loss=55, avg_val_mae=3.08, batch_nb=45, epoch=2, loss=881.390, v_nb=1]"
     ]
    },
    {
     "name": "stdout",
     "output_type": "stream",
     "text": [
      "CCCC: torch.Size([6163, 1]), torch.Size([6163, 1])\n",
      "batch length: 2\n"
     ]
    },
    {
     "name": "stderr",
     "output_type": "stream",
     "text": [
      " 37%|███▋      | 48/131 [00:34<01:03,  1.30it/s, avg_rmse_loss=5.52, avg_smape_loss=55, avg_val_mae=3.08, batch_nb=46, epoch=2, loss=883.771, v_nb=1]"
     ]
    },
    {
     "name": "stdout",
     "output_type": "stream",
     "text": [
      "CCCC: torch.Size([6163, 1]), torch.Size([6163, 1])\n",
      "batch length: 2\n"
     ]
    },
    {
     "name": "stderr",
     "output_type": "stream",
     "text": [
      " 37%|███▋      | 49/131 [00:35<01:02,  1.30it/s, avg_rmse_loss=5.52, avg_smape_loss=55, avg_val_mae=3.08, batch_nb=47, epoch=2, loss=888.614, v_nb=1]"
     ]
    },
    {
     "name": "stdout",
     "output_type": "stream",
     "text": [
      "CCCC: torch.Size([6163, 1]), torch.Size([6163, 1])\n",
      "batch length: 2\n"
     ]
    },
    {
     "name": "stderr",
     "output_type": "stream",
     "text": [
      " 38%|███▊      | 50/131 [00:36<01:02,  1.30it/s, avg_rmse_loss=5.52, avg_smape_loss=55, avg_val_mae=3.08, batch_nb=48, epoch=2, loss=889.073, v_nb=1]"
     ]
    },
    {
     "name": "stdout",
     "output_type": "stream",
     "text": [
      "CCCC: torch.Size([6163, 1]), torch.Size([6163, 1])\n",
      "batch length: 2\n"
     ]
    },
    {
     "name": "stderr",
     "output_type": "stream",
     "text": [
      " 39%|███▉      | 51/131 [00:37<01:01,  1.31it/s, avg_rmse_loss=5.52, avg_smape_loss=55, avg_val_mae=3.08, batch_nb=49, epoch=2, loss=891.731, v_nb=1]"
     ]
    },
    {
     "name": "stdout",
     "output_type": "stream",
     "text": [
      "CCCC: torch.Size([6163, 1]), torch.Size([6163, 1])\n",
      "batch length: 2\n"
     ]
    },
    {
     "name": "stderr",
     "output_type": "stream",
     "text": [
      " 40%|███▉      | 52/131 [00:37<01:00,  1.30it/s, avg_rmse_loss=5.52, avg_smape_loss=55, avg_val_mae=3.08, batch_nb=50, epoch=2, loss=891.358, v_nb=1]"
     ]
    },
    {
     "name": "stdout",
     "output_type": "stream",
     "text": [
      "CCCC: torch.Size([6163, 1]), torch.Size([6163, 1])\n",
      "batch length: 2\n"
     ]
    },
    {
     "name": "stderr",
     "output_type": "stream",
     "text": [
      " 40%|████      | 53/131 [00:38<01:00,  1.29it/s, avg_rmse_loss=5.52, avg_smape_loss=55, avg_val_mae=3.08, batch_nb=51, epoch=2, loss=897.171, v_nb=1]"
     ]
    },
    {
     "name": "stdout",
     "output_type": "stream",
     "text": [
      "CCCC: torch.Size([6163, 1]), torch.Size([6163, 1])\n",
      "batch length: 2\n"
     ]
    },
    {
     "name": "stderr",
     "output_type": "stream",
     "text": [
      " 41%|████      | 54/131 [00:39<00:59,  1.30it/s, avg_rmse_loss=5.52, avg_smape_loss=55, avg_val_mae=3.08, batch_nb=52, epoch=2, loss=906.662, v_nb=1]"
     ]
    },
    {
     "name": "stdout",
     "output_type": "stream",
     "text": [
      "CCCC: torch.Size([6163, 1]), torch.Size([6163, 1])\n",
      "batch length: 2\n"
     ]
    },
    {
     "name": "stderr",
     "output_type": "stream",
     "text": [
      " 42%|████▏     | 55/131 [00:40<00:57,  1.32it/s, avg_rmse_loss=5.52, avg_smape_loss=55, avg_val_mae=3.08, batch_nb=53, epoch=2, loss=919.246, v_nb=1]"
     ]
    },
    {
     "name": "stdout",
     "output_type": "stream",
     "text": [
      "CCCC: torch.Size([6163, 1]), torch.Size([6163, 1])\n",
      "batch length: 2\n"
     ]
    },
    {
     "name": "stderr",
     "output_type": "stream",
     "text": [
      " 43%|████▎     | 56/131 [00:40<00:56,  1.32it/s, avg_rmse_loss=5.52, avg_smape_loss=55, avg_val_mae=3.08, batch_nb=54, epoch=2, loss=930.543, v_nb=1]"
     ]
    },
    {
     "name": "stdout",
     "output_type": "stream",
     "text": [
      "CCCC: torch.Size([6163, 1]), torch.Size([6163, 1])\n",
      "batch length: 2\n"
     ]
    },
    {
     "name": "stderr",
     "output_type": "stream",
     "text": [
      " 44%|████▎     | 57/131 [00:41<00:56,  1.32it/s, avg_rmse_loss=5.52, avg_smape_loss=55, avg_val_mae=3.08, batch_nb=55, epoch=2, loss=937.220, v_nb=1]"
     ]
    },
    {
     "name": "stdout",
     "output_type": "stream",
     "text": [
      "CCCC: torch.Size([6163, 1]), torch.Size([6163, 1])\n",
      "batch length: 2\n"
     ]
    },
    {
     "name": "stderr",
     "output_type": "stream",
     "text": [
      " 44%|████▍     | 58/131 [00:42<00:55,  1.32it/s, avg_rmse_loss=5.52, avg_smape_loss=55, avg_val_mae=3.08, batch_nb=56, epoch=2, loss=944.909, v_nb=1]"
     ]
    },
    {
     "name": "stdout",
     "output_type": "stream",
     "text": [
      "CCCC: torch.Size([6163, 1]), torch.Size([6163, 1])\n",
      "batch length: 2\n"
     ]
    },
    {
     "name": "stderr",
     "output_type": "stream",
     "text": [
      " 45%|████▌     | 59/131 [00:43<00:54,  1.32it/s, avg_rmse_loss=5.52, avg_smape_loss=55, avg_val_mae=3.08, batch_nb=57, epoch=2, loss=939.792, v_nb=1]"
     ]
    },
    {
     "name": "stdout",
     "output_type": "stream",
     "text": [
      "CCCC: torch.Size([6163, 1]), torch.Size([6163, 1])\n",
      "batch length: 2\n"
     ]
    },
    {
     "name": "stderr",
     "output_type": "stream",
     "text": [
      " 46%|████▌     | 60/131 [00:43<00:53,  1.33it/s, avg_rmse_loss=5.52, avg_smape_loss=55, avg_val_mae=3.08, batch_nb=58, epoch=2, loss=921.733, v_nb=1]"
     ]
    },
    {
     "name": "stdout",
     "output_type": "stream",
     "text": [
      "CCCC: torch.Size([6163, 1]), torch.Size([6163, 1])\n",
      "batch length: 2\n"
     ]
    },
    {
     "name": "stderr",
     "output_type": "stream",
     "text": [
      " 47%|████▋     | 61/131 [00:44<00:52,  1.33it/s, avg_rmse_loss=5.52, avg_smape_loss=55, avg_val_mae=3.08, batch_nb=59, epoch=2, loss=912.997, v_nb=1]"
     ]
    },
    {
     "name": "stdout",
     "output_type": "stream",
     "text": [
      "CCCC: torch.Size([6163, 1]), torch.Size([6163, 1])\n",
      "batch length: 2\n"
     ]
    },
    {
     "name": "stderr",
     "output_type": "stream",
     "text": [
      " 47%|████▋     | 62/131 [00:45<00:52,  1.33it/s, avg_rmse_loss=5.52, avg_smape_loss=55, avg_val_mae=3.08, batch_nb=60, epoch=2, loss=904.721, v_nb=1]"
     ]
    },
    {
     "name": "stdout",
     "output_type": "stream",
     "text": [
      "CCCC: torch.Size([6163, 1]), torch.Size([6163, 1])\n",
      "batch length: 2\n"
     ]
    },
    {
     "name": "stderr",
     "output_type": "stream",
     "text": [
      " 48%|████▊     | 63/131 [00:46<00:51,  1.32it/s, avg_rmse_loss=5.52, avg_smape_loss=55, avg_val_mae=3.08, batch_nb=61, epoch=2, loss=897.324, v_nb=1]"
     ]
    },
    {
     "name": "stdout",
     "output_type": "stream",
     "text": [
      "CCCC: torch.Size([6163, 1]), torch.Size([6163, 1])\n",
      "batch length: 2\n"
     ]
    },
    {
     "name": "stderr",
     "output_type": "stream",
     "text": [
      " 49%|████▉     | 64/131 [00:46<00:50,  1.33it/s, avg_rmse_loss=5.52, avg_smape_loss=55, avg_val_mae=3.08, batch_nb=62, epoch=2, loss=891.023, v_nb=1]"
     ]
    },
    {
     "name": "stdout",
     "output_type": "stream",
     "text": [
      "CCCC: torch.Size([6163, 1]), torch.Size([6163, 1])\n",
      "batch length: 2\n"
     ]
    },
    {
     "name": "stderr",
     "output_type": "stream",
     "text": [
      " 50%|████▉     | 65/131 [00:47<00:49,  1.34it/s, avg_rmse_loss=5.52, avg_smape_loss=55, avg_val_mae=3.08, batch_nb=63, epoch=2, loss=885.932, v_nb=1]"
     ]
    },
    {
     "name": "stdout",
     "output_type": "stream",
     "text": [
      "CCCC: torch.Size([6163, 1]), torch.Size([6163, 1])\n",
      "batch length: 2\n"
     ]
    },
    {
     "name": "stderr",
     "output_type": "stream",
     "text": [
      " 50%|█████     | 66/131 [00:48<00:48,  1.34it/s, avg_rmse_loss=5.52, avg_smape_loss=55, avg_val_mae=3.08, batch_nb=64, epoch=2, loss=870.118, v_nb=1]"
     ]
    },
    {
     "name": "stdout",
     "output_type": "stream",
     "text": [
      "CCCC: torch.Size([6163, 1]), torch.Size([6163, 1])\n",
      "batch length: 2\n"
     ]
    },
    {
     "name": "stderr",
     "output_type": "stream",
     "text": [
      " 51%|█████     | 67/131 [00:49<00:47,  1.36it/s, avg_rmse_loss=5.52, avg_smape_loss=55, avg_val_mae=3.08, batch_nb=65, epoch=2, loss=860.896, v_nb=1]"
     ]
    },
    {
     "name": "stdout",
     "output_type": "stream",
     "text": [
      "CCCC: torch.Size([6163, 1]), torch.Size([6163, 1])\n",
      "batch length: 2\n"
     ]
    },
    {
     "name": "stderr",
     "output_type": "stream",
     "text": [
      " 52%|█████▏    | 68/131 [00:49<00:45,  1.37it/s, avg_rmse_loss=5.52, avg_smape_loss=55, avg_val_mae=3.08, batch_nb=66, epoch=2, loss=851.413, v_nb=1]"
     ]
    },
    {
     "name": "stdout",
     "output_type": "stream",
     "text": [
      "CCCC: torch.Size([6163, 1]), torch.Size([6163, 1])\n",
      "batch length: 2\n"
     ]
    },
    {
     "name": "stderr",
     "output_type": "stream",
     "text": [
      " 53%|█████▎    | 69/131 [00:50<00:45,  1.37it/s, avg_rmse_loss=5.52, avg_smape_loss=55, avg_val_mae=3.08, batch_nb=67, epoch=2, loss=838.608, v_nb=1]"
     ]
    },
    {
     "name": "stdout",
     "output_type": "stream",
     "text": [
      "CCCC: torch.Size([6163, 1]), torch.Size([6163, 1])\n",
      "batch length: 2\n"
     ]
    },
    {
     "name": "stderr",
     "output_type": "stream",
     "text": [
      " 53%|█████▎    | 70/131 [00:51<00:43,  1.39it/s, avg_rmse_loss=5.52, avg_smape_loss=55, avg_val_mae=3.08, batch_nb=68, epoch=2, loss=836.883, v_nb=1]"
     ]
    },
    {
     "name": "stdout",
     "output_type": "stream",
     "text": [
      "CCCC: torch.Size([6163, 1]), torch.Size([6163, 1])\n",
      "batch length: 2\n"
     ]
    },
    {
     "name": "stderr",
     "output_type": "stream",
     "text": [
      " 54%|█████▍    | 71/131 [00:52<00:42,  1.40it/s, avg_rmse_loss=5.52, avg_smape_loss=55, avg_val_mae=3.08, batch_nb=69, epoch=2, loss=843.611, v_nb=1]"
     ]
    },
    {
     "name": "stdout",
     "output_type": "stream",
     "text": [
      "CCCC: torch.Size([6163, 1]), torch.Size([6163, 1])\n",
      "batch length: 2\n"
     ]
    },
    {
     "name": "stderr",
     "output_type": "stream",
     "text": [
      " 55%|█████▍    | 72/131 [00:52<00:42,  1.40it/s, avg_rmse_loss=5.52, avg_smape_loss=55, avg_val_mae=3.08, batch_nb=70, epoch=2, loss=849.776, v_nb=1]"
     ]
    },
    {
     "name": "stdout",
     "output_type": "stream",
     "text": [
      "CCCC: torch.Size([6163, 1]), torch.Size([6163, 1])\n",
      "batch length: 2\n"
     ]
    },
    {
     "name": "stderr",
     "output_type": "stream",
     "text": [
      " 56%|█████▌    | 73/131 [00:53<00:41,  1.41it/s, avg_rmse_loss=5.52, avg_smape_loss=55, avg_val_mae=3.08, batch_nb=71, epoch=2, loss=854.542, v_nb=1]"
     ]
    },
    {
     "name": "stdout",
     "output_type": "stream",
     "text": [
      "CCCC: torch.Size([6163, 1]), torch.Size([6163, 1])\n",
      "batch length: 2\n"
     ]
    },
    {
     "name": "stderr",
     "output_type": "stream",
     "text": [
      " 56%|█████▋    | 74/131 [00:54<00:39,  1.43it/s, avg_rmse_loss=5.52, avg_smape_loss=55, avg_val_mae=3.08, batch_nb=72, epoch=2, loss=857.923, v_nb=1]"
     ]
    },
    {
     "name": "stdout",
     "output_type": "stream",
     "text": [
      "CCCC: torch.Size([6163, 1]), torch.Size([6163, 1])\n",
      "batch length: 2\n"
     ]
    },
    {
     "name": "stderr",
     "output_type": "stream",
     "text": [
      " 57%|█████▋    | 75/131 [00:54<00:39,  1.43it/s, avg_rmse_loss=5.52, avg_smape_loss=55, avg_val_mae=3.08, batch_nb=73, epoch=2, loss=859.725, v_nb=1]"
     ]
    },
    {
     "name": "stdout",
     "output_type": "stream",
     "text": [
      "CCCC: torch.Size([6163, 1]), torch.Size([6163, 1])\n",
      "batch length: 2\n"
     ]
    },
    {
     "name": "stderr",
     "output_type": "stream",
     "text": [
      " 58%|█████▊    | 76/131 [00:55<00:38,  1.44it/s, avg_rmse_loss=5.52, avg_smape_loss=55, avg_val_mae=3.08, batch_nb=74, epoch=2, loss=863.049, v_nb=1]"
     ]
    },
    {
     "name": "stdout",
     "output_type": "stream",
     "text": [
      "CCCC: torch.Size([6163, 1]), torch.Size([6163, 1])\n",
      "batch length: 2\n"
     ]
    },
    {
     "name": "stderr",
     "output_type": "stream",
     "text": [
      " 59%|█████▉    | 77/131 [00:56<00:37,  1.45it/s, avg_rmse_loss=5.52, avg_smape_loss=55, avg_val_mae=3.08, batch_nb=75, epoch=2, loss=875.772, v_nb=1]"
     ]
    },
    {
     "name": "stdout",
     "output_type": "stream",
     "text": [
      "CCCC: torch.Size([6163, 1]), torch.Size([6163, 1])\n",
      "batch length: 2\n"
     ]
    },
    {
     "name": "stderr",
     "output_type": "stream",
     "text": [
      " 60%|█████▉    | 78/131 [00:56<00:36,  1.46it/s, avg_rmse_loss=5.52, avg_smape_loss=55, avg_val_mae=3.08, batch_nb=76, epoch=2, loss=884.929, v_nb=1]"
     ]
    },
    {
     "name": "stdout",
     "output_type": "stream",
     "text": [
      "CCCC: torch.Size([6163, 1]), torch.Size([6163, 1])\n",
      "batch length: 2\n"
     ]
    },
    {
     "name": "stderr",
     "output_type": "stream",
     "text": [
      " 60%|██████    | 79/131 [00:57<00:35,  1.48it/s, avg_rmse_loss=5.52, avg_smape_loss=55, avg_val_mae=3.08, batch_nb=77, epoch=2, loss=898.227, v_nb=1]"
     ]
    },
    {
     "name": "stdout",
     "output_type": "stream",
     "text": [
      "CCCC: torch.Size([6163, 1]), torch.Size([6163, 1])\n",
      "batch length: 2\n"
     ]
    },
    {
     "name": "stderr",
     "output_type": "stream",
     "text": [
      " 61%|██████    | 80/131 [00:58<00:34,  1.48it/s, avg_rmse_loss=5.52, avg_smape_loss=55, avg_val_mae=3.08, batch_nb=78, epoch=2, loss=912.321, v_nb=1]"
     ]
    },
    {
     "name": "stdout",
     "output_type": "stream",
     "text": [
      "CCCC: torch.Size([6163, 1]), torch.Size([6163, 1])\n",
      "batch length: 2\n"
     ]
    },
    {
     "name": "stderr",
     "output_type": "stream",
     "text": [
      " 62%|██████▏   | 81/131 [00:58<00:33,  1.48it/s, avg_rmse_loss=5.52, avg_smape_loss=55, avg_val_mae=3.08, batch_nb=79, epoch=2, loss=921.937, v_nb=1]"
     ]
    },
    {
     "name": "stdout",
     "output_type": "stream",
     "text": [
      "CCCC: torch.Size([6163, 1]), torch.Size([6163, 1])\n",
      "batch length: 2\n"
     ]
    },
    {
     "name": "stderr",
     "output_type": "stream",
     "text": [
      " 63%|██████▎   | 82/131 [00:59<00:34,  1.44it/s, avg_rmse_loss=5.52, avg_smape_loss=55, avg_val_mae=3.08, batch_nb=80, epoch=2, loss=928.505, v_nb=1]"
     ]
    },
    {
     "name": "stdout",
     "output_type": "stream",
     "text": [
      "CCCC: torch.Size([6163, 1]), torch.Size([6163, 1])\n",
      "batch length: 2\n"
     ]
    },
    {
     "name": "stderr",
     "output_type": "stream",
     "text": [
      " 63%|██████▎   | 83/131 [01:00<00:34,  1.41it/s, avg_rmse_loss=5.52, avg_smape_loss=55, avg_val_mae=3.08, batch_nb=81, epoch=2, loss=928.197, v_nb=1]"
     ]
    },
    {
     "name": "stdout",
     "output_type": "stream",
     "text": [
      "CCCC: torch.Size([6163, 1]), torch.Size([6163, 1])\n",
      "batch length: 2\n"
     ]
    },
    {
     "name": "stderr",
     "output_type": "stream",
     "text": [
      " 64%|██████▍   | 84/131 [01:01<00:33,  1.41it/s, avg_rmse_loss=5.52, avg_smape_loss=55, avg_val_mae=3.08, batch_nb=82, epoch=2, loss=926.617, v_nb=1]"
     ]
    },
    {
     "name": "stdout",
     "output_type": "stream",
     "text": [
      "CCCC: torch.Size([6163, 1]), torch.Size([6163, 1])\n",
      "batch length: 2\n"
     ]
    },
    {
     "name": "stderr",
     "output_type": "stream",
     "text": [
      " 65%|██████▍   | 85/131 [01:01<00:33,  1.39it/s, avg_rmse_loss=5.52, avg_smape_loss=55, avg_val_mae=3.08, batch_nb=83, epoch=2, loss=926.931, v_nb=1]"
     ]
    },
    {
     "name": "stdout",
     "output_type": "stream",
     "text": [
      "CCCC: torch.Size([6163, 1]), torch.Size([6163, 1])\n",
      "batch length: 2\n"
     ]
    },
    {
     "name": "stderr",
     "output_type": "stream",
     "text": [
      " 66%|██████▌   | 86/131 [01:02<00:32,  1.39it/s, avg_rmse_loss=5.52, avg_smape_loss=55, avg_val_mae=3.08, batch_nb=84, epoch=2, loss=926.927, v_nb=1]"
     ]
    },
    {
     "name": "stdout",
     "output_type": "stream",
     "text": [
      "CCCC: torch.Size([6163, 1]), torch.Size([6163, 1])\n",
      "batch length: 2\n"
     ]
    },
    {
     "name": "stderr",
     "output_type": "stream",
     "text": [
      " 66%|██████▋   | 87/131 [01:03<00:31,  1.40it/s, avg_rmse_loss=5.52, avg_smape_loss=55, avg_val_mae=3.08, batch_nb=85, epoch=2, loss=925.890, v_nb=1]"
     ]
    },
    {
     "name": "stdout",
     "output_type": "stream",
     "text": [
      "CCCC: torch.Size([6163, 1]), torch.Size([6163, 1])\n",
      "batch length: 2\n"
     ]
    },
    {
     "name": "stderr",
     "output_type": "stream",
     "text": [
      " 67%|██████▋   | 88/131 [01:03<00:30,  1.42it/s, avg_rmse_loss=5.52, avg_smape_loss=55, avg_val_mae=3.08, batch_nb=86, epoch=2, loss=925.038, v_nb=1]"
     ]
    },
    {
     "name": "stdout",
     "output_type": "stream",
     "text": [
      "CCCC: torch.Size([6163, 1]), torch.Size([6163, 1])\n",
      "batch length: 2\n"
     ]
    },
    {
     "name": "stderr",
     "output_type": "stream",
     "text": [
      " 68%|██████▊   | 89/131 [01:04<00:29,  1.45it/s, avg_rmse_loss=5.52, avg_smape_loss=55, avg_val_mae=3.08, batch_nb=87, epoch=2, loss=920.246, v_nb=1]"
     ]
    },
    {
     "name": "stdout",
     "output_type": "stream",
     "text": [
      "CCCC: torch.Size([6163, 1]), torch.Size([6163, 1])\n",
      "batch length: 2\n"
     ]
    },
    {
     "name": "stderr",
     "output_type": "stream",
     "text": [
      " 69%|██████▊   | 90/131 [01:05<00:28,  1.44it/s, avg_rmse_loss=5.52, avg_smape_loss=55, avg_val_mae=3.08, batch_nb=88, epoch=2, loss=916.972, v_nb=1]"
     ]
    },
    {
     "name": "stdout",
     "output_type": "stream",
     "text": [
      "CCCC: torch.Size([6163, 1]), torch.Size([6163, 1])\n",
      "batch length: 2\n"
     ]
    },
    {
     "name": "stderr",
     "output_type": "stream",
     "text": [
      " 69%|██████▉   | 91/131 [01:05<00:27,  1.46it/s, avg_rmse_loss=5.52, avg_smape_loss=55, avg_val_mae=3.08, batch_nb=89, epoch=2, loss=915.667, v_nb=1]"
     ]
    },
    {
     "name": "stdout",
     "output_type": "stream",
     "text": [
      "CCCC: torch.Size([6163, 1]), torch.Size([6163, 1])\n",
      "batch length: 2\n"
     ]
    },
    {
     "name": "stderr",
     "output_type": "stream",
     "text": [
      " 70%|███████   | 92/131 [01:06<00:26,  1.49it/s, avg_rmse_loss=5.52, avg_smape_loss=55, avg_val_mae=3.08, batch_nb=90, epoch=2, loss=918.081, v_nb=1]"
     ]
    },
    {
     "name": "stdout",
     "output_type": "stream",
     "text": [
      "CCCC: torch.Size([6163, 1]), torch.Size([6163, 1])\n",
      "batch length: 2\n"
     ]
    },
    {
     "name": "stderr",
     "output_type": "stream",
     "text": [
      " 71%|███████   | 93/131 [01:06<00:22,  1.71it/s, avg_rmse_loss=5.52, avg_smape_loss=55, avg_val_mae=3.08, batch_nb=91, epoch=2, loss=924.394, v_nb=1]"
     ]
    },
    {
     "name": "stdout",
     "output_type": "stream",
     "text": [
      "CCCC: torch.Size([4000, 1]), torch.Size([4000, 1])\n",
      "batch length: 2\n"
     ]
    },
    {
     "name": "stderr",
     "output_type": "stream",
     "text": [
      " 72%|███████▏  | 94/131 [01:07<00:19,  1.89it/s, avg_rmse_loss=5.52, avg_smape_loss=55, avg_val_mae=3.08, batch_nb=92, epoch=2, loss=930.098, v_nb=1]"
     ]
    },
    {
     "name": "stdout",
     "output_type": "stream",
     "text": [
      "CCCC: torch.Size([4000, 1]), torch.Size([4000, 1])\n",
      "batch length: 2\n"
     ]
    },
    {
     "name": "stderr",
     "output_type": "stream",
     "text": [
      " 73%|███████▎  | 95/131 [01:07<00:17,  2.01it/s, avg_rmse_loss=5.52, avg_smape_loss=55, avg_val_mae=3.08, batch_nb=93, epoch=2, loss=937.585, v_nb=1]"
     ]
    },
    {
     "name": "stdout",
     "output_type": "stream",
     "text": [
      "CCCC: torch.Size([4000, 1]), torch.Size([4000, 1])\n",
      "batch length: 2\n"
     ]
    },
    {
     "name": "stderr",
     "output_type": "stream",
     "text": [
      " 73%|███████▎  | 96/131 [01:08<00:16,  2.14it/s, avg_rmse_loss=5.52, avg_smape_loss=55, avg_val_mae=3.08, batch_nb=94, epoch=2, loss=944.808, v_nb=1]"
     ]
    },
    {
     "name": "stdout",
     "output_type": "stream",
     "text": [
      "CCCC: torch.Size([4000, 1]), torch.Size([4000, 1])\n",
      "batch length: 2\n"
     ]
    },
    {
     "name": "stderr",
     "output_type": "stream",
     "text": [
      " 74%|███████▍  | 97/131 [01:08<00:15,  2.21it/s, avg_rmse_loss=5.52, avg_smape_loss=55, avg_val_mae=3.08, batch_nb=95, epoch=2, loss=948.265, v_nb=1]"
     ]
    },
    {
     "name": "stdout",
     "output_type": "stream",
     "text": [
      "CCCC: torch.Size([4000, 1]), torch.Size([4000, 1])\n",
      "batch length: 2\n"
     ]
    },
    {
     "name": "stderr",
     "output_type": "stream",
     "text": [
      " 75%|███████▍  | 98/131 [01:08<00:14,  2.26it/s, avg_rmse_loss=5.52, avg_smape_loss=55, avg_val_mae=3.08, batch_nb=96, epoch=2, loss=950.175, v_nb=1]"
     ]
    },
    {
     "name": "stdout",
     "output_type": "stream",
     "text": [
      "CCCC: torch.Size([4000, 1]), torch.Size([4000, 1])\n",
      "batch length: 2\n"
     ]
    },
    {
     "name": "stderr",
     "output_type": "stream",
     "text": [
      " 76%|███████▌  | 99/131 [01:09<00:13,  2.31it/s, avg_rmse_loss=5.52, avg_smape_loss=55, avg_val_mae=3.08, batch_nb=97, epoch=2, loss=952.139, v_nb=1]"
     ]
    },
    {
     "name": "stdout",
     "output_type": "stream",
     "text": [
      "CCCC: torch.Size([4000, 1]), torch.Size([4000, 1])\n",
      "batch length: 2\n"
     ]
    },
    {
     "name": "stderr",
     "output_type": "stream",
     "text": [
      " 76%|███████▋  | 100/131 [01:09<00:13,  2.37it/s, avg_rmse_loss=5.52, avg_smape_loss=55, avg_val_mae=3.08, batch_nb=98, epoch=2, loss=956.407, v_nb=1]"
     ]
    },
    {
     "name": "stdout",
     "output_type": "stream",
     "text": [
      "CCCC: torch.Size([4000, 1]), torch.Size([4000, 1])\n",
      "batch length: 2\n"
     ]
    },
    {
     "name": "stderr",
     "output_type": "stream",
     "text": [
      " 77%|███████▋  | 101/131 [01:10<00:12,  2.42it/s, avg_rmse_loss=5.52, avg_smape_loss=55, avg_val_mae=3.08, batch_nb=99, epoch=2, loss=957.066, v_nb=1]"
     ]
    },
    {
     "name": "stdout",
     "output_type": "stream",
     "text": [
      "CCCC: torch.Size([4000, 1]), torch.Size([4000, 1])\n",
      "batch length: 2\n"
     ]
    },
    {
     "name": "stderr",
     "output_type": "stream",
     "text": [
      " 78%|███████▊  | 102/131 [01:10<00:11,  2.45it/s, avg_rmse_loss=5.52, avg_smape_loss=55, avg_val_mae=3.08, batch_nb=100, epoch=2, loss=942.176, v_nb=1]"
     ]
    },
    {
     "name": "stdout",
     "output_type": "stream",
     "text": [
      "CCCC: torch.Size([4000, 1]), torch.Size([4000, 1])\n",
      "batch length: 2\n"
     ]
    },
    {
     "name": "stderr",
     "output_type": "stream",
     "text": [
      " 79%|███████▊  | 103/131 [01:10<00:11,  2.50it/s, avg_rmse_loss=5.52, avg_smape_loss=55, avg_val_mae=3.08, batch_nb=101, epoch=2, loss=926.599, v_nb=1]"
     ]
    },
    {
     "name": "stdout",
     "output_type": "stream",
     "text": [
      "CCCC: torch.Size([4000, 1]), torch.Size([4000, 1])\n",
      "batch length: 2\n"
     ]
    },
    {
     "name": "stderr",
     "output_type": "stream",
     "text": [
      " 79%|███████▉  | 104/131 [01:11<00:10,  2.54it/s, avg_rmse_loss=5.52, avg_smape_loss=55, avg_val_mae=3.08, batch_nb=102, epoch=2, loss=911.932, v_nb=1]"
     ]
    },
    {
     "name": "stdout",
     "output_type": "stream",
     "text": [
      "CCCC: torch.Size([4000, 1]), torch.Size([4000, 1])\n",
      "batch length: 2\n"
     ]
    },
    {
     "name": "stderr",
     "output_type": "stream",
     "text": [
      " 80%|████████  | 105/131 [01:11<00:10,  2.54it/s, avg_rmse_loss=5.52, avg_smape_loss=55, avg_val_mae=3.08, batch_nb=103, epoch=2, loss=899.817, v_nb=1]"
     ]
    },
    {
     "name": "stdout",
     "output_type": "stream",
     "text": [
      "CCCC: torch.Size([4000, 1]), torch.Size([4000, 1])\n",
      "batch length: 2\n"
     ]
    },
    {
     "name": "stderr",
     "output_type": "stream",
     "text": [
      " 81%|████████  | 106/131 [01:12<00:09,  2.53it/s, avg_rmse_loss=5.52, avg_smape_loss=55, avg_val_mae=3.08, batch_nb=104, epoch=2, loss=880.096, v_nb=1]"
     ]
    },
    {
     "name": "stdout",
     "output_type": "stream",
     "text": [
      "CCCC: torch.Size([4000, 1]), torch.Size([4000, 1])\n",
      "batch length: 2\n"
     ]
    },
    {
     "name": "stderr",
     "output_type": "stream",
     "text": [
      " 82%|████████▏ | 107/131 [01:12<00:09,  2.50it/s, avg_rmse_loss=5.52, avg_smape_loss=55, avg_val_mae=3.08, batch_nb=105, epoch=2, loss=866.416, v_nb=1]"
     ]
    },
    {
     "name": "stdout",
     "output_type": "stream",
     "text": [
      "CCCC: torch.Size([4000, 1]), torch.Size([4000, 1])\n",
      "batch length: 2\n"
     ]
    },
    {
     "name": "stderr",
     "output_type": "stream",
     "text": [
      " 82%|████████▏ | 108/131 [01:12<00:09,  2.50it/s, avg_rmse_loss=5.52, avg_smape_loss=55, avg_val_mae=3.08, batch_nb=106, epoch=2, loss=847.903, v_nb=1]"
     ]
    },
    {
     "name": "stdout",
     "output_type": "stream",
     "text": [
      "CCCC: torch.Size([4000, 1]), torch.Size([4000, 1])\n",
      "batch length: 2\n"
     ]
    },
    {
     "name": "stderr",
     "output_type": "stream",
     "text": [
      " 83%|████████▎ | 109/131 [01:13<00:08,  2.52it/s, avg_rmse_loss=5.52, avg_smape_loss=55, avg_val_mae=3.08, batch_nb=107, epoch=2, loss=832.795, v_nb=1]"
     ]
    },
    {
     "name": "stdout",
     "output_type": "stream",
     "text": [
      "CCCC: torch.Size([4000, 1]), torch.Size([4000, 1])\n",
      "batch length: 2\n"
     ]
    },
    {
     "name": "stderr",
     "output_type": "stream",
     "text": [
      " 84%|████████▍ | 110/131 [01:13<00:08,  2.53it/s, avg_rmse_loss=5.52, avg_smape_loss=55, avg_val_mae=3.08, batch_nb=108, epoch=2, loss=815.583, v_nb=1]"
     ]
    },
    {
     "name": "stdout",
     "output_type": "stream",
     "text": [
      "CCCC: torch.Size([4000, 1]), torch.Size([4000, 1])\n",
      "batch length: 2\n"
     ]
    },
    {
     "name": "stderr",
     "output_type": "stream",
     "text": [
      " 85%|████████▍ | 111/131 [01:14<00:07,  2.52it/s, avg_rmse_loss=5.52, avg_smape_loss=55, avg_val_mae=3.08, batch_nb=109, epoch=2, loss=805.766, v_nb=1]"
     ]
    },
    {
     "name": "stdout",
     "output_type": "stream",
     "text": [
      "CCCC: torch.Size([4000, 1]), torch.Size([4000, 1])\n",
      "batch length: 2\n"
     ]
    },
    {
     "name": "stderr",
     "output_type": "stream",
     "text": [
      "\r",
      " 85%|████████▍ | 111/131 [01:14<00:07,  2.52it/s, avg_rmse_loss=5.52, avg_smape_loss=55, avg_val_mae=3.08, batch_nb=110, epoch=2, loss=799.518, v_nb=1]"
     ]
    },
    {
     "name": "stdout",
     "output_type": "stream",
     "text": [
      "CCCC: torch.Size([4000, 1]), torch.Size([4000, 1])\n"
     ]
    },
    {
     "name": "stderr",
     "output_type": "stream",
     "text": [
      "  0%|          | 0/131 [00:00<00:35,  3.67it/s, avg_rmse_loss=5.51, avg_smape_loss=55.1, avg_val_mae=3.06, batch_nb=110, epoch=2, loss=799.518, v_nb=1]  "
     ]
    },
    {
     "name": "stdout",
     "output_type": "stream",
     "text": [
      "batch length: 2\n"
     ]
    },
    {
     "name": "stderr",
     "output_type": "stream",
     "text": [
      "  2%|▏         | 2/131 [00:00<00:38,  3.36it/s, avg_rmse_loss=5.51, avg_smape_loss=55.1, avg_val_mae=3.06, batch_nb=0, epoch=3, loss=807.140, v_nb=1]  "
     ]
    },
    {
     "name": "stdout",
     "output_type": "stream",
     "text": [
      "CCCC: torch.Size([6163, 1]), torch.Size([6163, 1])\n",
      "batch length: 2\n"
     ]
    },
    {
     "name": "stderr",
     "output_type": "stream",
     "text": [
      "  2%|▏         | 3/131 [00:01<00:54,  2.35it/s, avg_rmse_loss=5.51, avg_smape_loss=55.1, avg_val_mae=3.06, batch_nb=1, epoch=3, loss=820.145, v_nb=1]"
     ]
    },
    {
     "name": "stdout",
     "output_type": "stream",
     "text": [
      "CCCC: torch.Size([6163, 1]), torch.Size([6163, 1])\n",
      "batch length: 2\n"
     ]
    },
    {
     "name": "stderr",
     "output_type": "stream",
     "text": [
      "  3%|▎         | 4/131 [00:02<01:04,  1.98it/s, avg_rmse_loss=5.51, avg_smape_loss=55.1, avg_val_mae=3.06, batch_nb=2, epoch=3, loss=831.329, v_nb=1]"
     ]
    },
    {
     "name": "stdout",
     "output_type": "stream",
     "text": [
      "CCCC: torch.Size([6163, 1]), torch.Size([6163, 1])\n",
      "batch length: 2\n"
     ]
    },
    {
     "name": "stderr",
     "output_type": "stream",
     "text": [
      "  4%|▍         | 5/131 [00:02<01:12,  1.74it/s, avg_rmse_loss=5.51, avg_smape_loss=55.1, avg_val_mae=3.06, batch_nb=3, epoch=3, loss=844.108, v_nb=1]"
     ]
    },
    {
     "name": "stdout",
     "output_type": "stream",
     "text": [
      "CCCC: torch.Size([6163, 1]), torch.Size([6163, 1])\n",
      "batch length: 2\n"
     ]
    },
    {
     "name": "stderr",
     "output_type": "stream",
     "text": [
      "  5%|▍         | 6/131 [00:03<01:16,  1.64it/s, avg_rmse_loss=5.51, avg_smape_loss=55.1, avg_val_mae=3.06, batch_nb=4, epoch=3, loss=863.236, v_nb=1]"
     ]
    },
    {
     "name": "stdout",
     "output_type": "stream",
     "text": [
      "CCCC: torch.Size([6163, 1]), torch.Size([6163, 1])\n",
      "batch length: 2\n"
     ]
    },
    {
     "name": "stderr",
     "output_type": "stream",
     "text": [
      "  5%|▌         | 7/131 [00:04<01:19,  1.56it/s, avg_rmse_loss=5.51, avg_smape_loss=55.1, avg_val_mae=3.06, batch_nb=5, epoch=3, loss=876.872, v_nb=1]"
     ]
    },
    {
     "name": "stdout",
     "output_type": "stream",
     "text": [
      "CCCC: torch.Size([6163, 1]), torch.Size([6163, 1])\n",
      "batch length: 2\n"
     ]
    },
    {
     "name": "stderr",
     "output_type": "stream",
     "text": [
      "  6%|▌         | 8/131 [00:04<01:21,  1.52it/s, avg_rmse_loss=5.51, avg_smape_loss=55.1, avg_val_mae=3.06, batch_nb=6, epoch=3, loss=897.215, v_nb=1]"
     ]
    },
    {
     "name": "stdout",
     "output_type": "stream",
     "text": [
      "CCCC: torch.Size([6163, 1]), torch.Size([6163, 1])\n",
      "batch length: 2\n"
     ]
    },
    {
     "name": "stderr",
     "output_type": "stream",
     "text": [
      "  7%|▋         | 9/131 [00:05<01:22,  1.48it/s, avg_rmse_loss=5.51, avg_smape_loss=55.1, avg_val_mae=3.06, batch_nb=7, epoch=3, loss=910.374, v_nb=1]"
     ]
    },
    {
     "name": "stdout",
     "output_type": "stream",
     "text": [
      "CCCC: torch.Size([6163, 1]), torch.Size([6163, 1])\n",
      "batch length: 2\n"
     ]
    },
    {
     "name": "stderr",
     "output_type": "stream",
     "text": [
      "  8%|▊         | 10/131 [00:06<01:22,  1.46it/s, avg_rmse_loss=5.51, avg_smape_loss=55.1, avg_val_mae=3.06, batch_nb=8, epoch=3, loss=924.586, v_nb=1]"
     ]
    },
    {
     "name": "stdout",
     "output_type": "stream",
     "text": [
      "CCCC: torch.Size([6163, 1]), torch.Size([6163, 1])\n",
      "batch length: 2\n"
     ]
    },
    {
     "name": "stderr",
     "output_type": "stream",
     "text": [
      "  8%|▊         | 11/131 [00:07<01:23,  1.44it/s, avg_rmse_loss=5.51, avg_smape_loss=55.1, avg_val_mae=3.06, batch_nb=9, epoch=3, loss=926.533, v_nb=1]"
     ]
    },
    {
     "name": "stdout",
     "output_type": "stream",
     "text": [
      "CCCC: torch.Size([6163, 1]), torch.Size([6163, 1])\n",
      "batch length: 2\n"
     ]
    },
    {
     "name": "stderr",
     "output_type": "stream",
     "text": [
      "  9%|▉         | 12/131 [00:07<01:23,  1.42it/s, avg_rmse_loss=5.51, avg_smape_loss=55.1, avg_val_mae=3.06, batch_nb=10, epoch=3, loss=922.012, v_nb=1]"
     ]
    },
    {
     "name": "stdout",
     "output_type": "stream",
     "text": [
      "CCCC: torch.Size([6163, 1]), torch.Size([6163, 1])\n",
      "batch length: 2\n"
     ]
    },
    {
     "name": "stderr",
     "output_type": "stream",
     "text": [
      " 10%|▉         | 13/131 [00:08<01:22,  1.42it/s, avg_rmse_loss=5.51, avg_smape_loss=55.1, avg_val_mae=3.06, batch_nb=11, epoch=3, loss=916.342, v_nb=1]"
     ]
    },
    {
     "name": "stdout",
     "output_type": "stream",
     "text": [
      "CCCC: torch.Size([6163, 1]), torch.Size([6163, 1])\n",
      "batch length: 2\n"
     ]
    },
    {
     "name": "stderr",
     "output_type": "stream",
     "text": [
      " 11%|█         | 14/131 [00:09<01:22,  1.41it/s, avg_rmse_loss=5.51, avg_smape_loss=55.1, avg_val_mae=3.06, batch_nb=12, epoch=3, loss=908.676, v_nb=1]"
     ]
    },
    {
     "name": "stdout",
     "output_type": "stream",
     "text": [
      "CCCC: torch.Size([6163, 1]), torch.Size([6163, 1])\n",
      "batch length: 2\n"
     ]
    },
    {
     "name": "stderr",
     "output_type": "stream",
     "text": [
      " 11%|█▏        | 15/131 [00:10<01:23,  1.39it/s, avg_rmse_loss=5.51, avg_smape_loss=55.1, avg_val_mae=3.06, batch_nb=13, epoch=3, loss=912.210, v_nb=1]"
     ]
    },
    {
     "name": "stdout",
     "output_type": "stream",
     "text": [
      "CCCC: torch.Size([6163, 1]), torch.Size([6163, 1])\n",
      "batch length: 2\n"
     ]
    },
    {
     "name": "stderr",
     "output_type": "stream",
     "text": [
      " 12%|█▏        | 16/131 [00:10<01:22,  1.39it/s, avg_rmse_loss=5.51, avg_smape_loss=55.1, avg_val_mae=3.06, batch_nb=14, epoch=3, loss=907.152, v_nb=1]"
     ]
    },
    {
     "name": "stdout",
     "output_type": "stream",
     "text": [
      "CCCC: torch.Size([6163, 1]), torch.Size([6163, 1])\n",
      "batch length: 2\n"
     ]
    },
    {
     "name": "stderr",
     "output_type": "stream",
     "text": [
      " 13%|█▎        | 17/131 [00:11<01:21,  1.40it/s, avg_rmse_loss=5.51, avg_smape_loss=55.1, avg_val_mae=3.06, batch_nb=15, epoch=3, loss=901.281, v_nb=1]"
     ]
    },
    {
     "name": "stdout",
     "output_type": "stream",
     "text": [
      "CCCC: torch.Size([6163, 1]), torch.Size([6163, 1])\n",
      "batch length: 2\n"
     ]
    },
    {
     "name": "stderr",
     "output_type": "stream",
     "text": [
      " 14%|█▎        | 18/131 [00:12<01:20,  1.41it/s, avg_rmse_loss=5.51, avg_smape_loss=55.1, avg_val_mae=3.06, batch_nb=16, epoch=3, loss=893.559, v_nb=1]"
     ]
    },
    {
     "name": "stdout",
     "output_type": "stream",
     "text": [
      "CCCC: torch.Size([6163, 1]), torch.Size([6163, 1])\n",
      "batch length: 2\n"
     ]
    },
    {
     "name": "stderr",
     "output_type": "stream",
     "text": [
      " 15%|█▍        | 19/131 [00:12<01:19,  1.41it/s, avg_rmse_loss=5.51, avg_smape_loss=55.1, avg_val_mae=3.06, batch_nb=17, epoch=3, loss=881.353, v_nb=1]"
     ]
    },
    {
     "name": "stdout",
     "output_type": "stream",
     "text": [
      "CCCC: torch.Size([6163, 1]), torch.Size([6163, 1])\n",
      "batch length: 2\n"
     ]
    },
    {
     "name": "stderr",
     "output_type": "stream",
     "text": [
      " 15%|█▌        | 20/131 [00:13<01:18,  1.41it/s, avg_rmse_loss=5.51, avg_smape_loss=55.1, avg_val_mae=3.06, batch_nb=18, epoch=3, loss=872.516, v_nb=1]"
     ]
    },
    {
     "name": "stdout",
     "output_type": "stream",
     "text": [
      "CCCC: torch.Size([6163, 1]), torch.Size([6163, 1])\n",
      "batch length: 2\n"
     ]
    },
    {
     "name": "stderr",
     "output_type": "stream",
     "text": [
      " 16%|█▌        | 21/131 [00:14<01:18,  1.40it/s, avg_rmse_loss=5.51, avg_smape_loss=55.1, avg_val_mae=3.06, batch_nb=19, epoch=3, loss=865.884, v_nb=1]"
     ]
    },
    {
     "name": "stdout",
     "output_type": "stream",
     "text": [
      "CCCC: torch.Size([6163, 1]), torch.Size([6163, 1])\n",
      "batch length: 2\n"
     ]
    },
    {
     "name": "stderr",
     "output_type": "stream",
     "text": [
      " 17%|█▋        | 22/131 [00:15<01:19,  1.38it/s, avg_rmse_loss=5.51, avg_smape_loss=55.1, avg_val_mae=3.06, batch_nb=20, epoch=3, loss=865.013, v_nb=1]"
     ]
    },
    {
     "name": "stdout",
     "output_type": "stream",
     "text": [
      "CCCC: torch.Size([6163, 1]), torch.Size([6163, 1])\n",
      "batch length: 2\n"
     ]
    },
    {
     "name": "stderr",
     "output_type": "stream",
     "text": [
      " 18%|█▊        | 23/131 [00:15<01:18,  1.38it/s, avg_rmse_loss=5.51, avg_smape_loss=55.1, avg_val_mae=3.06, batch_nb=21, epoch=3, loss=867.615, v_nb=1]"
     ]
    },
    {
     "name": "stdout",
     "output_type": "stream",
     "text": [
      "CCCC: torch.Size([6163, 1]), torch.Size([6163, 1])\n",
      "batch length: 2\n"
     ]
    },
    {
     "name": "stderr",
     "output_type": "stream",
     "text": [
      " 18%|█▊        | 24/131 [00:16<01:16,  1.40it/s, avg_rmse_loss=5.51, avg_smape_loss=55.1, avg_val_mae=3.06, batch_nb=22, epoch=3, loss=875.080, v_nb=1]"
     ]
    },
    {
     "name": "stdout",
     "output_type": "stream",
     "text": [
      "CCCC: torch.Size([6163, 1]), torch.Size([6163, 1])\n",
      "batch length: 2\n"
     ]
    },
    {
     "name": "stderr",
     "output_type": "stream",
     "text": [
      " 19%|█▉        | 25/131 [00:17<01:16,  1.39it/s, avg_rmse_loss=5.51, avg_smape_loss=55.1, avg_val_mae=3.06, batch_nb=23, epoch=3, loss=880.893, v_nb=1]"
     ]
    },
    {
     "name": "stdout",
     "output_type": "stream",
     "text": [
      "CCCC: torch.Size([6163, 1]), torch.Size([6163, 1])\n",
      "batch length: 2\n"
     ]
    },
    {
     "name": "stderr",
     "output_type": "stream",
     "text": [
      " 20%|█▉        | 26/131 [00:17<01:15,  1.39it/s, avg_rmse_loss=5.51, avg_smape_loss=55.1, avg_val_mae=3.06, batch_nb=24, epoch=3, loss=873.988, v_nb=1]"
     ]
    },
    {
     "name": "stdout",
     "output_type": "stream",
     "text": [
      "CCCC: torch.Size([6163, 1]), torch.Size([6163, 1])\n",
      "batch length: 2\n"
     ]
    },
    {
     "name": "stderr",
     "output_type": "stream",
     "text": [
      " 21%|██        | 27/131 [00:18<01:14,  1.39it/s, avg_rmse_loss=5.51, avg_smape_loss=55.1, avg_val_mae=3.06, batch_nb=25, epoch=3, loss=874.392, v_nb=1]"
     ]
    },
    {
     "name": "stdout",
     "output_type": "stream",
     "text": [
      "CCCC: torch.Size([6163, 1]), torch.Size([6163, 1])\n",
      "batch length: 2\n"
     ]
    },
    {
     "name": "stderr",
     "output_type": "stream",
     "text": [
      " 21%|██▏       | 28/131 [00:19<01:14,  1.38it/s, avg_rmse_loss=5.51, avg_smape_loss=55.1, avg_val_mae=3.06, batch_nb=26, epoch=3, loss=875.627, v_nb=1]"
     ]
    },
    {
     "name": "stdout",
     "output_type": "stream",
     "text": [
      "CCCC: torch.Size([6163, 1]), torch.Size([6163, 1])\n",
      "batch length: 2\n"
     ]
    },
    {
     "name": "stderr",
     "output_type": "stream",
     "text": [
      " 22%|██▏       | 29/131 [00:20<01:15,  1.35it/s, avg_rmse_loss=5.51, avg_smape_loss=55.1, avg_val_mae=3.06, batch_nb=27, epoch=3, loss=881.438, v_nb=1]"
     ]
    },
    {
     "name": "stdout",
     "output_type": "stream",
     "text": [
      "CCCC: torch.Size([6163, 1]), torch.Size([6163, 1])\n",
      "batch length: 2\n"
     ]
    },
    {
     "name": "stderr",
     "output_type": "stream",
     "text": [
      " 23%|██▎       | 30/131 [00:20<01:15,  1.34it/s, avg_rmse_loss=5.51, avg_smape_loss=55.1, avg_val_mae=3.06, batch_nb=28, epoch=3, loss=890.347, v_nb=1]"
     ]
    },
    {
     "name": "stdout",
     "output_type": "stream",
     "text": [
      "CCCC: torch.Size([6163, 1]), torch.Size([6163, 1])\n",
      "batch length: 2\n"
     ]
    },
    {
     "name": "stderr",
     "output_type": "stream",
     "text": [
      " 24%|██▎       | 31/131 [00:21<01:16,  1.31it/s, avg_rmse_loss=5.51, avg_smape_loss=55.1, avg_val_mae=3.06, batch_nb=29, epoch=3, loss=902.623, v_nb=1]"
     ]
    },
    {
     "name": "stdout",
     "output_type": "stream",
     "text": [
      "CCCC: torch.Size([6163, 1]), torch.Size([6163, 1])\n",
      "batch length: 2\n"
     ]
    },
    {
     "name": "stderr",
     "output_type": "stream",
     "text": [
      " 24%|██▍       | 32/131 [00:22<01:16,  1.29it/s, avg_rmse_loss=5.51, avg_smape_loss=55.1, avg_val_mae=3.06, batch_nb=30, epoch=3, loss=912.288, v_nb=1]"
     ]
    },
    {
     "name": "stdout",
     "output_type": "stream",
     "text": [
      "CCCC: torch.Size([6163, 1]), torch.Size([6163, 1])\n",
      "batch length: 2\n"
     ]
    },
    {
     "name": "stderr",
     "output_type": "stream",
     "text": [
      " 25%|██▌       | 33/131 [00:23<01:15,  1.29it/s, avg_rmse_loss=5.51, avg_smape_loss=55.1, avg_val_mae=3.06, batch_nb=31, epoch=3, loss=916.207, v_nb=1]"
     ]
    },
    {
     "name": "stdout",
     "output_type": "stream",
     "text": [
      "CCCC: torch.Size([6163, 1]), torch.Size([6163, 1])\n",
      "batch length: 2\n"
     ]
    },
    {
     "name": "stderr",
     "output_type": "stream",
     "text": [
      " 26%|██▌       | 34/131 [00:24<01:15,  1.29it/s, avg_rmse_loss=5.51, avg_smape_loss=55.1, avg_val_mae=3.06, batch_nb=32, epoch=3, loss=924.111, v_nb=1]"
     ]
    },
    {
     "name": "stdout",
     "output_type": "stream",
     "text": [
      "CCCC: torch.Size([6163, 1]), torch.Size([6163, 1])\n",
      "batch length: 2\n"
     ]
    },
    {
     "name": "stderr",
     "output_type": "stream",
     "text": [
      " 27%|██▋       | 35/131 [00:24<01:13,  1.30it/s, avg_rmse_loss=5.51, avg_smape_loss=55.1, avg_val_mae=3.06, batch_nb=33, epoch=3, loss=917.234, v_nb=1]"
     ]
    },
    {
     "name": "stdout",
     "output_type": "stream",
     "text": [
      "CCCC: torch.Size([6163, 1]), torch.Size([6163, 1])\n",
      "batch length: 2\n"
     ]
    },
    {
     "name": "stderr",
     "output_type": "stream",
     "text": [
      " 27%|██▋       | 36/131 [00:25<01:11,  1.32it/s, avg_rmse_loss=5.51, avg_smape_loss=55.1, avg_val_mae=3.06, batch_nb=34, epoch=3, loss=906.630, v_nb=1]"
     ]
    },
    {
     "name": "stdout",
     "output_type": "stream",
     "text": [
      "CCCC: torch.Size([6163, 1]), torch.Size([6163, 1])\n",
      "batch length: 2\n"
     ]
    },
    {
     "name": "stderr",
     "output_type": "stream",
     "text": [
      " 28%|██▊       | 37/131 [00:26<01:11,  1.32it/s, avg_rmse_loss=5.51, avg_smape_loss=55.1, avg_val_mae=3.06, batch_nb=35, epoch=3, loss=903.506, v_nb=1]"
     ]
    },
    {
     "name": "stdout",
     "output_type": "stream",
     "text": [
      "CCCC: torch.Size([6163, 1]), torch.Size([6163, 1])\n",
      "batch length: 2\n"
     ]
    },
    {
     "name": "stderr",
     "output_type": "stream",
     "text": [
      " 29%|██▉       | 38/131 [00:27<01:10,  1.31it/s, avg_rmse_loss=5.51, avg_smape_loss=55.1, avg_val_mae=3.06, batch_nb=36, epoch=3, loss=898.440, v_nb=1]"
     ]
    },
    {
     "name": "stdout",
     "output_type": "stream",
     "text": [
      "CCCC: torch.Size([6163, 1]), torch.Size([6163, 1])\n",
      "batch length: 2\n"
     ]
    },
    {
     "name": "stderr",
     "output_type": "stream",
     "text": [
      " 30%|██▉       | 39/131 [00:27<01:13,  1.26it/s, avg_rmse_loss=5.51, avg_smape_loss=55.1, avg_val_mae=3.06, batch_nb=37, epoch=3, loss=897.901, v_nb=1]"
     ]
    },
    {
     "name": "stdout",
     "output_type": "stream",
     "text": [
      "CCCC: torch.Size([6163, 1]), torch.Size([6163, 1])\n",
      "batch length: 2\n",
      "CCCC: torch.Size([6163, 1]), torch.Size([6163, 1])\n"
     ]
    },
    {
     "name": "stderr",
     "output_type": "stream",
     "text": [
      " 31%|███       | 40/131 [00:28<01:14,  1.22it/s, avg_rmse_loss=5.51, avg_smape_loss=55.1, avg_val_mae=3.06, batch_nb=38, epoch=3, loss=893.806, v_nb=1]"
     ]
    },
    {
     "name": "stdout",
     "output_type": "stream",
     "text": [
      "batch length: 2\n"
     ]
    },
    {
     "name": "stderr",
     "output_type": "stream",
     "text": [
      " 31%|███▏      | 41/131 [00:29<01:15,  1.20it/s, avg_rmse_loss=5.51, avg_smape_loss=55.1, avg_val_mae=3.06, batch_nb=39, epoch=3, loss=891.168, v_nb=1]"
     ]
    },
    {
     "name": "stdout",
     "output_type": "stream",
     "text": [
      "CCCC: torch.Size([6163, 1]), torch.Size([6163, 1])\n",
      "batch length: 2\n"
     ]
    },
    {
     "name": "stderr",
     "output_type": "stream",
     "text": [
      " 32%|███▏      | 42/131 [00:30<01:12,  1.23it/s, avg_rmse_loss=5.51, avg_smape_loss=55.1, avg_val_mae=3.06, batch_nb=40, epoch=3, loss=884.122, v_nb=1]"
     ]
    },
    {
     "name": "stdout",
     "output_type": "stream",
     "text": [
      "CCCC: torch.Size([6163, 1]), torch.Size([6163, 1])\n",
      "batch length: 2\n"
     ]
    },
    {
     "name": "stderr",
     "output_type": "stream",
     "text": [
      " 33%|███▎      | 43/131 [00:31<01:10,  1.25it/s, avg_rmse_loss=5.51, avg_smape_loss=55.1, avg_val_mae=3.06, batch_nb=41, epoch=3, loss=873.736, v_nb=1]"
     ]
    },
    {
     "name": "stdout",
     "output_type": "stream",
     "text": [
      "CCCC: torch.Size([6163, 1]), torch.Size([6163, 1])\n",
      "batch length: 2\n"
     ]
    },
    {
     "name": "stderr",
     "output_type": "stream",
     "text": [
      " 34%|███▎      | 44/131 [00:31<01:08,  1.27it/s, avg_rmse_loss=5.51, avg_smape_loss=55.1, avg_val_mae=3.06, batch_nb=42, epoch=3, loss=866.991, v_nb=1]"
     ]
    },
    {
     "name": "stdout",
     "output_type": "stream",
     "text": [
      "CCCC: torch.Size([6163, 1]), torch.Size([6163, 1])\n",
      "batch length: 2\n"
     ]
    },
    {
     "name": "stderr",
     "output_type": "stream",
     "text": [
      " 34%|███▍      | 45/131 [00:32<01:07,  1.28it/s, avg_rmse_loss=5.51, avg_smape_loss=55.1, avg_val_mae=3.06, batch_nb=43, epoch=3, loss=857.605, v_nb=1]"
     ]
    },
    {
     "name": "stdout",
     "output_type": "stream",
     "text": [
      "CCCC: torch.Size([6163, 1]), torch.Size([6163, 1])\n",
      "batch length: 2\n"
     ]
    },
    {
     "name": "stderr",
     "output_type": "stream",
     "text": [
      " 35%|███▌      | 46/131 [00:33<01:05,  1.29it/s, avg_rmse_loss=5.51, avg_smape_loss=55.1, avg_val_mae=3.06, batch_nb=44, epoch=3, loss=860.401, v_nb=1]"
     ]
    },
    {
     "name": "stdout",
     "output_type": "stream",
     "text": [
      "CCCC: torch.Size([6163, 1]), torch.Size([6163, 1])\n",
      "batch length: 2\n"
     ]
    },
    {
     "name": "stderr",
     "output_type": "stream",
     "text": [
      " 36%|███▌      | 47/131 [00:34<01:04,  1.31it/s, avg_rmse_loss=5.51, avg_smape_loss=55.1, avg_val_mae=3.06, batch_nb=45, epoch=3, loss=866.755, v_nb=1]"
     ]
    },
    {
     "name": "stdout",
     "output_type": "stream",
     "text": [
      "CCCC: torch.Size([6163, 1]), torch.Size([6163, 1])\n",
      "batch length: 2\n"
     ]
    },
    {
     "name": "stderr",
     "output_type": "stream",
     "text": [
      " 37%|███▋      | 48/131 [00:34<01:02,  1.33it/s, avg_rmse_loss=5.51, avg_smape_loss=55.1, avg_val_mae=3.06, batch_nb=46, epoch=3, loss=869.369, v_nb=1]"
     ]
    },
    {
     "name": "stdout",
     "output_type": "stream",
     "text": [
      "CCCC: torch.Size([6163, 1]), torch.Size([6163, 1])\n",
      "batch length: 2\n"
     ]
    },
    {
     "name": "stderr",
     "output_type": "stream",
     "text": [
      " 37%|███▋      | 49/131 [00:35<01:00,  1.34it/s, avg_rmse_loss=5.51, avg_smape_loss=55.1, avg_val_mae=3.06, batch_nb=47, epoch=3, loss=874.121, v_nb=1]"
     ]
    },
    {
     "name": "stdout",
     "output_type": "stream",
     "text": [
      "CCCC: torch.Size([6163, 1]), torch.Size([6163, 1])\n",
      "batch length: 2\n"
     ]
    },
    {
     "name": "stderr",
     "output_type": "stream",
     "text": [
      " 38%|███▊      | 50/131 [00:36<00:59,  1.35it/s, avg_rmse_loss=5.51, avg_smape_loss=55.1, avg_val_mae=3.06, batch_nb=48, epoch=3, loss=874.367, v_nb=1]"
     ]
    },
    {
     "name": "stdout",
     "output_type": "stream",
     "text": [
      "CCCC: torch.Size([6163, 1]), torch.Size([6163, 1])\n",
      "batch length: 2\n"
     ]
    },
    {
     "name": "stderr",
     "output_type": "stream",
     "text": [
      " 39%|███▉      | 51/131 [00:37<01:00,  1.32it/s, avg_rmse_loss=5.51, avg_smape_loss=55.1, avg_val_mae=3.06, batch_nb=49, epoch=3, loss=877.127, v_nb=1]"
     ]
    },
    {
     "name": "stdout",
     "output_type": "stream",
     "text": [
      "CCCC: torch.Size([6163, 1]), torch.Size([6163, 1])\n",
      "batch length: 2\n"
     ]
    },
    {
     "name": "stderr",
     "output_type": "stream",
     "text": [
      " 40%|███▉      | 52/131 [00:37<01:00,  1.32it/s, avg_rmse_loss=5.51, avg_smape_loss=55.1, avg_val_mae=3.06, batch_nb=50, epoch=3, loss=877.018, v_nb=1]"
     ]
    },
    {
     "name": "stdout",
     "output_type": "stream",
     "text": [
      "CCCC: torch.Size([6163, 1]), torch.Size([6163, 1])\n",
      "batch length: 2\n"
     ]
    },
    {
     "name": "stderr",
     "output_type": "stream",
     "text": [
      " 40%|████      | 53/131 [00:38<00:59,  1.32it/s, avg_rmse_loss=5.51, avg_smape_loss=55.1, avg_val_mae=3.06, batch_nb=51, epoch=3, loss=882.917, v_nb=1]"
     ]
    },
    {
     "name": "stdout",
     "output_type": "stream",
     "text": [
      "CCCC: torch.Size([6163, 1]), torch.Size([6163, 1])\n",
      "batch length: 2\n"
     ]
    }
   ],
   "source": [
    "import imp  \n",
    "import src.models.tgcn.temporal_spatial_model as l\n",
    "import src.models.tgcn.layers.lstmcell as h\n",
    "h = imp.reload(h)\n",
    "\n",
    "l = imp.reload(l)\n",
    "TGCN = l.TGCN\n",
    "model = TGCN(input_dim=29, hidden_dim=29, layer_dim=2, output_dim=1, adjs=(adj, adj1), \n",
    "             datasets=data, targets= target, mask=mask, scaler=scaler)\n",
    "trainer.fit(model)"
   ]
  },
  {
   "cell_type": "code",
   "execution_count": null,
   "metadata": {
    "lines_to_next_cell": 0
   },
   "outputs": [],
   "source": [
    "import imp  \n",
    "import src.tgcn.stgcn as l\n",
    "\n",
    "# PyTorch summarywriter with a few bells and whistles    \n",
    "exp = Experiment(save_dir=\"../data\")\n",
    "\n",
    "# pass in experiment for automatic tensorboard logging.    \n",
    "trainer = Trainer(experiment=exp, max_nb_epochs=30, train_percent_check=1)\n",
    "\n",
    "l = imp.reload(l)\n",
    "STGCN = l.STGCN\n",
    "model2 = STGCN(adj=adj, datasets=data, targets=target, mask=mask, scaler=scaler)\n",
    "trainer.fit(model2)"
   ]
  },
  {
   "cell_type": "code",
   "execution_count": null,
   "metadata": {},
   "outputs": [],
   "source": [
    "import imp  \n",
    "import src.tgcn.layers.lstm as l\n",
    "\n",
    "# PyTorch summarywriter with a few bells and whistles    \n",
    "exp = Experiment(save_dir=\"../data\")\n",
    "\n",
    "# pass in experiment for automatic tensorboard logging.    \n",
    "trainer = Trainer(experiment=exp, max_nb_epochs=30, train_percent_check=1)\n",
    "\n",
    "l = imp.reload(l)\n",
    "LSTMs = l.LSTMs\n",
    "model3 = LSTMs(input_dim=9, datasets=data, targets=target, mask=mask)\n",
    "trainer.fit(model3)"
   ]
  }
 ],
 "metadata": {
  "jupytext": {
   "formats": "ipynb,py:light"
  },
  "kernelspec": {
   "display_name": "Python 3",
   "language": "python",
   "name": "python3"
  },
  "language_info": {
   "codemirror_mode": {
    "name": "ipython",
    "version": 3
   },
   "file_extension": ".py",
   "mimetype": "text/x-python",
   "name": "python",
   "nbconvert_exporter": "python",
   "pygments_lexer": "ipython3",
   "version": "3.7.1"
  }
 },
 "nbformat": 4,
 "nbformat_minor": 2
}
