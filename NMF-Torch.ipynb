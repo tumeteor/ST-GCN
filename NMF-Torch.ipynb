{
 "cells": [
  {
   "cell_type": "code",
   "execution_count": null,
   "metadata": {},
   "outputs": [],
   "source": [
    "import sys\n",
    "sys.path.append('../')\n",
    "from jurbey.jurbey import JURBEY\n",
    "import pandas as pd\n",
    "\n",
    "\n",
    "with open('1558537930325.jurbey', 'rb') as tempf:\n",
    "    g = JURBEY.load(tempf.read())\n",
    "    \n",
    "def populate_graph_with_max_speed(g):\n",
    "    for e in g.edges(data=True):\n",
    "        try:\n",
    "            g[e[0]][e[1]][\"speed\"] = float(g[e[0]][e[1]][\"data\"].metadata.get(\"maxspeed\", 10))\n",
    "        except ValueError:\n",
    "            g[e[0]][e[1]][\"speed\"] = 10\n",
    "    return g\n",
    "\n",
    "g = populate_graph_with_max_speed(g)\n"
   ]
  },
  {
   "cell_type": "code",
   "execution_count": 2,
   "metadata": {},
   "outputs": [
    {
     "name": "stdout",
     "output_type": "stream",
     "text": [
      "       source      target  direction  \\\n",
      "0      433577  2663205463          0   \n",
      "1  2663205463  1478322970          0   \n",
      "2  1478322970  2040106229          0   \n",
      "3      433660  1477659638          0   \n",
      "4  1477659638  1477659644          0   \n",
      "5  1477659644  1477659664          0   \n",
      "6  1477659664      243721          0   \n",
      "7      243721  2040378618          0   \n",
      "8  2040378618  1477659711          0   \n",
      "9  1477659711   429974831          0   \n",
      "\n",
      "                                                data          way  \\\n",
      "0  Arc(arcType=<ArcType.LANE_STRAIGHT: 'LANE_STRA...    [3996690]   \n",
      "1  Arc(arcType=<ArcType.LANE_STRAIGHT: 'LANE_STRA...    [3996690]   \n",
      "2  Arc(arcType=<ArcType.LANE_STRAIGHT: 'LANE_STRA...  [309175327]   \n",
      "3  Arc(arcType=<ArcType.LANE_STRAIGHT: 'LANE_STRA...    [3996691]   \n",
      "4  Arc(arcType=<ArcType.LANE_STRAIGHT: 'LANE_STRA...    [3996691]   \n",
      "5  Arc(arcType=<ArcType.LANE_STRAIGHT: 'LANE_STRA...    [3996691]   \n",
      "6  Arc(arcType=<ArcType.LANE_STRAIGHT: 'LANE_STRA...    [3996691]   \n",
      "7  Arc(arcType=<ArcType.LANE_STRAIGHT: 'LANE_STRA...    [3996691]   \n",
      "8  Arc(arcType=<ArcType.LANE_STRAIGHT: 'LANE_STRA...    [3996691]   \n",
      "9  Arc(arcType=<ArcType.LANE_STRAIGHT: 'LANE_STRA...    [3996691]   \n",
      "\n",
      "  vehicleAccessibility  rate  speed  \n",
      "0    [VehicleType.All]     1  100.0  \n",
      "1    [VehicleType.All]     1  100.0  \n",
      "2    [VehicleType.All]     1  100.0  \n",
      "3    [VehicleType.All]     1  100.0  \n",
      "4    [VehicleType.All]     1  100.0  \n",
      "5    [VehicleType.All]     1  100.0  \n",
      "6    [VehicleType.All]     1  100.0  \n",
      "7    [VehicleType.All]     1  100.0  \n",
      "8    [VehicleType.All]     1  100.0  \n",
      "9    [VehicleType.All]     1  100.0  \n"
     ]
    }
   ],
   "source": [
    "import networkx as nx\n",
    "df = nx.to_pandas_edgelist(g)\n",
    "print(df[0:10])"
   ]
  },
  {
   "cell_type": "code",
   "execution_count": 3,
   "metadata": {},
   "outputs": [],
   "source": [
    "df = df[['source', 'target', 'speed']]\n",
    "df.rename(columns={'speed': 'weight'})\n",
    "df = df[0:100]"
   ]
  },
  {
   "cell_type": "code",
   "execution_count": null,
   "metadata": {},
   "outputs": [],
   "source": [
    "from src.nmf.fast_nmf import train_nmf\n",
    "from fastai.tabular import data, optim\n",
    "\n",
    "train_nmf(dataset=df)"
   ]
  },
  {
   "cell_type": "code",
   "execution_count": null,
   "metadata": {},
   "outputs": [],
   "source": []
  },
  {
   "cell_type": "code",
   "execution_count": null,
   "metadata": {},
   "outputs": [],
   "source": []
  }
 ],
 "metadata": {
  "kernelspec": {
   "display_name": "Python 3",
   "language": "python",
   "name": "python3"
  },
  "language_info": {
   "codemirror_mode": {
    "name": "ipython",
    "version": 3
   },
   "file_extension": ".py",
   "mimetype": "text/x-python",
   "name": "python",
   "nbconvert_exporter": "python",
   "pygments_lexer": "ipython3",
   "version": "3.7.1"
  }
 },
 "nbformat": 4,
 "nbformat_minor": 2
}
